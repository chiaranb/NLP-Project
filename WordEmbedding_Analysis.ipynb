{
 "cells": [
  {
   "cell_type": "markdown",
   "id": "bad0c617",
   "metadata": {},
   "source": [
    "## Word Embedding Analysis"
   ]
  },
  {
   "cell_type": "markdown",
   "id": "471ed18e",
   "metadata": {},
   "source": [
    "In this section, we explore several approaches to generate word embeddings for the textual data in our dataset: both problem descriptions and code solutions.   \n",
    "Our goal is to obtain richer and more informative representations of each document.\n",
    "\n",
    "We proceed in the following steps:\n",
    "- Train Word Embedding Models: we begin by training traditional word embedding models such as Word2Vec and FastText on our dataset.   \n",
    "\n",
    "- Aggregate Word Embeddings into Document Representations: after obtaining the word embeddings, we compute document-level embeddings (for both descriptions and solutions) by aggregating the individual word vectors.  "
   ]
  },
  {
   "cell_type": "markdown",
   "id": "102d22a6",
   "metadata": {},
   "source": [
    "### Initialization"
   ]
  },
  {
   "cell_type": "markdown",
   "id": "282351bc",
   "metadata": {},
   "source": [
    "In this first step, we load the cleaned dataset and recall the structure of our problem descriptions.\n",
    "Each description may contain multiple sentences, and we aim to extract all of them to build a comprehensive corpus of individual sentences.\n",
    "\n",
    "\n",
    "This cell will download the problem_and_human_solutions_list.jsonl file from the Hugging Face Hub.  \n",
    "The dataset file contains problem descriptions and human solutions."
   ]
  },
  {
   "cell_type": "code",
   "execution_count": null,
   "id": "b8e29850",
   "metadata": {},
   "outputs": [
    {
     "name": "stderr",
     "output_type": "stream",
     "text": [
      "c:\\Users\\utente\\AppData\\Local\\Programs\\Python\\Python312\\Lib\\site-packages\\tqdm\\auto.py:21: TqdmWarning: IProgress not found. Please update jupyter and ipywidgets. See https://ipywidgets.readthedocs.io/en/stable/user_install.html\n",
      "  from .autonotebook import tqdm as notebook_tqdm\n"
     ]
    }
   ],
   "source": [
    "from huggingface_hub import hf_hub_download\n",
    "\n",
    "file_path_1 = hf_hub_download(\n",
    "    repo_id=\"facebook/BigOBench\", # Repository containing the dataset\n",
    "    filename=\"data/problem_and_human_solutions_list.jsonl\", # File of interest\n",
    "    repo_type=\"dataset\"  # Specifies this is a dataset repository\n",
    ")"
   ]
  },
  {
   "cell_type": "markdown",
   "id": "c12f6e7a",
   "metadata": {},
   "source": [
    "We parse the .jsonl file line by line (in order to avoid problems with RAM)."
   ]
  },
  {
   "cell_type": "code",
   "execution_count": 2,
   "id": "807012c3",
   "metadata": {},
   "outputs": [
    {
     "name": "stdout",
     "output_type": "stream",
     "text": [
      "Number of rows 3105\n"
     ]
    }
   ],
   "source": [
    "import json\n",
    " \n",
    "df_problem_and_human_solutions_list = []\n",
    "with open(file_path_1, \"r\", encoding=\"utf-8\") as f:\n",
    "    for line in f:\n",
    "        try:\n",
    "            df_problem_and_human_solutions_list.append(json.loads(line))\n",
    "        except json.JSONDecodeError as e:\n",
    "            print(\"Erorr JSON:\", e)\n",
    " \n",
    "print(\"Number of rows\", len(df_problem_and_human_solutions_list))"
   ]
  },
  {
   "cell_type": "markdown",
   "id": "3f611f62",
   "metadata": {},
   "source": [
    "Convert the list of dictionaries into a DataFrame showing some rows."
   ]
  },
  {
   "cell_type": "code",
   "execution_count": null,
   "id": "5ff14be8",
   "metadata": {},
   "outputs": [
    {
     "data": {
      "text/html": [
       "<div>\n",
       "<style scoped>\n",
       "    .dataframe tbody tr th:only-of-type {\n",
       "        vertical-align: middle;\n",
       "    }\n",
       "\n",
       "    .dataframe tbody tr th {\n",
       "        vertical-align: top;\n",
       "    }\n",
       "\n",
       "    .dataframe thead th {\n",
       "        text-align: right;\n",
       "    }\n",
       "</style>\n",
       "<table border=\"1\" class=\"dataframe\">\n",
       "  <thead>\n",
       "    <tr style=\"text-align: right;\">\n",
       "      <th></th>\n",
       "      <th>problem_id</th>\n",
       "      <th>problem_name</th>\n",
       "      <th>description</th>\n",
       "      <th>correct_solution_list</th>\n",
       "      <th>data_source</th>\n",
       "      <th>source_specific_limits</th>\n",
       "      <th>codeforces_specific_metadata</th>\n",
       "      <th>tests</th>\n",
       "      <th>human_accuracy_rate</th>\n",
       "      <th>dataclass</th>\n",
       "      <th>complexity_framework</th>\n",
       "    </tr>\n",
       "  </thead>\n",
       "  <tbody>\n",
       "    <tr>\n",
       "      <th>0</th>\n",
       "      <td>0</td>\n",
       "      <td>339_C. Xenia and Weights</td>\n",
       "      <td>{'text': 'Xenia has a set of weights and pan s...</td>\n",
       "      <td>[{'solution_id': '0_0', 'solution_code': '__au...</td>\n",
       "      <td>CODEFORCES</td>\n",
       "      <td>{'time_limit': {'seconds': 2, 'nanos': 0}, 'me...</td>\n",
       "      <td>{'cf_contest_id': 339, 'cf_index': 'C', 'cf_po...</td>\n",
       "      <td>{'public_tests': [{'input': '0000000101\n",
       "3\n",
       "', '...</td>\n",
       "      <td>0.281633</td>\n",
       "      <td>{'dataclass_code': 'import sys\n",
       "import time\n",
       "imp...</td>\n",
       "      <td>{'time_complexity_fail_rate': 0.40579710144927...</td>\n",
       "    </tr>\n",
       "    <tr>\n",
       "      <th>1</th>\n",
       "      <td>1</td>\n",
       "      <td>1547_E. Air Conditioners</td>\n",
       "      <td>{'text': 'On a strip of land of length n there...</td>\n",
       "      <td>[{'solution_id': '1_0', 'solution_code': 'def ...</td>\n",
       "      <td>CODEFORCES</td>\n",
       "      <td>{'time_limit': {'seconds': 2, 'nanos': 0}, 'me...</td>\n",
       "      <td>{'cf_contest_id': 1547, 'cf_index': 'E', 'cf_p...</td>\n",
       "      <td>{'public_tests': [{'input': '5\n",
       "\n",
       "6 2\n",
       "2 5\n",
       "14 16\n",
       "...</td>\n",
       "      <td>0.620833</td>\n",
       "      <td>{'dataclass_code': 'import sys\n",
       "import time\n",
       "imp...</td>\n",
       "      <td>{'time_complexity_fail_rate': 0.11409395973154...</td>\n",
       "    </tr>\n",
       "    <tr>\n",
       "      <th>2</th>\n",
       "      <td>2</td>\n",
       "      <td>268_C. Beautiful Sets of Points</td>\n",
       "      <td>{'text': 'Manao has invented a new mathematica...</td>\n",
       "      <td>[{'solution_id': '2_0', 'solution_code': 'if _...</td>\n",
       "      <td>CODEFORCES</td>\n",
       "      <td>{'time_limit': {'seconds': 1, 'nanos': 0}, 'me...</td>\n",
       "      <td>{'cf_contest_id': 268, 'cf_index': 'C', 'cf_po...</td>\n",
       "      <td>{'public_tests': [{'input': '2 2\n",
       "', 'output': ...</td>\n",
       "      <td>0.525066</td>\n",
       "      <td>{'dataclass_code': 'import sys\n",
       "import time\n",
       "imp...</td>\n",
       "      <td>{'time_complexity_fail_rate': 0.05527638190954...</td>\n",
       "    </tr>\n",
       "    <tr>\n",
       "      <th>3</th>\n",
       "      <td>3</td>\n",
       "      <td>478_C. Table Decorations</td>\n",
       "      <td>{'text': 'You have r red, g green and b blue b...</td>\n",
       "      <td>[{'solution_id': '3_0', 'solution_code': 'a = ...</td>\n",
       "      <td>CODEFORCES</td>\n",
       "      <td>{'time_limit': {'seconds': 1, 'nanos': 0}, 'me...</td>\n",
       "      <td>{'cf_contest_id': 478, 'cf_index': 'C', 'cf_po...</td>\n",
       "      <td>{'public_tests': [{'input': '1 1 1\n",
       "', 'output'...</td>\n",
       "      <td>0.562264</td>\n",
       "      <td>{'dataclass_code': 'import sys\n",
       "import time\n",
       "imp...</td>\n",
       "      <td>{'time_complexity_fail_rate': 0.41610738255033...</td>\n",
       "    </tr>\n",
       "    <tr>\n",
       "      <th>4</th>\n",
       "      <td>4</td>\n",
       "      <td>5_C. Longest Regular Bracket Sequence</td>\n",
       "      <td>{'text': 'This is yet another problem dealing ...</td>\n",
       "      <td>[{'solution_id': '4_0', 'solution_code': 'stri...</td>\n",
       "      <td>CODEFORCES</td>\n",
       "      <td>{'time_limit': {'seconds': 2, 'nanos': 0}, 'me...</td>\n",
       "      <td>{'cf_contest_id': 5, 'cf_index': 'C', 'cf_poin...</td>\n",
       "      <td>{'public_tests': [{'input': ')((())))(()())\n",
       "',...</td>\n",
       "      <td>0.395939</td>\n",
       "      <td>{'dataclass_code': 'import sys\n",
       "import time\n",
       "imp...</td>\n",
       "      <td>{'time_complexity_fail_rate': 0.03846153846153...</td>\n",
       "    </tr>\n",
       "  </tbody>\n",
       "</table>\n",
       "</div>"
      ],
      "text/plain": [
       "  problem_id                           problem_name  \\\n",
       "0          0               339_C. Xenia and Weights   \n",
       "1          1               1547_E. Air Conditioners   \n",
       "2          2        268_C. Beautiful Sets of Points   \n",
       "3          3               478_C. Table Decorations   \n",
       "4          4  5_C. Longest Regular Bracket Sequence   \n",
       "\n",
       "                                         description  \\\n",
       "0  {'text': 'Xenia has a set of weights and pan s...   \n",
       "1  {'text': 'On a strip of land of length n there...   \n",
       "2  {'text': 'Manao has invented a new mathematica...   \n",
       "3  {'text': 'You have r red, g green and b blue b...   \n",
       "4  {'text': 'This is yet another problem dealing ...   \n",
       "\n",
       "                               correct_solution_list data_source  \\\n",
       "0  [{'solution_id': '0_0', 'solution_code': '__au...  CODEFORCES   \n",
       "1  [{'solution_id': '1_0', 'solution_code': 'def ...  CODEFORCES   \n",
       "2  [{'solution_id': '2_0', 'solution_code': 'if _...  CODEFORCES   \n",
       "3  [{'solution_id': '3_0', 'solution_code': 'a = ...  CODEFORCES   \n",
       "4  [{'solution_id': '4_0', 'solution_code': 'stri...  CODEFORCES   \n",
       "\n",
       "                              source_specific_limits  \\\n",
       "0  {'time_limit': {'seconds': 2, 'nanos': 0}, 'me...   \n",
       "1  {'time_limit': {'seconds': 2, 'nanos': 0}, 'me...   \n",
       "2  {'time_limit': {'seconds': 1, 'nanos': 0}, 'me...   \n",
       "3  {'time_limit': {'seconds': 1, 'nanos': 0}, 'me...   \n",
       "4  {'time_limit': {'seconds': 2, 'nanos': 0}, 'me...   \n",
       "\n",
       "                        codeforces_specific_metadata  \\\n",
       "0  {'cf_contest_id': 339, 'cf_index': 'C', 'cf_po...   \n",
       "1  {'cf_contest_id': 1547, 'cf_index': 'E', 'cf_p...   \n",
       "2  {'cf_contest_id': 268, 'cf_index': 'C', 'cf_po...   \n",
       "3  {'cf_contest_id': 478, 'cf_index': 'C', 'cf_po...   \n",
       "4  {'cf_contest_id': 5, 'cf_index': 'C', 'cf_poin...   \n",
       "\n",
       "                                               tests  human_accuracy_rate  \\\n",
       "0  {'public_tests': [{'input': '0000000101\n",
       "3\n",
       "', '...             0.281633   \n",
       "1  {'public_tests': [{'input': '5\n",
       "\n",
       "6 2\n",
       "2 5\n",
       "14 16\n",
       "...             0.620833   \n",
       "2  {'public_tests': [{'input': '2 2\n",
       "', 'output': ...             0.525066   \n",
       "3  {'public_tests': [{'input': '1 1 1\n",
       "', 'output'...             0.562264   \n",
       "4  {'public_tests': [{'input': ')((())))(()())\n",
       "',...             0.395939   \n",
       "\n",
       "                                           dataclass  \\\n",
       "0  {'dataclass_code': 'import sys\n",
       "import time\n",
       "imp...   \n",
       "1  {'dataclass_code': 'import sys\n",
       "import time\n",
       "imp...   \n",
       "2  {'dataclass_code': 'import sys\n",
       "import time\n",
       "imp...   \n",
       "3  {'dataclass_code': 'import sys\n",
       "import time\n",
       "imp...   \n",
       "4  {'dataclass_code': 'import sys\n",
       "import time\n",
       "imp...   \n",
       "\n",
       "                                complexity_framework  \n",
       "0  {'time_complexity_fail_rate': 0.40579710144927...  \n",
       "1  {'time_complexity_fail_rate': 0.11409395973154...  \n",
       "2  {'time_complexity_fail_rate': 0.05527638190954...  \n",
       "3  {'time_complexity_fail_rate': 0.41610738255033...  \n",
       "4  {'time_complexity_fail_rate': 0.03846153846153...  "
      ]
     },
     "execution_count": 3,
     "metadata": {},
     "output_type": "execute_result"
    }
   ],
   "source": [
    "import pandas as pd\n",
    "df_problem_and_human_solutions_list = pd.DataFrame(df_problem_and_human_solutions_list)\n",
    "df_problem_and_human_solutions_list.head()"
   ]
  },
  {
   "cell_type": "markdown",
   "id": "a8b3c1c7",
   "metadata": {},
   "source": [
    "Download the second file containing light version of complexity labels.   \n",
    "We will use it later when we will need the code complexities"
   ]
  },
  {
   "cell_type": "code",
   "execution_count": 41,
   "id": "49d3e2c4",
   "metadata": {},
   "outputs": [],
   "source": [
    "file_path_2 = hf_hub_download(\n",
    "    repo_id=\"facebook/BigOBench\",\n",
    "    filename=\"data/complexity_labels_light.jsonl\",\n",
    "    repo_type=\"dataset\"\n",
    ")"
   ]
  },
  {
   "cell_type": "markdown",
   "id": "b27b3d40",
   "metadata": {},
   "source": [
    "Parse the complexity labels file as before line by line."
   ]
  },
  {
   "cell_type": "code",
   "execution_count": 42,
   "id": "304c47ff",
   "metadata": {},
   "outputs": [
    {
     "name": "stdout",
     "output_type": "stream",
     "text": [
      "Number of rows 1190250\n"
     ]
    }
   ],
   "source": [
    "import json\n",
    " \n",
    "df_complexity_labels_light = []\n",
    "with open(file_path_2, \"r\", encoding=\"utf-8\") as f:\n",
    "    for line in f:\n",
    "        try:\n",
    "            df_complexity_labels_light.append(json.loads(line))\n",
    "        except json.JSONDecodeError as e:\n",
    "            print(\"Erorr JSON:\", e)\n",
    " \n",
    "print(\"Number of rows\", len(df_complexity_labels_light))"
   ]
  },
  {
   "cell_type": "markdown",
   "id": "2072f4be",
   "metadata": {},
   "source": [
    "Convert label list to DataFrame showing some rows."
   ]
  },
  {
   "cell_type": "code",
   "execution_count": 43,
   "id": "5392bfb6",
   "metadata": {},
   "outputs": [
    {
     "data": {
      "text/html": [
       "<div>\n",
       "<style scoped>\n",
       "    .dataframe tbody tr th:only-of-type {\n",
       "        vertical-align: middle;\n",
       "    }\n",
       "\n",
       "    .dataframe tbody tr th {\n",
       "        vertical-align: top;\n",
       "    }\n",
       "\n",
       "    .dataframe thead th {\n",
       "        text-align: right;\n",
       "    }\n",
       "</style>\n",
       "<table border=\"1\" class=\"dataframe\">\n",
       "  <thead>\n",
       "    <tr style=\"text-align: right;\">\n",
       "      <th></th>\n",
       "      <th>problem_id</th>\n",
       "      <th>problem_name</th>\n",
       "      <th>solution_id</th>\n",
       "      <th>time_complexity_inferred</th>\n",
       "      <th>space_complexity_inferred</th>\n",
       "      <th>time_curve_coefficient</th>\n",
       "      <th>space_curve_coefficient</th>\n",
       "    </tr>\n",
       "  </thead>\n",
       "  <tbody>\n",
       "    <tr>\n",
       "      <th>0</th>\n",
       "      <td>0</td>\n",
       "      <td>339_C. Xenia and Weights</td>\n",
       "      <td>0_0</td>\n",
       "      <td>O(1)</td>\n",
       "      <td>O(n**2)</td>\n",
       "      <td>0.000019</td>\n",
       "      <td>0.012433</td>\n",
       "    </tr>\n",
       "    <tr>\n",
       "      <th>1</th>\n",
       "      <td>0</td>\n",
       "      <td>339_C. Xenia and Weights</td>\n",
       "      <td>0_1</td>\n",
       "      <td>None</td>\n",
       "      <td>None</td>\n",
       "      <td>NaN</td>\n",
       "      <td>NaN</td>\n",
       "    </tr>\n",
       "    <tr>\n",
       "      <th>2</th>\n",
       "      <td>0</td>\n",
       "      <td>339_C. Xenia and Weights</td>\n",
       "      <td>0_2</td>\n",
       "      <td>O(1)</td>\n",
       "      <td>O(1)</td>\n",
       "      <td>0.000004</td>\n",
       "      <td>584.000000</td>\n",
       "    </tr>\n",
       "    <tr>\n",
       "      <th>3</th>\n",
       "      <td>0</td>\n",
       "      <td>339_C. Xenia and Weights</td>\n",
       "      <td>0_3</td>\n",
       "      <td>None</td>\n",
       "      <td>None</td>\n",
       "      <td>NaN</td>\n",
       "      <td>NaN</td>\n",
       "    </tr>\n",
       "    <tr>\n",
       "      <th>4</th>\n",
       "      <td>0</td>\n",
       "      <td>339_C. Xenia and Weights</td>\n",
       "      <td>0_4</td>\n",
       "      <td>O(1)</td>\n",
       "      <td>O(1)</td>\n",
       "      <td>0.000013</td>\n",
       "      <td>323.000000</td>\n",
       "    </tr>\n",
       "  </tbody>\n",
       "</table>\n",
       "</div>"
      ],
      "text/plain": [
       "  problem_id              problem_name solution_id time_complexity_inferred  \\\n",
       "0          0  339_C. Xenia and Weights         0_0                     O(1)   \n",
       "1          0  339_C. Xenia and Weights         0_1                     None   \n",
       "2          0  339_C. Xenia and Weights         0_2                     O(1)   \n",
       "3          0  339_C. Xenia and Weights         0_3                     None   \n",
       "4          0  339_C. Xenia and Weights         0_4                     O(1)   \n",
       "\n",
       "  space_complexity_inferred  time_curve_coefficient  space_curve_coefficient  \n",
       "0                   O(n**2)                0.000019                 0.012433  \n",
       "1                      None                     NaN                      NaN  \n",
       "2                      O(1)                0.000004               584.000000  \n",
       "3                      None                     NaN                      NaN  \n",
       "4                      O(1)                0.000013               323.000000  "
      ]
     },
     "execution_count": 43,
     "metadata": {},
     "output_type": "execute_result"
    }
   ],
   "source": [
    "import pandas as pd\n",
    "df_complexity_labels_light_we = pd.DataFrame(df_complexity_labels_light)\n",
    "df_complexity_labels_light_we.head()"
   ]
  },
  {
   "cell_type": "code",
   "execution_count": null,
   "id": "3e91b36b",
   "metadata": {},
   "outputs": [
    {
     "name": "stderr",
     "output_type": "stream",
     "text": [
      "[nltk_data] Downloading package stopwords to\n",
      "[nltk_data]     C:\\Users\\utente\\AppData\\Roaming\\nltk_data...\n",
      "[nltk_data]   Package stopwords is already up-to-date!\n"
     ]
    }
   ],
   "source": [
    "# Importing necessary libraries\n",
    "import matplotlib.pyplot as plt\n",
    "plt.style.use('ggplot')\n",
    "import string\n",
    "import re\n",
    "import seaborn as sns\n",
    "import pandas as pd\n",
    "import numpy as np\n",
    "import collections\n",
    "from wordcloud import WordCloud\n",
    "import nltk\n",
    "nltk.download('stopwords')\n",
    "from nltk.corpus import stopwords\n",
    "from nltk.util import ngrams\n",
    "from nltk import FreqDist\n",
    "\n",
    "regex_punctuation = '[' + string.punctuation + ']'"
   ]
  },
  {
   "cell_type": "markdown",
   "id": "6ad2e137",
   "metadata": {},
   "source": [
    "As we have already seen there are some problems that have their description in other languages, just remove them."
   ]
  },
  {
   "cell_type": "code",
   "execution_count": null,
   "id": "950eb503",
   "metadata": {},
   "outputs": [
    {
     "name": "stdout",
     "output_type": "stream",
     "text": [
      "Number of rows where description['is_description_translated'] is True: 29\n"
     ]
    }
   ],
   "source": [
    "import json\n",
    "# If the 'description' column contains JSON strings, decode them into Python dictionaries\n",
    "if isinstance(df_problem_and_human_solutions_list['description'].iloc[0], str):\n",
    "    df_problem_and_human_solutions_list['description'] = df_problem_and_human_solutions_list['description'].apply(json.loads)\n",
    "\n",
    "# Filter rows where the description has been marked as translated\n",
    "filtered_df = df_problem_and_human_solutions_list[df_problem_and_human_solutions_list['description'].apply(\n",
    "    lambda x: isinstance(x, dict) and x.get('is_description_translated') is True\n",
    ")]\n",
    "\n",
    "print(f\"Number of rows where description['is_description_translated'] is True: {len(filtered_df)}\")"
   ]
  },
  {
   "cell_type": "code",
   "execution_count": 7,
   "id": "92e4271e",
   "metadata": {},
   "outputs": [],
   "source": [
    "# Remove from description is_description_translated and untranslated_text\n",
    "def remove_untranslated_text(description):\n",
    "    if isinstance(description, dict):\n",
    "        description.pop('is_description_translated', None)\n",
    "        description.pop('untranslated_text', None)\n",
    "    return description\n",
    "\n",
    "df_problem_and_human_solutions_list['description'] = df_problem_and_human_solutions_list['description'].apply(remove_untranslated_text)"
   ]
  },
  {
   "cell_type": "markdown",
   "id": "c86ac6d2",
   "metadata": {},
   "source": [
    "Remove dict in description and keep only the text"
   ]
  },
  {
   "cell_type": "code",
   "execution_count": null,
   "id": "0f3a6ac2",
   "metadata": {},
   "outputs": [],
   "source": [
    "def extract_text_from_description(description):\n",
    "    if isinstance(description, dict):\n",
    "        return description.get('text', '')\n",
    "    return description\n",
    "\n",
    "df_problem_and_human_solutions_list['description'] = df_problem_and_human_solutions_list['description'].apply(extract_text_from_description)"
   ]
  },
  {
   "cell_type": "code",
   "execution_count": null,
   "id": "f40622dd",
   "metadata": {},
   "outputs": [
    {
     "data": {
      "text/html": [
       "<div>\n",
       "<style scoped>\n",
       "    .dataframe tbody tr th:only-of-type {\n",
       "        vertical-align: middle;\n",
       "    }\n",
       "\n",
       "    .dataframe tbody tr th {\n",
       "        vertical-align: top;\n",
       "    }\n",
       "\n",
       "    .dataframe thead th {\n",
       "        text-align: right;\n",
       "    }\n",
       "</style>\n",
       "<table border=\"1\" class=\"dataframe\">\n",
       "  <thead>\n",
       "    <tr style=\"text-align: right;\">\n",
       "      <th></th>\n",
       "      <th>problem_id</th>\n",
       "      <th>problem_name</th>\n",
       "      <th>description</th>\n",
       "      <th>correct_solution_list</th>\n",
       "      <th>data_source</th>\n",
       "      <th>source_specific_limits</th>\n",
       "      <th>codeforces_specific_metadata</th>\n",
       "      <th>tests</th>\n",
       "      <th>human_accuracy_rate</th>\n",
       "      <th>dataclass</th>\n",
       "      <th>complexity_framework</th>\n",
       "    </tr>\n",
       "  </thead>\n",
       "  <tbody>\n",
       "    <tr>\n",
       "      <th>0</th>\n",
       "      <td>0</td>\n",
       "      <td>339_C. Xenia and Weights</td>\n",
       "      <td>Xenia has a set of weights and pan scales. Eac...</td>\n",
       "      <td>[{'solution_id': '0_0', 'solution_code': '__au...</td>\n",
       "      <td>CODEFORCES</td>\n",
       "      <td>{'time_limit': {'seconds': 2, 'nanos': 0}, 'me...</td>\n",
       "      <td>{'cf_contest_id': 339, 'cf_index': 'C', 'cf_po...</td>\n",
       "      <td>{'public_tests': [{'input': '0000000101\n",
       "3\n",
       "', '...</td>\n",
       "      <td>0.281633</td>\n",
       "      <td>{'dataclass_code': 'import sys\n",
       "import time\n",
       "imp...</td>\n",
       "      <td>{'time_complexity_fail_rate': 0.40579710144927...</td>\n",
       "    </tr>\n",
       "    <tr>\n",
       "      <th>1</th>\n",
       "      <td>1</td>\n",
       "      <td>1547_E. Air Conditioners</td>\n",
       "      <td>On a strip of land of length n there are k air...</td>\n",
       "      <td>[{'solution_id': '1_0', 'solution_code': 'def ...</td>\n",
       "      <td>CODEFORCES</td>\n",
       "      <td>{'time_limit': {'seconds': 2, 'nanos': 0}, 'me...</td>\n",
       "      <td>{'cf_contest_id': 1547, 'cf_index': 'E', 'cf_p...</td>\n",
       "      <td>{'public_tests': [{'input': '5\n",
       "\n",
       "6 2\n",
       "2 5\n",
       "14 16\n",
       "...</td>\n",
       "      <td>0.620833</td>\n",
       "      <td>{'dataclass_code': 'import sys\n",
       "import time\n",
       "imp...</td>\n",
       "      <td>{'time_complexity_fail_rate': 0.11409395973154...</td>\n",
       "    </tr>\n",
       "    <tr>\n",
       "      <th>2</th>\n",
       "      <td>2</td>\n",
       "      <td>268_C. Beautiful Sets of Points</td>\n",
       "      <td>Manao has invented a new mathematical term — a...</td>\n",
       "      <td>[{'solution_id': '2_0', 'solution_code': 'if _...</td>\n",
       "      <td>CODEFORCES</td>\n",
       "      <td>{'time_limit': {'seconds': 1, 'nanos': 0}, 'me...</td>\n",
       "      <td>{'cf_contest_id': 268, 'cf_index': 'C', 'cf_po...</td>\n",
       "      <td>{'public_tests': [{'input': '2 2\n",
       "', 'output': ...</td>\n",
       "      <td>0.525066</td>\n",
       "      <td>{'dataclass_code': 'import sys\n",
       "import time\n",
       "imp...</td>\n",
       "      <td>{'time_complexity_fail_rate': 0.05527638190954...</td>\n",
       "    </tr>\n",
       "    <tr>\n",
       "      <th>3</th>\n",
       "      <td>3</td>\n",
       "      <td>478_C. Table Decorations</td>\n",
       "      <td>You have r red, g green and b blue balloons. T...</td>\n",
       "      <td>[{'solution_id': '3_0', 'solution_code': 'a = ...</td>\n",
       "      <td>CODEFORCES</td>\n",
       "      <td>{'time_limit': {'seconds': 1, 'nanos': 0}, 'me...</td>\n",
       "      <td>{'cf_contest_id': 478, 'cf_index': 'C', 'cf_po...</td>\n",
       "      <td>{'public_tests': [{'input': '1 1 1\n",
       "', 'output'...</td>\n",
       "      <td>0.562264</td>\n",
       "      <td>{'dataclass_code': 'import sys\n",
       "import time\n",
       "imp...</td>\n",
       "      <td>{'time_complexity_fail_rate': 0.41610738255033...</td>\n",
       "    </tr>\n",
       "    <tr>\n",
       "      <th>4</th>\n",
       "      <td>4</td>\n",
       "      <td>5_C. Longest Regular Bracket Sequence</td>\n",
       "      <td>This is yet another problem dealing with regul...</td>\n",
       "      <td>[{'solution_id': '4_0', 'solution_code': 'stri...</td>\n",
       "      <td>CODEFORCES</td>\n",
       "      <td>{'time_limit': {'seconds': 2, 'nanos': 0}, 'me...</td>\n",
       "      <td>{'cf_contest_id': 5, 'cf_index': 'C', 'cf_poin...</td>\n",
       "      <td>{'public_tests': [{'input': ')((())))(()())\n",
       "',...</td>\n",
       "      <td>0.395939</td>\n",
       "      <td>{'dataclass_code': 'import sys\n",
       "import time\n",
       "imp...</td>\n",
       "      <td>{'time_complexity_fail_rate': 0.03846153846153...</td>\n",
       "    </tr>\n",
       "  </tbody>\n",
       "</table>\n",
       "</div>"
      ],
      "text/plain": [
       "  problem_id                           problem_name  \\\n",
       "0          0               339_C. Xenia and Weights   \n",
       "1          1               1547_E. Air Conditioners   \n",
       "2          2        268_C. Beautiful Sets of Points   \n",
       "3          3               478_C. Table Decorations   \n",
       "4          4  5_C. Longest Regular Bracket Sequence   \n",
       "\n",
       "                                         description  \\\n",
       "0  Xenia has a set of weights and pan scales. Eac...   \n",
       "1  On a strip of land of length n there are k air...   \n",
       "2  Manao has invented a new mathematical term — a...   \n",
       "3  You have r red, g green and b blue balloons. T...   \n",
       "4  This is yet another problem dealing with regul...   \n",
       "\n",
       "                               correct_solution_list data_source  \\\n",
       "0  [{'solution_id': '0_0', 'solution_code': '__au...  CODEFORCES   \n",
       "1  [{'solution_id': '1_0', 'solution_code': 'def ...  CODEFORCES   \n",
       "2  [{'solution_id': '2_0', 'solution_code': 'if _...  CODEFORCES   \n",
       "3  [{'solution_id': '3_0', 'solution_code': 'a = ...  CODEFORCES   \n",
       "4  [{'solution_id': '4_0', 'solution_code': 'stri...  CODEFORCES   \n",
       "\n",
       "                              source_specific_limits  \\\n",
       "0  {'time_limit': {'seconds': 2, 'nanos': 0}, 'me...   \n",
       "1  {'time_limit': {'seconds': 2, 'nanos': 0}, 'me...   \n",
       "2  {'time_limit': {'seconds': 1, 'nanos': 0}, 'me...   \n",
       "3  {'time_limit': {'seconds': 1, 'nanos': 0}, 'me...   \n",
       "4  {'time_limit': {'seconds': 2, 'nanos': 0}, 'me...   \n",
       "\n",
       "                        codeforces_specific_metadata  \\\n",
       "0  {'cf_contest_id': 339, 'cf_index': 'C', 'cf_po...   \n",
       "1  {'cf_contest_id': 1547, 'cf_index': 'E', 'cf_p...   \n",
       "2  {'cf_contest_id': 268, 'cf_index': 'C', 'cf_po...   \n",
       "3  {'cf_contest_id': 478, 'cf_index': 'C', 'cf_po...   \n",
       "4  {'cf_contest_id': 5, 'cf_index': 'C', 'cf_poin...   \n",
       "\n",
       "                                               tests  human_accuracy_rate  \\\n",
       "0  {'public_tests': [{'input': '0000000101\n",
       "3\n",
       "', '...             0.281633   \n",
       "1  {'public_tests': [{'input': '5\n",
       "\n",
       "6 2\n",
       "2 5\n",
       "14 16\n",
       "...             0.620833   \n",
       "2  {'public_tests': [{'input': '2 2\n",
       "', 'output': ...             0.525066   \n",
       "3  {'public_tests': [{'input': '1 1 1\n",
       "', 'output'...             0.562264   \n",
       "4  {'public_tests': [{'input': ')((())))(()())\n",
       "',...             0.395939   \n",
       "\n",
       "                                           dataclass  \\\n",
       "0  {'dataclass_code': 'import sys\n",
       "import time\n",
       "imp...   \n",
       "1  {'dataclass_code': 'import sys\n",
       "import time\n",
       "imp...   \n",
       "2  {'dataclass_code': 'import sys\n",
       "import time\n",
       "imp...   \n",
       "3  {'dataclass_code': 'import sys\n",
       "import time\n",
       "imp...   \n",
       "4  {'dataclass_code': 'import sys\n",
       "import time\n",
       "imp...   \n",
       "\n",
       "                                complexity_framework  \n",
       "0  {'time_complexity_fail_rate': 0.40579710144927...  \n",
       "1  {'time_complexity_fail_rate': 0.11409395973154...  \n",
       "2  {'time_complexity_fail_rate': 0.05527638190954...  \n",
       "3  {'time_complexity_fail_rate': 0.41610738255033...  \n",
       "4  {'time_complexity_fail_rate': 0.03846153846153...  "
      ]
     },
     "execution_count": 9,
     "metadata": {},
     "output_type": "execute_result"
    }
   ],
   "source": [
    "# Visualize last changes in the dataset\n",
    "df_problem_and_human_solutions_list.head()"
   ]
  },
  {
   "cell_type": "markdown",
   "id": "0e4a7c7e",
   "metadata": {},
   "source": [
    "In this steps, we prepare the text data for word embedding training, by extracting and splitting the problem descriptions into individual sentences.\n",
    "\n",
    "Specifically, we:\n",
    "- Create a copy of the DataFrame to work with.\n",
    "- Extract the translated and cleaned description texts."
   ]
  },
  {
   "cell_type": "code",
   "execution_count": null,
   "id": "d7e6d9df",
   "metadata": {},
   "outputs": [
    {
     "name": "stdout",
     "output_type": "stream",
     "text": [
      "0    Xenia has a set of weights and pan scales. Eac...\n",
      "1    On a strip of land of length n there are k air...\n",
      "2    Manao has invented a new mathematical term — a...\n",
      "3    You have r red, g green and b blue balloons. T...\n",
      "4    This is yet another problem dealing with regul...\n",
      "5    Consider the infinite sequence of integers: 1,...\n",
      "6    Let's introduce a number system which is based...\n",
      "7    A few years ago Sajjad left his school and reg...\n",
      "8    Polycarp likes to play with numbers. He takes ...\n",
      "9    There are N people standing in a queue from we...\n",
      "Name: description, dtype: object\n"
     ]
    }
   ],
   "source": [
    "df_problem_and_human_solutions_list_we = df_problem_and_human_solutions_list.copy()\n",
    "descriptions= df_problem_and_human_solutions_list_we['description'].dropna()\n",
    "\n",
    "# Print the first 10 descriptions to have a look at the data\n",
    "print(\"First 10 descriptions:\")\n",
    "print(descriptions[0:10])"
   ]
  },
  {
   "cell_type": "markdown",
   "id": "7b4b049e",
   "metadata": {},
   "source": [
    "- Remove newline characters and split the text into sentences based on punctuation using regular expressions."
   ]
  },
  {
   "cell_type": "code",
   "execution_count": null,
   "id": "9ed3d734",
   "metadata": {},
   "outputs": [
    {
     "data": {
      "text/plain": [
       "['Xenia has a set of weights and pan scales',\n",
       " 'Each weight has an integer weight from 1 to 10 kilos',\n",
       " 'Xenia is going to play with scales and weights a little',\n",
       " 'For this, she puts weights on the scalepans, one by one',\n",
       " 'The first weight goes on the left scalepan, the second weight goes on the right scalepan, the third one goes on the left scalepan, the fourth one goes on the right scalepan and so on',\n",
       " 'Xenia wants to put the total of m weights on the scalepans',\n",
       " ' Simply putting weights on the scales is not interesting, so Xenia has set some rules',\n",
       " 'First, she does not put on the scales two consecutive weights of the same weight',\n",
       " 'That is, the weight that goes i-th should be different from the (i + 1)-th weight for any i (1 ≤ i < m)',\n",
       " 'Second, every time Xenia puts a weight on some scalepan, she wants this scalepan to outweigh the other one',\n",
       " 'That is, the sum of the weights on the corresponding scalepan must be strictly greater than the sum on the other pan',\n",
       " ' You are given all types of weights available for Xenia',\n",
       " 'You can assume that the girl has an infinite number of weights of each specified type',\n",
       " \"Your task is to help Xenia lay m weights on \\u200b\\u200bthe scales or to say that it can't be done\",\n",
       " ' Input  The first line contains a string consisting of exactly ten zeroes and ones: the i-th (i ≥ 1) character in the line equals \"1\" if Xenia has i kilo weights, otherwise the character equals \"0\"',\n",
       " 'The second line contains integer m (1 ≤ m ≤ 1000)',\n",
       " ' Output  In the first line print \"YES\", if there is a way to put m weights on the scales by all rules',\n",
       " 'Otherwise, print in the first line \"NO\"',\n",
       " \"If you can put m weights on the scales, then print in the next line m integers — the weights' weights in the order you put them on the scales\",\n",
       " ' If there are multiple solutions, you can print any of them',\n",
       " ' Examples  Input  0000000101 3   Output  YES 8 10 8   Input  1000000000 2   Output  NO']"
      ]
     },
     "execution_count": 11,
     "metadata": {},
     "output_type": "execute_result"
    }
   ],
   "source": [
    "# Separating sentences from descriptions using regex\n",
    "descriptions= [re.sub(r'\\n', ' ', description) for description in descriptions]\n",
    "descriptions_sentences = [re.split(r'[.!?]\\s', description) for description in descriptions]\n",
    "\n",
    "# Printing the sentences of the first description\n",
    "descriptions_sentences[0]"
   ]
  },
  {
   "cell_type": "markdown",
   "id": "563a24a8",
   "metadata": {},
   "source": [
    "- Flatten the list of lists into a single list of individual sentences."
   ]
  },
  {
   "cell_type": "code",
   "execution_count": null,
   "id": "71279b3f",
   "metadata": {},
   "outputs": [
    {
     "data": {
      "text/plain": [
       "['Xenia has a set of weights and pan scales',\n",
       " 'Each weight has an integer weight from 1 to 10 kilos',\n",
       " 'Xenia is going to play with scales and weights a little',\n",
       " 'For this, she puts weights on the scalepans, one by one',\n",
       " 'The first weight goes on the left scalepan, the second weight goes on the right scalepan, the third one goes on the left scalepan, the fourth one goes on the right scalepan and so on',\n",
       " 'Xenia wants to put the total of m weights on the scalepans',\n",
       " ' Simply putting weights on the scales is not interesting, so Xenia has set some rules',\n",
       " 'First, she does not put on the scales two consecutive weights of the same weight',\n",
       " 'That is, the weight that goes i-th should be different from the (i + 1)-th weight for any i (1 ≤ i < m)',\n",
       " 'Second, every time Xenia puts a weight on some scalepan, she wants this scalepan to outweigh the other one',\n",
       " 'That is, the sum of the weights on the corresponding scalepan must be strictly greater than the sum on the other pan',\n",
       " ' You are given all types of weights available for Xenia',\n",
       " 'You can assume that the girl has an infinite number of weights of each specified type',\n",
       " \"Your task is to help Xenia lay m weights on \\u200b\\u200bthe scales or to say that it can't be done\",\n",
       " ' Input  The first line contains a string consisting of exactly ten zeroes and ones: the i-th (i ≥ 1) character in the line equals \"1\" if Xenia has i kilo weights, otherwise the character equals \"0\"',\n",
       " 'The second line contains integer m (1 ≤ m ≤ 1000)',\n",
       " ' Output  In the first line print \"YES\", if there is a way to put m weights on the scales by all rules',\n",
       " 'Otherwise, print in the first line \"NO\"',\n",
       " \"If you can put m weights on the scales, then print in the next line m integers — the weights' weights in the order you put them on the scales\",\n",
       " ' If there are multiple solutions, you can print any of them',\n",
       " ' Examples  Input  0000000101 3   Output  YES 8 10 8   Input  1000000000 2   Output  NO',\n",
       " 'On a strip of land of length n there are k air conditioners: the i-th air conditioner is placed in cell a_i (1 ≤ a_i ≤ n)',\n",
       " 'Two or more air conditioners cannot be placed in the same cell (i.e',\n",
       " 'all a_i are distinct)',\n",
       " ' Each air conditioner is characterized by one parameter: temperature',\n",
       " 'The i-th air conditioner is set to the temperature t_i',\n",
       " ' <image> Example of strip of length n=6, where k=2, a=[2,5] and t=[14,16]',\n",
       " \" For each cell i (1 ≤ i ≤ n) find it's temperature, that can be calculated by the formula $$$min_{1 ≤ j ≤ k}(t_j + |a_j - i|),$$$  where |a_j - i| denotes absolute value of the difference a_j - i\",\n",
       " ' In other words, the temperature in cell i is equal to the minimum among the temperatures of air conditioners, increased by the distance from it to the cell i',\n",
       " \" Let's look at an example\"]"
      ]
     },
     "execution_count": 12,
     "metadata": {},
     "output_type": "execute_result"
    }
   ],
   "source": [
    "from pandas.core.common import flatten\n",
    "\n",
    "sentences = list(flatten(descriptions_sentences))\n",
    "\n",
    "# Show the first 30 sentences of the all descriptions corpus\n",
    "# No distinction between documents anymore (just a list of sentences)\n",
    "sentences[0:30]"
   ]
  },
  {
   "cell_type": "markdown",
   "id": "7738e310",
   "metadata": {},
   "source": [
    "These sentences will be the basis for training embedding models like Word2Vec or FastText."
   ]
  },
  {
   "cell_type": "markdown",
   "id": "2c7528d4",
   "metadata": {},
   "source": [
    "### Tokenization of Descriptions"
   ]
  },
  {
   "cell_type": "markdown",
   "id": "9280eb86",
   "metadata": {},
   "source": [
    "In this part, the main goal is to obtain an effective tokenization of each sentence in our dataset.  \n",
    "\n",
    "We prepare the corpus by applying the following preprocessing steps to each sentence using a custom tokenizer function:\n",
    "\n",
    "- Removing unwanted punctuation and characters while preserving programming symbols (e.g., +, -, =, [], ())\n",
    "\n",
    "- Normalizing Unicode math symbols (e.g., ≤, →) into their ASCII equivalents (e.g., <=, ->)\n",
    "\n",
    "- Replacing complex numeric formats with general placeholders (e.g., sci_num, int_num, frac_num)\n",
    "\n",
    "- Spacing out code symbols to treat them as individual tokens (e.g., f(x) → f ( x ))\n",
    "\n",
    "- Lemmatizing words using spaCy\n",
    "\n",
    "- Removing natural language stopwords while preserving programming-relevant terms (e.g., if, return, while)\n",
    "\n",
    "- Filtering out:\n",
    "    - Words that are too long (likely noise)\n",
    "    - Unwanted sequences with repeated characters or excessive dots"
   ]
  },
  {
   "cell_type": "code",
   "execution_count": null,
   "id": "01d421b5",
   "metadata": {},
   "outputs": [],
   "source": [
    "# Install spaCy and its English language model\n",
    "#!pip install spacy\n",
    "#!python -m spacy download en_core_web_sm"
   ]
  },
  {
   "cell_type": "code",
   "execution_count": null,
   "id": "0387b58e",
   "metadata": {},
   "outputs": [],
   "source": [
    "import re\n",
    "import spacy\n",
    "from gensim.models import Word2Vec\n",
    "from typing import List\n",
    "from nltk.corpus import stopwords\n",
    "import pickle\n",
    "\n",
    "# Load spaCy English model (make sure it's installed: python -m spacy download en_core_web_sm)\n",
    "nlp = spacy.load(\"en_core_web_sm\")\n",
    "\n",
    "# Custom stopword list (exclude important programming-related words)\n",
    "custom_stopwords = set(stopwords.words('english')) - {\n",
    "    'if', 'for', 'while', 'function', 'input', 'output', 'return', 'else', 'and', 'or','not','each','all','any','to',\n",
    "    'not', 'in', 'is', 'as', 'def', 'import', 'from', 'class', 'with', 'try', 'except',\n",
    "    'i', 'j', 'k', 'x', 'y', 'z', 'a', 'b', 'c', 'd', 'e', 'f', 'g', 'h', 'l', 'm', 'n',\n",
    "    's', 't', 'u', 'v', 'w', 'p', 'q', 'r', 'yes', 'no', 'true', 'false',\n",
    "}\n",
    "custom_stopwords = set([word.lower() for word in custom_stopwords])\n",
    "\n",
    "# Define mapping of Unicode math/symbol characters to ASCII equivalents\n",
    "UNICODE_SYMBOLS = {\n",
    "    '≤': '<=',\n",
    "    '≥': '>=',\n",
    "    '≠': '!=',\n",
    "    '→': '->',\n",
    "    '←': '<-',\n",
    "    '⋅': '*',\n",
    "    '×': '*',\n",
    "    '÷': '/',\n",
    "    '−': '-',\n",
    "    '“': '\"',\n",
    "    '”': '\"',\n",
    "    '‘': \"'\",\n",
    "    '’': \"'\"\n",
    "}\n",
    "\n",
    "# Function that replace Unicode math/special symbols with ASCII equivalents.\n",
    "def normalize_unicode_symbols(text: str) -> str:\n",
    "    for uni_char, ascii_equiv in UNICODE_SYMBOLS.items():\n",
    "        text = text.replace(uni_char, f' {ascii_equiv} ')\n",
    "    return text\n",
    "\n",
    "# Function that replace complex numbers with labeled placeholders.\n",
    "def substitute_special_numbers(text: str) -> str:\n",
    "    # Replace scientific notation (e.g., 1e9, -2.5E-10)\n",
    "    text = re.sub(r\"\\b-?\\d+(\\.\\d+)?[eE][+-]?\\d+\\b\", \" sci_num \", text)\n",
    "    # Replace decimal numbers (e.g., 3.14, -0.5)\n",
    "    text = re.sub(r\"\\b-?\\d+\\.\\d+\\b\", \" float_num \", text)\n",
    "    # Replace exponent notation (e.g., 10^5)\n",
    "    text = re.sub(r\"\\b\\d+\\^\\d+\\b\", \" exp_num \", text)\n",
    "    # Replace fractions (e.g., 3/4)\n",
    "    text = re.sub(r\"\\b-?\\d+/\\d+\\b\", \" frac_num \", text)\n",
    "    # Replace integers (keep this last to not override previous ones)\n",
    "    text = re.sub(r\"\\b-?\\d+\\b\", \" int_num \", text)\n",
    "    return text"
   ]
  },
  {
   "cell_type": "markdown",
   "id": "406555d0",
   "metadata": {},
   "source": [
    "The tokenizer function performs a sequence of preprocessing steps (already described previously) that are essential for effective embedding.   \n",
    "\n",
    "The tokenizer integrates all previously defined functions, and adds new regular expression filters to remove or replace some undesirable words from sentences."
   ]
  },
  {
   "cell_type": "code",
   "execution_count": null,
   "id": "34bd1952",
   "metadata": {},
   "outputs": [],
   "source": [
    "\n",
    "def custom_tokenize(sentence: str) -> List[str]:\n",
    "    \n",
    "    # 1. Lowercase\n",
    "    sentence = sentence.lower()\n",
    "    \n",
    "    # 2.Normalize Unicode symbols (e.g., ≤, ≥, →) to ASCII equivalents\n",
    "    sentence = normalize_unicode_symbols(sentence)\n",
    "\n",
    "    # 3. Preserve important math/programming symbols (remove others)\n",
    "    # Keep: +, -, *, /, =, <, >, [, ], (, ), ., _, ,, |, ^ numbers and letters\n",
    "    sentence = re.sub(r\"[^\\w\\s\\[\\]\\(\\)\\+\\-\\*/=<>.,\\{\\}\\|\\^]\", \"\", sentence)\n",
    "\n",
    "    # 4. Replace complex numbers BEFORE spaCy\n",
    "    sentence = substitute_special_numbers(sentence)\n",
    "\n",
    "     # Remove very long tokens and multiple dots\n",
    "    sentence = re.sub(r\"\\.{2,}\", \" \", sentence)\n",
    "\n",
    "    sentence = re.sub(r\"\\b\\w{21,}\\b\", \" \", sentence)\n",
    "    \n",
    "    # Remove tokens with 5 or more repeated characters (e.g., \"aaaaabbbbbb\")\n",
    "    # We decided to keep this line commented out as it may remove important tokens\n",
    "    #sentence = re.sub(r\"\\b(\\w*([a-zA-Z])\\2{4,}\\w*)\\b\", \" \", sentence)\n",
    "\n",
    "    # 5. Separate symbols with space to treat them as separate tokens\n",
    "    # E.g., f(x) → f ( x ), arr[2] → arr [ 2 ]\n",
    "    sentence = re.sub(r\"([\\[\\]\\(\\)\\+\\-\\*/=.,\\{\\}\\|])\", r\" \\1 \", sentence)\n",
    "\n",
    "    sentence = re.sub(r\"\\s+\", \" \", sentence)  # Remove extra spaces\n",
    "\n",
    "    # 6. Tokenize using spaCy (preserves useful structures)\n",
    "    doc = nlp(sentence)\n",
    "    tokens = []\n",
    "\n",
    "    for token in doc:\n",
    "        # Skip punctuation and unwanted stopwords (unless technical)\n",
    "        if token.text in custom_stopwords or token.is_space:\n",
    "            continue\n",
    "\n",
    "        # Lemmatize token using spaCy\n",
    "\n",
    "        lemma = token.lemma_.lower()\n",
    "\n",
    "        # Optional: normalize common variable names (e.g., a_1, res, val)\n",
    "        # We decide to keep them as they are\n",
    "        if re.fullmatch(r\"[a-zA-Z_]+\\d*\", lemma):\n",
    "            # You can optionally map them to <var> or leave them\n",
    "            tokens.append(lemma)\n",
    "        else:\n",
    "            tokens.append(lemma)\n",
    "\n",
    "    return tokens"
   ]
  },
  {
   "cell_type": "markdown",
   "id": "e8586ed9",
   "metadata": {},
   "source": [
    "This custom tokenizer produces clean, structured, and semantically meaningful tokens, which can significantly enhance the quality of the resulting embeddings.   \n",
    "Here an example to have an idea of how it works with test sentences."
   ]
  },
  {
   "cell_type": "code",
   "execution_count": null,
   "id": "bdfc25a4",
   "metadata": {},
   "outputs": [
    {
     "name": "stdout",
     "output_type": "stream",
     "text": [
      "Sentence 1: The function f(x) = x^2 + 10000000000000000000000000000, define f(x) as x * x + 1 to 100 \n",
      " tokens: ['function', 'f', '(', 'x', ')', '=', 'x^', 'int_num', '+', 'int_num', ',', 'define', 'f', '(', 'x', ')', 'as', 'x', '*', 'x', '+', 'int_num', 'to', 'int_num']\n",
      "Sentence 2: The function f(x) = x^2 + sjndjncjd0000000000000000000000000, define f(x) as x * x + 1 nskkk^^^^^sk1 naallloooonnn ... .. .... kk lll_test \n",
      " tokens: ['function', 'f', '(', 'x', ')', '=', 'x^', 'int_num', '+', ',', 'define', 'f', '(', 'x', ')', 'as', 'x', '*', 'x', '+', 'int_num', 'nskkk^^^^^sk1', 'naallloooonnn', 'kk', 'lll_test']\n",
      "Sentence 3: The function f(x) returns x * x + 1 \n",
      " tokens: ['function', 'f', '(', 'x', ')', 'return', 'x', '*', 'x', '+', 'int_num']\n",
      "Sentence 4: Use arr[0] and arr[1] to store the inputs. \n",
      " tokens: ['use', 'arr', '[', 'int_num', ']', 'and', 'arr', '[', 'int_num', ']', 'to', 'store', 'input', '.']\n",
      "Sentence 5: Check if a_1 + b_2 == c_3. \n",
      " tokens: ['check', 'if', 'a_1', '+', 'b_2', '=', '=', 'c_3', '.']\n",
      "Sentence 6: Return the result in res after the while loop. \n",
      " tokens: ['return', 'result', 'in', 're', 'while', 'loop', '.']\n",
      "Sentence 7: for i in range(1, 10): sum += arr[i] \n",
      " tokens: ['for', 'i', 'in', 'range', '(', 'int_num', ',', 'int_num', ')', 'sum', '+', '=', 'arr', '[', 'i', ']']\n",
      "Sentence 8: Initialize matrix m with zeros using numpy.zeros((3,3)) \n",
      " tokens: ['initialize', 'matrix', 'm', 'with', 'zero', 'use', 'numpy', '.', 'zero', '(', '(', 'int_num', ',', 'int_num', ')', ')']\n",
      "Sentence 9: inputs = [1, 2, 3]; output = f(inputs[0]) \n",
      " tokens: ['input', '=', '[', 'int_num', ',', 'int_num', ',', 'int_num', ']', 'output', '=', 'f', '(', 'input', '[', 'int_num', ']', ')']\n",
      "Sentence 10: Sort the array nums in ascending order. \n",
      " tokens: ['sort', 'array', 'num', 'in', 'ascend', 'order', '.']\n",
      "Sentence 11: Let temp = (x + y) / 2 \n",
      " tokens: ['let', 'temp', '=', '(', 'x', '+', 'y', ')', '/', 'int_num']\n",
      "Sentence 12: Function g(n) = n*(n-1)/2 calculates combinations. \n",
      " tokens: ['function', 'g', '(', 'n', ')', '=', 'n', '*', '(', 'n', 'int_num', ')', '/', 'int_num', 'calculate', 'combination', '.']\n",
      "Sentence 13: temperature in cell 1 is: min(14 + |2 - 1|, 16 + |5 - 1|)=min(14 + 1, 16 + 4)=min(15, 20)=15;    2 \n",
      " tokens: ['temperature', 'in', 'cell', 'int_num', 'be', 'min', '(', 'int_num', '+', '|', 'int_num', '-', 'int_num', '|', ',', 'int_num', '+', '|', 'int_num', '-', 'int_num', '|', ')', '=', 'min', '(', 'int_num', '+', 'int_num', ',', 'int_num', '+', 'int_num', ')', '=', 'min', '(', 'int_num', ',', 'int_num', ')', '=', 'int_num', 'int_num']\n",
      "Sentence 14: ))(skdfksf + u) -> 0.5 * (a + b) + 1.5 * (c - d) / e; 3.14 * pi = 3.14; \n",
      " tokens: [')', ')', '(', 'skdfksf', '+', 'u', ')', '-', '>', 'float_num', '*', '(', 'a', '+', 'b', ')', '+', 'float_num', '*', '(', 'c', '-', 'd', ')', '/', 'e', 'float_num', '*', 'pi', '=', 'float_num']\n",
      "Sentence 15: if (x > 0) and (y < 10): print('Valid') else: print('Invalid') \n",
      " tokens: ['if', '(', 'x', '>', 'int_num', ')', 'and', '(', 'y', '<', 'int_num', ')', 'print', '(', 'valid', ')', 'else', 'print', '(', 'invalid', ')']\n",
      "Sentence 16: while (i < 10): i += 1; print(i) \n",
      " tokens: ['while', '(', 'i', '<', 'int_num', ')', 'i', '+', '=', 'int_num', 'print', '(', 'i', ')']\n",
      "Sentence 17: from math import sqrt; result = sqrt(x**2 + y**2) \n",
      " tokens: ['from', 'math', 'import', 'sqrt', 'result', '=', 'sqrt', '(', 'x', '*', '*', 'int_num', '+', 'y', '*', '*', 'int_num', ')']\n",
      "Sentence 18: def calculate_area(radius): return 3.14 * radius ** 2 * 10^17 \n",
      " tokens: ['def', 'calculate_area', '(', 'radius', ')', 'return', 'float_num', '*', 'radius', '*', '*', 'int_num', '*', 'exp_num']\n",
      "Sentence 19: The first line contains two integers n (1 ≤ n ≤ 3 ⋅ 10^5) and k (1 ≤ k ≤ n) — the length of the strip of land and the number of air conditioners respectively' \n",
      " tokens: ['first', 'line', 'contain', 'two', 'integer', 'n', '(', 'int_num', '<', '=', 'n', '<', '=', 'int_num', '*', 'exp_num', ')', 'and', 'k', '(', 'int_num', '<', '=', 'k', '<', '=', 'n', ')', 'length', 'strip', 'land', 'and', 'number', 'air', 'conditioner', 'respectively']\n",
      "Sentence 20: The second line contains k integers a_1, a_2, …, a_k (1 ≤ a_i ≤ n) — positions of air conditioners on the strip of land \n",
      " tokens: ['second', 'line', 'contain', 'k', 'integer', 'a_1', ',', 'a_2', ',', ',', 'a_k', '(', 'int_num', '<', '=', 'a_i', '<', '=', 'n', ')', 'position', 'air', 'conditioner', 'strip', 'land']\n",
      "Sentence 21: The third line contains k integers t_1, t_2, …, t_k (1 ≤ t_i ≤ 10^9) — temperatures of air conditioners \n",
      " tokens: ['third', 'line', 'contain', 'k', 'integer', 't_1', ',', 't_2', ',', ',', 't_k', '(', 'int_num', '<', '=', 't_i', '<', '=', 'exp_num', ')', 'temperature', 'air', 'conditioner']\n",
      "Sentence 22: It is guaranteed that the sum of n over all test cases does not exceed 3 ⋅ 10^5 \n",
      " tokens: ['be', 'guarantee', 'sum', 'n', 'all', 'test', 'case', 'not', 'exceed', 'int_num', '*', 'exp_num']\n",
      "Sentence 23: Output  For each test case output n integers separated by space: temperatures of air in cells \n",
      " tokens: ['output', 'for', 'each', 'test', 'case', 'output', 'n', 'integer', 'separate', 'space', 'temperature', 'air', 'in', 'cell']\n",
      "Sentence 24: Example  Input   5  6 2 2 5 14 16  10 1 7 30  5 5 3 1 4 2 5 3 1 4 2 5  7 1 1 1000000000 \n",
      " tokens: ['example', 'input', 'int_num', 'int_num', 'int_num', 'int_num', 'int_num', 'int_num', 'int_num', 'int_num', 'int_num', 'int_num', 'int_num', 'int_num', 'int_num', 'int_num', 'int_num', 'int_num', 'int_num', 'int_num', 'int_num', 'int_num', 'int_num', 'int_num', 'int_num', 'int_num', 'int_num', 'int_num', 'int_num']\n",
      "Sentence 25: Manao has invented a new mathematical term — a beautiful set of points \n",
      " tokens: ['manao', 'invent', 'a', 'new', 'mathematical', 'term', 'a', 'beautiful', 'set', 'point']\n",
      "Sentence 26: Examples  Input  0000000101 3   Output  YES 8 10 8   Input  1000000000 2   Output  NO \n",
      " tokens: ['example', 'input', 'int_num', 'int_num', 'output', 'yes', 'int_num', 'int_num', 'int_num', 'input', 'int_num', 'int_num', 'output', 'no']\n",
      "Sentence 27: For each cell i (1 ≤ i ≤ n) find it's temperature, that can be calculated by the formula $$$min_{1 ≤ j ≤ k}(t_j + |a_j - i|),$$$  where |a_j - i| denotes absolute value of the difference a_j - i \n",
      " tokens: ['for', 'each', 'cell', 'i', '(', 'int_num', '<', '=', 'i', '<', '=', 'n', ')', 'find', 'temperature', ',', 'calculate', 'formula', 'min', '_', '{', 'int_num', '<', '=', 'j', '<', '=', 'k', '}', '(', 't_j', '+', '|', 'a_j', '-', 'i', '|', ')', ',', '|', 'a_j', '-', 'i', '|', 'denote', 'absolute', 'value', 'difference', 'a_j', '-', 'i']\n"
     ]
    }
   ],
   "source": [
    "\n",
    "# Example input: technical sentences with variables, functions, arrays and other bad tokens\n",
    "sentences_trial = [\n",
    "    \"The function f(x) = x^2 + 10000000000000000000000000000, define f(x) as x * x + 1 to 100\",\n",
    "    \"The function f(x) = x^2 + sjndjncjd0000000000000000000000000, define f(x) as x * x + 1 nskkk^^^^^sk1 naallloooonnn ... .. .... kk lll_test\",\n",
    "    \"The function f(x) returns x * x + 1\",\n",
    "    \"Use arr[0] and arr[1] to store the inputs.\",\n",
    "    \"Check if a_1 + b_2 == c_3.\",\n",
    "    \"Return the result in res after the while loop.\",\n",
    "    \"for i in range(1, 10): sum += arr[i]\",\n",
    "    \"Initialize matrix m with zeros using numpy.zeros((3,3))\",\n",
    "    \"inputs = [1, 2, 3]; output = f(inputs[0])\",\n",
    "    \"Sort the array nums in ascending order.\",\n",
    "    \"Let temp = (x + y) / 2\",\n",
    "    \"Function g(n) = n*(n-1)/2 calculates combinations.\",\n",
    "    \"temperature in cell 1 is: min(14 + |2 - 1|, 16 + |5 - 1|)=min(14 + 1, 16 + 4)=min(15, 20)=15;    2\",\n",
    "    \"))(skdfksf + u) -> 0.5 * (a + b) + 1.5 * (c - d) / e; 3.14 * pi = 3.14;\",\n",
    "    \"if (x > 0) and (y < 10): print('Valid') else: print('Invalid')\",\n",
    "    \"while (i < 10): i += 1; print(i)\",\n",
    "    \"from math import sqrt; result = sqrt(x**2 + y**2)\",\n",
    "    \"def calculate_area(radius): return 3.14 * radius ** 2 * 10^17\",\n",
    "    \"The first line contains two integers n (1 ≤ n ≤ 3 ⋅ 10^5) and k (1 ≤ k ≤ n) — the length of the strip of land and the number of air conditioners respectively'\",\n",
    "    \"The second line contains k integers a_1, a_2, …, a_k (1 ≤ a_i ≤ n) — positions of air conditioners on the strip of land\",\n",
    "    \"The third line contains k integers t_1, t_2, …, t_k (1 ≤ t_i ≤ 10^9) — temperatures of air conditioners\",\n",
    "    \"It is guaranteed that the sum of n over all test cases does not exceed 3 ⋅ 10^5\",\n",
    "    \"Output  For each test case output n integers separated by space: temperatures of air in cells\",\n",
    "    \"Example  Input   5  6 2 2 5 14 16  10 1 7 30  5 5 3 1 4 2 5 3 1 4 2 5  7 1 1 1000000000\",\n",
    "    \"Manao has invented a new mathematical term — a beautiful set of points\",\n",
    "    \"Examples  Input  0000000101 3   Output  YES 8 10 8   Input  1000000000 2   Output  NO\",\n",
    "    \"For each cell i (1 ≤ i ≤ n) find it's temperature, that can be calculated by the formula $$$min_{1 ≤ j ≤ k}(t_j + |a_j - i|),$$$  where |a_j - i| denotes absolute value of the difference a_j - i\"\n",
    "]\n",
    "\n",
    "# Apply custom tokenizer\n",
    "tokenized_corpus_trial= [custom_tokenize(sent) for sent in sentences_trial]\n",
    "\n",
    "# Print tokenized output\n",
    "for i, toks in enumerate(tokenized_corpus_trial):\n",
    "    print(f\"Sentence {i+1}: {sentences_trial[i]} \\n tokens: {toks}\")"
   ]
  },
  {
   "cell_type": "markdown",
   "id": "0f083c6c",
   "metadata": {},
   "source": [
    "It's easy to see that it's able to split the sentence in a reasonable and clearer way.\n",
    "\n",
    "We now apply the previously defined custom_tokenize() function to the entire sentence corpus derived from the problem descriptions.\n",
    "- Each sentence is transformed into a list of cleaned and lemmatized tokens, preserving meaningful syntax and semantics, especially relevant to programming.\n",
    "\n",
    "- We then print out the tokenization results for the first 20 sentences to inspect the quality and structure of the tokens."
   ]
  },
  {
   "cell_type": "code",
   "execution_count": null,
   "id": "c64a1140",
   "metadata": {},
   "outputs": [
    {
     "name": "stdout",
     "output_type": "stream",
     "text": [
      "Sentence 1: Xenia has a set of weights and pan scales \n",
      " tokens: ['xenia', 'a', 'set', 'weight', 'and', 'pan', 'scale']\n",
      "Sentence 2: Each weight has an integer weight from 1 to 10 kilos \n",
      " tokens: ['each', 'weight', 'integer', 'weight', 'from', 'int_num', 'to', 'int_num', 'kilo']\n",
      "Sentence 3: Xenia is going to play with scales and weights a little \n",
      " tokens: ['xenia', 'be', 'go', 'to', 'play', 'with', 'scale', 'and', 'weight', 'a', 'little']\n",
      "Sentence 4: For this, she puts weights on the scalepans, one by one \n",
      " tokens: ['for', ',', 'put', 'weight', 'scalepans', ',', 'one', 'one']\n",
      "Sentence 5: The first weight goes on the left scalepan, the second weight goes on the right scalepan, the third one goes on the left scalepan, the fourth one goes on the right scalepan and so on \n",
      " tokens: ['first', 'weight', 'go', 'left', 'scalepan', ',', 'second', 'weight', 'go', 'right', 'scalepan', ',', 'third', 'one', 'go', 'left', 'scalepan', ',', 'fourth', 'one', 'go', 'right', 'scalepan', 'and']\n",
      "Sentence 6: Xenia wants to put the total of m weights on the scalepans \n",
      " tokens: ['xenia', 'want', 'to', 'put', 'total', 'm', 'weight', 'scalepan']\n",
      "Sentence 7:  Simply putting weights on the scales is not interesting, so Xenia has set some rules \n",
      " tokens: ['simply', 'put', 'weight', 'scale', 'be', 'not', 'interesting', ',', 'xenia', 'set', 'rule']\n",
      "Sentence 8: First, she does not put on the scales two consecutive weights of the same weight \n",
      " tokens: ['first', ',', 'not', 'put', 'scale', 'two', 'consecutive', 'weight', 'weight']\n",
      "Sentence 9: That is, the weight that goes i-th should be different from the (i + 1)-th weight for any i (1 ≤ i < m) \n",
      " tokens: ['is', ',', 'weight', 'go', 'i', '-', 'th', 'different', 'from', '(', 'i', '+', 'int_num', ')', '-', 'th', 'weight', 'for', 'any', 'i', '(', 'int_num', '<', '=', 'i', '<', 'm', ')']\n",
      "Sentence 10: Second, every time Xenia puts a weight on some scalepan, she wants this scalepan to outweigh the other one \n",
      " tokens: ['second', ',', 'every', 'time', 'xenia', 'put', 'a', 'weight', 'scalepan', ',', 'want', 'scalepan', 'to', 'outweigh', 'one']\n",
      "Sentence 11: That is, the sum of the weights on the corresponding scalepan must be strictly greater than the sum on the other pan \n",
      " tokens: ['is', ',', 'sum', 'weight', 'correspond', 'scalepan', 'must', 'strictly', 'great', 'sum', 'pan']\n",
      "Sentence 12:  You are given all types of weights available for Xenia \n",
      " tokens: ['give', 'all', 'type', 'weight', 'available', 'for', 'xenia']\n",
      "Sentence 13: You can assume that the girl has an infinite number of weights of each specified type \n",
      " tokens: ['assume', 'girl', 'infinite', 'number', 'weight', 'each', 'specify', 'type']\n",
      "Sentence 14: Your task is to help Xenia lay m weights on ​​the scales or to say that it can't be done \n",
      " tokens: ['task', 'be', 'to', 'help', 'xenia', 'lie', 'm', 'weight', 'scale', 'or', 'to', 'say', 'can', 'not', 'do']\n",
      "Sentence 15:  Input  The first line contains a string consisting of exactly ten zeroes and ones: the i-th (i ≥ 1) character in the line equals \"1\" if Xenia has i kilo weights, otherwise the character equals \"0\" \n",
      " tokens: ['input', 'first', 'line', 'contain', 'a', 'string', 'consist', 'exactly', 'ten', 'zero', 'and', 'one', 'i', '-', 'th', '(', 'i', '>', '=', 'int_num', ')', 'character', 'in', 'line', 'equal', 'int_num', 'if', 'xenia', 'i', 'kilo', 'weight', ',', 'otherwise', 'character', 'equal', 'int_num']\n",
      "Sentence 16: The second line contains integer m (1 ≤ m ≤ 1000) \n",
      " tokens: ['second', 'line', 'contain', 'integer', 'm', '(', 'int_num', '<', '=', 'm', '<', '=', 'int_num', ')']\n",
      "Sentence 17:  Output  In the first line print \"YES\", if there is a way to put m weights on the scales by all rules \n",
      " tokens: ['output', 'in', 'first', 'line', 'print', 'yes', ',', 'if', 'be', 'a', 'way', 'to', 'put', 'm', 'weight', 'scale', 'all', 'rule']\n",
      "Sentence 18: Otherwise, print in the first line \"NO\" \n",
      " tokens: ['otherwise', ',', 'print', 'in', 'first', 'line', 'no']\n",
      "Sentence 19: If you can put m weights on the scales, then print in the next line m integers — the weights' weights in the order you put them on the scales \n",
      " tokens: ['if', 'put', 'm', 'weight', 'scale', ',', 'print', 'in', 'next', 'line', 'm', 'integer', 'weight', 'weight', 'in', 'order', 'put', 'scale']\n",
      "Sentence 20:  If there are multiple solutions, you can print any of them \n",
      " tokens: ['if', 'multiple', 'solution', ',', 'print', 'any']\n"
     ]
    }
   ],
   "source": [
    "# Apply custom tokenizer on real data\n",
    "tokenized_corpus = [custom_tokenize(sent) for sent in sentences]\n",
    "\n",
    "# Print tokenized output\n",
    "for i, toks in enumerate(tokenized_corpus):\n",
    "    if i >= 20:  # Limit to first 20 sentences for brevity\n",
    "        break\n",
    "    print(f\"Sentence {i+1}: {sentences[i]} \\n tokens: {toks}\")\n"
   ]
  },
  {
   "cell_type": "markdown",
   "id": "904433ce",
   "metadata": {},
   "source": [
    "Save the tokenized corpus into a pickle file to avoid to do the long computation each time."
   ]
  },
  {
   "cell_type": "code",
   "execution_count": null,
   "id": "f8e56f3f",
   "metadata": {},
   "outputs": [],
   "source": [
    "# Save the tokenized corpus to a file, it's a list of lists\n",
    "with open(\"tokenized_descriptions_corpus.pkl\", \"wb\") as f:\n",
    "    pickle.dump(tokenized_corpus, f)"
   ]
  },
  {
   "cell_type": "markdown",
   "id": "38090f6f",
   "metadata": {},
   "source": [
    "Read the tokenized description corpus already stored in a pickle file."
   ]
  },
  {
   "cell_type": "code",
   "execution_count": 26,
   "id": "748d22bc",
   "metadata": {},
   "outputs": [],
   "source": [
    "with open(\"tokenized_descriptions_corpus.pkl\", \"rb\") as f:\n",
    "    tokenized_corpus = pickle.load(f)"
   ]
  },
  {
   "cell_type": "code",
   "execution_count": null,
   "id": "f8da0363",
   "metadata": {},
   "outputs": [],
   "source": [
    "#!pip install gensim"
   ]
  },
  {
   "cell_type": "markdown",
   "id": "f24b5237",
   "metadata": {},
   "source": [
    "### Word2Vec"
   ]
  },
  {
   "cell_type": "markdown",
   "id": "29ee3eba",
   "metadata": {},
   "source": [
    "In this section, we train a Word2Vec model using the tokenized and preprocessed corpus of problem descriptions.  \n",
    "\n",
    "We use the Skip-gram architecture (sg=1), which is known to perform better on infrequent words, a desirable property for our technical dataset where specific terms might appear rarely but hold significant meaning."
   ]
  },
  {
   "cell_type": "code",
   "execution_count": null,
   "id": "f948d435",
   "metadata": {},
   "outputs": [],
   "source": [
    "from gensim.models import Word2Vec\n",
    "\n",
    "# Train Word2Vec model\n",
    "w2v_model = Word2Vec(\n",
    "    sentences=tokenized_corpus,  # tokenized corpus is a list of lists of token (already created by your previous code)\n",
    "    vector_size=100,    # dimension of the word vectors\n",
    "    window=5,           # context window size\n",
    "    min_count=2,        # filter out words with frequency lower than 2\n",
    "    workers=4,          # number of threads used for training\n",
    "    sg=1                # 1 = skip-gram, 0 = CBOW\n",
    ")\n",
    "\n",
    "# Save the model\n",
    "w2v_model.save(\"word2vec.model\")\n"
   ]
  },
  {
   "cell_type": "markdown",
   "id": "b4cb6807",
   "metadata": {},
   "source": [
    "Useful if we want to skip the training having already computed the result"
   ]
  },
  {
   "cell_type": "code",
   "execution_count": null,
   "id": "37f482df",
   "metadata": {},
   "outputs": [],
   "source": [
    "# Load the model\n",
    "w2v_model = Word2Vec.load(\"word2vec.model\")"
   ]
  },
  {
   "cell_type": "markdown",
   "id": "91427652",
   "metadata": {},
   "source": [
    "Print the vocabulary keys and its size"
   ]
  },
  {
   "cell_type": "code",
   "execution_count": 162,
   "id": "aa83f10e",
   "metadata": {},
   "outputs": [
    {
     "name": "stdout",
     "output_type": "stream",
     "text": [
      "dict_keys(['int_num', ',', 'a', '=', 'be', 'in', 'and', '<', '(', ')', 'input', 'n', 'output', '-', 'number', 'integer', 'line', '*', 'first', 'contain', 'example', 'one', 'if', 'for', 'i', 'each', 'print', 'from', 'not', '+', 'second', 'all', 'b', 'with', 'string', 'two', 'give', 'case', 'x', 's', 'test', '{', '}', 'k', 'th', 'as', 'no', 'note', 'or', '.', ']', '[', 't', '>', 'exp_num', 'any', 'possible', '|', 'follow', 'length', 'm', 'single', 'leq', 'array', 'sequence', 'time', 'answer', '_', 'find', 'element', 'equal', 'value', 'letter', 'yes', 'consist', 'character', 'a_i', 'y', 'day', 'operation', 'get', 'move', 'make', 'order', 'minimum', 'c', 'want', 'point', 'j', 'choose', 'sum', 'third', 'maximum', 'sample', 'exactly', '/', 'd', 'need', 'image', 'game', 'use', 'write', 'r', 'three', 'digit', 'cell', 'way', 'problem', 'l', 'take', 'pair', 'a_1', 'next', 'positive', 'guarantee', 'position', 'constraint', 'format', 'ai', 'right', 'go', 'otherwise', 'p', 'total', 'a_2', 'row', 'word', 'vertex', 'help', 'player', 'know', 'change', 'space', 'query', 'least', 'different', 'task', 'q', 'set', 'exist', 'end', 'color', 'without', 'multiple', 'start', 'square', 'standard', 'friend', 'separate', 'zero', 'also', 'student', 'non', 'a_n', 'play', 'many', 'must', 'float_num', 'following', 'type', 'vasya', '^', 'left', 'card', 'distinct', 'coordinate', 'index', 'result', 'perform', 'good', 'segment', 'e', 'show', 'empty', 'consider', 'represent', 'buy', 'size', 'every', 'like', 'lowercase', 'new', 'become', 'place', 'denote', 'f', 'condition', 'permutation', 'candy', 'determine', 'turn', 'piece', 'let', 'leave', 'decide', 'exceed', 'may', 'tree', 'last', 'small', 'polycarp', 'team', 'city', 'obtain', 'solution', 'box', 'describe', 'call', 'h', 'require', 'column', 'great', 'minute', 'edge', 'remove', 'name', 'increase', 'even', 'either', 'respectively', 'large', 'put', 'win', 'quote', 'impossible', 'group', 'form', 'w', 'program', 'score', 'coin', 'substring', 'english', 'always', 'people', 'can', 'subsequence', 'add', 'cost', 'satisfy', 'fourth', 'contest', 'ball', 'b_i', 'alice', 'room', 'house', 'mean', 'four', 'path', 'solve', 'a1', 'several', 'distance', 'round', 'height', 'since', 'initial', 'replace', 'remain', 'year', 'person', 'come', 'part', 'correct', 'initially', 'bob', 'could', 'ask', 'stone', 'step', 'a2', 'participant', 'eat', 'less', 'read', 'would', 'optimal', 'long', 'side', 'list', 'while', 'divide', 'stand', 'calculate', 'divisible', 'amount', 'table', 'child', 'among', 'v', 'thus', 'allow', 'weight', 'another', 'robot', 'paint', 'inclusive', 'z', 'latin', 'already', 'statement', 'petya', 'negative', 'is', 'description', 'however', 'hold', 'modulo', 'adjacent', 'current', 'red', 'swap', 'consecutive', 'takahashi', 'reach', 'correspond', 'picture', 'x_i', 'g', 'look', 'moment', 'divisor', 'question', 'see', 'top', 'pile', 'receive', 'u', 'valid', 'blue', 'decrease', 'sort', 'floor', 'connect', 'spend', 'build', 'black', 'well', 'visit', 'graph', 'whether', 'select', 'level', 'process', 'road', 'count', 'beautiful', 'say', 'direction', 'stick', 'appear', 'pass', 'define', 'button', 'strictly', 'power', 'triangle', 'area', 'draw', 'difference', 'block', 'matrix', 'xi', 'b_1', 'bi', 'please', 'grid', 'work', 'rectangle', 'delete', 'assume', 'hour', 'price', 'formally', 'board', 'lead', 'palindrome', 'little', 'binary', 'locate', 'possibly', 'insert', 'lose', '2n', 'minimal', 's_i', 'item', 'white', 'apply', 'split', 'rule', 'per', 'p_i', 'unit', 'cut', 'monster', 'common', 'lexicographically', 'beginning', 'message', 'book', 'a_j', 'belong', 'odd', 'meet', 'pay', 'prime', 'final', 'love', 'decimal', 'match', 'press', 'system', 'node', 'create', 'page', 'lucky', 'low', 'state', 'money', 'st', 'bracket', 'snuke', 'code', 'mark', 'car', 'present', 'circle', 'testcase', 'winner', 'absolute', 'seat', 'walk', 'company', 'plan', 'subarray', 'gcd', 'light', 'l_i', 'jump', 'figure', 'datum', 'c_i', 'r_i', 'enough', 'think', 'easy', 'water', 's_1', 'bit', 'apple', 'b_2', 'much', 'achieve', 'finish', 'tell', 'high', 'accord', 'x_1', 'action', 'girl', 'ab', 'min', 'open', 'arbitrary', 'command', 'field', 'shop', 'key', 'uppercase', 'whose', 'display', 'hand', 'check', 'occupy', 'product', 'yen', 'section', 'station', 'guest', 'temperature', 'drink', 'customer', 'run', 'bag', 'stop', 'abc', 'remember', 'paper', 'live', 'bar', 'include', 'boy', 'try', 'exam', 'x_2', 'minimize', 'valera', 'text', 'berland', 'subsegment', 'base', 'p_1', 'algorithm', 'symbol', 'fifth', 'five', 'tile', 'yi', 'course', 'green', 'special', 'max', 'home', 's_2', 'train', 'mod', 'still', 'programming', 'plane', 'half', 'door', 'able', 'today', 'password', 'representation', 'li', 'instead', 'c_1', 'occur', 'bus', 'construct', 'independent', 'store', 'whole', 'travel', 'prove', 'cup', 'remainder', 'dataset', 'regular', 'degree', 'tower', 'short', 'user', 'vova', 'send', 'back', 't_i', 'intersection', 'ri', 'information', 'x1', 'x2', 'return', 'collect', 'goal', 'satisfied', 'optimally', 'root', 'meter', 'speed', 'along', 'rating', 'hard', 'upper', 'queue', 'complete', 'kind', 'codeforce', 'ticket', 'record', 'flower', 'bottom', 'maximal', 'face', 'soldier', 'month', 'limak', 'maximize', 'pi', 'teacher', 'simple', 'cube', 'y_i', 'enter', 'magic', 'wonder', 'division', 'p_2', 'version', 'recently', 'v_i', 'prefix', 'employee', 'break', 'participate', 'vertical', 'ivan', 'ti', 'd_i', 'big', 'sell', 'serve', 'arrange', 'therefore', 'previous', 'range', 'wikipedia', 'king', 'bottle', 'nd', 'beauty', 'https', 'skill', 'class', 'choice', 'inside', 'computer', 'restaurant', 'begin', 'gift', 'differ', 'school', 'learn', 'occurrence', 'close', 'bear', 'mike', 'sheet', 'c_2', 'watch', 'repeat', 'en', 'screen', 'fall', 'will', 'pack', 'happen', 'unfortunately', 'dima', 'happy', 'dish', 'polygon', 'tournament', 'cat', 'toy', 'coder', 'university', 'probability', 'kid', 'error', 'axis', 'immediately', 'cake', 'width', 'a_3', 'wiki', 'cookie', 'cycle', 'org', 'event', 'aa', 'sock', 'chocolate', 'stay', 'party', 'dollar', 'infinite', 'pick', 'distribute', 'lie', 'lets', 'frac_num', 'programmer', 'function', 'share', 'reverse', 'suppose', 'suitable', 'partition', 'song', 'erase', 'prepare', 'alphabet', 'cover', 'sit', 'favorite', 'keep', 'server', 'ldot', 'town', 'language', 'y_1', 'twice', 'masha', 'period', 'matter', 'garland', 'currently', 'health', 'away', 'triple', 'photo', 'horizontal', 'underline', 'member', 'except', 'nothing', 'anything', 'phone', 'continue', 'contiguous', 'b_n', 'u_i', 'stage', 'arrive', 'fun', 'clockwise', 'transform', 'polycarpus', 'dice', 'flat', 'xor', 'bad', 'throw', 'assign', 'notice', 'original', 'interesting', 'spell', 'd_1', 'equation', 'real', 'unique', 'chess', 'interested', 'none', 'lamp', 'wire', 'food', 'entrance', 'fit', 'similar', 'near', 'y_2', 'necessarily', 'fight', 'fill', 'competition', 'hit', 'assignment', 'term', 'happiness', 'generate', 'p_n', 'bitwise', 'domino', 'average', 'si', 'correspondingly', 'neq', 'dot', 'journey', 'stack', 'wait', 'together', 'finally', 'straight', 'mex', 'subset', 'knight', 'necessary', 'report', 'main', 'b_j', 'arithmetic', 'energy', 'free', 'particular', 'within', 'destroy', 'sasha', 'we', 'attack', 'produce', 'compute', 'plot', 'yet', 'arrangement', 'rd', 'p1', 'notation', 'world', 'liter', 'bulb', 'anton', 'sure', 'vasyas', 'angle', 'exchange', 'shift', 'counter', 'zs', 'potion', 'middle', 'ice', 'p2', 'ci', 'bill', 'simultaneously', 'nastya', 'volume', 'relative', 'accept', 'soon', 'pairwise', 'never', 'certain', 'b1', 'lot', 'expression', 'really', 'nice', 'week', 'burle', 'wall', 'mr', 'clock', 'corresponding', 'north', 'leftmost', 'front', 'ruble', 'rate', 'land', 'vowel', 'median', 'invite', 'sphere', 'subject', 'pizza', 'west', 'perfect', 'object', 'night', 'parallel', 'old', 'ac', 'rest', 'sign', 'strategy', 'other', 'strength', 'yellow', 'option', 'thing', 'mishka', 'restore', 'math', 'b2', 'y1', 'contestant', 'fix', 'rotate', 'around', 'koa', 'aba', 'performance', 'atcoder', 'hero', 'provide', 'heap', 'mass', 'y2', 'citizen', 'east', 'fast', 'target', 'neighbor', 'kingdom', 'deck', 'factor', 'date', 'monocarp', 'h_i', 'situation', 'vote', 'lcm', 'rabbit', 'requirement', 'guess', 'street', 'pattern', 'search', 'charge', 'passenger', 'pebble', 'bring', 'apartment', 'elephant', 's1', 'fly', 'candidate', 't_1', 'hi', 'parent', 'cow', 'kill', 'chessboard', 'movie', 'consisting', 'six', 'token', 'earn', 'cdot', 'di', 'window', 'south', 'building', 'magnet', 'judge', 'hack', 'reorder', 'interval', 'label', 'd_2', 'indicate', 'suffix', 'file', 's2', 'centimeter', 'might', 'queen', 'birthday', 'planet', 'guard', 'ba', 'shape', 'true', 'x_n', 'difficulty', 'grow', 'igor', 'tanya', 'desire', 'andrew', 'ascend', 'study', 'variant', 'direct', 'aoki', 'property', 'configuration', 'pupil', 'pour', 'ship', 'carry', 'rank', 'radius', 'neither', 'keyboard', 'a_4', 'definition', 'sleep', 'loop', 'coincide', 'sixth', 'variable', 't_2', 'bouquet', 'glass', 'puzzle', 'push', 'arkady', 'le', 'scale', 'multiset', 'hence', 'fraction', 'memory', 'request', 'tram', 'depth', 'machine', 'understand', 'laptop', 'packet', 'skip', 'balance', 'forget', 'movement', 'alex', 'almost', 'a_k', 'prize', 'progression', 'diagonal', 'additional', 'aaa', 'rock', 'rearrange', 'palindromic', 'country', 'opposite', 'starting', 'early', 'r_1', 'prefer', 'cross', 'grade', 'jury', 'far', 'capacity', 'dimensional', 'hole', 't1', 'mountain', 'network', 'append', 'slime', 'brick', 'neighboring', 'subtract', 'depend', 'wrong', 'parameter', 'similarly', 'schedule', 'guy', 'hotel', 'account', 'smart', 'opponent', 'n_i', 'address', 'border', 'exit', 'r1', 'animal', 'platform', 'random', 'completely', 't2', 'orange', 'drive', 'rectangular', 'application', 'strip', 'vi', 'castle', 'juice', 'mine', 'rotation', 'lock', 'ox', 'undirected', 'head', '1', 'morning', 'attend', 'vasiliy', 'topic', 'purchase', 'full', 'c1', 'switch', 'checkpoint', 'intersect', 'specifi', 'execute', 'q_i', 'beacon', 'chip', 'pillar', 'a_0', 'disk', 'flip', 'airport', 'strange', 'santa', 'important', 'japan', 'warrior', 'petyas', 'center', 'vice', 'aj', 'alternate', 'later', 'plate', 'moreover', 'r2', 'besides', 'outcome', 'pasha', 'currency', 'xx', 'directly', 'instruction', 'cout', 'phoenix', 'connected', 'map', 'expect', 'versa', 's_n', 'notebook', 'rook', 'capital', 'chat', 'formula', 'fair', 'limit', 'miss', 'quite', 'launch', 'implement', 'identical', 'shot', 'elevator', 'abacaba', 'grain', 'nikolay', 'skyscraper', 'replacement', 'walrus', 'outside', 'k_i', 'obstacle', 'everything', 'video', 'conversation', 'fuel', 'die', 'correctly', 'suggest', 'gem', 'tv', 'constant', 'olympiad', 'equivalent', 'sometimes', 'drazil', 'restriction', 'dr', 'w_i', 'gram', 'device', 'training', 'valentin', 'recall', 'dragon', 'barrel', 'pyramid', 's_3', 'shore', 'grasshopper', 'safe', 'do', 'suit', 'coefficient', 'sentence', 'measure', 'act', 'though', 'invent', '2k', 'secret', 'r_2', 'combination', 'alyona', 'man', 'package', 'log', 'scientist', '1leq', 'reason', 'fact', 'young', 'b_m', 'organizer', 'sereja', 'island', 'takahashis', 'manage', 'l_1', 'spot', 'actually', 'grape', 'copy', 'famous', 'ribbon', 'egg', 'explanation', 'tea', 'cin', 'finite', 'diamond', 'lab', 'ciel', 'forward', 'drop', 'trip', 'available', 'obviously', 'track', 'c2', 'pie', 'someone', 'job', 'clear', 'vanya', 'location', 'taxi', 'overall', 'deal', 'identifier', 'colour', 'stair', 'shelf', 'post', 'fruit', 'office', 'ton', 'ilya', 'damage', 'pn', 'celebrate', 'blow', 'sector', 'snack', 'route', 'piranha', 'life', 'everyone', 'scissor', 'busy', 'chicken', 'beat', 'plug', 'clean', 'shuffle', 'fence', 'alarm', 'catch', 'visitor', 'scenario', 'mistake', 'dance', 'else', '2', 'chain', 'successful', 'tank', 'supply', 'particle', 'merge', 'pronounce', 'cafe', 'c_n', 'ride', 'local', 'shoot', 'xn', 'park', 'snow', 'concatenation', 'ground', 'shirt', 'tokitsukaze', 'bacteria', 'touch', 'recognize', 'view', 'corner', 'convert', 'mention', 'genome', 'rightmost', 'i64d', 'toastman', 'evening', 'lld', 'status', 'minus', 'reduce', 'japanese', 'polycarps', 'explain', 'procedure', 'express', 'modify', 'develop', 'luba', 'spectator', 'chair', 'self', 'lesha', 'huge', 'frame', 'quickly', 'objective', 'christmas', 'blog', 'favourite', 'leader', 'frac', 'often', 'dormitory', 'resident', 'cream', 'stream', 'exercise', 'tooth', 'compare', 'calendar', 'crosse', 'y_j', 'painting', 'dead', 'teach', 'save', 'sword', 'wear', 'endpoint', 'operator', 'tie', 'notification', 'addition', 'substre', 'register', 'fulfil', 'double', 'ratio', 'frog', 'infinitely', 'ten', 'something', 'continuous', 'security', 'kolya', 'assemble', 'degenerate', 'plus', 'profit', 'realize', 'lexicographical', 'manner', 'diverse', 'due', 'wallet', 'v_1', 'alive', 'lesson', 'multiply', 'panel', 'milliliter', 'kevin', 'dog', 'concatenate', 'layer', 'fail', 'cent', 'diploma', 'doctor', 'petr', 'opening', 'n2', 'ashish', 'climb', 'inna', 'sorted', 'handle', 'firstly', 'pawn', 's_k', 'vladik', 'region', 'gildong', 'portion', 'oven', 'appleman', 'extra', 'component', 'simply', 'subway', 'origin', 'race', 'bn', 'hp', 'nut', 'activate', 'shock', 'chronological', 'directory', 'l_2', 'x_j', 'submission', 'seek', 'hello', '^n', 'cook', 'parenthesis', 'fox', 'onto', 'steal', 'tunnel', 'blackboard', 'brother', 'nearly', 'typo', 'feature', 'athlete', 'peter', 'comparison', 'treasure', 'oo', 'seven', 'electric', 'discount', 'offer', 'specifically', 'coffee', 'h_1', 'traffic', 'a3', 'project', 'i_2', 'bowl', 'convex', 'wish', 'potato', 'structure', 'manao', 'a_l', 'cast', 'vdot', 'sweet', 'misha', 'monday', 'bank', 'discard', 'consonant', 'ij', 'medal', 'sea', 'carrot', 'fi', 'hide', 'mahmoud', 'staircase', 'affect', 'championship', 'disappear', 'n^', 'vlad', 'ki', 'crossword', 'aaaa', 'cyclic', 'maze', 'garden', 'link', 'distribution', 'proper', 'rain', 'shovel', 'shell', 'times', 'star', 'chapter', 'flight', 'client', 'unknown', 'armchair', 'pavel', 'independently', 'dinner', 'specify', 'signal', 'jar', 'slice', 'evil', 'artist', 'pos', 'boring', 'method', 'i_1', 'beaver', 'hexagon', 'entire', 'upvote', 'abb', 'compose', 'p_j', 'plank', 'eight', 'agree', 'vacation', 'chore', 'gerald', 'pole', 'summer', 'patty', 'shiro', 'x_3', 'cursor', 'leg', 'ak', 'social', 'dreamoon', 'hate', 'driver', 'tomorrow', 'claim', 'thread', 'mother', 'wake', 'football', 'rooted', 'badge', 'collection', 'mi', 'sand', 'nobody', 'explode', 'gear', 'pasture', 'deletion', 'talk', 'streak', 'login', 'a_m', 'gain', 'cd', 'kilometer', 'destination', 'sonya', 'boss', 'heater', 'approach', 'lt', 'online', 'control', 'session', 'host', 'v1', 'pocket', 'illustrate', 'category', 'donut', 'compete', 'difficult', 'l1', 'body', 'sport', 'maxim', 'uniquely', 'sunday', 'allen', 'everybody', 'a_5', 'manager', 'lecture', 'amr', 's_4', 'tall', 'neighbour', 'follower', 'gym', 'proceed', 'rod', 'respect', 'ingredient', 'rbs', 'recommend', 'mind', 'beach', 'с', 'dimension', 'alphabetical', 'encrypt', 'johnny', 'invalid', 'rather', 'classroom', 'ring', 'income', 'chris', 'milk', 'cancel', 'reward', 'acceptable', 'ignore', 'dwarf', 'abab', 'cheap', 'funny', 'roll', 'advance', 'mm', 'duration', 'gt', 'leha', 'battery', 'ever', 'deliver', 'force', 'priority', 'banknote', 'percent', 'ready', 'denomination', 'iahub', 'pokemon', 'com', 'cola', 'award', 'fragment', 'warm', 'bj', 'h_2', 'ascii', 'transport', 'popular', 'skewer', 'atcodeer', 'gon', 'download', 'xenia', 'crew', 'characterize', 'icon', 'mayor', 'k2', 'ago', 'http', 'worm', 'air', 'across', 'pan', 'snowball', 'successfully', 'recolor', 'iteration', 'mirror', 'situate', 'usually', 'ok', 'predict', 'tastiness', 'aaaaa', 'enumerate', 'v_2', 'filter', 'visible', 'asleep', 'explorer', 'challenge', 'editor', 'w_1', 'lunch', 'noora', 'plant', 'site', 'a4', 'waste', 'internet', 'manhole', 'precisely', 'sugar', 'arrow', 'd_n', 'data', 'bessie', 'announce', 'burger', 'professor', 'balanced', 'vitaly', 'believe', 'finger', 'bobs', 'unread', 'eliminate', 'superhero', 'gold', 'subgraph', 'accumulator', 'kefa', 'l2', 'phrase', 'throughout', 'ehab', 'consume', 'crime', 'blogger', 'introduce', 'appropriate', 'booth', 'atom', 'march', 'digital', 'stock', 'beginner', 'cm', 'quantity', 'pin', 'tab', '2i', 'individual', 'y_3', 'transfer', 'maybe', 'storage', 'joystick', 'fan', 'subtask', 'coupon', 'encode', 'instantly', 'army', 'upset', 'intensity', 'couple', 'exact', 'vest', 'coprime', 'repeatedly', 'abba', 'reviewer', 'battle', 'v2', 'gate', 'layout', 'kangaroo', 'idea', 'passage', 'submit', 'specificator', 'captain', 'worker', 'bitwise_operationxor', 'integers', 'usual', 'banana', 'improve', 'nest', 'downvote', 'tn', 'mouse', 'remind', 'bench', 'inversion', 'lily', 'festival', 'parallelepipe', 'pen', 'normal', 'pause', 'str', 'taro', 'sushi', 'mbox', 'envelope', 'andrey', 'aab', 'hire', 'ℓ', 'service', 'processor', 'asphalt', 'sergey', 'hear', 'socket', 'uncle', 'cash', 'arrival', 'bishop', 'alexey', 'bc', 'irreducible', 'overlap', 'hairline', 'a_x', 'sausage', 'neighbouring', 'gesture', 'oleg', 'definitely', 'abcd', 'comma', 'attention', 'equally', 'watchman', 'closing', 'm_1', 'aij', 'tt', 'ui', 'airplane', 'complexity', 'bot', '2x', 'listen', 'quality', 'via', 'baba', 'sister', 'lazy', 'friendship', 'candle', 'k1', 'strong', 'bourle', 'ordinary', 'natural', 'wi', 'super', 'parity', 'incorrect', 'hell', 'satisfaction', 'tier', 'crystal', 'toss', 'stove', 'f_i', 'strike', 'ornament', 'regardless', 'exclude', 'hamster', 'namely', 'pillow', 'de', 'danik', 'limitation', 'kitchen', 'mood', '^k', 'mode', 'a_r', 'trail', '3n', 'd1', 'age', 'depart', 'estimate', 'speak', 'arbitrarily', 'stamina', 'discover', 'millisecond', 'calculation', 'organize', 'n1', 'puppy', 'utensil', 'coach', 'unusual', 'xrightarrow', 'patrick', 'closed', 'standing', 'sherlock', 'decode', 'tired', 'd2', 'vasily', 'matryoshka', 'golden', 'n_1', 'general', 'trash', 'lis', 'm_i', 'subtree', 'p3', 'pretty', 'ujan', 'load', 'hat', 'bark', 'mid', 'instance', 'camera', 'join', 'additionally', 'polyline', 'align', 'forest', 'cupcake', 'late', 'reposte', 's_j', 'farmer', 'karlsson', 'daniel', 'traverse', 'recipe', 'railway', 'princess', 'poor', 'shower', 'specific', 'feel', 'victory', 'lane', 'smartphone', 'clue', 'c_0', 'inner', 'bed', 'histogram', 'homework', 'lantern', 'barn', 'c_j', 'bug', 'nonempty', 'ann', 'weigh', 'forbid', 'aroma', 'pull', 'mathbf', 'java', 'arc', 'kun', 'descend', 'y_n', 'secretary', 'a_p', 'nucleotide', 'relation', 'tide', 'devu', 'cablecar', 'bake', 'earth', 'n_2', 'liss', 'm_2', 'swim', 'miner', 'sale', 'c_3', 'practice', 'evaluate', 'katie', 'modern', 'nm', 'weather', 'illustration', 'san', 'h1', 'boboniu', 'feed', 'bb', 'joke', 's_5', 'composite', 'hang', 'towards', 'amazing', 'mom', 'purpose', 'chest', 'dream', 'unable', 'balloon', 'uniform', 'obvious', 'vector', 'convenience', 'bird', 'consecutively', 'till', 'evenly', 'k_j', 'overflow', 'defeat', 'vovas', 'ray', 'wind', 're', 'poem', 'boat', 'tax', 'industry', 'peak', 'rouble', 'leap', 'fortunately', 'equilateral', 'dissatisfaction', 'az', 'a0', 'bored', '2d', 'conditioner', 'usb', 'release', 'placement', 'gray', 'nonzero', 'instability', 'success', 'perfectly', 'x3', 't_n', 'boot', 'marmot', 'sculpture', 'invert', 'd_j', 'sergei', 'bashar', 'matching', 'ebne', 'collision', 'sound', 'conduct', 'lay', 'war', 'sn', 'decorate', 'etc', 'takoyaki', 'seem', 'financial', 'roman', 'lyric', 'tourist', 'curious', 'regard', 'corridor', 'meal', 'criterion', 'mushroom', 'w_2', 'unlimited', 'trouble', 'camel', 'indeed', 'pixel', 'kayak', 'deny', 'especially', 'nk', 'few', 'wizard', 'subsequent', 'painter', 't_3', 'jam', 'gather', 'anya', 'saturday', 'i_k', 'mathematician', 'examination', 'creature', 'consistent', 'hacker', 'chance', 'content', 'wa', 'firecracker', 'hooligan', 'refer', 'lever', 'maria', 'pink', 'flow', 'operate', 'p_m', 'bertown', 'click', 'woman', 'desk', 'cartesian', 'pythagorean', 'author', 'zookeeper', 'karen', 'ladder', 'malek', 'id', 'zoo', 'factorial', 'fulfill', 'source', 'series', 'xy', 'vertically', 'burn', 'xxx', 'buyer', 'pos_j', 'semifinal', 'theory', 'decision', 'pointer', 'enemy', 'measurement', 'active', 'eve', 'untangle', 'b_k', 'entry', 'shark', 'asterix', 'reachable', 'du', 'originally', 'law', 'blank', 'steward', 'kitten', 'hh', 'formal', 'nine', 'alien', 'care', 'repair', 'q_2', 'accidentally', 'actual', 'technique', 'rocket', 'upon', 'somewhere', 'id_i', 'farm', 'brew', 'detail', 'postcard', 'timofey', 'stable', 'cockroach', 'avenger', 'highway', 'central', 'admissible', 'cupboard', 'inequality', 'understanding', 'river', 's_y', 's_x', 'hamburger', 'derive', 'episode', 'anagram', 'greg', 'biscuit', 'pineapple', 'increment', 'aabb', 'okabe', 'silver', 'camp', 'coloring', 'anyone', 'shall', 'gap', 'electricity', 'haiku', 'corporation', 'cannon', 'although', 'sk', 'subproblem', 'unused', 'copybook', 'python', 'clarity', 'c_k', 'slip', 'future', 'obelisk', 'hope', 'phase', 'market', 'abcde', 'manhattan', 'polar', 'ringo', 'bun', 'permute', 'branch', 'news', 'bomb', 'cashier', 'ber', 'cope', 'seventh', 'interest', 'fret', 'basement', 'valerie', 'champion', 'joisino', 'flag', 'somebody', 'polynomial', 'support', 'tag', 'rainy', 'experience', 'bore', 'identify', 'ax', 'caterpillar', 'wheel', 'mug', 'a_y', 'folder', 'competitive', 'sufficient', 'backward', 'stripe', 'harry', 'vadim', 'ternary', 'b_q', 'h2', 'hhmm', 'certificate', 'claus', 'd_k', 'x_4', 'coalition', 'website', 'coursework', 'lower', 'i1', 'diameter', 'strict', 'avoid', 'artem', 'ability', 'haybale', 'joker', 'capture', 'declare', 'rainbow', 'fine', 'developer', 'basket', 'response', 'reference', 'designer', 'toward', 'satisfie', 'mar', 'improvement', 'violate', 'x_0', 'legend', 'design', 'duplicate', 'bond', 'fennec', 'xo', 'conclude', 'imagine', 'penalty', 'hot', 'alena', 'daily', 'john', 'numerate', 'fafa', 'numbered', 'envoy', 'portal', 'banner', 'zane', 'consequently', 'complicated', 'numeral', 'escape', 'bucket', 'a_v', 'ancient', 'meeting', 'sided', 'encoding', 'experienced', 'delegation', 'grisha', '0s', 'whenever', 'stre', 'pokémon', 'kit', 'unordered', 'bean', 'symmetric', 'counterclockwise', 'alternately', 'coconut', 'article', '2times', 'horizontally', 'sage', '1st', 'mix', 'bm', 'triangular', 'death', 'funt', 'mikhail', 'enjoy', 'chizhik', 'xp', 'mister', 'involve', 'delicious', 'sad', 'encryption', 'fee', 'seater', 'p_0', 'simplicity', 'issue', 'eventually', 'solved', 'costume', 'textbf', 'ainta', 'whiteboard', 'observe', 'diagram', 'growth', 'decrement', 'andryusha', 'rose', 'polyhedron', 'vehicle', 'honey', 'filling', 'attach', 'bidirectional', 'q_1', 'p_k', 'nearby', 'wooden', 'sensitive', 'flavor', 'b_y', 'b_x', 'magical', 'tiredness', 'attract', 'fibonacci', 'icpc', 'terminal', 'joe', 'verdict', 'masse', 'explosion', 'sparrow', 'broken', 'evolution', 'bicarp', 'span', 'factory', 'keg', 'quiz', 'leaf', 'surely', 'dress', 'tuesday', 'neko', 'kindergarten', 'moon', 'cold', 'loser', 'hungry', 'thursday', 'dasha', 'automaton', 'nb', 'transformation', 'extract', 'bin', 'drift', 'naturally', 'trophy', 'denis', 'pennant', 'ps', 'brainfuck', 'ad', 'infinity', 'i2', 'bitcoin', 'hug', 'a_t', 'unsuccessful', 'yard', 'instrument', 'rebuild', 't_j', 'sequentially', 'cowbell', 'possibility', 'drawing', 'forever', 'olya', 'problemset', 'omkar', 'argument', 'tuple', 'progress', 'contract', 'expensive', 'email', 'gcdsum', 'mole', 'byte', 'arpa', 'departure', 'testing', 'unlucky', 'dictionary', 'publication', 'suddenly', 'inclusively', 'fractional', 'salary', 'r_j', 'semitone', 'euro', 'checker', 'rider', 'reading', 'xr', 'goto', 'verse', 'aforementioned', 'arya', 'accordingly', 'geq', 'scheme', 'pearl', 'julia', 'durability', 'credit', 'glue', 'natasha', 'wednesday', 'flick', 'january', 'classmate', 'separately', 'knock', 'sun', 'opportunity', 'probably', 'baloon', '4n', 'bold', 'petal', 'logbook', 'radiator', 'joon', 'easily', 'cellular', 'story', 'foot', 'holiday', 'demonstration', 'bab', 'jewel', 'iff', 'overtake', 'agent', 'cylinder', 'rounding', 'research', 'intelligence', 'snap', 'zebra', 'frequency', 'cheese', 'bizon', 'timezone', 'unchanged', 'honest', 'wow', 'kyu', 'trampoline', 'dangerous', 'ileq', 'rival', 'essence', 'flash', 'meat', 'human', 'newspaper', 'reset', 'bfs', 'raise', 'adel', 'scientific', 'village', 'denominator', 'laurenty', 'lena', 'sofia', 'own', 'tle', 'vanilla', 'kirill', 'cool', 'sx', 'lift', 'ith', 'bound', 'dominant', 'resistance', 'smash', 'emote', 'achievable', 'pizzeria', 'drown', 'pseudocode', 'boxer', 'chaneka', 'crucian', 'ashishgup', 'counting', 'bid', 'router', 'analyze', 'km', 'filler', 'attendant', 'construction', 'temple', 'winter', 'loves', 'gnome', 'curve', 'resource', 'joi', 'clearly', 'celebration', 'effect', 'presenter', 'removal', 'development', 'enormous', 'weird', 'arrayhead', 'cheat', 'apart', 'ρ', 'jacket', 'sew', 'stairway', 'summand', 'qi', 'charger', 'brightness', 'an', 'navigation', 'x^', 'sy', 'access', 'k_1', 'scream', 'sum_1', 'borya', 'music', 's_r', 'substance', 'resistor', 'winnie', 'mess', 'powerful', 'orac', 'interview', 'heart', 'registration', 'sqrt', 'b_3', 'violet', 'yuo', 'calculator', 'geometric', 'knapsack', 'closet', 'victim', 'voldemort', 'kuro', 'alphabetically', 'chemical', 'major', 'inc', 'furthermore', 'efficiency', 'adore', 'inscribed', 'minor', 'vertice', 'susie', 'francisco', 'musketeer', 'len', 'elimination', 'prisoner', 'agc', 'v_k', 'crossing', 'backpack', 'numbering', 'c_x', 'c_y', 'div2', 'imp', 'expedition', 'withdraw', 'lovely', 's_l', 'carl', 'robber', 'xyz', 'spinner', 'heidi', 'ugly', 'exception', 'x_k', 'y_4', 'circular', 'fully', 'density', 'academic', 'experiment', 'tak', 'anywhere', 'stormtrooper', 'abca', 'tom', 'aquarium', 'document', 'net', 'horse', 'a_6', 'rope', 'guardpost', 'dj', 'vk', 'zmei', 'season', 'nauuo', 'highlight', 'getmin', 'y_m', 'dad', 'fish', 'encounter', 'model', 'yr', 'hint', 'reflection', 'director', 'conan', 'ob', 'yn', 'eugeny', 'depict', 'subscription', 'kvass', 'pc', 'greedy', 'bran', 'wabbit', 'borrow', 'raspberry', 'vivek', 'freely', 'club', 'ru', 'wash', 'manually', 'ensure', 'clarification', 'verify', 'snake', 'preprocess', 'brown', 'impulse', 'father', 'communicate', 'tb', 'pylon', 'da', 'ostap', 'fire', 'reordering', 'tum', 'jurys', 'execution', 'numerator', 'k_2', 'integ', 'linova', 'pancake', 'mathematical', 'previously', 'craft', '2nd', 'daru', 'angry', 'contact', 'simon', 'intermediate', 'bakery', 'wet', 'y0', 'onsite', 'inform', 'appearance', 'luke', 'telephone', 'jeff', 'muzzle', 'footprint', 'bribe', 'x0', 'hl', 'wardrobe', 'dash', 'engine', 'nonnegative', 'mino', 'ari', 'excessive', 'vika', 'alexander', 'contradictory', 'hash', 'jack', 'possess', 'inf', 'crack', 'hongcow', 'excitement', 'equip', 'hall', 'splitting', 't_k', 'responsible', 'update', 'aquamoon', 'yield', 'ancestor', 'bet', 'sparkle', 'zz', 'recent', 'useful', 'tetrahedron', 'twilight', 'knot', 'vs', 'demonstrate', 'rhombus', 'tube', 'equality', 'takeoff', 'u_1', 'bipartite', 'x_b', 'm2', 'y_a', 'embed', 'competitor', 'pashmak', 'rozdil', 'trade', 'pwd', 'lds', 'bicep', 'cause', 'decrypt', 'bera', 'stretch', 'adil', 'parliamentarian', 'kostya', 'slava', 'february', 'wrestler', 'instal', 'slash', 'fancy', 'wealth', 'subtraction', 'repaint', 'catacomb', 'surprise', 'y_b', 'x_a', 'c_m', 'serval', 'colored', 'inscribe', 'significant', 'boundary', 'transportation', 'history', 'quarrel', 'dimas', 'teammate', 'outer', 'lala', 'government', 'randomly', 'tennis', 'h_n', 'beroffice', 'maksim', 'regulation', 'ta', 'codecraft', 'hobbit', 'stomachache', 'topcodeer', 'deer', 'schoolchildren', 'april', 'exhibition', 'sheldon', 'playing', 'raccoon', 'nezzar', 'infect', 'timetable', 'souvenir', 'mana', 'moriarty', 'spit', 'limited', 'arm', 'haircut', 'na', 'prohibit', 'v_n', 'demid', 'decline', 'ya', 'tx', 'insertion', 'unary', 'sky', 'caisa', 'ty', 'pleased', 'hurry', 'a^', 'a5', 'ss', 'b3', 'g_i', 'budget', 'l_n', 'spyke', 'parking', 'crust', 'clothe', 'despite', 'clerk', 'automatically', 'bread', 'co', 'yesterday', 'cyclically', 'distinguish', 'ambiguity', 'recite', 'administration', 'accordion', 'accident', 'lowbit', 'enclose', 'manapoint', 'tasty', 'arare', 'spade', 'primitive', 'int', 'sticker', 'cipher', 'pop', 'seating', 'jon', 'malfunction', 'paste', 'pekora', 'inexperience', 'ink', 'brave', 'database', 'practical', 'churu', 'typei', 'frequently', 'menu', 'bandit', 'chouti', 'mysterious', 'artificial', 'colonel', 'twin', 'anna', 'abbreviation', 'raze', 'suspect', 'owner', 'asterisk', 'nam', 'qualification', 'zone', 'plastic', 'somehow', 'pashas', 'latter', 'meaning', 'w_n', 'ping', 'stat', 'name2', 'bba', 'name1', 'teh', 'pj', 'crop', 'android', 'elodreip', 'awruk', 'flint', 'business', 'bounce', 'ugliness', 'vary', 'cossack', 'parallelogram', 'opinion', 'reasonable', 'vasilisa', 'linear', 'internal', 'anyas', 'wub', 'refuel', 'amidakuji', 'ildar', 'tent', 'shawarma', 'specialization', 'bs', 'attempt', 'bumper', 'pond', 'cave', 'recieve', 'mathematic', 'n_0', 'department', 'xml', 'compatible', 's1s2', 'b_0', 'sunny', 'quotient', 'landing', 'ababa', 'public', 'wilbur', 'eye', 'koyomi', 't_d', 'peach', 'hanako', 'ldots', 'aaabb', 'pear', 'slogan', 'os', 'successively', 'immediate', 'cc', 'kay', 'whitespace', 'coronavirus', 'upward', 'chan', 'hexadecimal', 'carefully', 'sanatorium', 'breakfast', 'supper', 'port', 'alone', 'cutting', 'receipt', 'textrm', 'champagne', 'minibus', 'filya', 'integral', 'runner', '3rd', 'informatic', 'redo', 'preferred', '9', 'heat', 'activity', 'dna', 'svo', 'railroad', 'aesthetic', 'yasser', 'ordering', 'jinotega', 'yj', 'bacterium', 'ropewalker', 'l_k', 'r_k', 'indistinguishable', 'cn', 'kitayuta', 'up', 'mad', 'delimiter', 'bitwise_operationand', 'subrectangle', 'dn', 'cyan', 'nick', 'abcdef', 'poster', 'canvas', 'squirrel', 'xj', 'countryside', 'loss', 'grandmother', 'namei', 'dormi', 'ascent', 'wise', 'assistant', 'alternatively', 'correction', 'tail', 'extend', 'nanosecond', 'william', 'gg', 'union', 'knowledge', 'proud', 'girlfriend', 'jewelry', 'respective', 'supermarket', 'master', 'multiplication', 'familiar', 'exhibit', 'december', 'library', 'cba', 'remote', 'kyoya', 'behave', 'recognition', 'monitor', 'russian', 'p4', 'ns', 'administrator', 'shichi', 'lighten', 'thank', 'required', 'u_2', 'lunlun', 'settle', 'rent', 'friendly', 'r_n', 'snowflake', 'theater', 'bell', 'periodic', 'geno', 'bbb', 'ksusha', 'consumption', 'sense', 'fairy', 'basis', 'nichola', 'lemon', 'transaction', 'friday', 'pmatrix', 'unnecessary', 'seryozha', 'potential', 'marble', 'numeration', 'foul', 'lightning', 'medians', 'safely', 'exclusive', 'zahar', 'tourism', 'gerda', 'untie', 'election', 'investigate', 'berpizza', 'v_j', 'joint', 'cable', 'deviation', 'cj', 'saturation', 'wildcard', 'chunk', '4s', 'x_s', 'shuntsu', 'y_s', 'suited', 'topmost', 'recover', 'raman', 'pedestrian', 'sub', 'bind', 'omkarray', 't0', 'conversion', 'trivial', 'y_0', 'innokentiy', 'planetforce', 'p_r', 'family', 'oh', 'authority', '1_i', 'bone', 'p_l', 'disjoint', 'entirely', 'wonderful', 'fastestfinger', 'protein', '2_i', 'isomorphic', 'thor', 'dmitry', 'kate', 'grigory', 'valeric', 'horseshoe', 'luck', 'collide', 'charlie', 'antisimon', 'occupied', 'boomerang', 'idi', 'pm', 'publish', 'essay', 'bookshelf', 'paul', 'chanek', 'dodecahedron', 'willing', 'son', 'principle', 'bmatrix', 'aokis', 'bwbwbwbw', 'applejack', 'national', 'kizahashi', 'mindigit', 'p_3', 'π', 'removemin', 'scalepan', 'mitya', 'welcome', 'activation', 'ei', 'gorynich', 'olyas', 'trap', 'elsie', 'maxdigit', 'pencil', 'y^', 'theorem', 'n_3', 'alya', 'insensitive', 'acb', 'dumpling', 'invitation', 'syllable', 'representable', 'simion', 'corman', 'beaker', '2s', 'zoma', 'kilo', 'flood', 'stall', 'kefir', 'adilbek', 'ambiguous', 'obelix', 'traditional', 'yay', 'kmod', 'pk', 'hairdresser', 'optimize', 'extremely', 'mentor', 'gun', 'bounding', 'triad', 'beforehand', 'oy', 'overlapping', 'parade', 'seattle', 'sam', 'breach', 'unhappy', 'subsequnce', 'vvvovvv', 'eighth', 'magnitude', 'challenging', 'rearrangement', 'aim', 'oclock', 'v0', 'dolphin', 'filipino', 'behind', 'orpheus', 'bullet', 'dark', 'rk', 'iterate', 'oplus', 'serejas', 'weapon', 'omit', 'h_j', 'p_y', 'p_x', 'ag', 'occurence', '2a', 'bx', 'tl', 'wwwwwwww', 'mile', 'kalevitch', 'playlist', 'pinkie', 'pe', 'anastasia', 'pseudo', 'rise', 'connection', 'seal', 'wwwbwwbw', 'utkarsh', 'magnetic', 'absolutely', 'strawberry', 'stave', 'bronze', 'qwerty', 'celsius', 'aaaaaa', 'fairly', 'watermelon', 'equilibrium', 'simplified', 'separator', 'past', 'antenna', 'xxxx', 'automatic', 'sagheer', 'lemonade', 'jinotegas', 'lcs', 'outline', 's3', 'cf', 'codefestival', 'millimeter', 'bicycle', 'rifle', 'clever', 'coordinator', '1010_2', 'secondly', 'newbie', 'photograph', 'weighted', 'associate', 'writing', 'inflation', 'statistic', 'anyway', 'coverage', 'zscoder', 'ear', 'imperfection', 'underscore', 'и', 'ioi', 'official', 'marked', 'translate', 'expose', 'congruent', 'observatory', 'acquaint', 'clone', 'akshat', 'aabc', 'compilation', 'kashtanka', 'ah', 'safety', 'baa', 'discuss', 'slightly', 'blueberry', 'bionicsolver', 'robo', 'inorder', 'complex', 'quadcopter', 'surface', 'ni', 'wjmzbmr', 'thomas', 'combine', 'frodo', 'u_j', 'jatc', 'giraffe', 'relax', 'tape', 'a_z', 'maker', 'j_2', 'j_1', 'opposition', 'cogsworth', 'ichiro', 'committee', 'gregorian', 'd_m', 'false', 'ambidexter', 'displaystyle', 'waterborne', 'contradict', 'absorption', 'literally', 'shuffling', 'leonard', 'penny', 'cme', 'collider', 'dryer', 'thano', 'terminate', 'volodya', 'expectation', 's_ℓ', 'melt', 'hop', 'constanze', 'midterm', 'smith', 'scared', 'uniformly', 's_1s_2', 'focus', 'cicasso', 'tiling', 'delivery', 'perfectionist', 'aca', 'icosahedron', 'july', 'viability', 'geometry', 'acm', 'heal', 'bca', 'sudoku', 'auction', 'minister', 'a_q', 'numerical', 'horseman', 'rewrite', 'toast', 'footman', 'lj', 'insect', 'brand', 'gas', 'expected', 'bend', 'koutsu', 'png', 'cocktail', 'conference', 'careful', 'aisle', 'expansion', 'police', 'recruit', 'satoshi', 'voting', 'multi', 'modular', 'x_m', 'vitya', 'euclidean', 'e869120', 'nn', 'photogenic', 'november', 'avenue', 'olga', 'tilt', 'osaki', 'slot', 'n_d', 'galaxy', 'sweep', 'scroll', 'koala', 'cranberry', 'lettering', 'matryoshkas', 'bishwock', 'ms', 'heist', 'hdd', 'oira', 'russell', 'properly', 'backwards', 'tetromino', 'amp', 'berlanese', 'swing', 'roma', 'tolyas', 'void', 'trygub', 'varda', 'xs', 'm1', 'yuri', 'doc', 'cooking', 'z_i', 'clown', 'reminder', 'underbrace', 'cur', 'indice', 'slavik', 'sink', 'dungeon', 'rational', 'cap', 'q_j', 'semi', 'paris', 'mishkas', 'flagstone', 'handshake', 'bidder', 'fangy', 'ada', 'tac', 'hypothesis', 'unimodal', 'disappoint', 'c_t', 'toe', 'k3', 'x_c', 'burrow', 'aki', 'ceiling', 'xk', 'flour', 'actively', 'biginteger', 'programme', 'doubt', 'slow', 'wbwbwbwb', 'ace', 'disturb', 'inequation', 'i_j', 's_v', 'cheater', 'explore', 'visited', 'y3', 'bonus', 'photobook', 'cb', 'prettiness', 'y_c', 'install', 'tic', 'ashot', 'shuffled', 'quadrilateral', 'ccc', 'petricium', 'lava', 'aloud', 'carve', 'cane', 'ii', 'mashiro', 'tradition', 'cliff', 'v_d', 'payout', 'bridge', 'preliminary', 'perimeter', 'tidak', 'gabriel', 'modcrab', 'follows', 'determined', 'pb', 'tor', 'ia', 'fn', 'popularity', 'axle', 'bolt', 'incredible', 'quest', 'operating', 'september', 'shield', 'kiwis', 'template', 'president', 'wandering', 'surprised', 'decreasing', 'inventory', 'uzhlyandian', 'worried', 'aaab', 'viola', 'qaq', 'saitama', 'whatever', 'bugdonald', 'edit', 'cloudy', 'dancing', 'io', '^ks', 'ai1', 'chord', 'commission', '337underline', 'niwango', 'hideo', 'cv', 'cgt', '2p', 'smallr', '3p', 'barney', 'traditionally', 'refresh', 'egor', 'fahrenheit', 'font', 'enhance', 'mathrm', 'chizhiks', 'pleasure', 'basic', 'sci_num', 'nap', 'coolness', 'wcd', 'identity', 'inn', 'occasionally', 'calmly', 'selection', 'hooray', 'contradiction', 'preorder', 'august', 'weak', 'forth', 'disposal', 'production', 'yaroslav', 'gravity', 'characteristic', 'adventure', 'hike', 'abaa', 'compote', 'tip', 'killjoy', 'repost', 'asya', 'csl', 'mapping', 'sapper', '^y', 'cargo', 'wander', 'famil', 'succeed', 'leo', 'beneath', 'octahedron', 'ik', 'ringroad', 'kg', 'nil', '^^^^^', 'cis', 'upcoming', 'maintain', 'generation', 'sic', 'bogdan', 'joey', 'rachel', 'hander', 'successive', 'council', 'reader', 'treat', 'wood', 'tale', 'bolek', 'deepening', 'reveal', 'towel', 'substitute', 'excited', 'extension', 'composition', 'sheep', 'ololo', 'ie', 'freda', 'a2n', 'reconnaissance', 'upwards', 'owl', 'bobonius', 'abcdfdcba', 'overseas', 'guide', '1a', 'emuskald', 'op', 'surround', 'juicer', 'trajectory', 'uncolored', '^x', 'mt', 'ivar', 'warp', 'isoscele', 'lrlr', 'joy', 'valeras', 'dzy', 'upsolve', 'whereas', 'mound', 'ababcba', 'knockout', 'pencilcase', 'mezo', 'shorten', 'virus', 'blood', 'diagonally', 'soundcloud', 'rb', 'majority', 'sj', 'agafon', 'overrightarrow', 'bajtek', 'spaceship', 'correspondence', 'lake', 'suffer', 'sail', 'fountain', 'prefecture', 'enable', 'web', 'plain', 'poker', 'cerene', 'medium', 'div1', 'boniface', 'equator', 'levko', 'permit', 'bmod', 'unfairness', 'rfloor', 'alpha', 'decay', 'lfloor', 'carousel', 'nought', 'kanno', 'absorb', 'rj', 'slide', 'russia', 'konrad', 'storehouse', 'barbara', 'grown', 'monkey', 'simplify', 'pitch', 'staff', 'crazy', 'f2', 'kerem', 'comment', 'scanner', 'yamanote', 'kana', 'dirty', 'furik', 'flea', 'partitioning', 'electronic', 'establish', 'critical', 'paragraph', 'f1', 'megabyte', 'tsubo', 'truth', 'tetris', 'seller', 'useless', 'reflect', 'messiness', 'wide', 'monica', 'phoebe', 'negligible', 'rice', 'abaca', 'ross', 'caesar', 'redirect', 'killer', 'argus', 'ha', 'quick', '4x', 'valerko', 'fb', 'kilogram', 'anfisa', 'mashmokh', 'mafia', '3', 'keyence', 'anti', 'pypy', 'translation', 's_6', 'rat', 'cerberus', 'unless', 'sein', 'peek', 'longcat', 'ooo', 'cnt_w', 'internationalization', 'magazine', 'rich', 'mischievous', 'influence', 'jars', 'laziness', 'survive', 'fa', 'carrier', 'luckily', 'mu', 'andrewid', 'kuriyama', 'c_4', 'stadium', 'miao', 'imply', 'willman', 'detective', 'wolf', 'hyperspace', 'l_j', 'whatsoever', 'dump', 'hunger', 'kaiden', 'pamphlet', 'racetrack', 'preparation', 'navigator', 'w1', 'w2', 'lion', 'court', 'bf', 'june', 'partially', 'default', 'ddddddd', 'cinema', 'audio', 'evolve', 'mouth', 'malvika', 'toggle', 'revive', 'decider', 'num1', 'heavy', 'doll', 'singular', 'bidirectionally', 'yymm', 'num2', 'unrecognized', 'keen', 'unpainted', 'hw', 'acxb', 'butcoder', 'ayoub', 'mp', 'hill', 'ddd', 'trace', 'subtitle', 'isolated', 'newly', 'creative', 'circumference', 'katya', 'aramic', 'script', 'golem', 'tenant', 'zzz', 'ogo', 'speech', 'altitude', 'debt', 'everywhere', 'journal', 'ravioli', 'teleport', 'glance', 'wave', '^i', 'rick', 'p0', 'stew', 'anatoly', 'missile', 'ilyas', '3underline', 'capitalization', 'sum_3', 'unite', 'bk', 'predetermine', 'karl', 'ocean', 'perspective', 'scanf', 'propose', 'discrete', 'korean', 'sculptor', 'setting', 'mystery', 'mn', 'gamepad', 'yakko', 'torch', '本', 'printf', 'x4', 'sneak', 'operand', 'outstanding', 'hundred', 'bash', 'dishonest', 'ttt', 'perhaps', 'sns', 'varum', 'bufferedreader', 'printwriter', 'eof', 'abcda', 'abccba', 'respond', 'rid', 'pave', 'lengthen', 'ivory', 'ebony', 'orchestra', 'specie', 'inspect', 'melody', 'b^', 'dante', 'untreated', 'gi', 'bijou', 'reject', 'triangulation', 'kolyas', 'nikita', 'ram', 'ahead', 'dining', 'tj', 'engineer', 'polycarpuss', 'interior', 'xa', 'tool', 'displeasure', 'n_4', 'boredness', 'incident', 'kuroni', 'potter', 'mb', 'quasibinary', 'hexagonal', 'detect', 'isq', 'metal', 'qaqaqysyioiwin', 'luxurious', 'petersburg', 'arthur', 'fake', 'spin', 'eleven', 'forwards', 'inhabit', '1_2', '1001_2', 'rr', 'zcy', 'xorangle', 'commentary', 'residential', 'inconvenience', 'physical', 'eeyore', 'demolish', 'anniversary', 'management', '0leq', 'tuna', 'lexicographic', 'conc', 'abaaba', 'codeforcesisawesome', 'leadership', 'grandfather', 'caracal', 'zitz', 'chatty', 'koch', 'borze', 'arise', 'akko', 'bthero', 'hey', '4th', 'deactivate', 'duff', 'cracker', 'prediction', 'lara', 'unfortunate', 'comfort', 'demand', 'walking', 'teapot', 'spiral', 'michal', 'concept', 'purple', 'similarity', 'lorry', 'carrying', 'nondecrease', 'dubstep', 'heating', 'kirills', 'i_t', 'elementary', 'tonight', 'alicia', 'ration', 'sum_i', 'optimum', 'subribbon', 'kefas', 'xxxxxx', 'functionality', 'arkadys', 'highly', 'unbalanced', 'ruler', 'rush', 'here', 'qq', 'ar', 'vus', 'midnight', 'allocate', '1s', 'console', 'miroslav', 'fyodor', 'afraid', 'topchemist', 'chemforce', 'c3', 'mehrdad', 'beta', 'matroskin', 'pullover', '10_2', 'unlike', 'browser', 'occasion', 'ohana', 'style', 'uncertain', 'i_3', 'shortcut', 'shout', 'contrary', 'relationship', 'tanyas', 'fluttershy', 'george', 'reziba', '1000_2', 'jzzhu', 'venture', 'chief', '8vc', 'e2', 'e1', 'curx', 'truly', 'www', 'efficiently', 'fold', 'abac', 'winning', 'w_j', 'richelimakieu', 'la', 'presence', 'molecule', 'accurate', 'fasten', 'grower', 'context', 'brigade', 'children', 'protocol', 'acrobat', 's_0', 'merchant', 'precede', 'valley', 'twelve', 'lr', 'drench', 'y^x', 'x^y', '5p', 'chewbacca', 'adn', 'indent', 'query_1', 'deni', 'continuously', 'vacant', 'q_t', 'byteland', 'entertain', 'outburst', 'bender', 'evaluation', 'rng', 'deploy', 'inspector', 'loaded', 'expected_value', 'i_p', 'testimony', 'calvin', 'sleeping', 'crush', 'reconstruct', 'ababab', 'mentsu', 'absent', 'query_q', 'cthulhu', 'cloth', 'spring', 'wipe', 'distract', 'respondent', 'detailed', 'abbc', 'senior', 'identification', 'economy', 'v3', 'ex', 'technology', 'ey', 'fortune', 'sean', 'sengoku', 'ltlt', 'diary', 'fridge', 'marina', 'taste', 'advantage', 'dorm', 'riddle', 'r_t', 'struggle', 'finalist', 'deep', '4p', 'unsafe', 'shy', 'beaverke', 'hitachi', 'serezha', 'arcadys', 'egresso', 'anymore', 'fool', 'pangram', 'warn', 'thickness', 'juicy', 'dynamic', '3x', 'boarding', 'hometown', 'afterwards', 'afternoon', 'cfrac', 'onetwone', 'percentage', 'manipulate', 'idle', 'female', 'duty', 'prettiest', 'ftp', 'daenery', 'acgt', 'dwarven', 'referee', 'martian', 'supercentral', 'a_u', 'jiro', 'refuse', 'gapja', 'lucas', 'y_k', 'kurohashi', 'jr', 'sis', 'tavas', 'disconnect', 'dk', 'dispute', 'shooshun', 'condense', 'prison', 'trump', 'meteor', '5', 'і', 'international', 'tour', 'cnt', 'assembly', 'd_x', 'grader', 'pony', 'altogether', 'basketball', 'ur', 'particularly', 'abbyy', 'eatforce', 'nakahashi', 'gtgt', 'amaranth', 'relate', 'begonia', 'hamming', 'prepend', 'h_3', 'dianthus', 'pari', 'doughnut', 'discharge', 'adaltik', 'bingo', '0', '1p', 'abbb', 'hypotenuse', 'valya', 'tolya', 'horace', 'showcase', 'valyas', 'uslada', 'menshykov', 'lime', 'mau', 'commonly', 'panic', 'meanwhile', 'overcome', 'officer', 'ivans', 'satoshie', 'dry', 'tolik', 'randomaccess', 'awful', 'rescue', 'annoy', 'evacuate', 'beru', 'bbaba', 'unrated', 'sajjad', 'fireball', 'nicholas', 'mc', 'peters', 'recycle', 'muscle', 'diversity', 'reversal', '1w', 'citadel', 'trust', 'harmonize', 'kkkhoon', 'khun', 'shut', 'cage', 'catamaran', 'check_num', 'hilbert', 'ania', 'david', 'tiny', 'gasoline', 'unpleasant', 'truck', 'deletefirst', 'monopoly', 'ichihime', 'koouper', 'unbalancedness', 'faculty', 'deletelast', 'snacktower', 'abcdfdc', 'analysis', 'qualifying', 'uul', 'vacancy', 'agt', 'px', '10k', 'maester', 'microsecond', 'scare', 'd_b', 'allowance', 'vowelly', 'thought', 'reddreamer', 'np', 'sayaka', 'aji', 'spruce', 'modification', 'boil', 'julian', 'd_a', 'fac', 'd3', 'gennady', 'batch', 'bead', '^d', 'soroban', 'brain', 'stability', 'printhelloprint123', 'partner', 'eel', 'parmida', 'deliciousness', 'ootori', 'appoint', 'baaba', 'obfuscation', 'dumb', 'mission', 'vičkopoli', 'howard', 'radar', 'rajesh', 'cheetah', 'catherine', 'boredom', 'info', 'vip', 'twenty', 'balph', 'attractiveness', 'pearlo', 'cab', 'aware', 'fizzbuzz', 'z_2', 'booklet', 'taknese', 'z_1', 'stake', 'compile', 'inzane', 'noun', 'textbook', 'willy', 'rostislav', 'intend', 'wither', 'query_i', 'lunar', 'art', 'container', 'bye', 't_4', 'lvert', 'goat', 'bac', 'recursive', 'trend', 'cauldron', 'abccbaghghghgdfd', 'olo', 'x_q', 'sorting', 'subscribe', 'genius', 'bbbb', 'weekend', 'admin', 'j_p', 'buff', 'landscape', 'nineteen', 'memorize', 'ksenia', 'population', 'atcode', 'misfortune', 'sake', 'fasd', 'asdfasdf', 'f_1', 'saucer', 'hellno', 'pleasant', 'certainly', 'r^', 'scrooge', 'mcduck', 'eligible', 'l^', 'cubical', 'nnn', 'tiger', 'baacb', 'yuor', 'prank', 'specialize', 'sunlight', 'bbw', 'crash', 'solar', 'elevation', 'reversi', 'entertainment', 'october', 'ys', 'mmyy', 'immigrant', 'k_n', 'letters', 'puppet', 'allin', 'unusually', 'draude', 'rebus', 'unlock', 'redistribute', 'crow', 'approve', 'radix', 'entrust', 'pool', 'profitable', 'alter', 'rebel', 'prototype', 'mail', 'iroha', 'bitwise_operationor', 'r22', 'physics', 'severe', 'nastia', 'peace', 'takaha', 'classic', 'r12', 'adjust', 'boulevard', 'shapur', 'induced', 'culture', 'employ', 'extreme', 'abcdabc', 'ek', 'disappointed', 'crushi', 'owf', 'technical', 'poetry', 'anadi', 'cubic', 'ferris', 'consequent', 'adorable', 'abbreviate', 'tanechka', 'troupe', 'rounded', 'z_a', 'lineland', 'z_b', 'recipient', 'inconsistent', 'recolore', 'valence', 'importance', 'teleporter', 'arpas', 'maxi', 'counterexample', 'urgently', 'sharic', 'ant', 'ang', 'wrapping', 'evenness', 'pascal', 'worth', 'collapse', 'feeling', 'ultimate', 'walnut', 'rev_k', 'endless', 'min1', 'max1', 'min2', 'max2', 'min3', 'max3', 'okay', 'mini', 'fashion', 'enforcement', 'evi', 'responsibility', 'mary', 'toad', 'subbarray', 'lm', 'r_3', 'detachment', 'patter', 'convince', 'untouched', 'nod', 'bw', 'creation', 'cypher', 'addtoleft', 'addtoright', 'alcohol', 'ababb', 'rightarrow', 'nusook', 'dd', 'a6', 'gezan', 'origami', 'tozan', 'watchv', 'youtube', 'abcba', 'removed', 'precision', '3a', 'yaki', 'totally', 'yakiniku', 'grand', 'h_v', 'acquire', 'shrink', 'inputte', 'sick', 'mistakenly', 'colorful', 'koshien', 'curiosity', 'medalist', 'fond', 'curse', 'autumn', 'murder', 'million', 'concentric', 'supernatural', 'vaganych', 'quasi', 'discomfort', 'clothing', 'hummingbird', 'recommendation', 'primary', 'indirectly', 'centre', 'dinosaur', 'laboratory', 'pipe', 'lk', 'naruto', 'coal', 'wakko', 'duel', 'goo', 'entangle', 'prevent', 'ilia', 'piranhas', 'relatively', 'wisely', 'kivawu', 'breadth', 'd_3', 'matchstick', 'shaass', 'kivλ', 'traversal', 'hanafuda', 'delegate', '3s', 'crusher', 'renumeration', '8lt', 'unweighted', 'monotonic', 'hidden', 'effort', 'petrol', 'chloe', 'hook', 'unluckiness', 'tattah', 'floyd', 'suggestion', 'leafeon', 'dacha', 'flareon', 'gogol', 'jolteon', 'ascending', 'fatigue', 'dragonfly', 'ai2', 'shortest', 'pikachu', 'doctoral', 'postdoctoral', 'eevee', 'i18n', 'radewoosh', 'personal', 'ukulele', 'triplet', 'grandmaster', 'annual', 'l_q', 'a_s', 'musical', 'a_o', 'r_q', 'stuff', 'aac', 'miyako', 'd_q', 'dwango', 'transistor', 'notepad', 'euterpe', 'incur', 't_m', 'b0', 'goodbye', 'fadi', 'architect', 'expert', 'imagined', 'peculiar', 'culprit', 'baby', '101_2', 'haruki', 'm_n', 'thinking', 'novel', 'emerald', 'industrial', 'pa', 'waiter', 'treasury', 'cultivate', 'x1x2', 'chase', 'y1y2', 'hitagi', 'vasiliys', 'vvvv', 'indicator', 'military', 'ruin', 'squidward', 'ay', 'grigorys', 'kitahara', 'sbin', 'w_k', 'ill', 'pip', 'dominos', 'superior', 'thousand', 'hitagis', 'rear', 'fascinate', 'audience', 'pedal', 'strongly', 'abcac', 'eugene', 'carriage', 'nginx', 'usr', 'lend', 'indulge', 'agasa', 'sana', 'bbaa', 'abcdefg', 'arena', 'dodecagon', 'urban', 'reality', 'hikuhashi', 'barricade', 'rev_0', 'a_7', 'ham', 'unfair', 'potentially', 'afford', 'payment', 'giga', 'biology', 'circ', 'mobile', 'berserk', 'analyst', 'anonymous', 'transmission', 'campus', 'incremente', 'float', 'lyft', 'colleague', 'selena', 'farth', 'yp', 'interpret', 'automatize', 'calorie', 'semester', 'mart', 'rumor', 'playable', 'tandem', 'sensible', 'unambiguous', 'impress', 'manana', 'mixed', 'ids', 'fear', 'lately', 'thematic', 'attacker', 'janeiro', 'jumping', 'madame', 'pigeon', 'agency', 'lastly', 'spongebob', 'kovarian', 'fib', 'surprisingly', 'simulate', 'oddity', 'adjacency', 'rio', 'vv', 'xl', 'spare', 'orientation', 'alphanumeric', 'disassemble', 'varo', 's_c', 'grant', 'gleb', 'f_k', 'fischl', 'tone', 'blueprint', 'impatient', 'environment', 'olympics', 'promise', 'cashback', 'controller', 'jett', 'cleaning', 'preffere', 'regret', 'lair', 'resultum', '6x2', 'consideration', 'underlined', 'iii', 'foggy', 'lagertha', 'identifi', 'instantaneously', 'remix', 'inverse', 'log_2', 'trams', 'beef', 'cutlet', 'ell', 'channel', 'broadcast', 'reducible', 'medina', 'bwb', 'remixe', 'nf_i', 'xox', 'b_t', 'cbaabc', 'cbabac', 'sall', 'joty', 'backspace', 'berlandish', 'birlandish', 'depublican', 'remocrat', 'workday', 'baabbb', 'xxo', 'numer', 'orthogonal', 'i3', 'graduate', 'nooras', 'representative', 'agreement', 'techno', 'ncteho', 'league', 'conjecture', 'sewing', 'narrow', 'div', 'concern', 'strain', 'kleq', 'module', 'mainframe', 'amugaes', 'upgrade', 'pet', '1n100', 'whichever', 'xb', 'threaten', 'scoring', 'unmarked', '2leq', 'pavement', 'dmca', 'splitte', 'meshanya', 'theatre', 'ade', 'dea', 'gij', 'ahmed', 'boxs', 'illuminate', 'compiler', 'woodcutter', 'chandler', 'icm', 'zyxzx', 'touma', 'mirai', 'kazusa', 'ogiso', 'setsuna', 'pit', 'correctness', 'ori', 'hound', 'calm', 'manual', 'spectate', 'games', 'manufacture', 'desu', 'rapidly', 'known', 'helo', 'aaaaaaaaaa', 'abracadabra', 'se', 'cnt_1', 'cnt_2', 'cnt_i', 'vepifanov', 'vkcup', 'obey', 'forecast', 'commence', 'ello', 'comrade', 'thwart', 'dya', 'dyas', 'typically', 'fleet', 'empire', 'equiprobably', 'fingerprint', 'abcabc', 'abababab', 'weighting', 'checkered', 'volunteer', 'shopping', 'diplomas', 'sssss', 'hipster', 'wakefulness', 'specification', 'algae', 'heading', 'footstep', 'probable', 'impact', 'exclamation', 'gamer', 'shake', 'stupid', 'volodyas', 'idol', 'pooh', 'peacefully', 'vaporeon', 'espeon', 'umbreon', 'glaceon', 'sylveon', 'abd', 'roller', 'coaster', 'intercept', 'lol', 'т', 'singe', 'c4', 'dcba', 'disregard', 'noon', 'testset', 'reviver', 'dachshund', 'reside', 'pointing', '^m', 'cathetus', 'prestigious', 'disclose', 'pivot', 'gl', 'preserve', 'ap', 'disappointing', 'rector', 'kilobit', 'pre', 'salt', 'q1', 'q2', 'alexs', 'canteen', 'parliament', 'bcda', 'visual', 'advise', 'mutually', 'economic', 'radio', 'ginny', 'fry', 'yu', 'accommodation', 'existence', 'han', 'solo', 'reform', 'ceo', 'disco', 'efficient', 'grandparent', 'bc23', 'naha', 'r23c55', 'bersoft', 'classical', 'sing', 'reliable', 'todays', 'rm', 'waiting', 'caffeine', 'variety', 'sweepstake', 'whoop', 'horcrux', 'gtsvo', 'collinear', 'grab', 'twelfth', 'lover', 'alina', 'ekaterina', 'darya', 'newline', 'passport', 'cutoff', 'manaos', 'p_a', 'reply', 'naughty', 'gaurang', 'api', 'acquaintance', 'symmetrical', 'r_4', '7', 'sadda', 'swimming', 'crisis', 'jin', 'hanakos', 'precise', 'spoil', 'proposal', 'hr', 'proof', 'sleuth', 'oddness', 'betty', 'ralph', 'timei', 'outgoing', 'skywalker', 'r1i', 'c1i', 'r2i', 'c2i', 'aspect', 'atrem', 'crane', 'cockpit', 'turtle', 'pharmacy', 'm_a', 'm_b', 'end_check_num', 'handkerchief', 'intimidation', 'depot', 'metre', 'atime', 'xab', 'ulyana', 'bunny', 'wij', 'mihail', 'exp', 'kostyas', 'blockship', 'obfuscate', 'dumbledore', 'healing', 'plural', 'ddddd', 'val', 'nickname', 'antidote', 'poison', 'sp', 'invest', 'gild', 'uncommon', 'dentist', 'residual', '1231a0', 'cpp', 'corrupt', 'q_n', '5s', '6p', 't_b', 'literal', 'quicksort', 'oolyana', 'kuooper', 'synchronize', 'gyeongja', 'copernicus', 'f3', 'udayland', 'saburo', 'andre', 'natalia', 'pavlovna', 'centaurea', 'dissolve', 'walkway', 'mst', 'ary', 'xandy', 'hq9', 'xory', 'debut', 'condensed', '1x12', '2x6', 'severity', 'c_5', 'c_6', 'gender', 'insertionsort', 'naman', 'hardware', '3r2', 'bory', 'pound', 'katsushiro', 'nagase', 'unreasonable', 'mans', 'womans', 'choosing', 'olivia', 'jacob', 'oliver', 'jessica', 'jose', 'kambei', 'kyuzo', 'kikuchiyo', 'uncovered', 'ababcb', 'arithmetically', 'shiritori', 'afterward', 'volga', 'logva', 'private', 'dist', 'watt', 'scholarship', 'avg', 'restoration', 'cslnb', 'sjfnb', 'kc', 'y_5', 'scarf', 'gtc', 'tcg', 'gca', 'cag', 'trident', 'alphabetic', 'a_d', 'slastyona', 'pronunciation', 'transylvania', 'x_5', 'x_6', 'f_m', 'y_6', 'processing', 'rubiks', 'beast', 'mustache', 'pretest', 'acyclic', 'trans', 'underset', 'nc', 'consequtive', 'citys', 'mul', 'e_1', 'bd', 'e4', 'synchronization', 'azamon', 'motarack', 'm3', 'delay', 'persuade', 'vp', 'vd', 'bijous', 'resume', 'sa', 'dawid', 'confused', 'material', 'bolde', 'n3', 'aabbb', 't_5', 'oskol', 'pot', 'formation', 'thumbnail', '2right', 'addict', 'morty', 'expense', 'moore', 'integrate', 'bust', 'accomplish', 'p5', 'exponential', 'harshad', 'nameplate', 'pilot', 'weekday', 'xp1', 'yp1', 'likes', 'heavymetalismetal', 'usaico', '8', 'recycling', 'career', 'mrs', 'akari', 'ultimately', 'mining', 'rud', 'terrible', 'mew', 'yuhao', 'evlampiy', 'booking', 'indefinite', 'infected', 'directed', 'k6', 'k5', 'marcin', 'helloo', 'johns', 'r_a', 'r_b', 'berdroid', 'abyss', 'hassle', 'joyfulness', 'seperate', 'holeyness', 'shiros', 'u_n', 'hn', 'chronologically', 'yb', 'mum', 'e_i', 'mirroring', 'resemble', 'p1p2', 'static', 'cry', 'alas', 'spill', 'german', 'ninth', 'debug', 'oak', 'liouzhou_101', 'phd', 'partial', 'differently', 'tricky', 'iq', 'ogogo', 'hunt', 'universe', '解説', 'rocesfedoc', 'omggt', 'beyond', 'lack', 'gaius', 'watson', 'snowy', 'advanced', 'crucial', 'secondary', 'es', 'tick', 'polandball', '2h', 'conquer', 'tribe', 'cnt_s', 'unacceptable', 'amer', 'intellect', 'blend', 'insist', 'olympic', 'yyyy', 'heisei', 'magician', 'quit', 'tbd', 'thief', 'regularly', 'valuable', 'lyceum', 'i^', 'kremland', 'learning', 'kannon', 'eagerly', 'applicant', 'trick', 'working', 'google', 'slay', 'specified', 'q_m', 'v_m', 'claw', 'convenient', 'octopus', 'stepanovna', '5th', '1n10^', 'peaceful', 'initialize', 'criminal', 'residence', 'submarine', 'worthy', 'abacab', 'tma', 'automate', 'invention', 'petriciumus', 'endlessly', 'cifera', 'grill', 'harmony', 'normalize', 'secretly', 'bomboslav', 'former', 'drunk', 'worry', 'sized', 'transmit', 'symmetry', 'comfortable', 'stroke', 'blind', 'rare', 'grishas', 'absence', 'sashas', 'confuse', 'quiet', 'maple', 'unclaimed', 'squeeze', 'tiring', 'moscow', 'magenta', 'cardinal', 'title', 'canary', 'attendance', 'za', 'amber', 'gyeonggeun', 'metropolis', 'takaki', 'smeke', 'begining', 'roof', 'buying', 'possession', 'conglomerate', 'spread', 'cooperate', 'yyy', 'optimistic', 'prompt', 'shinkansen', 'domain', 'logic', 'ck', 'dequeue', 'jth', 'query_2', 't_p', 'gorynych', 'homer', 'recursively', 'b_4', 'y4', 'minimise', 'workplace', 'gcds', 'curtain', 'survey', 'penguin', 'r_m', 'ltd', 'beer', 'hurt', 'assumption', 'asd', 'localization', 'acbc', 'acab', 'technocup', 'telling', 'camomile', 'bcd', 'fare', 'acbbac', 'rvert', 'l_m', 'unam', 'conscribementis', 'nimis', 'iam', 'damas', 'yowowowow', 'mcp', 'guaranteed', 'nextum', 'vali', 'ichi', 'first_search', 'ddcba', 'whatsup', 'cm3', 'methodius', 'ym', 'aaaab', 'hellooowww', 'freelancer', 'discrepancy', 'ws', 'playoff', 'chordalsk', 'reckon', 'magna', 'gfgf', 'mexican', 'transparent', 'xli', 'dictum', 'praestantiam', '^^^', '^^^^', 'zwoxz', 'xzzwo', 'vardas', 'furrier', 's_p', 'plenty', 'dama', 'tetrominos', 'mcdic', 'mahjong', 'cp', 'novumversum', 'rgb', 'punish', 'scribe', 'seqi', 'cmp', 'swan', '^^', 'gameston', '2b', 'printing', 'perk', 'bgt', 'ivanov', 'beautifully', 'mikemirzayanov', 'vasyapetrov123', 'petrov', 'various', 'hull', 'abacc', 'sudden', '0_2', 'saving', 'undefined', 'ccw', 'cw', 'democrats', 'ltcgt', 'fund', 'inflatable', 'prink', 'teddy', 'exibit', 'splice', 'running', 'rrr', 'vm', 'zzzz', 'husband', 'brighten', 'ibis', 'cgtlt', 'ltagt', 'xxxxxxxxxx', 'ltbgt', 'orochimarus', 'wuffuw', 'deduct', 'qqqqqqqq', 'cntn', 'phphp', 'izabella', 'appropriately', 'eager', 'xp0', 'gmg', 'optc', 'ssu', 'r2n', 'storey', 'y2n', 'intentionally', 'k^n', 'wbw', 'hdi', 'distort', 'b_5', 'margin', 'recurrence', 'caramel', 'fortunate', 'likely', 'heavymetal', 'software', 'ppppp', 'ogogogo', 'hriday', 'ishika', 'disciple', 'a_b', 'yp2', 'xp2', 'yp0', 'seize', 'ca', 'mantel', 'inc_2', 'inc_1', 'euclid', 'pmuduhznoaqu', 'doublet', 'mashas', 'quotation', 'isolate', 'inhabitant', 'belle', 'dec_2', 'congratulate', 'stolps', 'a8', 'messy', 'r0', 'bfa', 'nastyas', 'aabbbabbbb', 'aabba', 'dec_1', 'dec', 'ihfcbadeg', 'circuit', 'awake', 'obtainable', 'gena', 'sportsman', 'occupation', 'athenaeus', 'using', 'i_n', 'approximately', 'observation', '7underline', 'overlook', 'reassign', 'sufficiently', 'aezakmi', 'paintbrush', 'badawy', 'dislike', 'sandwich', 'cycmy', 'classify', 'mnida', 'masu', 'acaba', 'zy', 'confirm', 'n_j', 'assess', 'tend', 'zulu', 'zulus', 'ldur', 'attain', '2ai', 'po', 'vwxyz', 'moles', 'zanoe', 'archer', 'teamwork', 'transpose', 'cowboy', 'opportunistic', 'taxis', 'downwards', 'anu', 'interestingness', 'specialist', 'sophisticated', 'c_d', 'extrema', 'tk', 'res_0', 'fresh', 'motherland', 'cartoon', 'bon', 'pon', 'hon', 'j_i', 'abcabca', 'suspicion', 'merry', 'uninvited', 'sweetland', 'x5', 'jelly', 'cities', 'zyxaabcaabkjh', 'threetwoone', 'keeper', 'logical', 'embosser', 'grigoriy', 'violas', 'violist', 'violinist', 'rnbqkbnr', 'factorization', 'ayrat', 'kiev', 'hk', 'abrakadabra', 'pppppppp', 'e_2', 'bbbbbbbb', 'sss', 'uu', 'kj', 'hyphen', 'nafas', 'okabes', 'z2', 'bort', 'await', 'cccccc', 'brutality', 'ending', 'satellite', 'codefestival2016', 'gratitude', 'improper', 'cubism', 'baabcaa', 'funky', '6', '2x^', 'tzuyu', 'xdivk', 'thomass', 'makeup', 'merchandise', 'birch', 'hihi', 'victor', 'barely', 'bffls', 'spelling', 'cute', 'positional', 'aizu', 'qualified', 'spain', 'keyword', 'nowadays', 'redirecting', 'aeb', 'founder', 'framed', 'polygonal', 'solder', 'squad', 'serif', 'stare', 'roughly', 'aha', 'america', 'xc', 'intelligent', 'shaped', 'splay', 'bncdenqbdr', 'werd', 'aaeaa', 'nervous', 'gotou', 'sequential', 'honor', 'applemans', 'lenny', 'constraints', 'xdd', 'r_r', 'wanna', 'trunk', 'pine', 'performed', 'atbitrary', 'dm', 'computation', 'aaacaba', 'z1', 'pork', 'zk', 'anne', 'hopscotch', 'margarita', 'rn', 'screensaver', 'dreiberg', 'piecewise', 'confiserie', 'clause', 'rely', 'unattended', 'crossroad', 'nuts', 'crosswalk', 'bbaaa', 'aabab', 'hoge', 'oddcnt', 'evencnt', 'fabulous', 'easter', 'acbac', 'ahcl', 'enhanced', 'punch', 'danger', 'stepan', 'nekomimi', 'nekos', 'nekoφωφ', 'iceloki', 'spotify', 'breeze', 'n_a', 'alyas', 'tenth', 'napoleon', 'borys', 'innas', '0x0x0', 'male', 'jackpot', 'casino', 'illegal', 'knights', 'amusing', 'beroil', 'sponsor', 'indigo', 'amanda', 'ouuokarinn', 'eligibility', 'agrippina', 'edcba', 'fghihgf', 'newyear', 'cccaabababaccbc', 'zzzzzzzzz', 'aaaaaaa', 'dy', 'dx', 'irrespective', 'collectible', 'axc', 'humu', 'rrg', 'boi', 'boui', 'khariton', 'bui', 'boooi', 'kkkhariton', 'buoi', 'genoss', 'egyptian', 'eyesight', 'inventive', 'tset', 'et', 'tst', 'equiv', 'heihachi', 'succession', 'shichiroji', 'gorobei', 'madeline', 'jerry', 'nondegenerate', 'jorge', 'magically', 'builder', 'policeman', 'climbing', 'dancer', 'excluding', 'artwork', 'cuboid', 'magnus', 'passable', 'streaming', 'streamer', '3x4', 'acbbcc', 'accbac', 'semyon', 'accbbc', 'p^k', 'pastry', 'accbcc', 'racecar', 'gyeyu', 'sin', 'korea', 'asdf', '880', 'cheating', 'abcd4e', 'htqw27', 'mstw', 'punctuation', 'jamie', 'attractive', 'reload', '4x3', 'accommodate', 'c_s', 'acbbbc', 'fpga', 'deviate', 'solid', 'bord', 'saint', 'poligrafovich', 'polygraph', 'hair', 'shellsort', 'acabac', 'friendliness', 'gadget', 'acabbc', 'forum', 'acabcc', 'ejoi', 'reincarnate', 'moriartys', 'moriary', '2j', 'goldbachs', 'favorable', 'r_s', 'barrier', 'albarea', 'arseid', 'laura', 'craig', 'eliot', 'reinford', 'alisa', 'claussell', 'fei', 'schwarzer', 'rean', 'cleq', 'chen', 'gaoyuan', 'mitrichev', 'korotkevich', 'probabilistic', 'nondeterministic', 'berllar', 'giz', 'gaz', 'celex', 'jusis', 'machias', 'abdfec', 'regnitz', '100b', '100a', 'ddcdcdd', 'edition', 'haruhi', 'nickola', 'cbc', 'grey', 'sirtet', 'axb', 'acl', 'affair', 'aclaclacl', 'baboon', 'photoe', 'detour', 'worzel', 'millstein', 'emma', 'valestin', 'sara', 'hkariton', 'hariton', 'hoon', 'foc', 'lastus', 'specially', 'babc', 'dabcef', 'fce', 'petrovna', 'gogols', 'asset', 'interpreter', 'semicolon', 'toothache', 'contribution', 'resolution', 'defgh', 'bijective', 'nasty', 'worms', 'repel', 'ais', 'tiresome', 'targaryen', 'bulletproof', 'riv', 'keione', 'shamir', 'compound', 'indentation', 'sengokus', 'meteoroid', 'seans', 'goodluck', 'cgyforever', 'bredorjaguarturnik', 'maratsnowbear', 'dmitriyh', 'kostka', 'ilovetanyaromanova', 'feferivan', 'endagorion', 'tankengineer', 'rowdark', 'subscriber', 'oooooooooooooooo', 'scottwu', 'yeputon', 'adleman', 'headphone', 'ripen', 'baaab', 'qaj', 'snape', 'gaunt', 'andreid', 'armed', 'sweetheart', 'villain', 'cnt_b', 'shooting', 'jafar', 'aohashi', 'generator', 'distressed', 'distress', 'gerdas', 'cska', 'c_l', 'expand', 'constellation', 'noku', 'p_q', 'wwww', 'pai', 'rak', 'mixing', 'kakofonix', 'nirvana', 'kurt', 'cure', 'l10n', 'alyonas', 'capricious', 'mexe', 'minumal', 'aqi', 'gggb', 'bggbg', 'longlifer', 'birth', 's_j^', 'totative', 'onion', 'e_j', 'topping', 'unpack', 'sifid', 'gauls', 'header', 'behavior', 'kooooper', '2char', 'pushback', 'devise', 'effectiveness', 'deposit', 'conventional', 'converted', 'eqnarray', 'd_0', 'resli', 'mancala', 'durak', 'explicitly', 'japari', '9s', 'maneuver', 'pos_1', 'abaaab', 'abbbab', 'forbidden', 'hlelo', 'ahhellllloou', 'separete', 'cdecdecdecdecdecde', 'tonya', 'а', 'khoon', 'kuuper', 'clarify', 'pavlopolis', 'kh', 'depression', 'morpork', 'ankh', 'mythical', 'effective', 'metacharacter', 'victorious', 'sm', 'marco', 'niwel', 'zizez', 'nzwzl', 'showing', 'sleepy', 'n^m', 'include3', 'aaaaab', 'bbby', 'fhtagn', 'continuation', 'codeforces', 'icecream', 'iscream', 'superfasterprogram', 'superfastprogram', 'fastcode', 'slowprogram', 'readb2solveoutput', 'norm', 'cpci', '30th', 'roger', 'abz', 'biy', 'aix', 'ronnie', 'abscissa', 'wwwww', 'aimi', '7p', '4', 'demonstrative', '4c', 'prime_number', '4d', 'pos_2', 'grading', 's_left', 'yura', 'amir', 'schoolmate', 's_right', 'acaabccab', 'na_n', '2a_2', 'ticker', '1a_1', 'unkind', 'cableway', 'sequences', 'agct', 'mammoth', 'desribe', 'mailbox', 'widely', 'bij', 'f_j', 'taymyr', 'negligibly', 'vp5m7vl', 'aerodynamic', 'ln', 'manuel', 'stem', 'memo', 'inessa', 'awesome', 'managerial', '^j', 'abbaac', 'bccddaaf', 'v_t', 'iin', 'bcdaf', 'af', 'fax', 'residue', '10', 'sailor', '33', '40', 'tinyurl', 'ridbit', 'electrical', 'elderly', 'knife', 'wrestling', 'reservation', 'cas', 'xu', 'momentarily', 'vb', 'fishtopia', 'byteforce', 'cfk', 'chamber', 'guilty', 'horcruxe', 'rap', 'reserved', 'cdg', 'lhr', 'itinerary', 'snooker', 'dozen', 'rl', 'nazar', 'extraterrestrial', 'unplug', 'rubbish', 'inspire', 'incorrectly', 'picnic', 'acquainted', 'belt', 'angrily', 'skilled', 'end_of_text', 'kazak', 'ktimes', 'god', 'achive', 'aeren', 'polycaprus', 'arousal', 'giant', 'multiplie', 'monogon', 'arou', 'faraway', 'fantastic', 'acsxht', 'becomes', 'huh', 'ww', 'unacquainted', 'plush', 'recording', 'obstruction', 'snipe', 'revolution', '1n', 'hometask', 'fedya', 'realise', 'ease', 'wowwo', 'cyberland', 'transition', 'fifty', 'emerge', 'furth', 'clash', 'unlikely', 'brazil', 'dus', 'vasyaatgmaildotcom', 'berlskva', 'wwf', 'crushx', 'palace', 'someday', 'palo', 'alto', 'discussion', 'parallelepiped', 'squid', 'scoreboard', '^q', 'abcbc', 'american', 'memsql', 'buffet', 'lllll', 'sta', 'tomskaya', 'frequent', 'stuck', 'lottery', 'bookshop', 'oww', 'owwwf', 'vasyagmail', 'owwf', 'maximise', 'finding', 'documentary', 'retrieve', 'ranking', 'leesin', 'z_c', 'circus', 'abc999', 'drinking', 'quietly', 'deed', 'contemplate', 'photographed', 'invisible', 'shed', 'shashlik', 'usage', 'registry', 'dull', 'graduation', 'tight', 'lizard', 'hermit', 'aabaa', 'spreadsheet', 'nth', 'unavailable', 'rectilinear', 'failed', 'finishing', 'contribute', 'oooo', 'utilize', 'xxoxx', 'exceptionally', 'notch', 'iron', 'a_i^', 'beecola', 'armageddon', 'blake', 'archaeologist', 'bless', 'temporarily', 'aatt', 'tinker', 'diligent', 'hulk', 'elapse', 'dosage', 'introduction', 'op3', 'op2', 'op1', 'gaze', 'interface', 'comb', '11_2', 'selfish', 'num', 'role', 'zzcxx', 'cccc', '110_2', 'rev_3', 'blaine', 'codesorfe', 'comedian', 'atomic', 'linovas', 'kernel', '1378n', 'soup', 'observed', 'apollinaria', 'powder', 'xenias', 'idn', 'id2', 'id1', 'custom', 'pad', 'bacabcab', 'deputy', 'noldbach', 'nie', '2kx', 'perpendicular', 'falcon', 'heros', 'nl', 'mashmokhs', 'nvodsk', 'minimalistic', 'bbbbaa', 'film', 'taros', 'sum_2', 'gttaaag', 'nonfunctional', 'upsolving', 'unsolved', 'testme', 'oneoneone', 'twotwo', 'twooooo', 'ttttwo', 'ttwwoo', 'ooone', 'onnne', 'oneeeee', 'oneeeeeeetwooooo', 'leisure', '1a_i', 'infinium', 'qip', 'groupmate', 'antivirus', 'aaacaaa', 'skate', 'preference', 'bimokh', 'gentleman', 'merging', 'jigsaw', 'movable', 'bitwise_operation', 'vityas', 'wart', 'broom', 'ee', 'labor', 'lrrr', 'uneasy', 'kindly', 'undergraduate', 'potatoland', 'scary', 'bruhtrywatchinggura', 'bugyrtnotna', 'bestcoordinator', 'mash', 'dmitrys', 'bracketed', 'gtlt', 'distinguishable', 'tokyo', 'whoever', 'bl', 'pure', 'dividing', '100mod', 'coinсide', 'xyzyx', 'acbba', 'abbaxyzyx', 'abcdfdcecba', 'janken', 'sight', 'deadline', 'doggo', 'standardization', 'brood', 'restrict', 'abababc', 'gtgtlt', 'areahydra', 'tetsuko', 'functional', 'differentiate', 'outskirt', 'parchment', 'professional', 'oblige', 'tremendous', 'trader', 'hopefully', 'unsure', 'lcms', 'usaco', 'pd', 'carp', 'rearrangment', 'regime', 'foresee', 'roadwork', 'vend', 'caba', 'satisfying', 'theme', 'conform', 'lost', 'supplement', 'swamp', 'pis', 'compatibility', 'kyoto', 'uncover', 'minamiya', 'kaiki', 'kaori', 'simmons', 'nikki', 'hyouryu', '漂流', 'sxplay', 'actg', 'resulting', 'fri', 'thu', 'tue', 'mon', 'phenomenon', '2ki', 'periodically', 'ax2', 'pessimistic', 'quadratic', 'repetition', 'rental', 'capitalize', 'tactic', 'flutter', 'displeased', 'hedgehog', 'd0', 'chaotic', 'wrapper', 'outdate', 'midpoint', 'arcady', 'b_ileq', 'ababahalamaha', 'gaga', 'm_3', 'shocker', 'johny', 'getline', 'yusuf', 'skateboard', 'enemys', 'hijk', 'upstear', 'ludo', 'completion', 'crowd', 'dragons', 'rsp', 'rpg', 'blacksmith', 'zooville', 'ababacd', 'yq', 'polo', 'unexpected', 'axe', 'exclaim', 'collector', 'steel', 'boris', 'smallest', 'talent', 'cristobal', 'junta', 'akihabara', 'appointment', 'seriously', 'mount', 'indonesian', 'excess', 'wn', 'missing', 'col', 'kilos', 'azaz', 'mishanya', 'familiarize', 'ali', 'mage', 'hereditary', 'skier', 'getting', 'rybinsk', 'sunken', 'loki', 'obligate', 'indefinitely', 'technex', 'slicing', 'imposssible', 'beloved', 'tp', 'randomness', 'c5', 'examine', 'message_text', 'moral', 'locked', 'closure', 'hade', 'hastalavistababy', 'realm', 'wife', 'spirit', 'gumon', 'helloworld', 'b_r', 'b_l', 'irina', 'keanu', 'legendary', 'eventual', 'cy', 'cx', 'zzzaa', 'tavak', 'happynewyear', 'ht', 'mus', 'yij', 'bike', 'deb', 'dae', 'sole', 'actor', 'sui', 'alignment', 'mirais', 'hesitate', 'partly', 'unpress', 'businessman', 'crown', 'outperform', 'attribute', 'definitively', 'lleq', 'fellow', 'algebra', 'gifted', 'tarasov', '20xx', 'cax', 'aaabbcc', 'aabbcc', 'facetook', 'sl', 'suffice', 'sr', 'v_r', 'v_l', 'ftfftfff', 'orderly', 'mona', 'fatma', 'aiajak', 'baaa', 'g45', 'g54', 'g51', 'g15', 'moroz', 'wsw', 'oxoxo', 'xooox', 'proportionally', 'reread', 'startpoint', 'react', 'bbbbb', 'vulnerability', 'wwwwww', '5right', 'enqueue', 'wrong_answer', 'epicenter', 'compression', 'llrr', 'pursue', 'extractmax', 'alpinist', 'territory', 'protect', 'bbba', 'aaaaaaaaab', 'african', 't3', 'minded', 'threshold', 'iv', 'ternatron', 'rbbrr', 'rbr', 'wins', 'tin', 'uzhlyandia', 'dvastan', 'zi', 'hockey', 'meticulous', 'ababacacbbcc', 'ababacac', 'tear', 'bbcc', 'grass', 'chilly', 'holme', 'advertising', 'singapore', 'chizhic', 'aik', 'ai0', 'analog', 'spaghetti', 'mortys', 'accurately', 'magic^^', 'instruct', 'rob', 'association', 'hs', 'm5', 'm4', 'vx', 'herd', 'vy', 'amazon', 'millionaire', 'amongst', 'rename', 'ciri', 'alan', 'conveniently', 'optical', 'der', 'vision', 'traveler', 'aaba', 'equivalency', 'permission', 'supervisor', 'hu', 'oooooo', 's_7', 'cooker', 'education', 'educational', '1n1000', 'rockport', 'abaabaaab', 'acac', 'availability', 'abbaa', 'y_l', 'engage', 'tobeornottobe', 'lubas', 'aga', 'sg', 'hackcerr', 'bitland', 'customary', 'unoccupied', 'backtothefutttture', 'helllllooooo', 'yunqi', 'fillomino', 'divisibility', 'abo', 'ej', 'photon', 'transitive', 'oxx', 'unbroken', 'roflanpolis', 'pete', 'billy', 'fixprefixsuffix', 'companion', 'firmly', 'buddy', 'berry', 'temporary', 'obligatory', 'payoff', 'daniels', 'comprise', 'striped', 'accompany', 'preinstalle', 'acmer', 'apparently', 'mathematics', 'jleq', 'abcdf', 'res', 'accountant', 'f_2', 'abacbecfd', 'aaabbcbb', 'abcdedc', 'wubwubabcwub', 'nondecreasing', 'rubik', 'init', 'ivanova', 'decent', 'notion', 'vmatrix', 'respectable', 'permissible', 'hobby', 'bertv', 'pity', 'unstable', 'l_3', 'danny', 'nleq', 'restart', 'explicit', 'blackjack', 'diri', 'necessity', 'accordance', 'reversed', 'hina', 'western', 'southernmost', 'sms', 'installation', 'protection', 'fand', 'nextelement', 'autocomplete', 'abcdabcd', 'usa', 'riverside', 'truncate', 'blossom', 'pende', 'amugae', 'er', 'rrll', 'rum', 'marketer', 'bacfab', 'reduction', 'primarily', 'fafas', 'summary', 'muffin', 'yg', 'conatin', 'llo', 'retry', 'thesis', 'konjac', 'hypothetical', 'favor', 'berc', 'regional', 'vodka', 'fraud', 'taylor', 'cbabc', 's_m', '10th', 'gagadbcgghhchbdf', 'receiver', 'exotic', 'lee', 'guitar', 'tayuya', 'ehinopx', 'aaxxzz', 'wrap', 'atforce', 'scc', 'foreign', 'square1001', 'b4', 'paw', 'sdya', 'poll', 'solely', 'y_q', 'cnt_4', 'cnt_3', 'barbecue', 'thereafter', 'accuracy', 'readable', 'boyfriend', 'salem', 'squareland', 'rudolf', 'vn', 'scan', 'colon', '1x', 'acccc', 'decade', 'dislikes', 's4', 'typical', 's0', 'bully', 'motion', 'taht', 'oen', 'btu', 'geraldion', 'tokens', 'elbow', 'oolol', 'zaza', 'pointed', 'cod', 'emit', 'implementation', 'literature', 'rhyme', 'rs', 'beam', 'sig', 'argue', 'checkerboard', 'id_1', 'id_2', 'id_n', 'individually', 'ids_1', 'ids_2', 'ids_m', 'ids_i', 'briefly', 'cfr', 'astronaut', 'reversely', 'edoc', 'alternative', 'abbba', 'swimmer', 'loooong', 'and_ok', 'and_petya', 'hello_vasya', 'dabc', 'yzyz', 'brilliant', 'doorss', 'millennium', 'manufacturing', 'relieve', 'climate', 'α2', 'variance', 'likewise', 'ooooo', 'paradox', 'exploration', 'circumstance', 'loan'])\n",
      "Number of words in the vocabulary: 7025\n"
     ]
    }
   ],
   "source": [
    "# Vocabulary size\n",
    "print(w2v_model.wv.key_to_index.keys())\n",
    "print(\"Number of words in the vocabulary:\", len(w2v_model.wv.key_to_index))"
   ]
  },
  {
   "cell_type": "markdown",
   "id": "6128a89c",
   "metadata": {},
   "source": [
    "The model is now trained and allows us to query word similarities based on the learned embeddings.   \n",
    "\n",
    "We retrieve the top 10 words that the model considers most semantically or contextually similar to different domain-relevant terms (\"fraction\",\"array\",\"graph\" and \"matrix\")   \n",
    "We can interpret these as terms that frequently appear in similar contexts in the original descriptions."
   ]
  },
  {
   "cell_type": "code",
   "execution_count": 163,
   "id": "38f6952e",
   "metadata": {},
   "outputs": [
    {
     "data": {
      "text/plain": [
       "[('denominator', 0.8700506091117859),\n",
       " ('irreducible', 0.8617052435874939),\n",
       " ('numerator', 0.8451979160308838),\n",
       " ('notation', 0.7737084627151489),\n",
       " ('primitive', 0.7539716362953186),\n",
       " ('equation', 0.7502864003181458),\n",
       " ('^x', 0.7380940914154053),\n",
       " ('quotient', 0.7311969995498657),\n",
       " ('modular', 0.7296258211135864),\n",
       " ('formula', 0.7195370197296143)]"
      ]
     },
     "execution_count": 163,
     "metadata": {},
     "output_type": "execute_result"
    }
   ],
   "source": [
    "w2v_model.wv.most_similar('fraction', topn=10)"
   ]
  },
  {
   "cell_type": "code",
   "execution_count": 36,
   "id": "0ec0cb88",
   "metadata": {},
   "outputs": [
    {
     "data": {
      "text/plain": [
       "[('subarray', 0.7538277506828308),\n",
       " ('permutation', 0.7525390386581421),\n",
       " ('element', 0.7008444666862488),\n",
       " ('subsegment', 0.6911046504974365),\n",
       " ('multiset', 0.671673595905304),\n",
       " ('sequence', 0.6378703117370605),\n",
       " ('sorted', 0.6317214965820312),\n",
       " ('mex', 0.6302142143249512),\n",
       " ('yield', 0.6286007165908813),\n",
       " ('progression', 0.6281257271766663)]"
      ]
     },
     "execution_count": 36,
     "metadata": {},
     "output_type": "execute_result"
    }
   ],
   "source": [
    "w2v_model.wv.most_similar('array', topn=10)"
   ]
  },
  {
   "cell_type": "code",
   "execution_count": 38,
   "id": "23f39c82",
   "metadata": {},
   "outputs": [
    {
     "data": {
      "text/plain": [
       "[('undirected', 0.8931739330291748),\n",
       " ('connected', 0.8270784616470337),\n",
       " ('edge', 0.824512243270874),\n",
       " ('rooted', 0.7907810807228088),\n",
       " ('component', 0.7904513478279114),\n",
       " ('tree', 0.776930034160614),\n",
       " ('subgraph', 0.7757490873336792),\n",
       " ('root', 0.7704923152923584),\n",
       " ('unweighted', 0.769507884979248),\n",
       " ('vertex', 0.7576366066932678)]"
      ]
     },
     "execution_count": 38,
     "metadata": {},
     "output_type": "execute_result"
    }
   ],
   "source": [
    "w2v_model.wv.most_similar('graph', topn=10)"
   ]
  },
  {
   "cell_type": "code",
   "execution_count": 39,
   "id": "19702048",
   "metadata": {},
   "outputs": [
    {
     "data": {
      "text/plain": [
       "[('grid', 0.7598245739936829),\n",
       " ('chessboard', 0.7413293123245239),\n",
       " ('vector', 0.7187368869781494),\n",
       " ('histogram', 0.7009692788124084),\n",
       " ('board', 0.683229386806488),\n",
       " ('configuration', 0.6795511841773987),\n",
       " ('diagonal', 0.6716492772102356),\n",
       " ('table', 0.6689319610595703),\n",
       " ('column', 0.6681662201881409),\n",
       " ('numbering', 0.6663357615470886)]"
      ]
     },
     "execution_count": 39,
     "metadata": {},
     "output_type": "execute_result"
    }
   ],
   "source": [
    "w2v_model.wv.most_similar('matrix', topn=10)"
   ]
  },
  {
   "cell_type": "markdown",
   "id": "9457886c",
   "metadata": {},
   "source": [
    "The training seems to be effective considering the previous examples.   \n",
    "It shows almost always semantically close words."
   ]
  },
  {
   "cell_type": "markdown",
   "id": "78676b96",
   "metadata": {},
   "source": [
    "One notable limitation of Word2Vec is its inability to handle out-of-vocabulary (OOV) words, those that were not seen during training or filtered out due to low frequency (min_count).  \n",
    "\n",
    "As we can observe here (e.g., for the token 'c++'), if a word is missing from the model's vocabulary, Word2Vec cannot generate an embedding for it.   \n",
    "This is problematic when working with new, unseen sentences."
   ]
  },
  {
   "cell_type": "code",
   "execution_count": 170,
   "id": "7fbf6dbb",
   "metadata": {},
   "outputs": [
    {
     "name": "stdout",
     "output_type": "stream",
     "text": [
      "'c++' not in vocabulary of Word2Vec model\n"
     ]
    }
   ],
   "source": [
    "if(w2v_model.wv.key_to_index.get('c++') is not None):\n",
    "    w2v_model.wv.most_similar('c++', topn=10)\n",
    "else:\n",
    "    print(\"'c++' not in vocabulary of Word2Vec model\")"
   ]
  },
  {
   "cell_type": "code",
   "execution_count": null,
   "id": "34c6ba27",
   "metadata": {},
   "outputs": [
    {
     "name": "stdout",
     "output_type": "stream",
     "text": [
      "Requirement already satisfied: scikit-learn in c:\\users\\utente\\appdata\\local\\programs\\python\\python312\\lib\\site-packages (1.6.1)\n",
      "Requirement already satisfied: numpy>=1.19.5 in c:\\users\\utente\\appdata\\local\\programs\\python\\python312\\lib\\site-packages (from scikit-learn) (1.26.4)\n",
      "Requirement already satisfied: scipy>=1.6.0 in c:\\users\\utente\\appdata\\local\\programs\\python\\python312\\lib\\site-packages (from scikit-learn) (1.13.1)\n",
      "Requirement already satisfied: joblib>=1.2.0 in c:\\users\\utente\\appdata\\local\\programs\\python\\python312\\lib\\site-packages (from scikit-learn) (1.4.2)\n",
      "Requirement already satisfied: threadpoolctl>=3.1.0 in c:\\users\\utente\\appdata\\local\\programs\\python\\python312\\lib\\site-packages (from scikit-learn) (3.6.0)\n"
     ]
    },
    {
     "name": "stderr",
     "output_type": "stream",
     "text": [
      "\n",
      "[notice] A new release of pip is available: 25.0.1 -> 25.1\n",
      "[notice] To update, run: python.exe -m pip install --upgrade pip\n"
     ]
    },
    {
     "name": "stdout",
     "output_type": "stream",
     "text": [
      "Requirement already satisfied: plotly in c:\\users\\utente\\appdata\\local\\programs\\python\\python312\\lib\\site-packages (5.24.1)\n",
      "Requirement already satisfied: tenacity>=6.2.0 in c:\\users\\utente\\appdata\\local\\programs\\python\\python312\\lib\\site-packages (from plotly) (9.0.0)\n",
      "Requirement already satisfied: packaging in c:\\users\\utente\\appdata\\local\\programs\\python\\python312\\lib\\site-packages (from plotly) (24.1)\n"
     ]
    },
    {
     "name": "stderr",
     "output_type": "stream",
     "text": [
      "\n",
      "[notice] A new release of pip is available: 25.0.1 -> 25.1\n",
      "[notice] To update, run: python.exe -m pip install --upgrade pip\n"
     ]
    }
   ],
   "source": [
    "#!pip install -U scikit-learn\n",
    "#!pip install plotly"
   ]
  },
  {
   "cell_type": "markdown",
   "id": "532fb2e0",
   "metadata": {},
   "source": [
    "#### Visualizing Word Embeddings with t-SNE"
   ]
  },
  {
   "cell_type": "markdown",
   "id": "f4243943",
   "metadata": {},
   "source": [
    "To explore the semantic structure captured by the Word2Vec model, we randomly sampled 500 words from the learned vocabulary and projected their embeddings into a 3D space using t-SNE (t-distributed Stochastic Neighbor Embedding).\n",
    "\n",
    "This technique is particularly effective at preserving local neighborhood structures, making it useful for visualizing how similar words cluster together in the vector space.\n",
    "- Each point in the 3D scatter plot corresponds to a word vector.\n",
    "- Nearby points indicate semantic or contextual similarity as learned by the model during training."
   ]
  },
  {
   "cell_type": "code",
   "execution_count": 164,
   "id": "b07830c7",
   "metadata": {},
   "outputs": [
    {
     "name": "stdout",
     "output_type": "stream",
     "text": [
      "['deny', 'participate', 'bf', 'harshad', 'aaaaaaaaaa', 'paintbrush', 'argument', 'origin', 'normal', 'gram', 'arthur', 'fast', 'fruit', 'film', 'divisibility', 'insertion', 'elderly', 'dec_2', 'volga', 'y_3', 'bucket', 'desribe', 'equation', 'doggo', 'aiajak', 'unnecessary', 'plush', 'await', 'learning', '1000_2', 's_v', 'criterion', 'unmarked', 'grandfather', 'calorie', 'circumstance', 'irrespective', 'mex', 'substre', 'caterpillar', 'jacket', 'a_t', 'y^x', 'andrew', 'presence', 'factorial', 'occupation', 'special', 'adventure', 'max2', 'abcdfdcba', 'reveal', 'editor', 'ripen', 'bbbbb', 'unknown', 'earth', 'zzzaa', 'scrooge', 'specify', 'agasa', 'fastcode', 'bac', 'corner', 'reach', 'boat', 'aqi', 'iv', 'leesin', 'worth', 'konjac', 'tak', 'mitya', 'dachshund', 'diversity', 'lj', 'ada', 'force', 'stretch', 'puzzle', 'hu', 'irreducible', 'respectively', 'aabbcc', 'seater', 'shinkansen', 'counter', 'qip', 'theme', 'doctor', 'ascending', '[', 'satisfy', 'lena', 'current', 'wall', 'catacomb', 'bored', 'elapse', 'recurrence', 'inequation', 'ok', 'bj', 'takaki', 'everything', 'vus', 'female', 'pwd', 'malek', 'st', 'ni', 'mix', 'shuntsu', 'cyan', 'beginner', 'm_3', 'mirais', 'subribbon', 'answer', 'income', 'rubbish', 'transmission', 'tanya', 'jth', 'town', 's_2', 'aab', 'c_3', 'removal', 'textbf', 'backtothefutttture', 'inexperience', 'corresponding', 'olympic', 'fafas', 'eventually', 'indirectly', 'assume', 'adorable', '101_2', 'alina', 'generation', 'association', 'manhole', 'movie', 'military', 'bolek', 'unsolved', 'y_k', 'taxis', 'bijous', 'foresee', 'recycle', 'slastyona', 'appleman', 'subtree', 'saturday', 'count', 'ith', 'eliot', 'kilogram', 'connected', 'early', 'involve', 'milliliter', 'conduct', 'beloved', 'abcabc', 'truly', 'completely', 'hunt', 'affect', 'r_3', 'hanafuda', 'horcrux', 'chouti', 'axis', 'curtain', 'all', 'b_3', 'denote', 'and_ok', 'protocol', 'one', 'pointed', 'prestigious', 'kaiden', 'camomile', 'diri', 'showcase', 'dk', '100mod', 'growth', 'absolutely', 'willy', 'triad', 'scholarship', 'bishop', 'deliver', 'crisis', 'photobook', 'priority', 'enqueue', 'relative', 'penalty', 'kolya', 'effect', 'troupe', 'oy', 'help', 'scared', 'birthday', 'rearrange', 'expression', 'high', 'kindergarten', 'nm', 'w_j', 'mount', 'second', 'recursively', 'certainly', 'excessive', 'sj', 'merchant', 'boredom', 'analyst', 'candidate', 'constellation', 'procedure', 'scoreboard', 'problem', 'gear', 'ocean', 'dash', 'rev_0', 'grade', 'popular', 'janeiro', 'ringroad', 'abcdfdc', 'collider', 'increment', 'xb', 'anonymous', 'education', 'takahashis', 'navigation', 'aquarium', 'moriary', 'v_r', 'b_1', 'k_j', 'correction', 'falcon', 'desire', 'splitte', 'onsite', 'chewbacca', 'technology', 'difficulty', 'branch', 'absorb', 'specifi', 'numbered', 'blind', 'insert', 'peek', 'wednesday', 'vulnerability', 'launch', 'floyd', 'andrey', 'vy', 'w_k', 'ang', 'killjoy', 'rubik', '6p', 'bear', 'cookie', 'graduation', 'interval', 'oxx', 'aki', 'reduction', 'multiple', 'и', 'haircut', 'emma', 'pikachu', 'cardinal', 'ai0', 'yq', 'z1', 'boss', 'identify', 'percent', 'technique', 'nearly', 's_3', 'god', 'hamburger', 'bitcoin', 'abbreviate', 'seat', 'khariton', 'rbbrr', 's_ℓ', 'saucer', 'taste', 'from', 'i1', 'permutation', 'volodyas', 'dimensional', 'yr', 'firmly', 'vovas', 'bwb', 'bust', 'izabella', 'unusual', 'tear', 'integral', 'news', 'uniformly', 'r_k', 'minor', 'chair', 'gym', 'canary', 'evolution', 'an', 'kazusa', 'planetforce', 'times', '2x^', 'history', 'horseman', 't_p', 'half', 'absent', 'candy', 'tinker', 'zmei', 'sirtet', 'proposal', 'gttaaag', 'span', 'aaaaab', 'boredness', 'morning', 'nginx', 'footman', 'food', 'weekday', 'publication', 'op3', 'penguin', 'ichihime', 'amugae', 'literally', 'a_4', 'mary', 'kyuzo', 'wither', 'recommendation', 'y_c', 'g_i', 'bolde', 'encoding', 'peculiar', 'mn', 'rule', 'meat', 'striped', 'violet', 'volodya', 'sure', 'circ', 'utilize', 'filipino', 'unweighted', 'bully', 'tasty', 'anyone', 'clockwise', 'pe', 'occurence', 'itinerary', 'expense', 'miss', 'cheater', 'demolish', 'behind', 'feeling', 'enemy', 'martian', 'call', 'german', 'onion', 'paul', 'chip', 'wrong', 'driver', 'thought', 'nonnegative', 'midterm', 'ralph', 'using', 'none', 'bertv', 'clerk', '2kx', 'explore', 'service', 'tea', 'holme', 'possible', 'ring', 'gate', 'unlikely', 'exchange', 'gerda', 'polycarps', 'rainbow', 'amp', 'registration', 'grid', 'abbyy', 'resistor', 'okabes', 'jleq', 'taht', 'translation', 'sunny', 'material', 'rental', 'slip', 'bridge', 'recognition', 'punch', 'medalist', 'ginny', 'succeed', 'sms', 'demonstrate', 'xn', 'sign', 'bunny', 'three', 'suit', 'exploration', 'badawy', 'arena', 'boundary', 'traverse', 'ropewalker', 'guess', 'node', 'maximize', 'button', 'biology', 'realise', 'hk', 'simple', 'jurys', 'board', 'alex', 'amongst', 'harmony', 'small', 'zone', 'ia', 'keg', 'inconsistent', 'specialist', 'pivot', 'sin', 'chemical', 'decorate', 'w2', 'relax', 'l_1', 'filler', 'screensaver', 'fadi', 'durak', 'lucas', 'cockroach', 'iq', 'learn', 'sponsor', 'ania', 'term', 'cnt_3', 'afterwards', 'alien', 'yn']\n"
     ]
    }
   ],
   "source": [
    "import random\n",
    "\n",
    "sample = random.sample(list(w2v_model.wv.key_to_index), 500)\n",
    "print(sample)"
   ]
  },
  {
   "cell_type": "markdown",
   "id": "54c30795",
   "metadata": {},
   "source": [
    "Here we are obtaining the embedding vectors for each of the previously randomly sampled words."
   ]
  },
  {
   "cell_type": "code",
   "execution_count": null,
   "id": "b4ac0885",
   "metadata": {},
   "outputs": [
    {
     "name": "stdout",
     "output_type": "stream",
     "text": [
      "[[-0.2165097   0.23865132  0.1422642  ... -0.07689774 -0.10238189\n",
      "  -0.00671862]\n",
      " [ 0.0646564  -0.03404604  0.0800567  ... -0.14391412 -0.3691363\n",
      "  -0.01748073]\n",
      " [-0.23485583  0.17882562 -0.01770534 ... -0.29749477  0.04452924\n",
      "  -0.01693278]\n",
      " ...\n",
      " [-0.13107689  0.17704591  0.07094711 ... -0.1156648  -0.06620975\n",
      "   0.04590727]\n",
      " [-0.24537122  0.18454692  0.07825024 ... -0.12724    -0.0672618\n",
      "   0.08927469]\n",
      " [-0.30973276  0.09563615  0.36001012 ...  0.07332251 -0.09852687\n",
      "   0.21584803]]\n",
      "Shape of word vectors: (500, 100)\n"
     ]
    }
   ],
   "source": [
    "word_vectors = w2v_model.wv[sample]\n",
    "# Show the vector structure\n",
    "print(word_vectors)\n",
    "# Show the shape of the word vectors \n",
    "print(\"Shape of word vectors:\", word_vectors.shape)"
   ]
  },
  {
   "cell_type": "markdown",
   "id": "5bfa184f",
   "metadata": {},
   "source": [
    "Here we have an initial visualization using plotly"
   ]
  },
  {
   "cell_type": "code",
   "execution_count": null,
   "id": "8ea2ac28",
   "metadata": {},
   "outputs": [
    {
     "name": "stderr",
     "output_type": "stream",
     "text": [
      "c:\\Users\\utente\\AppData\\Local\\Programs\\Python\\Python312\\Lib\\site-packages\\sklearn\\manifold\\_t_sne.py:1164: FutureWarning:\n",
      "\n",
      "'n_iter' was renamed to 'max_iter' in version 1.5 and will be removed in 1.7.\n",
      "\n"
     ]
    },
    {
     "data": {
      "application/vnd.plotly.v1+json": {
       "config": {
        "plotlyServerURL": "https://plot.ly"
       },
       "data": [
        {
         "hovertemplate": "x=%{x}<br>y=%{y}<br>z=%{z}<br>text=%{text}<extra></extra>",
         "legendgroup": "",
         "marker": {
          "color": "#636efa",
          "line": {
           "width": 2
          },
          "size": 3,
          "symbol": "circle"
         },
         "mode": "markers+text",
         "name": "",
         "scene": "scene",
         "showlegend": false,
         "text": [
          "deny",
          "participate",
          "bf",
          "harshad",
          "aaaaaaaaaa",
          "paintbrush",
          "argument",
          "origin",
          "normal",
          "gram",
          "arthur",
          "fast",
          "fruit",
          "film",
          "divisibility",
          "insertion",
          "elderly",
          "dec_2",
          "volga",
          "y_3",
          "bucket",
          "desribe",
          "equation",
          "doggo",
          "aiajak",
          "unnecessary",
          "plush",
          "await",
          "learning",
          "1000_2",
          "s_v",
          "criterion",
          "unmarked",
          "grandfather",
          "calorie",
          "circumstance",
          "irrespective",
          "mex",
          "substre",
          "caterpillar",
          "jacket",
          "a_t",
          "y^x",
          "andrew",
          "presence",
          "factorial",
          "occupation",
          "special",
          "adventure",
          "max2",
          "abcdfdcba",
          "reveal",
          "editor",
          "ripen",
          "bbbbb",
          "unknown",
          "earth",
          "zzzaa",
          "scrooge",
          "specify",
          "agasa",
          "fastcode",
          "bac",
          "corner",
          "reach",
          "boat",
          "aqi",
          "iv",
          "leesin",
          "worth",
          "konjac",
          "tak",
          "mitya",
          "dachshund",
          "diversity",
          "lj",
          "ada",
          "force",
          "stretch",
          "puzzle",
          "hu",
          "irreducible",
          "respectively",
          "aabbcc",
          "seater",
          "shinkansen",
          "counter",
          "qip",
          "theme",
          "doctor",
          "ascending",
          "[",
          "satisfy",
          "lena",
          "current",
          "wall",
          "catacomb",
          "bored",
          "elapse",
          "recurrence",
          "inequation",
          "ok",
          "bj",
          "takaki",
          "everything",
          "vus",
          "female",
          "pwd",
          "malek",
          "st",
          "ni",
          "mix",
          "shuntsu",
          "cyan",
          "beginner",
          "m_3",
          "mirais",
          "subribbon",
          "answer",
          "income",
          "rubbish",
          "transmission",
          "tanya",
          "jth",
          "town",
          "s_2",
          "aab",
          "c_3",
          "removal",
          "textbf",
          "backtothefutttture",
          "inexperience",
          "corresponding",
          "olympic",
          "fafas",
          "eventually",
          "indirectly",
          "assume",
          "adorable",
          "101_2",
          "alina",
          "generation",
          "association",
          "manhole",
          "movie",
          "military",
          "bolek",
          "unsolved",
          "y_k",
          "taxis",
          "bijous",
          "foresee",
          "recycle",
          "slastyona",
          "appleman",
          "subtree",
          "saturday",
          "count",
          "ith",
          "eliot",
          "kilogram",
          "connected",
          "early",
          "involve",
          "milliliter",
          "conduct",
          "beloved",
          "abcabc",
          "truly",
          "completely",
          "hunt",
          "affect",
          "r_3",
          "hanafuda",
          "horcrux",
          "chouti",
          "axis",
          "curtain",
          "all",
          "b_3",
          "denote",
          "and_ok",
          "protocol",
          "one",
          "pointed",
          "prestigious",
          "kaiden",
          "camomile",
          "diri",
          "showcase",
          "dk",
          "100mod",
          "growth",
          "absolutely",
          "willy",
          "triad",
          "scholarship",
          "bishop",
          "deliver",
          "crisis"
         ],
         "textfont": {
          "size": 10
         },
         "type": "scatter3d",
         "x": [
          -37.52121353149414,
          -36.126991271972656,
          10.559404373168945,
          2.635902166366577,
          15.686356544494629,
          -0.23160038888454437,
          4.958622455596924,
          -4.629757404327393,
          29.639331817626953,
          25.6179141998291,
          -27.55332374572754,
          -43.969844818115234,
          -22.465177536010742,
          -13.856579780578613,
          10.735340118408203,
          13.537276268005371,
          0.3612450361251831,
          22.32530403137207,
          13.065208435058594,
          46.2772216796875,
          1.8100042343139648,
          20.81069564819336,
          35.48194122314453,
          -5.768443584442139,
          16.8182315826416,
          6.529674053192139,
          -22.257465362548828,
          4.622951030731201,
          -22.04684066772461,
          36.79951095581055,
          23.640668869018555,
          8.382298469543457,
          0.8393778800964355,
          -20.738344192504883,
          2.8149046897888184,
          -4.911523342132568,
          5.207031726837158,
          41.71992111206055,
          28.742565155029297,
          -26.85874366760254,
          -11.132034301757812,
          35.56208419799805,
          2.827876329421997,
          -13.348004341125488,
          -0.15935634076595306,
          32.5921745300293,
          -3.107665538787842,
          -3.1104729175567627,
          -34.647064208984375,
          24.633434295654297,
          23.759063720703125,
          5.224835395812988,
          -42.021793365478516,
          5.686202049255371,
          18.267385482788086,
          29.30653190612793,
          -24.122663497924805,
          20.26586151123047,
          -18.434099197387695,
          5.930574417114258,
          3.1110706329345703,
          -6.030102729797363,
          14.085143089294434,
          -10.086864471435547,
          -10.58195972442627,
          -16.705503463745117,
          14.966099739074707,
          -17.390487670898438,
          -24.066692352294922,
          -0.439193457365036,
          7.413741111755371,
          24.31170082092285,
          -0.712377667427063,
          8.111159324645996,
          -3.297436237335205,
          31.85311508178711,
          -5.376420974731445,
          7.658010959625244,
          -26.39750099182129,
          -37.77009582519531,
          24.233373641967773,
          30.83875846862793,
          34.89119338989258,
          16.282699584960938,
          -20.783226013183594,
          -23.203245162963867,
          -17.915401458740234,
          -14.54076099395752,
          1.6285743713378906,
          15.177382469177246,
          5.5124335289001465,
          42.529754638671875,
          32.88513946533203,
          -13.568414688110352,
          -4.871248722076416,
          -29.300830841064453,
          -36.27290725708008,
          -45.65077209472656,
          8.54576301574707,
          28.96619987487793,
          36.16776657104492,
          19.716352462768555,
          39.11378479003906,
          2.7516143321990967,
          -35.55952072143555,
          11.301909446716309,
          0.3957028090953827,
          -23.947792053222656,
          -40.4453010559082,
          -24.93304443359375,
          34.20075988769531,
          -24.521778106689453,
          1.4714409112930298,
          -10.289717674255371,
          -31.1302433013916,
          25.76970863342285,
          11.30465316772461,
          9.311230659484863,
          30.76666259765625,
          22.297758102416992,
          1.5475622415542603,
          -6.87569522857666,
          4.025251388549805,
          -3.3817195892333984,
          -23.595073699951172,
          42.88368225097656,
          24.34721565246582,
          46.97041702270508,
          19.054073333740234,
          39.759857177734375,
          5.702714443206787,
          -1.2443617582321167,
          11.762237548828125,
          -24.26259422302246,
          5.259007453918457,
          -26.10695457458496,
          -15.251629829406738,
          9.999905586242676,
          15.199115753173828,
          29.120866775512695,
          -16.674055099487305,
          -3.4653334617614746,
          -8.71633529663086,
          -20.132383346557617,
          -4.2478156089782715,
          -18.695695877075195,
          -27.916770935058594,
          -22.444873809814453,
          34.482757568359375,
          1.2416529655456543,
          -9.50326156616211,
          -20.198734283447266,
          -17.183948516845703,
          -16.569501876831055,
          11.64055347442627,
          8.886597633361816,
          -26.109167098999023,
          36.65692901611328,
          21.355621337890625,
          -7.622559070587158,
          -13.34290599822998,
          7.837888240814209,
          3.8562328815460205,
          -28.85413360595703,
          -11.690581321716309,
          -34.868553161621094,
          -7.844117164611816,
          12.405481338500977,
          -31.426311492919922,
          -29.649410247802734,
          -23.635196685791016,
          -8.657599449157715,
          41.01612854003906,
          4.579803943634033,
          -9.718907356262207,
          -37.505130767822266,
          -6.761078357696533,
          -19.16557502746582,
          18.776973724365234,
          44.42186737060547,
          40.53993225097656,
          30.768177032470703,
          -4.510287761688232,
          11.148338317871094,
          8.194232940673828,
          -17.861236572265625,
          3.552380323410034,
          -0.015090171247720718,
          17.364151000976562,
          24.829896926879883,
          19.272401809692383,
          18.59901237487793,
          -21.9390926361084,
          -32.06472396850586,
          -12.431732177734375,
          12.411609649658203,
          -6.612630367279053,
          -5.967238903045654,
          10.824748992919922,
          -14.40914249420166
         ],
         "y": [
          -16.705331802368164,
          28.964536666870117,
          4.60654354095459,
          27.25251007080078,
          -8.123286247253418,
          9.187599182128906,
          -25.001745223999023,
          -36.280059814453125,
          6.2668986320495605,
          27.169212341308594,
          13.430207252502441,
          9.678226470947266,
          10.128351211547852,
          6.87384033203125,
          2.2900209426879883,
          8.562838554382324,
          17.3974552154541,
          7.30661678314209,
          -2.593991279602051,
          12.17965030670166,
          -17.037073135375977,
          10.96170425415039,
          -17.79861068725586,
          15.915651321411133,
          -3.943108320236206,
          -32.32345962524414,
          28.086746215820312,
          13.220123291015625,
          16.005943298339844,
          4.583660125732422,
          -10.162328720092773,
          -0.6883048415184021,
          -24.507598876953125,
          -2.8764491081237793,
          -8.793355941772461,
          -8.800414085388184,
          12.637803077697754,
          -11.64393424987793,
          -26.180471420288086,
          2.3311448097229004,
          -8.38793659210205,
          0.9644335508346558,
          -15.836941719055176,
          -12.118332862854004,
          1.810567855834961,
          -9.65640640258789,
          10.75115966796875,
          -15.751727104187012,
          3.2412548065185547,
          9.5842924118042,
          -4.06065034866333,
          -18.54075050354004,
          11.75893783569336,
          -3.282442808151245,
          -2.9168968200683594,
          -10.165249824523926,
          -5.6609110832214355,
          -0.16361327469348907,
          5.069102764129639,
          -30.191316604614258,
          -11.51310920715332,
          32.66769027709961,
          -8.19255542755127,
          -36.3350944519043,
          -23.012109756469727,
          -12.814003944396973,
          17.404619216918945,
          12.334358215332031,
          19.621023178100586,
          -14.062034606933594,
          1.322166919708252,
          4.889003276824951,
          5.866480827331543,
          3.806201934814453,
          -0.28235745429992676,
          12.609448432922363,
          -8.42633056640625,
          -20.313106536865234,
          -2.7479190826416016,
          -8.655220031738281,
          15.738869667053223,
          -19.57154655456543,
          26.589035034179688,
          -1.9981815814971924,
          -31.891887664794922,
          -2.168144941329956,
          -34.900508880615234,
          26.023775100708008,
          26.729978561401367,
          -14.202743530273438,
          -2.8951661586761475,
          -7.077760696411133,
          -1.0529942512512207,
          -13.24075984954834,
          -31.834644317626953,
          -25.534061431884766,
          5.161368370056152,
          -0.5890401005744934,
          10.642951011657715,
          9.42903995513916,
          14.89062786102295,
          -13.237532615661621,
          18.29343032836914,
          6.0964131355285645,
          1.3307006359100342,
          10.69532299041748,
          23.304996490478516,
          6.941920757293701,
          11.657880783081055,
          -34.85671615600586,
          6.203423500061035,
          -9.209953308105469,
          5.757644176483154,
          -9.244519233703613,
          28.907007217407227,
          11.343305587768555,
          21.52341651916504,
          1.230531096458435,
          -20.779081344604492,
          -8.751984596252441,
          15.737624168395996,
          5.6922101974487305,
          -10.711932182312012,
          13.55111026763916,
          -15.636333465576172,
          12.804648399353027,
          -13.72838306427002,
          7.857260704040527,
          -25.448955535888672,
          -2.3750123977661133,
          10.25973892211914,
          -21.557601928710938,
          -28.71979331970215,
          11.135884284973145,
          26.307931900024414,
          -19.016124725341797,
          -15.063301086425781,
          -16.18301010131836,
          10.289608001708984,
          7.340794086456299,
          33.28364944458008,
          32.10291290283203,
          26.262235641479492,
          -23.228242874145508,
          -17.559797286987305,
          22.500228881835938,
          13.960301399230957,
          12.447014808654785,
          15.12597942352295,
          3.716587781906128,
          6.23367166519165,
          18.162443161010742,
          11.397506713867188,
          17.420412063598633,
          -17.70338249206543,
          -28.312353134155273,
          32.502445220947266,
          -20.24887466430664,
          22.625179290771484,
          36.74137878417969,
          6.9182868003845215,
          -33.827598571777344,
          18.329851150512695,
          -3.197956085205078,
          4.92828893661499,
          22.023487091064453,
          20.972753524780273,
          -5.142111778259277,
          1.8794907331466675,
          -23.65385627746582,
          6.2337751388549805,
          -28.21034049987793,
          4.593203544616699,
          -14.950618743896484,
          10.30258846282959,
          15.07614517211914,
          -41.834564208984375,
          6.834636211395264,
          -18.034408569335938,
          3.455564260482788,
          7.405019760131836,
          7.6635026931762695,
          0.14186887443065643,
          -27.87325668334961,
          -6.464722156524658,
          1.3374272584915161,
          -9.298158645629883,
          13.275819778442383,
          10.014622688293457,
          5.163064479827881,
          18.16259765625,
          20.304475784301758,
          -5.7025556564331055,
          -3.445927858352661,
          -1.2360365390777588,
          19.98527717590332,
          9.739340782165527,
          -31.26482391357422,
          -14.694093704223633,
          20.233421325683594
         ],
         "z": [
          -3.5096139907836914,
          -6.652462959289551,
          26.537494659423828,
          -1.7776418924331665,
          36.334293365478516,
          14.91700267791748,
          -8.515063285827637,
          -2.2870655059814453,
          -18.458097457885742,
          8.126947402954102,
          -6.132265090942383,
          -8.48262882232666,
          -32.50505447387695,
          3.0177512168884277,
          15.19253158569336,
          -22.577064514160156,
          -0.4168616235256195,
          20.661474227905273,
          31.49863624572754,
          7.959715366363525,
          -28.62584114074707,
          7.1082563400268555,
          8.403827667236328,
          3.2506558895111084,
          3.7142345905303955,
          -12.79798412322998,
          9.48214340209961,
          5.087034225463867,
          -7.229451656341553,
          10.833797454833984,
          -2.839649200439453,
          -23.893024444580078,
          -4.422341823577881,
          10.945661544799805,
          3.4202122688293457,
          -12.49203109741211,
          15.883772850036621,
          -3.485060930252075,
          -14.416703224182129,
          -22.7369384765625,
          -12.936125755310059,
          6.4622321128845215,
          30.782304763793945,
          17.790176391601562,
          -16.434396743774414,
          -0.2371751070022583,
          -2.8333094120025635,
          9.008071899414062,
          -5.015789031982422,
          -1.9675606489181519,
          27.840105056762695,
          -4.355685710906982,
          14.868779182434082,
          9.896658897399902,
          37.41506576538086,
          -9.75296688079834,
          -22.903379440307617,
          32.721954345703125,
          -7.398045539855957,
          1.1785420179367065,
          32.269046783447266,
          -0.9883483648300171,
          27.847843170166016,
          -5.272931098937988,
          -17.23446273803711,
          -18.855649948120117,
          23.318958282470703,
          -4.3261637687683105,
          -2.022815465927124,
          -1.4783344268798828,
          38.7140998840332,
          34.52400207519531,
          -29.750606536865234,
          5.049373626708984,
          12.324662208557129,
          -5.147414207458496,
          -18.299543380737305,
          2.2179205417633057,
          -10.458684921264648,
          -13.0546293258667,
          0.03019256517291069,
          6.435512542724609,
          8.23244857788086,
          27.13970375061035,
          -13.159751892089844,
          0.5535405874252319,
          6.578693866729736,
          8.973752975463867,
          18.96953582763672,
          15.159424781799316,
          -9.423206329345703,
          20.718416213989258,
          -11.188630104064941,
          12.524561882019043,
          6.230152606964111,
          -10.107251167297363,
          -11.69823932647705,
          1.0637508630752563,
          0.8613764047622681,
          18.154638290405273,
          0.5520060658454895,
          32.696720123291016,
          -8.258036613464355,
          -11.104669570922852,
          15.69364070892334,
          -8.233287811279297,
          -6.293919086456299,
          23.435243606567383,
          0.9864778518676758,
          -11.147175788879395,
          -2.5769965648651123,
          -0.810897171497345,
          30.65318489074707,
          31.884008407592773,
          -9.38968563079834,
          3.7690117359161377,
          8.756892204284668,
          -3.865842819213867,
          15.78808307647705,
          -16.29775619506836,
          8.406695365905762,
          10.509459495544434,
          -29.9384765625,
          -13.268049240112305,
          -27.7912654876709,
          24.727380752563477,
          29.545881271362305,
          13.659706115722656,
          -5.670114994049072,
          20.948816299438477,
          -17.00410270690918,
          2.3333349227905273,
          -5.130087852478027,
          5.061628341674805,
          13.393037796020508,
          -0.5253053307533264,
          -12.14806079864502,
          -4.535086631774902,
          -14.088152885437012,
          8.874056816101074,
          -0.11466263979673386,
          -9.097946166992188,
          -6.566454887390137,
          -6.096745014190674,
          -31.733306884765625,
          -8.83112621307373,
          -15.49551773071289,
          11.782342910766602,
          6.526173114776611,
          6.668466091156006,
          -11.713525772094727,
          2.75724458694458,
          -12.529176712036133,
          -12.539374351501465,
          -23.046894073486328,
          12.914877891540527,
          -13.99086856842041,
          -2.841564893722534,
          -5.874768257141113,
          1.4841636419296265,
          -24.96900749206543,
          15.47411060333252,
          -24.710899353027344,
          11.026350021362305,
          -38.58053207397461,
          -11.052496910095215,
          5.42172908782959,
          38.997867584228516,
          -0.12600748240947723,
          -2.375087022781372,
          -1.8789396286010742,
          2.92849063873291,
          15.647846221923828,
          -9.946167945861816,
          -4.857251167297363,
          -6.802626609802246,
          -1.0127208232879639,
          5.972071647644043,
          -4.166106700897217,
          10.186776161193848,
          -6.992130756378174,
          22.54587173461914,
          22.370384216308594,
          -15.482505798339844,
          14.289533615112305,
          1.6699424982070923,
          -14.88016128540039,
          -9.042104721069336,
          1.2512086629867554,
          -11.034910202026367,
          -1.5810452699661255,
          17.02362632751465,
          15.87873363494873,
          4.002838134765625,
          10.440370559692383,
          -12.699010848999023,
          14.634571075439453,
          -9.261650085449219,
          -31.652509689331055,
          -7.69861364364624
         ]
        }
       ],
       "layout": {
        "legend": {
         "tracegroupgap": 0
        },
        "margin": {
         "t": 60
        },
        "scene": {
         "domain": {
          "x": [
           0,
           1
          ],
          "y": [
           0,
           1
          ]
         },
         "xaxis": {
          "title": {
           "text": "x"
          }
         },
         "yaxis": {
          "title": {
           "text": "y"
          }
         },
         "zaxis": {
          "title": {
           "text": "z"
          }
         }
        },
        "template": {
         "data": {
          "bar": [
           {
            "error_x": {
             "color": "#2a3f5f"
            },
            "error_y": {
             "color": "#2a3f5f"
            },
            "marker": {
             "line": {
              "color": "#E5ECF6",
              "width": 0.5
             },
             "pattern": {
              "fillmode": "overlay",
              "size": 10,
              "solidity": 0.2
             }
            },
            "type": "bar"
           }
          ],
          "barpolar": [
           {
            "marker": {
             "line": {
              "color": "#E5ECF6",
              "width": 0.5
             },
             "pattern": {
              "fillmode": "overlay",
              "size": 10,
              "solidity": 0.2
             }
            },
            "type": "barpolar"
           }
          ],
          "carpet": [
           {
            "aaxis": {
             "endlinecolor": "#2a3f5f",
             "gridcolor": "white",
             "linecolor": "white",
             "minorgridcolor": "white",
             "startlinecolor": "#2a3f5f"
            },
            "baxis": {
             "endlinecolor": "#2a3f5f",
             "gridcolor": "white",
             "linecolor": "white",
             "minorgridcolor": "white",
             "startlinecolor": "#2a3f5f"
            },
            "type": "carpet"
           }
          ],
          "choropleth": [
           {
            "colorbar": {
             "outlinewidth": 0,
             "ticks": ""
            },
            "type": "choropleth"
           }
          ],
          "contour": [
           {
            "colorbar": {
             "outlinewidth": 0,
             "ticks": ""
            },
            "colorscale": [
             [
              0,
              "#0d0887"
             ],
             [
              0.1111111111111111,
              "#46039f"
             ],
             [
              0.2222222222222222,
              "#7201a8"
             ],
             [
              0.3333333333333333,
              "#9c179e"
             ],
             [
              0.4444444444444444,
              "#bd3786"
             ],
             [
              0.5555555555555556,
              "#d8576b"
             ],
             [
              0.6666666666666666,
              "#ed7953"
             ],
             [
              0.7777777777777778,
              "#fb9f3a"
             ],
             [
              0.8888888888888888,
              "#fdca26"
             ],
             [
              1,
              "#f0f921"
             ]
            ],
            "type": "contour"
           }
          ],
          "contourcarpet": [
           {
            "colorbar": {
             "outlinewidth": 0,
             "ticks": ""
            },
            "type": "contourcarpet"
           }
          ],
          "heatmap": [
           {
            "colorbar": {
             "outlinewidth": 0,
             "ticks": ""
            },
            "colorscale": [
             [
              0,
              "#0d0887"
             ],
             [
              0.1111111111111111,
              "#46039f"
             ],
             [
              0.2222222222222222,
              "#7201a8"
             ],
             [
              0.3333333333333333,
              "#9c179e"
             ],
             [
              0.4444444444444444,
              "#bd3786"
             ],
             [
              0.5555555555555556,
              "#d8576b"
             ],
             [
              0.6666666666666666,
              "#ed7953"
             ],
             [
              0.7777777777777778,
              "#fb9f3a"
             ],
             [
              0.8888888888888888,
              "#fdca26"
             ],
             [
              1,
              "#f0f921"
             ]
            ],
            "type": "heatmap"
           }
          ],
          "heatmapgl": [
           {
            "colorbar": {
             "outlinewidth": 0,
             "ticks": ""
            },
            "colorscale": [
             [
              0,
              "#0d0887"
             ],
             [
              0.1111111111111111,
              "#46039f"
             ],
             [
              0.2222222222222222,
              "#7201a8"
             ],
             [
              0.3333333333333333,
              "#9c179e"
             ],
             [
              0.4444444444444444,
              "#bd3786"
             ],
             [
              0.5555555555555556,
              "#d8576b"
             ],
             [
              0.6666666666666666,
              "#ed7953"
             ],
             [
              0.7777777777777778,
              "#fb9f3a"
             ],
             [
              0.8888888888888888,
              "#fdca26"
             ],
             [
              1,
              "#f0f921"
             ]
            ],
            "type": "heatmapgl"
           }
          ],
          "histogram": [
           {
            "marker": {
             "pattern": {
              "fillmode": "overlay",
              "size": 10,
              "solidity": 0.2
             }
            },
            "type": "histogram"
           }
          ],
          "histogram2d": [
           {
            "colorbar": {
             "outlinewidth": 0,
             "ticks": ""
            },
            "colorscale": [
             [
              0,
              "#0d0887"
             ],
             [
              0.1111111111111111,
              "#46039f"
             ],
             [
              0.2222222222222222,
              "#7201a8"
             ],
             [
              0.3333333333333333,
              "#9c179e"
             ],
             [
              0.4444444444444444,
              "#bd3786"
             ],
             [
              0.5555555555555556,
              "#d8576b"
             ],
             [
              0.6666666666666666,
              "#ed7953"
             ],
             [
              0.7777777777777778,
              "#fb9f3a"
             ],
             [
              0.8888888888888888,
              "#fdca26"
             ],
             [
              1,
              "#f0f921"
             ]
            ],
            "type": "histogram2d"
           }
          ],
          "histogram2dcontour": [
           {
            "colorbar": {
             "outlinewidth": 0,
             "ticks": ""
            },
            "colorscale": [
             [
              0,
              "#0d0887"
             ],
             [
              0.1111111111111111,
              "#46039f"
             ],
             [
              0.2222222222222222,
              "#7201a8"
             ],
             [
              0.3333333333333333,
              "#9c179e"
             ],
             [
              0.4444444444444444,
              "#bd3786"
             ],
             [
              0.5555555555555556,
              "#d8576b"
             ],
             [
              0.6666666666666666,
              "#ed7953"
             ],
             [
              0.7777777777777778,
              "#fb9f3a"
             ],
             [
              0.8888888888888888,
              "#fdca26"
             ],
             [
              1,
              "#f0f921"
             ]
            ],
            "type": "histogram2dcontour"
           }
          ],
          "mesh3d": [
           {
            "colorbar": {
             "outlinewidth": 0,
             "ticks": ""
            },
            "type": "mesh3d"
           }
          ],
          "parcoords": [
           {
            "line": {
             "colorbar": {
              "outlinewidth": 0,
              "ticks": ""
             }
            },
            "type": "parcoords"
           }
          ],
          "pie": [
           {
            "automargin": true,
            "type": "pie"
           }
          ],
          "scatter": [
           {
            "fillpattern": {
             "fillmode": "overlay",
             "size": 10,
             "solidity": 0.2
            },
            "type": "scatter"
           }
          ],
          "scatter3d": [
           {
            "line": {
             "colorbar": {
              "outlinewidth": 0,
              "ticks": ""
             }
            },
            "marker": {
             "colorbar": {
              "outlinewidth": 0,
              "ticks": ""
             }
            },
            "type": "scatter3d"
           }
          ],
          "scattercarpet": [
           {
            "marker": {
             "colorbar": {
              "outlinewidth": 0,
              "ticks": ""
             }
            },
            "type": "scattercarpet"
           }
          ],
          "scattergeo": [
           {
            "marker": {
             "colorbar": {
              "outlinewidth": 0,
              "ticks": ""
             }
            },
            "type": "scattergeo"
           }
          ],
          "scattergl": [
           {
            "marker": {
             "colorbar": {
              "outlinewidth": 0,
              "ticks": ""
             }
            },
            "type": "scattergl"
           }
          ],
          "scattermapbox": [
           {
            "marker": {
             "colorbar": {
              "outlinewidth": 0,
              "ticks": ""
             }
            },
            "type": "scattermapbox"
           }
          ],
          "scatterpolar": [
           {
            "marker": {
             "colorbar": {
              "outlinewidth": 0,
              "ticks": ""
             }
            },
            "type": "scatterpolar"
           }
          ],
          "scatterpolargl": [
           {
            "marker": {
             "colorbar": {
              "outlinewidth": 0,
              "ticks": ""
             }
            },
            "type": "scatterpolargl"
           }
          ],
          "scatterternary": [
           {
            "marker": {
             "colorbar": {
              "outlinewidth": 0,
              "ticks": ""
             }
            },
            "type": "scatterternary"
           }
          ],
          "surface": [
           {
            "colorbar": {
             "outlinewidth": 0,
             "ticks": ""
            },
            "colorscale": [
             [
              0,
              "#0d0887"
             ],
             [
              0.1111111111111111,
              "#46039f"
             ],
             [
              0.2222222222222222,
              "#7201a8"
             ],
             [
              0.3333333333333333,
              "#9c179e"
             ],
             [
              0.4444444444444444,
              "#bd3786"
             ],
             [
              0.5555555555555556,
              "#d8576b"
             ],
             [
              0.6666666666666666,
              "#ed7953"
             ],
             [
              0.7777777777777778,
              "#fb9f3a"
             ],
             [
              0.8888888888888888,
              "#fdca26"
             ],
             [
              1,
              "#f0f921"
             ]
            ],
            "type": "surface"
           }
          ],
          "table": [
           {
            "cells": {
             "fill": {
              "color": "#EBF0F8"
             },
             "line": {
              "color": "white"
             }
            },
            "header": {
             "fill": {
              "color": "#C8D4E3"
             },
             "line": {
              "color": "white"
             }
            },
            "type": "table"
           }
          ]
         },
         "layout": {
          "annotationdefaults": {
           "arrowcolor": "#2a3f5f",
           "arrowhead": 0,
           "arrowwidth": 1
          },
          "autotypenumbers": "strict",
          "coloraxis": {
           "colorbar": {
            "outlinewidth": 0,
            "ticks": ""
           }
          },
          "colorscale": {
           "diverging": [
            [
             0,
             "#8e0152"
            ],
            [
             0.1,
             "#c51b7d"
            ],
            [
             0.2,
             "#de77ae"
            ],
            [
             0.3,
             "#f1b6da"
            ],
            [
             0.4,
             "#fde0ef"
            ],
            [
             0.5,
             "#f7f7f7"
            ],
            [
             0.6,
             "#e6f5d0"
            ],
            [
             0.7,
             "#b8e186"
            ],
            [
             0.8,
             "#7fbc41"
            ],
            [
             0.9,
             "#4d9221"
            ],
            [
             1,
             "#276419"
            ]
           ],
           "sequential": [
            [
             0,
             "#0d0887"
            ],
            [
             0.1111111111111111,
             "#46039f"
            ],
            [
             0.2222222222222222,
             "#7201a8"
            ],
            [
             0.3333333333333333,
             "#9c179e"
            ],
            [
             0.4444444444444444,
             "#bd3786"
            ],
            [
             0.5555555555555556,
             "#d8576b"
            ],
            [
             0.6666666666666666,
             "#ed7953"
            ],
            [
             0.7777777777777778,
             "#fb9f3a"
            ],
            [
             0.8888888888888888,
             "#fdca26"
            ],
            [
             1,
             "#f0f921"
            ]
           ],
           "sequentialminus": [
            [
             0,
             "#0d0887"
            ],
            [
             0.1111111111111111,
             "#46039f"
            ],
            [
             0.2222222222222222,
             "#7201a8"
            ],
            [
             0.3333333333333333,
             "#9c179e"
            ],
            [
             0.4444444444444444,
             "#bd3786"
            ],
            [
             0.5555555555555556,
             "#d8576b"
            ],
            [
             0.6666666666666666,
             "#ed7953"
            ],
            [
             0.7777777777777778,
             "#fb9f3a"
            ],
            [
             0.8888888888888888,
             "#fdca26"
            ],
            [
             1,
             "#f0f921"
            ]
           ]
          },
          "colorway": [
           "#636efa",
           "#EF553B",
           "#00cc96",
           "#ab63fa",
           "#FFA15A",
           "#19d3f3",
           "#FF6692",
           "#B6E880",
           "#FF97FF",
           "#FECB52"
          ],
          "font": {
           "color": "#2a3f5f"
          },
          "geo": {
           "bgcolor": "white",
           "lakecolor": "white",
           "landcolor": "#E5ECF6",
           "showlakes": true,
           "showland": true,
           "subunitcolor": "white"
          },
          "hoverlabel": {
           "align": "left"
          },
          "hovermode": "closest",
          "mapbox": {
           "style": "light"
          },
          "paper_bgcolor": "white",
          "plot_bgcolor": "#E5ECF6",
          "polar": {
           "angularaxis": {
            "gridcolor": "white",
            "linecolor": "white",
            "ticks": ""
           },
           "bgcolor": "#E5ECF6",
           "radialaxis": {
            "gridcolor": "white",
            "linecolor": "white",
            "ticks": ""
           }
          },
          "scene": {
           "xaxis": {
            "backgroundcolor": "#E5ECF6",
            "gridcolor": "white",
            "gridwidth": 2,
            "linecolor": "white",
            "showbackground": true,
            "ticks": "",
            "zerolinecolor": "white"
           },
           "yaxis": {
            "backgroundcolor": "#E5ECF6",
            "gridcolor": "white",
            "gridwidth": 2,
            "linecolor": "white",
            "showbackground": true,
            "ticks": "",
            "zerolinecolor": "white"
           },
           "zaxis": {
            "backgroundcolor": "#E5ECF6",
            "gridcolor": "white",
            "gridwidth": 2,
            "linecolor": "white",
            "showbackground": true,
            "ticks": "",
            "zerolinecolor": "white"
           }
          },
          "shapedefaults": {
           "line": {
            "color": "#2a3f5f"
           }
          },
          "ternary": {
           "aaxis": {
            "gridcolor": "white",
            "linecolor": "white",
            "ticks": ""
           },
           "baxis": {
            "gridcolor": "white",
            "linecolor": "white",
            "ticks": ""
           },
           "bgcolor": "#E5ECF6",
           "caxis": {
            "gridcolor": "white",
            "linecolor": "white",
            "ticks": ""
           }
          },
          "title": {
           "x": 0.05
          },
          "xaxis": {
           "automargin": true,
           "gridcolor": "white",
           "linecolor": "white",
           "ticks": "",
           "title": {
            "standoff": 15
           },
           "zerolinecolor": "white",
           "zerolinewidth": 2
          },
          "yaxis": {
           "automargin": true,
           "gridcolor": "white",
           "linecolor": "white",
           "ticks": "",
           "title": {
            "standoff": 15
           },
           "zerolinecolor": "white",
           "zerolinewidth": 2
          }
         }
        }
       }
      }
     },
     "metadata": {},
     "output_type": "display_data"
    }
   ],
   "source": [
    "from sklearn.manifold import TSNE\n",
    "import numpy as np\n",
    "import plotly.express as px\n",
    "\n",
    "tsne = TSNE(n_components=3, n_iter=2000)\n",
    "tsne_embedding = tsne.fit_transform(word_vectors)\n",
    "\n",
    "x, y, z = np.transpose(tsne_embedding)\n",
    "\n",
    "fig = px.scatter_3d(x=x[:200],y=y[:200],z=z[:200],text=sample[:200])\n",
    "fig.update_traces(marker=dict(size=3,line=dict(width=2)),textfont_size=10)\n",
    "fig.show()\n"
   ]
  },
  {
   "cell_type": "markdown",
   "id": "fd7a0a8b",
   "metadata": {},
   "source": [
    "We can hardly notice that some name of variables are put closer such us some numbers or strange words.   \n",
    "Anyway, seems an hard task try to understand the quality of those embeddings."
   ]
  },
  {
   "cell_type": "markdown",
   "id": "46542bab",
   "metadata": {},
   "source": [
    "To better understand how the embedding model (Word2Vec or FastText later) captures semantic relationships, we implemented a function that visualizes clusters of similar words centered around a predefined set of keywords.\n",
    "\n",
    "This function:\n",
    "- Takes a list of target words (e.g., \"matrix\", \"graph\", \"loop\") as input.\n",
    "- Retrieves the top-15 most similar words for each target from the model.\n",
    "- Projects the resulting word vectors into 3D space using t-SNE.\n",
    "- Groups the words visually by color to highlight semantic similarity clusters around each center word."
   ]
  },
  {
   "cell_type": "code",
   "execution_count": null,
   "id": "a40d2004",
   "metadata": {},
   "outputs": [],
   "source": [
    "\n",
    "# Plot the most similar words for a given group of words using FastText o Word2Vec model.\n",
    "\n",
    "# Parameters:\n",
    "#    model : The trained FastText or W2V model.\n",
    "#    centers (list): List of words to find similar words for.\n",
    "\n",
    "def plot_word_embedding_grouped(model, centers):\n",
    "    \n",
    "    labels = [] # Will store the group (center word) each word belongs to\n",
    "    words = []  # List of all words to visualize (centers + their similar words)\n",
    "    for center in centers:\n",
    "        try:\n",
    "            # Retrieve top-15 most similar words to the center word\n",
    "            similar_words = [w[0] for w in model.wv.most_similar(center, topn=15)]\n",
    "            # Include the center word itself in the visualization\n",
    "            similar_words.append(center)\n",
    "            for word in similar_words:\n",
    "                # Add word only if it's not already in the list\n",
    "                if word not in words:\n",
    "                    words.append(word)\n",
    "                    labels.append(center) # Label with the corresponding center word\n",
    "        except KeyError:\n",
    "            # Handle the case where a center word is not in the vocabulary\n",
    "            print(f\"Word '{center}' not in vocabulary.\")\n",
    "\n",
    "    # Step 2: Extract word vectors from the model\n",
    "    vectors = np.array([model.wv[word] for word in words])\n",
    "\n",
    "    # Step 3: Apply t-SNE to reduce dimensionality to 3D\n",
    "    tsne = TSNE(n_components=3, n_iter=2000, perplexity=10, init='random', random_state=42)\n",
    "    tsne_embedding = tsne.fit_transform(vectors)\n",
    "    x, y, z = np.transpose(tsne_embedding) # Unpack the 3D coordinates\n",
    "\n",
    "    # Step 4: Create a DataFrame for visualization\n",
    "    df = pd.DataFrame({\n",
    "        'x': x,\n",
    "        'y': y,\n",
    "        'z': z,\n",
    "        'word': words,\n",
    "        'group': labels\n",
    "    })\n",
    "\n",
    "    # Step 5: Plot using Plotly (3D scatter)\n",
    "    fig = px.scatter_3d(\n",
    "        df,\n",
    "        x='x',\n",
    "        y='y',\n",
    "        z='z',\n",
    "        text='word',  # Show word label next to point\n",
    "        color='group',  # Color by center word\n",
    "        title='3D t-SNE Word Embedding Visualization (Grouped)'\n",
    "    )\n",
    "\n",
    "    fig.update_traces(marker=dict(size=5, line=dict(width=2)), textfont_size=10)\n",
    "    fig.show()"
   ]
  },
  {
   "cell_type": "markdown",
   "id": "63106497",
   "metadata": {},
   "source": [
    "Plotting the most similar words for a given group of words using Word2Vec model with the previous function. "
   ]
  },
  {
   "cell_type": "code",
   "execution_count": null,
   "id": "84697d6c",
   "metadata": {},
   "outputs": [
    {
     "name": "stdout",
     "output_type": "stream",
     "text": [
      "Word 'c++' not in vocabulary.\n"
     ]
    },
    {
     "name": "stderr",
     "output_type": "stream",
     "text": [
      "c:\\Users\\utente\\AppData\\Local\\Programs\\Python\\Python312\\Lib\\site-packages\\sklearn\\manifold\\_t_sne.py:1164: FutureWarning:\n",
      "\n",
      "'n_iter' was renamed to 'max_iter' in version 1.5 and will be removed in 1.7.\n",
      "\n"
     ]
    },
    {
     "data": {
      "application/vnd.plotly.v1+json": {
       "config": {
        "plotlyServerURL": "https://plot.ly"
       },
       "data": [
        {
         "hovertemplate": "group=sort<br>x=%{x}<br>y=%{y}<br>z=%{z}<br>word=%{text}<extra></extra>",
         "legendgroup": "sort",
         "marker": {
          "color": "#636efa",
          "line": {
           "width": 2
          },
          "size": 5,
          "symbol": "circle"
         },
         "mode": "markers+text",
         "name": "sort",
         "scene": "scene",
         "showlegend": true,
         "text": [
          "sorted",
          "lexicographical",
          "ascend",
          "descend",
          "omkarray",
          "unimodal",
          "yield",
          "permute",
          "chronological",
          "decreasing",
          "insertion",
          "median",
          "bfs",
          "appearance",
          "nondecrease",
          "sort"
         ],
         "textfont": {
          "size": 10
         },
         "type": "scatter3d",
         "x": [
          -1.2292736768722534,
          131.96107482910156,
          100.86568450927734,
          41.69668197631836,
          -35.05359649658203,
          78.4000015258789,
          -49.05316925048828,
          92.49508666992188,
          41.25352478027344,
          52.133544921875,
          17.121971130371094,
          141.6780548095703,
          75.91669464111328,
          57.27018356323242,
          31.319299697875977,
          148.5961151123047
         ],
         "y": [
          170.414306640625,
          -51.49750900268555,
          -99.27131652832031,
          -69.74183654785156,
          115.17403411865234,
          -1.1412895917892456,
          136.5184783935547,
          55.08197021484375,
          15.276416778564453,
          -78.2022933959961,
          -10.642900466918945,
          105.96754455566406,
          -48.328269958496094,
          -70.04741668701172,
          -25.980669021606445,
          -113.75279998779297
         ],
         "z": [
          3.6825547218322754,
          72.8117446899414,
          151.0677490234375,
          120.91896057128906,
          28.858781814575195,
          8.390528678894043,
          -13.607243537902832,
          -13.590937614440918,
          -177.3694610595703,
          4.356369972229004,
          75.75082397460938,
          89.20513153076172,
          -58.42124938964844,
          63.616127014160156,
          4.306845188140869,
          44.106056213378906
         ]
        },
        {
         "hovertemplate": "group=search<br>x=%{x}<br>y=%{y}<br>z=%{z}<br>word=%{text}<extra></extra>",
         "legendgroup": "search",
         "marker": {
          "color": "#EF553B",
          "line": {
           "width": 2
          },
          "size": 5,
          "symbol": "circle"
         },
         "mode": "markers+text",
         "name": "search",
         "scene": "scene",
         "showlegend": true,
         "text": [
          "inorder",
          "structure",
          "implement",
          "brainfuck",
          "linear",
          "binary",
          "algorithm",
          "system",
          "link",
          "exponential",
          "numerical",
          "refer",
          "pseudocode",
          "formal",
          "property",
          "search"
         ],
         "textfont": {
          "size": 10
         },
         "type": "scatter3d",
         "x": [
          -132.0476531982422,
          -174.0841064453125,
          -3.4689877033233643,
          -38.469398498535156,
          -78.67532348632812,
          22.648277282714844,
          42.00743103027344,
          -174.5585479736328,
          -53.36967086791992,
          -66.20673370361328,
          -27.586687088012695,
          -69.41427612304688,
          2.5861244201660156,
          -103.7625503540039,
          -187.46885681152344,
          169.17259216308594
         ],
         "y": [
          27.049938201904297,
          -11.157027244567871,
          30.36946678161621,
          41.78855895996094,
          -2.1550002098083496,
          165.37918090820312,
          36.0760498046875,
          55.71171951293945,
          89.80046844482422,
          -32.52156066894531,
          4.358283042907715,
          -83.00395202636719,
          -78.67318725585938,
          21.717653274536133,
          -51.85597229003906,
          156.1517791748047
         ],
         "z": [
          122.90618896484375,
          75.88722229003906,
          -77.91888427734375,
          99.04766082763672,
          80.73107147216797,
          -121.88086700439453,
          161.98370361328125,
          40.379478454589844,
          141.05564880371094,
          40.05436325073242,
          35.29057693481445,
          0.23323094844818115,
          -43.7783203125,
          36.38446807861328,
          134.95904541015625,
          -108.56491088867188
         ]
        },
        {
         "hovertemplate": "group=delete<br>x=%{x}<br>y=%{y}<br>z=%{z}<br>word=%{text}<extra></extra>",
         "legendgroup": "delete",
         "marker": {
          "color": "#00cc96",
          "line": {
           "width": 2
          },
          "size": 5,
          "symbol": "circle"
         },
         "mode": "markers+text",
         "name": "delete",
         "scene": "scene",
         "showlegend": true,
         "text": [
          "erase",
          "extract",
          "remove",
          "deletion",
          "reverse",
          "deletefirst",
          "derive",
          "getmin",
          "reorder",
          "replacement",
          "deletelast",
          "concatenate",
          "copy",
          "inclusively",
          "rearrange",
          "delete"
         ],
         "textfont": {
          "size": 10
         },
         "type": "scatter3d",
         "x": [
          115.23809814453125,
          68.33488464355469,
          128.30731201171875,
          197.36907958984375,
          78.39141845703125,
          -7.141024112701416,
          208.39016723632812,
          34.58318328857422,
          80.53398895263672,
          38.111228942871094,
          -18.785600662231445,
          157.2801055908203,
          150.318603515625,
          64.90348815917969,
          109.49076843261719,
          164.13165283203125
         ],
         "y": [
          34.18177032470703,
          105.89736938476562,
          70.40924835205078,
          -31.859413146972656,
          159.80502319335938,
          -62.89490509033203,
          -1.4884395599365234,
          68.23966979980469,
          84.74607849121094,
          87.3456802368164,
          -31.1805477142334,
          14.075916290283203,
          9.733100891113281,
          172.41653442382812,
          104.47145080566406,
          12.376331329345703
         ],
         "z": [
          -105.75267028808594,
          38.65885543823242,
          -154.4034423828125,
          -55.277984619140625,
          -7.830486297607422,
          29.533323287963867,
          -1.2892322540283203,
          47.27431869506836,
          -88.15724182128906,
          -24.12417984008789,
          -8.383302688598633,
          25.18018341064453,
          -23.555068969726562,
          89.35978698730469,
          -43.849063873291016,
          -125.24018859863281
         ]
        },
        {
         "hovertemplate": "group=graph<br>x=%{x}<br>y=%{y}<br>z=%{z}<br>word=%{text}<extra></extra>",
         "legendgroup": "graph",
         "marker": {
          "color": "#ab63fa",
          "line": {
           "width": 2
          },
          "size": 5,
          "symbol": "circle"
         },
         "mode": "markers+text",
         "name": "graph",
         "scene": "scene",
         "showlegend": true,
         "text": [
          "undirected",
          "connected",
          "edge",
          "rooted",
          "component",
          "tree",
          "subgraph",
          "root",
          "unweighted",
          "vertex",
          "loop",
          "leaf",
          "bipartite",
          "weighted",
          "direct",
          "graph"
         ],
         "textfont": {
          "size": 10
         },
         "type": "scatter3d",
         "x": [
          -30.951480865478516,
          -14.683635711669922,
          -90.71290588378906,
          -84.31560516357422,
          204.05313110351562,
          -71.12631225585938,
          -85.77642822265625,
          -49.96505355834961,
          -131.62594604492188,
          -89.2684555053711,
          -149.046630859375,
          -155.3617401123047,
          -185.6606903076172,
          -134.97250366210938,
          -81.70099639892578,
          -62.43952941894531
         ],
         "y": [
          -60.43013000488281,
          -98.28907012939453,
          -185.21499633789062,
          -110.57604217529297,
          92.72502899169922,
          36.36962890625,
          -25.51715087890625,
          -157.9735565185547,
          -52.269866943359375,
          -174.4162139892578,
          -23.780885696411133,
          -71.45516967773438,
          -66.17588806152344,
          -78.9474105834961,
          -98.8898696899414,
          -26.98102378845215
         ],
         "z": [
          -152.57901000976562,
          -121.20979309082031,
          1.4689786434173584,
          106.32980346679688,
          -41.69858169555664,
          -162.2725830078125,
          -83.00594329833984,
          -134.831787109375,
          35.441993713378906,
          -46.4706916809082,
          -82.23250579833984,
          -17.27053451538086,
          43.04844665527344,
          74.82633972167969,
          -100.58981323242188,
          -182.9393310546875
         ]
        }
       ],
       "layout": {
        "legend": {
         "title": {
          "text": "group"
         },
         "tracegroupgap": 0
        },
        "scene": {
         "domain": {
          "x": [
           0,
           1
          ],
          "y": [
           0,
           1
          ]
         },
         "xaxis": {
          "title": {
           "text": "x"
          }
         },
         "yaxis": {
          "title": {
           "text": "y"
          }
         },
         "zaxis": {
          "title": {
           "text": "z"
          }
         }
        },
        "template": {
         "data": {
          "bar": [
           {
            "error_x": {
             "color": "#2a3f5f"
            },
            "error_y": {
             "color": "#2a3f5f"
            },
            "marker": {
             "line": {
              "color": "#E5ECF6",
              "width": 0.5
             },
             "pattern": {
              "fillmode": "overlay",
              "size": 10,
              "solidity": 0.2
             }
            },
            "type": "bar"
           }
          ],
          "barpolar": [
           {
            "marker": {
             "line": {
              "color": "#E5ECF6",
              "width": 0.5
             },
             "pattern": {
              "fillmode": "overlay",
              "size": 10,
              "solidity": 0.2
             }
            },
            "type": "barpolar"
           }
          ],
          "carpet": [
           {
            "aaxis": {
             "endlinecolor": "#2a3f5f",
             "gridcolor": "white",
             "linecolor": "white",
             "minorgridcolor": "white",
             "startlinecolor": "#2a3f5f"
            },
            "baxis": {
             "endlinecolor": "#2a3f5f",
             "gridcolor": "white",
             "linecolor": "white",
             "minorgridcolor": "white",
             "startlinecolor": "#2a3f5f"
            },
            "type": "carpet"
           }
          ],
          "choropleth": [
           {
            "colorbar": {
             "outlinewidth": 0,
             "ticks": ""
            },
            "type": "choropleth"
           }
          ],
          "contour": [
           {
            "colorbar": {
             "outlinewidth": 0,
             "ticks": ""
            },
            "colorscale": [
             [
              0,
              "#0d0887"
             ],
             [
              0.1111111111111111,
              "#46039f"
             ],
             [
              0.2222222222222222,
              "#7201a8"
             ],
             [
              0.3333333333333333,
              "#9c179e"
             ],
             [
              0.4444444444444444,
              "#bd3786"
             ],
             [
              0.5555555555555556,
              "#d8576b"
             ],
             [
              0.6666666666666666,
              "#ed7953"
             ],
             [
              0.7777777777777778,
              "#fb9f3a"
             ],
             [
              0.8888888888888888,
              "#fdca26"
             ],
             [
              1,
              "#f0f921"
             ]
            ],
            "type": "contour"
           }
          ],
          "contourcarpet": [
           {
            "colorbar": {
             "outlinewidth": 0,
             "ticks": ""
            },
            "type": "contourcarpet"
           }
          ],
          "heatmap": [
           {
            "colorbar": {
             "outlinewidth": 0,
             "ticks": ""
            },
            "colorscale": [
             [
              0,
              "#0d0887"
             ],
             [
              0.1111111111111111,
              "#46039f"
             ],
             [
              0.2222222222222222,
              "#7201a8"
             ],
             [
              0.3333333333333333,
              "#9c179e"
             ],
             [
              0.4444444444444444,
              "#bd3786"
             ],
             [
              0.5555555555555556,
              "#d8576b"
             ],
             [
              0.6666666666666666,
              "#ed7953"
             ],
             [
              0.7777777777777778,
              "#fb9f3a"
             ],
             [
              0.8888888888888888,
              "#fdca26"
             ],
             [
              1,
              "#f0f921"
             ]
            ],
            "type": "heatmap"
           }
          ],
          "heatmapgl": [
           {
            "colorbar": {
             "outlinewidth": 0,
             "ticks": ""
            },
            "colorscale": [
             [
              0,
              "#0d0887"
             ],
             [
              0.1111111111111111,
              "#46039f"
             ],
             [
              0.2222222222222222,
              "#7201a8"
             ],
             [
              0.3333333333333333,
              "#9c179e"
             ],
             [
              0.4444444444444444,
              "#bd3786"
             ],
             [
              0.5555555555555556,
              "#d8576b"
             ],
             [
              0.6666666666666666,
              "#ed7953"
             ],
             [
              0.7777777777777778,
              "#fb9f3a"
             ],
             [
              0.8888888888888888,
              "#fdca26"
             ],
             [
              1,
              "#f0f921"
             ]
            ],
            "type": "heatmapgl"
           }
          ],
          "histogram": [
           {
            "marker": {
             "pattern": {
              "fillmode": "overlay",
              "size": 10,
              "solidity": 0.2
             }
            },
            "type": "histogram"
           }
          ],
          "histogram2d": [
           {
            "colorbar": {
             "outlinewidth": 0,
             "ticks": ""
            },
            "colorscale": [
             [
              0,
              "#0d0887"
             ],
             [
              0.1111111111111111,
              "#46039f"
             ],
             [
              0.2222222222222222,
              "#7201a8"
             ],
             [
              0.3333333333333333,
              "#9c179e"
             ],
             [
              0.4444444444444444,
              "#bd3786"
             ],
             [
              0.5555555555555556,
              "#d8576b"
             ],
             [
              0.6666666666666666,
              "#ed7953"
             ],
             [
              0.7777777777777778,
              "#fb9f3a"
             ],
             [
              0.8888888888888888,
              "#fdca26"
             ],
             [
              1,
              "#f0f921"
             ]
            ],
            "type": "histogram2d"
           }
          ],
          "histogram2dcontour": [
           {
            "colorbar": {
             "outlinewidth": 0,
             "ticks": ""
            },
            "colorscale": [
             [
              0,
              "#0d0887"
             ],
             [
              0.1111111111111111,
              "#46039f"
             ],
             [
              0.2222222222222222,
              "#7201a8"
             ],
             [
              0.3333333333333333,
              "#9c179e"
             ],
             [
              0.4444444444444444,
              "#bd3786"
             ],
             [
              0.5555555555555556,
              "#d8576b"
             ],
             [
              0.6666666666666666,
              "#ed7953"
             ],
             [
              0.7777777777777778,
              "#fb9f3a"
             ],
             [
              0.8888888888888888,
              "#fdca26"
             ],
             [
              1,
              "#f0f921"
             ]
            ],
            "type": "histogram2dcontour"
           }
          ],
          "mesh3d": [
           {
            "colorbar": {
             "outlinewidth": 0,
             "ticks": ""
            },
            "type": "mesh3d"
           }
          ],
          "parcoords": [
           {
            "line": {
             "colorbar": {
              "outlinewidth": 0,
              "ticks": ""
             }
            },
            "type": "parcoords"
           }
          ],
          "pie": [
           {
            "automargin": true,
            "type": "pie"
           }
          ],
          "scatter": [
           {
            "fillpattern": {
             "fillmode": "overlay",
             "size": 10,
             "solidity": 0.2
            },
            "type": "scatter"
           }
          ],
          "scatter3d": [
           {
            "line": {
             "colorbar": {
              "outlinewidth": 0,
              "ticks": ""
             }
            },
            "marker": {
             "colorbar": {
              "outlinewidth": 0,
              "ticks": ""
             }
            },
            "type": "scatter3d"
           }
          ],
          "scattercarpet": [
           {
            "marker": {
             "colorbar": {
              "outlinewidth": 0,
              "ticks": ""
             }
            },
            "type": "scattercarpet"
           }
          ],
          "scattergeo": [
           {
            "marker": {
             "colorbar": {
              "outlinewidth": 0,
              "ticks": ""
             }
            },
            "type": "scattergeo"
           }
          ],
          "scattergl": [
           {
            "marker": {
             "colorbar": {
              "outlinewidth": 0,
              "ticks": ""
             }
            },
            "type": "scattergl"
           }
          ],
          "scattermapbox": [
           {
            "marker": {
             "colorbar": {
              "outlinewidth": 0,
              "ticks": ""
             }
            },
            "type": "scattermapbox"
           }
          ],
          "scatterpolar": [
           {
            "marker": {
             "colorbar": {
              "outlinewidth": 0,
              "ticks": ""
             }
            },
            "type": "scatterpolar"
           }
          ],
          "scatterpolargl": [
           {
            "marker": {
             "colorbar": {
              "outlinewidth": 0,
              "ticks": ""
             }
            },
            "type": "scatterpolargl"
           }
          ],
          "scatterternary": [
           {
            "marker": {
             "colorbar": {
              "outlinewidth": 0,
              "ticks": ""
             }
            },
            "type": "scatterternary"
           }
          ],
          "surface": [
           {
            "colorbar": {
             "outlinewidth": 0,
             "ticks": ""
            },
            "colorscale": [
             [
              0,
              "#0d0887"
             ],
             [
              0.1111111111111111,
              "#46039f"
             ],
             [
              0.2222222222222222,
              "#7201a8"
             ],
             [
              0.3333333333333333,
              "#9c179e"
             ],
             [
              0.4444444444444444,
              "#bd3786"
             ],
             [
              0.5555555555555556,
              "#d8576b"
             ],
             [
              0.6666666666666666,
              "#ed7953"
             ],
             [
              0.7777777777777778,
              "#fb9f3a"
             ],
             [
              0.8888888888888888,
              "#fdca26"
             ],
             [
              1,
              "#f0f921"
             ]
            ],
            "type": "surface"
           }
          ],
          "table": [
           {
            "cells": {
             "fill": {
              "color": "#EBF0F8"
             },
             "line": {
              "color": "white"
             }
            },
            "header": {
             "fill": {
              "color": "#C8D4E3"
             },
             "line": {
              "color": "white"
             }
            },
            "type": "table"
           }
          ]
         },
         "layout": {
          "annotationdefaults": {
           "arrowcolor": "#2a3f5f",
           "arrowhead": 0,
           "arrowwidth": 1
          },
          "autotypenumbers": "strict",
          "coloraxis": {
           "colorbar": {
            "outlinewidth": 0,
            "ticks": ""
           }
          },
          "colorscale": {
           "diverging": [
            [
             0,
             "#8e0152"
            ],
            [
             0.1,
             "#c51b7d"
            ],
            [
             0.2,
             "#de77ae"
            ],
            [
             0.3,
             "#f1b6da"
            ],
            [
             0.4,
             "#fde0ef"
            ],
            [
             0.5,
             "#f7f7f7"
            ],
            [
             0.6,
             "#e6f5d0"
            ],
            [
             0.7,
             "#b8e186"
            ],
            [
             0.8,
             "#7fbc41"
            ],
            [
             0.9,
             "#4d9221"
            ],
            [
             1,
             "#276419"
            ]
           ],
           "sequential": [
            [
             0,
             "#0d0887"
            ],
            [
             0.1111111111111111,
             "#46039f"
            ],
            [
             0.2222222222222222,
             "#7201a8"
            ],
            [
             0.3333333333333333,
             "#9c179e"
            ],
            [
             0.4444444444444444,
             "#bd3786"
            ],
            [
             0.5555555555555556,
             "#d8576b"
            ],
            [
             0.6666666666666666,
             "#ed7953"
            ],
            [
             0.7777777777777778,
             "#fb9f3a"
            ],
            [
             0.8888888888888888,
             "#fdca26"
            ],
            [
             1,
             "#f0f921"
            ]
           ],
           "sequentialminus": [
            [
             0,
             "#0d0887"
            ],
            [
             0.1111111111111111,
             "#46039f"
            ],
            [
             0.2222222222222222,
             "#7201a8"
            ],
            [
             0.3333333333333333,
             "#9c179e"
            ],
            [
             0.4444444444444444,
             "#bd3786"
            ],
            [
             0.5555555555555556,
             "#d8576b"
            ],
            [
             0.6666666666666666,
             "#ed7953"
            ],
            [
             0.7777777777777778,
             "#fb9f3a"
            ],
            [
             0.8888888888888888,
             "#fdca26"
            ],
            [
             1,
             "#f0f921"
            ]
           ]
          },
          "colorway": [
           "#636efa",
           "#EF553B",
           "#00cc96",
           "#ab63fa",
           "#FFA15A",
           "#19d3f3",
           "#FF6692",
           "#B6E880",
           "#FF97FF",
           "#FECB52"
          ],
          "font": {
           "color": "#2a3f5f"
          },
          "geo": {
           "bgcolor": "white",
           "lakecolor": "white",
           "landcolor": "#E5ECF6",
           "showlakes": true,
           "showland": true,
           "subunitcolor": "white"
          },
          "hoverlabel": {
           "align": "left"
          },
          "hovermode": "closest",
          "mapbox": {
           "style": "light"
          },
          "paper_bgcolor": "white",
          "plot_bgcolor": "#E5ECF6",
          "polar": {
           "angularaxis": {
            "gridcolor": "white",
            "linecolor": "white",
            "ticks": ""
           },
           "bgcolor": "#E5ECF6",
           "radialaxis": {
            "gridcolor": "white",
            "linecolor": "white",
            "ticks": ""
           }
          },
          "scene": {
           "xaxis": {
            "backgroundcolor": "#E5ECF6",
            "gridcolor": "white",
            "gridwidth": 2,
            "linecolor": "white",
            "showbackground": true,
            "ticks": "",
            "zerolinecolor": "white"
           },
           "yaxis": {
            "backgroundcolor": "#E5ECF6",
            "gridcolor": "white",
            "gridwidth": 2,
            "linecolor": "white",
            "showbackground": true,
            "ticks": "",
            "zerolinecolor": "white"
           },
           "zaxis": {
            "backgroundcolor": "#E5ECF6",
            "gridcolor": "white",
            "gridwidth": 2,
            "linecolor": "white",
            "showbackground": true,
            "ticks": "",
            "zerolinecolor": "white"
           }
          },
          "shapedefaults": {
           "line": {
            "color": "#2a3f5f"
           }
          },
          "ternary": {
           "aaxis": {
            "gridcolor": "white",
            "linecolor": "white",
            "ticks": ""
           },
           "baxis": {
            "gridcolor": "white",
            "linecolor": "white",
            "ticks": ""
           },
           "bgcolor": "#E5ECF6",
           "caxis": {
            "gridcolor": "white",
            "linecolor": "white",
            "ticks": ""
           }
          },
          "title": {
           "x": 0.05
          },
          "xaxis": {
           "automargin": true,
           "gridcolor": "white",
           "linecolor": "white",
           "ticks": "",
           "title": {
            "standoff": 15
           },
           "zerolinecolor": "white",
           "zerolinewidth": 2
          },
          "yaxis": {
           "automargin": true,
           "gridcolor": "white",
           "linecolor": "white",
           "ticks": "",
           "title": {
            "standoff": 15
           },
           "zerolinecolor": "white",
           "zerolinewidth": 2
          }
         }
        },
        "title": {
         "text": "3D t-SNE Word Embedding Visualization (Grouped)"
        }
       }
      }
     },
     "metadata": {},
     "output_type": "display_data"
    }
   ],
   "source": [
    "centers=[\"sort\", \"search\", \"delete\", \"graph\", \"c++\"]\n",
    "plot_word_embedding_grouped(w2v_model, centers)"
   ]
  },
  {
   "cell_type": "markdown",
   "id": "24f4257c",
   "metadata": {},
   "source": [
    "The visualization shows clear clusters of words around their center terms, confirming that the model captures meaningful semantic relationships.\n",
    "\n",
    "However, we also notice some irregularities. For instance, the word \"search\" appears slightly isolated from its expected neighbors.\n",
    "\n",
    "This could be due to:\n",
    "- Dimensionality reduction artifacts from t-SNE, which can distort distances in 3D space.\n",
    "- Contextual ambiguity — words like \"search\" may be used in various technical contexts (e.g., graphs, arrays, strings).\n"
   ]
  },
  {
   "cell_type": "markdown",
   "id": "81a6e66c",
   "metadata": {},
   "source": [
    "### FastText"
   ]
  },
  {
   "cell_type": "markdown",
   "id": "d542d4e1",
   "metadata": {},
   "source": [
    "In this section, we train two FastText models using the gensim library:\n",
    "- A standard model with vector_size=100 (richer representations).\n",
    "- A lightweight model with vector_size=50 (faster and smaller footprint).\n",
    "\n",
    "FastText extends Word2Vec by representing words as bags of character n-grams, allowing it to generalize better and assign a vector also to rare or unseen words. \n",
    "This is especially useful in technical or domain-specific documents like code descriptions. \n",
    "\n",
    "Finally, a comparison function is used to analyze how different FastText models embed some representative words by listing their most similar words."
   ]
  },
  {
   "cell_type": "code",
   "execution_count": null,
   "id": "a76094c9",
   "metadata": {},
   "outputs": [],
   "source": [
    "# Import FastText from gensim\n",
    "from gensim.models import FastText"
   ]
  },
  {
   "cell_type": "markdown",
   "id": "e9337d0a",
   "metadata": {},
   "source": [
    " Create and train a FastText model with higher vector dimensionality.  \n",
    " (skip this part if you want to load directly the already trained models from file)"
   ]
  },
  {
   "cell_type": "code",
   "execution_count": null,
   "id": "4483d95d",
   "metadata": {},
   "outputs": [],
   "source": [
    "ft_model = FastText(\n",
    "    vector_size=100,     # Embedding vector size (richer representations)\n",
    "    window=5,            # Context window\n",
    "    min_count=2,         # Minimum frequency threshold\n",
    "    workers=8,           # Use multiple threads\n",
    "    sg=1                 # Use skip-gram (1); 0 = CBOW\n",
    ")\n",
    "# Build the vocabulary from the tokenized corpus\n",
    "ft_model.build_vocab(corpus_iterable=tokenized_corpus)\n",
    "\n",
    "# Train the FastText model on the tokenized corpus\n",
    "ft_model.train(\n",
    "    corpus_iterable=tokenized_corpus,\n",
    "    total_examples=len(tokenized_corpus),\n",
    "    epochs=10\n",
    ")\n",
    "# Save the full model\n",
    "ft_model.save(\"fasttext_descriptions.model\")"
   ]
  },
  {
   "cell_type": "markdown",
   "id": "539fba4a",
   "metadata": {},
   "source": [
    "Create a lightweight FastText model with smaller vectors (skip to save time)"
   ]
  },
  {
   "cell_type": "code",
   "execution_count": null,
   "id": "1a31493e",
   "metadata": {},
   "outputs": [],
   "source": [
    "ft_model = FastText(\n",
    "    vector_size=50, # Smaller vector size for efficiency\n",
    "    window=5,\n",
    "    min_count=2,\n",
    "    workers=8,\n",
    "    sg=1\n",
    ")\n",
    "ft_model.build_vocab(corpus_iterable=tokenized_corpus)\n",
    "# Train the lightweight model\n",
    "ft_model.train(\n",
    "    corpus_iterable=tokenized_corpus,\n",
    "    total_examples=len(tokenized_corpus),\n",
    "    epochs=10\n",
    ")\n",
    "# Save the light model\n",
    "ft_model.save(\"fasttext_descriptions_light.model\")"
   ]
  },
  {
   "cell_type": "markdown",
   "id": "dc2eddbe",
   "metadata": {},
   "source": [
    "Here, the code to load the models already trained in order to save time.  \n",
    "(the file of the models should have been put in the same directory of the notebook)"
   ]
  },
  {
   "cell_type": "code",
   "execution_count": null,
   "id": "09440330",
   "metadata": {},
   "outputs": [],
   "source": [
    "# Load the trained models\n",
    "ft_model= FastText.load(\"fasttext_descriptions.model\")\n",
    "ft_model_light= FastText.load(\"fasttext_descriptions_light.model\")"
   ]
  },
  {
   "cell_type": "markdown",
   "id": "7bfd9d17",
   "metadata": {},
   "source": [
    "Check the shape of the learned word vectors"
   ]
  },
  {
   "cell_type": "code",
   "execution_count": null,
   "id": "9f0ac50d",
   "metadata": {},
   "outputs": [
    {
     "name": "stdout",
     "output_type": "stream",
     "text": [
      "Shape of ft_model vectors: (7026, 100)\n",
      "Shape of ft_model_light vectors: (7026, 50)\n"
     ]
    }
   ],
   "source": [
    "# Check the shape of the learned word vectors\n",
    "print(\"Shape of ft_model vectors:\", ft_model.wv.vectors.shape)\n",
    "print(\"Shape of ft_model_light vectors:\", ft_model_light.wv.vectors.shape)"
   ]
  },
  {
   "cell_type": "markdown",
   "id": "4093fcb6",
   "metadata": {},
   "source": [
    "Here a function that allows us to compare the output of multiple FastText models on a list of words printing the 10 most similar for each.  \n",
    "This can help identify relevant differences in the learned embeddings across our 2 FastText models.\n",
    "Parameters:\n",
    "- models (dict): Dictionary with model names as keys and FastText objects as values.\n",
    "- word (str): The target word to find similar words for.\n",
    "- topn (int): Number of top similar words to display.\n"
   ]
  },
  {
   "cell_type": "code",
   "execution_count": null,
   "id": "25037247",
   "metadata": {},
   "outputs": [],
   "source": [
    "# Function to compare the output of multiple FastText models\n",
    "def compare_models(models: dict, word: str, topn: int = 10):\n",
    "    for model_name, model in models.items():\n",
    "        print(f\"\\n=== Model: {model_name} ===\")\n",
    "        if word in model.wv.key_to_index:\n",
    "            print(f\"\\nMost similar to '{word}':\")\n",
    "            similar = model.wv.most_similar(word, topn=topn)\n",
    "            for i, (sim_word, score) in enumerate(similar, 1):\n",
    "                print(f\"  {i}. {sim_word} (score: {score:.4f})\")\n",
    "        else:\n",
    "           print(f\"\\n'{word}' not in vocabulary of model '{model_name}'\")\n",
    "           # Still attempt similarity lookup — FastText can handle OOV words using subword information\n",
    "           print(f\"\\nMost similar to '{word}':\")\n",
    "           similar = model.wv.most_similar(word, topn=topn)\n",
    "           for i, (sim_word, score) in enumerate(similar, 1):\n",
    "            print(f\"  {i}. {sim_word} (score: {score:.4f})\")\n",
    "           "
   ]
  },
  {
   "cell_type": "code",
   "execution_count": null,
   "id": "56d8e5a8",
   "metadata": {},
   "outputs": [
    {
     "name": "stdout",
     "output_type": "stream",
     "text": [
      "\n",
      "=== Model: Large FastText ===\n",
      "\n",
      "Most similar to 'function':\n",
      "  1. malfunction (score: 0.9329)\n",
      "  2. functionality (score: 0.8688)\n",
      "  3. functional (score: 0.8478)\n",
      "  4. nonfunctional (score: 0.8020)\n",
      "  5. definition (score: 0.6954)\n",
      "  6. translation (score: 0.6854)\n",
      "  7. recursive (score: 0.6850)\n",
      "  8. reduction (score: 0.6815)\n",
      "  9. notion (score: 0.6814)\n",
      "  10. introduction (score: 0.6796)\n",
      "\n",
      "=== Model: Light FastText ===\n",
      "\n",
      "Most similar to 'function':\n",
      "  1. malfunction (score: 0.9210)\n",
      "  2. functionality (score: 0.8730)\n",
      "  3. functional (score: 0.8426)\n",
      "  4. nonfunctional (score: 0.7941)\n",
      "  5. recursive (score: 0.7699)\n",
      "  6. aeb (score: 0.7235)\n",
      "  7. notion (score: 0.7029)\n",
      "  8. recurrence (score: 0.6987)\n",
      "  9. we (score: 0.6963)\n",
      "  10. translation (score: 0.6962)\n"
     ]
    }
   ],
   "source": [
    "# Example usage: compare embeddings of the word 'function'\n",
    "models = {\n",
    "    \"Large FastText\": ft_model,\n",
    "    \"Light FastText\": ft_model_light\n",
    "}\n",
    "\n",
    "target_word= \"function\"\n",
    "compare_models(models, target_word, topn=10)\n"
   ]
  },
  {
   "cell_type": "code",
   "execution_count": 46,
   "id": "2ed80f04",
   "metadata": {},
   "outputs": [
    {
     "name": "stdout",
     "output_type": "stream",
     "text": [
      "\n",
      "=== Model: Large FastText ===\n",
      "\n",
      "Most similar to 'array':\n",
      "  1. eqnarray (score: 0.8938)\n",
      "  2. omkarray (score: 0.8558)\n",
      "  3. subarray (score: 0.7873)\n",
      "  4. subbarray (score: 0.7851)\n",
      "  5. element (score: 0.6615)\n",
      "  6. nextelement (score: 0.6498)\n",
      "  7. yield (score: 0.6217)\n",
      "  8. permute (score: 0.6106)\n",
      "  9. permutation (score: 0.6089)\n",
      "  10. arrayhead (score: 0.6068)\n",
      "\n",
      "=== Model: Light FastText ===\n",
      "\n",
      "Most similar to 'array':\n",
      "  1. eqnarray (score: 0.9040)\n",
      "  2. omkarray (score: 0.8724)\n",
      "  3. subarray (score: 0.8288)\n",
      "  4. subbarray (score: 0.8218)\n",
      "  5. permutation (score: 0.7831)\n",
      "  6. element (score: 0.7688)\n",
      "  7. nextelement (score: 0.7554)\n",
      "  8. permute (score: 0.7487)\n",
      "  9. sequence (score: 0.7295)\n",
      "  10. subsegment (score: 0.7184)\n"
     ]
    }
   ],
   "source": [
    "target_word= \"array\"\n",
    "compare_models(models, target_word, topn=10)"
   ]
  },
  {
   "cell_type": "code",
   "execution_count": 47,
   "id": "1a6e80d9",
   "metadata": {},
   "outputs": [
    {
     "name": "stdout",
     "output_type": "stream",
     "text": [
      "\n",
      "=== Model: Large FastText ===\n",
      "\n",
      "Most similar to 'graph':\n",
      "  1. polygraph (score: 0.8697)\n",
      "  2. subgraph (score: 0.8669)\n",
      "  3. undirected (score: 0.8320)\n",
      "  4. paragraph (score: 0.8258)\n",
      "  5. rooted (score: 0.7660)\n",
      "  6. edge (score: 0.7636)\n",
      "  7. directed (score: 0.7547)\n",
      "  8. unweighted (score: 0.7446)\n",
      "  9. connected (score: 0.7296)\n",
      "  10. isolated (score: 0.7291)\n",
      "\n",
      "=== Model: Light FastText ===\n",
      "\n",
      "Most similar to 'graph':\n",
      "  1. polygraph (score: 0.8994)\n",
      "  2. subgraph (score: 0.8908)\n",
      "  3. paragraph (score: 0.8618)\n",
      "  4. undirected (score: 0.8571)\n",
      "  5. edge (score: 0.8412)\n",
      "  6. rooted (score: 0.8149)\n",
      "  7. unweighted (score: 0.8075)\n",
      "  8. connected (score: 0.7930)\n",
      "  9. directed (score: 0.7863)\n",
      "  10. vertex (score: 0.7861)\n"
     ]
    }
   ],
   "source": [
    "target_word= \"graph\"\n",
    "compare_models(models, target_word, topn=10)"
   ]
  },
  {
   "cell_type": "code",
   "execution_count": 48,
   "id": "f8a1d7e2",
   "metadata": {},
   "outputs": [
    {
     "name": "stdout",
     "output_type": "stream",
     "text": [
      "\n",
      "=== Model: Large FastText ===\n",
      "\n",
      "Most similar to 'matrix':\n",
      "  1. vmatrix (score: 0.9585)\n",
      "  2. bmatrix (score: 0.9191)\n",
      "  3. pmatrix (score: 0.9038)\n",
      "  4. grid (score: 0.6744)\n",
      "  5. column (score: 0.6173)\n",
      "  6. matroskin (score: 0.6141)\n",
      "  7. square1001 (score: 0.5893)\n",
      "  8. bon (score: 0.5704)\n",
      "  9. eqnarray (score: 0.5622)\n",
      "  10. magnitude (score: 0.5598)\n",
      "\n",
      "=== Model: Light FastText ===\n",
      "\n",
      "Most similar to 'matrix':\n",
      "  1. vmatrix (score: 0.9518)\n",
      "  2. bmatrix (score: 0.9115)\n",
      "  3. pmatrix (score: 0.8926)\n",
      "  4. grid (score: 0.7233)\n",
      "  5. square1001 (score: 0.6782)\n",
      "  6. coloring (score: 0.6721)\n",
      "  7. column (score: 0.6615)\n",
      "  8. square (score: 0.6579)\n",
      "  9. row (score: 0.6532)\n",
      "  10. pitch (score: 0.6393)\n"
     ]
    }
   ],
   "source": [
    "target_word= \"matrix\"\n",
    "compare_models(models, target_word, topn=10)"
   ]
  },
  {
   "cell_type": "code",
   "execution_count": 49,
   "id": "89375237",
   "metadata": {},
   "outputs": [
    {
     "name": "stdout",
     "output_type": "stream",
     "text": [
      "\n",
      "=== Model: Large FastText ===\n",
      "\n",
      "'unknown_word' not in vocabulary of model 'Large FastText'\n",
      "\n",
      "Most similar to 'unknown_word':\n",
      "  1. unknown (score: 0.9093)\n",
      "  2. known (score: 0.8381)\n",
      "  3. koyomi (score: 0.7664)\n",
      "  4. liouzhou_101 (score: 0.7625)\n",
      "  5. beforehand (score: 0.7571)\n",
      "  6. quasi (score: 0.7488)\n",
      "  7. unless (score: 0.7464)\n",
      "  8. alexander (score: 0.7453)\n",
      "  9. keione (score: 0.7403)\n",
      "  10. pencilcase (score: 0.7391)\n",
      "\n",
      "=== Model: Light FastText ===\n",
      "\n",
      "'unknown_word' not in vocabulary of model 'Light FastText'\n",
      "\n",
      "Most similar to 'unknown_word':\n",
      "  1. unknown (score: 0.9306)\n",
      "  2. known (score: 0.8734)\n",
      "  3. elapse (score: 0.8314)\n",
      "  4. unrecognized (score: 0.8218)\n",
      "  5. unless (score: 0.8181)\n",
      "  6. koyomi (score: 0.8157)\n",
      "  7. pencilcase (score: 0.8039)\n",
      "  8. randomaccess (score: 0.8032)\n",
      "  9. guess (score: 0.7987)\n",
      "  10. primarily (score: 0.7933)\n"
     ]
    }
   ],
   "source": [
    "target_word= \"unknown_word\"\n",
    "compare_models(models, target_word, topn=10)"
   ]
  },
  {
   "cell_type": "markdown",
   "id": "75977f11",
   "metadata": {},
   "source": [
    "The two FastText models (large and light) yield very similar results across all comparisons, consistently returning nearly identical top similar words for each target word."
   ]
  },
  {
   "cell_type": "markdown",
   "id": "0ddda5e5",
   "metadata": {},
   "source": [
    "#### Visualizing Word Embeddings with t-SNE"
   ]
  },
  {
   "cell_type": "markdown",
   "id": "8f411a11",
   "metadata": {},
   "source": [
    "In this cell, we use the plot_word_embedding_grouped function showed in the previous cells to visualize the word embeddings learned by the FastText model for a selected list of central words (\"sort\", \"search\", \"delete\", \"graph\", and \"dog\"). \n",
    "\n",
    "Note: we use the large version of FastText model for this plot"
   ]
  },
  {
   "cell_type": "code",
   "execution_count": 175,
   "id": "2c471e6f",
   "metadata": {},
   "outputs": [
    {
     "name": "stderr",
     "output_type": "stream",
     "text": [
      "c:\\Users\\utente\\AppData\\Local\\Programs\\Python\\Python312\\Lib\\site-packages\\sklearn\\manifold\\_t_sne.py:1164: FutureWarning:\n",
      "\n",
      "'n_iter' was renamed to 'max_iter' in version 1.5 and will be removed in 1.7.\n",
      "\n"
     ]
    },
    {
     "data": {
      "application/vnd.plotly.v1+json": {
       "config": {
        "plotlyServerURL": "https://plot.ly"
       },
       "data": [
        {
         "hovertemplate": "group=sort<br>x=%{x}<br>y=%{y}<br>z=%{z}<br>word=%{text}<extra></extra>",
         "legendgroup": "sort",
         "marker": {
          "color": "#636efa",
          "line": {
           "width": 2
          },
          "size": 5,
          "symbol": "circle"
         },
         "mode": "markers+text",
         "name": "sort",
         "scene": "scene",
         "showlegend": true,
         "text": [
          "sorted",
          "shellsort",
          "quicksort",
          "insertionsort",
          "sorting",
          "ascend",
          "chronologically",
          "decrypt",
          "spaghetti",
          "merge",
          "medians",
          "permute",
          "ascent",
          "nondecreasing",
          "nondecrease",
          "sort"
         ],
         "textfont": {
          "size": 10
         },
         "type": "scatter3d",
         "x": [
          -127.13200378417969,
          -77.88054656982422,
          -54.957435607910156,
          -44.35616683959961,
          -129.7646942138672,
          -84.15008544921875,
          -19.414392471313477,
          -55.02960968017578,
          -25.050535202026367,
          -81.95289611816406,
          -30.859577178955078,
          -54.27617645263672,
          -100.77642059326172,
          -102.332763671875,
          -97.35436248779297,
          -149.68421936035156
         ],
         "y": [
          -121.93006134033203,
          -93.76363372802734,
          -54.90617752075195,
          -119.51022338867188,
          -84.48141479492188,
          -181.84664916992188,
          31.270286560058594,
          8.1336669921875,
          -63.026817321777344,
          -56.160888671875,
          -114.50787353515625,
          -110.11634826660156,
          -164.70240783691406,
          -25.10211753845215,
          -7.008275508880615,
          -96.51254272460938
         ],
         "z": [
          -38.9327392578125,
          -4.949604511260986,
          -10.410268783569336,
          -22.743276596069336,
          -95.67169952392578,
          19.01427459716797,
          -170.55206298828125,
          -86.01580047607422,
          -63.592403411865234,
          -58.42829513549805,
          -82.4698715209961,
          -130.67333984375,
          -12.104623794555664,
          -119.8613052368164,
          -152.63150024414062,
          -4.0429229736328125
         ]
        },
        {
         "hovertemplate": "group=search<br>x=%{x}<br>y=%{y}<br>z=%{z}<br>word=%{text}<extra></extra>",
         "legendgroup": "search",
         "marker": {
          "color": "#EF553B",
          "line": {
           "width": 2
          },
          "size": 5,
          "symbol": "circle"
         },
         "mode": "markers+text",
         "name": "search",
         "scene": "scene",
         "showlegend": true,
         "text": [
          "research",
          "first_search",
          "pseudo",
          "pseudocode",
          "archaeologist",
          "torch",
          "sophisticated",
          "interpret",
          "implement",
          "recommendation",
          "properly",
          "thumbnail",
          "complicated",
          "usaico",
          "dynamic",
          "search"
         ],
         "textfont": {
          "size": 10
         },
         "type": "scatter3d",
         "x": [
          83.05276489257812,
          69.71726989746094,
          -13.651493072509766,
          135.0554962158203,
          40.83774185180664,
          100.96819305419922,
          18.159252166748047,
          13.172602653503418,
          21.627986907958984,
          115.78931427001953,
          48.82623291015625,
          -5.0569257736206055,
          -25.04962730407715,
          26.174510955810547,
          33.865421295166016,
          122.38690185546875
         ],
         "y": [
          -110.70683288574219,
          -45.355865478515625,
          -2.7729530334472656,
          -109.09639739990234,
          -54.921085357666016,
          -44.02899932861328,
          -82.5730972290039,
          -49.26240539550781,
          -134.7822265625,
          -1.2917160987854004,
          -123.64518737792969,
          -24.30472183227539,
          -103.13794708251953,
          -14.015511512756348,
          29.29815101623535,
          -113.61624908447266
         ],
         "z": [
          37.484378814697266,
          27.422237396240234,
          76.10550689697266,
          -40.361328125,
          -34.57762145996094,
          -23.3980770111084,
          -2.8869667053222656,
          45.140621185302734,
          35.681488037109375,
          29.428863525390625,
          -36.826171875,
          -40.4053840637207,
          56.62865447998047,
          2.8194212913513184,
          29.934717178344727,
          37.64937210083008
         ]
        },
        {
         "hovertemplate": "group=delete<br>x=%{x}<br>y=%{y}<br>z=%{z}<br>word=%{text}<extra></extra>",
         "legendgroup": "delete",
         "marker": {
          "color": "#00cc96",
          "line": {
           "width": 2
          },
          "size": 5,
          "symbol": "circle"
         },
         "mode": "markers+text",
         "name": "delete",
         "scene": "scene",
         "showlegend": true,
         "text": [
          "deletelast",
          "deletefirst",
          "deletion",
          "erase",
          "removemin",
          "remove",
          "derive",
          "removed",
          "removal",
          "extractmax",
          "append",
          "delegate",
          "iterate",
          "reversal",
          "obfuscate",
          "delete"
         ],
         "textfont": {
          "size": 10
         },
         "type": "scatter3d",
         "x": [
          11.804804801940918,
          -117.74966430664062,
          -120.76715850830078,
          -141.50657653808594,
          -77.84992218017578,
          -72.0106201171875,
          -162.1311798095703,
          -118.49754333496094,
          -68.5707015991211,
          -90.07723999023438,
          -134.07106018066406,
          -87.91313934326172,
          15.01065444946289,
          -72.3675765991211,
          -42.20875930786133,
          -166.9132537841797
         ],
         "y": [
          -68.2323989868164,
          66.89891052246094,
          50.2005615234375,
          90.5501480102539,
          101.06184387207031,
          159.0819091796875,
          35.85911178588867,
          -137.21450805664062,
          74.30919647216797,
          -9.474204063415527,
          -21.053396224975586,
          11.245555877685547,
          146.9235382080078,
          100.26725769042969,
          15.865189552307129,
          58.68907165527344
         ],
         "z": [
          -134.63104248046875,
          -30.285228729248047,
          100.98807525634766,
          16.489030838012695,
          3.2376503944396973,
          7.619027614593506,
          -51.77580261230469,
          -162.284423828125,
          41.97272491455078,
          33.988983154296875,
          57.438961029052734,
          -36.252899169921875,
          26.30323028564453,
          -70.82534790039062,
          -13.574660301208496,
          64.9475326538086
         ]
        },
        {
         "hovertemplate": "group=graph<br>x=%{x}<br>y=%{y}<br>z=%{z}<br>word=%{text}<extra></extra>",
         "legendgroup": "graph",
         "marker": {
          "color": "#ab63fa",
          "line": {
           "width": 2
          },
          "size": 5,
          "symbol": "circle"
         },
         "mode": "markers+text",
         "name": "graph",
         "scene": "scene",
         "showlegend": true,
         "text": [
          "polygraph",
          "subgraph",
          "undirected",
          "paragraph",
          "rooted",
          "edge",
          "directed",
          "unweighted",
          "connected",
          "isolated",
          "vertex",
          "photograph",
          "tree",
          "infected",
          "component",
          "graph"
         ],
         "textfont": {
          "size": 10
         },
         "type": "scatter3d",
         "x": [
          55.156917572021484,
          58.375816345214844,
          -63.62821578979492,
          52.38649368286133,
          -153.52928161621094,
          112.40440368652344,
          6.529151916503906,
          84.34575653076172,
          -41.26626968383789,
          -160.2095184326172,
          82.24247741699219,
          21.001882553100586,
          87.53076171875,
          81.57386016845703,
          27.793781280517578,
          108.7934799194336
         ],
         "y": [
          -49.11804962158203,
          -0.6060845851898193,
          138.2205810546875,
          -43.45371627807617,
          162.3371124267578,
          38.3349494934082,
          129.9582977294922,
          -8.175121307373047,
          113.15058898925781,
          151.0147247314453,
          63.152587890625,
          -80.27718353271484,
          -93.88761901855469,
          71.91651916503906,
          34.05607604980469,
          -16.30847930908203
         ],
         "z": [
          172.10772705078125,
          175.5087890625,
          100.25074768066406,
          131.85194396972656,
          -21.130258560180664,
          156.28082275390625,
          113.92121124267578,
          104.99879455566406,
          136.15235900878906,
          -95.98629760742188,
          182.95126342773438,
          131.05538940429688,
          171.3668975830078,
          75.86328887939453,
          128.9706268310547,
          186.16543579101562
         ]
        },
        {
         "hovertemplate": "group=dog<br>x=%{x}<br>y=%{y}<br>z=%{z}<br>word=%{text}<extra></extra>",
         "legendgroup": "dog",
         "marker": {
          "color": "#FFA15A",
          "line": {
           "width": 2
          },
          "size": 5,
          "symbol": "circle"
         },
         "mode": "markers+text",
         "name": "dog",
         "scene": "scene",
         "showlegend": true,
         "text": [
          "doggo",
          "dmitriyh",
          "mitrichev",
          "footstep",
          "dmca",
          "helllllooooo",
          "cdg",
          "monkey",
          "wjmzbmr",
          "claussell",
          "upstear",
          "yakiniku",
          "fei",
          "kkkhariton",
          "mnida",
          "dog"
         ],
         "textfont": {
          "size": 10
         },
         "type": "scatter3d",
         "x": [
          44.950435638427734,
          59.77717590332031,
          43.16258239746094,
          116.18456268310547,
          24.323162078857422,
          95.31829071044922,
          8.696049690246582,
          84.22396087646484,
          74.36222839355469,
          98.8443603515625,
          19.24940299987793,
          27.779224395751953,
          -58.37169647216797,
          87.08534240722656,
          51.303306579589844,
          49.538936614990234
         ],
         "y": [
          -12.080825805664062,
          46.21185302734375,
          81.420654296875,
          -21.33114242553711,
          23.5342960357666,
          128.67538452148438,
          28.94854736328125,
          -46.46235656738281,
          99.70887756347656,
          45.14207077026367,
          94.61689758300781,
          132.66415405273438,
          -6.272735118865967,
          56.84431457519531,
          -2.7232613563537598,
          1.5326118469238281
         ],
         "z": [
          -95.52445983886719,
          -72.1452407836914,
          -92.76445007324219,
          -141.5272979736328,
          -32.41413116455078,
          -88.48188018798828,
          -81.66078186035156,
          -90.6390380859375,
          -135.7480010986328,
          -103.49309539794922,
          -38.49797058105469,
          -104.59800720214844,
          151.9691619873047,
          -28.787887573242188,
          -48.754302978515625,
          -147.70957946777344
         ]
        }
       ],
       "layout": {
        "legend": {
         "title": {
          "text": "group"
         },
         "tracegroupgap": 0
        },
        "scene": {
         "domain": {
          "x": [
           0,
           1
          ],
          "y": [
           0,
           1
          ]
         },
         "xaxis": {
          "title": {
           "text": "x"
          }
         },
         "yaxis": {
          "title": {
           "text": "y"
          }
         },
         "zaxis": {
          "title": {
           "text": "z"
          }
         }
        },
        "template": {
         "data": {
          "bar": [
           {
            "error_x": {
             "color": "#2a3f5f"
            },
            "error_y": {
             "color": "#2a3f5f"
            },
            "marker": {
             "line": {
              "color": "#E5ECF6",
              "width": 0.5
             },
             "pattern": {
              "fillmode": "overlay",
              "size": 10,
              "solidity": 0.2
             }
            },
            "type": "bar"
           }
          ],
          "barpolar": [
           {
            "marker": {
             "line": {
              "color": "#E5ECF6",
              "width": 0.5
             },
             "pattern": {
              "fillmode": "overlay",
              "size": 10,
              "solidity": 0.2
             }
            },
            "type": "barpolar"
           }
          ],
          "carpet": [
           {
            "aaxis": {
             "endlinecolor": "#2a3f5f",
             "gridcolor": "white",
             "linecolor": "white",
             "minorgridcolor": "white",
             "startlinecolor": "#2a3f5f"
            },
            "baxis": {
             "endlinecolor": "#2a3f5f",
             "gridcolor": "white",
             "linecolor": "white",
             "minorgridcolor": "white",
             "startlinecolor": "#2a3f5f"
            },
            "type": "carpet"
           }
          ],
          "choropleth": [
           {
            "colorbar": {
             "outlinewidth": 0,
             "ticks": ""
            },
            "type": "choropleth"
           }
          ],
          "contour": [
           {
            "colorbar": {
             "outlinewidth": 0,
             "ticks": ""
            },
            "colorscale": [
             [
              0,
              "#0d0887"
             ],
             [
              0.1111111111111111,
              "#46039f"
             ],
             [
              0.2222222222222222,
              "#7201a8"
             ],
             [
              0.3333333333333333,
              "#9c179e"
             ],
             [
              0.4444444444444444,
              "#bd3786"
             ],
             [
              0.5555555555555556,
              "#d8576b"
             ],
             [
              0.6666666666666666,
              "#ed7953"
             ],
             [
              0.7777777777777778,
              "#fb9f3a"
             ],
             [
              0.8888888888888888,
              "#fdca26"
             ],
             [
              1,
              "#f0f921"
             ]
            ],
            "type": "contour"
           }
          ],
          "contourcarpet": [
           {
            "colorbar": {
             "outlinewidth": 0,
             "ticks": ""
            },
            "type": "contourcarpet"
           }
          ],
          "heatmap": [
           {
            "colorbar": {
             "outlinewidth": 0,
             "ticks": ""
            },
            "colorscale": [
             [
              0,
              "#0d0887"
             ],
             [
              0.1111111111111111,
              "#46039f"
             ],
             [
              0.2222222222222222,
              "#7201a8"
             ],
             [
              0.3333333333333333,
              "#9c179e"
             ],
             [
              0.4444444444444444,
              "#bd3786"
             ],
             [
              0.5555555555555556,
              "#d8576b"
             ],
             [
              0.6666666666666666,
              "#ed7953"
             ],
             [
              0.7777777777777778,
              "#fb9f3a"
             ],
             [
              0.8888888888888888,
              "#fdca26"
             ],
             [
              1,
              "#f0f921"
             ]
            ],
            "type": "heatmap"
           }
          ],
          "heatmapgl": [
           {
            "colorbar": {
             "outlinewidth": 0,
             "ticks": ""
            },
            "colorscale": [
             [
              0,
              "#0d0887"
             ],
             [
              0.1111111111111111,
              "#46039f"
             ],
             [
              0.2222222222222222,
              "#7201a8"
             ],
             [
              0.3333333333333333,
              "#9c179e"
             ],
             [
              0.4444444444444444,
              "#bd3786"
             ],
             [
              0.5555555555555556,
              "#d8576b"
             ],
             [
              0.6666666666666666,
              "#ed7953"
             ],
             [
              0.7777777777777778,
              "#fb9f3a"
             ],
             [
              0.8888888888888888,
              "#fdca26"
             ],
             [
              1,
              "#f0f921"
             ]
            ],
            "type": "heatmapgl"
           }
          ],
          "histogram": [
           {
            "marker": {
             "pattern": {
              "fillmode": "overlay",
              "size": 10,
              "solidity": 0.2
             }
            },
            "type": "histogram"
           }
          ],
          "histogram2d": [
           {
            "colorbar": {
             "outlinewidth": 0,
             "ticks": ""
            },
            "colorscale": [
             [
              0,
              "#0d0887"
             ],
             [
              0.1111111111111111,
              "#46039f"
             ],
             [
              0.2222222222222222,
              "#7201a8"
             ],
             [
              0.3333333333333333,
              "#9c179e"
             ],
             [
              0.4444444444444444,
              "#bd3786"
             ],
             [
              0.5555555555555556,
              "#d8576b"
             ],
             [
              0.6666666666666666,
              "#ed7953"
             ],
             [
              0.7777777777777778,
              "#fb9f3a"
             ],
             [
              0.8888888888888888,
              "#fdca26"
             ],
             [
              1,
              "#f0f921"
             ]
            ],
            "type": "histogram2d"
           }
          ],
          "histogram2dcontour": [
           {
            "colorbar": {
             "outlinewidth": 0,
             "ticks": ""
            },
            "colorscale": [
             [
              0,
              "#0d0887"
             ],
             [
              0.1111111111111111,
              "#46039f"
             ],
             [
              0.2222222222222222,
              "#7201a8"
             ],
             [
              0.3333333333333333,
              "#9c179e"
             ],
             [
              0.4444444444444444,
              "#bd3786"
             ],
             [
              0.5555555555555556,
              "#d8576b"
             ],
             [
              0.6666666666666666,
              "#ed7953"
             ],
             [
              0.7777777777777778,
              "#fb9f3a"
             ],
             [
              0.8888888888888888,
              "#fdca26"
             ],
             [
              1,
              "#f0f921"
             ]
            ],
            "type": "histogram2dcontour"
           }
          ],
          "mesh3d": [
           {
            "colorbar": {
             "outlinewidth": 0,
             "ticks": ""
            },
            "type": "mesh3d"
           }
          ],
          "parcoords": [
           {
            "line": {
             "colorbar": {
              "outlinewidth": 0,
              "ticks": ""
             }
            },
            "type": "parcoords"
           }
          ],
          "pie": [
           {
            "automargin": true,
            "type": "pie"
           }
          ],
          "scatter": [
           {
            "fillpattern": {
             "fillmode": "overlay",
             "size": 10,
             "solidity": 0.2
            },
            "type": "scatter"
           }
          ],
          "scatter3d": [
           {
            "line": {
             "colorbar": {
              "outlinewidth": 0,
              "ticks": ""
             }
            },
            "marker": {
             "colorbar": {
              "outlinewidth": 0,
              "ticks": ""
             }
            },
            "type": "scatter3d"
           }
          ],
          "scattercarpet": [
           {
            "marker": {
             "colorbar": {
              "outlinewidth": 0,
              "ticks": ""
             }
            },
            "type": "scattercarpet"
           }
          ],
          "scattergeo": [
           {
            "marker": {
             "colorbar": {
              "outlinewidth": 0,
              "ticks": ""
             }
            },
            "type": "scattergeo"
           }
          ],
          "scattergl": [
           {
            "marker": {
             "colorbar": {
              "outlinewidth": 0,
              "ticks": ""
             }
            },
            "type": "scattergl"
           }
          ],
          "scattermapbox": [
           {
            "marker": {
             "colorbar": {
              "outlinewidth": 0,
              "ticks": ""
             }
            },
            "type": "scattermapbox"
           }
          ],
          "scatterpolar": [
           {
            "marker": {
             "colorbar": {
              "outlinewidth": 0,
              "ticks": ""
             }
            },
            "type": "scatterpolar"
           }
          ],
          "scatterpolargl": [
           {
            "marker": {
             "colorbar": {
              "outlinewidth": 0,
              "ticks": ""
             }
            },
            "type": "scatterpolargl"
           }
          ],
          "scatterternary": [
           {
            "marker": {
             "colorbar": {
              "outlinewidth": 0,
              "ticks": ""
             }
            },
            "type": "scatterternary"
           }
          ],
          "surface": [
           {
            "colorbar": {
             "outlinewidth": 0,
             "ticks": ""
            },
            "colorscale": [
             [
              0,
              "#0d0887"
             ],
             [
              0.1111111111111111,
              "#46039f"
             ],
             [
              0.2222222222222222,
              "#7201a8"
             ],
             [
              0.3333333333333333,
              "#9c179e"
             ],
             [
              0.4444444444444444,
              "#bd3786"
             ],
             [
              0.5555555555555556,
              "#d8576b"
             ],
             [
              0.6666666666666666,
              "#ed7953"
             ],
             [
              0.7777777777777778,
              "#fb9f3a"
             ],
             [
              0.8888888888888888,
              "#fdca26"
             ],
             [
              1,
              "#f0f921"
             ]
            ],
            "type": "surface"
           }
          ],
          "table": [
           {
            "cells": {
             "fill": {
              "color": "#EBF0F8"
             },
             "line": {
              "color": "white"
             }
            },
            "header": {
             "fill": {
              "color": "#C8D4E3"
             },
             "line": {
              "color": "white"
             }
            },
            "type": "table"
           }
          ]
         },
         "layout": {
          "annotationdefaults": {
           "arrowcolor": "#2a3f5f",
           "arrowhead": 0,
           "arrowwidth": 1
          },
          "autotypenumbers": "strict",
          "coloraxis": {
           "colorbar": {
            "outlinewidth": 0,
            "ticks": ""
           }
          },
          "colorscale": {
           "diverging": [
            [
             0,
             "#8e0152"
            ],
            [
             0.1,
             "#c51b7d"
            ],
            [
             0.2,
             "#de77ae"
            ],
            [
             0.3,
             "#f1b6da"
            ],
            [
             0.4,
             "#fde0ef"
            ],
            [
             0.5,
             "#f7f7f7"
            ],
            [
             0.6,
             "#e6f5d0"
            ],
            [
             0.7,
             "#b8e186"
            ],
            [
             0.8,
             "#7fbc41"
            ],
            [
             0.9,
             "#4d9221"
            ],
            [
             1,
             "#276419"
            ]
           ],
           "sequential": [
            [
             0,
             "#0d0887"
            ],
            [
             0.1111111111111111,
             "#46039f"
            ],
            [
             0.2222222222222222,
             "#7201a8"
            ],
            [
             0.3333333333333333,
             "#9c179e"
            ],
            [
             0.4444444444444444,
             "#bd3786"
            ],
            [
             0.5555555555555556,
             "#d8576b"
            ],
            [
             0.6666666666666666,
             "#ed7953"
            ],
            [
             0.7777777777777778,
             "#fb9f3a"
            ],
            [
             0.8888888888888888,
             "#fdca26"
            ],
            [
             1,
             "#f0f921"
            ]
           ],
           "sequentialminus": [
            [
             0,
             "#0d0887"
            ],
            [
             0.1111111111111111,
             "#46039f"
            ],
            [
             0.2222222222222222,
             "#7201a8"
            ],
            [
             0.3333333333333333,
             "#9c179e"
            ],
            [
             0.4444444444444444,
             "#bd3786"
            ],
            [
             0.5555555555555556,
             "#d8576b"
            ],
            [
             0.6666666666666666,
             "#ed7953"
            ],
            [
             0.7777777777777778,
             "#fb9f3a"
            ],
            [
             0.8888888888888888,
             "#fdca26"
            ],
            [
             1,
             "#f0f921"
            ]
           ]
          },
          "colorway": [
           "#636efa",
           "#EF553B",
           "#00cc96",
           "#ab63fa",
           "#FFA15A",
           "#19d3f3",
           "#FF6692",
           "#B6E880",
           "#FF97FF",
           "#FECB52"
          ],
          "font": {
           "color": "#2a3f5f"
          },
          "geo": {
           "bgcolor": "white",
           "lakecolor": "white",
           "landcolor": "#E5ECF6",
           "showlakes": true,
           "showland": true,
           "subunitcolor": "white"
          },
          "hoverlabel": {
           "align": "left"
          },
          "hovermode": "closest",
          "mapbox": {
           "style": "light"
          },
          "paper_bgcolor": "white",
          "plot_bgcolor": "#E5ECF6",
          "polar": {
           "angularaxis": {
            "gridcolor": "white",
            "linecolor": "white",
            "ticks": ""
           },
           "bgcolor": "#E5ECF6",
           "radialaxis": {
            "gridcolor": "white",
            "linecolor": "white",
            "ticks": ""
           }
          },
          "scene": {
           "xaxis": {
            "backgroundcolor": "#E5ECF6",
            "gridcolor": "white",
            "gridwidth": 2,
            "linecolor": "white",
            "showbackground": true,
            "ticks": "",
            "zerolinecolor": "white"
           },
           "yaxis": {
            "backgroundcolor": "#E5ECF6",
            "gridcolor": "white",
            "gridwidth": 2,
            "linecolor": "white",
            "showbackground": true,
            "ticks": "",
            "zerolinecolor": "white"
           },
           "zaxis": {
            "backgroundcolor": "#E5ECF6",
            "gridcolor": "white",
            "gridwidth": 2,
            "linecolor": "white",
            "showbackground": true,
            "ticks": "",
            "zerolinecolor": "white"
           }
          },
          "shapedefaults": {
           "line": {
            "color": "#2a3f5f"
           }
          },
          "ternary": {
           "aaxis": {
            "gridcolor": "white",
            "linecolor": "white",
            "ticks": ""
           },
           "baxis": {
            "gridcolor": "white",
            "linecolor": "white",
            "ticks": ""
           },
           "bgcolor": "#E5ECF6",
           "caxis": {
            "gridcolor": "white",
            "linecolor": "white",
            "ticks": ""
           }
          },
          "title": {
           "x": 0.05
          },
          "xaxis": {
           "automargin": true,
           "gridcolor": "white",
           "linecolor": "white",
           "ticks": "",
           "title": {
            "standoff": 15
           },
           "zerolinecolor": "white",
           "zerolinewidth": 2
          },
          "yaxis": {
           "automargin": true,
           "gridcolor": "white",
           "linecolor": "white",
           "ticks": "",
           "title": {
            "standoff": 15
           },
           "zerolinecolor": "white",
           "zerolinewidth": 2
          }
         }
        },
        "title": {
         "text": "3D t-SNE Word Embedding Visualization (Grouped)"
        }
       }
      }
     },
     "metadata": {},
     "output_type": "display_data"
    }
   ],
   "source": [
    "# Plotting \n",
    "centers=[\"sort\", \"search\", \"delete\", \"graph\", \"dog\"]\n",
    "plot_word_embedding_grouped(ft_model, centers)"
   ]
  },
  {
   "cell_type": "markdown",
   "id": "437058b1",
   "metadata": {},
   "source": [
    "Even in this case, similar to what we observed with Word2Vec, the results show a reasonable separation of word clusters based on the given centers.  \n",
    "\n",
    "However, a few unexpected or seemingly unrelated words still appear within the same group. It's interesting notice that most of these outliers are found in the cluster associated with the center word \"dog\", which was not present in the training vocabulary.  \n",
    "This highlights one of the key strengths of FastText: its ability to generate embeddings for out-of-vocabulary (OOV) words by leveraging subword information.  \n",
    "As a result, FastText proves more robust and suitable for handling unseen or rare terms."
   ]
  },
  {
   "cell_type": "markdown",
   "id": "f4b92aef",
   "metadata": {},
   "source": [
    "### Description Embedding"
   ]
  },
  {
   "cell_type": "markdown",
   "id": "7688426a",
   "metadata": {},
   "source": [
    "The main goal of this section is to effectively convert a description into a vector representation using FastText.\n",
    "To achieve this, we calculate the mean or the sum of the embeddings of each token in the description, which results in the final description embedding."
   ]
  },
  {
   "cell_type": "code",
   "execution_count": null,
   "id": "82009997",
   "metadata": {},
   "outputs": [],
   "source": [
    "#Convert a description to a vector using FastText.\n",
    "def description_to_vector(description, model, useSum=True):\n",
    "    # Separating sentences\n",
    "    description= re.sub(r'\\n', ' ', description)\n",
    "    description_sentences = re.split(r'[.!?]\\s', description)\n",
    "\n",
    "    # Tokenize and process each sentence\n",
    "    description_tokens_vectorized = [] # Will contain the vectors of the tokens\n",
    "    for sent in description_sentences:\n",
    "        if len(sent) > 0:\n",
    "            sentence_tokens = custom_tokenize(sent) # Tokenize the sentence\n",
    "            for token in sentence_tokens:\n",
    "                if token in model.wv.key_to_index:\n",
    "                    description_tokens_vectorized.append(model.wv[token])\n",
    "                else:# If the token is not in the vocabulary, use the FastText model to get its vector\n",
    "                    # This is useful for out-of-vocabulary words\n",
    "                    description_tokens_vectorized.append(model.wv.get_vector(token))\n",
    "    \n",
    "    if len(description_tokens_vectorized) > 0:\n",
    "        # If useSum is True, sum the vectors of the tokens\n",
    "        # Otherwise, return the mean vector\n",
    "        if useSum:\n",
    "            return np.sum(description_tokens_vectorized, axis=0)\n",
    "        else:\n",
    "            return np.mean(description_tokens_vectorized, axis=0)\n",
    "    else:\n",
    "        return np.zeros(model.vector_size)\n",
    "\n",
    "    "
   ]
  },
  {
   "cell_type": "markdown",
   "id": "002497d3",
   "metadata": {},
   "source": [
    "We create a new column in the Dataset containing the problems assigning for each one the corresponding description-vector.   \n",
    "We use the previous function description_to_vector with useSum=True (we are summing the embedding of each token)"
   ]
  },
  {
   "cell_type": "code",
   "execution_count": null,
   "id": "558acfa2",
   "metadata": {},
   "outputs": [],
   "source": [
    "# Make sure the column 'description_vector' exists\n",
    "df_problem_and_human_solutions_list_we['description_vector'] = None\n",
    "\n",
    "\n",
    "# Populate the column with the vectors\n",
    "for i, row in df_problem_and_human_solutions_list_we.iterrows():\n",
    "    description = row['description']\n",
    "    if isinstance(description, str):\n",
    "        # use the sum of the vectors as description vector\n",
    "        vector = description_to_vector(description, ft_model, useSum=True)\n",
    "    else:\n",
    "        vector = np.zeros(ft_model.get_dimension())\n",
    "\n",
    "    # Assign the vector to the corresponding cell in the dataframe\n",
    "    df_problem_and_human_solutions_list_we.at[i, 'description_vector'] = vector"
   ]
  },
  {
   "cell_type": "markdown",
   "id": "5daad57d",
   "metadata": {},
   "source": [
    "Just to check the shape of the vectors"
   ]
  },
  {
   "cell_type": "code",
   "execution_count": null,
   "id": "3c30b9da",
   "metadata": {},
   "outputs": [],
   "source": [
    "df_problem_and_human_solutions_list_we[\"description_vector\"]"
   ]
  },
  {
   "cell_type": "markdown",
   "id": "64541add",
   "metadata": {},
   "source": [
    "Extracting tags from codeforces_specific_metadata and adding them to a specific column 'cf_tags' of the dataframe."
   ]
  },
  {
   "cell_type": "code",
   "execution_count": null,
   "id": "b161ff41",
   "metadata": {},
   "outputs": [],
   "source": [
    "df_problem_and_human_solutions_list_we['cf_tags'] = df_problem_and_human_solutions_list_we['codeforces_specific_metadata'].apply(lambda x: x.get('cf_tags') if isinstance(x, dict) else None)"
   ]
  },
  {
   "cell_type": "markdown",
   "id": "a2eafda9",
   "metadata": {},
   "source": [
    "This step is designed for memory efficiency and reproducibility.\n",
    "Since computing description vectors is resource-intensive and can lead to out-of-memory (OOM) errors on large datasets, we store the precomputed vectors along with the associated tags in a reduced DataFrame.  \n",
    "We then serialize it using Pickle, allowing for fast reloading in future sessions without the need to reprocess the text."
   ]
  },
  {
   "cell_type": "code",
   "execution_count": null,
   "id": "6685f97b",
   "metadata": {},
   "outputs": [],
   "source": [
    "# Save the description vectors and tags to a pickle file\n",
    "df_reduced = df_problem_and_human_solutions_list_we[[\"description_vector\", \"cf_tags\"]].copy()\n",
    "df_reduced.to_pickle(\"description_vectors_and_tags.pkl\")"
   ]
  },
  {
   "cell_type": "code",
   "execution_count": null,
   "id": "e7121765",
   "metadata": {},
   "outputs": [],
   "source": [
    "# Load the reduced DataFrame from a pickle file (if already saved)\n",
    "# This avoids recalculating vectors every time the notebook runs\n",
    "import pandas as pd\n",
    "df_reduced = pd.read_pickle(\"description_vectors_and_tags.pkl\")"
   ]
  },
  {
   "cell_type": "markdown",
   "id": "19012952",
   "metadata": {},
   "source": [
    "We can see some of the tags only to have an idea."
   ]
  },
  {
   "cell_type": "code",
   "execution_count": 24,
   "id": "c8f2e74d",
   "metadata": {},
   "outputs": [
    {
     "data": {
      "text/plain": [
       "0       [constructive algorithms, dfs and similar, dp,...\n",
       "1       [data structures, dp, implementation, shortest...\n",
       "2               [constructive algorithms, implementation]\n",
       "3                                                [greedy]\n",
       "4       [constructive algorithms, data structures, dp,...\n",
       "                              ...                        \n",
       "3100                                                   []\n",
       "3101                                                   []\n",
       "3102                                                   []\n",
       "3103                                                   []\n",
       "3104                                                   []\n",
       "Name: cf_tags, Length: 3105, dtype: object"
      ]
     },
     "execution_count": 24,
     "metadata": {},
     "output_type": "execute_result"
    }
   ],
   "source": [
    "df_reduced['cf_tags']"
   ]
  },
  {
   "cell_type": "markdown",
   "id": "15c57830",
   "metadata": {},
   "source": [
    "Reintegrate the saved vectors and tags into the main DataFrame"
   ]
  },
  {
   "cell_type": "code",
   "execution_count": null,
   "id": "c1a2fdee",
   "metadata": {},
   "outputs": [
    {
     "data": {
      "text/html": [
       "<div>\n",
       "<style scoped>\n",
       "    .dataframe tbody tr th:only-of-type {\n",
       "        vertical-align: middle;\n",
       "    }\n",
       "\n",
       "    .dataframe tbody tr th {\n",
       "        vertical-align: top;\n",
       "    }\n",
       "\n",
       "    .dataframe thead th {\n",
       "        text-align: right;\n",
       "    }\n",
       "</style>\n",
       "<table border=\"1\" class=\"dataframe\">\n",
       "  <thead>\n",
       "    <tr style=\"text-align: right;\">\n",
       "      <th></th>\n",
       "      <th>problem_id</th>\n",
       "      <th>problem_name</th>\n",
       "      <th>description</th>\n",
       "      <th>correct_solution_list</th>\n",
       "      <th>data_source</th>\n",
       "      <th>source_specific_limits</th>\n",
       "      <th>codeforces_specific_metadata</th>\n",
       "      <th>tests</th>\n",
       "      <th>human_accuracy_rate</th>\n",
       "      <th>dataclass</th>\n",
       "      <th>complexity_framework</th>\n",
       "      <th>description_vector</th>\n",
       "      <th>cf_tags</th>\n",
       "    </tr>\n",
       "  </thead>\n",
       "  <tbody>\n",
       "    <tr>\n",
       "      <th>0</th>\n",
       "      <td>0</td>\n",
       "      <td>339_C. Xenia and Weights</td>\n",
       "      <td>Xenia has a set of weights and pan scales. Eac...</td>\n",
       "      <td>[{'solution_id': '0_0', 'solution_code': '__au...</td>\n",
       "      <td>CODEFORCES</td>\n",
       "      <td>{'time_limit': {'seconds': 2, 'nanos': 0}, 'me...</td>\n",
       "      <td>{'cf_contest_id': 339, 'cf_index': 'C', 'cf_po...</td>\n",
       "      <td>{'public_tests': [{'input': '0000000101\n",
       "3\n",
       "', '...</td>\n",
       "      <td>0.281633</td>\n",
       "      <td>{'dataclass_code': 'import sys\n",
       "import time\n",
       "imp...</td>\n",
       "      <td>{'time_complexity_fail_rate': 0.40579710144927...</td>\n",
       "      <td>[40.88922, 68.51662, 6.8400073, -3.7496269, 10...</td>\n",
       "      <td>[constructive algorithms, dfs and similar, dp,...</td>\n",
       "    </tr>\n",
       "    <tr>\n",
       "      <th>1</th>\n",
       "      <td>1</td>\n",
       "      <td>1547_E. Air Conditioners</td>\n",
       "      <td>On a strip of land of length n there are k air...</td>\n",
       "      <td>[{'solution_id': '1_0', 'solution_code': 'def ...</td>\n",
       "      <td>CODEFORCES</td>\n",
       "      <td>{'time_limit': {'seconds': 2, 'nanos': 0}, 'me...</td>\n",
       "      <td>{'cf_contest_id': 1547, 'cf_index': 'E', 'cf_p...</td>\n",
       "      <td>{'public_tests': [{'input': '5\n",
       "\n",
       "6 2\n",
       "2 5\n",
       "14 16\n",
       "...</td>\n",
       "      <td>0.620833</td>\n",
       "      <td>{'dataclass_code': 'import sys\n",
       "import time\n",
       "imp...</td>\n",
       "      <td>{'time_complexity_fail_rate': 0.11409395973154...</td>\n",
       "      <td>[-10.14601, 193.53925, 24.337927, 79.53583, 23...</td>\n",
       "      <td>[data structures, dp, implementation, shortest...</td>\n",
       "    </tr>\n",
       "    <tr>\n",
       "      <th>2</th>\n",
       "      <td>2</td>\n",
       "      <td>268_C. Beautiful Sets of Points</td>\n",
       "      <td>Manao has invented a new mathematical term — a...</td>\n",
       "      <td>[{'solution_id': '2_0', 'solution_code': 'if _...</td>\n",
       "      <td>CODEFORCES</td>\n",
       "      <td>{'time_limit': {'seconds': 1, 'nanos': 0}, 'me...</td>\n",
       "      <td>{'cf_contest_id': 268, 'cf_index': 'C', 'cf_po...</td>\n",
       "      <td>{'public_tests': [{'input': '2 2\n",
       "', 'output': ...</td>\n",
       "      <td>0.525066</td>\n",
       "      <td>{'dataclass_code': 'import sys\n",
       "import time\n",
       "imp...</td>\n",
       "      <td>{'time_complexity_fail_rate': 0.05527638190954...</td>\n",
       "      <td>[-6.0463147, 75.508385, 18.788363, 13.632879, ...</td>\n",
       "      <td>[constructive algorithms, implementation]</td>\n",
       "    </tr>\n",
       "    <tr>\n",
       "      <th>3</th>\n",
       "      <td>3</td>\n",
       "      <td>478_C. Table Decorations</td>\n",
       "      <td>You have r red, g green and b blue balloons. T...</td>\n",
       "      <td>[{'solution_id': '3_0', 'solution_code': 'a = ...</td>\n",
       "      <td>CODEFORCES</td>\n",
       "      <td>{'time_limit': {'seconds': 1, 'nanos': 0}, 'me...</td>\n",
       "      <td>{'cf_contest_id': 478, 'cf_index': 'C', 'cf_po...</td>\n",
       "      <td>{'public_tests': [{'input': '1 1 1\n",
       "', 'output'...</td>\n",
       "      <td>0.562264</td>\n",
       "      <td>{'dataclass_code': 'import sys\n",
       "import time\n",
       "imp...</td>\n",
       "      <td>{'time_complexity_fail_rate': 0.41610738255033...</td>\n",
       "      <td>[5.330355, 36.27579, 7.763661, 2.4407022, 53.7...</td>\n",
       "      <td>[greedy]</td>\n",
       "    </tr>\n",
       "    <tr>\n",
       "      <th>4</th>\n",
       "      <td>4</td>\n",
       "      <td>5_C. Longest Regular Bracket Sequence</td>\n",
       "      <td>This is yet another problem dealing with regul...</td>\n",
       "      <td>[{'solution_id': '4_0', 'solution_code': 'stri...</td>\n",
       "      <td>CODEFORCES</td>\n",
       "      <td>{'time_limit': {'seconds': 2, 'nanos': 0}, 'me...</td>\n",
       "      <td>{'cf_contest_id': 5, 'cf_index': 'C', 'cf_poin...</td>\n",
       "      <td>{'public_tests': [{'input': ')((())))(()())\n",
       "',...</td>\n",
       "      <td>0.395939</td>\n",
       "      <td>{'dataclass_code': 'import sys\n",
       "import time\n",
       "imp...</td>\n",
       "      <td>{'time_complexity_fail_rate': 0.03846153846153...</td>\n",
       "      <td>[-20.027811, 24.79554, 7.7614923, 13.442029, 3...</td>\n",
       "      <td>[constructive algorithms, data structures, dp,...</td>\n",
       "    </tr>\n",
       "  </tbody>\n",
       "</table>\n",
       "</div>"
      ],
      "text/plain": [
       "  problem_id                           problem_name  \\\n",
       "0          0               339_C. Xenia and Weights   \n",
       "1          1               1547_E. Air Conditioners   \n",
       "2          2        268_C. Beautiful Sets of Points   \n",
       "3          3               478_C. Table Decorations   \n",
       "4          4  5_C. Longest Regular Bracket Sequence   \n",
       "\n",
       "                                         description  \\\n",
       "0  Xenia has a set of weights and pan scales. Eac...   \n",
       "1  On a strip of land of length n there are k air...   \n",
       "2  Manao has invented a new mathematical term — a...   \n",
       "3  You have r red, g green and b blue balloons. T...   \n",
       "4  This is yet another problem dealing with regul...   \n",
       "\n",
       "                               correct_solution_list data_source  \\\n",
       "0  [{'solution_id': '0_0', 'solution_code': '__au...  CODEFORCES   \n",
       "1  [{'solution_id': '1_0', 'solution_code': 'def ...  CODEFORCES   \n",
       "2  [{'solution_id': '2_0', 'solution_code': 'if _...  CODEFORCES   \n",
       "3  [{'solution_id': '3_0', 'solution_code': 'a = ...  CODEFORCES   \n",
       "4  [{'solution_id': '4_0', 'solution_code': 'stri...  CODEFORCES   \n",
       "\n",
       "                              source_specific_limits  \\\n",
       "0  {'time_limit': {'seconds': 2, 'nanos': 0}, 'me...   \n",
       "1  {'time_limit': {'seconds': 2, 'nanos': 0}, 'me...   \n",
       "2  {'time_limit': {'seconds': 1, 'nanos': 0}, 'me...   \n",
       "3  {'time_limit': {'seconds': 1, 'nanos': 0}, 'me...   \n",
       "4  {'time_limit': {'seconds': 2, 'nanos': 0}, 'me...   \n",
       "\n",
       "                        codeforces_specific_metadata  \\\n",
       "0  {'cf_contest_id': 339, 'cf_index': 'C', 'cf_po...   \n",
       "1  {'cf_contest_id': 1547, 'cf_index': 'E', 'cf_p...   \n",
       "2  {'cf_contest_id': 268, 'cf_index': 'C', 'cf_po...   \n",
       "3  {'cf_contest_id': 478, 'cf_index': 'C', 'cf_po...   \n",
       "4  {'cf_contest_id': 5, 'cf_index': 'C', 'cf_poin...   \n",
       "\n",
       "                                               tests  human_accuracy_rate  \\\n",
       "0  {'public_tests': [{'input': '0000000101\n",
       "3\n",
       "', '...             0.281633   \n",
       "1  {'public_tests': [{'input': '5\n",
       "\n",
       "6 2\n",
       "2 5\n",
       "14 16\n",
       "...             0.620833   \n",
       "2  {'public_tests': [{'input': '2 2\n",
       "', 'output': ...             0.525066   \n",
       "3  {'public_tests': [{'input': '1 1 1\n",
       "', 'output'...             0.562264   \n",
       "4  {'public_tests': [{'input': ')((())))(()())\n",
       "',...             0.395939   \n",
       "\n",
       "                                           dataclass  \\\n",
       "0  {'dataclass_code': 'import sys\n",
       "import time\n",
       "imp...   \n",
       "1  {'dataclass_code': 'import sys\n",
       "import time\n",
       "imp...   \n",
       "2  {'dataclass_code': 'import sys\n",
       "import time\n",
       "imp...   \n",
       "3  {'dataclass_code': 'import sys\n",
       "import time\n",
       "imp...   \n",
       "4  {'dataclass_code': 'import sys\n",
       "import time\n",
       "imp...   \n",
       "\n",
       "                                complexity_framework  \\\n",
       "0  {'time_complexity_fail_rate': 0.40579710144927...   \n",
       "1  {'time_complexity_fail_rate': 0.11409395973154...   \n",
       "2  {'time_complexity_fail_rate': 0.05527638190954...   \n",
       "3  {'time_complexity_fail_rate': 0.41610738255033...   \n",
       "4  {'time_complexity_fail_rate': 0.03846153846153...   \n",
       "\n",
       "                                  description_vector  \\\n",
       "0  [40.88922, 68.51662, 6.8400073, -3.7496269, 10...   \n",
       "1  [-10.14601, 193.53925, 24.337927, 79.53583, 23...   \n",
       "2  [-6.0463147, 75.508385, 18.788363, 13.632879, ...   \n",
       "3  [5.330355, 36.27579, 7.763661, 2.4407022, 53.7...   \n",
       "4  [-20.027811, 24.79554, 7.7614923, 13.442029, 3...   \n",
       "\n",
       "                                             cf_tags  \n",
       "0  [constructive algorithms, dfs and similar, dp,...  \n",
       "1  [data structures, dp, implementation, shortest...  \n",
       "2          [constructive algorithms, implementation]  \n",
       "3                                           [greedy]  \n",
       "4  [constructive algorithms, data structures, dp,...  "
      ]
     },
     "execution_count": 26,
     "metadata": {},
     "output_type": "execute_result"
    }
   ],
   "source": [
    "#Insert the tags and the description vector in the dataframe\n",
    "df_problem_and_human_solutions_list_we[\"cf_tags\"]= df_reduced['cf_tags']\n",
    "df_problem_and_human_solutions_list_we[\"description_vector\"]= df_reduced['description_vector']\n",
    "# Quick inspection of the updated DataFrame to confirm integration\n",
    "df_problem_and_human_solutions_list_we.head()"
   ]
  },
  {
   "cell_type": "markdown",
   "id": "e87d4e46",
   "metadata": {},
   "source": [
    "In order to explore a potential correlation between the description embeddings and the cf_tags, this procedure randomly selects a portion of the Dataframe with specific values of cf_tags (selected_tags).    \n",
    "\n",
    "We know that each problem can have multiple tags, sometimes even correlated one with each other.  \n",
    "For this reason, we isolate problems that belong only to one of the given tags (e.g., \"greedy\" but not \"brute force\" or \"binary search\"), in this way we try to reduce confounding effects due to overlapping concepts and allow for clearer, tag-specific embedding analysis."
   ]
  },
  {
   "cell_type": "code",
   "execution_count": null,
   "id": "e552b068",
   "metadata": {},
   "outputs": [
    {
     "data": {
      "text/html": [
       "<div>\n",
       "<style scoped>\n",
       "    .dataframe tbody tr th:only-of-type {\n",
       "        vertical-align: middle;\n",
       "    }\n",
       "\n",
       "    .dataframe tbody tr th {\n",
       "        vertical-align: top;\n",
       "    }\n",
       "\n",
       "    .dataframe thead th {\n",
       "        text-align: right;\n",
       "    }\n",
       "</style>\n",
       "<table border=\"1\" class=\"dataframe\">\n",
       "  <thead>\n",
       "    <tr style=\"text-align: right;\">\n",
       "      <th></th>\n",
       "      <th>problem_id</th>\n",
       "      <th>problem_name</th>\n",
       "      <th>description</th>\n",
       "      <th>correct_solution_list</th>\n",
       "      <th>data_source</th>\n",
       "      <th>source_specific_limits</th>\n",
       "      <th>codeforces_specific_metadata</th>\n",
       "      <th>tests</th>\n",
       "      <th>human_accuracy_rate</th>\n",
       "      <th>dataclass</th>\n",
       "      <th>complexity_framework</th>\n",
       "      <th>description_vector</th>\n",
       "      <th>cf_tags</th>\n",
       "      <th>selected_tag</th>\n",
       "    </tr>\n",
       "  </thead>\n",
       "  <tbody>\n",
       "    <tr>\n",
       "      <th>0</th>\n",
       "      <td>1356</td>\n",
       "      <td>1167_D. Bicolored RBS</td>\n",
       "      <td>A string is called bracket sequence if it does...</td>\n",
       "      <td>[{'solution_id': '1356_0', 'solution_code': '#...</td>\n",
       "      <td>CODEFORCES</td>\n",
       "      <td>{'time_limit': {'seconds': 2, 'nanos': 0}, 'me...</td>\n",
       "      <td>{'cf_contest_id': 1167, 'cf_index': 'D', 'cf_p...</td>\n",
       "      <td>{'public_tests': [{'input': '2\n",
       "()\n",
       "', 'output':...</td>\n",
       "      <td>0.690355</td>\n",
       "      <td>{'dataclass_code': 'import sys\n",
       "import time\n",
       "imp...</td>\n",
       "      <td>{'time_complexity_fail_rate': 1.0, 'space_comp...</td>\n",
       "      <td>[-4.0829473, 89.61917, 10.330913, 26.139729, 1...</td>\n",
       "      <td>[constructive algorithms, greedy]</td>\n",
       "      <td>greedy</td>\n",
       "    </tr>\n",
       "    <tr>\n",
       "      <th>1</th>\n",
       "      <td>2822</td>\n",
       "      <td>276_D. Little Girl and Maximum XOR</td>\n",
       "      <td>A little girl loves problems on bitwise operat...</td>\n",
       "      <td>[{'solution_id': '2822_0', 'solution_code': 'd...</td>\n",
       "      <td>CODEFORCES</td>\n",
       "      <td>{'time_limit': {'seconds': 1, 'nanos': 0}, 'me...</td>\n",
       "      <td>{'cf_contest_id': 276, 'cf_index': 'D', 'cf_po...</td>\n",
       "      <td>{'public_tests': [{'input': '8 16\n",
       "', 'output':...</td>\n",
       "      <td>0.581081</td>\n",
       "      <td>{'dataclass_code': 'import sys\n",
       "import time\n",
       "imp...</td>\n",
       "      <td>{'time_complexity_fail_rate': 0.84883720930232...</td>\n",
       "      <td>[-2.0882452, 34.08194, 10.20857, 11.062459, 64...</td>\n",
       "      <td>[bitmasks, dp, greedy, implementation, math]</td>\n",
       "      <td>greedy</td>\n",
       "    </tr>\n",
       "    <tr>\n",
       "      <th>2</th>\n",
       "      <td>2989</td>\n",
       "      <td>1515_A. Phoenix and Gold</td>\n",
       "      <td>Phoenix has collected n pieces of gold, and he...</td>\n",
       "      <td>[{'solution_id': '2989_0', 'solution_code': 'i...</td>\n",
       "      <td>CODEFORCES</td>\n",
       "      <td>{'time_limit': {'seconds': 2, 'nanos': 0}, 'me...</td>\n",
       "      <td>{'cf_contest_id': 1515, 'cf_index': 'A', 'cf_p...</td>\n",
       "      <td>{'public_tests': [{'input': '3\n",
       "3 2\n",
       "3 2 1\n",
       "5 3\n",
       "1...</td>\n",
       "      <td>0.500000</td>\n",
       "      <td>{'dataclass_code': 'import sys\n",
       "import time\n",
       "imp...</td>\n",
       "      <td>{'time_complexity_fail_rate': 1.0, 'space_comp...</td>\n",
       "      <td>[38.512028, 87.194534, 15.281353, 18.964302, 1...</td>\n",
       "      <td>[constructive algorithms, greedy, math]</td>\n",
       "      <td>greedy</td>\n",
       "    </tr>\n",
       "    <tr>\n",
       "      <th>3</th>\n",
       "      <td>2545</td>\n",
       "      <td>1416_C. XOR Inverse</td>\n",
       "      <td>You are given an array a consisting of n non-n...</td>\n",
       "      <td>[{'solution_id': '2545_0', 'solution_code': 'n...</td>\n",
       "      <td>CODEFORCES</td>\n",
       "      <td>{'time_limit': {'seconds': 2, 'nanos': 0}, 'me...</td>\n",
       "      <td>{'cf_contest_id': 1416, 'cf_index': 'C', 'cf_p...</td>\n",
       "      <td>{'public_tests': [{'input': '3\n",
       "8 10 3\n",
       "', 'outp...</td>\n",
       "      <td>0.688312</td>\n",
       "      <td>{'dataclass_code': 'import sys\n",
       "import time\n",
       "imp...</td>\n",
       "      <td>{'time_complexity_fail_rate': 0.13207547169811...</td>\n",
       "      <td>[-1.4355078, 80.56184, 1.9877968, 30.703989, 9...</td>\n",
       "      <td>[bitmasks, data structures, divide and conquer...</td>\n",
       "      <td>greedy</td>\n",
       "    </tr>\n",
       "    <tr>\n",
       "      <th>4</th>\n",
       "      <td>1960</td>\n",
       "      <td>1311_A. Add Odd or Subtract Even</td>\n",
       "      <td>You are given two positive integers a and b.\\n...</td>\n",
       "      <td>[{'solution_id': '1960_0', 'solution_code': 'f...</td>\n",
       "      <td>CODEFORCES</td>\n",
       "      <td>{'time_limit': {'seconds': 2, 'nanos': 0}, 'me...</td>\n",
       "      <td>{'cf_contest_id': 1311, 'cf_index': 'A', 'cf_p...</td>\n",
       "      <td>{'public_tests': [{'input': '5\n",
       "2 3\n",
       "10 10\n",
       "2 4\n",
       "7...</td>\n",
       "      <td>0.644186</td>\n",
       "      <td>{'dataclass_code': 'import sys\n",
       "import time\n",
       "imp...</td>\n",
       "      <td>{'time_complexity_fail_rate': 0.01805054151624...</td>\n",
       "      <td>[14.694276, 63.40165, 9.389306, 5.422409, 75.3...</td>\n",
       "      <td>[greedy, implementation, math]</td>\n",
       "      <td>greedy</td>\n",
       "    </tr>\n",
       "    <tr>\n",
       "      <th>5</th>\n",
       "      <td>2454</td>\n",
       "      <td>955_A. Feed the cat</td>\n",
       "      <td>After waking up at hh:mm, Andrew realised that...</td>\n",
       "      <td>[{'solution_id': '2454_0', 'solution_code': 'h...</td>\n",
       "      <td>CODEFORCES</td>\n",
       "      <td>{'time_limit': {'seconds': 1, 'nanos': 0}, 'me...</td>\n",
       "      <td>{'cf_contest_id': 955, 'cf_index': 'A', 'cf_po...</td>\n",
       "      <td>{'public_tests': [{'input': '19 00\n",
       "255 1 100 1...</td>\n",
       "      <td>0.584577</td>\n",
       "      <td>{'dataclass_code': 'import sys\n",
       "import time\n",
       "imp...</td>\n",
       "      <td>{'time_complexity_fail_rate': 0.05106382978723...</td>\n",
       "      <td>[18.31242, 77.77756, 19.792704, 7.910349, 103....</td>\n",
       "      <td>[greedy, math]</td>\n",
       "      <td>greedy</td>\n",
       "    </tr>\n",
       "    <tr>\n",
       "      <th>6</th>\n",
       "      <td>2242</td>\n",
       "      <td>758_D. Ability To Convert</td>\n",
       "      <td>Alexander is learning how to convert numbers f...</td>\n",
       "      <td>[{'solution_id': '2242_0', 'solution_code': 'n...</td>\n",
       "      <td>CODEFORCES</td>\n",
       "      <td>{'time_limit': {'seconds': 1, 'nanos': 0}, 'me...</td>\n",
       "      <td>{'cf_contest_id': 758, 'cf_index': 'D', 'cf_po...</td>\n",
       "      <td>{'public_tests': [{'input': '16\n",
       "11311\n",
       "', 'outp...</td>\n",
       "      <td>0.448276</td>\n",
       "      <td>{'dataclass_code': 'import sys\n",
       "import time\n",
       "imp...</td>\n",
       "      <td>{'time_complexity_fail_rate': 0.11538461538461...</td>\n",
       "      <td>[-13.140537, 56.548748, 9.355681, 21.291874, 5...</td>\n",
       "      <td>[constructive algorithms, dp, greedy, math, st...</td>\n",
       "      <td>greedy</td>\n",
       "    </tr>\n",
       "    <tr>\n",
       "      <th>7</th>\n",
       "      <td>476</td>\n",
       "      <td>1442_B. Identify the Operations</td>\n",
       "      <td>We start with a permutation a_1, a_2, …, a_n a...</td>\n",
       "      <td>[{'solution_id': '476_0', 'solution_code': 'mx...</td>\n",
       "      <td>CODEFORCES</td>\n",
       "      <td>{'time_limit': {'seconds': 2, 'nanos': 0}, 'me...</td>\n",
       "      <td>{'cf_contest_id': 1442, 'cf_index': 'B', 'cf_p...</td>\n",
       "      <td>{'public_tests': [{'input': '3\n",
       "5 3\n",
       "1 2 3 4 5\n",
       "3...</td>\n",
       "      <td>0.739583</td>\n",
       "      <td>{'dataclass_code': 'import sys\n",
       "import time\n",
       "imp...</td>\n",
       "      <td>{'time_complexity_fail_rate': 1.0, 'space_comp...</td>\n",
       "      <td>[4.7408442, 260.1755, 1.2329619, 80.88562, 258...</td>\n",
       "      <td>[combinatorics, data structures, dsu, greedy, ...</td>\n",
       "      <td>greedy</td>\n",
       "    </tr>\n",
       "    <tr>\n",
       "      <th>8</th>\n",
       "      <td>2280</td>\n",
       "      <td>1286_B. Numbers on Tree</td>\n",
       "      <td>Evlampiy was gifted a rooted tree. The vertice...</td>\n",
       "      <td>[{'solution_id': '2280_0', 'solution_code': 'i...</td>\n",
       "      <td>CODEFORCES</td>\n",
       "      <td>{'time_limit': {'seconds': 1, 'nanos': 0}, 'me...</td>\n",
       "      <td>{'cf_contest_id': 1286, 'cf_index': 'B', 'cf_p...</td>\n",
       "      <td>{'public_tests': [{'input': '3\n",
       "2 0\n",
       "0 2\n",
       "2 0\n",
       "', ...</td>\n",
       "      <td>0.333333</td>\n",
       "      <td>{'dataclass_code': 'import sys\n",
       "import time\n",
       "imp...</td>\n",
       "      <td>{'time_complexity_fail_rate': 0.62264150943396...</td>\n",
       "      <td>[6.9596057, 77.4446, 4.722015, 3.9514258, 72.4...</td>\n",
       "      <td>[constructive algorithms, data structures, dfs...</td>\n",
       "      <td>greedy</td>\n",
       "    </tr>\n",
       "    <tr>\n",
       "      <th>9</th>\n",
       "      <td>396</td>\n",
       "      <td>1008_B. Turn the Rectangles</td>\n",
       "      <td>There are n rectangles in a row. You can eithe...</td>\n",
       "      <td>[{'solution_id': '396_0', 'solution_code': 'n=...</td>\n",
       "      <td>CODEFORCES</td>\n",
       "      <td>{'time_limit': {'seconds': 2, 'nanos': 0}, 'me...</td>\n",
       "      <td>{'cf_contest_id': 1008, 'cf_index': 'B', 'cf_p...</td>\n",
       "      <td>{'public_tests': [{'input': '3\n",
       "3 4\n",
       "4 6\n",
       "3 5\n",
       "', ...</td>\n",
       "      <td>0.691288</td>\n",
       "      <td>{'dataclass_code': 'import sys\n",
       "import time\n",
       "imp...</td>\n",
       "      <td>{'time_complexity_fail_rate': 0.23561643835616...</td>\n",
       "      <td>[13.335894, 68.58638, 1.6191883, 5.1224146, 58...</td>\n",
       "      <td>[greedy, sortings]</td>\n",
       "      <td>greedy</td>\n",
       "    </tr>\n",
       "    <tr>\n",
       "      <th>10</th>\n",
       "      <td>890</td>\n",
       "      <td>1442_A. Extreme Subtraction</td>\n",
       "      <td>You are given an array a of n positive integer...</td>\n",
       "      <td>[{'solution_id': '890_0', 'solution_code': 't ...</td>\n",
       "      <td>CODEFORCES</td>\n",
       "      <td>{'time_limit': {'seconds': 2, 'nanos': 0}, 'me...</td>\n",
       "      <td>{'cf_contest_id': 1442, 'cf_index': 'A', 'cf_p...</td>\n",
       "      <td>{'public_tests': [{'input': '4\n",
       "3\n",
       "1 2 1\n",
       "5\n",
       "11 7 ...</td>\n",
       "      <td>0.440860</td>\n",
       "      <td>{'dataclass_code': 'import sys\n",
       "import time\n",
       "imp...</td>\n",
       "      <td>{'time_complexity_fail_rate': 0.08536585365853...</td>\n",
       "      <td>[-0.04368052, 101.025276, 1.9462633, 34.243565...</td>\n",
       "      <td>[constructive algorithms, dp, greedy]</td>\n",
       "      <td>greedy</td>\n",
       "    </tr>\n",
       "    <tr>\n",
       "      <th>11</th>\n",
       "      <td>2016</td>\n",
       "      <td>322_A. Ciel and Dancing</td>\n",
       "      <td>Fox Ciel and her friends are in a dancing room...</td>\n",
       "      <td>[{'solution_id': '2016_0', 'solution_code': 'n...</td>\n",
       "      <td>CODEFORCES</td>\n",
       "      <td>{'time_limit': {'seconds': 1, 'nanos': 0}, 'me...</td>\n",
       "      <td>{'cf_contest_id': 322, 'cf_index': 'A', 'cf_po...</td>\n",
       "      <td>{'public_tests': [{'input': '2 1\n",
       "', 'output': ...</td>\n",
       "      <td>0.567568</td>\n",
       "      <td>{'dataclass_code': 'import sys\n",
       "import time\n",
       "imp...</td>\n",
       "      <td>{'time_complexity_fail_rate': 0.02380952380952...</td>\n",
       "      <td>[6.030157, 51.74154, 15.999461, -1.3720301, 57...</td>\n",
       "      <td>[greedy]</td>\n",
       "      <td>greedy</td>\n",
       "    </tr>\n",
       "    <tr>\n",
       "      <th>12</th>\n",
       "      <td>2794</td>\n",
       "      <td>1265_A. Beautiful String</td>\n",
       "      <td>A string is called beautiful if no two consecu...</td>\n",
       "      <td>[{'solution_id': '2794_0', 'solution_code': 'd...</td>\n",
       "      <td>CODEFORCES</td>\n",
       "      <td>{'time_limit': {'seconds': 1, 'nanos': 0}, 'me...</td>\n",
       "      <td>{'cf_contest_id': 1265, 'cf_index': 'A', 'cf_p...</td>\n",
       "      <td>{'public_tests': [{'input': '3\n",
       "a???cb\n",
       "a??bbc\n",
       "a...</td>\n",
       "      <td>0.753906</td>\n",
       "      <td>{'dataclass_code': 'import sys\n",
       "import time\n",
       "imp...</td>\n",
       "      <td>{'time_complexity_fail_rate': 0.94473229706390...</td>\n",
       "      <td>[3.4761891, 50.929695, -3.9532228, 20.017735, ...</td>\n",
       "      <td>[constructive algorithms, greedy]</td>\n",
       "      <td>greedy</td>\n",
       "    </tr>\n",
       "    <tr>\n",
       "      <th>13</th>\n",
       "      <td>2010</td>\n",
       "      <td>1201_B. Zero Array</td>\n",
       "      <td>You are given an array a_1, a_2, …, a_n.\\n\\nIn...</td>\n",
       "      <td>[{'solution_id': '2010_0', 'solution_code': 'n...</td>\n",
       "      <td>CODEFORCES</td>\n",
       "      <td>{'time_limit': {'seconds': 1, 'nanos': 0}, 'me...</td>\n",
       "      <td>{'cf_contest_id': 1201, 'cf_index': 'B', 'cf_p...</td>\n",
       "      <td>{'public_tests': [{'input': '6\n",
       "1 2 3 4 5 6\n",
       "', ...</td>\n",
       "      <td>0.720461</td>\n",
       "      <td>{'dataclass_code': 'import sys\n",
       "import time\n",
       "imp...</td>\n",
       "      <td>{'time_complexity_fail_rate': 0.062, 'space_co...</td>\n",
       "      <td>[0.099799275, 49.474125, -6.455534, 12.469633,...</td>\n",
       "      <td>[greedy, math]</td>\n",
       "      <td>greedy</td>\n",
       "    </tr>\n",
       "    <tr>\n",
       "      <th>14</th>\n",
       "      <td>1453</td>\n",
       "      <td>1197_B. Pillars</td>\n",
       "      <td>There are n pillars aligned in a row and numbe...</td>\n",
       "      <td>[{'solution_id': '1453_0', 'solution_code': 'n...</td>\n",
       "      <td>CODEFORCES</td>\n",
       "      <td>{'time_limit': {'seconds': 1, 'nanos': 5000000...</td>\n",
       "      <td>{'cf_contest_id': 1197, 'cf_index': 'B', 'cf_p...</td>\n",
       "      <td>{'public_tests': [{'input': '3\n",
       "3 1 2\n",
       "', 'outpu...</td>\n",
       "      <td>0.745985</td>\n",
       "      <td>{'dataclass_code': 'import sys\n",
       "import time\n",
       "imp...</td>\n",
       "      <td>{'time_complexity_fail_rate': 0.16829745596868...</td>\n",
       "      <td>[50.18376, 126.53616, 17.932035, -36.64237, 13...</td>\n",
       "      <td>[greedy, implementation]</td>\n",
       "      <td>greedy</td>\n",
       "    </tr>\n",
       "    <tr>\n",
       "      <th>15</th>\n",
       "      <td>2889</td>\n",
       "      <td>1150_A. Stock Arbitraging</td>\n",
       "      <td>Welcome to Codeforces Stock Exchange! We're pr...</td>\n",
       "      <td>[{'solution_id': '2889_0', 'solution_code': 'a...</td>\n",
       "      <td>CODEFORCES</td>\n",
       "      <td>{'time_limit': {'seconds': 1, 'nanos': 0}, 'me...</td>\n",
       "      <td>{'cf_contest_id': 1150, 'cf_index': 'A', 'cf_p...</td>\n",
       "      <td>{'public_tests': [{'input': '3 4 11\n",
       "4 2 5\n",
       "4 4 ...</td>\n",
       "      <td>0.828076</td>\n",
       "      <td>{'dataclass_code': 'import sys\n",
       "import time\n",
       "imp...</td>\n",
       "      <td>{'time_complexity_fail_rate': 0.04761904761904...</td>\n",
       "      <td>[37.994396, 64.9534, 14.290553, 4.7055387, 88....</td>\n",
       "      <td>[greedy, implementation]</td>\n",
       "      <td>greedy</td>\n",
       "    </tr>\n",
       "    <tr>\n",
       "      <th>16</th>\n",
       "      <td>1028</td>\n",
       "      <td>58_B. Coins</td>\n",
       "      <td>In Berland a money reform is being prepared. N...</td>\n",
       "      <td>[{'solution_id': '1028_0', 'solution_code': 'd...</td>\n",
       "      <td>CODEFORCES</td>\n",
       "      <td>{'time_limit': {'seconds': 2, 'nanos': 0}, 'me...</td>\n",
       "      <td>{'cf_contest_id': 58, 'cf_index': 'B', 'cf_poi...</td>\n",
       "      <td>{'public_tests': [{'input': '3\n",
       "', 'output': '3...</td>\n",
       "      <td>0.593567</td>\n",
       "      <td>{'dataclass_code': 'import sys\n",
       "import time\n",
       "imp...</td>\n",
       "      <td>{'time_complexity_fail_rate': 0.37931034482758...</td>\n",
       "      <td>[9.788605, 38.301685, 18.019913, 14.7619295, 5...</td>\n",
       "      <td>[greedy]</td>\n",
       "      <td>greedy</td>\n",
       "    </tr>\n",
       "    <tr>\n",
       "      <th>17</th>\n",
       "      <td>1493</td>\n",
       "      <td>946_A. Partition</td>\n",
       "      <td>You are given a sequence a consisting of n int...</td>\n",
       "      <td>[{'solution_id': '1493_0', 'solution_code': 'n...</td>\n",
       "      <td>CODEFORCES</td>\n",
       "      <td>{'time_limit': {'seconds': 1, 'nanos': 0}, 'me...</td>\n",
       "      <td>{'cf_contest_id': 946, 'cf_index': 'A', 'cf_po...</td>\n",
       "      <td>{'public_tests': [{'input': '3\n",
       "1 -2 0\n",
       "', 'outp...</td>\n",
       "      <td>0.856925</td>\n",
       "      <td>{'dataclass_code': 'import sys\n",
       "import time\n",
       "imp...</td>\n",
       "      <td>{'time_complexity_fail_rate': 0.01065719360568...</td>\n",
       "      <td>[-3.308428, 52.810566, 6.564758, 16.700443, 58...</td>\n",
       "      <td>[greedy]</td>\n",
       "      <td>greedy</td>\n",
       "    </tr>\n",
       "    <tr>\n",
       "      <th>18</th>\n",
       "      <td>2939</td>\n",
       "      <td>1399_D. Binary String To Subsequences</td>\n",
       "      <td>You are given a binary string s consisting of ...</td>\n",
       "      <td>[{'solution_id': '2939_0', 'solution_code': 't...</td>\n",
       "      <td>CODEFORCES</td>\n",
       "      <td>{'time_limit': {'seconds': 2, 'nanos': 0}, 'me...</td>\n",
       "      <td>{'cf_contest_id': 1399, 'cf_index': 'D', 'cf_p...</td>\n",
       "      <td>{'public_tests': [{'input': '4\n",
       "4\n",
       "0011\n",
       "6\n",
       "111111...</td>\n",
       "      <td>0.725352</td>\n",
       "      <td>{'dataclass_code': 'import sys\n",
       "import time\n",
       "imp...</td>\n",
       "      <td>{'time_complexity_fail_rate': 0.07572815533980...</td>\n",
       "      <td>[-9.4203415, 81.52036, 5.069079, 26.498432, 87...</td>\n",
       "      <td>[constructive algorithms, data structures, gre...</td>\n",
       "      <td>greedy</td>\n",
       "    </tr>\n",
       "    <tr>\n",
       "      <th>19</th>\n",
       "      <td>2156</td>\n",
       "      <td>1320_A. Journey Planning</td>\n",
       "      <td>Tanya wants to go on a journey across the citi...</td>\n",
       "      <td>[{'solution_id': '2156_0', 'solution_code': 'n...</td>\n",
       "      <td>CODEFORCES</td>\n",
       "      <td>{'time_limit': {'seconds': 2, 'nanos': 0}, 'me...</td>\n",
       "      <td>{'cf_contest_id': 1320, 'cf_index': 'A', 'cf_p...</td>\n",
       "      <td>{'public_tests': [{'input': '7\n",
       "8 9 26 11 12 29...</td>\n",
       "      <td>0.702229</td>\n",
       "      <td>{'dataclass_code': 'import sys\n",
       "import time\n",
       "imp...</td>\n",
       "      <td>{'time_complexity_fail_rate': 0.05895691609977...</td>\n",
       "      <td>[39.490456, 140.90285, 12.641981, 12.581278, 1...</td>\n",
       "      <td>[data structures, dp, greedy, math, sortings]</td>\n",
       "      <td>greedy</td>\n",
       "    </tr>\n",
       "    <tr>\n",
       "      <th>20</th>\n",
       "      <td>2902</td>\n",
       "      <td>3_C. Tic-tac-toe</td>\n",
       "      <td>Certainly, everyone is familiar with tic-tac-t...</td>\n",
       "      <td>[{'solution_id': '2902_0', 'solution_code': 'f...</td>\n",
       "      <td>CODEFORCES</td>\n",
       "      <td>{'time_limit': {'seconds': 1, 'nanos': 0}, 'me...</td>\n",
       "      <td>{'cf_contest_id': 3, 'cf_index': 'C', 'cf_poin...</td>\n",
       "      <td>{'public_tests': [{'input': 'X0X\n",
       ".0.\n",
       ".X.\n",
       "', 'o...</td>\n",
       "      <td>0.273279</td>\n",
       "      <td>{'dataclass_code': 'import sys\n",
       "import time\n",
       "imp...</td>\n",
       "      <td>{'time_complexity_fail_rate': 0.11851851851851...</td>\n",
       "      <td>[25.875843, 49.727417, 6.66279, -2.7339482, 27...</td>\n",
       "      <td>[brute force, games, implementation]</td>\n",
       "      <td>brute force</td>\n",
       "    </tr>\n",
       "    <tr>\n",
       "      <th>21</th>\n",
       "      <td>118</td>\n",
       "      <td>217_A. Ice Skating</td>\n",
       "      <td>Bajtek is learning to skate on ice. He's a beg...</td>\n",
       "      <td>[{'solution_id': '118_0', 'solution_code': 'n ...</td>\n",
       "      <td>CODEFORCES</td>\n",
       "      <td>{'time_limit': {'seconds': 2, 'nanos': 0}, 'me...</td>\n",
       "      <td>{'cf_contest_id': 217, 'cf_index': 'A', 'cf_po...</td>\n",
       "      <td>{'public_tests': [{'input': '2\n",
       "2 1\n",
       "1 2\n",
       "', 'out...</td>\n",
       "      <td>0.620408</td>\n",
       "      <td>{'dataclass_code': 'import sys\n",
       "import time\n",
       "imp...</td>\n",
       "      <td>{'time_complexity_fail_rate': 0.08552631578947...</td>\n",
       "      <td>[5.9288287, 67.45659, 7.8010054, -16.869286, 6...</td>\n",
       "      <td>[brute force, dfs and similar, dsu, graphs]</td>\n",
       "      <td>brute force</td>\n",
       "    </tr>\n",
       "    <tr>\n",
       "      <th>22</th>\n",
       "      <td>775</td>\n",
       "      <td>761_C. Dasha and Password</td>\n",
       "      <td>After overcoming the stairs Dasha came to clas...</td>\n",
       "      <td>[{'solution_id': '775_0', 'solution_code': 'n,...</td>\n",
       "      <td>CODEFORCES</td>\n",
       "      <td>{'time_limit': {'seconds': 2, 'nanos': 0}, 'me...</td>\n",
       "      <td>{'cf_contest_id': 761, 'cf_index': 'C', 'cf_po...</td>\n",
       "      <td>{'public_tests': [{'input': '3 4\n",
       "1**2\n",
       "a3*0\n",
       "c4*...</td>\n",
       "      <td>0.535714</td>\n",
       "      <td>{'dataclass_code': 'import sys\n",
       "import time\n",
       "imp...</td>\n",
       "      <td>{'time_complexity_fail_rate': 0.08, 'space_com...</td>\n",
       "      <td>[9.2186775, 77.868355, -2.670055, 15.3327265, ...</td>\n",
       "      <td>[brute force, dp, implementation]</td>\n",
       "      <td>brute force</td>\n",
       "    </tr>\n",
       "    <tr>\n",
       "      <th>23</th>\n",
       "      <td>795</td>\n",
       "      <td>1430_A. Number of Apartments</td>\n",
       "      <td>Recently a new building with a new layout was ...</td>\n",
       "      <td>[{'solution_id': '795_0', 'solution_code': 'fo...</td>\n",
       "      <td>CODEFORCES</td>\n",
       "      <td>{'time_limit': {'seconds': 1, 'nanos': 0}, 'me...</td>\n",
       "      <td>{'cf_contest_id': 1430, 'cf_index': 'A', 'cf_p...</td>\n",
       "      <td>{'public_tests': [{'input': '4\n",
       "30\n",
       "67\n",
       "4\n",
       "14\n",
       "', '...</td>\n",
       "      <td>0.813241</td>\n",
       "      <td>{'dataclass_code': 'import sys\n",
       "import time\n",
       "imp...</td>\n",
       "      <td>{'time_complexity_fail_rate': 0.04009720534629...</td>\n",
       "      <td>[32.23987, 97.293724, 25.573982, -26.770346, 9...</td>\n",
       "      <td>[brute force, constructive algorithms, math]</td>\n",
       "      <td>brute force</td>\n",
       "    </tr>\n",
       "    <tr>\n",
       "      <th>24</th>\n",
       "      <td>312</td>\n",
       "      <td>987_C. Three displays</td>\n",
       "      <td>It is the middle of 2018 and Maria Stepanovna,...</td>\n",
       "      <td>[{'solution_id': '312_0', 'solution_code': 'mo...</td>\n",
       "      <td>CODEFORCES</td>\n",
       "      <td>{'time_limit': {'seconds': 1, 'nanos': 0}, 'me...</td>\n",
       "      <td>{'cf_contest_id': 987, 'cf_index': 'C', 'cf_po...</td>\n",
       "      <td>{'public_tests': [{'input': '3\n",
       "100 101 100\n",
       "2 4...</td>\n",
       "      <td>0.577206</td>\n",
       "      <td>{'dataclass_code': 'import sys\n",
       "import time\n",
       "imp...</td>\n",
       "      <td>{'time_complexity_fail_rate': 0.07006369426751...</td>\n",
       "      <td>[14.474285, 82.93817, 11.676455, 17.93702, 102...</td>\n",
       "      <td>[brute force, dp, implementation]</td>\n",
       "      <td>brute force</td>\n",
       "    </tr>\n",
       "    <tr>\n",
       "      <th>25</th>\n",
       "      <td>814</td>\n",
       "      <td>1091_A. New Year and the Christmas Ornament</td>\n",
       "      <td>Alice and Bob are decorating a Christmas Tree....</td>\n",
       "      <td>[{'solution_id': '814_0', 'solution_code': 'y,...</td>\n",
       "      <td>CODEFORCES</td>\n",
       "      <td>{'time_limit': {'seconds': 1, 'nanos': 0}, 'me...</td>\n",
       "      <td>{'cf_contest_id': 1091, 'cf_index': 'A', 'cf_p...</td>\n",
       "      <td>{'public_tests': [{'input': '8 13 9\n",
       "', 'output...</td>\n",
       "      <td>0.813241</td>\n",
       "      <td>{'dataclass_code': 'import sys\n",
       "import time\n",
       "imp...</td>\n",
       "      <td>{'time_complexity_fail_rate': 0.03523693803159...</td>\n",
       "      <td>[17.14053, 65.68271, 9.580868, 30.59659, 104.6...</td>\n",
       "      <td>[brute force, implementation, math]</td>\n",
       "      <td>brute force</td>\n",
       "    </tr>\n",
       "    <tr>\n",
       "      <th>26</th>\n",
       "      <td>1009</td>\n",
       "      <td>1033_C. Permutation Game</td>\n",
       "      <td>After a long day, Alice and Bob decided to pla...</td>\n",
       "      <td>[{'solution_id': '1009_0', 'solution_code': 'i...</td>\n",
       "      <td>CODEFORCES</td>\n",
       "      <td>{'time_limit': {'seconds': 1, 'nanos': 0}, 'me...</td>\n",
       "      <td>{'cf_contest_id': 1033, 'cf_index': 'C', 'cf_p...</td>\n",
       "      <td>{'public_tests': [{'input': '15\n",
       "3 11 2 5 10 9 ...</td>\n",
       "      <td>0.631579</td>\n",
       "      <td>{'dataclass_code': 'import sys\n",
       "import time\n",
       "imp...</td>\n",
       "      <td>{'time_complexity_fail_rate': 0.25, 'space_com...</td>\n",
       "      <td>[30.378065, 98.13815, 15.832504, -4.2135334, 1...</td>\n",
       "      <td>[brute force, dp, games]</td>\n",
       "      <td>brute force</td>\n",
       "    </tr>\n",
       "    <tr>\n",
       "      <th>27</th>\n",
       "      <td>1907</td>\n",
       "      <td>846_A. Curriculum Vitae</td>\n",
       "      <td>Hideo Kojima has just quit his job at Konami. ...</td>\n",
       "      <td>[{'solution_id': '1907_0', 'solution_code': 'd...</td>\n",
       "      <td>CODEFORCES</td>\n",
       "      <td>{'time_limit': {'seconds': 1, 'nanos': 0}, 'me...</td>\n",
       "      <td>{'cf_contest_id': 846, 'cf_index': 'A', 'cf_po...</td>\n",
       "      <td>{'public_tests': [{'input': '6\n",
       "0 1 0 0 1 0\n",
       "', ...</td>\n",
       "      <td>0.385159</td>\n",
       "      <td>{'dataclass_code': 'import sys\n",
       "import time\n",
       "imp...</td>\n",
       "      <td>{'time_complexity_fail_rate': 0.01834862385321...</td>\n",
       "      <td>[-6.1481295, 50.282936, 15.300147, 8.449677, 6...</td>\n",
       "      <td>[brute force, implementation]</td>\n",
       "      <td>brute force</td>\n",
       "    </tr>\n",
       "    <tr>\n",
       "      <th>28</th>\n",
       "      <td>2489</td>\n",
       "      <td>1244_B. Rooms and Staircases</td>\n",
       "      <td>Nikolay lives in a two-storied house. There ar...</td>\n",
       "      <td>[{'solution_id': '2489_0', 'solution_code': 'd...</td>\n",
       "      <td>CODEFORCES</td>\n",
       "      <td>{'time_limit': {'seconds': 1, 'nanos': 0}, 'me...</td>\n",
       "      <td>{'cf_contest_id': 1244, 'cf_index': 'B', 'cf_p...</td>\n",
       "      <td>{'public_tests': [{'input': '4\n",
       "5\n",
       "00100\n",
       "8\n",
       "00000...</td>\n",
       "      <td>0.723430</td>\n",
       "      <td>{'dataclass_code': 'import sys\n",
       "import time\n",
       "imp...</td>\n",
       "      <td>{'time_complexity_fail_rate': 1.0, 'space_comp...</td>\n",
       "      <td>[73.77222, 171.05435, 61.166225, -104.84467, 1...</td>\n",
       "      <td>[brute force, implementation]</td>\n",
       "      <td>brute force</td>\n",
       "    </tr>\n",
       "    <tr>\n",
       "      <th>29</th>\n",
       "      <td>671</td>\n",
       "      <td>505_A. Mr. Kitayuta's Gift</td>\n",
       "      <td>Mr. Kitayuta has kindly given you a string s c...</td>\n",
       "      <td>[{'solution_id': '671_0', 'solution_code': '# ...</td>\n",
       "      <td>CODEFORCES</td>\n",
       "      <td>{'time_limit': {'seconds': 1, 'nanos': 0}, 'me...</td>\n",
       "      <td>{'cf_contest_id': 505, 'cf_index': 'A', 'cf_po...</td>\n",
       "      <td>{'public_tests': [{'input': 'ee\n",
       "', 'output': '...</td>\n",
       "      <td>0.492462</td>\n",
       "      <td>{'dataclass_code': 'import sys\n",
       "import time\n",
       "imp...</td>\n",
       "      <td>{'time_complexity_fail_rate': 0.44897959183673...</td>\n",
       "      <td>[-8.623139, 46.013382, -4.721415, 23.074055, 6...</td>\n",
       "      <td>[brute force, implementation, strings]</td>\n",
       "      <td>brute force</td>\n",
       "    </tr>\n",
       "    <tr>\n",
       "      <th>30</th>\n",
       "      <td>876</td>\n",
       "      <td>911_C. Three Garlands</td>\n",
       "      <td>Mishka is decorating the Christmas tree. He ha...</td>\n",
       "      <td>[{'solution_id': '876_0', 'solution_code': 'k1...</td>\n",
       "      <td>CODEFORCES</td>\n",
       "      <td>{'time_limit': {'seconds': 2, 'nanos': 0}, 'me...</td>\n",
       "      <td>{'cf_contest_id': 911, 'cf_index': 'C', 'cf_po...</td>\n",
       "      <td>{'public_tests': [{'input': '2 2 3\n",
       "', 'output'...</td>\n",
       "      <td>0.544444</td>\n",
       "      <td>{'dataclass_code': 'import sys\n",
       "import time\n",
       "imp...</td>\n",
       "      <td>{'time_complexity_fail_rate': 0.10204081632653...</td>\n",
       "      <td>[10.303901, 60.676056, 8.548971, 1.771037, 103...</td>\n",
       "      <td>[brute force, constructive algorithms]</td>\n",
       "      <td>brute force</td>\n",
       "    </tr>\n",
       "    <tr>\n",
       "      <th>31</th>\n",
       "      <td>1708</td>\n",
       "      <td>1097_B. Petr and a Combination Lock</td>\n",
       "      <td>Petr has just bought a new car. He's just arri...</td>\n",
       "      <td>[{'solution_id': '1708_0', 'solution_code': 'n...</td>\n",
       "      <td>CODEFORCES</td>\n",
       "      <td>{'time_limit': {'seconds': 1, 'nanos': 0}, 'me...</td>\n",
       "      <td>{'cf_contest_id': 1097, 'cf_index': 'B', 'cf_p...</td>\n",
       "      <td>{'public_tests': [{'input': '3\n",
       "10\n",
       "10\n",
       "10\n",
       "', 'ou...</td>\n",
       "      <td>0.757842</td>\n",
       "      <td>{'dataclass_code': 'import sys\n",
       "import time\n",
       "imp...</td>\n",
       "      <td>{'time_complexity_fail_rate': 0.24503311258278...</td>\n",
       "      <td>[4.4255075, 73.328415, 11.220555, 15.295882, 8...</td>\n",
       "      <td>[bitmasks, brute force, dp]</td>\n",
       "      <td>brute force</td>\n",
       "    </tr>\n",
       "    <tr>\n",
       "      <th>32</th>\n",
       "      <td>2991</td>\n",
       "      <td>400_B. Inna and New Matrix of Candies</td>\n",
       "      <td>Inna likes sweets and a game called the \"Candy...</td>\n",
       "      <td>[{'solution_id': '2991_0', 'solution_code': 'n...</td>\n",
       "      <td>CODEFORCES</td>\n",
       "      <td>{'time_limit': {'seconds': 1, 'nanos': 0}, 'me...</td>\n",
       "      <td>{'cf_contest_id': 400, 'cf_index': 'B', 'cf_po...</td>\n",
       "      <td>{'public_tests': [{'input': '3 4\n",
       "*G*S\n",
       "G**S\n",
       "*G*...</td>\n",
       "      <td>0.505556</td>\n",
       "      <td>{'dataclass_code': 'import sys\n",
       "import time\n",
       "imp...</td>\n",
       "      <td>{'time_complexity_fail_rate': 0.03296703296703...</td>\n",
       "      <td>[31.726748, 78.82633, 11.194769, -13.495762, 5...</td>\n",
       "      <td>[brute force, implementation, schedules]</td>\n",
       "      <td>brute force</td>\n",
       "    </tr>\n",
       "    <tr>\n",
       "      <th>33</th>\n",
       "      <td>3067</td>\n",
       "      <td>1491_B. Minimal Cost</td>\n",
       "      <td>There is a graph of n rows and 10^6 + 2 column...</td>\n",
       "      <td>[{'solution_id': '3067_0', 'solution_code': '\n",
       "...</td>\n",
       "      <td>CODEFORCES</td>\n",
       "      <td>{'time_limit': {'seconds': 2, 'nanos': 0}, 'me...</td>\n",
       "      <td>{'cf_contest_id': 1491, 'cf_index': 'B', 'cf_p...</td>\n",
       "      <td>{'public_tests': [{'input': '3\n",
       "2 3 4\n",
       "2 2\n",
       "2 3 4...</td>\n",
       "      <td>0.497487</td>\n",
       "      <td>{'dataclass_code': 'import sys\n",
       "import time\n",
       "imp...</td>\n",
       "      <td>{'time_complexity_fail_rate': 0.11111111111111...</td>\n",
       "      <td>[38.17105, 167.65775, 31.55017, 13.642389, 147...</td>\n",
       "      <td>[brute force, math]</td>\n",
       "      <td>brute force</td>\n",
       "    </tr>\n",
       "    <tr>\n",
       "      <th>34</th>\n",
       "      <td>2853</td>\n",
       "      <td>841_A. Generous Kefa</td>\n",
       "      <td>One day Kefa found n baloons. For convenience,...</td>\n",
       "      <td>[{'solution_id': '2853_0', 'solution_code': '\n",
       "...</td>\n",
       "      <td>CODEFORCES</td>\n",
       "      <td>{'time_limit': {'seconds': 2, 'nanos': 0}, 'me...</td>\n",
       "      <td>{'cf_contest_id': 841, 'cf_index': 'A', 'cf_po...</td>\n",
       "      <td>{'public_tests': [{'input': '6 3\n",
       "aacaab\n",
       "', 'ou...</td>\n",
       "      <td>0.743440</td>\n",
       "      <td>{'dataclass_code': 'import sys\n",
       "import time\n",
       "imp...</td>\n",
       "      <td>{'time_complexity_fail_rate': 0.11176470588235...</td>\n",
       "      <td>[2.146409, 47.40405, 14.833194, 1.1156507, 62....</td>\n",
       "      <td>[brute force, implementation]</td>\n",
       "      <td>brute force</td>\n",
       "    </tr>\n",
       "    <tr>\n",
       "      <th>35</th>\n",
       "      <td>2913</td>\n",
       "      <td>1088_A. Ehab and another construction problem</td>\n",
       "      <td>Given an integer x, find 2 integers a and b su...</td>\n",
       "      <td>[{'solution_id': '2913_0', 'solution_code': '\n",
       "...</td>\n",
       "      <td>CODEFORCES</td>\n",
       "      <td>{'time_limit': {'seconds': 1, 'nanos': 0}, 'me...</td>\n",
       "      <td>{'cf_contest_id': 1088, 'cf_index': 'A', 'cf_p...</td>\n",
       "      <td>{'public_tests': [{'input': '1\n",
       "', 'output': '-...</td>\n",
       "      <td>0.780488</td>\n",
       "      <td>{'dataclass_code': 'import sys\n",
       "import time\n",
       "imp...</td>\n",
       "      <td>{'time_complexity_fail_rate': 0.17857142857142...</td>\n",
       "      <td>[-3.1360977, 23.27932, 1.9301765, 2.6099672, 2...</td>\n",
       "      <td>[brute force, constructive algorithms]</td>\n",
       "      <td>brute force</td>\n",
       "    </tr>\n",
       "    <tr>\n",
       "      <th>36</th>\n",
       "      <td>72</td>\n",
       "      <td>4_A. Watermelon</td>\n",
       "      <td>One hot summer day Pete and his friend Billy d...</td>\n",
       "      <td>[{'solution_id': '72_0', 'solution_code': 'x=i...</td>\n",
       "      <td>CODEFORCES</td>\n",
       "      <td>{'time_limit': {'seconds': 1, 'nanos': 0}, 'me...</td>\n",
       "      <td>{'cf_contest_id': 4, 'cf_index': 'A', 'cf_poin...</td>\n",
       "      <td>{'public_tests': [{'input': '8\n",
       "', 'output': 'Y...</td>\n",
       "      <td>1.000000</td>\n",
       "      <td>{'dataclass_code': 'import sys\n",
       "import time\n",
       "imp...</td>\n",
       "      <td>{'time_complexity_fail_rate': 0.07551881512098...</td>\n",
       "      <td>[14.621577, 43.87179, 4.0382276, 1.3510296, 60...</td>\n",
       "      <td>[brute force, math]</td>\n",
       "      <td>brute force</td>\n",
       "    </tr>\n",
       "    <tr>\n",
       "      <th>37</th>\n",
       "      <td>1624</td>\n",
       "      <td>1285_C. Fadi and LCM</td>\n",
       "      <td>Today, Osama gave Fadi an integer X, and Fadi ...</td>\n",
       "      <td>[{'solution_id': '1624_0', 'solution_code': 'd...</td>\n",
       "      <td>CODEFORCES</td>\n",
       "      <td>{'time_limit': {'seconds': 1, 'nanos': 0}, 'me...</td>\n",
       "      <td>{'cf_contest_id': 1285, 'cf_index': 'C', 'cf_p...</td>\n",
       "      <td>{'public_tests': [{'input': '1\n",
       "', 'output': '1...</td>\n",
       "      <td>0.751282</td>\n",
       "      <td>{'dataclass_code': 'import sys\n",
       "import time\n",
       "imp...</td>\n",
       "      <td>{'time_complexity_fail_rate': 0.10409556313993...</td>\n",
       "      <td>[-12.516719, 33.90414, 2.8609743, 11.2335005, ...</td>\n",
       "      <td>[brute force, math, number theory]</td>\n",
       "      <td>brute force</td>\n",
       "    </tr>\n",
       "    <tr>\n",
       "      <th>38</th>\n",
       "      <td>1717</td>\n",
       "      <td>300_A. Array</td>\n",
       "      <td>Vitaly has an array of n distinct integers. Vi...</td>\n",
       "      <td>[{'solution_id': '1717_0', 'solution_code': 'n...</td>\n",
       "      <td>CODEFORCES</td>\n",
       "      <td>{'time_limit': {'seconds': 2, 'nanos': 0}, 'me...</td>\n",
       "      <td>{'cf_contest_id': 300, 'cf_index': 'A', 'cf_po...</td>\n",
       "      <td>{'public_tests': [{'input': '4\n",
       "-1 -2 -3 0\n",
       "', '...</td>\n",
       "      <td>0.700168</td>\n",
       "      <td>{'dataclass_code': 'import sys\n",
       "import time\n",
       "imp...</td>\n",
       "      <td>{'time_complexity_fail_rate': 0.15550239234449...</td>\n",
       "      <td>[-5.811229, 79.637024, 8.184543, 13.593817, 59...</td>\n",
       "      <td>[brute force, constructive algorithms, impleme...</td>\n",
       "      <td>brute force</td>\n",
       "    </tr>\n",
       "    <tr>\n",
       "      <th>39</th>\n",
       "      <td>1756</td>\n",
       "      <td>155_A. I_love_%username%</td>\n",
       "      <td>Vasya adores sport programming. He can't write...</td>\n",
       "      <td>[{'solution_id': '1756_0', 'solution_code': 'n...</td>\n",
       "      <td>CODEFORCES</td>\n",
       "      <td>{'time_limit': {'seconds': 2, 'nanos': 0}, 'me...</td>\n",
       "      <td>{'cf_contest_id': 155, 'cf_index': 'A', 'cf_po...</td>\n",
       "      <td>{'public_tests': [{'input': '10\n",
       "4664 6496 5814...</td>\n",
       "      <td>0.916991</td>\n",
       "      <td>{'dataclass_code': 'import sys\n",
       "import time\n",
       "imp...</td>\n",
       "      <td>{'time_complexity_fail_rate': 0.02923149457802...</td>\n",
       "      <td>[11.94277, 29.365183, 15.055789, 17.66635, 76....</td>\n",
       "      <td>[brute force]</td>\n",
       "      <td>brute force</td>\n",
       "    </tr>\n",
       "    <tr>\n",
       "      <th>40</th>\n",
       "      <td>1030</td>\n",
       "      <td>706_B. Interesting drink</td>\n",
       "      <td>Vasiliy likes to rest after a hard work, so yo...</td>\n",
       "      <td>[{'solution_id': '1030_0', 'solution_code': 'd...</td>\n",
       "      <td>CODEFORCES</td>\n",
       "      <td>{'time_limit': {'seconds': 2, 'nanos': 0}, 'me...</td>\n",
       "      <td>{'cf_contest_id': 706, 'cf_index': 'B', 'cf_po...</td>\n",
       "      <td>{'public_tests': [{'input': '5\n",
       "3 10 8 6 11\n",
       "4\n",
       "1...</td>\n",
       "      <td>0.827862</td>\n",
       "      <td>{'dataclass_code': 'import sys\n",
       "import time\n",
       "imp...</td>\n",
       "      <td>{'time_complexity_fail_rate': 0.03771760154738...</td>\n",
       "      <td>[22.423872, 68.19017, 24.96427, 1.7555906, 107...</td>\n",
       "      <td>[binary search, dp, implementation]</td>\n",
       "      <td>binary search</td>\n",
       "    </tr>\n",
       "    <tr>\n",
       "      <th>41</th>\n",
       "      <td>27</td>\n",
       "      <td>1538_C. Number of Pairs</td>\n",
       "      <td>You are given an array a of n integers. Find t...</td>\n",
       "      <td>[{'solution_id': '27_0', 'solution_code': '# A...</td>\n",
       "      <td>CODEFORCES</td>\n",
       "      <td>{'time_limit': {'seconds': 2, 'nanos': 0}, 'me...</td>\n",
       "      <td>{'cf_contest_id': 1538, 'cf_index': 'C', 'cf_p...</td>\n",
       "      <td>{'public_tests': [{'input': '4\n",
       "3 4 7\n",
       "5 1 2\n",
       "5 5...</td>\n",
       "      <td>0.494949</td>\n",
       "      <td>{'dataclass_code': 'import sys\n",
       "import time\n",
       "imp...</td>\n",
       "      <td>{'time_complexity_fail_rate': 1.0, 'space_comp...</td>\n",
       "      <td>[-9.121524, 81.43586, 12.642463, 29.15381, 94....</td>\n",
       "      <td>[binary search, data structures, math, two poi...</td>\n",
       "      <td>binary search</td>\n",
       "    </tr>\n",
       "    <tr>\n",
       "      <th>42</th>\n",
       "      <td>774</td>\n",
       "      <td>670_D2. Magic Powder - 2</td>\n",
       "      <td>The term of this problem is the same as the pr...</td>\n",
       "      <td>[{'solution_id': '774_0', 'solution_code': 'n,...</td>\n",
       "      <td>CODEFORCES</td>\n",
       "      <td>{'time_limit': {'seconds': 1, 'nanos': 0}, 'me...</td>\n",
       "      <td>{'cf_contest_id': 670, 'cf_index': 'D2', 'cf_p...</td>\n",
       "      <td>{'public_tests': [{'input': '1 1000000000\n",
       "1\n",
       "10...</td>\n",
       "      <td>0.481081</td>\n",
       "      <td>{'dataclass_code': 'import sys\n",
       "import time\n",
       "imp...</td>\n",
       "      <td>{'time_complexity_fail_rate': 0.07865168539325...</td>\n",
       "      <td>[-8.044024, 53.98693, 9.711312, 20.247486, 66....</td>\n",
       "      <td>[binary search, implementation]</td>\n",
       "      <td>binary search</td>\n",
       "    </tr>\n",
       "    <tr>\n",
       "      <th>43</th>\n",
       "      <td>1116</td>\n",
       "      <td>676_C. Vasya and String</td>\n",
       "      <td>High school student Vasya got a string of leng...</td>\n",
       "      <td>[{'solution_id': '1116_0', 'solution_code': '\n",
       "...</td>\n",
       "      <td>CODEFORCES</td>\n",
       "      <td>{'time_limit': {'seconds': 1, 'nanos': 0}, 'me...</td>\n",
       "      <td>{'cf_contest_id': 676, 'cf_index': 'C', 'cf_po...</td>\n",
       "      <td>{'public_tests': [{'input': '8 1\n",
       "aabaabaa\n",
       "', '...</td>\n",
       "      <td>0.582339</td>\n",
       "      <td>{'dataclass_code': 'import sys\n",
       "import time\n",
       "imp...</td>\n",
       "      <td>{'time_complexity_fail_rate': 0.08606557377049...</td>\n",
       "      <td>[-6.2776213, 32.524456, -1.5458463, 19.189133,...</td>\n",
       "      <td>[binary search, dp, strings, two pointers]</td>\n",
       "      <td>binary search</td>\n",
       "    </tr>\n",
       "    <tr>\n",
       "      <th>44</th>\n",
       "      <td>643</td>\n",
       "      <td>701_C. They Are Everywhere</td>\n",
       "      <td>Sergei B., the young coach of Pokemons, has fo...</td>\n",
       "      <td>[{'solution_id': '643_0', 'solution_code': 'n ...</td>\n",
       "      <td>CODEFORCES</td>\n",
       "      <td>{'time_limit': {'seconds': 2, 'nanos': 0}, 'me...</td>\n",
       "      <td>{'cf_contest_id': 701, 'cf_index': 'C', 'cf_po...</td>\n",
       "      <td>{'public_tests': [{'input': '6\n",
       "aaBCCe\n",
       "', 'outp...</td>\n",
       "      <td>0.431655</td>\n",
       "      <td>{'dataclass_code': 'import sys\n",
       "import time\n",
       "imp...</td>\n",
       "      <td>{'time_complexity_fail_rate': 0.075, 'space_co...</td>\n",
       "      <td>[12.134605, 101.79069, 10.755446, -22.814127, ...</td>\n",
       "      <td>[binary search, strings, two pointers]</td>\n",
       "      <td>binary search</td>\n",
       "    </tr>\n",
       "    <tr>\n",
       "      <th>45</th>\n",
       "      <td>967</td>\n",
       "      <td>68_B. Energy exchange</td>\n",
       "      <td>It is well known that the planet suffers from ...</td>\n",
       "      <td>[{'solution_id': '967_0', 'solution_code': 'de...</td>\n",
       "      <td>CODEFORCES</td>\n",
       "      <td>{'time_limit': {'seconds': 2, 'nanos': 0}, 'me...</td>\n",
       "      <td>{'cf_contest_id': 68, 'cf_index': 'B', 'cf_poi...</td>\n",
       "      <td>{'public_tests': [{'input': '2 90\n",
       "1 11\n",
       "', 'out...</td>\n",
       "      <td>0.770270</td>\n",
       "      <td>{'dataclass_code': 'import sys\n",
       "import time\n",
       "imp...</td>\n",
       "      <td>{'time_complexity_fail_rate': 0.08771929824561...</td>\n",
       "      <td>[7.510128, 50.11896, 20.728498, 6.0386286, 77....</td>\n",
       "      <td>[binary search]</td>\n",
       "      <td>binary search</td>\n",
       "    </tr>\n",
       "    <tr>\n",
       "      <th>46</th>\n",
       "      <td>436</td>\n",
       "      <td>468_C. Hack it!</td>\n",
       "      <td>Little X has met the following problem recentl...</td>\n",
       "      <td>[{'solution_id': '436_0', 'solution_code': 'A ...</td>\n",
       "      <td>CODEFORCES</td>\n",
       "      <td>{'time_limit': {'seconds': 1, 'nanos': 0}, 'me...</td>\n",
       "      <td>{'cf_contest_id': 468, 'cf_index': 'C', 'cf_po...</td>\n",
       "      <td>{'public_tests': [{'input': '46\n",
       "', 'output': '...</td>\n",
       "      <td>0.496063</td>\n",
       "      <td>{'dataclass_code': 'import sys\n",
       "import time\n",
       "imp...</td>\n",
       "      <td>{'time_complexity_fail_rate': 0.12698412698412...</td>\n",
       "      <td>[-4.19274, 23.995558, 7.3073173, 9.482363, 47....</td>\n",
       "      <td>[binary search, constructive algorithms, math]</td>\n",
       "      <td>binary search</td>\n",
       "    </tr>\n",
       "    <tr>\n",
       "      <th>47</th>\n",
       "      <td>1875</td>\n",
       "      <td>204_A. Little Elephant and Interval</td>\n",
       "      <td>The Little Elephant very much loves sums on in...</td>\n",
       "      <td>[{'solution_id': '1875_0', 'solution_code': 'd...</td>\n",
       "      <td>CODEFORCES</td>\n",
       "      <td>{'time_limit': {'seconds': 2, 'nanos': 0}, 'me...</td>\n",
       "      <td>{'cf_contest_id': 204, 'cf_index': 'A', 'cf_po...</td>\n",
       "      <td>{'public_tests': [{'input': '47 1024\n",
       "', 'outpu...</td>\n",
       "      <td>0.450980</td>\n",
       "      <td>{'dataclass_code': 'import sys\n",
       "import time\n",
       "imp...</td>\n",
       "      <td>{'time_complexity_fail_rate': 0.04347826086956...</td>\n",
       "      <td>[-8.198902, 46.11664, 15.920277, 17.054342, 60...</td>\n",
       "      <td>[binary search, combinatorics, dp]</td>\n",
       "      <td>binary search</td>\n",
       "    </tr>\n",
       "    <tr>\n",
       "      <th>48</th>\n",
       "      <td>144</td>\n",
       "      <td>1417_C. k-Amazing Numbers</td>\n",
       "      <td>You are given an array a consisting of n integ...</td>\n",
       "      <td>[{'solution_id': '144_0', 'solution_code': 'im...</td>\n",
       "      <td>CODEFORCES</td>\n",
       "      <td>{'time_limit': {'seconds': 1, 'nanos': 0}, 'me...</td>\n",
       "      <td>{'cf_contest_id': 1417, 'cf_index': 'C', 'cf_p...</td>\n",
       "      <td>{'public_tests': [{'input': '3\n",
       "5\n",
       "1 2 3 4 5\n",
       "5\n",
       "4...</td>\n",
       "      <td>0.553571</td>\n",
       "      <td>{'dataclass_code': 'import sys\n",
       "import time\n",
       "imp...</td>\n",
       "      <td>{'time_complexity_fail_rate': 0.23387096774193...</td>\n",
       "      <td>[-8.151704, 69.8941, 2.7084439, 20.191149, 61....</td>\n",
       "      <td>[binary search, data structures, implementatio...</td>\n",
       "      <td>binary search</td>\n",
       "    </tr>\n",
       "    <tr>\n",
       "      <th>49</th>\n",
       "      <td>508</td>\n",
       "      <td>165_B. Burning Midnight Oil</td>\n",
       "      <td>One day a highly important task was commission...</td>\n",
       "      <td>[{'solution_id': '508_0', 'solution_code': '\"\"...</td>\n",
       "      <td>CODEFORCES</td>\n",
       "      <td>{'time_limit': {'seconds': 2, 'nanos': 0}, 'me...</td>\n",
       "      <td>{'cf_contest_id': 165, 'cf_index': 'B', 'cf_po...</td>\n",
       "      <td>{'public_tests': [{'input': '7 2\n",
       "', 'output': ...</td>\n",
       "      <td>0.575581</td>\n",
       "      <td>{'dataclass_code': 'import sys\n",
       "import time\n",
       "imp...</td>\n",
       "      <td>{'time_complexity_fail_rate': 0.06060606060606...</td>\n",
       "      <td>[0.9282206, 40.21648, 11.335113, 3.8710413, 72...</td>\n",
       "      <td>[binary search, implementation]</td>\n",
       "      <td>binary search</td>\n",
       "    </tr>\n",
       "    <tr>\n",
       "      <th>50</th>\n",
       "      <td>1732</td>\n",
       "      <td>1238_D. AB-string</td>\n",
       "      <td>The string t_1t_2 ... t_k is good if each lett...</td>\n",
       "      <td>[{'solution_id': '1732_0', 'solution_code': 'f...</td>\n",
       "      <td>CODEFORCES</td>\n",
       "      <td>{'time_limit': {'seconds': 2, 'nanos': 0}, 'me...</td>\n",
       "      <td>{'cf_contest_id': 1238, 'cf_index': 'D', 'cf_p...</td>\n",
       "      <td>{'public_tests': [{'input': '5\n",
       "AABBB\n",
       "', 'outpu...</td>\n",
       "      <td>0.601399</td>\n",
       "      <td>{'dataclass_code': 'import sys\n",
       "import time\n",
       "imp...</td>\n",
       "      <td>{'time_complexity_fail_rate': 0.09302325581395...</td>\n",
       "      <td>[-17.483902, 50.61835, -26.031034, 43.70206, 7...</td>\n",
       "      <td>[binary search, combinatorics, dp, strings]</td>\n",
       "      <td>binary search</td>\n",
       "    </tr>\n",
       "    <tr>\n",
       "      <th>51</th>\n",
       "      <td>1180</td>\n",
       "      <td>978_C. Letters</td>\n",
       "      <td>There are n dormitories in Berland State Unive...</td>\n",
       "      <td>[{'solution_id': '1180_0', 'solution_code': 'n...</td>\n",
       "      <td>CODEFORCES</td>\n",
       "      <td>{'time_limit': {'seconds': 4, 'nanos': 0}, 'me...</td>\n",
       "      <td>{'cf_contest_id': 978, 'cf_index': 'C', 'cf_po...</td>\n",
       "      <td>{'public_tests': [{'input': '2 3\n",
       "5 10000000000...</td>\n",
       "      <td>0.788366</td>\n",
       "      <td>{'dataclass_code': 'import sys\n",
       "import time\n",
       "imp...</td>\n",
       "      <td>{'time_complexity_fail_rate': 0.03296703296703...</td>\n",
       "      <td>[21.880175, 119.70459, 25.820738, -4.585031, 1...</td>\n",
       "      <td>[binary search, implementation, two pointers]</td>\n",
       "      <td>binary search</td>\n",
       "    </tr>\n",
       "    <tr>\n",
       "      <th>52</th>\n",
       "      <td>2523</td>\n",
       "      <td>474_B. Worms</td>\n",
       "      <td>It is lunch time for Mole. His friend, Marmot,...</td>\n",
       "      <td>[{'solution_id': '2523_0', 'solution_code': 'f...</td>\n",
       "      <td>CODEFORCES</td>\n",
       "      <td>{'time_limit': {'seconds': 1, 'nanos': 0}, 'me...</td>\n",
       "      <td>{'cf_contest_id': 474, 'cf_index': 'B', 'cf_po...</td>\n",
       "      <td>{'public_tests': [{'input': '5\n",
       "2 7 3 4 9\n",
       "3\n",
       "1 2...</td>\n",
       "      <td>0.784000</td>\n",
       "      <td>{'dataclass_code': 'import sys\n",
       "import time\n",
       "imp...</td>\n",
       "      <td>{'time_complexity_fail_rate': 0.03790087463556...</td>\n",
       "      <td>[0.5992947, 89.092026, 49.13835, 17.589685, 88...</td>\n",
       "      <td>[binary search, implementation]</td>\n",
       "      <td>binary search</td>\n",
       "    </tr>\n",
       "    <tr>\n",
       "      <th>53</th>\n",
       "      <td>1202</td>\n",
       "      <td>888_C. K-Dominant Character</td>\n",
       "      <td>You are given a string s consisting of lowerca...</td>\n",
       "      <td>[{'solution_id': '1202_0', 'solution_code': 'w...</td>\n",
       "      <td>CODEFORCES</td>\n",
       "      <td>{'time_limit': {'seconds': 2, 'nanos': 0}, 'me...</td>\n",
       "      <td>{'cf_contest_id': 888, 'cf_index': 'C', 'cf_po...</td>\n",
       "      <td>{'public_tests': [{'input': 'zzzzz\n",
       "', 'output'...</td>\n",
       "      <td>0.501618</td>\n",
       "      <td>{'dataclass_code': 'import sys\n",
       "import time\n",
       "imp...</td>\n",
       "      <td>{'time_complexity_fail_rate': 0.03225806451612...</td>\n",
       "      <td>[-3.765777, 17.48985, -9.36092, 9.320009, 25.9...</td>\n",
       "      <td>[binary search, implementation, two pointers]</td>\n",
       "      <td>binary search</td>\n",
       "    </tr>\n",
       "    <tr>\n",
       "      <th>54</th>\n",
       "      <td>2563</td>\n",
       "      <td>985_D. Sand Fortress</td>\n",
       "      <td>You are going to the beach with the idea to bu...</td>\n",
       "      <td>[{'solution_id': '2563_0', 'solution_code': 'f...</td>\n",
       "      <td>CODEFORCES</td>\n",
       "      <td>{'time_limit': {'seconds': 2, 'nanos': 0}, 'me...</td>\n",
       "      <td>{'cf_contest_id': 985, 'cf_index': 'D', 'cf_po...</td>\n",
       "      <td>{'public_tests': [{'input': '5 2\n",
       "', 'output': ...</td>\n",
       "      <td>0.373457</td>\n",
       "      <td>{'dataclass_code': 'import sys\n",
       "import time\n",
       "imp...</td>\n",
       "      <td>{'time_complexity_fail_rate': 0.16528925619834...</td>\n",
       "      <td>[22.506649, 148.91652, 12.109324, 10.276401, 1...</td>\n",
       "      <td>[binary search, constructive algorithms, math]</td>\n",
       "      <td>binary search</td>\n",
       "    </tr>\n",
       "    <tr>\n",
       "      <th>55</th>\n",
       "      <td>1490</td>\n",
       "      <td>758_C. Unfair Poll</td>\n",
       "      <td>On the Literature lesson Sergei noticed an awf...</td>\n",
       "      <td>[{'solution_id': '1490_0', 'solution_code': 'i...</td>\n",
       "      <td>CODEFORCES</td>\n",
       "      <td>{'time_limit': {'seconds': 1, 'nanos': 0}, 'me...</td>\n",
       "      <td>{'cf_contest_id': 758, 'cf_index': 'C', 'cf_po...</td>\n",
       "      <td>{'public_tests': [{'input': '100 100 100000000...</td>\n",
       "      <td>0.287611</td>\n",
       "      <td>{'dataclass_code': 'import sys\n",
       "import time\n",
       "imp...</td>\n",
       "      <td>{'time_complexity_fail_rate': 0.12307692307692...</td>\n",
       "      <td>[60.47404, 175.53792, 38.9505, -9.37608, 135.5...</td>\n",
       "      <td>[binary search, constructive algorithms, imple...</td>\n",
       "      <td>binary search</td>\n",
       "    </tr>\n",
       "    <tr>\n",
       "      <th>56</th>\n",
       "      <td>2765</td>\n",
       "      <td>1462_E1. Close Tuples (easy version)</td>\n",
       "      <td>This is the easy version of this problem. The ...</td>\n",
       "      <td>[{'solution_id': '2765_0', 'solution_code': ' ...</td>\n",
       "      <td>CODEFORCES</td>\n",
       "      <td>{'time_limit': {'seconds': 2, 'nanos': 0}, 'me...</td>\n",
       "      <td>{'cf_contest_id': 1462, 'cf_index': 'E1', 'cf_...</td>\n",
       "      <td>{'public_tests': [{'input': '4\n",
       "4\n",
       "1 2 4 3\n",
       "4\n",
       "1 1...</td>\n",
       "      <td>0.492386</td>\n",
       "      <td>{'dataclass_code': 'import sys\n",
       "import time\n",
       "imp...</td>\n",
       "      <td>{'time_complexity_fail_rate': 0.09278350515463...</td>\n",
       "      <td>[-15.851702, 78.58752, 15.078365, 24.805166, 1...</td>\n",
       "      <td>[binary search, combinatorics, math, sortings,...</td>\n",
       "      <td>binary search</td>\n",
       "    </tr>\n",
       "    <tr>\n",
       "      <th>57</th>\n",
       "      <td>2264</td>\n",
       "      <td>1408_C. Discrete Acceleration</td>\n",
       "      <td>There is a road with length l meters. The star...</td>\n",
       "      <td>[{'solution_id': '2264_0', 'solution_code': 'f...</td>\n",
       "      <td>CODEFORCES</td>\n",
       "      <td>{'time_limit': {'seconds': 3, 'nanos': 0}, 'me...</td>\n",
       "      <td>{'cf_contest_id': 1408, 'cf_index': 'C', 'cf_p...</td>\n",
       "      <td>{'public_tests': [{'input': '5\n",
       "2 10\n",
       "1 9\n",
       "1 10\n",
       "1...</td>\n",
       "      <td>0.787879</td>\n",
       "      <td>{'dataclass_code': 'import sys\n",
       "import time\n",
       "imp...</td>\n",
       "      <td>{'time_complexity_fail_rate': 1.0, 'space_comp...</td>\n",
       "      <td>[-3.130425, 159.3969, 25.445274, 12.58785, 141...</td>\n",
       "      <td>[binary search, dp, implementation, math, two ...</td>\n",
       "      <td>binary search</td>\n",
       "    </tr>\n",
       "    <tr>\n",
       "      <th>58</th>\n",
       "      <td>1908</td>\n",
       "      <td>937_C. Save Energy!</td>\n",
       "      <td>Julia is going to cook a chicken in the kitche...</td>\n",
       "      <td>[{'solution_id': '1908_0', 'solution_code': 'k...</td>\n",
       "      <td>CODEFORCES</td>\n",
       "      <td>{'time_limit': {'seconds': 1, 'nanos': 0}, 'me...</td>\n",
       "      <td>{'cf_contest_id': 937, 'cf_index': 'C', 'cf_po...</td>\n",
       "      <td>{'public_tests': [{'input': '4 2 20\n",
       "', 'output...</td>\n",
       "      <td>0.550000</td>\n",
       "      <td>{'dataclass_code': 'import sys\n",
       "import time\n",
       "imp...</td>\n",
       "      <td>{'time_complexity_fail_rate': 0.18181818181818...</td>\n",
       "      <td>[5.435561, 46.221672, 9.862725, 3.1813073, 100...</td>\n",
       "      <td>[binary search, implementation, math]</td>\n",
       "      <td>binary search</td>\n",
       "    </tr>\n",
       "    <tr>\n",
       "      <th>59</th>\n",
       "      <td>1359</td>\n",
       "      <td>1436_C. Binary Search</td>\n",
       "      <td>Andrey thinks he is truly a successful develop...</td>\n",
       "      <td>[{'solution_id': '1359_0', 'solution_code': 'f...</td>\n",
       "      <td>CODEFORCES</td>\n",
       "      <td>{'time_limit': {'seconds': 1, 'nanos': 0}, 'me...</td>\n",
       "      <td>{'cf_contest_id': 1436, 'cf_index': 'C', 'cf_p...</td>\n",
       "      <td>{'public_tests': [{'input': '4 1 2\n",
       "', 'output'...</td>\n",
       "      <td>0.615866</td>\n",
       "      <td>{'dataclass_code': 'import sys\n",
       "import time\n",
       "imp...</td>\n",
       "      <td>{'time_complexity_fail_rate': 0.27118644067796...</td>\n",
       "      <td>[-22.306099, 64.83789, 10.228643, 26.473923, 7...</td>\n",
       "      <td>[binary search, combinatorics]</td>\n",
       "      <td>binary search</td>\n",
       "    </tr>\n",
       "  </tbody>\n",
       "</table>\n",
       "</div>"
      ],
      "text/plain": [
       "   problem_id                                   problem_name  \\\n",
       "0        1356                          1167_D. Bicolored RBS   \n",
       "1        2822             276_D. Little Girl and Maximum XOR   \n",
       "2        2989                       1515_A. Phoenix and Gold   \n",
       "3        2545                            1416_C. XOR Inverse   \n",
       "4        1960               1311_A. Add Odd or Subtract Even   \n",
       "5        2454                            955_A. Feed the cat   \n",
       "6        2242                      758_D. Ability To Convert   \n",
       "7         476                1442_B. Identify the Operations   \n",
       "8        2280                        1286_B. Numbers on Tree   \n",
       "9         396                    1008_B. Turn the Rectangles   \n",
       "10        890                    1442_A. Extreme Subtraction   \n",
       "11       2016                        322_A. Ciel and Dancing   \n",
       "12       2794                       1265_A. Beautiful String   \n",
       "13       2010                             1201_B. Zero Array   \n",
       "14       1453                                1197_B. Pillars   \n",
       "15       2889                      1150_A. Stock Arbitraging   \n",
       "16       1028                                    58_B. Coins   \n",
       "17       1493                               946_A. Partition   \n",
       "18       2939          1399_D. Binary String To Subsequences   \n",
       "19       2156                       1320_A. Journey Planning   \n",
       "20       2902                               3_C. Tic-tac-toe   \n",
       "21        118                             217_A. Ice Skating   \n",
       "22        775                      761_C. Dasha and Password   \n",
       "23        795                   1430_A. Number of Apartments   \n",
       "24        312                          987_C. Three displays   \n",
       "25        814    1091_A. New Year and the Christmas Ornament   \n",
       "26       1009                       1033_C. Permutation Game   \n",
       "27       1907                        846_A. Curriculum Vitae   \n",
       "28       2489                   1244_B. Rooms and Staircases   \n",
       "29        671                     505_A. Mr. Kitayuta's Gift   \n",
       "30        876                          911_C. Three Garlands   \n",
       "31       1708            1097_B. Petr and a Combination Lock   \n",
       "32       2991          400_B. Inna and New Matrix of Candies   \n",
       "33       3067                           1491_B. Minimal Cost   \n",
       "34       2853                           841_A. Generous Kefa   \n",
       "35       2913  1088_A. Ehab and another construction problem   \n",
       "36         72                                4_A. Watermelon   \n",
       "37       1624                           1285_C. Fadi and LCM   \n",
       "38       1717                                   300_A. Array   \n",
       "39       1756                       155_A. I_love_%username%   \n",
       "40       1030                       706_B. Interesting drink   \n",
       "41         27                        1538_C. Number of Pairs   \n",
       "42        774                       670_D2. Magic Powder - 2   \n",
       "43       1116                        676_C. Vasya and String   \n",
       "44        643                     701_C. They Are Everywhere   \n",
       "45        967                          68_B. Energy exchange   \n",
       "46        436                                468_C. Hack it!   \n",
       "47       1875            204_A. Little Elephant and Interval   \n",
       "48        144                      1417_C. k-Amazing Numbers   \n",
       "49        508                    165_B. Burning Midnight Oil   \n",
       "50       1732                              1238_D. AB-string   \n",
       "51       1180                                 978_C. Letters   \n",
       "52       2523                                   474_B. Worms   \n",
       "53       1202                    888_C. K-Dominant Character   \n",
       "54       2563                           985_D. Sand Fortress   \n",
       "55       1490                             758_C. Unfair Poll   \n",
       "56       2765           1462_E1. Close Tuples (easy version)   \n",
       "57       2264                  1408_C. Discrete Acceleration   \n",
       "58       1908                            937_C. Save Energy!   \n",
       "59       1359                          1436_C. Binary Search   \n",
       "\n",
       "                                          description  \\\n",
       "0   A string is called bracket sequence if it does...   \n",
       "1   A little girl loves problems on bitwise operat...   \n",
       "2   Phoenix has collected n pieces of gold, and he...   \n",
       "3   You are given an array a consisting of n non-n...   \n",
       "4   You are given two positive integers a and b.\\n...   \n",
       "5   After waking up at hh:mm, Andrew realised that...   \n",
       "6   Alexander is learning how to convert numbers f...   \n",
       "7   We start with a permutation a_1, a_2, …, a_n a...   \n",
       "8   Evlampiy was gifted a rooted tree. The vertice...   \n",
       "9   There are n rectangles in a row. You can eithe...   \n",
       "10  You are given an array a of n positive integer...   \n",
       "11  Fox Ciel and her friends are in a dancing room...   \n",
       "12  A string is called beautiful if no two consecu...   \n",
       "13  You are given an array a_1, a_2, …, a_n.\\n\\nIn...   \n",
       "14  There are n pillars aligned in a row and numbe...   \n",
       "15  Welcome to Codeforces Stock Exchange! We're pr...   \n",
       "16  In Berland a money reform is being prepared. N...   \n",
       "17  You are given a sequence a consisting of n int...   \n",
       "18  You are given a binary string s consisting of ...   \n",
       "19  Tanya wants to go on a journey across the citi...   \n",
       "20  Certainly, everyone is familiar with tic-tac-t...   \n",
       "21  Bajtek is learning to skate on ice. He's a beg...   \n",
       "22  After overcoming the stairs Dasha came to clas...   \n",
       "23  Recently a new building with a new layout was ...   \n",
       "24  It is the middle of 2018 and Maria Stepanovna,...   \n",
       "25  Alice and Bob are decorating a Christmas Tree....   \n",
       "26  After a long day, Alice and Bob decided to pla...   \n",
       "27  Hideo Kojima has just quit his job at Konami. ...   \n",
       "28  Nikolay lives in a two-storied house. There ar...   \n",
       "29  Mr. Kitayuta has kindly given you a string s c...   \n",
       "30  Mishka is decorating the Christmas tree. He ha...   \n",
       "31  Petr has just bought a new car. He's just arri...   \n",
       "32  Inna likes sweets and a game called the \"Candy...   \n",
       "33  There is a graph of n rows and 10^6 + 2 column...   \n",
       "34  One day Kefa found n baloons. For convenience,...   \n",
       "35  Given an integer x, find 2 integers a and b su...   \n",
       "36  One hot summer day Pete and his friend Billy d...   \n",
       "37  Today, Osama gave Fadi an integer X, and Fadi ...   \n",
       "38  Vitaly has an array of n distinct integers. Vi...   \n",
       "39  Vasya adores sport programming. He can't write...   \n",
       "40  Vasiliy likes to rest after a hard work, so yo...   \n",
       "41  You are given an array a of n integers. Find t...   \n",
       "42  The term of this problem is the same as the pr...   \n",
       "43  High school student Vasya got a string of leng...   \n",
       "44  Sergei B., the young coach of Pokemons, has fo...   \n",
       "45  It is well known that the planet suffers from ...   \n",
       "46  Little X has met the following problem recentl...   \n",
       "47  The Little Elephant very much loves sums on in...   \n",
       "48  You are given an array a consisting of n integ...   \n",
       "49  One day a highly important task was commission...   \n",
       "50  The string t_1t_2 ... t_k is good if each lett...   \n",
       "51  There are n dormitories in Berland State Unive...   \n",
       "52  It is lunch time for Mole. His friend, Marmot,...   \n",
       "53  You are given a string s consisting of lowerca...   \n",
       "54  You are going to the beach with the idea to bu...   \n",
       "55  On the Literature lesson Sergei noticed an awf...   \n",
       "56  This is the easy version of this problem. The ...   \n",
       "57  There is a road with length l meters. The star...   \n",
       "58  Julia is going to cook a chicken in the kitche...   \n",
       "59  Andrey thinks he is truly a successful develop...   \n",
       "\n",
       "                                correct_solution_list data_source  \\\n",
       "0   [{'solution_id': '1356_0', 'solution_code': '#...  CODEFORCES   \n",
       "1   [{'solution_id': '2822_0', 'solution_code': 'd...  CODEFORCES   \n",
       "2   [{'solution_id': '2989_0', 'solution_code': 'i...  CODEFORCES   \n",
       "3   [{'solution_id': '2545_0', 'solution_code': 'n...  CODEFORCES   \n",
       "4   [{'solution_id': '1960_0', 'solution_code': 'f...  CODEFORCES   \n",
       "5   [{'solution_id': '2454_0', 'solution_code': 'h...  CODEFORCES   \n",
       "6   [{'solution_id': '2242_0', 'solution_code': 'n...  CODEFORCES   \n",
       "7   [{'solution_id': '476_0', 'solution_code': 'mx...  CODEFORCES   \n",
       "8   [{'solution_id': '2280_0', 'solution_code': 'i...  CODEFORCES   \n",
       "9   [{'solution_id': '396_0', 'solution_code': 'n=...  CODEFORCES   \n",
       "10  [{'solution_id': '890_0', 'solution_code': 't ...  CODEFORCES   \n",
       "11  [{'solution_id': '2016_0', 'solution_code': 'n...  CODEFORCES   \n",
       "12  [{'solution_id': '2794_0', 'solution_code': 'd...  CODEFORCES   \n",
       "13  [{'solution_id': '2010_0', 'solution_code': 'n...  CODEFORCES   \n",
       "14  [{'solution_id': '1453_0', 'solution_code': 'n...  CODEFORCES   \n",
       "15  [{'solution_id': '2889_0', 'solution_code': 'a...  CODEFORCES   \n",
       "16  [{'solution_id': '1028_0', 'solution_code': 'd...  CODEFORCES   \n",
       "17  [{'solution_id': '1493_0', 'solution_code': 'n...  CODEFORCES   \n",
       "18  [{'solution_id': '2939_0', 'solution_code': 't...  CODEFORCES   \n",
       "19  [{'solution_id': '2156_0', 'solution_code': 'n...  CODEFORCES   \n",
       "20  [{'solution_id': '2902_0', 'solution_code': 'f...  CODEFORCES   \n",
       "21  [{'solution_id': '118_0', 'solution_code': 'n ...  CODEFORCES   \n",
       "22  [{'solution_id': '775_0', 'solution_code': 'n,...  CODEFORCES   \n",
       "23  [{'solution_id': '795_0', 'solution_code': 'fo...  CODEFORCES   \n",
       "24  [{'solution_id': '312_0', 'solution_code': 'mo...  CODEFORCES   \n",
       "25  [{'solution_id': '814_0', 'solution_code': 'y,...  CODEFORCES   \n",
       "26  [{'solution_id': '1009_0', 'solution_code': 'i...  CODEFORCES   \n",
       "27  [{'solution_id': '1907_0', 'solution_code': 'd...  CODEFORCES   \n",
       "28  [{'solution_id': '2489_0', 'solution_code': 'd...  CODEFORCES   \n",
       "29  [{'solution_id': '671_0', 'solution_code': '# ...  CODEFORCES   \n",
       "30  [{'solution_id': '876_0', 'solution_code': 'k1...  CODEFORCES   \n",
       "31  [{'solution_id': '1708_0', 'solution_code': 'n...  CODEFORCES   \n",
       "32  [{'solution_id': '2991_0', 'solution_code': 'n...  CODEFORCES   \n",
       "33  [{'solution_id': '3067_0', 'solution_code': '\n",
       "...  CODEFORCES   \n",
       "34  [{'solution_id': '2853_0', 'solution_code': '\n",
       "...  CODEFORCES   \n",
       "35  [{'solution_id': '2913_0', 'solution_code': '\n",
       "...  CODEFORCES   \n",
       "36  [{'solution_id': '72_0', 'solution_code': 'x=i...  CODEFORCES   \n",
       "37  [{'solution_id': '1624_0', 'solution_code': 'd...  CODEFORCES   \n",
       "38  [{'solution_id': '1717_0', 'solution_code': 'n...  CODEFORCES   \n",
       "39  [{'solution_id': '1756_0', 'solution_code': 'n...  CODEFORCES   \n",
       "40  [{'solution_id': '1030_0', 'solution_code': 'd...  CODEFORCES   \n",
       "41  [{'solution_id': '27_0', 'solution_code': '# A...  CODEFORCES   \n",
       "42  [{'solution_id': '774_0', 'solution_code': 'n,...  CODEFORCES   \n",
       "43  [{'solution_id': '1116_0', 'solution_code': '\n",
       "...  CODEFORCES   \n",
       "44  [{'solution_id': '643_0', 'solution_code': 'n ...  CODEFORCES   \n",
       "45  [{'solution_id': '967_0', 'solution_code': 'de...  CODEFORCES   \n",
       "46  [{'solution_id': '436_0', 'solution_code': 'A ...  CODEFORCES   \n",
       "47  [{'solution_id': '1875_0', 'solution_code': 'd...  CODEFORCES   \n",
       "48  [{'solution_id': '144_0', 'solution_code': 'im...  CODEFORCES   \n",
       "49  [{'solution_id': '508_0', 'solution_code': '\"\"...  CODEFORCES   \n",
       "50  [{'solution_id': '1732_0', 'solution_code': 'f...  CODEFORCES   \n",
       "51  [{'solution_id': '1180_0', 'solution_code': 'n...  CODEFORCES   \n",
       "52  [{'solution_id': '2523_0', 'solution_code': 'f...  CODEFORCES   \n",
       "53  [{'solution_id': '1202_0', 'solution_code': 'w...  CODEFORCES   \n",
       "54  [{'solution_id': '2563_0', 'solution_code': 'f...  CODEFORCES   \n",
       "55  [{'solution_id': '1490_0', 'solution_code': 'i...  CODEFORCES   \n",
       "56  [{'solution_id': '2765_0', 'solution_code': ' ...  CODEFORCES   \n",
       "57  [{'solution_id': '2264_0', 'solution_code': 'f...  CODEFORCES   \n",
       "58  [{'solution_id': '1908_0', 'solution_code': 'k...  CODEFORCES   \n",
       "59  [{'solution_id': '1359_0', 'solution_code': 'f...  CODEFORCES   \n",
       "\n",
       "                               source_specific_limits  \\\n",
       "0   {'time_limit': {'seconds': 2, 'nanos': 0}, 'me...   \n",
       "1   {'time_limit': {'seconds': 1, 'nanos': 0}, 'me...   \n",
       "2   {'time_limit': {'seconds': 2, 'nanos': 0}, 'me...   \n",
       "3   {'time_limit': {'seconds': 2, 'nanos': 0}, 'me...   \n",
       "4   {'time_limit': {'seconds': 2, 'nanos': 0}, 'me...   \n",
       "5   {'time_limit': {'seconds': 1, 'nanos': 0}, 'me...   \n",
       "6   {'time_limit': {'seconds': 1, 'nanos': 0}, 'me...   \n",
       "7   {'time_limit': {'seconds': 2, 'nanos': 0}, 'me...   \n",
       "8   {'time_limit': {'seconds': 1, 'nanos': 0}, 'me...   \n",
       "9   {'time_limit': {'seconds': 2, 'nanos': 0}, 'me...   \n",
       "10  {'time_limit': {'seconds': 2, 'nanos': 0}, 'me...   \n",
       "11  {'time_limit': {'seconds': 1, 'nanos': 0}, 'me...   \n",
       "12  {'time_limit': {'seconds': 1, 'nanos': 0}, 'me...   \n",
       "13  {'time_limit': {'seconds': 1, 'nanos': 0}, 'me...   \n",
       "14  {'time_limit': {'seconds': 1, 'nanos': 5000000...   \n",
       "15  {'time_limit': {'seconds': 1, 'nanos': 0}, 'me...   \n",
       "16  {'time_limit': {'seconds': 2, 'nanos': 0}, 'me...   \n",
       "17  {'time_limit': {'seconds': 1, 'nanos': 0}, 'me...   \n",
       "18  {'time_limit': {'seconds': 2, 'nanos': 0}, 'me...   \n",
       "19  {'time_limit': {'seconds': 2, 'nanos': 0}, 'me...   \n",
       "20  {'time_limit': {'seconds': 1, 'nanos': 0}, 'me...   \n",
       "21  {'time_limit': {'seconds': 2, 'nanos': 0}, 'me...   \n",
       "22  {'time_limit': {'seconds': 2, 'nanos': 0}, 'me...   \n",
       "23  {'time_limit': {'seconds': 1, 'nanos': 0}, 'me...   \n",
       "24  {'time_limit': {'seconds': 1, 'nanos': 0}, 'me...   \n",
       "25  {'time_limit': {'seconds': 1, 'nanos': 0}, 'me...   \n",
       "26  {'time_limit': {'seconds': 1, 'nanos': 0}, 'me...   \n",
       "27  {'time_limit': {'seconds': 1, 'nanos': 0}, 'me...   \n",
       "28  {'time_limit': {'seconds': 1, 'nanos': 0}, 'me...   \n",
       "29  {'time_limit': {'seconds': 1, 'nanos': 0}, 'me...   \n",
       "30  {'time_limit': {'seconds': 2, 'nanos': 0}, 'me...   \n",
       "31  {'time_limit': {'seconds': 1, 'nanos': 0}, 'me...   \n",
       "32  {'time_limit': {'seconds': 1, 'nanos': 0}, 'me...   \n",
       "33  {'time_limit': {'seconds': 2, 'nanos': 0}, 'me...   \n",
       "34  {'time_limit': {'seconds': 2, 'nanos': 0}, 'me...   \n",
       "35  {'time_limit': {'seconds': 1, 'nanos': 0}, 'me...   \n",
       "36  {'time_limit': {'seconds': 1, 'nanos': 0}, 'me...   \n",
       "37  {'time_limit': {'seconds': 1, 'nanos': 0}, 'me...   \n",
       "38  {'time_limit': {'seconds': 2, 'nanos': 0}, 'me...   \n",
       "39  {'time_limit': {'seconds': 2, 'nanos': 0}, 'me...   \n",
       "40  {'time_limit': {'seconds': 2, 'nanos': 0}, 'me...   \n",
       "41  {'time_limit': {'seconds': 2, 'nanos': 0}, 'me...   \n",
       "42  {'time_limit': {'seconds': 1, 'nanos': 0}, 'me...   \n",
       "43  {'time_limit': {'seconds': 1, 'nanos': 0}, 'me...   \n",
       "44  {'time_limit': {'seconds': 2, 'nanos': 0}, 'me...   \n",
       "45  {'time_limit': {'seconds': 2, 'nanos': 0}, 'me...   \n",
       "46  {'time_limit': {'seconds': 1, 'nanos': 0}, 'me...   \n",
       "47  {'time_limit': {'seconds': 2, 'nanos': 0}, 'me...   \n",
       "48  {'time_limit': {'seconds': 1, 'nanos': 0}, 'me...   \n",
       "49  {'time_limit': {'seconds': 2, 'nanos': 0}, 'me...   \n",
       "50  {'time_limit': {'seconds': 2, 'nanos': 0}, 'me...   \n",
       "51  {'time_limit': {'seconds': 4, 'nanos': 0}, 'me...   \n",
       "52  {'time_limit': {'seconds': 1, 'nanos': 0}, 'me...   \n",
       "53  {'time_limit': {'seconds': 2, 'nanos': 0}, 'me...   \n",
       "54  {'time_limit': {'seconds': 2, 'nanos': 0}, 'me...   \n",
       "55  {'time_limit': {'seconds': 1, 'nanos': 0}, 'me...   \n",
       "56  {'time_limit': {'seconds': 2, 'nanos': 0}, 'me...   \n",
       "57  {'time_limit': {'seconds': 3, 'nanos': 0}, 'me...   \n",
       "58  {'time_limit': {'seconds': 1, 'nanos': 0}, 'me...   \n",
       "59  {'time_limit': {'seconds': 1, 'nanos': 0}, 'me...   \n",
       "\n",
       "                         codeforces_specific_metadata  \\\n",
       "0   {'cf_contest_id': 1167, 'cf_index': 'D', 'cf_p...   \n",
       "1   {'cf_contest_id': 276, 'cf_index': 'D', 'cf_po...   \n",
       "2   {'cf_contest_id': 1515, 'cf_index': 'A', 'cf_p...   \n",
       "3   {'cf_contest_id': 1416, 'cf_index': 'C', 'cf_p...   \n",
       "4   {'cf_contest_id': 1311, 'cf_index': 'A', 'cf_p...   \n",
       "5   {'cf_contest_id': 955, 'cf_index': 'A', 'cf_po...   \n",
       "6   {'cf_contest_id': 758, 'cf_index': 'D', 'cf_po...   \n",
       "7   {'cf_contest_id': 1442, 'cf_index': 'B', 'cf_p...   \n",
       "8   {'cf_contest_id': 1286, 'cf_index': 'B', 'cf_p...   \n",
       "9   {'cf_contest_id': 1008, 'cf_index': 'B', 'cf_p...   \n",
       "10  {'cf_contest_id': 1442, 'cf_index': 'A', 'cf_p...   \n",
       "11  {'cf_contest_id': 322, 'cf_index': 'A', 'cf_po...   \n",
       "12  {'cf_contest_id': 1265, 'cf_index': 'A', 'cf_p...   \n",
       "13  {'cf_contest_id': 1201, 'cf_index': 'B', 'cf_p...   \n",
       "14  {'cf_contest_id': 1197, 'cf_index': 'B', 'cf_p...   \n",
       "15  {'cf_contest_id': 1150, 'cf_index': 'A', 'cf_p...   \n",
       "16  {'cf_contest_id': 58, 'cf_index': 'B', 'cf_poi...   \n",
       "17  {'cf_contest_id': 946, 'cf_index': 'A', 'cf_po...   \n",
       "18  {'cf_contest_id': 1399, 'cf_index': 'D', 'cf_p...   \n",
       "19  {'cf_contest_id': 1320, 'cf_index': 'A', 'cf_p...   \n",
       "20  {'cf_contest_id': 3, 'cf_index': 'C', 'cf_poin...   \n",
       "21  {'cf_contest_id': 217, 'cf_index': 'A', 'cf_po...   \n",
       "22  {'cf_contest_id': 761, 'cf_index': 'C', 'cf_po...   \n",
       "23  {'cf_contest_id': 1430, 'cf_index': 'A', 'cf_p...   \n",
       "24  {'cf_contest_id': 987, 'cf_index': 'C', 'cf_po...   \n",
       "25  {'cf_contest_id': 1091, 'cf_index': 'A', 'cf_p...   \n",
       "26  {'cf_contest_id': 1033, 'cf_index': 'C', 'cf_p...   \n",
       "27  {'cf_contest_id': 846, 'cf_index': 'A', 'cf_po...   \n",
       "28  {'cf_contest_id': 1244, 'cf_index': 'B', 'cf_p...   \n",
       "29  {'cf_contest_id': 505, 'cf_index': 'A', 'cf_po...   \n",
       "30  {'cf_contest_id': 911, 'cf_index': 'C', 'cf_po...   \n",
       "31  {'cf_contest_id': 1097, 'cf_index': 'B', 'cf_p...   \n",
       "32  {'cf_contest_id': 400, 'cf_index': 'B', 'cf_po...   \n",
       "33  {'cf_contest_id': 1491, 'cf_index': 'B', 'cf_p...   \n",
       "34  {'cf_contest_id': 841, 'cf_index': 'A', 'cf_po...   \n",
       "35  {'cf_contest_id': 1088, 'cf_index': 'A', 'cf_p...   \n",
       "36  {'cf_contest_id': 4, 'cf_index': 'A', 'cf_poin...   \n",
       "37  {'cf_contest_id': 1285, 'cf_index': 'C', 'cf_p...   \n",
       "38  {'cf_contest_id': 300, 'cf_index': 'A', 'cf_po...   \n",
       "39  {'cf_contest_id': 155, 'cf_index': 'A', 'cf_po...   \n",
       "40  {'cf_contest_id': 706, 'cf_index': 'B', 'cf_po...   \n",
       "41  {'cf_contest_id': 1538, 'cf_index': 'C', 'cf_p...   \n",
       "42  {'cf_contest_id': 670, 'cf_index': 'D2', 'cf_p...   \n",
       "43  {'cf_contest_id': 676, 'cf_index': 'C', 'cf_po...   \n",
       "44  {'cf_contest_id': 701, 'cf_index': 'C', 'cf_po...   \n",
       "45  {'cf_contest_id': 68, 'cf_index': 'B', 'cf_poi...   \n",
       "46  {'cf_contest_id': 468, 'cf_index': 'C', 'cf_po...   \n",
       "47  {'cf_contest_id': 204, 'cf_index': 'A', 'cf_po...   \n",
       "48  {'cf_contest_id': 1417, 'cf_index': 'C', 'cf_p...   \n",
       "49  {'cf_contest_id': 165, 'cf_index': 'B', 'cf_po...   \n",
       "50  {'cf_contest_id': 1238, 'cf_index': 'D', 'cf_p...   \n",
       "51  {'cf_contest_id': 978, 'cf_index': 'C', 'cf_po...   \n",
       "52  {'cf_contest_id': 474, 'cf_index': 'B', 'cf_po...   \n",
       "53  {'cf_contest_id': 888, 'cf_index': 'C', 'cf_po...   \n",
       "54  {'cf_contest_id': 985, 'cf_index': 'D', 'cf_po...   \n",
       "55  {'cf_contest_id': 758, 'cf_index': 'C', 'cf_po...   \n",
       "56  {'cf_contest_id': 1462, 'cf_index': 'E1', 'cf_...   \n",
       "57  {'cf_contest_id': 1408, 'cf_index': 'C', 'cf_p...   \n",
       "58  {'cf_contest_id': 937, 'cf_index': 'C', 'cf_po...   \n",
       "59  {'cf_contest_id': 1436, 'cf_index': 'C', 'cf_p...   \n",
       "\n",
       "                                                tests  human_accuracy_rate  \\\n",
       "0   {'public_tests': [{'input': '2\n",
       "()\n",
       "', 'output':...             0.690355   \n",
       "1   {'public_tests': [{'input': '8 16\n",
       "', 'output':...             0.581081   \n",
       "2   {'public_tests': [{'input': '3\n",
       "3 2\n",
       "3 2 1\n",
       "5 3\n",
       "1...             0.500000   \n",
       "3   {'public_tests': [{'input': '3\n",
       "8 10 3\n",
       "', 'outp...             0.688312   \n",
       "4   {'public_tests': [{'input': '5\n",
       "2 3\n",
       "10 10\n",
       "2 4\n",
       "7...             0.644186   \n",
       "5   {'public_tests': [{'input': '19 00\n",
       "255 1 100 1...             0.584577   \n",
       "6   {'public_tests': [{'input': '16\n",
       "11311\n",
       "', 'outp...             0.448276   \n",
       "7   {'public_tests': [{'input': '3\n",
       "5 3\n",
       "1 2 3 4 5\n",
       "3...             0.739583   \n",
       "8   {'public_tests': [{'input': '3\n",
       "2 0\n",
       "0 2\n",
       "2 0\n",
       "', ...             0.333333   \n",
       "9   {'public_tests': [{'input': '3\n",
       "3 4\n",
       "4 6\n",
       "3 5\n",
       "', ...             0.691288   \n",
       "10  {'public_tests': [{'input': '4\n",
       "3\n",
       "1 2 1\n",
       "5\n",
       "11 7 ...             0.440860   \n",
       "11  {'public_tests': [{'input': '2 1\n",
       "', 'output': ...             0.567568   \n",
       "12  {'public_tests': [{'input': '3\n",
       "a???cb\n",
       "a??bbc\n",
       "a...             0.753906   \n",
       "13  {'public_tests': [{'input': '6\n",
       "1 2 3 4 5 6\n",
       "', ...             0.720461   \n",
       "14  {'public_tests': [{'input': '3\n",
       "3 1 2\n",
       "', 'outpu...             0.745985   \n",
       "15  {'public_tests': [{'input': '3 4 11\n",
       "4 2 5\n",
       "4 4 ...             0.828076   \n",
       "16  {'public_tests': [{'input': '3\n",
       "', 'output': '3...             0.593567   \n",
       "17  {'public_tests': [{'input': '3\n",
       "1 -2 0\n",
       "', 'outp...             0.856925   \n",
       "18  {'public_tests': [{'input': '4\n",
       "4\n",
       "0011\n",
       "6\n",
       "111111...             0.725352   \n",
       "19  {'public_tests': [{'input': '7\n",
       "8 9 26 11 12 29...             0.702229   \n",
       "20  {'public_tests': [{'input': 'X0X\n",
       ".0.\n",
       ".X.\n",
       "', 'o...             0.273279   \n",
       "21  {'public_tests': [{'input': '2\n",
       "2 1\n",
       "1 2\n",
       "', 'out...             0.620408   \n",
       "22  {'public_tests': [{'input': '3 4\n",
       "1**2\n",
       "a3*0\n",
       "c4*...             0.535714   \n",
       "23  {'public_tests': [{'input': '4\n",
       "30\n",
       "67\n",
       "4\n",
       "14\n",
       "', '...             0.813241   \n",
       "24  {'public_tests': [{'input': '3\n",
       "100 101 100\n",
       "2 4...             0.577206   \n",
       "25  {'public_tests': [{'input': '8 13 9\n",
       "', 'output...             0.813241   \n",
       "26  {'public_tests': [{'input': '15\n",
       "3 11 2 5 10 9 ...             0.631579   \n",
       "27  {'public_tests': [{'input': '6\n",
       "0 1 0 0 1 0\n",
       "', ...             0.385159   \n",
       "28  {'public_tests': [{'input': '4\n",
       "5\n",
       "00100\n",
       "8\n",
       "00000...             0.723430   \n",
       "29  {'public_tests': [{'input': 'ee\n",
       "', 'output': '...             0.492462   \n",
       "30  {'public_tests': [{'input': '2 2 3\n",
       "', 'output'...             0.544444   \n",
       "31  {'public_tests': [{'input': '3\n",
       "10\n",
       "10\n",
       "10\n",
       "', 'ou...             0.757842   \n",
       "32  {'public_tests': [{'input': '3 4\n",
       "*G*S\n",
       "G**S\n",
       "*G*...             0.505556   \n",
       "33  {'public_tests': [{'input': '3\n",
       "2 3 4\n",
       "2 2\n",
       "2 3 4...             0.497487   \n",
       "34  {'public_tests': [{'input': '6 3\n",
       "aacaab\n",
       "', 'ou...             0.743440   \n",
       "35  {'public_tests': [{'input': '1\n",
       "', 'output': '-...             0.780488   \n",
       "36  {'public_tests': [{'input': '8\n",
       "', 'output': 'Y...             1.000000   \n",
       "37  {'public_tests': [{'input': '1\n",
       "', 'output': '1...             0.751282   \n",
       "38  {'public_tests': [{'input': '4\n",
       "-1 -2 -3 0\n",
       "', '...             0.700168   \n",
       "39  {'public_tests': [{'input': '10\n",
       "4664 6496 5814...             0.916991   \n",
       "40  {'public_tests': [{'input': '5\n",
       "3 10 8 6 11\n",
       "4\n",
       "1...             0.827862   \n",
       "41  {'public_tests': [{'input': '4\n",
       "3 4 7\n",
       "5 1 2\n",
       "5 5...             0.494949   \n",
       "42  {'public_tests': [{'input': '1 1000000000\n",
       "1\n",
       "10...             0.481081   \n",
       "43  {'public_tests': [{'input': '8 1\n",
       "aabaabaa\n",
       "', '...             0.582339   \n",
       "44  {'public_tests': [{'input': '6\n",
       "aaBCCe\n",
       "', 'outp...             0.431655   \n",
       "45  {'public_tests': [{'input': '2 90\n",
       "1 11\n",
       "', 'out...             0.770270   \n",
       "46  {'public_tests': [{'input': '46\n",
       "', 'output': '...             0.496063   \n",
       "47  {'public_tests': [{'input': '47 1024\n",
       "', 'outpu...             0.450980   \n",
       "48  {'public_tests': [{'input': '3\n",
       "5\n",
       "1 2 3 4 5\n",
       "5\n",
       "4...             0.553571   \n",
       "49  {'public_tests': [{'input': '7 2\n",
       "', 'output': ...             0.575581   \n",
       "50  {'public_tests': [{'input': '5\n",
       "AABBB\n",
       "', 'outpu...             0.601399   \n",
       "51  {'public_tests': [{'input': '2 3\n",
       "5 10000000000...             0.788366   \n",
       "52  {'public_tests': [{'input': '5\n",
       "2 7 3 4 9\n",
       "3\n",
       "1 2...             0.784000   \n",
       "53  {'public_tests': [{'input': 'zzzzz\n",
       "', 'output'...             0.501618   \n",
       "54  {'public_tests': [{'input': '5 2\n",
       "', 'output': ...             0.373457   \n",
       "55  {'public_tests': [{'input': '100 100 100000000...             0.287611   \n",
       "56  {'public_tests': [{'input': '4\n",
       "4\n",
       "1 2 4 3\n",
       "4\n",
       "1 1...             0.492386   \n",
       "57  {'public_tests': [{'input': '5\n",
       "2 10\n",
       "1 9\n",
       "1 10\n",
       "1...             0.787879   \n",
       "58  {'public_tests': [{'input': '4 2 20\n",
       "', 'output...             0.550000   \n",
       "59  {'public_tests': [{'input': '4 1 2\n",
       "', 'output'...             0.615866   \n",
       "\n",
       "                                            dataclass  \\\n",
       "0   {'dataclass_code': 'import sys\n",
       "import time\n",
       "imp...   \n",
       "1   {'dataclass_code': 'import sys\n",
       "import time\n",
       "imp...   \n",
       "2   {'dataclass_code': 'import sys\n",
       "import time\n",
       "imp...   \n",
       "3   {'dataclass_code': 'import sys\n",
       "import time\n",
       "imp...   \n",
       "4   {'dataclass_code': 'import sys\n",
       "import time\n",
       "imp...   \n",
       "5   {'dataclass_code': 'import sys\n",
       "import time\n",
       "imp...   \n",
       "6   {'dataclass_code': 'import sys\n",
       "import time\n",
       "imp...   \n",
       "7   {'dataclass_code': 'import sys\n",
       "import time\n",
       "imp...   \n",
       "8   {'dataclass_code': 'import sys\n",
       "import time\n",
       "imp...   \n",
       "9   {'dataclass_code': 'import sys\n",
       "import time\n",
       "imp...   \n",
       "10  {'dataclass_code': 'import sys\n",
       "import time\n",
       "imp...   \n",
       "11  {'dataclass_code': 'import sys\n",
       "import time\n",
       "imp...   \n",
       "12  {'dataclass_code': 'import sys\n",
       "import time\n",
       "imp...   \n",
       "13  {'dataclass_code': 'import sys\n",
       "import time\n",
       "imp...   \n",
       "14  {'dataclass_code': 'import sys\n",
       "import time\n",
       "imp...   \n",
       "15  {'dataclass_code': 'import sys\n",
       "import time\n",
       "imp...   \n",
       "16  {'dataclass_code': 'import sys\n",
       "import time\n",
       "imp...   \n",
       "17  {'dataclass_code': 'import sys\n",
       "import time\n",
       "imp...   \n",
       "18  {'dataclass_code': 'import sys\n",
       "import time\n",
       "imp...   \n",
       "19  {'dataclass_code': 'import sys\n",
       "import time\n",
       "imp...   \n",
       "20  {'dataclass_code': 'import sys\n",
       "import time\n",
       "imp...   \n",
       "21  {'dataclass_code': 'import sys\n",
       "import time\n",
       "imp...   \n",
       "22  {'dataclass_code': 'import sys\n",
       "import time\n",
       "imp...   \n",
       "23  {'dataclass_code': 'import sys\n",
       "import time\n",
       "imp...   \n",
       "24  {'dataclass_code': 'import sys\n",
       "import time\n",
       "imp...   \n",
       "25  {'dataclass_code': 'import sys\n",
       "import time\n",
       "imp...   \n",
       "26  {'dataclass_code': 'import sys\n",
       "import time\n",
       "imp...   \n",
       "27  {'dataclass_code': 'import sys\n",
       "import time\n",
       "imp...   \n",
       "28  {'dataclass_code': 'import sys\n",
       "import time\n",
       "imp...   \n",
       "29  {'dataclass_code': 'import sys\n",
       "import time\n",
       "imp...   \n",
       "30  {'dataclass_code': 'import sys\n",
       "import time\n",
       "imp...   \n",
       "31  {'dataclass_code': 'import sys\n",
       "import time\n",
       "imp...   \n",
       "32  {'dataclass_code': 'import sys\n",
       "import time\n",
       "imp...   \n",
       "33  {'dataclass_code': 'import sys\n",
       "import time\n",
       "imp...   \n",
       "34  {'dataclass_code': 'import sys\n",
       "import time\n",
       "imp...   \n",
       "35  {'dataclass_code': 'import sys\n",
       "import time\n",
       "imp...   \n",
       "36  {'dataclass_code': 'import sys\n",
       "import time\n",
       "imp...   \n",
       "37  {'dataclass_code': 'import sys\n",
       "import time\n",
       "imp...   \n",
       "38  {'dataclass_code': 'import sys\n",
       "import time\n",
       "imp...   \n",
       "39  {'dataclass_code': 'import sys\n",
       "import time\n",
       "imp...   \n",
       "40  {'dataclass_code': 'import sys\n",
       "import time\n",
       "imp...   \n",
       "41  {'dataclass_code': 'import sys\n",
       "import time\n",
       "imp...   \n",
       "42  {'dataclass_code': 'import sys\n",
       "import time\n",
       "imp...   \n",
       "43  {'dataclass_code': 'import sys\n",
       "import time\n",
       "imp...   \n",
       "44  {'dataclass_code': 'import sys\n",
       "import time\n",
       "imp...   \n",
       "45  {'dataclass_code': 'import sys\n",
       "import time\n",
       "imp...   \n",
       "46  {'dataclass_code': 'import sys\n",
       "import time\n",
       "imp...   \n",
       "47  {'dataclass_code': 'import sys\n",
       "import time\n",
       "imp...   \n",
       "48  {'dataclass_code': 'import sys\n",
       "import time\n",
       "imp...   \n",
       "49  {'dataclass_code': 'import sys\n",
       "import time\n",
       "imp...   \n",
       "50  {'dataclass_code': 'import sys\n",
       "import time\n",
       "imp...   \n",
       "51  {'dataclass_code': 'import sys\n",
       "import time\n",
       "imp...   \n",
       "52  {'dataclass_code': 'import sys\n",
       "import time\n",
       "imp...   \n",
       "53  {'dataclass_code': 'import sys\n",
       "import time\n",
       "imp...   \n",
       "54  {'dataclass_code': 'import sys\n",
       "import time\n",
       "imp...   \n",
       "55  {'dataclass_code': 'import sys\n",
       "import time\n",
       "imp...   \n",
       "56  {'dataclass_code': 'import sys\n",
       "import time\n",
       "imp...   \n",
       "57  {'dataclass_code': 'import sys\n",
       "import time\n",
       "imp...   \n",
       "58  {'dataclass_code': 'import sys\n",
       "import time\n",
       "imp...   \n",
       "59  {'dataclass_code': 'import sys\n",
       "import time\n",
       "imp...   \n",
       "\n",
       "                                 complexity_framework  \\\n",
       "0   {'time_complexity_fail_rate': 1.0, 'space_comp...   \n",
       "1   {'time_complexity_fail_rate': 0.84883720930232...   \n",
       "2   {'time_complexity_fail_rate': 1.0, 'space_comp...   \n",
       "3   {'time_complexity_fail_rate': 0.13207547169811...   \n",
       "4   {'time_complexity_fail_rate': 0.01805054151624...   \n",
       "5   {'time_complexity_fail_rate': 0.05106382978723...   \n",
       "6   {'time_complexity_fail_rate': 0.11538461538461...   \n",
       "7   {'time_complexity_fail_rate': 1.0, 'space_comp...   \n",
       "8   {'time_complexity_fail_rate': 0.62264150943396...   \n",
       "9   {'time_complexity_fail_rate': 0.23561643835616...   \n",
       "10  {'time_complexity_fail_rate': 0.08536585365853...   \n",
       "11  {'time_complexity_fail_rate': 0.02380952380952...   \n",
       "12  {'time_complexity_fail_rate': 0.94473229706390...   \n",
       "13  {'time_complexity_fail_rate': 0.062, 'space_co...   \n",
       "14  {'time_complexity_fail_rate': 0.16829745596868...   \n",
       "15  {'time_complexity_fail_rate': 0.04761904761904...   \n",
       "16  {'time_complexity_fail_rate': 0.37931034482758...   \n",
       "17  {'time_complexity_fail_rate': 0.01065719360568...   \n",
       "18  {'time_complexity_fail_rate': 0.07572815533980...   \n",
       "19  {'time_complexity_fail_rate': 0.05895691609977...   \n",
       "20  {'time_complexity_fail_rate': 0.11851851851851...   \n",
       "21  {'time_complexity_fail_rate': 0.08552631578947...   \n",
       "22  {'time_complexity_fail_rate': 0.08, 'space_com...   \n",
       "23  {'time_complexity_fail_rate': 0.04009720534629...   \n",
       "24  {'time_complexity_fail_rate': 0.07006369426751...   \n",
       "25  {'time_complexity_fail_rate': 0.03523693803159...   \n",
       "26  {'time_complexity_fail_rate': 0.25, 'space_com...   \n",
       "27  {'time_complexity_fail_rate': 0.01834862385321...   \n",
       "28  {'time_complexity_fail_rate': 1.0, 'space_comp...   \n",
       "29  {'time_complexity_fail_rate': 0.44897959183673...   \n",
       "30  {'time_complexity_fail_rate': 0.10204081632653...   \n",
       "31  {'time_complexity_fail_rate': 0.24503311258278...   \n",
       "32  {'time_complexity_fail_rate': 0.03296703296703...   \n",
       "33  {'time_complexity_fail_rate': 0.11111111111111...   \n",
       "34  {'time_complexity_fail_rate': 0.11176470588235...   \n",
       "35  {'time_complexity_fail_rate': 0.17857142857142...   \n",
       "36  {'time_complexity_fail_rate': 0.07551881512098...   \n",
       "37  {'time_complexity_fail_rate': 0.10409556313993...   \n",
       "38  {'time_complexity_fail_rate': 0.15550239234449...   \n",
       "39  {'time_complexity_fail_rate': 0.02923149457802...   \n",
       "40  {'time_complexity_fail_rate': 0.03771760154738...   \n",
       "41  {'time_complexity_fail_rate': 1.0, 'space_comp...   \n",
       "42  {'time_complexity_fail_rate': 0.07865168539325...   \n",
       "43  {'time_complexity_fail_rate': 0.08606557377049...   \n",
       "44  {'time_complexity_fail_rate': 0.075, 'space_co...   \n",
       "45  {'time_complexity_fail_rate': 0.08771929824561...   \n",
       "46  {'time_complexity_fail_rate': 0.12698412698412...   \n",
       "47  {'time_complexity_fail_rate': 0.04347826086956...   \n",
       "48  {'time_complexity_fail_rate': 0.23387096774193...   \n",
       "49  {'time_complexity_fail_rate': 0.06060606060606...   \n",
       "50  {'time_complexity_fail_rate': 0.09302325581395...   \n",
       "51  {'time_complexity_fail_rate': 0.03296703296703...   \n",
       "52  {'time_complexity_fail_rate': 0.03790087463556...   \n",
       "53  {'time_complexity_fail_rate': 0.03225806451612...   \n",
       "54  {'time_complexity_fail_rate': 0.16528925619834...   \n",
       "55  {'time_complexity_fail_rate': 0.12307692307692...   \n",
       "56  {'time_complexity_fail_rate': 0.09278350515463...   \n",
       "57  {'time_complexity_fail_rate': 1.0, 'space_comp...   \n",
       "58  {'time_complexity_fail_rate': 0.18181818181818...   \n",
       "59  {'time_complexity_fail_rate': 0.27118644067796...   \n",
       "\n",
       "                                   description_vector  \\\n",
       "0   [-4.0829473, 89.61917, 10.330913, 26.139729, 1...   \n",
       "1   [-2.0882452, 34.08194, 10.20857, 11.062459, 64...   \n",
       "2   [38.512028, 87.194534, 15.281353, 18.964302, 1...   \n",
       "3   [-1.4355078, 80.56184, 1.9877968, 30.703989, 9...   \n",
       "4   [14.694276, 63.40165, 9.389306, 5.422409, 75.3...   \n",
       "5   [18.31242, 77.77756, 19.792704, 7.910349, 103....   \n",
       "6   [-13.140537, 56.548748, 9.355681, 21.291874, 5...   \n",
       "7   [4.7408442, 260.1755, 1.2329619, 80.88562, 258...   \n",
       "8   [6.9596057, 77.4446, 4.722015, 3.9514258, 72.4...   \n",
       "9   [13.335894, 68.58638, 1.6191883, 5.1224146, 58...   \n",
       "10  [-0.04368052, 101.025276, 1.9462633, 34.243565...   \n",
       "11  [6.030157, 51.74154, 15.999461, -1.3720301, 57...   \n",
       "12  [3.4761891, 50.929695, -3.9532228, 20.017735, ...   \n",
       "13  [0.099799275, 49.474125, -6.455534, 12.469633,...   \n",
       "14  [50.18376, 126.53616, 17.932035, -36.64237, 13...   \n",
       "15  [37.994396, 64.9534, 14.290553, 4.7055387, 88....   \n",
       "16  [9.788605, 38.301685, 18.019913, 14.7619295, 5...   \n",
       "17  [-3.308428, 52.810566, 6.564758, 16.700443, 58...   \n",
       "18  [-9.4203415, 81.52036, 5.069079, 26.498432, 87...   \n",
       "19  [39.490456, 140.90285, 12.641981, 12.581278, 1...   \n",
       "20  [25.875843, 49.727417, 6.66279, -2.7339482, 27...   \n",
       "21  [5.9288287, 67.45659, 7.8010054, -16.869286, 6...   \n",
       "22  [9.2186775, 77.868355, -2.670055, 15.3327265, ...   \n",
       "23  [32.23987, 97.293724, 25.573982, -26.770346, 9...   \n",
       "24  [14.474285, 82.93817, 11.676455, 17.93702, 102...   \n",
       "25  [17.14053, 65.68271, 9.580868, 30.59659, 104.6...   \n",
       "26  [30.378065, 98.13815, 15.832504, -4.2135334, 1...   \n",
       "27  [-6.1481295, 50.282936, 15.300147, 8.449677, 6...   \n",
       "28  [73.77222, 171.05435, 61.166225, -104.84467, 1...   \n",
       "29  [-8.623139, 46.013382, -4.721415, 23.074055, 6...   \n",
       "30  [10.303901, 60.676056, 8.548971, 1.771037, 103...   \n",
       "31  [4.4255075, 73.328415, 11.220555, 15.295882, 8...   \n",
       "32  [31.726748, 78.82633, 11.194769, -13.495762, 5...   \n",
       "33  [38.17105, 167.65775, 31.55017, 13.642389, 147...   \n",
       "34  [2.146409, 47.40405, 14.833194, 1.1156507, 62....   \n",
       "35  [-3.1360977, 23.27932, 1.9301765, 2.6099672, 2...   \n",
       "36  [14.621577, 43.87179, 4.0382276, 1.3510296, 60...   \n",
       "37  [-12.516719, 33.90414, 2.8609743, 11.2335005, ...   \n",
       "38  [-5.811229, 79.637024, 8.184543, 13.593817, 59...   \n",
       "39  [11.94277, 29.365183, 15.055789, 17.66635, 76....   \n",
       "40  [22.423872, 68.19017, 24.96427, 1.7555906, 107...   \n",
       "41  [-9.121524, 81.43586, 12.642463, 29.15381, 94....   \n",
       "42  [-8.044024, 53.98693, 9.711312, 20.247486, 66....   \n",
       "43  [-6.2776213, 32.524456, -1.5458463, 19.189133,...   \n",
       "44  [12.134605, 101.79069, 10.755446, -22.814127, ...   \n",
       "45  [7.510128, 50.11896, 20.728498, 6.0386286, 77....   \n",
       "46  [-4.19274, 23.995558, 7.3073173, 9.482363, 47....   \n",
       "47  [-8.198902, 46.11664, 15.920277, 17.054342, 60...   \n",
       "48  [-8.151704, 69.8941, 2.7084439, 20.191149, 61....   \n",
       "49  [0.9282206, 40.21648, 11.335113, 3.8710413, 72...   \n",
       "50  [-17.483902, 50.61835, -26.031034, 43.70206, 7...   \n",
       "51  [21.880175, 119.70459, 25.820738, -4.585031, 1...   \n",
       "52  [0.5992947, 89.092026, 49.13835, 17.589685, 88...   \n",
       "53  [-3.765777, 17.48985, -9.36092, 9.320009, 25.9...   \n",
       "54  [22.506649, 148.91652, 12.109324, 10.276401, 1...   \n",
       "55  [60.47404, 175.53792, 38.9505, -9.37608, 135.5...   \n",
       "56  [-15.851702, 78.58752, 15.078365, 24.805166, 1...   \n",
       "57  [-3.130425, 159.3969, 25.445274, 12.58785, 141...   \n",
       "58  [5.435561, 46.221672, 9.862725, 3.1813073, 100...   \n",
       "59  [-22.306099, 64.83789, 10.228643, 26.473923, 7...   \n",
       "\n",
       "                                              cf_tags   selected_tag  \n",
       "0                   [constructive algorithms, greedy]         greedy  \n",
       "1        [bitmasks, dp, greedy, implementation, math]         greedy  \n",
       "2             [constructive algorithms, greedy, math]         greedy  \n",
       "3   [bitmasks, data structures, divide and conquer...         greedy  \n",
       "4                      [greedy, implementation, math]         greedy  \n",
       "5                                      [greedy, math]         greedy  \n",
       "6   [constructive algorithms, dp, greedy, math, st...         greedy  \n",
       "7   [combinatorics, data structures, dsu, greedy, ...         greedy  \n",
       "8   [constructive algorithms, data structures, dfs...         greedy  \n",
       "9                                  [greedy, sortings]         greedy  \n",
       "10              [constructive algorithms, dp, greedy]         greedy  \n",
       "11                                           [greedy]         greedy  \n",
       "12                  [constructive algorithms, greedy]         greedy  \n",
       "13                                     [greedy, math]         greedy  \n",
       "14                           [greedy, implementation]         greedy  \n",
       "15                           [greedy, implementation]         greedy  \n",
       "16                                           [greedy]         greedy  \n",
       "17                                           [greedy]         greedy  \n",
       "18  [constructive algorithms, data structures, gre...         greedy  \n",
       "19      [data structures, dp, greedy, math, sortings]         greedy  \n",
       "20               [brute force, games, implementation]    brute force  \n",
       "21        [brute force, dfs and similar, dsu, graphs]    brute force  \n",
       "22                  [brute force, dp, implementation]    brute force  \n",
       "23       [brute force, constructive algorithms, math]    brute force  \n",
       "24                  [brute force, dp, implementation]    brute force  \n",
       "25                [brute force, implementation, math]    brute force  \n",
       "26                           [brute force, dp, games]    brute force  \n",
       "27                      [brute force, implementation]    brute force  \n",
       "28                      [brute force, implementation]    brute force  \n",
       "29             [brute force, implementation, strings]    brute force  \n",
       "30             [brute force, constructive algorithms]    brute force  \n",
       "31                        [bitmasks, brute force, dp]    brute force  \n",
       "32           [brute force, implementation, schedules]    brute force  \n",
       "33                                [brute force, math]    brute force  \n",
       "34                      [brute force, implementation]    brute force  \n",
       "35             [brute force, constructive algorithms]    brute force  \n",
       "36                                [brute force, math]    brute force  \n",
       "37                 [brute force, math, number theory]    brute force  \n",
       "38  [brute force, constructive algorithms, impleme...    brute force  \n",
       "39                                      [brute force]    brute force  \n",
       "40                [binary search, dp, implementation]  binary search  \n",
       "41  [binary search, data structures, math, two poi...  binary search  \n",
       "42                    [binary search, implementation]  binary search  \n",
       "43         [binary search, dp, strings, two pointers]  binary search  \n",
       "44             [binary search, strings, two pointers]  binary search  \n",
       "45                                    [binary search]  binary search  \n",
       "46     [binary search, constructive algorithms, math]  binary search  \n",
       "47                 [binary search, combinatorics, dp]  binary search  \n",
       "48  [binary search, data structures, implementatio...  binary search  \n",
       "49                    [binary search, implementation]  binary search  \n",
       "50        [binary search, combinatorics, dp, strings]  binary search  \n",
       "51      [binary search, implementation, two pointers]  binary search  \n",
       "52                    [binary search, implementation]  binary search  \n",
       "53      [binary search, implementation, two pointers]  binary search  \n",
       "54     [binary search, constructive algorithms, math]  binary search  \n",
       "55  [binary search, constructive algorithms, imple...  binary search  \n",
       "56  [binary search, combinatorics, math, sortings,...  binary search  \n",
       "57  [binary search, dp, implementation, math, two ...  binary search  \n",
       "58              [binary search, implementation, math]  binary search  \n",
       "59                     [binary search, combinatorics]  binary search  "
      ]
     },
     "execution_count": 34,
     "metadata": {},
     "output_type": "execute_result"
    }
   ],
   "source": [
    "# Select the problems with specific tags to analyze\n",
    "\n",
    "selected_tags = [\"greedy\", \"brute force\", \"binary search\"]\n",
    "\n",
    "# List to store the samples\n",
    "samples = []\n",
    "\n",
    "for tag in selected_tags:\n",
    "    other_tags = [t for t in selected_tags if t != tag]\n",
    "\n",
    "    # Filter the DataFrame for the specific tag and not any of the other tags\n",
    "    df_tag = df_problem_and_human_solutions_list_we[df_problem_and_human_solutions_list_we[\"cf_tags\"].apply(\n",
    "            lambda tags: tag in tags and not any(t in tags for t in other_tags)\n",
    "        )]\n",
    "    df_sample = df_tag.sample(n=20, random_state=42)  # Select 20 samples for each tag\n",
    "    df_sample = df_sample.copy()\n",
    "    df_sample[\"selected_tag\"] = tag  # Assign the selected tag to the sample\n",
    "    samples.append(df_sample)\n",
    "\n",
    "# Concatenate all samples into a single DataFrame\n",
    "df_selected = pd.concat(samples, ignore_index=True)\n",
    "# See if it works\n",
    "df_selected"
   ]
  },
  {
   "cell_type": "markdown",
   "id": "2b0a65bd",
   "metadata": {},
   "source": [
    "#### Visualizing Description Embeddings with t-SNE"
   ]
  },
  {
   "cell_type": "markdown",
   "id": "1e965541",
   "metadata": {},
   "source": [
    "Plot the 3D projection of the description vectors, with colors representing the selected_tag, to observe whether there are any patterns or cluster related to the corresponding cf_tag.   "
   ]
  },
  {
   "cell_type": "code",
   "execution_count": null,
   "id": "28e097be",
   "metadata": {},
   "outputs": [
    {
     "data": {
      "application/vnd.plotly.v1+json": {
       "config": {
        "plotlyServerURL": "https://plot.ly"
       },
       "data": [
        {
         "customdata": [
          [
           "1167_D. Bicolored RBS",
           "greedy"
          ],
          [
           "276_D. Little Girl and Maximum XOR",
           "greedy"
          ],
          [
           "1515_A. Phoenix and Gold",
           "greedy"
          ],
          [
           "1416_C. XOR Inverse",
           "greedy"
          ],
          [
           "1311_A. Add Odd or Subtract Even",
           "greedy"
          ],
          [
           "955_A. Feed the cat",
           "greedy"
          ],
          [
           "758_D. Ability To Convert",
           "greedy"
          ],
          [
           "1442_B. Identify the Operations",
           "greedy"
          ],
          [
           "1286_B. Numbers on Tree",
           "greedy"
          ],
          [
           "1008_B. Turn the Rectangles",
           "greedy"
          ],
          [
           "1442_A. Extreme Subtraction",
           "greedy"
          ],
          [
           "322_A. Ciel and Dancing",
           "greedy"
          ],
          [
           "1265_A. Beautiful String",
           "greedy"
          ],
          [
           "1201_B. Zero Array",
           "greedy"
          ],
          [
           "1197_B. Pillars",
           "greedy"
          ],
          [
           "1150_A. Stock Arbitraging",
           "greedy"
          ],
          [
           "58_B. Coins",
           "greedy"
          ],
          [
           "946_A. Partition",
           "greedy"
          ],
          [
           "1399_D. Binary String To Subsequences",
           "greedy"
          ],
          [
           "1320_A. Journey Planning",
           "greedy"
          ]
         ],
         "hovertemplate": "selected_tag=%{customdata[1]}<br>x=%{x}<br>y=%{y}<br>z=%{z}<br>problem_name=%{customdata[0]}<extra></extra>",
         "legendgroup": "greedy",
         "marker": {
          "color": "#636efa",
          "opacity": 0.8,
          "size": 5,
          "symbol": "circle"
         },
         "mode": "markers+text",
         "name": "greedy",
         "scene": "scene",
         "showlegend": true,
         "text": [
          "1167_D. Bicolored RBS",
          "276_D. Little Girl and Maximum XOR",
          "1515_A. Phoenix and Gold",
          "1416_C. XOR Inverse",
          "1311_A. Add Odd or Subtract Even",
          "955_A. Feed the cat",
          "758_D. Ability To Convert",
          "1442_B. Identify the Operations",
          "1286_B. Numbers on Tree",
          "1008_B. Turn the Rectangles",
          "1442_A. Extreme Subtraction",
          "322_A. Ciel and Dancing",
          "1265_A. Beautiful String",
          "1201_B. Zero Array",
          "1197_B. Pillars",
          "1150_A. Stock Arbitraging",
          "58_B. Coins",
          "946_A. Partition",
          "1399_D. Binary String To Subsequences",
          "1320_A. Journey Planning"
         ],
         "type": "scatter3d",
         "x": [
          28.370067596435547,
          -63.80388641357422,
          16.425840377807617,
          -110.58527374267578,
          18.69964599609375,
          38.525691986083984,
          -18.66902732849121,
          96.4813461303711,
          17.16790008544922,
          -19.571453094482422,
          -6.3429975509643555,
          -50.63320541381836,
          -58.1595573425293,
          -8.836999893188477,
          19.430238723754883,
          -8.267873764038086,
          -33.87158203125,
          4.138668060302734,
          -38.73360824584961,
          43.977725982666016
         ],
         "y": [
          107.64301300048828,
          -48.39525604248047,
          71.49596405029297,
          -80.32516479492188,
          -17.88266372680664,
          15.643309593200684,
          -23.156145095825195,
          55.99132537841797,
          -41.06019973754883,
          -15.461772918701172,
          38.105186462402344,
          -63.969661712646484,
          94.41517639160156,
          -114.65534973144531,
          123.22405242919922,
          1.6384456157684326,
          -112.57756805419922,
          -72.92164611816406,
          49.03908157348633,
          25.55872344970703
         ],
         "z": [
          44.010990142822266,
          -18.897905349731445,
          93.48605346679688,
          -80.15821075439453,
          1.2179913520812988,
          27.531024932861328,
          -17.149587631225586,
          64.11290740966797,
          77.89718627929688,
          -61.51460266113281,
          20.31779670715332,
          -70.2842788696289,
          8.980883598327637,
          -22.404483795166016,
          -41.991024017333984,
          55.0866813659668,
          -65.70272064208984,
          -17.44434356689453,
          20.440412521362305,
          83.58582305908203
         ]
        },
        {
         "customdata": [
          [
           "3_C. Tic-tac-toe",
           "brute force"
          ],
          [
           "217_A. Ice Skating",
           "brute force"
          ],
          [
           "761_C. Dasha and Password",
           "brute force"
          ],
          [
           "1430_A. Number of Apartments",
           "brute force"
          ],
          [
           "987_C. Three displays",
           "brute force"
          ],
          [
           "1091_A. New Year and the Christmas Ornament",
           "brute force"
          ],
          [
           "1033_C. Permutation Game",
           "brute force"
          ],
          [
           "846_A. Curriculum Vitae",
           "brute force"
          ],
          [
           "1244_B. Rooms and Staircases",
           "brute force"
          ],
          [
           "505_A. Mr. Kitayuta's Gift",
           "brute force"
          ],
          [
           "911_C. Three Garlands",
           "brute force"
          ],
          [
           "1097_B. Petr and a Combination Lock",
           "brute force"
          ],
          [
           "400_B. Inna and New Matrix of Candies",
           "brute force"
          ],
          [
           "1491_B. Minimal Cost",
           "brute force"
          ],
          [
           "841_A. Generous Kefa",
           "brute force"
          ],
          [
           "1088_A. Ehab and another construction problem",
           "brute force"
          ],
          [
           "4_A. Watermelon",
           "brute force"
          ],
          [
           "1285_C. Fadi and LCM",
           "brute force"
          ],
          [
           "300_A. Array",
           "brute force"
          ],
          [
           "155_A. I_love_%username%",
           "brute force"
          ]
         ],
         "hovertemplate": "selected_tag=%{customdata[1]}<br>x=%{x}<br>y=%{y}<br>z=%{z}<br>problem_name=%{customdata[0]}<extra></extra>",
         "legendgroup": "brute force",
         "marker": {
          "color": "#EF553B",
          "opacity": 0.8,
          "size": 5,
          "symbol": "circle"
         },
         "mode": "markers+text",
         "name": "brute force",
         "scene": "scene",
         "showlegend": true,
         "text": [
          "3_C. Tic-tac-toe",
          "217_A. Ice Skating",
          "761_C. Dasha and Password",
          "1430_A. Number of Apartments",
          "987_C. Three displays",
          "1091_A. New Year and the Christmas Ornament",
          "1033_C. Permutation Game",
          "846_A. Curriculum Vitae",
          "1244_B. Rooms and Staircases",
          "505_A. Mr. Kitayuta's Gift",
          "911_C. Three Garlands",
          "1097_B. Petr and a Combination Lock",
          "400_B. Inna and New Matrix of Candies",
          "1491_B. Minimal Cost",
          "841_A. Generous Kefa",
          "1088_A. Ehab and another construction problem",
          "4_A. Watermelon",
          "1285_C. Fadi and LCM",
          "300_A. Array",
          "155_A. I_love_%username%"
         ],
         "type": "scatter3d",
         "x": [
          13.35721206665039,
          -47.245521545410156,
          -24.265417098999023,
          81.51952362060547,
          -13.17317008972168,
          -51.72882080078125,
          44.063507080078125,
          21.48222541809082,
          76.90530395507812,
          22.996055603027344,
          36.453609466552734,
          12.234772682189941,
          59.32242202758789,
          -95.96756744384766,
          -54.07915115356445,
          81.4868392944336,
          -27.645278930664062,
          -37.366458892822266,
          6.927768230438232,
          -95.38247680664062
         ],
         "y": [
          -29.53168296813965,
          8.268335342407227,
          114.57307434082031,
          -28.359487533569336,
          50.466182708740234,
          35.07493591308594,
          120.19053649902344,
          -10.865265846252441,
          -13.566685676574707,
          19.694114685058594,
          48.58987808227539,
          27.58192253112793,
          79.67892456054688,
          -55.540531158447266,
          -31.52705955505371,
          -74.0983657836914,
          -46.5837287902832,
          -104.03824615478516,
          -40.746376037597656,
          30.393583297729492
         ],
         "z": [
          -88.38009643554688,
          -72.84342956542969,
          8.309877395629883,
          45.36622619628906,
          71.3897933959961,
          85.13540649414062,
          0.22065581381320953,
          -49.10614013671875,
          112.81238555908203,
          -119.1359634399414,
          -12.380440711975098,
          -32.253665924072266,
          -1.4295271635055542,
          44.045684814453125,
          -91.00450897216797,
          -37.831600189208984,
          -107.2642593383789,
          3.586718797683716,
          27.326522827148438,
          35.52503204345703
         ]
        },
        {
         "customdata": [
          [
           "706_B. Interesting drink",
           "binary search"
          ],
          [
           "1538_C. Number of Pairs",
           "binary search"
          ],
          [
           "670_D2. Magic Powder - 2",
           "binary search"
          ],
          [
           "676_C. Vasya and String",
           "binary search"
          ],
          [
           "701_C. They Are Everywhere",
           "binary search"
          ],
          [
           "68_B. Energy exchange",
           "binary search"
          ],
          [
           "468_C. Hack it!",
           "binary search"
          ],
          [
           "204_A. Little Elephant and Interval",
           "binary search"
          ],
          [
           "1417_C. k-Amazing Numbers",
           "binary search"
          ],
          [
           "165_B. Burning Midnight Oil",
           "binary search"
          ],
          [
           "1238_D. AB-string",
           "binary search"
          ],
          [
           "978_C. Letters",
           "binary search"
          ],
          [
           "474_B. Worms",
           "binary search"
          ],
          [
           "888_C. K-Dominant Character",
           "binary search"
          ],
          [
           "985_D. Sand Fortress",
           "binary search"
          ],
          [
           "758_C. Unfair Poll",
           "binary search"
          ],
          [
           "1462_E1. Close Tuples (easy version)",
           "binary search"
          ],
          [
           "1408_C. Discrete Acceleration",
           "binary search"
          ],
          [
           "937_C. Save Energy!",
           "binary search"
          ],
          [
           "1436_C. Binary Search",
           "binary search"
          ]
         ],
         "hovertemplate": "selected_tag=%{customdata[1]}<br>x=%{x}<br>y=%{y}<br>z=%{z}<br>problem_name=%{customdata[0]}<extra></extra>",
         "legendgroup": "binary search",
         "marker": {
          "color": "#00cc96",
          "opacity": 0.8,
          "size": 5,
          "symbol": "circle"
         },
         "mode": "markers+text",
         "name": "binary search",
         "scene": "scene",
         "showlegend": true,
         "text": [
          "706_B. Interesting drink",
          "1538_C. Number of Pairs",
          "670_D2. Magic Powder - 2",
          "676_C. Vasya and String",
          "701_C. They Are Everywhere",
          "68_B. Energy exchange",
          "468_C. Hack it!",
          "204_A. Little Elephant and Interval",
          "1417_C. k-Amazing Numbers",
          "165_B. Burning Midnight Oil",
          "1238_D. AB-string",
          "978_C. Letters",
          "474_B. Worms",
          "888_C. K-Dominant Character",
          "985_D. Sand Fortress",
          "758_C. Unfair Poll",
          "1462_E1. Close Tuples (easy version)",
          "1408_C. Discrete Acceleration",
          "937_C. Save Energy!",
          "1436_C. Binary Search"
         ],
         "type": "scatter3d",
         "x": [
          -39.67882537841797,
          -14.834312438964844,
          -3.245081901550293,
          36.125030517578125,
          -14.470915794372559,
          -64.32975006103516,
          -52.13933181762695,
          -35.80616760253906,
          28.912052154541016,
          51.63246536254883,
          -52.73359298706055,
          69.9655990600586,
          -22.039628982543945,
          73.62770080566406,
          -125.88971710205078,
          107.96527099609375,
          14.480289459228516,
          108.2608413696289,
          -118.97331237792969,
          -6.599400520324707
         ],
         "y": [
          -14.035711288452148,
          1.79336678981781,
          -88.37492370605469,
          -116.82821655273438,
          73.28374481201172,
          4.822399616241455,
          -95.64840698242188,
          -61.075984954833984,
          -58.52766418457031,
          0.1470748782157898,
          -71.88215637207031,
          51.155296325683594,
          92.634521484375,
          -57.31233596801758,
          -21.429269790649414,
          32.104061126708984,
          65.78711700439453,
          65.95087432861328,
          -7.021295547485352,
          53.61245346069336
         ],
         "z": [
          49.72641372680664,
          116.57981872558594,
          28.24953269958496,
          -20.27874183654785,
          -33.04608154296875,
          -38.7767333984375,
          -27.28580665588379,
          -5.851661205291748,
          7.4919233322143555,
          -24.292211532592773,
          90.38304901123047,
          -62.88362503051758,
          71.2844009399414,
          -67.57467651367188,
          45.07969665527344,
          -25.83249855041504,
          40.71489715576172,
          -67.78992462158203,
          -21.766088485717773,
          -80.73645782470703
         ]
        }
       ],
       "layout": {
        "legend": {
         "title": {
          "text": "selected_tag"
         },
         "tracegroupgap": 0
        },
        "scene": {
         "domain": {
          "x": [
           0,
           1
          ],
          "y": [
           0,
           1
          ]
         },
         "xaxis": {
          "title": {
           "text": "x"
          }
         },
         "yaxis": {
          "title": {
           "text": "y"
          }
         },
         "zaxis": {
          "title": {
           "text": "z"
          }
         }
        },
        "template": {
         "data": {
          "bar": [
           {
            "error_x": {
             "color": "#2a3f5f"
            },
            "error_y": {
             "color": "#2a3f5f"
            },
            "marker": {
             "line": {
              "color": "#E5ECF6",
              "width": 0.5
             },
             "pattern": {
              "fillmode": "overlay",
              "size": 10,
              "solidity": 0.2
             }
            },
            "type": "bar"
           }
          ],
          "barpolar": [
           {
            "marker": {
             "line": {
              "color": "#E5ECF6",
              "width": 0.5
             },
             "pattern": {
              "fillmode": "overlay",
              "size": 10,
              "solidity": 0.2
             }
            },
            "type": "barpolar"
           }
          ],
          "carpet": [
           {
            "aaxis": {
             "endlinecolor": "#2a3f5f",
             "gridcolor": "white",
             "linecolor": "white",
             "minorgridcolor": "white",
             "startlinecolor": "#2a3f5f"
            },
            "baxis": {
             "endlinecolor": "#2a3f5f",
             "gridcolor": "white",
             "linecolor": "white",
             "minorgridcolor": "white",
             "startlinecolor": "#2a3f5f"
            },
            "type": "carpet"
           }
          ],
          "choropleth": [
           {
            "colorbar": {
             "outlinewidth": 0,
             "ticks": ""
            },
            "type": "choropleth"
           }
          ],
          "contour": [
           {
            "colorbar": {
             "outlinewidth": 0,
             "ticks": ""
            },
            "colorscale": [
             [
              0,
              "#0d0887"
             ],
             [
              0.1111111111111111,
              "#46039f"
             ],
             [
              0.2222222222222222,
              "#7201a8"
             ],
             [
              0.3333333333333333,
              "#9c179e"
             ],
             [
              0.4444444444444444,
              "#bd3786"
             ],
             [
              0.5555555555555556,
              "#d8576b"
             ],
             [
              0.6666666666666666,
              "#ed7953"
             ],
             [
              0.7777777777777778,
              "#fb9f3a"
             ],
             [
              0.8888888888888888,
              "#fdca26"
             ],
             [
              1,
              "#f0f921"
             ]
            ],
            "type": "contour"
           }
          ],
          "contourcarpet": [
           {
            "colorbar": {
             "outlinewidth": 0,
             "ticks": ""
            },
            "type": "contourcarpet"
           }
          ],
          "heatmap": [
           {
            "colorbar": {
             "outlinewidth": 0,
             "ticks": ""
            },
            "colorscale": [
             [
              0,
              "#0d0887"
             ],
             [
              0.1111111111111111,
              "#46039f"
             ],
             [
              0.2222222222222222,
              "#7201a8"
             ],
             [
              0.3333333333333333,
              "#9c179e"
             ],
             [
              0.4444444444444444,
              "#bd3786"
             ],
             [
              0.5555555555555556,
              "#d8576b"
             ],
             [
              0.6666666666666666,
              "#ed7953"
             ],
             [
              0.7777777777777778,
              "#fb9f3a"
             ],
             [
              0.8888888888888888,
              "#fdca26"
             ],
             [
              1,
              "#f0f921"
             ]
            ],
            "type": "heatmap"
           }
          ],
          "heatmapgl": [
           {
            "colorbar": {
             "outlinewidth": 0,
             "ticks": ""
            },
            "colorscale": [
             [
              0,
              "#0d0887"
             ],
             [
              0.1111111111111111,
              "#46039f"
             ],
             [
              0.2222222222222222,
              "#7201a8"
             ],
             [
              0.3333333333333333,
              "#9c179e"
             ],
             [
              0.4444444444444444,
              "#bd3786"
             ],
             [
              0.5555555555555556,
              "#d8576b"
             ],
             [
              0.6666666666666666,
              "#ed7953"
             ],
             [
              0.7777777777777778,
              "#fb9f3a"
             ],
             [
              0.8888888888888888,
              "#fdca26"
             ],
             [
              1,
              "#f0f921"
             ]
            ],
            "type": "heatmapgl"
           }
          ],
          "histogram": [
           {
            "marker": {
             "pattern": {
              "fillmode": "overlay",
              "size": 10,
              "solidity": 0.2
             }
            },
            "type": "histogram"
           }
          ],
          "histogram2d": [
           {
            "colorbar": {
             "outlinewidth": 0,
             "ticks": ""
            },
            "colorscale": [
             [
              0,
              "#0d0887"
             ],
             [
              0.1111111111111111,
              "#46039f"
             ],
             [
              0.2222222222222222,
              "#7201a8"
             ],
             [
              0.3333333333333333,
              "#9c179e"
             ],
             [
              0.4444444444444444,
              "#bd3786"
             ],
             [
              0.5555555555555556,
              "#d8576b"
             ],
             [
              0.6666666666666666,
              "#ed7953"
             ],
             [
              0.7777777777777778,
              "#fb9f3a"
             ],
             [
              0.8888888888888888,
              "#fdca26"
             ],
             [
              1,
              "#f0f921"
             ]
            ],
            "type": "histogram2d"
           }
          ],
          "histogram2dcontour": [
           {
            "colorbar": {
             "outlinewidth": 0,
             "ticks": ""
            },
            "colorscale": [
             [
              0,
              "#0d0887"
             ],
             [
              0.1111111111111111,
              "#46039f"
             ],
             [
              0.2222222222222222,
              "#7201a8"
             ],
             [
              0.3333333333333333,
              "#9c179e"
             ],
             [
              0.4444444444444444,
              "#bd3786"
             ],
             [
              0.5555555555555556,
              "#d8576b"
             ],
             [
              0.6666666666666666,
              "#ed7953"
             ],
             [
              0.7777777777777778,
              "#fb9f3a"
             ],
             [
              0.8888888888888888,
              "#fdca26"
             ],
             [
              1,
              "#f0f921"
             ]
            ],
            "type": "histogram2dcontour"
           }
          ],
          "mesh3d": [
           {
            "colorbar": {
             "outlinewidth": 0,
             "ticks": ""
            },
            "type": "mesh3d"
           }
          ],
          "parcoords": [
           {
            "line": {
             "colorbar": {
              "outlinewidth": 0,
              "ticks": ""
             }
            },
            "type": "parcoords"
           }
          ],
          "pie": [
           {
            "automargin": true,
            "type": "pie"
           }
          ],
          "scatter": [
           {
            "fillpattern": {
             "fillmode": "overlay",
             "size": 10,
             "solidity": 0.2
            },
            "type": "scatter"
           }
          ],
          "scatter3d": [
           {
            "line": {
             "colorbar": {
              "outlinewidth": 0,
              "ticks": ""
             }
            },
            "marker": {
             "colorbar": {
              "outlinewidth": 0,
              "ticks": ""
             }
            },
            "type": "scatter3d"
           }
          ],
          "scattercarpet": [
           {
            "marker": {
             "colorbar": {
              "outlinewidth": 0,
              "ticks": ""
             }
            },
            "type": "scattercarpet"
           }
          ],
          "scattergeo": [
           {
            "marker": {
             "colorbar": {
              "outlinewidth": 0,
              "ticks": ""
             }
            },
            "type": "scattergeo"
           }
          ],
          "scattergl": [
           {
            "marker": {
             "colorbar": {
              "outlinewidth": 0,
              "ticks": ""
             }
            },
            "type": "scattergl"
           }
          ],
          "scattermapbox": [
           {
            "marker": {
             "colorbar": {
              "outlinewidth": 0,
              "ticks": ""
             }
            },
            "type": "scattermapbox"
           }
          ],
          "scatterpolar": [
           {
            "marker": {
             "colorbar": {
              "outlinewidth": 0,
              "ticks": ""
             }
            },
            "type": "scatterpolar"
           }
          ],
          "scatterpolargl": [
           {
            "marker": {
             "colorbar": {
              "outlinewidth": 0,
              "ticks": ""
             }
            },
            "type": "scatterpolargl"
           }
          ],
          "scatterternary": [
           {
            "marker": {
             "colorbar": {
              "outlinewidth": 0,
              "ticks": ""
             }
            },
            "type": "scatterternary"
           }
          ],
          "surface": [
           {
            "colorbar": {
             "outlinewidth": 0,
             "ticks": ""
            },
            "colorscale": [
             [
              0,
              "#0d0887"
             ],
             [
              0.1111111111111111,
              "#46039f"
             ],
             [
              0.2222222222222222,
              "#7201a8"
             ],
             [
              0.3333333333333333,
              "#9c179e"
             ],
             [
              0.4444444444444444,
              "#bd3786"
             ],
             [
              0.5555555555555556,
              "#d8576b"
             ],
             [
              0.6666666666666666,
              "#ed7953"
             ],
             [
              0.7777777777777778,
              "#fb9f3a"
             ],
             [
              0.8888888888888888,
              "#fdca26"
             ],
             [
              1,
              "#f0f921"
             ]
            ],
            "type": "surface"
           }
          ],
          "table": [
           {
            "cells": {
             "fill": {
              "color": "#EBF0F8"
             },
             "line": {
              "color": "white"
             }
            },
            "header": {
             "fill": {
              "color": "#C8D4E3"
             },
             "line": {
              "color": "white"
             }
            },
            "type": "table"
           }
          ]
         },
         "layout": {
          "annotationdefaults": {
           "arrowcolor": "#2a3f5f",
           "arrowhead": 0,
           "arrowwidth": 1
          },
          "autotypenumbers": "strict",
          "coloraxis": {
           "colorbar": {
            "outlinewidth": 0,
            "ticks": ""
           }
          },
          "colorscale": {
           "diverging": [
            [
             0,
             "#8e0152"
            ],
            [
             0.1,
             "#c51b7d"
            ],
            [
             0.2,
             "#de77ae"
            ],
            [
             0.3,
             "#f1b6da"
            ],
            [
             0.4,
             "#fde0ef"
            ],
            [
             0.5,
             "#f7f7f7"
            ],
            [
             0.6,
             "#e6f5d0"
            ],
            [
             0.7,
             "#b8e186"
            ],
            [
             0.8,
             "#7fbc41"
            ],
            [
             0.9,
             "#4d9221"
            ],
            [
             1,
             "#276419"
            ]
           ],
           "sequential": [
            [
             0,
             "#0d0887"
            ],
            [
             0.1111111111111111,
             "#46039f"
            ],
            [
             0.2222222222222222,
             "#7201a8"
            ],
            [
             0.3333333333333333,
             "#9c179e"
            ],
            [
             0.4444444444444444,
             "#bd3786"
            ],
            [
             0.5555555555555556,
             "#d8576b"
            ],
            [
             0.6666666666666666,
             "#ed7953"
            ],
            [
             0.7777777777777778,
             "#fb9f3a"
            ],
            [
             0.8888888888888888,
             "#fdca26"
            ],
            [
             1,
             "#f0f921"
            ]
           ],
           "sequentialminus": [
            [
             0,
             "#0d0887"
            ],
            [
             0.1111111111111111,
             "#46039f"
            ],
            [
             0.2222222222222222,
             "#7201a8"
            ],
            [
             0.3333333333333333,
             "#9c179e"
            ],
            [
             0.4444444444444444,
             "#bd3786"
            ],
            [
             0.5555555555555556,
             "#d8576b"
            ],
            [
             0.6666666666666666,
             "#ed7953"
            ],
            [
             0.7777777777777778,
             "#fb9f3a"
            ],
            [
             0.8888888888888888,
             "#fdca26"
            ],
            [
             1,
             "#f0f921"
            ]
           ]
          },
          "colorway": [
           "#636efa",
           "#EF553B",
           "#00cc96",
           "#ab63fa",
           "#FFA15A",
           "#19d3f3",
           "#FF6692",
           "#B6E880",
           "#FF97FF",
           "#FECB52"
          ],
          "font": {
           "color": "#2a3f5f"
          },
          "geo": {
           "bgcolor": "white",
           "lakecolor": "white",
           "landcolor": "#E5ECF6",
           "showlakes": true,
           "showland": true,
           "subunitcolor": "white"
          },
          "hoverlabel": {
           "align": "left"
          },
          "hovermode": "closest",
          "mapbox": {
           "style": "light"
          },
          "paper_bgcolor": "white",
          "plot_bgcolor": "#E5ECF6",
          "polar": {
           "angularaxis": {
            "gridcolor": "white",
            "linecolor": "white",
            "ticks": ""
           },
           "bgcolor": "#E5ECF6",
           "radialaxis": {
            "gridcolor": "white",
            "linecolor": "white",
            "ticks": ""
           }
          },
          "scene": {
           "xaxis": {
            "backgroundcolor": "#E5ECF6",
            "gridcolor": "white",
            "gridwidth": 2,
            "linecolor": "white",
            "showbackground": true,
            "ticks": "",
            "zerolinecolor": "white"
           },
           "yaxis": {
            "backgroundcolor": "#E5ECF6",
            "gridcolor": "white",
            "gridwidth": 2,
            "linecolor": "white",
            "showbackground": true,
            "ticks": "",
            "zerolinecolor": "white"
           },
           "zaxis": {
            "backgroundcolor": "#E5ECF6",
            "gridcolor": "white",
            "gridwidth": 2,
            "linecolor": "white",
            "showbackground": true,
            "ticks": "",
            "zerolinecolor": "white"
           }
          },
          "shapedefaults": {
           "line": {
            "color": "#2a3f5f"
           }
          },
          "ternary": {
           "aaxis": {
            "gridcolor": "white",
            "linecolor": "white",
            "ticks": ""
           },
           "baxis": {
            "gridcolor": "white",
            "linecolor": "white",
            "ticks": ""
           },
           "bgcolor": "#E5ECF6",
           "caxis": {
            "gridcolor": "white",
            "linecolor": "white",
            "ticks": ""
           }
          },
          "title": {
           "x": 0.05
          },
          "xaxis": {
           "automargin": true,
           "gridcolor": "white",
           "linecolor": "white",
           "ticks": "",
           "title": {
            "standoff": 15
           },
           "zerolinecolor": "white",
           "zerolinewidth": 2
          },
          "yaxis": {
           "automargin": true,
           "gridcolor": "white",
           "linecolor": "white",
           "ticks": "",
           "title": {
            "standoff": 15
           },
           "zerolinecolor": "white",
           "zerolinewidth": 2
          }
         }
        },
        "title": {
         "text": "3D Projection of Descriptions by Tag"
        }
       }
      }
     },
     "metadata": {},
     "output_type": "display_data"
    }
   ],
   "source": [
    "from sklearn.manifold import TSNE\n",
    "import numpy as np\n",
    "\n",
    "vectors = np.array(df_selected[\"description_vector\"].tolist())\n",
    "\n",
    "tsne = TSNE(n_components=3, random_state=42, perplexity=10)\n",
    "vectors_3d = tsne.fit_transform(vectors)\n",
    "\n",
    "df_selected[[\"x\", \"y\", \"z\"]] = vectors_3d\n",
    "\n",
    "import plotly.express as px\n",
    "\n",
    "fig = px.scatter_3d(\n",
    "    df_selected,\n",
    "    x=\"x\", y=\"y\", z=\"z\",\n",
    "    color=\"selected_tag\",\n",
    "    text=\"problem_name\",\n",
    "    hover_data=[\"problem_name\", \"selected_tag\"],\n",
    "    title=\"3D Projection of Descriptions by Tag\"\n",
    ")\n",
    "\n",
    "fig.update_traces(marker=dict(size=5, opacity=0.8))\n",
    "fig.show()"
   ]
  },
  {
   "cell_type": "markdown",
   "id": "dc5f3aab",
   "metadata": {},
   "source": [
    "The previous plot does not show a clear distinct separation based on cf_tags, at least within the explored three-dimensional space using TSNE.\n",
    "\n",
    "This observation is realistic and expected for several reasons:\n",
    "- t-SNE is non-linear and local: it preserves neighborhood structures, but not global separation.\n",
    "- FastText embeddings are unsupervised: the model was not trained with tag supervision, so there's no guarantee that tag information is encoded linearly or separably.\n",
    "- Descriptions may share semantics across tags: for example, both “greedy” and “brute force” problems may use similar language like loops or conditions."
   ]
  },
  {
   "cell_type": "markdown",
   "id": "22b813c5",
   "metadata": {},
   "source": [
    "### Solution Handling"
   ]
  },
  {
   "cell_type": "markdown",
   "id": "c916bea5",
   "metadata": {},
   "source": [
    "The main goal of this section is to effectively convert a solution code into a vector representation using FastText.\n",
    "To achieve this, we calculate the mean or the sum of the embeddings of each token of the solution, as we did for the description embedding part.\n",
    "\n",
    "To do this we:\n",
    "- Tokenize each solution using a default python tokenizer (the solutions are in python)\n",
    "\n",
    "- Train FastText to extract the word embeddings based on the context of each solution\n",
    "\n",
    "- Explore different way of managing comments in the solution code \n",
    "\n",
    "- Aggregate the word embeddings in a single solution representation (solution embedding)"
   ]
  },
  {
   "cell_type": "markdown",
   "id": "c4457ea5",
   "metadata": {},
   "source": [
    "#### Tokenization and Word Embeddings"
   ]
  },
  {
   "cell_type": "markdown",
   "id": "9447bae8",
   "metadata": {},
   "source": [
    "Extracting the solution codes from the 'correct_solution_list' column and showing them"
   ]
  },
  {
   "cell_type": "code",
   "execution_count": 105,
   "id": "ead88150",
   "metadata": {},
   "outputs": [
    {
     "data": {
      "text/plain": [
       "['__author__ = \\'ratnesh.mishra\\'\\n\\nweights = map(int, input())\\n\\nweights = [cnt for cnt, x in enumerate(weights, 1) if x]\\n\\nm = int(input())\\n\\nstate = [(0, 0, 0, [])]\\n\\nres = \"NO\"\\nwhile state:\\n    w, b, k, l = state.pop()\\n\\n    if k == m:\\n        res = \\'YES\\\\n\\' + \\' \\'.join(map(str, l))\\n        break\\n\\n    for wt in weights:\\n        if wt != w and wt > b:\\n            state.append((wt, wt-b, k+1, l+[wt]))\\n\\nprint(res)\\n\\n',\n",
       " \"s = input()\\nm = int(input())\\nk1 = k2 = 0\\nz = [0]*1001; index = 0\\nx = True\\np = list(s)\\nif p.count('1') == 3:\\n    i = 0\\n    while p[i] == '0':\\n        i += 1\\n    i += 1\\n    while p[i] == '0':\\n        i += 1\\n    z[1] = i+1\\n    k2 = z[1]\\n    p = 1\\n    index = 1\\nelse: p = 0\\nfor j in range(p, m):\\n    for i in range(10):\\n        if s[i] != '0' and i+1 != z[index] and k1 + (i+1) > k2:\\n            k1 += (i+1)\\n            index += 1\\n            z[index] = i+1;\\n            break\\n    else:\\n        x = False\\n        break\\n    if index == m:\\n        break\\n    for i in range(10):\\n        if s[i] != '0' and i+1 != z[index] and k2 + (i+1) > k1:\\n            k2 += (i+1)\\n            index += 1\\n            z[index] = i+1\\n            break\\n    else:\\n        x = False\\n        break\\n    if index == m:\\n        break\\nif x:\\n    print('YES')\\n    for i in range(1, m+1):\\n        print(z[i], end=' ')\\nelse:\\n    print('NO')\\n    \\n\",\n",
       " \"import sys\\nsys.setrecursionlimit (1000000)\\n\\ntmp = list (map (int,(list(input()))))\\nw = [i+1 for i in range (len (tmp)) if tmp[i] == 1]\\nm = int (input ())\\n\\ndef dfs (b,p,s):\\n  if s == m:\\n    return [p]\\n  for i in w:\\n    if i != p and i > b:\\n      ret = dfs (i-b,i,s+1)\\n      if ret:\\n        ret.append (p)\\n        return ret\\n  return None\\n\\nret = dfs (0,0,0)\\nif ret:\\n  print ('YES')\\n  ret.reverse ()\\n  print (' '.join ((list (map (str,ret[1:])))))\\nelse:\\n  print ('NO')\\n\",\n",
       " 'from __future__ import division, print_function\\n\\nimport os\\nimport sys\\nfrom io import BytesIO, IOBase\\nfrom collections import deque\\n\\ndef main():\\n    weights = set()\\n    inputWeights = input()\\n    for i in range(10):\\n        if inputWeights[i] == \\'1\\':\\n            weights.add(i+1)\\n\\n    balance = 0\\n    lastWeight = 1\\n    step = 2\\n    previousNode = 3\\n\\n    m = int(input())\\n\\n    # bfs -> (balance, last used weight, current step, previous action)\\n    # find a path from (0, 0, 0) to (x, y, m)\\n    # (m is the number of steps)\\n\\n    # (0, 0, 0, None) ->\\n    # (8, 8, 1, prevReference) ->\\n    # (-2, 10, 2, prevReference) ->\\n    # (6, 8, 3, prevReference)\\n\\n    stack = [(0, 0, 0, None)]\\n\\n    def addToQueue(current, weight, sign):\\n        stack.append((\\n            current[balance] + weight*sign,\\n            weight,\\n            current[step]+1,\\n            current\\n        ))\\n\\n    def printResults():\\n        sequence = [0] * m\\n\\n        current = stack[-1]\\n        i = m-1\\n        while current[lastWeight]:\\n            sequence[i] = current[lastWeight]\\n            current = current[previousNode]\\n            i -= 1\\n\\n        print(\\'YES\\')\\n        print(\\' \\'.join(map(lambda x: str(x), sequence)))\\n\\n    while len(stack) > 0:\\n        current = stack.pop()\\n\\n        for weight in weights:\\n            if weight != current[lastWeight]:\\n                if current[step]+1 & 1:\\n                    if current[balance] + weight > 0:\\n                        addToQueue(current, weight, 1)\\n                        if current[step]+1 == m:\\n                            printResults()\\n                            return\\n                else:\\n                    if current[balance] - weight < 0:\\n                        addToQueue(current, weight, -1)\\n                        if current[step]+1 == m:\\n                            printResults()\\n                            return\\n\\n    print(\\'NO\\')\\n\\n\\nBUFSIZE = 8192\\n\\nclass FastIO(IOBase):\\n    newlines = 0\\n\\n    def __init__(self, file):\\n        self._fd = file.fileno()\\n        self.buffer = BytesIO()\\n        self.writable = \"x\" in file.mode or \"r\" not in file.mode\\n        self.write = self.buffer.write if self.writable else None\\n\\n    def read(self):\\n        while True:\\n            b = os.read(self._fd, max(os.fstat(self._fd).st_size, BUFSIZE))\\n            if not b:\\n                break\\n            ptr = self.buffer.tell()\\n            self.buffer.seek(0, 2), self.buffer.write(b), self.buffer.seek(ptr)\\n        self.newlines = 0\\n        return self.buffer.read()\\n\\n    def readline(self):\\n        while self.newlines == 0:\\n            b = os.read(self._fd, max(os.fstat(self._fd).st_size, BUFSIZE))\\n            self.newlines = b.count(b\"\\\\n\") + (not b)\\n            ptr = self.buffer.tell()\\n            self.buffer.seek(0, 2), self.buffer.write(b), self.buffer.seek(ptr)\\n        self.newlines -= 1\\n        return self.buffer.readline()\\n\\n    def flush(self):\\n        if self.writable:\\n            os.write(self._fd, self.buffer.getvalue())\\n            self.buffer.truncate(0), self.buffer.seek(0)\\n\\nclass IOWrapper(IOBase):\\n    def __init__(self, file):\\n        self.buffer = FastIO(file)\\n        self.flush = self.buffer.flush\\n        self.writable = self.buffer.writable\\n        self.write = lambda s: self.buffer.write(s.encode(\"ascii\"))\\n        self.read = lambda: self.buffer.read().decode(\"ascii\")\\n        self.readline = lambda: self.buffer.readline().decode(\"ascii\")\\n\\ninput = lambda: sys.stdin.readline().rstrip(\"\\\\r\\\\n\")\\n\\ndef print(*args, **kwargs):\\n    \"\"\"Prints the values to a stream, or to sys.stdout by default.\"\"\"\\n    sep = kwargs.pop(\"sep\", \" \")\\n    file = kwargs.pop(\"file\", sys.stdout)\\n\\n    atStart = True\\n    for x in args:\\n        if not atStart:\\n            file.write(sep)\\n        file.write(str(x))\\n        atStart = False\\n    file.write(kwargs.pop(\"end\", \"\\\\n\"))\\n\\n    if kwargs.pop(\"flush\", False):\\n        file.flush()\\n\\nsys.stdin, sys.stdout = IOWrapper(sys.stdin), IOWrapper(sys.stdout)\\n\\nmain()\\n',\n",
       " '# Target - Expert on CF\\n# Be Humblefool\\n\\nimport sys\\n\\n# inf = float(\"inf\")\\n# sys.setrecursionlimit(10000000)\\n\\n# abc=\\'abcdefghijklmnopqrstuvwxyz\\'\\n# abd={\\'a\\': 0, \\'b\\': 1, \\'c\\': 2, \\'d\\': 3, \\'e\\': 4, \\'f\\': 5, \\'g\\': 6, \\'h\\': 7, \\'i\\': 8, \\'j\\': 9, \\'k\\': 10, \\'l\\': 11, \\'m\\': 12, \\'n\\': 13, \\'o\\': 14, \\'p\\': 15, \\'q\\': 16, \\'r\\': 17, \\'s\\': 18, \\'t\\': 19, \\'u\\': 20, \\'v\\': 21, \\'w\\': 22, \\'x\\': 23, \\'y\\': 24, \\'z\\': 25}\\n# mod, MOD = 1000000007, 998244353\\n# words = {1:\\'one\\',2:\\'two\\',3:\\'three\\',4:\\'four\\',5:\\'five\\',6:\\'six\\',7:\\'seven\\',8:\\'eight\\',9:\\'nine\\',10:\\'ten\\',11:\\'eleven\\',12:\\'twelve\\',13:\\'thirteen\\',14:\\'fourteen\\',15:\\'quarter\\',16:\\'sixteen\\',17:\\'seventeen\\',18:\\'eighteen\\',19:\\'nineteen\\',20:\\'twenty\\',21:\\'twenty one\\',22:\\'twenty two\\',23:\\'twenty three\\',24:\\'twenty four\\',25:\\'twenty five\\',26:\\'twenty six\\',27:\\'twenty seven\\',28:\\'twenty eight\\',29:\\'twenty nine\\',30:\\'half\\'}\\n# vow=[\\'a\\',\\'e\\',\\'i\\',\\'o\\',\\'u\\']\\n# dx,dy=[-1,1,0,0],[0,0,1,-1]\\n\\n# import random\\n# from collections import deque, Counter, OrderedDict,defaultdict\\n# from heapq import nsmallest, nlargest, heapify,heappop ,heappush, heapreplace\\n# from math import ceil,floor,log,sqrt,factorial,pi,gcd\\n# from bisect import bisect,bisect_left,bisect_right,insort,insort_left,insort_right\\n\\ndef get_array(): return list(map(int, sys.stdin.readline().strip().split()))\\ndef get_ints(): return map(int, sys.stdin.readline().strip().split())\\ndef input(): return sys.stdin.readline().strip()\\n\\nstring = input()\\np = [i for i,j in enumerate(string, 1) if j==\\'1\\']\\nm = int(input())\\nans = \\'NO\\'\\nqueue = [(-1,0,0,[])]     # prev, position, till_sum, list\\nwhile queue:\\n    prev,position,till_sum,lst = queue.pop()\\n    if position==m:\\n        print(\\'YES\\')\\n        print(*lst)\\n        exit()\\n    for q in p:\\n        if q!=prev and q>till_sum:\\n            queue.append((q, position+1, q-till_sum,lst+[q]))\\nprint(ans)\\n',\n",
       " 'import sys\\nsys.setrecursionlimit(100000)\\n\\n\\nlist_weights = []\\n\\n\\ndef gen(ans=[], last=list_weights, delta=0):\\n    if len(ans) == m:\\n        print(\\'YES\\')\\n        print(*ans)\\n        exit(0)\\n    for k in list_weights:\\n        if k != last:\\n            if delta >= 0 and delta - k < 0:\\n                gen(ans + [k], k, delta - k)\\n            elif delta < 0 and k + delta > 0:\\n                gen(ans + [k], k, delta + k)\\n\\n\\nweights = list(map(int, list(input())))\\nm = int(input())\\nfor i in range(10):\\n    if weights[i]:\\n        list_weights.append(i + 1)\\ngen()\\nprint(\"NO\")',\n",
       " '# import sys\\n# sys.stdin = open(\"F:\\\\\\\\Scripts\\\\\\\\input\",\"r\")\\n# sys.stdout = open(\"F:\\\\\\\\Scripts\\\\\\\\output\",\"w\")\\n\\n\\nMOD = 10**9 + 7\\nI = lambda:list(map(int,input().split()))\\n\\na=[i for i,j in enumerate(input(),1) if j==\\'1\\']\\nm=int(input())\\nq=[(-1,0,0,[])]\\np=\\'NO\\'\\nwhile q:\\n    x,y,z,t=q.pop()\\n    if z==m:\\n        p=\\'YES\\\\n\\'+\\' \\'.join(map(str,t))\\n        break\\n    for i in a:\\n        if i!=x and i>y:\\n            q.append((i,i-y,z+1,t+[i]))\\nprint(p)',\n",
       " \"import sys\\nsys.setrecursionlimit(1500)\\ndef dfs(a,w1,w2,s):\\n    if len(a)==m:\\n        return a\\n    if(len(a)%2==0):\\n        diff=w2-w1\\n        for i in range(max(0,diff),10):\\n            if s[i]=='1' :\\n                if a!=False:\\n                    if len(a)==0:\\n                        kol=dfs(a+[i+1],w1+i+1,w2,s)\\n                        if kol:\\n                            return kol\\n                    elif a[-1]!=i+1:\\n                        kol=dfs(a+[i+1],w1+i+1,w2,s)\\n                        if kol:\\n                            return kol\\n\\n        return False\\n    diff=w1-w2\\n    for i in range(max(0,diff),10):\\n        if(s[i]=='1'):\\n            if a!=False:\\n                if len(a)==0:\\n                    kol=dfs(a+[i+1],w1,w2+i+1,s)\\n                    if kol:\\n                        return a\\n                elif a[-1]!=i+1:\\n                    kol=dfs(a+[i+1],w1,w2+i+1,s)\\n                    if kol:\\n                        return kol\\n    return False\\ns=input()\\nm=int(input())\\na=dfs([],0,0,s)\\nif a:\\n    print('YES')\\n    print(*a)\\nelse:\\n    print('NO')\",\n",
       " 'to_print = []\\ndef dfs(d, ini, s, depth, m):\\n    if depth == m:\\n        return True\\n    else:\\n        for i in range(d+1, len(s)):\\n            if i != ini and s[i] == \\'1\\':\\n                ans = dfs(i-d, i, s, depth+1, m)\\n                if ans == True:\\n                    to_print.append(i)\\n                    return True\\n        return False\\n\\n\\ns = \\'0\\'+input()\\nm = int(input())\\n\\nans = dfs(0, 0, s, 0, m)\\nif len(to_print):\\n    print(\"YES\")\\n    print(*to_print[::-1])\\nelse:\\n    print(\"NO\")',\n",
       " 's=input()\\nm=int(input())\\na=[]\\nfor j in range(10):\\n    if s[j]==\"1\":\\n        a.append(j+1)\\nq=[[-1,0,0,[]]]\\nf=0\\nwhile(q):\\n    prev,len,diff,path=q.pop()\\n    if len==m:\\n        f=1\\n        print(\"YES\")\\n        print(*path)\\n        break\\n    for j in a:\\n        if j!=prev and j>diff:\\n            q.append([j,len+1,j-diff,path+[j]])\\nif f==0:\\n    print(\"NO\")\\n']"
      ]
     },
     "execution_count": 105,
     "metadata": {},
     "output_type": "execute_result"
    }
   ],
   "source": [
    "all_solutions = []\n",
    "\n",
    "def extract_codes(solution_list):\n",
    "    if isinstance(solution_list, list):\n",
    "        return [item['solution_code'] for item in solution_list\n",
    "                if isinstance(item, dict) and isinstance(item.get('solution_code'), str)]\n",
    "    return []\n",
    "\n",
    "df_problem_and_human_solutions_list_we['correct_solution_list'].apply(\n",
    "    lambda x: all_solutions.extend(extract_codes(x))\n",
    ")\n",
    "\n",
    "all_solutions[0:10]"
   ]
  },
  {
   "cell_type": "markdown",
   "id": "a6874970",
   "metadata": {},
   "source": [
    "This function tokenizes Python code using the built-in tokenize module.  \n",
    "It removes in-line comments and empty tokens to keep the meaningful code structure. \n",
    "\n",
    "It receive the string with the code and return the list of tokens associated."
   ]
  },
  {
   "cell_type": "code",
   "execution_count": null,
   "id": "a19a6cd7",
   "metadata": {},
   "outputs": [],
   "source": [
    "import io\n",
    "import tokenize # Python standard library tokenizer\n",
    "from typing import List\n",
    "\n",
    "def tokenize_code_only(code: str) -> List[str]:\n",
    "    tokens = []\n",
    "    try:\n",
    "        token_generator = tokenize.generate_tokens(io.StringIO(code).readline)\n",
    "        # tokenum is the type of token, tokval is the value\n",
    "        for toknum, tokval, _, _, _ in token_generator: \n",
    "            if toknum != tokenize.COMMENT and tokval.strip() != \"\":\n",
    "                tokens.append(tokval)\n",
    "    except tokenize.TokenError:\n",
    "        pass\n",
    "    return tokens"
   ]
  },
  {
   "cell_type": "markdown",
   "id": "025366bf",
   "metadata": {},
   "source": [
    "This function instead is an alternative of the previous one and is used to tokenize the code without removing comments and empty lines."
   ]
  },
  {
   "cell_type": "code",
   "execution_count": null,
   "id": "d8014538",
   "metadata": {},
   "outputs": [],
   "source": [
    "def tokenize_code(code: str) -> List[str]:\n",
    "    tokens = []\n",
    "    try:\n",
    "        token_generator = tokenize.generate_tokens(io.StringIO(code).readline)\n",
    "        # tokenum is the type of token, tokval is the value\n",
    "        for toknum, tokval, _, _, _ in token_generator:\n",
    "            if tokval.strip() != \"\":\n",
    "                tokens.append(tokval)\n",
    "    except tokenize.TokenError:\n",
    "        pass  # not valid code, skip it\n",
    "    return tokens\n"
   ]
  },
  {
   "cell_type": "markdown",
   "id": "42021724",
   "metadata": {},
   "source": [
    "Remove multi-line comments (triple-quoted strings) from Python code.\n",
    "- Multi-line comments: not considered in the previous function but present in our data. "
   ]
  },
  {
   "cell_type": "code",
   "execution_count": null,
   "id": "6784ee89",
   "metadata": {},
   "outputs": [],
   "source": [
    "import re\n",
    "def remove_multiline_comments(code: str) -> str:\n",
    "\n",
    "    # Pattern to match triple-quoted strings: '''...''' or \"\"\"...\"\"\"\n",
    "    # This is a basic pattern that assumes such strings are used only for comments\n",
    "    multiline_comment_pattern = r\"(\\'\\'\\'[\\s\\S]*?\\'\\'\\'|\\\"\\\"\\\"[\\s\\S]*?\\\"\\\"\\\")\"\n",
    "\n",
    "    # Remove also very long words\n",
    "    cleaned_code = re.sub(r\"\\b\\w{21,}\\b\", \"\", code)\n",
    "\n",
    "    # Replace all matches with an empty string\n",
    "    cleaned_code = re.sub(multiline_comment_pattern, '', cleaned_code)\n",
    "\n",
    "    return cleaned_code"
   ]
  },
  {
   "cell_type": "markdown",
   "id": "7d888cce",
   "metadata": {},
   "source": [
    "Example code snippets to test the function"
   ]
  },
  {
   "cell_type": "code",
   "execution_count": null,
   "id": "ed4ba06c",
   "metadata": {},
   "outputs": [],
   "source": [
    "examples_code = [\"\"\"\n",
    "def example_function(x, y):\n",
    "    # This function adds two numbers\n",
    "    result = x + y  # Add x and y\n",
    "    return result  # Return the result\n",
    "\"\"\", \"\"\"\n",
    "def another_function(a, b): jjjjjjjjjjjjjjjjjjjjjjjjjjjjjjjj\n",
    "    # This function multiplies two numbers\n",
    "    product = a * b  # Multiply a and b\n",
    "    return product  # Return the product\n",
    "\"\"\", \"\"\"\n",
    "for i in range(10):  # stampa i\n",
    "    print(i)\n",
    "str = '''Stringa assegnata e valida'''\n",
    "# Commento\n",
    "'''\n",
    "Questo è un commento multilinea non assegnato\n",
    "'''\n",
    "\"\"\",\n",
    "\"def fdjjnf another ssst_: '''\\n111111101000101111000110101011010\\n100000100111010101111100100011011\\n101110101001010000101000111111000\\n101110100011010010010111111011010\\n101110100100011011110110101110000\\n100000100110011001111100111100000\\n111111101101000101001101110010001?''' \\n # This function does something \\n return 42\",\n",
    "'def example_function(x, y):\\n \"\"\" This function adds two numbers\"\"\" '\n",
    "]"
   ]
  },
  {
   "cell_type": "markdown",
   "id": "7331e187",
   "metadata": {},
   "source": [
    "Let's remove the multiline and inline comments and tokenize the example data"
   ]
  },
  {
   "cell_type": "code",
   "execution_count": 77,
   "id": "c3f00754",
   "metadata": {},
   "outputs": [],
   "source": [
    "clened_code_ex = [remove_multiline_comments(code) for code in examples_code]\n",
    "\n",
    "tokenized_code_ex = [tokenize_code_only(code) for code in clened_code_ex if len(code.strip()) > 0]"
   ]
  },
  {
   "cell_type": "code",
   "execution_count": null,
   "id": "dbf9b359",
   "metadata": {},
   "outputs": [
    {
     "name": "stdout",
     "output_type": "stream",
     "text": [
      "Number of tokenized code solutions: 5\n",
      "Code 1:\n",
      "def example_function(x, y):\n",
      "    # This function adds two numbers\n",
      "    result = x + y  # Add x and y\n",
      "    return result  # Return the result \n",
      "\n",
      "Tokens: ['def', 'example_function', '(', 'x', ',', 'y', ')', ':', 'result', '=', 'x', '+', 'y', 'return', 'result']\n",
      "\n",
      "Code 2:\n",
      "def another_function(a, b): jjjjjjjjjjjjjjjjjjjjjjjjjjjjjjjj\n",
      "    # This function multiplies two numbers\n",
      "    product = a * b  # Multiply a and b\n",
      "    return product  # Return the product\n",
      "\n",
      "Tokens: ['def', 'another_function', '(', 'a', ',', 'b', ')', ':', 'product', '=', 'a', '*', 'b', 'return', 'product']\n",
      "\n"
     ]
    }
   ],
   "source": [
    "print(\"Number of tokenized code solutions:\", len(tokenized_code_ex))\n",
    "for i, code in enumerate(tokenized_code_ex):\n",
    "    if i >= 3:  # Limit to first 3 codes for brevity\n",
    "        break\n",
    "    print(f\"Code {i+1}:{examples_code[i]}\\nTokens: {code}\\n\")"
   ]
  },
  {
   "cell_type": "markdown",
   "id": "7d9bccf0",
   "metadata": {},
   "source": [
    "Tokenize the real code and remove comments and empty lines  \n",
    "(to save time it's also possible to load directly the tokenized code from a saved file as shown in the following cells)"
   ]
  },
  {
   "cell_type": "code",
   "execution_count": null,
   "id": "38fd8141",
   "metadata": {},
   "outputs": [],
   "source": [
    "clened_code = [remove_multiline_comments(code) for code in all_solutions]\n",
    "\n",
    "tokenized_code = [tokenize_code_only(code) for code in clened_code if len(code.strip()) > 0]"
   ]
  },
  {
   "cell_type": "code",
   "execution_count": 2,
   "id": "36d813e8",
   "metadata": {},
   "outputs": [],
   "source": [
    "import pickle"
   ]
  },
  {
   "cell_type": "code",
   "execution_count": null,
   "id": "92222dfa",
   "metadata": {},
   "outputs": [],
   "source": [
    "# Store the tokenized code in a pickle file for easy access later\n",
    "with open(\"tokenized_code.pkl\", \"wb\") as f:\n",
    "    for item in tokenized_code:\n",
    "        pickle.dump(item, f)"
   ]
  },
  {
   "cell_type": "code",
   "execution_count": null,
   "id": "4d4970c6",
   "metadata": {},
   "outputs": [],
   "source": [
    "# Load the tokenized code from the pickle file\n",
    "tokenized_code = []\n",
    "\n",
    "with open(\"tokenized_code.pkl\", \"rb\") as f:\n",
    "    while True:\n",
    "        try:\n",
    "            item = pickle.load(f)\n",
    "            tokenized_code.append(item)\n",
    "        except EOFError:\n",
    "            break"
   ]
  },
  {
   "cell_type": "markdown",
   "id": "0d758d64",
   "metadata": {},
   "source": [
    "Print the number of tokenized code solutions and the first 3 tokenized codes"
   ]
  },
  {
   "cell_type": "code",
   "execution_count": null,
   "id": "a5a8f604",
   "metadata": {},
   "outputs": [
    {
     "name": "stdout",
     "output_type": "stream",
     "text": [
      "Number of tokenized code solutions: 1190250\n",
      "Code 1:\n",
      " Tokens: ['__author__', '=', \"'ratnesh.mishra'\", 'weights', '=', 'map', '(', 'int', ',', 'input', '(', ')', ')', 'weights', '=', '[', 'cnt', 'for', 'cnt', ',', 'x', 'in', 'enumerate', '(', 'weights', ',', '1', ')', 'if', 'x', ']', 'm', '=', 'int', '(', 'input', '(', ')', ')', 'state', '=', '[', '(', '0', ',', '0', ',', '0', ',', '[', ']', ')', ']', 'res', '=', '\"NO\"', 'while', 'state', ':', 'w', ',', 'b', ',', 'k', ',', 'l', '=', 'state', '.', 'pop', '(', ')', 'if', 'k', '==', 'm', ':', 'res', '=', \"'YES\\\\n'\", '+', \"' '\", '.', 'join', '(', 'map', '(', 'str', ',', 'l', ')', ')', 'break', 'for', 'wt', 'in', 'weights', ':', 'if', 'wt', '!=', 'w', 'and', 'wt', '>', 'b', ':', 'state', '.', 'append', '(', '(', 'wt', ',', 'wt', '-', 'b', ',', 'k', '+', '1', ',', 'l', '+', '[', 'wt', ']', ')', ')', 'print', '(', 'res', ')']\n",
      "Code 2:\n",
      " Tokens: ['s', '=', 'input', '(', ')', 'm', '=', 'int', '(', 'input', '(', ')', ')', 'k1', '=', 'k2', '=', '0', 'z', '=', '[', '0', ']', '*', '1001', ';', 'index', '=', '0', 'x', '=', 'True', 'p', '=', 'list', '(', 's', ')', 'if', 'p', '.', 'count', '(', \"'1'\", ')', '==', '3', ':', 'i', '=', '0', 'while', 'p', '[', 'i', ']', '==', \"'0'\", ':', 'i', '+=', '1', 'i', '+=', '1', 'while', 'p', '[', 'i', ']', '==', \"'0'\", ':', 'i', '+=', '1', 'z', '[', '1', ']', '=', 'i', '+', '1', 'k2', '=', 'z', '[', '1', ']', 'p', '=', '1', 'index', '=', '1', 'else', ':', 'p', '=', '0', 'for', 'j', 'in', 'range', '(', 'p', ',', 'm', ')', ':', 'for', 'i', 'in', 'range', '(', '10', ')', ':', 'if', 's', '[', 'i', ']', '!=', \"'0'\", 'and', 'i', '+', '1', '!=', 'z', '[', 'index', ']', 'and', 'k1', '+', '(', 'i', '+', '1', ')', '>', 'k2', ':', 'k1', '+=', '(', 'i', '+', '1', ')', 'index', '+=', '1', 'z', '[', 'index', ']', '=', 'i', '+', '1', ';', 'break', 'else', ':', 'x', '=', 'False', 'break', 'if', 'index', '==', 'm', ':', 'break', 'for', 'i', 'in', 'range', '(', '10', ')', ':', 'if', 's', '[', 'i', ']', '!=', \"'0'\", 'and', 'i', '+', '1', '!=', 'z', '[', 'index', ']', 'and', 'k2', '+', '(', 'i', '+', '1', ')', '>', 'k1', ':', 'k2', '+=', '(', 'i', '+', '1', ')', 'index', '+=', '1', 'z', '[', 'index', ']', '=', 'i', '+', '1', 'break', 'else', ':', 'x', '=', 'False', 'break', 'if', 'index', '==', 'm', ':', 'break', 'if', 'x', ':', 'print', '(', \"'YES'\", ')', 'for', 'i', 'in', 'range', '(', '1', ',', 'm', '+', '1', ')', ':', 'print', '(', 'z', '[', 'i', ']', ',', 'end', '=', \"' '\", ')', 'else', ':', 'print', '(', \"'NO'\", ')']\n",
      "Code 3:\n",
      " Tokens: ['import', 'sys', 'sys', '.', 'setrecursionlimit', '(', '1000000', ')', 'tmp', '=', 'list', '(', 'map', '(', 'int', ',', '(', 'list', '(', 'input', '(', ')', ')', ')', ')', ')', 'w', '=', '[', 'i', '+', '1', 'for', 'i', 'in', 'range', '(', 'len', '(', 'tmp', ')', ')', 'if', 'tmp', '[', 'i', ']', '==', '1', ']', 'm', '=', 'int', '(', 'input', '(', ')', ')', 'def', 'dfs', '(', 'b', ',', 'p', ',', 's', ')', ':', 'if', 's', '==', 'm', ':', 'return', '[', 'p', ']', 'for', 'i', 'in', 'w', ':', 'if', 'i', '!=', 'p', 'and', 'i', '>', 'b', ':', 'ret', '=', 'dfs', '(', 'i', '-', 'b', ',', 'i', ',', 's', '+', '1', ')', 'if', 'ret', ':', 'ret', '.', 'append', '(', 'p', ')', 'return', 'ret', 'return', 'None', 'ret', '=', 'dfs', '(', '0', ',', '0', ',', '0', ')', 'if', 'ret', ':', 'print', '(', \"'YES'\", ')', 'ret', '.', 'reverse', '(', ')', 'print', '(', \"' '\", '.', 'join', '(', '(', 'list', '(', 'map', '(', 'str', ',', 'ret', '[', '1', ':', ']', ')', ')', ')', ')', ')', 'else', ':', 'print', '(', \"'NO'\", ')']\n"
     ]
    }
   ],
   "source": [
    "print(\"Number of tokenized code solutions:\", len(tokenized_code))\n",
    "for i, code in enumerate(tokenized_code):\n",
    "    if i > 2:  # Limit to first 3 codes for brevity\n",
    "        break\n",
    "    print(f\"Code {i+1}:\\n Tokens: {code}\")"
   ]
  },
  {
   "cell_type": "markdown",
   "id": "d268da97",
   "metadata": {},
   "source": [
    "Train the FastText model on the previously tokenized code corpus.  \n",
    "We are using almost the same configuration we had for descriptions."
   ]
  },
  {
   "cell_type": "code",
   "execution_count": null,
   "id": "ce6d23ef",
   "metadata": {},
   "outputs": [],
   "source": [
    "# Create FastText model for code solutions\n",
    "from gensim.models import FastText\n",
    "ft_model_code = FastText(\n",
    "    vector_size=100,\n",
    "    window=5,\n",
    "    min_count=2,\n",
    "    workers=8,\n",
    "    sg=1\n",
    ")\n",
    "ft_model_code.build_vocab(corpus_iterable=tokenized_code)\n",
    "# Train the model on the tokenized code solutions\n",
    "ft_model_code.train(\n",
    "    corpus_iterable=tokenized_code,\n",
    "    total_examples=len(tokenized_code),\n",
    "    epochs=10\n",
    ")\n",
    "# Save the FastText model for code solutions\n",
    "ft_model_code.save(\"fasttext_code.model\")"
   ]
  },
  {
   "cell_type": "markdown",
   "id": "baea5630",
   "metadata": {},
   "source": [
    "Load the model, useful to skip the previous long training step"
   ]
  },
  {
   "cell_type": "code",
   "execution_count": 118,
   "id": "557e3b5f",
   "metadata": {},
   "outputs": [],
   "source": [
    "ft_model_code = FastText.load(\"fasttext_code.model\")"
   ]
  },
  {
   "cell_type": "code",
   "execution_count": null,
   "id": "61dc306d",
   "metadata": {},
   "outputs": [
    {
     "name": "stdout",
     "output_type": "stream",
     "text": [
      "Vocabulary size: 266766\n"
     ]
    }
   ],
   "source": [
    "# Print the vocabulary size\n",
    "print(\"Vocabulary size:\", len(ft_model_code.wv.key_to_index))"
   ]
  },
  {
   "cell_type": "markdown",
   "id": "4d5a76eb",
   "metadata": {},
   "source": [
    "Here, test whether the model can recognize the most similar words to some key formal python terms (e.g., \"for\", \"if\", \"while\", etc.).  \n",
    "This gives us insight into whether the model has learned meaningful relationships between programming concepts based on the tokenized code."
   ]
  },
  {
   "cell_type": "code",
   "execution_count": 120,
   "id": "9eaf30d9",
   "metadata": {},
   "outputs": [
    {
     "data": {
      "text/plain": [
       "[('in', 0.8137962222099304),\n",
       " ('range', 0.7991275787353516),\n",
       " ('i', 0.7658703327178955),\n",
       " ('if', 0.7493084669113159),\n",
       " ('n', 0.7363026142120361),\n",
       " ('1', 0.7334885001182556),\n",
       " ('int', 0.7325080037117004),\n",
       " ('[', 0.7216368913650513),\n",
       " (')', 0.7215696573257446),\n",
       " (']', 0.7209526300430298)]"
      ]
     },
     "execution_count": 120,
     "metadata": {},
     "output_type": "execute_result"
    }
   ],
   "source": [
    "ft_model_code.wv.most_similar('for', topn=10)"
   ]
  },
  {
   "cell_type": "code",
   "execution_count": 121,
   "id": "9908eab2",
   "metadata": {},
   "outputs": [
    {
     "data": {
      "text/plain": [
       "[(':', 0.8620245456695557),\n",
       " ('1', 0.859686553478241),\n",
       " ('0', 0.8515041470527649),\n",
       " ('i', 0.8422074317932129),\n",
       " (')', 0.834545910358429),\n",
       " ('==', 0.8290315866470337),\n",
       " ('-', 0.817014217376709),\n",
       " ('(', 0.8148909211158752),\n",
       " ('+', 0.8006325960159302),\n",
       " ('n', 0.7996149659156799)]"
      ]
     },
     "execution_count": 121,
     "metadata": {},
     "output_type": "execute_result"
    }
   ],
   "source": [
    "ft_model_code.wv.most_similar('if', topn=10)"
   ]
  },
  {
   "cell_type": "code",
   "execution_count": 122,
   "id": "b9bb4aac",
   "metadata": {},
   "outputs": [
    {
     "data": {
      "text/plain": [
       "[('whiled', 0.787043035030365),\n",
       " ('n_while', 0.649196982383728),\n",
       " ('-=', 0.6250849366188049),\n",
       " ('no_while', 0.6032726168632507),\n",
       " ('<=', 0.5898699760437012),\n",
       " ('whileloop_count', 0.5862532258033752),\n",
       " ('continue_while', 0.583503246307373),\n",
       " ('elif', 0.5788335204124451),\n",
       " ('!=', 0.5729063153266907),\n",
       " ('>=', 0.5720224380493164)]"
      ]
     },
     "execution_count": 122,
     "metadata": {},
     "output_type": "execute_result"
    }
   ],
   "source": [
    "ft_model_code.wv.most_similar('while', topn=10)"
   ]
  },
  {
   "cell_type": "code",
   "execution_count": 123,
   "id": "ad79605f",
   "metadata": {},
   "outputs": [
    {
     "data": {
      "text/plain": [
       "[('from', 0.8952745795249939),\n",
       " ('importlib', 0.8554027676582336),\n",
       " ('impor', 0.8284448385238647),\n",
       " ('collections', 0.8251305222511292),\n",
       " ('itertools', 0.791632890701294),\n",
       " ('bisect', 0.7599672675132751),\n",
       " ('_collections', 0.7570397853851318),\n",
       " ('functools', 0.7509666085243225),\n",
       " ('as', 0.7279273271560669),\n",
       " ('fractions', 0.7246843576431274)]"
      ]
     },
     "execution_count": 123,
     "metadata": {},
     "output_type": "execute_result"
    }
   ],
   "source": [
    "ft_model_code.wv.most_similar('import', topn=10)"
   ]
  },
  {
   "cell_type": "code",
   "execution_count": 124,
   "id": "cb3212f3",
   "metadata": {},
   "outputs": [
    {
     "data": {
      "text/plain": [
       "[(']', 0.9672830104827881),\n",
       " ('i', 0.8931779861450195),\n",
       " ('1', 0.8762338161468506),\n",
       " ('-', 0.8599721193313599),\n",
       " ('in', 0.8263137340545654),\n",
       " ('=', 0.8251293301582336),\n",
       " ('0', 0.8235974907875061),\n",
       " (')', 0.822938859462738),\n",
       " (':', 0.8216568827629089),\n",
       " ('(', 0.8127009272575378)]"
      ]
     },
     "execution_count": 124,
     "metadata": {},
     "output_type": "execute_result"
    }
   ],
   "source": [
    "ft_model_code.wv.most_similar('[', topn=10)"
   ]
  },
  {
   "cell_type": "markdown",
   "id": "4382bbed",
   "metadata": {},
   "source": [
    "It seems to have captured some structures and repetition in the code language "
   ]
  },
  {
   "cell_type": "markdown",
   "id": "0d2ebc6d",
   "metadata": {},
   "source": [
    "Let's try to see a graphical representation of some random tokens in the vocabulary using t-SNE and plotly."
   ]
  },
  {
   "cell_type": "code",
   "execution_count": 125,
   "id": "b0b4672d",
   "metadata": {},
   "outputs": [
    {
     "name": "stdout",
     "output_type": "stream",
     "text": [
      "['5242715496', 'duplicate', 'x_dis', '13723', 'aLngth', 'listout', 'kxb', 'str_R', '45697', 'check_pythagorean_theorem', '6379198553380056131398567110588', '194164134', 'cal_arr', 'inpb', 'one_sec', 'black_distance', '69119', '12301', 'pref_sm', 'numberOfEven', 'odd_half', '72497', 'indLeft', 'money_2', '140.0', 'max_of_list', 'curr_side', 'index_min_r', '44447447774', 'lenFlag', '203734831851444523998150720000', '77167168', '3211915413467943245280408135253628171660543181148276654080000', '32377', 'par_u', 'allowed_letters', 'ans_res', '\" YNeos\"', 'all_safes', 'principio', '173674546470380440741680', 'berlist', \"'f(24) = MAGNA NIMIS!'\", 'col_taken', '11876492948655423122013963214755495466938777600', '227705360181788283783595008', 'tiempo1estufa', 'ans_cand', '178596353224677595625526937762950163660800', 'minitem']\n"
     ]
    }
   ],
   "source": [
    "import random\n",
    "\n",
    "sample = random.sample(list(ft_model_code.wv.key_to_index), 50)\n",
    "print(sample)"
   ]
  },
  {
   "cell_type": "code",
   "execution_count": null,
   "id": "94485d50",
   "metadata": {},
   "outputs": [
    {
     "name": "stdout",
     "output_type": "stream",
     "text": [
      "[[-0.17741325 -0.40698034  0.19850037 ... -0.21567681  1.6538343\n",
      "  -0.27807835]\n",
      " [ 0.49476406 -0.633559   -0.13349868 ...  0.96943897  0.6510257\n",
      "   0.5175061 ]\n",
      " [ 0.6048307   0.5656388   0.6332588  ...  1.2473801  -0.4507485\n",
      "   0.6731845 ]\n",
      " ...\n",
      " [-0.12977535  0.06597771 -0.35987705 ... -0.124568    0.2892887\n",
      "   0.24415283]\n",
      " [-0.15097976 -0.45376438  0.55178446 ... -0.42563334  1.6015333\n",
      "  -0.9339056 ]\n",
      " [ 0.652093    0.12511691 -0.07387293 ...  1.0632232   0.2472515\n",
      "   0.4658623 ]]\n",
      "Shape of word vectors: (50, 100)\n"
     ]
    }
   ],
   "source": [
    "# Qbtain the word vectors for the sampled words\n",
    "word_vectors = ft_model_code.wv[sample]\n",
    "print(word_vectors)\n",
    "print(\"Shape of word vectors:\", word_vectors.shape)"
   ]
  },
  {
   "cell_type": "code",
   "execution_count": null,
   "id": "6125466e",
   "metadata": {},
   "outputs": [
    {
     "name": "stderr",
     "output_type": "stream",
     "text": [
      "c:\\Users\\utente\\AppData\\Local\\Programs\\Python\\Python312\\Lib\\site-packages\\sklearn\\manifold\\_t_sne.py:1164: FutureWarning:\n",
      "\n",
      "'n_iter' was renamed to 'max_iter' in version 1.5 and will be removed in 1.7.\n",
      "\n"
     ]
    },
    {
     "data": {
      "application/vnd.plotly.v1+json": {
       "config": {
        "plotlyServerURL": "https://plot.ly"
       },
       "data": [
        {
         "hovertemplate": "x=%{x}<br>y=%{y}<br>z=%{z}<br>text=%{text}<extra></extra>",
         "legendgroup": "",
         "marker": {
          "color": "#636efa",
          "line": {
           "width": 2
          },
          "size": 3,
          "symbol": "circle"
         },
         "mode": "markers+text",
         "name": "",
         "scene": "scene",
         "showlegend": false,
         "text": [
          "5242715496",
          "duplicate",
          "x_dis",
          "13723",
          "aLngth",
          "listout",
          "kxb",
          "str_R",
          "45697",
          "check_pythagorean_theorem",
          "6379198553380056131398567110588",
          "194164134",
          "cal_arr",
          "inpb",
          "one_sec",
          "black_distance",
          "69119",
          "12301",
          "pref_sm",
          "numberOfEven",
          "odd_half",
          "72497",
          "indLeft",
          "money_2",
          "140.0",
          "max_of_list",
          "curr_side",
          "index_min_r",
          "44447447774",
          "lenFlag",
          "203734831851444523998150720000",
          "77167168",
          "3211915413467943245280408135253628171660543181148276654080000",
          "32377",
          "par_u",
          "allowed_letters",
          "ans_res",
          "\" YNeos\"",
          "all_safes",
          "principio",
          "173674546470380440741680",
          "berlist",
          "'f(24) = MAGNA NIMIS!'",
          "col_taken",
          "11876492948655423122013963214755495466938777600",
          "227705360181788283783595008",
          "tiempo1estufa",
          "ans_cand",
          "178596353224677595625526937762950163660800",
          "minitem"
         ],
         "textfont": {
          "size": 10
         },
         "type": "scatter3d",
         "x": [
          -57.224063873291016,
          73.06294250488281,
          246.6444091796875,
          -173.1981201171875,
          89.05270385742188,
          -97.9921646118164,
          28.678104400634766,
          177.4789276123047,
          34.236289978027344,
          -60.268089294433594,
          -40.6826057434082,
          -121.67862701416016,
          -25.223350524902344,
          -173.03695678710938,
          78.69741821289062,
          188.09805297851562,
          -35.00059127807617,
          -65.44596099853516,
          11.535046577453613,
          -136.42039489746094,
          135.03627014160156,
          92.93700408935547,
          83.42399597167969,
          18.275039672851562,
          -198.18215942382812,
          -12.628801345825195,
          112.54151153564453,
          -106.7052230834961,
          -44.74087905883789,
          -44.02737045288086,
          -155.3546905517578,
          -204.05120849609375,
          -65.23221588134766,
          -143.5216064453125,
          167.8678741455078,
          7.478436470031738,
          94.40902709960938,
          145.69065856933594,
          -85.87348175048828,
          47.26995849609375,
          -18.16322898864746,
          29.153627395629883,
          -91.40754699707031,
          -21.421611785888672,
          39.378631591796875,
          -7.039031982421875,
          -74.58446502685547,
          97.82928466796875,
          -62.18033981323242,
          147.1912078857422
         ],
         "y": [
          176.75845336914062,
          -112.41350555419922,
          7.280130863189697,
          -62.08012008666992,
          7.3091936111450195,
          79.53851318359375,
          -8.83176040649414,
          -50.02063751220703,
          -82.8715591430664,
          160.19546508789062,
          -181.70498657226562,
          -145.36863708496094,
          -24.651836395263672,
          97.98194122314453,
          94.94135284423828,
          72.1471939086914,
          -105.84388732910156,
          -100.79737091064453,
          75.64884185791016,
          179.9234619140625,
          10.461243629455566,
          -34.24134826660156,
          -91.42102813720703,
          139.3181610107422,
          -16.93101692199707,
          162.96043395996094,
          91.44108581542969,
          -58.20100021362305,
          -234.85940551757812,
          238.31654357910156,
          -186.6846923828125,
          12.80240249633789,
          -48.118255615234375,
          -117.27967834472656,
          156.1610565185547,
          61.72945785522461,
          169.3574676513672,
          -91.04470825195312,
          67.94302368164062,
          180.19683837890625,
          -168.4998779296875,
          -72.75578308105469,
          0.7202022075653076,
          47.64249038696289,
          -191.4394989013672,
          -1.396245002746582,
          103.89037322998047,
          95.98873138427734,
          -235.389404296875,
          -138.62313842773438
         ],
         "z": [
          -181.113525390625,
          -102.26028442382812,
          27.015348434448242,
          70.78955841064453,
          -100.2045669555664,
          -105.30081939697266,
          -20.72002601623535,
          -125.43995666503906,
          67.50385284423828,
          85.9448013305664,
          -68.6483383178711,
          120.95388793945312,
          -108.25379180908203,
          50.61867904663086,
          -18.4314022064209,
          -76.6467514038086,
          182.15733337402344,
          4.990373611450195,
          -104.43982696533203,
          -52.13974380493164,
          21.62204360961914,
          134.6875762939453,
          232.6492919921875,
          170.9080810546875,
          -9.783454895019531,
          -57.38714599609375,
          103.74943542480469,
          -178.89942932128906,
          180.79681396484375,
          16.896100997924805,
          27.909358978271484,
          -121.30127716064453,
          99.63372802734375,
          -62.05290985107422,
          16.391965866088867,
          55.658531188964844,
          -99.8296127319336,
          -19.45551109313965,
          116.3915023803711,
          45.0487060546875,
          91.76384735107422,
          -197.0968475341797,
          -13.565847396850586,
          -210.13690185546875,
          6.9931745529174805,
          180.67015075683594,
          0.9999905824661255,
          -182.38002014160156,
          25.606672286987305,
          90.26725006103516
         ]
        }
       ],
       "layout": {
        "legend": {
         "tracegroupgap": 0
        },
        "margin": {
         "t": 60
        },
        "scene": {
         "domain": {
          "x": [
           0,
           1
          ],
          "y": [
           0,
           1
          ]
         },
         "xaxis": {
          "title": {
           "text": "x"
          }
         },
         "yaxis": {
          "title": {
           "text": "y"
          }
         },
         "zaxis": {
          "title": {
           "text": "z"
          }
         }
        },
        "template": {
         "data": {
          "bar": [
           {
            "error_x": {
             "color": "#2a3f5f"
            },
            "error_y": {
             "color": "#2a3f5f"
            },
            "marker": {
             "line": {
              "color": "#E5ECF6",
              "width": 0.5
             },
             "pattern": {
              "fillmode": "overlay",
              "size": 10,
              "solidity": 0.2
             }
            },
            "type": "bar"
           }
          ],
          "barpolar": [
           {
            "marker": {
             "line": {
              "color": "#E5ECF6",
              "width": 0.5
             },
             "pattern": {
              "fillmode": "overlay",
              "size": 10,
              "solidity": 0.2
             }
            },
            "type": "barpolar"
           }
          ],
          "carpet": [
           {
            "aaxis": {
             "endlinecolor": "#2a3f5f",
             "gridcolor": "white",
             "linecolor": "white",
             "minorgridcolor": "white",
             "startlinecolor": "#2a3f5f"
            },
            "baxis": {
             "endlinecolor": "#2a3f5f",
             "gridcolor": "white",
             "linecolor": "white",
             "minorgridcolor": "white",
             "startlinecolor": "#2a3f5f"
            },
            "type": "carpet"
           }
          ],
          "choropleth": [
           {
            "colorbar": {
             "outlinewidth": 0,
             "ticks": ""
            },
            "type": "choropleth"
           }
          ],
          "contour": [
           {
            "colorbar": {
             "outlinewidth": 0,
             "ticks": ""
            },
            "colorscale": [
             [
              0,
              "#0d0887"
             ],
             [
              0.1111111111111111,
              "#46039f"
             ],
             [
              0.2222222222222222,
              "#7201a8"
             ],
             [
              0.3333333333333333,
              "#9c179e"
             ],
             [
              0.4444444444444444,
              "#bd3786"
             ],
             [
              0.5555555555555556,
              "#d8576b"
             ],
             [
              0.6666666666666666,
              "#ed7953"
             ],
             [
              0.7777777777777778,
              "#fb9f3a"
             ],
             [
              0.8888888888888888,
              "#fdca26"
             ],
             [
              1,
              "#f0f921"
             ]
            ],
            "type": "contour"
           }
          ],
          "contourcarpet": [
           {
            "colorbar": {
             "outlinewidth": 0,
             "ticks": ""
            },
            "type": "contourcarpet"
           }
          ],
          "heatmap": [
           {
            "colorbar": {
             "outlinewidth": 0,
             "ticks": ""
            },
            "colorscale": [
             [
              0,
              "#0d0887"
             ],
             [
              0.1111111111111111,
              "#46039f"
             ],
             [
              0.2222222222222222,
              "#7201a8"
             ],
             [
              0.3333333333333333,
              "#9c179e"
             ],
             [
              0.4444444444444444,
              "#bd3786"
             ],
             [
              0.5555555555555556,
              "#d8576b"
             ],
             [
              0.6666666666666666,
              "#ed7953"
             ],
             [
              0.7777777777777778,
              "#fb9f3a"
             ],
             [
              0.8888888888888888,
              "#fdca26"
             ],
             [
              1,
              "#f0f921"
             ]
            ],
            "type": "heatmap"
           }
          ],
          "heatmapgl": [
           {
            "colorbar": {
             "outlinewidth": 0,
             "ticks": ""
            },
            "colorscale": [
             [
              0,
              "#0d0887"
             ],
             [
              0.1111111111111111,
              "#46039f"
             ],
             [
              0.2222222222222222,
              "#7201a8"
             ],
             [
              0.3333333333333333,
              "#9c179e"
             ],
             [
              0.4444444444444444,
              "#bd3786"
             ],
             [
              0.5555555555555556,
              "#d8576b"
             ],
             [
              0.6666666666666666,
              "#ed7953"
             ],
             [
              0.7777777777777778,
              "#fb9f3a"
             ],
             [
              0.8888888888888888,
              "#fdca26"
             ],
             [
              1,
              "#f0f921"
             ]
            ],
            "type": "heatmapgl"
           }
          ],
          "histogram": [
           {
            "marker": {
             "pattern": {
              "fillmode": "overlay",
              "size": 10,
              "solidity": 0.2
             }
            },
            "type": "histogram"
           }
          ],
          "histogram2d": [
           {
            "colorbar": {
             "outlinewidth": 0,
             "ticks": ""
            },
            "colorscale": [
             [
              0,
              "#0d0887"
             ],
             [
              0.1111111111111111,
              "#46039f"
             ],
             [
              0.2222222222222222,
              "#7201a8"
             ],
             [
              0.3333333333333333,
              "#9c179e"
             ],
             [
              0.4444444444444444,
              "#bd3786"
             ],
             [
              0.5555555555555556,
              "#d8576b"
             ],
             [
              0.6666666666666666,
              "#ed7953"
             ],
             [
              0.7777777777777778,
              "#fb9f3a"
             ],
             [
              0.8888888888888888,
              "#fdca26"
             ],
             [
              1,
              "#f0f921"
             ]
            ],
            "type": "histogram2d"
           }
          ],
          "histogram2dcontour": [
           {
            "colorbar": {
             "outlinewidth": 0,
             "ticks": ""
            },
            "colorscale": [
             [
              0,
              "#0d0887"
             ],
             [
              0.1111111111111111,
              "#46039f"
             ],
             [
              0.2222222222222222,
              "#7201a8"
             ],
             [
              0.3333333333333333,
              "#9c179e"
             ],
             [
              0.4444444444444444,
              "#bd3786"
             ],
             [
              0.5555555555555556,
              "#d8576b"
             ],
             [
              0.6666666666666666,
              "#ed7953"
             ],
             [
              0.7777777777777778,
              "#fb9f3a"
             ],
             [
              0.8888888888888888,
              "#fdca26"
             ],
             [
              1,
              "#f0f921"
             ]
            ],
            "type": "histogram2dcontour"
           }
          ],
          "mesh3d": [
           {
            "colorbar": {
             "outlinewidth": 0,
             "ticks": ""
            },
            "type": "mesh3d"
           }
          ],
          "parcoords": [
           {
            "line": {
             "colorbar": {
              "outlinewidth": 0,
              "ticks": ""
             }
            },
            "type": "parcoords"
           }
          ],
          "pie": [
           {
            "automargin": true,
            "type": "pie"
           }
          ],
          "scatter": [
           {
            "fillpattern": {
             "fillmode": "overlay",
             "size": 10,
             "solidity": 0.2
            },
            "type": "scatter"
           }
          ],
          "scatter3d": [
           {
            "line": {
             "colorbar": {
              "outlinewidth": 0,
              "ticks": ""
             }
            },
            "marker": {
             "colorbar": {
              "outlinewidth": 0,
              "ticks": ""
             }
            },
            "type": "scatter3d"
           }
          ],
          "scattercarpet": [
           {
            "marker": {
             "colorbar": {
              "outlinewidth": 0,
              "ticks": ""
             }
            },
            "type": "scattercarpet"
           }
          ],
          "scattergeo": [
           {
            "marker": {
             "colorbar": {
              "outlinewidth": 0,
              "ticks": ""
             }
            },
            "type": "scattergeo"
           }
          ],
          "scattergl": [
           {
            "marker": {
             "colorbar": {
              "outlinewidth": 0,
              "ticks": ""
             }
            },
            "type": "scattergl"
           }
          ],
          "scattermapbox": [
           {
            "marker": {
             "colorbar": {
              "outlinewidth": 0,
              "ticks": ""
             }
            },
            "type": "scattermapbox"
           }
          ],
          "scatterpolar": [
           {
            "marker": {
             "colorbar": {
              "outlinewidth": 0,
              "ticks": ""
             }
            },
            "type": "scatterpolar"
           }
          ],
          "scatterpolargl": [
           {
            "marker": {
             "colorbar": {
              "outlinewidth": 0,
              "ticks": ""
             }
            },
            "type": "scatterpolargl"
           }
          ],
          "scatterternary": [
           {
            "marker": {
             "colorbar": {
              "outlinewidth": 0,
              "ticks": ""
             }
            },
            "type": "scatterternary"
           }
          ],
          "surface": [
           {
            "colorbar": {
             "outlinewidth": 0,
             "ticks": ""
            },
            "colorscale": [
             [
              0,
              "#0d0887"
             ],
             [
              0.1111111111111111,
              "#46039f"
             ],
             [
              0.2222222222222222,
              "#7201a8"
             ],
             [
              0.3333333333333333,
              "#9c179e"
             ],
             [
              0.4444444444444444,
              "#bd3786"
             ],
             [
              0.5555555555555556,
              "#d8576b"
             ],
             [
              0.6666666666666666,
              "#ed7953"
             ],
             [
              0.7777777777777778,
              "#fb9f3a"
             ],
             [
              0.8888888888888888,
              "#fdca26"
             ],
             [
              1,
              "#f0f921"
             ]
            ],
            "type": "surface"
           }
          ],
          "table": [
           {
            "cells": {
             "fill": {
              "color": "#EBF0F8"
             },
             "line": {
              "color": "white"
             }
            },
            "header": {
             "fill": {
              "color": "#C8D4E3"
             },
             "line": {
              "color": "white"
             }
            },
            "type": "table"
           }
          ]
         },
         "layout": {
          "annotationdefaults": {
           "arrowcolor": "#2a3f5f",
           "arrowhead": 0,
           "arrowwidth": 1
          },
          "autotypenumbers": "strict",
          "coloraxis": {
           "colorbar": {
            "outlinewidth": 0,
            "ticks": ""
           }
          },
          "colorscale": {
           "diverging": [
            [
             0,
             "#8e0152"
            ],
            [
             0.1,
             "#c51b7d"
            ],
            [
             0.2,
             "#de77ae"
            ],
            [
             0.3,
             "#f1b6da"
            ],
            [
             0.4,
             "#fde0ef"
            ],
            [
             0.5,
             "#f7f7f7"
            ],
            [
             0.6,
             "#e6f5d0"
            ],
            [
             0.7,
             "#b8e186"
            ],
            [
             0.8,
             "#7fbc41"
            ],
            [
             0.9,
             "#4d9221"
            ],
            [
             1,
             "#276419"
            ]
           ],
           "sequential": [
            [
             0,
             "#0d0887"
            ],
            [
             0.1111111111111111,
             "#46039f"
            ],
            [
             0.2222222222222222,
             "#7201a8"
            ],
            [
             0.3333333333333333,
             "#9c179e"
            ],
            [
             0.4444444444444444,
             "#bd3786"
            ],
            [
             0.5555555555555556,
             "#d8576b"
            ],
            [
             0.6666666666666666,
             "#ed7953"
            ],
            [
             0.7777777777777778,
             "#fb9f3a"
            ],
            [
             0.8888888888888888,
             "#fdca26"
            ],
            [
             1,
             "#f0f921"
            ]
           ],
           "sequentialminus": [
            [
             0,
             "#0d0887"
            ],
            [
             0.1111111111111111,
             "#46039f"
            ],
            [
             0.2222222222222222,
             "#7201a8"
            ],
            [
             0.3333333333333333,
             "#9c179e"
            ],
            [
             0.4444444444444444,
             "#bd3786"
            ],
            [
             0.5555555555555556,
             "#d8576b"
            ],
            [
             0.6666666666666666,
             "#ed7953"
            ],
            [
             0.7777777777777778,
             "#fb9f3a"
            ],
            [
             0.8888888888888888,
             "#fdca26"
            ],
            [
             1,
             "#f0f921"
            ]
           ]
          },
          "colorway": [
           "#636efa",
           "#EF553B",
           "#00cc96",
           "#ab63fa",
           "#FFA15A",
           "#19d3f3",
           "#FF6692",
           "#B6E880",
           "#FF97FF",
           "#FECB52"
          ],
          "font": {
           "color": "#2a3f5f"
          },
          "geo": {
           "bgcolor": "white",
           "lakecolor": "white",
           "landcolor": "#E5ECF6",
           "showlakes": true,
           "showland": true,
           "subunitcolor": "white"
          },
          "hoverlabel": {
           "align": "left"
          },
          "hovermode": "closest",
          "mapbox": {
           "style": "light"
          },
          "paper_bgcolor": "white",
          "plot_bgcolor": "#E5ECF6",
          "polar": {
           "angularaxis": {
            "gridcolor": "white",
            "linecolor": "white",
            "ticks": ""
           },
           "bgcolor": "#E5ECF6",
           "radialaxis": {
            "gridcolor": "white",
            "linecolor": "white",
            "ticks": ""
           }
          },
          "scene": {
           "xaxis": {
            "backgroundcolor": "#E5ECF6",
            "gridcolor": "white",
            "gridwidth": 2,
            "linecolor": "white",
            "showbackground": true,
            "ticks": "",
            "zerolinecolor": "white"
           },
           "yaxis": {
            "backgroundcolor": "#E5ECF6",
            "gridcolor": "white",
            "gridwidth": 2,
            "linecolor": "white",
            "showbackground": true,
            "ticks": "",
            "zerolinecolor": "white"
           },
           "zaxis": {
            "backgroundcolor": "#E5ECF6",
            "gridcolor": "white",
            "gridwidth": 2,
            "linecolor": "white",
            "showbackground": true,
            "ticks": "",
            "zerolinecolor": "white"
           }
          },
          "shapedefaults": {
           "line": {
            "color": "#2a3f5f"
           }
          },
          "ternary": {
           "aaxis": {
            "gridcolor": "white",
            "linecolor": "white",
            "ticks": ""
           },
           "baxis": {
            "gridcolor": "white",
            "linecolor": "white",
            "ticks": ""
           },
           "bgcolor": "#E5ECF6",
           "caxis": {
            "gridcolor": "white",
            "linecolor": "white",
            "ticks": ""
           }
          },
          "title": {
           "x": 0.05
          },
          "xaxis": {
           "automargin": true,
           "gridcolor": "white",
           "linecolor": "white",
           "ticks": "",
           "title": {
            "standoff": 15
           },
           "zerolinecolor": "white",
           "zerolinewidth": 2
          },
          "yaxis": {
           "automargin": true,
           "gridcolor": "white",
           "linecolor": "white",
           "ticks": "",
           "title": {
            "standoff": 15
           },
           "zerolinecolor": "white",
           "zerolinewidth": 2
          }
         }
        }
       }
      }
     },
     "metadata": {},
     "output_type": "display_data"
    }
   ],
   "source": [
    "from sklearn.manifold import TSNE\n",
    "import numpy as np\n",
    "\n",
    "# Perform t-SNE to reduce the dimensionality of the word vectors to 3D\n",
    "tsne = TSNE(n_components=3, n_iter=2000)\n",
    "tsne_embedding = tsne.fit_transform(word_vectors)\n",
    "\n",
    "x, y, z = np.transpose(tsne_embedding)\n",
    "\n",
    "import plotly.express as px\n",
    "\n",
    "fig = px.scatter_3d(x=x[:200],y=y[:200],z=z[:200],text=sample[:200])\n",
    "fig.update_traces(marker=dict(size=3,line=dict(width=2)),textfont_size=10)\n",
    "fig.show()"
   ]
  },
  {
   "cell_type": "markdown",
   "id": "8e9bcc3a",
   "metadata": {},
   "source": [
    "Not really informative."
   ]
  },
  {
   "cell_type": "markdown",
   "id": "ee8842d9",
   "metadata": {},
   "source": [
    "#### Labeling Comments"
   ]
  },
  {
   "cell_type": "markdown",
   "id": "8383ed89",
   "metadata": {},
   "source": [
    "The main purpose is to train a FastText model using as tokens also the words of the in-line comments with a special tag added to them.    \n",
    "This could allow the model to better distinguish comments from pure code.\n",
    "\n",
    "Here, the new version of the tokenize function (marks comments with a prefix).\n"
   ]
  },
  {
   "cell_type": "code",
   "execution_count": null,
   "id": "7599c424",
   "metadata": {},
   "outputs": [],
   "source": [
    "import io\n",
    "import tokenize\n",
    "from typing import List\n",
    "\n",
    "def tokenize_code_with_comments(code: str) -> List[str]:\n",
    "    tokens = []\n",
    "    try:\n",
    "        token_generator = tokenize.generate_tokens(io.StringIO(code).readline)\n",
    "        for toknum, tokval, _, _, _ in token_generator:\n",
    "            tokval = tokval.strip()\n",
    "            if tokval == \"\":\n",
    "                continue\n",
    "\n",
    "            if toknum == tokenize.COMMENT:\n",
    "                # Remove \"#\" and tokenize comment\n",
    "                comment_body = tokval.lstrip(\"#\").strip()\n",
    "                comment_tokens = comment_body.split()\n",
    "                for word in comment_tokens:\n",
    "                    tokens.append(f\"<comment>{word.lower()}\")\n",
    "            else:\n",
    "                tokens.append(tokval)\n",
    "    except (tokenize.TokenError, IndentationError, SyntaxError) as e:\n",
    "        # Skip bad code\n",
    "        pass\n",
    "    except Exception as e:\n",
    "        pass\n",
    "    return tokens\n"
   ]
  },
  {
   "cell_type": "markdown",
   "id": "e145e218",
   "metadata": {},
   "source": [
    "Tokenize examples of code maintaining in-line comments with an additional tag."
   ]
  },
  {
   "cell_type": "code",
   "execution_count": null,
   "id": "f239339d",
   "metadata": {},
   "outputs": [],
   "source": [
    "\n",
    "cleaned_code_ex = [remove_multiline_comments(code) for code in examples_code]\n",
    "tokenized_code_with_comments_ex = [tokenize_code_with_comments(code) for code in cleaned_code_ex if len(code.strip()) > 0]"
   ]
  },
  {
   "cell_type": "markdown",
   "id": "076422d7",
   "metadata": {},
   "source": [
    "We try this new type of tokenization on the previous example of snippet (used to test the tokenization without comments)"
   ]
  },
  {
   "cell_type": "code",
   "execution_count": null,
   "id": "ddbf9d80",
   "metadata": {},
   "outputs": [
    {
     "name": "stdout",
     "output_type": "stream",
     "text": [
      "Number of tokenized code solutions: 5\n",
      "Code 1:\n",
      " Tokens: ['def', 'example_function', '(', 'x', ',', 'y', ')', ':', '<comment>this', '<comment>function', '<comment>adds', '<comment>two', '<comment>numbers', 'result', '=', 'x', '+', 'y', '<comment>add', '<comment>x', '<comment>and', '<comment>y', 'return', 'result', '<comment>return', '<comment>the', '<comment>result']\n",
      "Code 2:\n",
      " Tokens: ['def', 'another_function', '(', 'a', ',', 'b', ')', ':', '<comment>this', '<comment>function', '<comment>multiplies', '<comment>two', '<comment>numbers', 'product', '=', 'a', '*', 'b', '<comment>multiply', '<comment>a', '<comment>and', '<comment>b', 'return', 'product', '<comment>return', '<comment>the', '<comment>product']\n",
      "Code 3:\n",
      " Tokens: ['for', 'i', 'in', 'range', '(', '10', ')', ':', '<comment>stampa', '<comment>i', 'print', '(', 'i', ')', 'str', '=', '<comment>commento']\n"
     ]
    }
   ],
   "source": [
    "\n",
    "print(\"Number of tokenized code solutions:\", len(tokenized_code_with_comments_ex))\n",
    "for i, code in enumerate(tokenized_code_with_comments_ex):\n",
    "    if i >= 3:  # Limit to first 3 codes for brevity\n",
    "        break\n",
    "    print(f\"Code {i+1}:\\n Tokens: {code}\")"
   ]
  },
  {
   "cell_type": "markdown",
   "id": "ac7a4a62",
   "metadata": {},
   "source": [
    "Tokenize now the real code"
   ]
  },
  {
   "cell_type": "code",
   "execution_count": 110,
   "id": "8d2cf488",
   "metadata": {},
   "outputs": [],
   "source": [
    "cleaned_code= [remove_multiline_comments(code) for code in all_solutions]\n",
    "tokenized_code_with_comments= [tokenize_code_with_comments(code) for code in cleaned_code  if len(code.strip()) > 0]"
   ]
  },
  {
   "cell_type": "markdown",
   "id": "584724b3",
   "metadata": {},
   "source": [
    "Here the usual saving/load options in order to save time for the tokenization"
   ]
  },
  {
   "cell_type": "code",
   "execution_count": null,
   "id": "1f8a5b5c",
   "metadata": {},
   "outputs": [],
   "source": [
    "# Optional: Save the tokenized code with comments to a file\n",
    "with open(\"tokenized_code_wcomm.pkl\", \"wb\") as f:\n",
    "    for item in tokenized_code_with_comments:\n",
    "        pickle.dump(item, f)"
   ]
  },
  {
   "cell_type": "code",
   "execution_count": null,
   "id": "64154f1b",
   "metadata": {},
   "outputs": [],
   "source": [
    "# Load the tokenized code with comments from the file\n",
    "tokenized_code_with_comments = []\n",
    "\n",
    "with open(\"tokenized_code_wcomm.pkl\", \"rb\") as f:\n",
    "    while True:\n",
    "        try:\n",
    "            item = pickle.load(f)\n",
    "            tokenized_code_with_comments.append(item)\n",
    "        except EOFError:\n",
    "            break\n"
   ]
  },
  {
   "cell_type": "markdown",
   "id": "007804a5",
   "metadata": {},
   "source": [
    "Print the real number of tokenized code solutions and a few examples to have an idea"
   ]
  },
  {
   "cell_type": "code",
   "execution_count": null,
   "id": "6de49513",
   "metadata": {},
   "outputs": [
    {
     "name": "stdout",
     "output_type": "stream",
     "text": [
      "Number of tokenized code solutions: 1190250\n",
      "Code 1:\n",
      " Tokens: ['__author__', '=', \"'ratnesh.mishra'\", 'weights', '=', 'map', '(', 'int', ',', 'input', '(', ')', ')', 'weights', '=', '[', 'cnt', 'for', 'cnt', ',', 'x', 'in', 'enumerate', '(', 'weights', ',', '1', ')', 'if', 'x', ']', 'm', '=', 'int', '(', 'input', '(', ')', ')', 'state', '=', '[', '(', '0', ',', '0', ',', '0', ',', '[', ']', ')', ']', 'res', '=', '\"NO\"', 'while', 'state', ':', 'w', ',', 'b', ',', 'k', ',', 'l', '=', 'state', '.', 'pop', '(', ')', 'if', 'k', '==', 'm', ':', 'res', '=', \"'YES\\\\n'\", '+', \"' '\", '.', 'join', '(', 'map', '(', 'str', ',', 'l', ')', ')', 'break', 'for', 'wt', 'in', 'weights', ':', 'if', 'wt', '!=', 'w', 'and', 'wt', '>', 'b', ':', 'state', '.', 'append', '(', '(', 'wt', ',', 'wt', '-', 'b', ',', 'k', '+', '1', ',', 'l', '+', '[', 'wt', ']', ')', ')', 'print', '(', 'res', ')']\n",
      "Code 2:\n",
      " Tokens: ['s', '=', 'input', '(', ')', 'm', '=', 'int', '(', 'input', '(', ')', ')', 'k1', '=', 'k2', '=', '0', 'z', '=', '[', '0', ']', '*', '1001', ';', 'index', '=', '0', 'x', '=', 'True', 'p', '=', 'list', '(', 's', ')', 'if', 'p', '.', 'count', '(', \"'1'\", ')', '==', '3', ':', 'i', '=', '0', 'while', 'p', '[', 'i', ']', '==', \"'0'\", ':', 'i', '+=', '1', 'i', '+=', '1', 'while', 'p', '[', 'i', ']', '==', \"'0'\", ':', 'i', '+=', '1', 'z', '[', '1', ']', '=', 'i', '+', '1', 'k2', '=', 'z', '[', '1', ']', 'p', '=', '1', 'index', '=', '1', 'else', ':', 'p', '=', '0', 'for', 'j', 'in', 'range', '(', 'p', ',', 'm', ')', ':', 'for', 'i', 'in', 'range', '(', '10', ')', ':', 'if', 's', '[', 'i', ']', '!=', \"'0'\", 'and', 'i', '+', '1', '!=', 'z', '[', 'index', ']', 'and', 'k1', '+', '(', 'i', '+', '1', ')', '>', 'k2', ':', 'k1', '+=', '(', 'i', '+', '1', ')', 'index', '+=', '1', 'z', '[', 'index', ']', '=', 'i', '+', '1', ';', 'break', 'else', ':', 'x', '=', 'False', 'break', 'if', 'index', '==', 'm', ':', 'break', 'for', 'i', 'in', 'range', '(', '10', ')', ':', 'if', 's', '[', 'i', ']', '!=', \"'0'\", 'and', 'i', '+', '1', '!=', 'z', '[', 'index', ']', 'and', 'k2', '+', '(', 'i', '+', '1', ')', '>', 'k1', ':', 'k2', '+=', '(', 'i', '+', '1', ')', 'index', '+=', '1', 'z', '[', 'index', ']', '=', 'i', '+', '1', 'break', 'else', ':', 'x', '=', 'False', 'break', 'if', 'index', '==', 'm', ':', 'break', 'if', 'x', ':', 'print', '(', \"'YES'\", ')', 'for', 'i', 'in', 'range', '(', '1', ',', 'm', '+', '1', ')', ':', 'print', '(', 'z', '[', 'i', ']', ',', 'end', '=', \"' '\", ')', 'else', ':', 'print', '(', \"'NO'\", ')']\n",
      "Code 3:\n",
      " Tokens: ['import', 'sys', 'sys', '.', 'setrecursionlimit', '(', '1000000', ')', 'tmp', '=', 'list', '(', 'map', '(', 'int', ',', '(', 'list', '(', 'input', '(', ')', ')', ')', ')', ')', 'w', '=', '[', 'i', '+', '1', 'for', 'i', 'in', 'range', '(', 'len', '(', 'tmp', ')', ')', 'if', 'tmp', '[', 'i', ']', '==', '1', ']', 'm', '=', 'int', '(', 'input', '(', ')', ')', 'def', 'dfs', '(', 'b', ',', 'p', ',', 's', ')', ':', 'if', 's', '==', 'm', ':', 'return', '[', 'p', ']', 'for', 'i', 'in', 'w', ':', 'if', 'i', '!=', 'p', 'and', 'i', '>', 'b', ':', 'ret', '=', 'dfs', '(', 'i', '-', 'b', ',', 'i', ',', 's', '+', '1', ')', 'if', 'ret', ':', 'ret', '.', 'append', '(', 'p', ')', 'return', 'ret', 'return', 'None', 'ret', '=', 'dfs', '(', '0', ',', '0', ',', '0', ')', 'if', 'ret', ':', 'print', '(', \"'YES'\", ')', 'ret', '.', 'reverse', '(', ')', 'print', '(', \"' '\", '.', 'join', '(', '(', 'list', '(', 'map', '(', 'str', ',', 'ret', '[', '1', ':', ']', ')', ')', ')', ')', ')', 'else', ':', 'print', '(', \"'NO'\", ')']\n",
      "Code 4:\n",
      " Tokens: ['from', '__future__', 'import', 'division', ',', 'print_function', 'import', 'os', 'import', 'sys', 'from', 'io', 'import', 'BytesIO', ',', 'IOBase', 'from', 'collections', 'import', 'deque', 'def', 'main', '(', ')', ':', 'weights', '=', 'set', '(', ')', 'inputWeights', '=', 'input', '(', ')', 'for', 'i', 'in', 'range', '(', '10', ')', ':', 'if', 'inputWeights', '[', 'i', ']', '==', \"'1'\", ':', 'weights', '.', 'add', '(', 'i', '+', '1', ')', 'balance', '=', '0', 'lastWeight', '=', '1', 'step', '=', '2', 'previousNode', '=', '3', 'm', '=', 'int', '(', 'input', '(', ')', ')', '<comment>bfs', '<comment>->', '<comment>(balance,', '<comment>last', '<comment>used', '<comment>weight,', '<comment>current', '<comment>step,', '<comment>previous', '<comment>action)', '<comment>find', '<comment>a', '<comment>path', '<comment>from', '<comment>(0,', '<comment>0,', '<comment>0)', '<comment>to', '<comment>(x,', '<comment>y,', '<comment>m)', '<comment>(m', '<comment>is', '<comment>the', '<comment>number', '<comment>of', '<comment>steps)', '<comment>(0,', '<comment>0,', '<comment>0,', '<comment>none)', '<comment>->', '<comment>(8,', '<comment>8,', '<comment>1,', '<comment>prevreference)', '<comment>->', '<comment>(-2,', '<comment>10,', '<comment>2,', '<comment>prevreference)', '<comment>->', '<comment>(6,', '<comment>8,', '<comment>3,', '<comment>prevreference)', 'stack', '=', '[', '(', '0', ',', '0', ',', '0', ',', 'None', ')', ']', 'def', 'addToQueue', '(', 'current', ',', 'weight', ',', 'sign', ')', ':', 'stack', '.', 'append', '(', '(', 'current', '[', 'balance', ']', '+', 'weight', '*', 'sign', ',', 'weight', ',', 'current', '[', 'step', ']', '+', '1', ',', 'current', ')', ')', 'def', 'printResults', '(', ')', ':', 'sequence', '=', '[', '0', ']', '*', 'm', 'current', '=', 'stack', '[', '-', '1', ']', 'i', '=', 'm', '-', '1', 'while', 'current', '[', 'lastWeight', ']', ':', 'sequence', '[', 'i', ']', '=', 'current', '[', 'lastWeight', ']', 'current', '=', 'current', '[', 'previousNode', ']', 'i', '-=', '1', 'print', '(', \"'YES'\", ')', 'print', '(', \"' '\", '.', 'join', '(', 'map', '(', 'lambda', 'x', ':', 'str', '(', 'x', ')', ',', 'sequence', ')', ')', ')', 'while', 'len', '(', 'stack', ')', '>', '0', ':', 'current', '=', 'stack', '.', 'pop', '(', ')', 'for', 'weight', 'in', 'weights', ':', 'if', 'weight', '!=', 'current', '[', 'lastWeight', ']', ':', 'if', 'current', '[', 'step', ']', '+', '1', '&', '1', ':', 'if', 'current', '[', 'balance', ']', '+', 'weight', '>', '0', ':', 'addToQueue', '(', 'current', ',', 'weight', ',', '1', ')', 'if', 'current', '[', 'step', ']', '+', '1', '==', 'm', ':', 'printResults', '(', ')', 'return', 'else', ':', 'if', 'current', '[', 'balance', ']', '-', 'weight', '<', '0', ':', 'addToQueue', '(', 'current', ',', 'weight', ',', '-', '1', ')', 'if', 'current', '[', 'step', ']', '+', '1', '==', 'm', ':', 'printResults', '(', ')', 'return', 'print', '(', \"'NO'\", ')', 'BUFSIZE', '=', '8192', 'class', 'FastIO', '(', 'IOBase', ')', ':', 'newlines', '=', '0', 'def', '__init__', '(', 'self', ',', 'file', ')', ':', 'self', '.', '_fd', '=', 'file', '.', 'fileno', '(', ')', 'self', '.', 'buffer', '=', 'BytesIO', '(', ')', 'self', '.', 'writable', '=', '\"x\"', 'in', 'file', '.', 'mode', 'or', '\"r\"', 'not', 'in', 'file', '.', 'mode', 'self', '.', 'write', '=', 'self', '.', 'buffer', '.', 'write', 'if', 'self', '.', 'writable', 'else', 'None', 'def', 'read', '(', 'self', ')', ':', 'while', 'True', ':', 'b', '=', 'os', '.', 'read', '(', 'self', '.', '_fd', ',', 'max', '(', 'os', '.', 'fstat', '(', 'self', '.', '_fd', ')', '.', 'st_size', ',', 'BUFSIZE', ')', ')', 'if', 'not', 'b', ':', 'break', 'ptr', '=', 'self', '.', 'buffer', '.', 'tell', '(', ')', 'self', '.', 'buffer', '.', 'seek', '(', '0', ',', '2', ')', ',', 'self', '.', 'buffer', '.', 'write', '(', 'b', ')', ',', 'self', '.', 'buffer', '.', 'seek', '(', 'ptr', ')', 'self', '.', 'newlines', '=', '0', 'return', 'self', '.', 'buffer', '.', 'read', '(', ')', 'def', 'readline', '(', 'self', ')', ':', 'while', 'self', '.', 'newlines', '==', '0', ':', 'b', '=', 'os', '.', 'read', '(', 'self', '.', '_fd', ',', 'max', '(', 'os', '.', 'fstat', '(', 'self', '.', '_fd', ')', '.', 'st_size', ',', 'BUFSIZE', ')', ')', 'self', '.', 'newlines', '=', 'b', '.', 'count', '(', 'b\"\\\\n\"', ')', '+', '(', 'not', 'b', ')', 'ptr', '=', 'self', '.', 'buffer', '.', 'tell', '(', ')', 'self', '.', 'buffer', '.', 'seek', '(', '0', ',', '2', ')', ',', 'self', '.', 'buffer', '.', 'write', '(', 'b', ')', ',', 'self', '.', 'buffer', '.', 'seek', '(', 'ptr', ')', 'self', '.', 'newlines', '-=', '1', 'return', 'self', '.', 'buffer', '.', 'readline', '(', ')', 'def', 'flush', '(', 'self', ')', ':', 'if', 'self', '.', 'writable', ':', 'os', '.', 'write', '(', 'self', '.', '_fd', ',', 'self', '.', 'buffer', '.', 'getvalue', '(', ')', ')', 'self', '.', 'buffer', '.', 'truncate', '(', '0', ')', ',', 'self', '.', 'buffer', '.', 'seek', '(', '0', ')', 'class', 'IOWrapper', '(', 'IOBase', ')', ':', 'def', '__init__', '(', 'self', ',', 'file', ')', ':', 'self', '.', 'buffer', '=', 'FastIO', '(', 'file', ')', 'self', '.', 'flush', '=', 'self', '.', 'buffer', '.', 'flush', 'self', '.', 'writable', '=', 'self', '.', 'buffer', '.', 'writable', 'self', '.', 'write', '=', 'lambda', 's', ':', 'self', '.', 'buffer', '.', 'write', '(', 's', '.', 'encode', '(', '\"ascii\"', ')', ')', 'self', '.', 'read', '=', 'lambda', ':', 'self', '.', 'buffer', '.', 'read', '(', ')', '.', 'decode', '(', '\"ascii\"', ')', 'self', '.', 'readline', '=', 'lambda', ':', 'self', '.', 'buffer', '.', 'readline', '(', ')', '.', 'decode', '(', '\"ascii\"', ')', 'input', '=', 'lambda', ':', 'sys', '.', 'stdin', '.', 'readline', '(', ')', '.', 'rstrip', '(', '\"\\\\r\\\\n\"', ')', 'def', 'print', '(', '*', 'args', ',', '**', 'kwargs', ')', ':', 'sep', '=', 'kwargs', '.', 'pop', '(', '\"sep\"', ',', '\" \"', ')', 'file', '=', 'kwargs', '.', 'pop', '(', '\"file\"', ',', 'sys', '.', 'stdout', ')', 'atStart', '=', 'True', 'for', 'x', 'in', 'args', ':', 'if', 'not', 'atStart', ':', 'file', '.', 'write', '(', 'sep', ')', 'file', '.', 'write', '(', 'str', '(', 'x', ')', ')', 'atStart', '=', 'False', 'file', '.', 'write', '(', 'kwargs', '.', 'pop', '(', '\"end\"', ',', '\"\\\\n\"', ')', ')', 'if', 'kwargs', '.', 'pop', '(', '\"flush\"', ',', 'False', ')', ':', 'file', '.', 'flush', '(', ')', 'sys', '.', 'stdin', ',', 'sys', '.', 'stdout', '=', 'IOWrapper', '(', 'sys', '.', 'stdin', ')', ',', 'IOWrapper', '(', 'sys', '.', 'stdout', ')', 'main', '(', ')']\n",
      "Code 5:\n",
      " Tokens: ['<comment>target', '<comment>-', '<comment>expert', '<comment>on', '<comment>cf', '<comment>be', '<comment>humblefool', 'import', 'sys', '<comment>inf', '<comment>=', '<comment>float(\"inf\")', '<comment>sys.setrecursionlimit(10000000)', \"<comment>abc=''\", \"<comment>abd={'a':\", '<comment>0,', \"<comment>'b':\", '<comment>1,', \"<comment>'c':\", '<comment>2,', \"<comment>'d':\", '<comment>3,', \"<comment>'e':\", '<comment>4,', \"<comment>'f':\", '<comment>5,', \"<comment>'g':\", '<comment>6,', \"<comment>'h':\", '<comment>7,', \"<comment>'i':\", '<comment>8,', \"<comment>'j':\", '<comment>9,', \"<comment>'k':\", '<comment>10,', \"<comment>'l':\", '<comment>11,', \"<comment>'m':\", '<comment>12,', \"<comment>'n':\", '<comment>13,', \"<comment>'o':\", '<comment>14,', \"<comment>'p':\", '<comment>15,', \"<comment>'q':\", '<comment>16,', \"<comment>'r':\", '<comment>17,', \"<comment>'s':\", '<comment>18,', \"<comment>'t':\", '<comment>19,', \"<comment>'u':\", '<comment>20,', \"<comment>'v':\", '<comment>21,', \"<comment>'w':\", '<comment>22,', \"<comment>'x':\", '<comment>23,', \"<comment>'y':\", '<comment>24,', \"<comment>'z':\", '<comment>25}', '<comment>mod,', '<comment>mod', '<comment>=', '<comment>1000000007,', '<comment>998244353', '<comment>words', '<comment>=', \"<comment>{1:'one',2:'two',3:'three',4:'four',5:'five',6:'six',7:'seven',8:'eight',9:'nine',10:'ten',11:'eleven',12:'twelve',13:'thirteen',14:'fourteen',15:'quarter',16:'sixteen',17:'seventeen',18:'eighteen',19:'nineteen',20:'twenty',21:'twenty\", \"<comment>one',22:'twenty\", \"<comment>two',23:'twenty\", \"<comment>three',24:'twenty\", \"<comment>four',25:'twenty\", \"<comment>five',26:'twenty\", \"<comment>six',27:'twenty\", \"<comment>seven',28:'twenty\", \"<comment>eight',29:'twenty\", \"<comment>nine',30:'half'}\", \"<comment>vow=['a','e','i','o','u']\", '<comment>dx,dy=[-1,1,0,0],[0,0,1,-1]', '<comment>import', '<comment>random', '<comment>from', '<comment>collections', '<comment>import', '<comment>deque,', '<comment>counter,', '<comment>ordereddict,defaultdict', '<comment>from', '<comment>heapq', '<comment>import', '<comment>nsmallest,', '<comment>nlargest,', '<comment>heapify,heappop', '<comment>,heappush,', '<comment>heapreplace', '<comment>from', '<comment>math', '<comment>import', '<comment>ceil,floor,log,sqrt,factorial,pi,gcd', '<comment>from', '<comment>bisect', '<comment>import', '<comment>bisect,bisect_left,bisect_right,insort,insort_left,insort_right', 'def', 'get_array', '(', ')', ':', 'return', 'list', '(', 'map', '(', 'int', ',', 'sys', '.', 'stdin', '.', 'readline', '(', ')', '.', 'strip', '(', ')', '.', 'split', '(', ')', ')', ')', 'def', 'get_ints', '(', ')', ':', 'return', 'map', '(', 'int', ',', 'sys', '.', 'stdin', '.', 'readline', '(', ')', '.', 'strip', '(', ')', '.', 'split', '(', ')', ')', 'def', 'input', '(', ')', ':', 'return', 'sys', '.', 'stdin', '.', 'readline', '(', ')', '.', 'strip', '(', ')', 'string', '=', 'input', '(', ')', 'p', '=', '[', 'i', 'for', 'i', ',', 'j', 'in', 'enumerate', '(', 'string', ',', '1', ')', 'if', 'j', '==', \"'1'\", ']', 'm', '=', 'int', '(', 'input', '(', ')', ')', 'ans', '=', \"'NO'\", 'queue', '=', '[', '(', '-', '1', ',', '0', ',', '0', ',', '[', ']', ')', ']', '<comment>prev,', '<comment>position,', '<comment>till_sum,', '<comment>list', 'while', 'queue', ':', 'prev', ',', 'position', ',', 'till_sum', ',', 'lst', '=', 'queue', '.', 'pop', '(', ')', 'if', 'position', '==', 'm', ':', 'print', '(', \"'YES'\", ')', 'print', '(', '*', 'lst', ')', 'exit', '(', ')', 'for', 'q', 'in', 'p', ':', 'if', 'q', '!=', 'prev', 'and', 'q', '>', 'till_sum', ':', 'queue', '.', 'append', '(', '(', 'q', ',', 'position', '+', '1', ',', 'q', '-', 'till_sum', ',', 'lst', '+', '[', 'q', ']', ')', ')', 'print', '(', 'ans', ')']\n"
     ]
    }
   ],
   "source": [
    "print(\"Number of tokenized code solutions:\", len(tokenized_code_with_comments))\n",
    "for i, code in enumerate(tokenized_code_with_comments):\n",
    "    if i >= 5:  # Limit to first 5 codes for brevity\n",
    "        break\n",
    "    print(f\"Code {i+1}:\\n Tokens: {code}\")"
   ]
  },
  {
   "cell_type": "markdown",
   "id": "a11a13db",
   "metadata": {},
   "source": [
    "Train the FastText model on the new tokenized corpus containing labeled in-line comments"
   ]
  },
  {
   "cell_type": "code",
   "execution_count": null,
   "id": "5daddfd8",
   "metadata": {},
   "outputs": [],
   "source": [
    "# Train FastText model on the tokenized code with comments\n",
    "from gensim.models import FastText\n",
    "ft_model_code = FastText(\n",
    "    vector_size=100,\n",
    "    window=5,\n",
    "    min_count=2,\n",
    "    workers=8,\n",
    "    sg=1\n",
    ")\n",
    "ft_model_code.build_vocab(corpus_iterable=tokenized_code_with_comments)\n",
    "ft_model_code.train(\n",
    "    corpus_iterable=tokenized_code_with_comments,\n",
    "    total_examples=len(tokenized_code_with_comments),\n",
    "    epochs=10\n",
    ")\n",
    "# Save the FastText model for code solutions with comments\n",
    "ft_model_code.save(\"fasttext_code_with_comments.model\")"
   ]
  },
  {
   "cell_type": "markdown",
   "id": "74c9253a",
   "metadata": {},
   "source": [
    "Load option if you want to skip long training"
   ]
  },
  {
   "cell_type": "code",
   "execution_count": 57,
   "id": "7eeec3ae",
   "metadata": {},
   "outputs": [],
   "source": [
    "ft_model_code = FastText.load(\"fasttext_code_with_comments.model\")"
   ]
  },
  {
   "cell_type": "code",
   "execution_count": 58,
   "id": "98493887",
   "metadata": {},
   "outputs": [
    {
     "name": "stdout",
     "output_type": "stream",
     "text": [
      "Vocabulary size: 336615\n"
     ]
    }
   ],
   "source": [
    "print(\"Vocabulary size:\", len(ft_model_code.wv.key_to_index))"
   ]
  },
  {
   "cell_type": "markdown",
   "id": "106d362e",
   "metadata": {},
   "source": [
    "We can notice a bigger vocabulary than the previous FastText model due to the extension of the training data we did including comments."
   ]
  },
  {
   "cell_type": "code",
   "execution_count": 135,
   "id": "d21fffea",
   "metadata": {},
   "outputs": [
    {
     "data": {
      "text/plain": [
       "[('range', 0.8057198524475098),\n",
       " ('in', 0.802432119846344),\n",
       " ('i', 0.7367343306541443),\n",
       " ('input', 0.7059527039527893),\n",
       " ('n', 0.7015922665596008),\n",
       " ('if', 0.6915501952171326),\n",
       " ('j', 0.6869797706604004),\n",
       " ('1', 0.6843733787536621),\n",
       " ('len', 0.6766437292098999),\n",
       " ('int', 0.6735730767250061)]"
      ]
     },
     "execution_count": 135,
     "metadata": {},
     "output_type": "execute_result"
    }
   ],
   "source": [
    "ft_model_code.wv.most_similar('for', topn=10)"
   ]
  },
  {
   "cell_type": "code",
   "execution_count": 137,
   "id": "090a2c29",
   "metadata": {},
   "outputs": [
    {
     "data": {
      "text/plain": [
       "[(':', 0.8679385781288147),\n",
       " ('1', 0.8470319509506226),\n",
       " ('0', 0.8419544696807861),\n",
       " ('i', 0.8319261074066162),\n",
       " (')', 0.8250016570091248),\n",
       " ('==', 0.8208984732627869),\n",
       " ('(', 0.8130518198013306),\n",
       " ('=', 0.8098618984222412),\n",
       " ('-', 0.8023994565010071),\n",
       " ('+', 0.78610759973526)]"
      ]
     },
     "execution_count": 137,
     "metadata": {},
     "output_type": "execute_result"
    }
   ],
   "source": [
    "ft_model_code.wv.most_similar('if', topn=10)"
   ]
  },
  {
   "cell_type": "code",
   "execution_count": null,
   "id": "1acbe9fe",
   "metadata": {},
   "outputs": [
    {
     "data": {
      "text/plain": [
       "[('comments', 0.9467008709907532),\n",
       " ('commentslist', 0.9408623576164246),\n",
       " ('commentlist', 0.9154900312423706),\n",
       " ('<comment>#uncomment', 0.90512615442276),\n",
       " ('<comment>ちょうどいい位置(ここより手前で2**iまでを網羅)にバイパスを作る感じ', 0.871245801448822),\n",
       " ('<comment>g[cur]:', 0.8651385307312012),\n",
       " ('<comment>comment', 0.861804187297821),\n",
       " ('<comment>读取第一行的n', 0.8603671193122864),\n",
       " ('comment_result', 0.8591660857200623),\n",
       " ('<comment>完全に被覆している区間は狭い方だけ残す', 0.8565295934677124)]"
      ]
     },
     "execution_count": 59,
     "metadata": {},
     "output_type": "execute_result"
    }
   ],
   "source": [
    "ft_model_code.wv.most_similar('comment', topn=10)"
   ]
  },
  {
   "cell_type": "markdown",
   "id": "29782322",
   "metadata": {},
   "source": [
    "We can see that there are many comments in other strange languages that are not useful.  \n",
    "Anyway the programming words seems to have maintained their top neighbors."
   ]
  },
  {
   "cell_type": "markdown",
   "id": "b8d8d38d",
   "metadata": {},
   "source": [
    "Let's try to visualize again the obtained word embeddings on some random tokens"
   ]
  },
  {
   "cell_type": "code",
   "execution_count": null,
   "id": "73486270",
   "metadata": {},
   "outputs": [
    {
     "name": "stdout",
     "output_type": "stream",
     "text": [
      "['<comment>get_primes(n):', 'ddl', '<comment>f(n//2,', 'g1c', 'increas_time', 'hq9_lang', 'start_previous', 'pidorskie_zadachi', '\"backward\"', '2419', 'voyageCount', 'te2', '<comment>sallii', 'list_twisted', '103043307', 'triangleNum', 'num_icecream', 'matline', 'biggest_left', 'twoSubs', 'isValidName', '59899999999', '<comment>lst1.append(lst[i])', '8314', 'loads', 'can_sort', '6606028800', 'list_string1', '<comment>converting', '<comment>print(lst)', '306867765', 'sfor1', 'has_amt', 'b_a', '<comment>print(sum(value[:k]))', 'evenIdx', 'minimR', 'phonenumnum', '<comment>print(dup_pse_list)', 'max_ob', 'nas', '101001110', '<comment>found.append(i)', 'calculatefunction2', 'biggestAm', 'matrix_check_1', '<comment>ans[i],', 'timea1', '530134554', 'part_two', 'ListOne', '<comment>2*count)', 'xab', 'getVs', '19316', '<comment>print(s[:i+1])', 'kisibasL', 'node_list2', 'skier', '44447777', 'maxRange', '81071', 'opens', 'STACK', 'allPerm', 'males', '<comment>â', '762491092', 'kx1', '\" % d\"', '241630317', \"<comment>print('i,\", '<comment>sublist.', 'minMin', '<comment>print(abs(arr[i]-arr[i+1]))', 'shorts', 'arrayx', '<comment>trueのところには３の倍数を、falseにはそれ以外を', '<comment>a2=a2-(v-a1)', 'textSplitting', 'rtdn', '\".ru/\"', '<comment>print(int(num))', '<comment>start_count', '604680600', 'desired_count', '1937', \"<comment>'2':\", 'ss12', 'seq_q', '3099363912', 'idash', '\"ogogogogogogo\"', '888990608', 'ball_ps', 'h_len', '<comment>print(paired)', 'flagNS', 'solvecaso', 'answer_platform']\n"
     ]
    }
   ],
   "source": [
    "import random\n",
    "# Sample 100 random words from the vocabulary\n",
    "sample = random.sample(list(ft_model_code.wv.key_to_index), 100)\n",
    "print(sample)"
   ]
  },
  {
   "cell_type": "code",
   "execution_count": 147,
   "id": "c9a0dc2f",
   "metadata": {},
   "outputs": [
    {
     "name": "stdout",
     "output_type": "stream",
     "text": [
      "[[ 0.88286495  1.2400173   0.17885505 ... -1.1880517   0.2806537\n",
      "  -0.21235675]\n",
      " [ 1.0490906   0.14483853  0.37600923 ... -1.1213222   0.7860192\n",
      "  -1.0733389 ]\n",
      " [ 0.30698267  1.4658773   0.04503308 ... -0.3770461  -0.03734222\n",
      "  -0.09637897]\n",
      " ...\n",
      " [ 0.32622108 -0.47709632 -0.30316356 ... -0.65952617  0.06701706\n",
      "  -0.94742084]\n",
      " [ 0.32318535  0.52291054 -0.39157492 ... -1.1882232  -0.2062516\n",
      "   0.15264748]\n",
      " [ 0.1740282  -0.50651467  0.2728058  ... -0.39571142 -0.14412765\n",
      "   0.7267321 ]]\n",
      "Shape of word vectors: (100, 100)\n"
     ]
    }
   ],
   "source": [
    "# Get the word vectors for the sampled words\n",
    "word_vectors = ft_model_code.wv[sample]\n",
    "print(word_vectors)\n",
    "print(\"Shape of word vectors:\", word_vectors.shape)"
   ]
  },
  {
   "cell_type": "markdown",
   "id": "449e22c2",
   "metadata": {},
   "source": [
    "Using again T-SNE"
   ]
  },
  {
   "cell_type": "code",
   "execution_count": null,
   "id": "61ebc102",
   "metadata": {},
   "outputs": [
    {
     "name": "stderr",
     "output_type": "stream",
     "text": [
      "c:\\Users\\utente\\AppData\\Local\\Programs\\Python\\Python312\\Lib\\site-packages\\sklearn\\manifold\\_t_sne.py:1164: FutureWarning:\n",
      "\n",
      "'n_iter' was renamed to 'max_iter' in version 1.5 and will be removed in 1.7.\n",
      "\n"
     ]
    },
    {
     "data": {
      "application/vnd.plotly.v1+json": {
       "config": {
        "plotlyServerURL": "https://plot.ly"
       },
       "data": [
        {
         "hovertemplate": "x=%{x}<br>y=%{y}<br>z=%{z}<br>text=%{text}<extra></extra>",
         "legendgroup": "",
         "marker": {
          "color": "#636efa",
          "line": {
           "width": 2
          },
          "size": 3,
          "symbol": "circle"
         },
         "mode": "markers+text",
         "name": "",
         "scene": "scene",
         "showlegend": false,
         "text": [
          "<comment>get_primes(n):",
          "ddl",
          "<comment>f(n//2,",
          "g1c",
          "increas_time",
          "hq9_lang",
          "start_previous",
          "pidorskie_zadachi",
          "\"backward\"",
          "2419",
          "voyageCount",
          "te2",
          "<comment>sallii",
          "list_twisted",
          "103043307",
          "triangleNum",
          "num_icecream",
          "matline",
          "biggest_left",
          "twoSubs",
          "isValidName",
          "59899999999",
          "<comment>lst1.append(lst[i])",
          "8314",
          "loads",
          "can_sort",
          "6606028800",
          "list_string1",
          "<comment>converting",
          "<comment>print(lst)",
          "306867765",
          "sfor1",
          "has_amt",
          "b_a",
          "<comment>print(sum(value[:k]))",
          "evenIdx",
          "minimR",
          "phonenumnum",
          "<comment>print(dup_pse_list)",
          "max_ob",
          "nas",
          "101001110",
          "<comment>found.append(i)",
          "calculatefunction2",
          "biggestAm",
          "matrix_check_1",
          "<comment>ans[i],",
          "timea1",
          "530134554",
          "part_two",
          "ListOne",
          "<comment>2*count)",
          "xab",
          "getVs",
          "19316",
          "<comment>print(s[:i+1])",
          "kisibasL",
          "node_list2",
          "skier",
          "44447777",
          "maxRange",
          "81071",
          "opens",
          "STACK",
          "allPerm",
          "males",
          "<comment>â",
          "762491092",
          "kx1",
          "\" % d\"",
          "241630317",
          "<comment>print('i,",
          "<comment>sublist.",
          "minMin",
          "<comment>print(abs(arr[i]-arr[i+1]))",
          "shorts",
          "arrayx",
          "<comment>trueのところには３の倍数を、falseにはそれ以外を",
          "<comment>a2=a2-(v-a1)",
          "textSplitting",
          "rtdn",
          "\".ru/\"",
          "<comment>print(int(num))",
          "<comment>start_count",
          "604680600",
          "desired_count",
          "1937",
          "<comment>'2':",
          "ss12",
          "seq_q",
          "3099363912",
          "idash",
          "\"ogogogogogogo\"",
          "888990608",
          "ball_ps",
          "h_len",
          "<comment>print(paired)",
          "flagNS",
          "solvecaso",
          "answer_platform"
         ],
         "textfont": {
          "size": 10
         },
         "type": "scatter3d",
         "x": [
          -27.503049850463867,
          24.209028244018555,
          -40.79524230957031,
          -75.16098022460938,
          -153.50656127929688,
          -72.61872100830078,
          -130.63214111328125,
          -10.240260124206543,
          -82.9033432006836,
          1.3096680641174316,
          -42.48063278198242,
          164.80453491210938,
          -160.53346252441406,
          -127.17475128173828,
          27.352632522583008,
          -7.988483905792236,
          46.04649353027344,
          100.7884521484375,
          -101.98127746582031,
          62.02526092529297,
          -62.706302642822266,
          56.55693435668945,
          54.388084411621094,
          -41.336002349853516,
          9.050705909729004,
          -118.45276641845703,
          9.619820594787598,
          129.60159301757812,
          -7.836349964141846,
          49.68272399902344,
          20.913822174072266,
          -63.53028106689453,
          -64.64604187011719,
          -89.30998229980469,
          91.83489990234375,
          69.7330322265625,
          -79.12957763671875,
          -1.0485639572143555,
          85.61224365234375,
          -44.21712875366211,
          174.8856201171875,
          128.14356994628906,
          31.851102828979492,
          -33.0937614440918,
          -52.643470764160156,
          23.395944595336914,
          42.310054779052734,
          -55.024696350097656,
          150.759033203125,
          101.77173614501953,
          171.41383361816406,
          91.15757751464844,
          61.15774154663086,
          -9.643594741821289,
          138.467041015625,
          100.06775665283203,
          -116.00946044921875,
          161.8084259033203,
          153.57717895507812,
          183.71356201171875,
          12.208057403564453,
          70.3903579711914,
          -98.89375305175781,
          -101.77811431884766,
          -92.15823364257812,
          -173.05325317382812,
          -98.15487670898438,
          78.46662902832031,
          -137.03314208984375,
          -2.97049617767334,
          62.581207275390625,
          5.700770854949951,
          95.9955062866211,
          -30.698476791381836,
          98.16629028320312,
          -33.055171966552734,
          169.04965209960938,
          33.11887741088867,
          54.468292236328125,
          -19.729894638061523,
          -6.732884883880615,
          -77.29325103759766,
          74.01683044433594,
          43.29200744628906,
          63.7909049987793,
          -90.92317199707031,
          141.61386108398438,
          -29.868118286132812,
          -86.28962707519531,
          52.81759262084961,
          15.596619606018066,
          -182.45179748535156,
          -93.02951049804688,
          -157.18605041503906,
          -61.1838264465332,
          -184.2317352294922,
          -2.020007848739624,
          -12.021738052368164,
          77.28349304199219,
          -144.2891082763672
         ],
         "y": [
          188.4108428955078,
          -218.19737243652344,
          139.24278259277344,
          40.43172836303711,
          -59.565338134765625,
          -93.34525299072266,
          96.91223907470703,
          -0.9098577499389648,
          19.76272201538086,
          152.28367614746094,
          -155.15438842773438,
          36.94841003417969,
          44.88361358642578,
          103.4883041381836,
          114.63787078857422,
          -117.33858489990234,
          -31.682723999023438,
          -67.11648559570312,
          -4.375332355499268,
          -83.85326385498047,
          -85.34225463867188,
          198.03549194335938,
          176.31167602539062,
          62.454429626464844,
          -38.86473846435547,
          -116.18354034423828,
          9.192644119262695,
          -68.14057159423828,
          -156.12025451660156,
          28.979787826538086,
          51.57004928588867,
          -59.882781982421875,
          -66.44496154785156,
          -131.1547088623047,
          -165.30577087402344,
          -149.7563018798828,
          61.74299621582031,
          -91.11225128173828,
          -120.65448760986328,
          18.266504287719727,
          -58.395503997802734,
          128.14369201660156,
          128.26187133789062,
          -34.233177185058594,
          8.437688827514648,
          -65.45556640625,
          105.2044906616211,
          128.6878662109375,
          -133.25384521484375,
          -29.60459327697754,
          -53.88750076293945,
          52.220035552978516,
          -0.05325867980718613,
          10.245139122009277,
          37.21448516845703,
          63.487815856933594,
          -40.10569763183594,
          -120.40887451171875,
          17.713092803955078,
          129.27630615234375,
          44.27926254272461,
          49.36235427856445,
          -131.2163543701172,
          -188.53665161132812,
          -12.479657173156738,
          -77.1594467163086,
          169.69528198242188,
          72.5846939086914,
          53.80615997314453,
          -53.1493034362793,
          120.96871948242188,
          180.35104370117188,
          98.3049545288086,
          84.10572052001953,
          128.79881286621094,
          -192.316650390625,
          -30.373292922973633,
          -107.9663314819336,
          -99.94842529296875,
          -157.47665405273438,
          -33.43484878540039,
          -28.668792724609375,
          163.19264221191406,
          82.15753936767578,
          9.399191856384277,
          117.78276062011719,
          21.224224090576172,
          111.31632995605469,
          67.5418930053711,
          -104.14610290527344,
          75.836669921875,
          -10.88012981414795,
          0.7658053636550903,
          -18.5931396484375,
          -89.02752685546875,
          25.57145118713379,
          59.01877212524414,
          -98.0114517211914,
          -28.76706886291504,
          -117.00703430175781
         ],
         "z": [
          27.927631378173828,
          11.829848289489746,
          -20.434579849243164,
          -8.665275573730469,
          -130.3334503173828,
          -19.783720016479492,
          132.46104431152344,
          -57.09770584106445,
          56.02186584472656,
          178.30361938476562,
          -19.619348526000977,
          -109.97312927246094,
          62.723697662353516,
          25.044189453125,
          117.7021255493164,
          -64.88040161132812,
          -36.02168273925781,
          -14.19212818145752,
          -136.28369140625,
          -88.03128814697266,
          40.4241828918457,
          101.03018188476562,
          12.137787818908691,
          143.70286560058594,
          -202.2195587158203,
          102.76770782470703,
          171.79527282714844,
          115.30521392822266,
          137.4412384033203,
          6.932275772094727,
          111.89041900634766,
          -71.93608093261719,
          -167.9004364013672,
          -178.1071319580078,
          6.3462910652160645,
          -106.19482421875,
          -150.77090454101562,
          -132.12448120117188,
          43.15947341918945,
          -185.0722198486328,
          -120.47307586669922,
          98.37483215332031,
          -21.30990219116211,
          -6.019473075866699,
          -120.01464080810547,
          29.553329467773438,
          38.16151428222656,
          -113.7318344116211,
          -53.29238510131836,
          -162.63641357421875,
          -35.90825653076172,
          -44.873435974121094,
          -104.96888732910156,
          43.97288131713867,
          117.33138275146484,
          28.345523834228516,
          13.313910484313965,
          47.68564987182617,
          -21.219823837280273,
          -2.7541563510894775,
          -153.18499755859375,
          201.71356201171875,
          -85.18006896972656,
          30.39364242553711,
          -53.516231536865234,
          -50.08631134033203,
          -19.60247802734375,
          131.75912475585938,
          -35.01528549194336,
          -78.5097885131836,
          177.29571533203125,
          -57.981773376464844,
          -126.25719451904297,
          -183.04727172851562,
          -7.219058990478516,
          -92.87001037597656,
          51.14803695678711,
          -8.649197578430176,
          107.5930404663086,
          41.85361862182617,
          86.55785369873047,
          103.28975677490234,
          -74.79376220703125,
          -79.24072265625,
          137.42950439453125,
          88.44164276123047,
          174.2161865234375,
          36.99258804321289,
          -62.632747650146484,
          -180.7101287841797,
          174.01332092285156,
          -9.945138931274414,
          165.2191162109375,
          122.10943603515625,
          155.07415771484375,
          -100.48674011230469,
          -20.676115036010742,
          72.79107666015625,
          48.16152572631836,
          16.18453598022461
         ]
        }
       ],
       "layout": {
        "legend": {
         "tracegroupgap": 0
        },
        "margin": {
         "t": 60
        },
        "scene": {
         "domain": {
          "x": [
           0,
           1
          ],
          "y": [
           0,
           1
          ]
         },
         "xaxis": {
          "title": {
           "text": "x"
          }
         },
         "yaxis": {
          "title": {
           "text": "y"
          }
         },
         "zaxis": {
          "title": {
           "text": "z"
          }
         }
        },
        "template": {
         "data": {
          "bar": [
           {
            "error_x": {
             "color": "#2a3f5f"
            },
            "error_y": {
             "color": "#2a3f5f"
            },
            "marker": {
             "line": {
              "color": "#E5ECF6",
              "width": 0.5
             },
             "pattern": {
              "fillmode": "overlay",
              "size": 10,
              "solidity": 0.2
             }
            },
            "type": "bar"
           }
          ],
          "barpolar": [
           {
            "marker": {
             "line": {
              "color": "#E5ECF6",
              "width": 0.5
             },
             "pattern": {
              "fillmode": "overlay",
              "size": 10,
              "solidity": 0.2
             }
            },
            "type": "barpolar"
           }
          ],
          "carpet": [
           {
            "aaxis": {
             "endlinecolor": "#2a3f5f",
             "gridcolor": "white",
             "linecolor": "white",
             "minorgridcolor": "white",
             "startlinecolor": "#2a3f5f"
            },
            "baxis": {
             "endlinecolor": "#2a3f5f",
             "gridcolor": "white",
             "linecolor": "white",
             "minorgridcolor": "white",
             "startlinecolor": "#2a3f5f"
            },
            "type": "carpet"
           }
          ],
          "choropleth": [
           {
            "colorbar": {
             "outlinewidth": 0,
             "ticks": ""
            },
            "type": "choropleth"
           }
          ],
          "contour": [
           {
            "colorbar": {
             "outlinewidth": 0,
             "ticks": ""
            },
            "colorscale": [
             [
              0,
              "#0d0887"
             ],
             [
              0.1111111111111111,
              "#46039f"
             ],
             [
              0.2222222222222222,
              "#7201a8"
             ],
             [
              0.3333333333333333,
              "#9c179e"
             ],
             [
              0.4444444444444444,
              "#bd3786"
             ],
             [
              0.5555555555555556,
              "#d8576b"
             ],
             [
              0.6666666666666666,
              "#ed7953"
             ],
             [
              0.7777777777777778,
              "#fb9f3a"
             ],
             [
              0.8888888888888888,
              "#fdca26"
             ],
             [
              1,
              "#f0f921"
             ]
            ],
            "type": "contour"
           }
          ],
          "contourcarpet": [
           {
            "colorbar": {
             "outlinewidth": 0,
             "ticks": ""
            },
            "type": "contourcarpet"
           }
          ],
          "heatmap": [
           {
            "colorbar": {
             "outlinewidth": 0,
             "ticks": ""
            },
            "colorscale": [
             [
              0,
              "#0d0887"
             ],
             [
              0.1111111111111111,
              "#46039f"
             ],
             [
              0.2222222222222222,
              "#7201a8"
             ],
             [
              0.3333333333333333,
              "#9c179e"
             ],
             [
              0.4444444444444444,
              "#bd3786"
             ],
             [
              0.5555555555555556,
              "#d8576b"
             ],
             [
              0.6666666666666666,
              "#ed7953"
             ],
             [
              0.7777777777777778,
              "#fb9f3a"
             ],
             [
              0.8888888888888888,
              "#fdca26"
             ],
             [
              1,
              "#f0f921"
             ]
            ],
            "type": "heatmap"
           }
          ],
          "heatmapgl": [
           {
            "colorbar": {
             "outlinewidth": 0,
             "ticks": ""
            },
            "colorscale": [
             [
              0,
              "#0d0887"
             ],
             [
              0.1111111111111111,
              "#46039f"
             ],
             [
              0.2222222222222222,
              "#7201a8"
             ],
             [
              0.3333333333333333,
              "#9c179e"
             ],
             [
              0.4444444444444444,
              "#bd3786"
             ],
             [
              0.5555555555555556,
              "#d8576b"
             ],
             [
              0.6666666666666666,
              "#ed7953"
             ],
             [
              0.7777777777777778,
              "#fb9f3a"
             ],
             [
              0.8888888888888888,
              "#fdca26"
             ],
             [
              1,
              "#f0f921"
             ]
            ],
            "type": "heatmapgl"
           }
          ],
          "histogram": [
           {
            "marker": {
             "pattern": {
              "fillmode": "overlay",
              "size": 10,
              "solidity": 0.2
             }
            },
            "type": "histogram"
           }
          ],
          "histogram2d": [
           {
            "colorbar": {
             "outlinewidth": 0,
             "ticks": ""
            },
            "colorscale": [
             [
              0,
              "#0d0887"
             ],
             [
              0.1111111111111111,
              "#46039f"
             ],
             [
              0.2222222222222222,
              "#7201a8"
             ],
             [
              0.3333333333333333,
              "#9c179e"
             ],
             [
              0.4444444444444444,
              "#bd3786"
             ],
             [
              0.5555555555555556,
              "#d8576b"
             ],
             [
              0.6666666666666666,
              "#ed7953"
             ],
             [
              0.7777777777777778,
              "#fb9f3a"
             ],
             [
              0.8888888888888888,
              "#fdca26"
             ],
             [
              1,
              "#f0f921"
             ]
            ],
            "type": "histogram2d"
           }
          ],
          "histogram2dcontour": [
           {
            "colorbar": {
             "outlinewidth": 0,
             "ticks": ""
            },
            "colorscale": [
             [
              0,
              "#0d0887"
             ],
             [
              0.1111111111111111,
              "#46039f"
             ],
             [
              0.2222222222222222,
              "#7201a8"
             ],
             [
              0.3333333333333333,
              "#9c179e"
             ],
             [
              0.4444444444444444,
              "#bd3786"
             ],
             [
              0.5555555555555556,
              "#d8576b"
             ],
             [
              0.6666666666666666,
              "#ed7953"
             ],
             [
              0.7777777777777778,
              "#fb9f3a"
             ],
             [
              0.8888888888888888,
              "#fdca26"
             ],
             [
              1,
              "#f0f921"
             ]
            ],
            "type": "histogram2dcontour"
           }
          ],
          "mesh3d": [
           {
            "colorbar": {
             "outlinewidth": 0,
             "ticks": ""
            },
            "type": "mesh3d"
           }
          ],
          "parcoords": [
           {
            "line": {
             "colorbar": {
              "outlinewidth": 0,
              "ticks": ""
             }
            },
            "type": "parcoords"
           }
          ],
          "pie": [
           {
            "automargin": true,
            "type": "pie"
           }
          ],
          "scatter": [
           {
            "fillpattern": {
             "fillmode": "overlay",
             "size": 10,
             "solidity": 0.2
            },
            "type": "scatter"
           }
          ],
          "scatter3d": [
           {
            "line": {
             "colorbar": {
              "outlinewidth": 0,
              "ticks": ""
             }
            },
            "marker": {
             "colorbar": {
              "outlinewidth": 0,
              "ticks": ""
             }
            },
            "type": "scatter3d"
           }
          ],
          "scattercarpet": [
           {
            "marker": {
             "colorbar": {
              "outlinewidth": 0,
              "ticks": ""
             }
            },
            "type": "scattercarpet"
           }
          ],
          "scattergeo": [
           {
            "marker": {
             "colorbar": {
              "outlinewidth": 0,
              "ticks": ""
             }
            },
            "type": "scattergeo"
           }
          ],
          "scattergl": [
           {
            "marker": {
             "colorbar": {
              "outlinewidth": 0,
              "ticks": ""
             }
            },
            "type": "scattergl"
           }
          ],
          "scattermapbox": [
           {
            "marker": {
             "colorbar": {
              "outlinewidth": 0,
              "ticks": ""
             }
            },
            "type": "scattermapbox"
           }
          ],
          "scatterpolar": [
           {
            "marker": {
             "colorbar": {
              "outlinewidth": 0,
              "ticks": ""
             }
            },
            "type": "scatterpolar"
           }
          ],
          "scatterpolargl": [
           {
            "marker": {
             "colorbar": {
              "outlinewidth": 0,
              "ticks": ""
             }
            },
            "type": "scatterpolargl"
           }
          ],
          "scatterternary": [
           {
            "marker": {
             "colorbar": {
              "outlinewidth": 0,
              "ticks": ""
             }
            },
            "type": "scatterternary"
           }
          ],
          "surface": [
           {
            "colorbar": {
             "outlinewidth": 0,
             "ticks": ""
            },
            "colorscale": [
             [
              0,
              "#0d0887"
             ],
             [
              0.1111111111111111,
              "#46039f"
             ],
             [
              0.2222222222222222,
              "#7201a8"
             ],
             [
              0.3333333333333333,
              "#9c179e"
             ],
             [
              0.4444444444444444,
              "#bd3786"
             ],
             [
              0.5555555555555556,
              "#d8576b"
             ],
             [
              0.6666666666666666,
              "#ed7953"
             ],
             [
              0.7777777777777778,
              "#fb9f3a"
             ],
             [
              0.8888888888888888,
              "#fdca26"
             ],
             [
              1,
              "#f0f921"
             ]
            ],
            "type": "surface"
           }
          ],
          "table": [
           {
            "cells": {
             "fill": {
              "color": "#EBF0F8"
             },
             "line": {
              "color": "white"
             }
            },
            "header": {
             "fill": {
              "color": "#C8D4E3"
             },
             "line": {
              "color": "white"
             }
            },
            "type": "table"
           }
          ]
         },
         "layout": {
          "annotationdefaults": {
           "arrowcolor": "#2a3f5f",
           "arrowhead": 0,
           "arrowwidth": 1
          },
          "autotypenumbers": "strict",
          "coloraxis": {
           "colorbar": {
            "outlinewidth": 0,
            "ticks": ""
           }
          },
          "colorscale": {
           "diverging": [
            [
             0,
             "#8e0152"
            ],
            [
             0.1,
             "#c51b7d"
            ],
            [
             0.2,
             "#de77ae"
            ],
            [
             0.3,
             "#f1b6da"
            ],
            [
             0.4,
             "#fde0ef"
            ],
            [
             0.5,
             "#f7f7f7"
            ],
            [
             0.6,
             "#e6f5d0"
            ],
            [
             0.7,
             "#b8e186"
            ],
            [
             0.8,
             "#7fbc41"
            ],
            [
             0.9,
             "#4d9221"
            ],
            [
             1,
             "#276419"
            ]
           ],
           "sequential": [
            [
             0,
             "#0d0887"
            ],
            [
             0.1111111111111111,
             "#46039f"
            ],
            [
             0.2222222222222222,
             "#7201a8"
            ],
            [
             0.3333333333333333,
             "#9c179e"
            ],
            [
             0.4444444444444444,
             "#bd3786"
            ],
            [
             0.5555555555555556,
             "#d8576b"
            ],
            [
             0.6666666666666666,
             "#ed7953"
            ],
            [
             0.7777777777777778,
             "#fb9f3a"
            ],
            [
             0.8888888888888888,
             "#fdca26"
            ],
            [
             1,
             "#f0f921"
            ]
           ],
           "sequentialminus": [
            [
             0,
             "#0d0887"
            ],
            [
             0.1111111111111111,
             "#46039f"
            ],
            [
             0.2222222222222222,
             "#7201a8"
            ],
            [
             0.3333333333333333,
             "#9c179e"
            ],
            [
             0.4444444444444444,
             "#bd3786"
            ],
            [
             0.5555555555555556,
             "#d8576b"
            ],
            [
             0.6666666666666666,
             "#ed7953"
            ],
            [
             0.7777777777777778,
             "#fb9f3a"
            ],
            [
             0.8888888888888888,
             "#fdca26"
            ],
            [
             1,
             "#f0f921"
            ]
           ]
          },
          "colorway": [
           "#636efa",
           "#EF553B",
           "#00cc96",
           "#ab63fa",
           "#FFA15A",
           "#19d3f3",
           "#FF6692",
           "#B6E880",
           "#FF97FF",
           "#FECB52"
          ],
          "font": {
           "color": "#2a3f5f"
          },
          "geo": {
           "bgcolor": "white",
           "lakecolor": "white",
           "landcolor": "#E5ECF6",
           "showlakes": true,
           "showland": true,
           "subunitcolor": "white"
          },
          "hoverlabel": {
           "align": "left"
          },
          "hovermode": "closest",
          "mapbox": {
           "style": "light"
          },
          "paper_bgcolor": "white",
          "plot_bgcolor": "#E5ECF6",
          "polar": {
           "angularaxis": {
            "gridcolor": "white",
            "linecolor": "white",
            "ticks": ""
           },
           "bgcolor": "#E5ECF6",
           "radialaxis": {
            "gridcolor": "white",
            "linecolor": "white",
            "ticks": ""
           }
          },
          "scene": {
           "xaxis": {
            "backgroundcolor": "#E5ECF6",
            "gridcolor": "white",
            "gridwidth": 2,
            "linecolor": "white",
            "showbackground": true,
            "ticks": "",
            "zerolinecolor": "white"
           },
           "yaxis": {
            "backgroundcolor": "#E5ECF6",
            "gridcolor": "white",
            "gridwidth": 2,
            "linecolor": "white",
            "showbackground": true,
            "ticks": "",
            "zerolinecolor": "white"
           },
           "zaxis": {
            "backgroundcolor": "#E5ECF6",
            "gridcolor": "white",
            "gridwidth": 2,
            "linecolor": "white",
            "showbackground": true,
            "ticks": "",
            "zerolinecolor": "white"
           }
          },
          "shapedefaults": {
           "line": {
            "color": "#2a3f5f"
           }
          },
          "ternary": {
           "aaxis": {
            "gridcolor": "white",
            "linecolor": "white",
            "ticks": ""
           },
           "baxis": {
            "gridcolor": "white",
            "linecolor": "white",
            "ticks": ""
           },
           "bgcolor": "#E5ECF6",
           "caxis": {
            "gridcolor": "white",
            "linecolor": "white",
            "ticks": ""
           }
          },
          "title": {
           "x": 0.05
          },
          "xaxis": {
           "automargin": true,
           "gridcolor": "white",
           "linecolor": "white",
           "ticks": "",
           "title": {
            "standoff": 15
           },
           "zerolinecolor": "white",
           "zerolinewidth": 2
          },
          "yaxis": {
           "automargin": true,
           "gridcolor": "white",
           "linecolor": "white",
           "ticks": "",
           "title": {
            "standoff": 15
           },
           "zerolinecolor": "white",
           "zerolinewidth": 2
          }
         }
        }
       }
      }
     },
     "metadata": {},
     "output_type": "display_data"
    }
   ],
   "source": [
    "from sklearn.manifold import TSNE\n",
    "import numpy as np\n",
    "\n",
    "tsne = TSNE(n_components=3, n_iter=2000)\n",
    "tsne_embedding = tsne.fit_transform(word_vectors)\n",
    "\n",
    "x, y, z = np.transpose(tsne_embedding)\n",
    "\n",
    "import plotly.express as px\n",
    "\n",
    "fig = px.scatter_3d(x=x[:200],y=y[:200],z=z[:200],text=sample[:200])\n",
    "fig.update_traces(marker=dict(size=3,line=dict(width=2)),textfont_size=10)\n",
    "fig.show()"
   ]
  },
  {
   "cell_type": "markdown",
   "id": "77c99faa",
   "metadata": {},
   "source": [
    "The obtained visualization seems to be not really informative, containing many nonsensical terms (especially in the tokens of comments):\n",
    "- including rare variable names, symbols, or malformed code. \n",
    "\n",
    "Beyond this, the model seems to have identified some groups such as: one containing comments and another one containing numbers. \n"
   ]
  },
  {
   "cell_type": "markdown",
   "id": "48902c30",
   "metadata": {},
   "source": [
    "Now let's try to analyze a more structured visualization plotting the top most similar embeddings for some of domain-specific words. We will use the usual function of the previous sections."
   ]
  },
  {
   "cell_type": "code",
   "execution_count": null,
   "id": "2af72919",
   "metadata": {},
   "outputs": [
    {
     "name": "stderr",
     "output_type": "stream",
     "text": [
      "c:\\Users\\utente\\AppData\\Local\\Programs\\Python\\Python312\\Lib\\site-packages\\sklearn\\manifold\\_t_sne.py:1164: FutureWarning:\n",
      "\n",
      "'n_iter' was renamed to 'max_iter' in version 1.5 and will be removed in 1.7.\n",
      "\n"
     ]
    },
    {
     "data": {
      "application/vnd.plotly.v1+json": {
       "config": {
        "plotlyServerURL": "https://plot.ly"
       },
       "data": [
        {
         "hovertemplate": "group=for<br>x=%{x}<br>y=%{y}<br>z=%{z}<br>word=%{text}<extra></extra>",
         "legendgroup": "for",
         "marker": {
          "color": "#636efa",
          "line": {
           "width": 2
          },
          "size": 5,
          "symbol": "circle"
         },
         "mode": "markers+text",
         "name": "for",
         "scene": "scene",
         "showlegend": true,
         "text": [
          "range",
          "in",
          "i",
          "input",
          "n",
          "if",
          "j",
          "1",
          "len",
          "int",
          "]",
          "[",
          "=",
          ")",
          "-",
          "for"
         ],
         "textfont": {
          "size": 10
         },
         "type": "scatter3d",
         "x": [
          14.039922714233398,
          10.991382598876953,
          20.843429565429688,
          -60.910316467285156,
          42.61128616333008,
          -22.517681121826172,
          29.065433502197266,
          32.94775390625,
          1.8329527378082275,
          -44.72256851196289,
          58.67374801635742,
          57.243892669677734,
          -23.634449005126953,
          -21.1209774017334,
          19.87054443359375,
          11.616616249084473
         ],
         "y": [
          -1.1684566736221313,
          -22.133270263671875,
          38.2520637512207,
          -25.05634307861328,
          64.41848754882812,
          107.1393051147461,
          4.347440242767334,
          53.12537384033203,
          63.42451477050781,
          6.1213908195495605,
          5.4457478523254395,
          -4.8021979331970215,
          54.92655944824219,
          32.922664642333984,
          16.786806106567383,
          -23.23114585876465
         ],
         "z": [
          144.31478881835938,
          75.03363037109375,
          -27.597387313842773,
          97.32196044921875,
          68.39013671875,
          28.095745086669922,
          -52.005855560302734,
          9.727943420410156,
          -58.74296951293945,
          78.9690170288086,
          27.31310272216797,
          -7.183769226074219,
          79.42243194580078,
          42.32232666015625,
          9.859960556030273,
          114.65631103515625
         ]
        },
        {
         "hovertemplate": "group=if<br>x=%{x}<br>y=%{y}<br>z=%{z}<br>word=%{text}<extra></extra>",
         "legendgroup": "if",
         "marker": {
          "color": "#EF553B",
          "line": {
           "width": 2
          },
          "size": 5,
          "symbol": "circle"
         },
         "mode": "markers+text",
         "name": "if",
         "scene": "scene",
         "showlegend": true,
         "text": [
          ":",
          "0",
          "==",
          "(",
          "+",
          "else",
          ">",
          "2"
         ],
         "textfont": {
          "size": 10
         },
         "type": "scatter3d",
         "x": [
          1.4850924015045166,
          -3.8309266567230225,
          14.679619789123535,
          7.783697605133057,
          70.88487243652344,
          163.42724609375,
          38.207462310791016,
          60.02408218383789
         ],
         "y": [
          70.82149505615234,
          62.4837760925293,
          126.24115753173828,
          30.822248458862305,
          46.08053970336914,
          -67.81473541259766,
          95.6556167602539,
          84.57086944580078
         ],
         "z": [
          43.09721374511719,
          1.455974817276001,
          0.06618617475032806,
          63.22692108154297,
          -10.633389472961426,
          18.00539779663086,
          -25.300867080688477,
          27.60938835144043
         ]
        },
        {
         "hovertemplate": "group=comment<br>x=%{x}<br>y=%{y}<br>z=%{z}<br>word=%{text}<extra></extra>",
         "legendgroup": "comment",
         "marker": {
          "color": "#00cc96",
          "line": {
           "width": 2
          },
          "size": 5,
          "symbol": "circle"
         },
         "mode": "markers+text",
         "name": "comment",
         "scene": "scene",
         "showlegend": true,
         "text": [
          "comments",
          "commentslist",
          "commentlist",
          "<comment>#uncomment",
          "<comment>ちょうどいい位置(ここより手前で2**iまでを網羅)にバイパスを作る感じ",
          "<comment>g[cur]:",
          "<comment>comment",
          "<comment>读取第一行的n",
          "comment_result",
          "<comment>完全に被覆している区間は狭い方だけ残す",
          "<comment>薬品1~nを用いて、タイプaをiグラム、",
          "<comment>横線h段からなるあみだくじで、0がkに来るものの数",
          "<comment>class=\\\\\\\"hljs-comment\\\\\\\">#",
          "<comment>line[-1]",
          "<comment>ひとまず枝があるペアは枝の長さをセット",
          "comment"
         ],
         "textfont": {
          "size": 10
         },
         "type": "scatter3d",
         "x": [
          -5.735400676727295,
          -22.67086410522461,
          -45.80500030517578,
          -33.910369873046875,
          66.8565673828125,
          -24.162147521972656,
          -11.924769401550293,
          -23.011268615722656,
          -54.40666198730469,
          42.65706253051758,
          64.71845245361328,
          85.6285171508789,
          23.659198760986328,
          1.2919631004333496,
          68.25668334960938,
          32.467872619628906
         ],
         "y": [
          -192.2320556640625,
          -159.9316864013672,
          -157.0224609375,
          -189.634521484375,
          -94.41568756103516,
          -100.2033920288086,
          -160.72711181640625,
          -102.0042724609375,
          -150.77020263671875,
          -75.04999542236328,
          -75.9279556274414,
          -72.11360168457031,
          -102.44990539550781,
          -130.05934143066406,
          -107.74559783935547,
          -189.8483123779297
         ],
         "z": [
          -9.913884162902832,
          -32.015560150146484,
          -5.706487655639648,
          22.46799087524414,
          22.885732650756836,
          3.61757493019104,
          37.355865478515625,
          -32.2875862121582,
          -52.254512786865234,
          -6.055811882019043,
          -39.733131408691406,
          -5.168889045715332,
          -47.17051696777344,
          -7.591874122619629,
          -17.27643585205078,
          11.724601745605469
         ]
        },
        {
         "hovertemplate": "group=print<br>x=%{x}<br>y=%{y}<br>z=%{z}<br>word=%{text}<extra></extra>",
         "legendgroup": "print",
         "marker": {
          "color": "#ab63fa",
          "line": {
           "width": 2
          },
          "size": 5,
          "symbol": "circle"
         },
         "mode": "markers+text",
         "name": "print",
         "scene": "scene",
         "showlegend": true,
         "text": [
          "+=",
          "elif",
          "%",
          "!=",
          "ans",
          "a",
          "c",
          "print"
         ],
         "textfont": {
          "size": 10
         },
         "type": "scatter3d",
         "x": [
          103.13074493408203,
          -1.492123007774353,
          76.60147094726562,
          45.005287170410156,
          110.76551055908203,
          77.13589477539062,
          101.99093627929688,
          23.45285415649414
         ],
         "y": [
          80.86909484863281,
          175.60610961914062,
          121.20437622070312,
          141.36105346679688,
          74.62528991699219,
          39.69678497314453,
          36.772586822509766,
          152.69580078125
         ],
         "z": [
          -21.311790466308594,
          -6.919350624084473,
          25.515283584594727,
          -27.971601486206055,
          90.65425109863281,
          89.98149108886719,
          65.44230651855469,
          56.9262809753418
         ]
        },
        {
         "hovertemplate": "group=dog<br>x=%{x}<br>y=%{y}<br>z=%{z}<br>word=%{text}<extra></extra>",
         "legendgroup": "dog",
         "marker": {
          "color": "#FFA15A",
          "line": {
           "width": 2
          },
          "size": 5,
          "symbol": "circle"
         },
         "mode": "markers+text",
         "name": "dog",
         "scene": "scene",
         "showlegend": true,
         "text": [
          "pdog",
          "popdog",
          "cntdog",
          "catdog",
          "showdog",
          "hatdog",
          "pushdog",
          "new_catdog",
          "dog_cat",
          "pcat",
          "uncle_dog",
          "doggo",
          "popcat",
          "cntcat",
          "cat",
          "dog"
         ],
         "textfont": {
          "size": 10
         },
         "type": "scatter3d",
         "x": [
          -126.53826141357422,
          -107.88204956054688,
          -142.26205444335938,
          -106.7602767944336,
          -138.95443725585938,
          -83.95708465576172,
          -144.03074645996094,
          130.94061279296875,
          -59.32307815551758,
          -54.72679901123047,
          -85.06932067871094,
          -105.79451751708984,
          -83.91742706298828,
          -139.1043243408203,
          -55.48197937011719,
          -137.07684326171875
         ],
         "y": [
          0.8005250096321106,
          26.123416900634766,
          -42.36042785644531,
          64.27295684814453,
          -1.4130752086639404,
          79.37552642822266,
          40.03450012207031,
          -4.5419487953186035,
          -17.938030242919922,
          14.405102729797363,
          -32.032840728759766,
          -21.53466033935547,
          41.92299270629883,
          -67.9541015625,
          16.705781936645508,
          10.958891868591309
         ],
         "z": [
          -62.17645263671875,
          -41.16374588012695,
          -74.23102569580078,
          -69.33600616455078,
          -15.89976692199707,
          -92.17658996582031,
          -36.97234344482422,
          -43.507022857666016,
          -87.23763275146484,
          -73.89891815185547,
          -42.104583740234375,
          5.034562587738037,
          -22.214754104614258,
          -53.989471435546875,
          -113.49693298339844,
          -98.39340209960938
         ]
        }
       ],
       "layout": {
        "legend": {
         "title": {
          "text": "group"
         },
         "tracegroupgap": 0
        },
        "scene": {
         "domain": {
          "x": [
           0,
           1
          ],
          "y": [
           0,
           1
          ]
         },
         "xaxis": {
          "title": {
           "text": "x"
          }
         },
         "yaxis": {
          "title": {
           "text": "y"
          }
         },
         "zaxis": {
          "title": {
           "text": "z"
          }
         }
        },
        "template": {
         "data": {
          "bar": [
           {
            "error_x": {
             "color": "#2a3f5f"
            },
            "error_y": {
             "color": "#2a3f5f"
            },
            "marker": {
             "line": {
              "color": "#E5ECF6",
              "width": 0.5
             },
             "pattern": {
              "fillmode": "overlay",
              "size": 10,
              "solidity": 0.2
             }
            },
            "type": "bar"
           }
          ],
          "barpolar": [
           {
            "marker": {
             "line": {
              "color": "#E5ECF6",
              "width": 0.5
             },
             "pattern": {
              "fillmode": "overlay",
              "size": 10,
              "solidity": 0.2
             }
            },
            "type": "barpolar"
           }
          ],
          "carpet": [
           {
            "aaxis": {
             "endlinecolor": "#2a3f5f",
             "gridcolor": "white",
             "linecolor": "white",
             "minorgridcolor": "white",
             "startlinecolor": "#2a3f5f"
            },
            "baxis": {
             "endlinecolor": "#2a3f5f",
             "gridcolor": "white",
             "linecolor": "white",
             "minorgridcolor": "white",
             "startlinecolor": "#2a3f5f"
            },
            "type": "carpet"
           }
          ],
          "choropleth": [
           {
            "colorbar": {
             "outlinewidth": 0,
             "ticks": ""
            },
            "type": "choropleth"
           }
          ],
          "contour": [
           {
            "colorbar": {
             "outlinewidth": 0,
             "ticks": ""
            },
            "colorscale": [
             [
              0,
              "#0d0887"
             ],
             [
              0.1111111111111111,
              "#46039f"
             ],
             [
              0.2222222222222222,
              "#7201a8"
             ],
             [
              0.3333333333333333,
              "#9c179e"
             ],
             [
              0.4444444444444444,
              "#bd3786"
             ],
             [
              0.5555555555555556,
              "#d8576b"
             ],
             [
              0.6666666666666666,
              "#ed7953"
             ],
             [
              0.7777777777777778,
              "#fb9f3a"
             ],
             [
              0.8888888888888888,
              "#fdca26"
             ],
             [
              1,
              "#f0f921"
             ]
            ],
            "type": "contour"
           }
          ],
          "contourcarpet": [
           {
            "colorbar": {
             "outlinewidth": 0,
             "ticks": ""
            },
            "type": "contourcarpet"
           }
          ],
          "heatmap": [
           {
            "colorbar": {
             "outlinewidth": 0,
             "ticks": ""
            },
            "colorscale": [
             [
              0,
              "#0d0887"
             ],
             [
              0.1111111111111111,
              "#46039f"
             ],
             [
              0.2222222222222222,
              "#7201a8"
             ],
             [
              0.3333333333333333,
              "#9c179e"
             ],
             [
              0.4444444444444444,
              "#bd3786"
             ],
             [
              0.5555555555555556,
              "#d8576b"
             ],
             [
              0.6666666666666666,
              "#ed7953"
             ],
             [
              0.7777777777777778,
              "#fb9f3a"
             ],
             [
              0.8888888888888888,
              "#fdca26"
             ],
             [
              1,
              "#f0f921"
             ]
            ],
            "type": "heatmap"
           }
          ],
          "heatmapgl": [
           {
            "colorbar": {
             "outlinewidth": 0,
             "ticks": ""
            },
            "colorscale": [
             [
              0,
              "#0d0887"
             ],
             [
              0.1111111111111111,
              "#46039f"
             ],
             [
              0.2222222222222222,
              "#7201a8"
             ],
             [
              0.3333333333333333,
              "#9c179e"
             ],
             [
              0.4444444444444444,
              "#bd3786"
             ],
             [
              0.5555555555555556,
              "#d8576b"
             ],
             [
              0.6666666666666666,
              "#ed7953"
             ],
             [
              0.7777777777777778,
              "#fb9f3a"
             ],
             [
              0.8888888888888888,
              "#fdca26"
             ],
             [
              1,
              "#f0f921"
             ]
            ],
            "type": "heatmapgl"
           }
          ],
          "histogram": [
           {
            "marker": {
             "pattern": {
              "fillmode": "overlay",
              "size": 10,
              "solidity": 0.2
             }
            },
            "type": "histogram"
           }
          ],
          "histogram2d": [
           {
            "colorbar": {
             "outlinewidth": 0,
             "ticks": ""
            },
            "colorscale": [
             [
              0,
              "#0d0887"
             ],
             [
              0.1111111111111111,
              "#46039f"
             ],
             [
              0.2222222222222222,
              "#7201a8"
             ],
             [
              0.3333333333333333,
              "#9c179e"
             ],
             [
              0.4444444444444444,
              "#bd3786"
             ],
             [
              0.5555555555555556,
              "#d8576b"
             ],
             [
              0.6666666666666666,
              "#ed7953"
             ],
             [
              0.7777777777777778,
              "#fb9f3a"
             ],
             [
              0.8888888888888888,
              "#fdca26"
             ],
             [
              1,
              "#f0f921"
             ]
            ],
            "type": "histogram2d"
           }
          ],
          "histogram2dcontour": [
           {
            "colorbar": {
             "outlinewidth": 0,
             "ticks": ""
            },
            "colorscale": [
             [
              0,
              "#0d0887"
             ],
             [
              0.1111111111111111,
              "#46039f"
             ],
             [
              0.2222222222222222,
              "#7201a8"
             ],
             [
              0.3333333333333333,
              "#9c179e"
             ],
             [
              0.4444444444444444,
              "#bd3786"
             ],
             [
              0.5555555555555556,
              "#d8576b"
             ],
             [
              0.6666666666666666,
              "#ed7953"
             ],
             [
              0.7777777777777778,
              "#fb9f3a"
             ],
             [
              0.8888888888888888,
              "#fdca26"
             ],
             [
              1,
              "#f0f921"
             ]
            ],
            "type": "histogram2dcontour"
           }
          ],
          "mesh3d": [
           {
            "colorbar": {
             "outlinewidth": 0,
             "ticks": ""
            },
            "type": "mesh3d"
           }
          ],
          "parcoords": [
           {
            "line": {
             "colorbar": {
              "outlinewidth": 0,
              "ticks": ""
             }
            },
            "type": "parcoords"
           }
          ],
          "pie": [
           {
            "automargin": true,
            "type": "pie"
           }
          ],
          "scatter": [
           {
            "fillpattern": {
             "fillmode": "overlay",
             "size": 10,
             "solidity": 0.2
            },
            "type": "scatter"
           }
          ],
          "scatter3d": [
           {
            "line": {
             "colorbar": {
              "outlinewidth": 0,
              "ticks": ""
             }
            },
            "marker": {
             "colorbar": {
              "outlinewidth": 0,
              "ticks": ""
             }
            },
            "type": "scatter3d"
           }
          ],
          "scattercarpet": [
           {
            "marker": {
             "colorbar": {
              "outlinewidth": 0,
              "ticks": ""
             }
            },
            "type": "scattercarpet"
           }
          ],
          "scattergeo": [
           {
            "marker": {
             "colorbar": {
              "outlinewidth": 0,
              "ticks": ""
             }
            },
            "type": "scattergeo"
           }
          ],
          "scattergl": [
           {
            "marker": {
             "colorbar": {
              "outlinewidth": 0,
              "ticks": ""
             }
            },
            "type": "scattergl"
           }
          ],
          "scattermapbox": [
           {
            "marker": {
             "colorbar": {
              "outlinewidth": 0,
              "ticks": ""
             }
            },
            "type": "scattermapbox"
           }
          ],
          "scatterpolar": [
           {
            "marker": {
             "colorbar": {
              "outlinewidth": 0,
              "ticks": ""
             }
            },
            "type": "scatterpolar"
           }
          ],
          "scatterpolargl": [
           {
            "marker": {
             "colorbar": {
              "outlinewidth": 0,
              "ticks": ""
             }
            },
            "type": "scatterpolargl"
           }
          ],
          "scatterternary": [
           {
            "marker": {
             "colorbar": {
              "outlinewidth": 0,
              "ticks": ""
             }
            },
            "type": "scatterternary"
           }
          ],
          "surface": [
           {
            "colorbar": {
             "outlinewidth": 0,
             "ticks": ""
            },
            "colorscale": [
             [
              0,
              "#0d0887"
             ],
             [
              0.1111111111111111,
              "#46039f"
             ],
             [
              0.2222222222222222,
              "#7201a8"
             ],
             [
              0.3333333333333333,
              "#9c179e"
             ],
             [
              0.4444444444444444,
              "#bd3786"
             ],
             [
              0.5555555555555556,
              "#d8576b"
             ],
             [
              0.6666666666666666,
              "#ed7953"
             ],
             [
              0.7777777777777778,
              "#fb9f3a"
             ],
             [
              0.8888888888888888,
              "#fdca26"
             ],
             [
              1,
              "#f0f921"
             ]
            ],
            "type": "surface"
           }
          ],
          "table": [
           {
            "cells": {
             "fill": {
              "color": "#EBF0F8"
             },
             "line": {
              "color": "white"
             }
            },
            "header": {
             "fill": {
              "color": "#C8D4E3"
             },
             "line": {
              "color": "white"
             }
            },
            "type": "table"
           }
          ]
         },
         "layout": {
          "annotationdefaults": {
           "arrowcolor": "#2a3f5f",
           "arrowhead": 0,
           "arrowwidth": 1
          },
          "autotypenumbers": "strict",
          "coloraxis": {
           "colorbar": {
            "outlinewidth": 0,
            "ticks": ""
           }
          },
          "colorscale": {
           "diverging": [
            [
             0,
             "#8e0152"
            ],
            [
             0.1,
             "#c51b7d"
            ],
            [
             0.2,
             "#de77ae"
            ],
            [
             0.3,
             "#f1b6da"
            ],
            [
             0.4,
             "#fde0ef"
            ],
            [
             0.5,
             "#f7f7f7"
            ],
            [
             0.6,
             "#e6f5d0"
            ],
            [
             0.7,
             "#b8e186"
            ],
            [
             0.8,
             "#7fbc41"
            ],
            [
             0.9,
             "#4d9221"
            ],
            [
             1,
             "#276419"
            ]
           ],
           "sequential": [
            [
             0,
             "#0d0887"
            ],
            [
             0.1111111111111111,
             "#46039f"
            ],
            [
             0.2222222222222222,
             "#7201a8"
            ],
            [
             0.3333333333333333,
             "#9c179e"
            ],
            [
             0.4444444444444444,
             "#bd3786"
            ],
            [
             0.5555555555555556,
             "#d8576b"
            ],
            [
             0.6666666666666666,
             "#ed7953"
            ],
            [
             0.7777777777777778,
             "#fb9f3a"
            ],
            [
             0.8888888888888888,
             "#fdca26"
            ],
            [
             1,
             "#f0f921"
            ]
           ],
           "sequentialminus": [
            [
             0,
             "#0d0887"
            ],
            [
             0.1111111111111111,
             "#46039f"
            ],
            [
             0.2222222222222222,
             "#7201a8"
            ],
            [
             0.3333333333333333,
             "#9c179e"
            ],
            [
             0.4444444444444444,
             "#bd3786"
            ],
            [
             0.5555555555555556,
             "#d8576b"
            ],
            [
             0.6666666666666666,
             "#ed7953"
            ],
            [
             0.7777777777777778,
             "#fb9f3a"
            ],
            [
             0.8888888888888888,
             "#fdca26"
            ],
            [
             1,
             "#f0f921"
            ]
           ]
          },
          "colorway": [
           "#636efa",
           "#EF553B",
           "#00cc96",
           "#ab63fa",
           "#FFA15A",
           "#19d3f3",
           "#FF6692",
           "#B6E880",
           "#FF97FF",
           "#FECB52"
          ],
          "font": {
           "color": "#2a3f5f"
          },
          "geo": {
           "bgcolor": "white",
           "lakecolor": "white",
           "landcolor": "#E5ECF6",
           "showlakes": true,
           "showland": true,
           "subunitcolor": "white"
          },
          "hoverlabel": {
           "align": "left"
          },
          "hovermode": "closest",
          "mapbox": {
           "style": "light"
          },
          "paper_bgcolor": "white",
          "plot_bgcolor": "#E5ECF6",
          "polar": {
           "angularaxis": {
            "gridcolor": "white",
            "linecolor": "white",
            "ticks": ""
           },
           "bgcolor": "#E5ECF6",
           "radialaxis": {
            "gridcolor": "white",
            "linecolor": "white",
            "ticks": ""
           }
          },
          "scene": {
           "xaxis": {
            "backgroundcolor": "#E5ECF6",
            "gridcolor": "white",
            "gridwidth": 2,
            "linecolor": "white",
            "showbackground": true,
            "ticks": "",
            "zerolinecolor": "white"
           },
           "yaxis": {
            "backgroundcolor": "#E5ECF6",
            "gridcolor": "white",
            "gridwidth": 2,
            "linecolor": "white",
            "showbackground": true,
            "ticks": "",
            "zerolinecolor": "white"
           },
           "zaxis": {
            "backgroundcolor": "#E5ECF6",
            "gridcolor": "white",
            "gridwidth": 2,
            "linecolor": "white",
            "showbackground": true,
            "ticks": "",
            "zerolinecolor": "white"
           }
          },
          "shapedefaults": {
           "line": {
            "color": "#2a3f5f"
           }
          },
          "ternary": {
           "aaxis": {
            "gridcolor": "white",
            "linecolor": "white",
            "ticks": ""
           },
           "baxis": {
            "gridcolor": "white",
            "linecolor": "white",
            "ticks": ""
           },
           "bgcolor": "#E5ECF6",
           "caxis": {
            "gridcolor": "white",
            "linecolor": "white",
            "ticks": ""
           }
          },
          "title": {
           "x": 0.05
          },
          "xaxis": {
           "automargin": true,
           "gridcolor": "white",
           "linecolor": "white",
           "ticks": "",
           "title": {
            "standoff": 15
           },
           "zerolinecolor": "white",
           "zerolinewidth": 2
          },
          "yaxis": {
           "automargin": true,
           "gridcolor": "white",
           "linecolor": "white",
           "ticks": "",
           "title": {
            "standoff": 15
           },
           "zerolinecolor": "white",
           "zerolinewidth": 2
          }
         }
        },
        "title": {
         "text": "3D t-SNE Word Embedding Visualization (Grouped)"
        }
       }
      }
     },
     "metadata": {},
     "output_type": "display_data"
    }
   ],
   "source": [
    "# Example \n",
    "centers=[\"for\", \"if\", \"comment\", \"print\", \"dog\"]\n",
    "plot_word_embedding_grouped(ft_model_code, centers)"
   ]
  },
  {
   "cell_type": "markdown",
   "id": "2a294962",
   "metadata": {},
   "source": [
    "We observe a separation between the comment-tagged tokens and the other code-symbols also in this plot. \n",
    "\n",
    "Additionally, there is a noticeable distinction between the word 'dog' (which is not even in the vocabulary) and the others, highlighting their semantic distance."
   ]
  },
  {
   "cell_type": "markdown",
   "id": "da08ee38",
   "metadata": {},
   "source": [
    "#### Solution Embeddings"
   ]
  },
  {
   "cell_type": "markdown",
   "id": "ce1f1193",
   "metadata": {},
   "source": [
    "The main goal is to convert a python solution (code) into a single vector by aggregating all its token embeddings   \n",
    "(obtained with the tokenize function with comments we have seen before).\n",
    "\n",
    "\n",
    "The following function has exactly this purpose (convert code to vector)  \n",
    "Parameters:\n",
    "- code (str): The code string.\n",
    "- ft_model: The trained FastText model.\n",
    "- use_sum (bool): If True, sum embeddings; if False, compute the mean.\n",
    "\n",
    "Return:\n",
    "- np.ndarray: The aggregated vector representing the code."
   ]
  },
  {
   "cell_type": "code",
   "execution_count": null,
   "id": "280212fc",
   "metadata": {},
   "outputs": [],
   "source": [
    "from typing import List\n",
    "import numpy as np\n",
    "def solution_to_vector(code: str, ft_model, use_sum: bool = False) -> np.ndarray:\n",
    "    tokens = tokenize_code_with_comments(code)  # using the tokenization function with comments\n",
    "\n",
    "    vectors = []\n",
    "\n",
    "    # Iterate through the tokens and get their vectors\n",
    "    for tok in tokens:\n",
    "        if tok in ft_model.wv:\n",
    "            vectors.append(ft_model.wv[tok])\n",
    "        else:\n",
    "            # If the token is not in the vocabulary, use the FastText model to get its vector\n",
    "            vectors.append(ft_model.wv.get_vector(tok))\n",
    "\n",
    "    if not vectors:\n",
    "        return np.zeros(ft_model.vector_size)\n",
    "    # If use_sum is True, sum the vectors of the tokens\n",
    "    # Otherwise, return the mean vector\n",
    "    vectors = np.array(vectors)\n",
    "    return np.sum(vectors, axis=0) if use_sum else np.mean(vectors, axis=0)\n"
   ]
  },
  {
   "cell_type": "markdown",
   "id": "1311e379",
   "metadata": {},
   "source": [
    "An example of use with a toy code solution"
   ]
  },
  {
   "cell_type": "code",
   "execution_count": null,
   "id": "cc163469",
   "metadata": {},
   "outputs": [],
   "source": [
    "code_example = \"\"\"\n",
    "def factorial(n):\n",
    "    if n == 0:\n",
    "        return 1\n",
    "    else:\n",
    "        return n * factorial(n-1)\n",
    "\"\"\"\n",
    "# Using the mean of the vectors as solution vector\n",
    "embedding = solution_to_vector(code_example, ft_model_code, use_sum=False)\n",
    "print(\"Vector shape:\", embedding.shape)\n",
    "print(\"Vector:\", embedding)\n"
   ]
  },
  {
   "cell_type": "markdown",
   "id": "0aafa59b",
   "metadata": {},
   "source": [
    "Now use the other data frame containing complexities, it's the same used in the previous section of analysis."
   ]
  },
  {
   "cell_type": "code",
   "execution_count": null,
   "id": "d5e7ee85",
   "metadata": {},
   "outputs": [],
   "source": [
    "import pandas as pd\n",
    "df_complexity_labels_light_we = pd.DataFrame(df_complexity_labels_light)\n",
    "df_complexity_labels_light_we.head()"
   ]
  },
  {
   "cell_type": "markdown",
   "id": "9faf7390",
   "metadata": {},
   "source": [
    "Just to have an overview of the its structure"
   ]
  },
  {
   "cell_type": "code",
   "execution_count": null,
   "id": "15ebab5f",
   "metadata": {},
   "outputs": [
    {
     "data": {
      "text/html": [
       "<div>\n",
       "<style scoped>\n",
       "    .dataframe tbody tr th:only-of-type {\n",
       "        vertical-align: middle;\n",
       "    }\n",
       "\n",
       "    .dataframe tbody tr th {\n",
       "        vertical-align: top;\n",
       "    }\n",
       "\n",
       "    .dataframe thead th {\n",
       "        text-align: right;\n",
       "    }\n",
       "</style>\n",
       "<table border=\"1\" class=\"dataframe\">\n",
       "  <thead>\n",
       "    <tr style=\"text-align: right;\">\n",
       "      <th></th>\n",
       "      <th>problem_id</th>\n",
       "      <th>problem_name</th>\n",
       "      <th>solution_id</th>\n",
       "      <th>time_complexity_inferred</th>\n",
       "      <th>space_complexity_inferred</th>\n",
       "      <th>time_curve_coefficient</th>\n",
       "      <th>space_curve_coefficient</th>\n",
       "    </tr>\n",
       "  </thead>\n",
       "  <tbody>\n",
       "    <tr>\n",
       "      <th>0</th>\n",
       "      <td>0</td>\n",
       "      <td>339_C. Xenia and Weights</td>\n",
       "      <td>0_0</td>\n",
       "      <td>O(1)</td>\n",
       "      <td>O(n**2)</td>\n",
       "      <td>1.886800e-05</td>\n",
       "      <td>0.012433</td>\n",
       "    </tr>\n",
       "    <tr>\n",
       "      <th>1</th>\n",
       "      <td>0</td>\n",
       "      <td>339_C. Xenia and Weights</td>\n",
       "      <td>0_1</td>\n",
       "      <td>None</td>\n",
       "      <td>None</td>\n",
       "      <td>NaN</td>\n",
       "      <td>NaN</td>\n",
       "    </tr>\n",
       "    <tr>\n",
       "      <th>2</th>\n",
       "      <td>0</td>\n",
       "      <td>339_C. Xenia and Weights</td>\n",
       "      <td>0_2</td>\n",
       "      <td>O(1)</td>\n",
       "      <td>O(1)</td>\n",
       "      <td>4.261500e-06</td>\n",
       "      <td>584.000000</td>\n",
       "    </tr>\n",
       "    <tr>\n",
       "      <th>3</th>\n",
       "      <td>0</td>\n",
       "      <td>339_C. Xenia and Weights</td>\n",
       "      <td>0_3</td>\n",
       "      <td>None</td>\n",
       "      <td>None</td>\n",
       "      <td>NaN</td>\n",
       "      <td>NaN</td>\n",
       "    </tr>\n",
       "    <tr>\n",
       "      <th>4</th>\n",
       "      <td>0</td>\n",
       "      <td>339_C. Xenia and Weights</td>\n",
       "      <td>0_4</td>\n",
       "      <td>O(1)</td>\n",
       "      <td>O(1)</td>\n",
       "      <td>1.299450e-05</td>\n",
       "      <td>323.000000</td>\n",
       "    </tr>\n",
       "    <tr>\n",
       "      <th>5</th>\n",
       "      <td>0</td>\n",
       "      <td>339_C. Xenia and Weights</td>\n",
       "      <td>0_5</td>\n",
       "      <td>None</td>\n",
       "      <td>None</td>\n",
       "      <td>NaN</td>\n",
       "      <td>NaN</td>\n",
       "    </tr>\n",
       "    <tr>\n",
       "      <th>6</th>\n",
       "      <td>0</td>\n",
       "      <td>339_C. Xenia and Weights</td>\n",
       "      <td>0_6</td>\n",
       "      <td>O(1)</td>\n",
       "      <td>O(1)</td>\n",
       "      <td>6.575000e-06</td>\n",
       "      <td>283.000000</td>\n",
       "    </tr>\n",
       "    <tr>\n",
       "      <th>7</th>\n",
       "      <td>0</td>\n",
       "      <td>339_C. Xenia and Weights</td>\n",
       "      <td>0_7</td>\n",
       "      <td>None</td>\n",
       "      <td>None</td>\n",
       "      <td>NaN</td>\n",
       "      <td>NaN</td>\n",
       "    </tr>\n",
       "    <tr>\n",
       "      <th>8</th>\n",
       "      <td>0</td>\n",
       "      <td>339_C. Xenia and Weights</td>\n",
       "      <td>0_8</td>\n",
       "      <td>O(1)</td>\n",
       "      <td>O(1)</td>\n",
       "      <td>3.838500e-06</td>\n",
       "      <td>568.000000</td>\n",
       "    </tr>\n",
       "    <tr>\n",
       "      <th>9</th>\n",
       "      <td>0</td>\n",
       "      <td>339_C. Xenia and Weights</td>\n",
       "      <td>0_9</td>\n",
       "      <td>None</td>\n",
       "      <td>None</td>\n",
       "      <td>NaN</td>\n",
       "      <td>NaN</td>\n",
       "    </tr>\n",
       "    <tr>\n",
       "      <th>10</th>\n",
       "      <td>0</td>\n",
       "      <td>339_C. Xenia and Weights</td>\n",
       "      <td>0_10</td>\n",
       "      <td>O(1)</td>\n",
       "      <td>O(1)</td>\n",
       "      <td>7.640000e-06</td>\n",
       "      <td>867.000000</td>\n",
       "    </tr>\n",
       "    <tr>\n",
       "      <th>11</th>\n",
       "      <td>0</td>\n",
       "      <td>339_C. Xenia and Weights</td>\n",
       "      <td>0_11</td>\n",
       "      <td>O(1)</td>\n",
       "      <td>O(1)</td>\n",
       "      <td>1.328350e-05</td>\n",
       "      <td>1128.000000</td>\n",
       "    </tr>\n",
       "    <tr>\n",
       "      <th>12</th>\n",
       "      <td>0</td>\n",
       "      <td>339_C. Xenia and Weights</td>\n",
       "      <td>0_12</td>\n",
       "      <td>O(1)</td>\n",
       "      <td>O(1)</td>\n",
       "      <td>8.580000e-07</td>\n",
       "      <td>59.000000</td>\n",
       "    </tr>\n",
       "    <tr>\n",
       "      <th>13</th>\n",
       "      <td>0</td>\n",
       "      <td>339_C. Xenia and Weights</td>\n",
       "      <td>0_13</td>\n",
       "      <td>None</td>\n",
       "      <td>None</td>\n",
       "      <td>NaN</td>\n",
       "      <td>NaN</td>\n",
       "    </tr>\n",
       "    <tr>\n",
       "      <th>14</th>\n",
       "      <td>0</td>\n",
       "      <td>339_C. Xenia and Weights</td>\n",
       "      <td>0_14</td>\n",
       "      <td>O(1)</td>\n",
       "      <td>O(n**2)</td>\n",
       "      <td>1.871600e-05</td>\n",
       "      <td>1.113768</td>\n",
       "    </tr>\n",
       "  </tbody>\n",
       "</table>\n",
       "</div>"
      ],
      "text/plain": [
       "   problem_id              problem_name solution_id time_complexity_inferred  \\\n",
       "0           0  339_C. Xenia and Weights         0_0                     O(1)   \n",
       "1           0  339_C. Xenia and Weights         0_1                     None   \n",
       "2           0  339_C. Xenia and Weights         0_2                     O(1)   \n",
       "3           0  339_C. Xenia and Weights         0_3                     None   \n",
       "4           0  339_C. Xenia and Weights         0_4                     O(1)   \n",
       "5           0  339_C. Xenia and Weights         0_5                     None   \n",
       "6           0  339_C. Xenia and Weights         0_6                     O(1)   \n",
       "7           0  339_C. Xenia and Weights         0_7                     None   \n",
       "8           0  339_C. Xenia and Weights         0_8                     O(1)   \n",
       "9           0  339_C. Xenia and Weights         0_9                     None   \n",
       "10          0  339_C. Xenia and Weights        0_10                     O(1)   \n",
       "11          0  339_C. Xenia and Weights        0_11                     O(1)   \n",
       "12          0  339_C. Xenia and Weights        0_12                     O(1)   \n",
       "13          0  339_C. Xenia and Weights        0_13                     None   \n",
       "14          0  339_C. Xenia and Weights        0_14                     O(1)   \n",
       "\n",
       "   space_complexity_inferred  time_curve_coefficient  space_curve_coefficient  \n",
       "0                    O(n**2)            1.886800e-05                 0.012433  \n",
       "1                       None                     NaN                      NaN  \n",
       "2                       O(1)            4.261500e-06               584.000000  \n",
       "3                       None                     NaN                      NaN  \n",
       "4                       O(1)            1.299450e-05               323.000000  \n",
       "5                       None                     NaN                      NaN  \n",
       "6                       O(1)            6.575000e-06               283.000000  \n",
       "7                       None                     NaN                      NaN  \n",
       "8                       O(1)            3.838500e-06               568.000000  \n",
       "9                       None                     NaN                      NaN  \n",
       "10                      O(1)            7.640000e-06               867.000000  \n",
       "11                      O(1)            1.328350e-05              1128.000000  \n",
       "12                      O(1)            8.580000e-07                59.000000  \n",
       "13                      None                     NaN                      NaN  \n",
       "14                   O(n**2)            1.871600e-05                 1.113768  "
      ]
     },
     "execution_count": 48,
     "metadata": {},
     "output_type": "execute_result"
    }
   ],
   "source": [
    "df_complexity_labels_light_we.head(15)"
   ]
  },
  {
   "cell_type": "markdown",
   "id": "6433a47a",
   "metadata": {},
   "source": [
    "This block of code selects a balanced subset of problems based on their inferred time complexity labels (e.g., O(n), O(logn), etc.).\n",
    "Steps Performed:\n",
    "- Define a list of target complexity tags.\n",
    "- For each tag:\n",
    "    - Select problems labeled with that complexity.\n",
    "    -  Ensure only one solution per problem is used (drop_duplicates on problem_id).\n",
    "    - Randomly sample 20 problems if available; otherwise, use all the available ones.\n",
    "    - Tag each sampled row with its corresponding label.\n",
    "- Concatenate all the sampled subsets into a single DataFrame."
   ]
  },
  {
   "cell_type": "code",
   "execution_count": null,
   "id": "8991661f",
   "metadata": {},
   "outputs": [
    {
     "name": "stdout",
     "output_type": "stream",
     "text": [
      "Number of problems with tag 'O(n)': 20\n",
      "Number of problems with tag 'O(logn)': 20\n",
      "Number of problems with tag 'O(n**2)': 20\n",
      "Number of problems with tag 'O(1)': 20\n"
     ]
    }
   ],
   "source": [
    "import pandas as pd\n",
    "\n",
    "# Selected tags for sampling\n",
    "selected_tags = [\"O(n)\", \"O(logn)\", \"O(n**2)\", \"O(1)\"]\n",
    "samples = []\n",
    "\n",
    "# Iterate through the selected tags and sample solutions with those complexity labels\n",
    "for tag in selected_tags:\n",
    "    # Filter the rows with the specific tag\n",
    "    df_tag = df_complexity_labels_light_we[\n",
    "        df_complexity_labels_light_we[\"time_complexity_inferred\"].apply(\n",
    "            lambda t: t == tag if isinstance(t, str) else False\n",
    "        )\n",
    "    ]\n",
    "    # Remove duplicate solutions for the same problem (e.g., 'problem_id')\n",
    "    df_tag_unique = df_tag.drop_duplicates(subset=\"problem_id\")\n",
    "\n",
    "    # If there are at least 20 distinct problems with that tag, sample them randomly\n",
    "    # Otherwise, take all the available ones\n",
    "    if len(df_tag_unique) >= 20:\n",
    "        df_sample = df_tag_unique.sample(n=20, random_state=42)\n",
    "    else:\n",
    "        df_sample = df_tag_unique.copy()\n",
    "\n",
    "    # Add the selected tag to the samples\n",
    "    df_sample[\"selected_tag\"] = tag\n",
    "    # Append all the samples in a unified list of dataframes\n",
    "    samples.append(df_sample)\n",
    "    print(f\"Number of problems with tag '{tag}': {len(df_sample)}\")\n",
    "\n",
    "# Concatenate all samples into a single DataFrame\n",
    "df_solution_selected = pd.concat(samples, ignore_index=True)\n"
   ]
  },
  {
   "cell_type": "markdown",
   "id": "7589074c",
   "metadata": {},
   "source": [
    "Show the selected solution with the specified time complexities"
   ]
  },
  {
   "cell_type": "code",
   "execution_count": 110,
   "id": "8eed3cbe",
   "metadata": {},
   "outputs": [
    {
     "data": {
      "text/html": [
       "<div>\n",
       "<style scoped>\n",
       "    .dataframe tbody tr th:only-of-type {\n",
       "        vertical-align: middle;\n",
       "    }\n",
       "\n",
       "    .dataframe tbody tr th {\n",
       "        vertical-align: top;\n",
       "    }\n",
       "\n",
       "    .dataframe thead th {\n",
       "        text-align: right;\n",
       "    }\n",
       "</style>\n",
       "<table border=\"1\" class=\"dataframe\">\n",
       "  <thead>\n",
       "    <tr style=\"text-align: right;\">\n",
       "      <th></th>\n",
       "      <th>problem_id</th>\n",
       "      <th>problem_name</th>\n",
       "      <th>solution_id</th>\n",
       "      <th>time_complexity_inferred</th>\n",
       "      <th>space_complexity_inferred</th>\n",
       "      <th>time_curve_coefficient</th>\n",
       "      <th>space_curve_coefficient</th>\n",
       "      <th>selected_tag</th>\n",
       "    </tr>\n",
       "  </thead>\n",
       "  <tbody>\n",
       "    <tr>\n",
       "      <th>0</th>\n",
       "      <td>1950</td>\n",
       "      <td>697_B. Barnicle</td>\n",
       "      <td>1950_2</td>\n",
       "      <td>O(n)</td>\n",
       "      <td>O(n)</td>\n",
       "      <td>1.296628e-06</td>\n",
       "      <td>2.992037</td>\n",
       "      <td>O(n)</td>\n",
       "    </tr>\n",
       "    <tr>\n",
       "      <th>1</th>\n",
       "      <td>1369</td>\n",
       "      <td>p02721 AtCoder Beginner Contest 161 - Yutori</td>\n",
       "      <td>1369_7</td>\n",
       "      <td>O(n)</td>\n",
       "      <td>O(n+m)</td>\n",
       "      <td>2.604247e-06</td>\n",
       "      <td>165.981206</td>\n",
       "      <td>O(n)</td>\n",
       "    </tr>\n",
       "    <tr>\n",
       "      <th>2</th>\n",
       "      <td>1052</td>\n",
       "      <td>583_A. Asphalting Roads</td>\n",
       "      <td>1052_4</td>\n",
       "      <td>O(n)</td>\n",
       "      <td>O(n)</td>\n",
       "      <td>7.718780e-07</td>\n",
       "      <td>195.720170</td>\n",
       "      <td>O(n)</td>\n",
       "    </tr>\n",
       "    <tr>\n",
       "      <th>3</th>\n",
       "      <td>528</td>\n",
       "      <td>1251_B. Binary Palindromes</td>\n",
       "      <td>528_0</td>\n",
       "      <td>O(n)</td>\n",
       "      <td>O(n)</td>\n",
       "      <td>4.052476e-05</td>\n",
       "      <td>267.012714</td>\n",
       "      <td>O(n)</td>\n",
       "    </tr>\n",
       "    <tr>\n",
       "      <th>4</th>\n",
       "      <td>1643</td>\n",
       "      <td>1301_B. Motarack's Birthday</td>\n",
       "      <td>1643_333</td>\n",
       "      <td>O(n)</td>\n",
       "      <td>O(n**2)</td>\n",
       "      <td>8.154746e-08</td>\n",
       "      <td>0.000190</td>\n",
       "      <td>O(n)</td>\n",
       "    </tr>\n",
       "    <tr>\n",
       "      <th>...</th>\n",
       "      <td>...</td>\n",
       "      <td>...</td>\n",
       "      <td>...</td>\n",
       "      <td>...</td>\n",
       "      <td>...</td>\n",
       "      <td>...</td>\n",
       "      <td>...</td>\n",
       "      <td>...</td>\n",
       "    </tr>\n",
       "    <tr>\n",
       "      <th>75</th>\n",
       "      <td>1941</td>\n",
       "      <td>1473_A. Replacing Elements</td>\n",
       "      <td>1941_82</td>\n",
       "      <td>O(1)</td>\n",
       "      <td>O(1)</td>\n",
       "      <td>1.405000e-07</td>\n",
       "      <td>59.000000</td>\n",
       "      <td>O(1)</td>\n",
       "    </tr>\n",
       "    <tr>\n",
       "      <th>76</th>\n",
       "      <td>3000</td>\n",
       "      <td>p02753 AtCoder Beginner Contest 158 - Station ...</td>\n",
       "      <td>3000_1</td>\n",
       "      <td>O(1)</td>\n",
       "      <td>O(1)</td>\n",
       "      <td>1.049500e-06</td>\n",
       "      <td>54.000000</td>\n",
       "      <td>O(1)</td>\n",
       "    </tr>\n",
       "    <tr>\n",
       "      <th>77</th>\n",
       "      <td>1451</td>\n",
       "      <td>p00444 Change</td>\n",
       "      <td>1451_0</td>\n",
       "      <td>O(1)</td>\n",
       "      <td>O(1)</td>\n",
       "      <td>3.316500e-06</td>\n",
       "      <td>106.000000</td>\n",
       "      <td>O(1)</td>\n",
       "    </tr>\n",
       "    <tr>\n",
       "      <th>78</th>\n",
       "      <td>1760</td>\n",
       "      <td>554_C. Kyoya and Colored Balls</td>\n",
       "      <td>1760_14</td>\n",
       "      <td>O(1)</td>\n",
       "      <td>O(n)</td>\n",
       "      <td>3.722313e-03</td>\n",
       "      <td>25.613269</td>\n",
       "      <td>O(1)</td>\n",
       "    </tr>\n",
       "    <tr>\n",
       "      <th>79</th>\n",
       "      <td>821</td>\n",
       "      <td>318_A. Even Odds</td>\n",
       "      <td>821_0</td>\n",
       "      <td>O(1)</td>\n",
       "      <td>O(logn)</td>\n",
       "      <td>1.873000e-06</td>\n",
       "      <td>0.539049</td>\n",
       "      <td>O(1)</td>\n",
       "    </tr>\n",
       "  </tbody>\n",
       "</table>\n",
       "<p>80 rows × 8 columns</p>\n",
       "</div>"
      ],
      "text/plain": [
       "   problem_id                                       problem_name solution_id  \\\n",
       "0        1950                                    697_B. Barnicle      1950_2   \n",
       "1        1369       p02721 AtCoder Beginner Contest 161 - Yutori      1369_7   \n",
       "2        1052                            583_A. Asphalting Roads      1052_4   \n",
       "3         528                         1251_B. Binary Palindromes       528_0   \n",
       "4        1643                        1301_B. Motarack's Birthday    1643_333   \n",
       "..        ...                                                ...         ...   \n",
       "75       1941                         1473_A. Replacing Elements     1941_82   \n",
       "76       3000  p02753 AtCoder Beginner Contest 158 - Station ...      3000_1   \n",
       "77       1451                                      p00444 Change      1451_0   \n",
       "78       1760                     554_C. Kyoya and Colored Balls     1760_14   \n",
       "79        821                                   318_A. Even Odds       821_0   \n",
       "\n",
       "   time_complexity_inferred space_complexity_inferred  time_curve_coefficient  \\\n",
       "0                      O(n)                      O(n)            1.296628e-06   \n",
       "1                      O(n)                    O(n+m)            2.604247e-06   \n",
       "2                      O(n)                      O(n)            7.718780e-07   \n",
       "3                      O(n)                      O(n)            4.052476e-05   \n",
       "4                      O(n)                   O(n**2)            8.154746e-08   \n",
       "..                      ...                       ...                     ...   \n",
       "75                     O(1)                      O(1)            1.405000e-07   \n",
       "76                     O(1)                      O(1)            1.049500e-06   \n",
       "77                     O(1)                      O(1)            3.316500e-06   \n",
       "78                     O(1)                      O(n)            3.722313e-03   \n",
       "79                     O(1)                   O(logn)            1.873000e-06   \n",
       "\n",
       "    space_curve_coefficient selected_tag  \n",
       "0                  2.992037         O(n)  \n",
       "1                165.981206         O(n)  \n",
       "2                195.720170         O(n)  \n",
       "3                267.012714         O(n)  \n",
       "4                  0.000190         O(n)  \n",
       "..                      ...          ...  \n",
       "75                59.000000         O(1)  \n",
       "76                54.000000         O(1)  \n",
       "77               106.000000         O(1)  \n",
       "78                25.613269         O(1)  \n",
       "79                 0.539049         O(1)  \n",
       "\n",
       "[80 rows x 8 columns]"
      ]
     },
     "execution_count": 110,
     "metadata": {},
     "output_type": "execute_result"
    }
   ],
   "source": [
    "df_solution_selected"
   ]
  },
  {
   "cell_type": "markdown",
   "id": "12214570",
   "metadata": {},
   "source": [
    "Now we need to retrieve the solution code of each of these selected rows..."
   ]
  },
  {
   "cell_type": "code",
   "execution_count": null,
   "id": "b98b2734",
   "metadata": {},
   "outputs": [
    {
     "data": {
      "text/html": [
       "<div>\n",
       "<style scoped>\n",
       "    .dataframe tbody tr th:only-of-type {\n",
       "        vertical-align: middle;\n",
       "    }\n",
       "\n",
       "    .dataframe tbody tr th {\n",
       "        vertical-align: top;\n",
       "    }\n",
       "\n",
       "    .dataframe thead th {\n",
       "        text-align: right;\n",
       "    }\n",
       "</style>\n",
       "<table border=\"1\" class=\"dataframe\">\n",
       "  <thead>\n",
       "    <tr style=\"text-align: right;\">\n",
       "      <th></th>\n",
       "      <th>problem_id</th>\n",
       "      <th>problem_name</th>\n",
       "      <th>description</th>\n",
       "      <th>correct_solution_list</th>\n",
       "      <th>data_source</th>\n",
       "      <th>source_specific_limits</th>\n",
       "      <th>codeforces_specific_metadata</th>\n",
       "      <th>tests</th>\n",
       "      <th>human_accuracy_rate</th>\n",
       "      <th>dataclass</th>\n",
       "      <th>complexity_framework</th>\n",
       "      <th>description_vector</th>\n",
       "      <th>cf_tags</th>\n",
       "    </tr>\n",
       "  </thead>\n",
       "  <tbody>\n",
       "    <tr>\n",
       "      <th>0</th>\n",
       "      <td>0</td>\n",
       "      <td>339_C. Xenia and Weights</td>\n",
       "      <td>Xenia has a set of weights and pan scales. Eac...</td>\n",
       "      <td>[{'solution_id': '0_0', 'solution_code': '__au...</td>\n",
       "      <td>CODEFORCES</td>\n",
       "      <td>{'time_limit': {'seconds': 2, 'nanos': 0}, 'me...</td>\n",
       "      <td>{'cf_contest_id': 339, 'cf_index': 'C', 'cf_po...</td>\n",
       "      <td>{'public_tests': [{'input': '0000000101\n",
       "3\n",
       "', '...</td>\n",
       "      <td>0.281633</td>\n",
       "      <td>{'dataclass_code': 'import sys\n",
       "import time\n",
       "imp...</td>\n",
       "      <td>{'time_complexity_fail_rate': 0.40579710144927...</td>\n",
       "      <td>[40.88922, 68.51662, 6.8400073, -3.7496269, 10...</td>\n",
       "      <td>[constructive algorithms, dfs and similar, dp,...</td>\n",
       "    </tr>\n",
       "    <tr>\n",
       "      <th>1</th>\n",
       "      <td>1</td>\n",
       "      <td>1547_E. Air Conditioners</td>\n",
       "      <td>On a strip of land of length n there are k air...</td>\n",
       "      <td>[{'solution_id': '1_0', 'solution_code': 'def ...</td>\n",
       "      <td>CODEFORCES</td>\n",
       "      <td>{'time_limit': {'seconds': 2, 'nanos': 0}, 'me...</td>\n",
       "      <td>{'cf_contest_id': 1547, 'cf_index': 'E', 'cf_p...</td>\n",
       "      <td>{'public_tests': [{'input': '5\n",
       "\n",
       "6 2\n",
       "2 5\n",
       "14 16\n",
       "...</td>\n",
       "      <td>0.620833</td>\n",
       "      <td>{'dataclass_code': 'import sys\n",
       "import time\n",
       "imp...</td>\n",
       "      <td>{'time_complexity_fail_rate': 0.11409395973154...</td>\n",
       "      <td>[-10.14601, 193.53925, 24.337927, 79.53583, 23...</td>\n",
       "      <td>[data structures, dp, implementation, shortest...</td>\n",
       "    </tr>\n",
       "    <tr>\n",
       "      <th>2</th>\n",
       "      <td>2</td>\n",
       "      <td>268_C. Beautiful Sets of Points</td>\n",
       "      <td>Manao has invented a new mathematical term — a...</td>\n",
       "      <td>[{'solution_id': '2_0', 'solution_code': 'if _...</td>\n",
       "      <td>CODEFORCES</td>\n",
       "      <td>{'time_limit': {'seconds': 1, 'nanos': 0}, 'me...</td>\n",
       "      <td>{'cf_contest_id': 268, 'cf_index': 'C', 'cf_po...</td>\n",
       "      <td>{'public_tests': [{'input': '2 2\n",
       "', 'output': ...</td>\n",
       "      <td>0.525066</td>\n",
       "      <td>{'dataclass_code': 'import sys\n",
       "import time\n",
       "imp...</td>\n",
       "      <td>{'time_complexity_fail_rate': 0.05527638190954...</td>\n",
       "      <td>[-6.0463147, 75.508385, 18.788363, 13.632879, ...</td>\n",
       "      <td>[constructive algorithms, implementation]</td>\n",
       "    </tr>\n",
       "    <tr>\n",
       "      <th>3</th>\n",
       "      <td>3</td>\n",
       "      <td>478_C. Table Decorations</td>\n",
       "      <td>You have r red, g green and b blue balloons. T...</td>\n",
       "      <td>[{'solution_id': '3_0', 'solution_code': 'a = ...</td>\n",
       "      <td>CODEFORCES</td>\n",
       "      <td>{'time_limit': {'seconds': 1, 'nanos': 0}, 'me...</td>\n",
       "      <td>{'cf_contest_id': 478, 'cf_index': 'C', 'cf_po...</td>\n",
       "      <td>{'public_tests': [{'input': '1 1 1\n",
       "', 'output'...</td>\n",
       "      <td>0.562264</td>\n",
       "      <td>{'dataclass_code': 'import sys\n",
       "import time\n",
       "imp...</td>\n",
       "      <td>{'time_complexity_fail_rate': 0.41610738255033...</td>\n",
       "      <td>[5.330355, 36.27579, 7.763661, 2.4407022, 53.7...</td>\n",
       "      <td>[greedy]</td>\n",
       "    </tr>\n",
       "    <tr>\n",
       "      <th>4</th>\n",
       "      <td>4</td>\n",
       "      <td>5_C. Longest Regular Bracket Sequence</td>\n",
       "      <td>This is yet another problem dealing with regul...</td>\n",
       "      <td>[{'solution_id': '4_0', 'solution_code': 'stri...</td>\n",
       "      <td>CODEFORCES</td>\n",
       "      <td>{'time_limit': {'seconds': 2, 'nanos': 0}, 'me...</td>\n",
       "      <td>{'cf_contest_id': 5, 'cf_index': 'C', 'cf_poin...</td>\n",
       "      <td>{'public_tests': [{'input': ')((())))(()())\n",
       "',...</td>\n",
       "      <td>0.395939</td>\n",
       "      <td>{'dataclass_code': 'import sys\n",
       "import time\n",
       "imp...</td>\n",
       "      <td>{'time_complexity_fail_rate': 0.03846153846153...</td>\n",
       "      <td>[-20.027811, 24.79554, 7.7614923, 13.442029, 3...</td>\n",
       "      <td>[constructive algorithms, data structures, dp,...</td>\n",
       "    </tr>\n",
       "    <tr>\n",
       "      <th>5</th>\n",
       "      <td>5</td>\n",
       "      <td>622_A. Infinite Sequence</td>\n",
       "      <td>Consider the infinite sequence of integers: 1,...</td>\n",
       "      <td>[{'solution_id': '5_0', 'solution_code': 'n = ...</td>\n",
       "      <td>CODEFORCES</td>\n",
       "      <td>{'time_limit': {'seconds': 1, 'nanos': 0}, 'me...</td>\n",
       "      <td>{'cf_contest_id': 622, 'cf_index': 'A', 'cf_po...</td>\n",
       "      <td>{'public_tests': [{'input': '56\n",
       "', 'output': '...</td>\n",
       "      <td>0.615142</td>\n",
       "      <td>{'dataclass_code': 'import sys\n",
       "import time\n",
       "imp...</td>\n",
       "      <td>{'time_complexity_fail_rate': 0.01538461538461...</td>\n",
       "      <td>[-9.750153, 51.01206, 4.732046, 15.7149105, 52...</td>\n",
       "      <td>[implementation, math]</td>\n",
       "    </tr>\n",
       "    <tr>\n",
       "      <th>6</th>\n",
       "      <td>6</td>\n",
       "      <td>997_B. Roman Digits</td>\n",
       "      <td>Let's introduce a number system which is based...</td>\n",
       "      <td>[{'solution_id': '6_0', 'solution_code': 'def ...</td>\n",
       "      <td>CODEFORCES</td>\n",
       "      <td>{'time_limit': {'seconds': 1, 'nanos': 0}, 'me...</td>\n",
       "      <td>{'cf_contest_id': 997, 'cf_index': 'B', 'cf_po...</td>\n",
       "      <td>{'public_tests': [{'input': '2\n",
       "', 'output': '1...</td>\n",
       "      <td>0.524590</td>\n",
       "      <td>{'dataclass_code': 'import sys\n",
       "import time\n",
       "imp...</td>\n",
       "      <td>{'time_complexity_fail_rate': 0.09375, 'space_...</td>\n",
       "      <td>[-6.8545666, 65.14403, 16.192327, 18.872938, 6...</td>\n",
       "      <td>[brute force, combinatorics, dp, greedy, math]</td>\n",
       "    </tr>\n",
       "    <tr>\n",
       "      <th>7</th>\n",
       "      <td>7</td>\n",
       "      <td>805_C. Find Amir</td>\n",
       "      <td>A few years ago Sajjad left his school and reg...</td>\n",
       "      <td>[{'solution_id': '7_0', 'solution_code': 'prin...</td>\n",
       "      <td>CODEFORCES</td>\n",
       "      <td>{'time_limit': {'seconds': 1, 'nanos': 0}, 'me...</td>\n",
       "      <td>{'cf_contest_id': 805, 'cf_index': 'C', 'cf_po...</td>\n",
       "      <td>{'public_tests': [{'input': '10\n",
       "', 'output': '...</td>\n",
       "      <td>0.721154</td>\n",
       "      <td>{'dataclass_code': 'import sys\n",
       "import time\n",
       "imp...</td>\n",
       "      <td>{'time_complexity_fail_rate': 0.02666666666666...</td>\n",
       "      <td>[2.0315068, 25.206081, 10.315992, -7.780361, 4...</td>\n",
       "      <td>[constructive algorithms, greedy, math]</td>\n",
       "    </tr>\n",
       "    <tr>\n",
       "      <th>8</th>\n",
       "      <td>8</td>\n",
       "      <td>977_D. Divide by three, multiply by two</td>\n",
       "      <td>Polycarp likes to play with numbers. He takes ...</td>\n",
       "      <td>[{'solution_id': '8_0', 'solution_code': 'n = ...</td>\n",
       "      <td>CODEFORCES</td>\n",
       "      <td>{'time_limit': {'seconds': 1, 'nanos': 0}, 'me...</td>\n",
       "      <td>{'cf_contest_id': 977, 'cf_index': 'D', 'cf_po...</td>\n",
       "      <td>{'public_tests': [{'input': '4\n",
       "42 28 84 126\n",
       "',...</td>\n",
       "      <td>0.707438</td>\n",
       "      <td>{'dataclass_code': 'import sys\n",
       "import time\n",
       "imp...</td>\n",
       "      <td>{'time_complexity_fail_rate': 0.35280373831775...</td>\n",
       "      <td>[-10.573038, 69.724236, 16.227186, 24.443983, ...</td>\n",
       "      <td>[dfs and similar, math, sortings]</td>\n",
       "    </tr>\n",
       "    <tr>\n",
       "      <th>9</th>\n",
       "      <td>9</td>\n",
       "      <td>p02918 AtCoder Beginner Contest 140 - Face Pro...</td>\n",
       "      <td>There are N people standing in a queue from we...</td>\n",
       "      <td>[{'solution_id': '9_0', 'solution_code': 'n, k...</td>\n",
       "      <td>ATCODER</td>\n",
       "      <td>{'time_limit': {'seconds': 2, 'nanos': 0}, 'me...</td>\n",
       "      <td>{'cf_contest_id': 0, 'cf_index': '', 'cf_point...</td>\n",
       "      <td>{'public_tests': [{'input': '6 1\n",
       "LRLRRL', 'out...</td>\n",
       "      <td>0.124688</td>\n",
       "      <td>{'dataclass_code': 'import sys\n",
       "import time\n",
       "imp...</td>\n",
       "      <td>{'time_complexity_fail_rate': 0.025, 'space_co...</td>\n",
       "      <td>[9.923481, 62.738064, -16.35448, -1.3742055, 8...</td>\n",
       "      <td>[]</td>\n",
       "    </tr>\n",
       "  </tbody>\n",
       "</table>\n",
       "</div>"
      ],
      "text/plain": [
       "  problem_id                                       problem_name  \\\n",
       "0          0                           339_C. Xenia and Weights   \n",
       "1          1                           1547_E. Air Conditioners   \n",
       "2          2                    268_C. Beautiful Sets of Points   \n",
       "3          3                           478_C. Table Decorations   \n",
       "4          4              5_C. Longest Regular Bracket Sequence   \n",
       "5          5                           622_A. Infinite Sequence   \n",
       "6          6                                997_B. Roman Digits   \n",
       "7          7                                   805_C. Find Amir   \n",
       "8          8            977_D. Divide by three, multiply by two   \n",
       "9          9  p02918 AtCoder Beginner Contest 140 - Face Pro...   \n",
       "\n",
       "                                         description  \\\n",
       "0  Xenia has a set of weights and pan scales. Eac...   \n",
       "1  On a strip of land of length n there are k air...   \n",
       "2  Manao has invented a new mathematical term — a...   \n",
       "3  You have r red, g green and b blue balloons. T...   \n",
       "4  This is yet another problem dealing with regul...   \n",
       "5  Consider the infinite sequence of integers: 1,...   \n",
       "6  Let's introduce a number system which is based...   \n",
       "7  A few years ago Sajjad left his school and reg...   \n",
       "8  Polycarp likes to play with numbers. He takes ...   \n",
       "9  There are N people standing in a queue from we...   \n",
       "\n",
       "                               correct_solution_list data_source  \\\n",
       "0  [{'solution_id': '0_0', 'solution_code': '__au...  CODEFORCES   \n",
       "1  [{'solution_id': '1_0', 'solution_code': 'def ...  CODEFORCES   \n",
       "2  [{'solution_id': '2_0', 'solution_code': 'if _...  CODEFORCES   \n",
       "3  [{'solution_id': '3_0', 'solution_code': 'a = ...  CODEFORCES   \n",
       "4  [{'solution_id': '4_0', 'solution_code': 'stri...  CODEFORCES   \n",
       "5  [{'solution_id': '5_0', 'solution_code': 'n = ...  CODEFORCES   \n",
       "6  [{'solution_id': '6_0', 'solution_code': 'def ...  CODEFORCES   \n",
       "7  [{'solution_id': '7_0', 'solution_code': 'prin...  CODEFORCES   \n",
       "8  [{'solution_id': '8_0', 'solution_code': 'n = ...  CODEFORCES   \n",
       "9  [{'solution_id': '9_0', 'solution_code': 'n, k...     ATCODER   \n",
       "\n",
       "                              source_specific_limits  \\\n",
       "0  {'time_limit': {'seconds': 2, 'nanos': 0}, 'me...   \n",
       "1  {'time_limit': {'seconds': 2, 'nanos': 0}, 'me...   \n",
       "2  {'time_limit': {'seconds': 1, 'nanos': 0}, 'me...   \n",
       "3  {'time_limit': {'seconds': 1, 'nanos': 0}, 'me...   \n",
       "4  {'time_limit': {'seconds': 2, 'nanos': 0}, 'me...   \n",
       "5  {'time_limit': {'seconds': 1, 'nanos': 0}, 'me...   \n",
       "6  {'time_limit': {'seconds': 1, 'nanos': 0}, 'me...   \n",
       "7  {'time_limit': {'seconds': 1, 'nanos': 0}, 'me...   \n",
       "8  {'time_limit': {'seconds': 1, 'nanos': 0}, 'me...   \n",
       "9  {'time_limit': {'seconds': 2, 'nanos': 0}, 'me...   \n",
       "\n",
       "                        codeforces_specific_metadata  \\\n",
       "0  {'cf_contest_id': 339, 'cf_index': 'C', 'cf_po...   \n",
       "1  {'cf_contest_id': 1547, 'cf_index': 'E', 'cf_p...   \n",
       "2  {'cf_contest_id': 268, 'cf_index': 'C', 'cf_po...   \n",
       "3  {'cf_contest_id': 478, 'cf_index': 'C', 'cf_po...   \n",
       "4  {'cf_contest_id': 5, 'cf_index': 'C', 'cf_poin...   \n",
       "5  {'cf_contest_id': 622, 'cf_index': 'A', 'cf_po...   \n",
       "6  {'cf_contest_id': 997, 'cf_index': 'B', 'cf_po...   \n",
       "7  {'cf_contest_id': 805, 'cf_index': 'C', 'cf_po...   \n",
       "8  {'cf_contest_id': 977, 'cf_index': 'D', 'cf_po...   \n",
       "9  {'cf_contest_id': 0, 'cf_index': '', 'cf_point...   \n",
       "\n",
       "                                               tests  human_accuracy_rate  \\\n",
       "0  {'public_tests': [{'input': '0000000101\n",
       "3\n",
       "', '...             0.281633   \n",
       "1  {'public_tests': [{'input': '5\n",
       "\n",
       "6 2\n",
       "2 5\n",
       "14 16\n",
       "...             0.620833   \n",
       "2  {'public_tests': [{'input': '2 2\n",
       "', 'output': ...             0.525066   \n",
       "3  {'public_tests': [{'input': '1 1 1\n",
       "', 'output'...             0.562264   \n",
       "4  {'public_tests': [{'input': ')((())))(()())\n",
       "',...             0.395939   \n",
       "5  {'public_tests': [{'input': '56\n",
       "', 'output': '...             0.615142   \n",
       "6  {'public_tests': [{'input': '2\n",
       "', 'output': '1...             0.524590   \n",
       "7  {'public_tests': [{'input': '10\n",
       "', 'output': '...             0.721154   \n",
       "8  {'public_tests': [{'input': '4\n",
       "42 28 84 126\n",
       "',...             0.707438   \n",
       "9  {'public_tests': [{'input': '6 1\n",
       "LRLRRL', 'out...             0.124688   \n",
       "\n",
       "                                           dataclass  \\\n",
       "0  {'dataclass_code': 'import sys\n",
       "import time\n",
       "imp...   \n",
       "1  {'dataclass_code': 'import sys\n",
       "import time\n",
       "imp...   \n",
       "2  {'dataclass_code': 'import sys\n",
       "import time\n",
       "imp...   \n",
       "3  {'dataclass_code': 'import sys\n",
       "import time\n",
       "imp...   \n",
       "4  {'dataclass_code': 'import sys\n",
       "import time\n",
       "imp...   \n",
       "5  {'dataclass_code': 'import sys\n",
       "import time\n",
       "imp...   \n",
       "6  {'dataclass_code': 'import sys\n",
       "import time\n",
       "imp...   \n",
       "7  {'dataclass_code': 'import sys\n",
       "import time\n",
       "imp...   \n",
       "8  {'dataclass_code': 'import sys\n",
       "import time\n",
       "imp...   \n",
       "9  {'dataclass_code': 'import sys\n",
       "import time\n",
       "imp...   \n",
       "\n",
       "                                complexity_framework  \\\n",
       "0  {'time_complexity_fail_rate': 0.40579710144927...   \n",
       "1  {'time_complexity_fail_rate': 0.11409395973154...   \n",
       "2  {'time_complexity_fail_rate': 0.05527638190954...   \n",
       "3  {'time_complexity_fail_rate': 0.41610738255033...   \n",
       "4  {'time_complexity_fail_rate': 0.03846153846153...   \n",
       "5  {'time_complexity_fail_rate': 0.01538461538461...   \n",
       "6  {'time_complexity_fail_rate': 0.09375, 'space_...   \n",
       "7  {'time_complexity_fail_rate': 0.02666666666666...   \n",
       "8  {'time_complexity_fail_rate': 0.35280373831775...   \n",
       "9  {'time_complexity_fail_rate': 0.025, 'space_co...   \n",
       "\n",
       "                                  description_vector  \\\n",
       "0  [40.88922, 68.51662, 6.8400073, -3.7496269, 10...   \n",
       "1  [-10.14601, 193.53925, 24.337927, 79.53583, 23...   \n",
       "2  [-6.0463147, 75.508385, 18.788363, 13.632879, ...   \n",
       "3  [5.330355, 36.27579, 7.763661, 2.4407022, 53.7...   \n",
       "4  [-20.027811, 24.79554, 7.7614923, 13.442029, 3...   \n",
       "5  [-9.750153, 51.01206, 4.732046, 15.7149105, 52...   \n",
       "6  [-6.8545666, 65.14403, 16.192327, 18.872938, 6...   \n",
       "7  [2.0315068, 25.206081, 10.315992, -7.780361, 4...   \n",
       "8  [-10.573038, 69.724236, 16.227186, 24.443983, ...   \n",
       "9  [9.923481, 62.738064, -16.35448, -1.3742055, 8...   \n",
       "\n",
       "                                             cf_tags  \n",
       "0  [constructive algorithms, dfs and similar, dp,...  \n",
       "1  [data structures, dp, implementation, shortest...  \n",
       "2          [constructive algorithms, implementation]  \n",
       "3                                           [greedy]  \n",
       "4  [constructive algorithms, data structures, dp,...  \n",
       "5                             [implementation, math]  \n",
       "6     [brute force, combinatorics, dp, greedy, math]  \n",
       "7            [constructive algorithms, greedy, math]  \n",
       "8                  [dfs and similar, math, sortings]  \n",
       "9                                                 []  "
      ]
     },
     "execution_count": 111,
     "metadata": {},
     "output_type": "execute_result"
    }
   ],
   "source": [
    "# Just to have a look to the original dataframe containing also the solutions\n",
    "df_problem_and_human_solutions_list_we.head(10)"
   ]
  },
  {
   "cell_type": "markdown",
   "id": "65d5fe82",
   "metadata": {},
   "source": [
    "This code retrieves the actual Python code of selected solutions based on their problem_id and solution_id.   \n",
    "The goal is to:\n",
    "- Match each entry in df_solution_selected with its corresponding full solution from the original dataset (df_problem_and_human_solutions_list_we).\n",
    "- Extract the solution_code field from the correct solution."
   ]
  },
  {
   "cell_type": "code",
   "execution_count": null,
   "id": "eae46bd3",
   "metadata": {},
   "outputs": [],
   "source": [
    "# List to store the extracted solution code strings\n",
    "solutions_code = []\n",
    "# Loop through each row of the selected solutions DataFrame\n",
    "for index, row in df_solution_selected.iterrows():\n",
    "    \n",
    "    # Extract the problem and solution IDs\n",
    "    problem_id = row['problem_id']\n",
    "    solution_id = row['solution_id']\n",
    "\n",
    "    # Filter the full dataset to find the row with the matching problem ID\n",
    "    problem_row = df_problem_and_human_solutions_list_we[df_problem_and_human_solutions_list_we[\"problem_id\"] == problem_id]\n",
    "\n",
    "    if problem_row.empty:\n",
    "        # Skip this iteration if the problem is not found\n",
    "        print(f\"Problem ID {problem_id} not found in the full dataset.\")\n",
    "        continue\n",
    "    \n",
    "    # Extract the list of correct solutions for this problem\n",
    "    solution_list = problem_row[\"correct_solution_list\"].values[0]\n",
    "    \n",
    "    # Find the specific solution matching the solution_id \n",
    "    selected_solution = None\n",
    "    for s in solution_list:\n",
    "        # If solution_list is a list of dicts or custom structure, filter accordingly\n",
    "        if isinstance(s, dict) and s.get(\"solution_id\") == solution_id:\n",
    "            selected_solution = s\n",
    "            break\n",
    "    \n",
    "    if selected_solution is None:\n",
    "        print(f\"Solution ID {solution_id} not found in problem ID {problem_id}.\")\n",
    "        continue\n",
    "\n",
    "    # Extract the solution code and append it to the list\n",
    "    solutions_code.append(selected_solution['solution_code'])\n"
   ]
  },
  {
   "cell_type": "markdown",
   "id": "dc2c39f1",
   "metadata": {},
   "source": [
    "This lines binds the extracted raw Python code back into the DataFrame, containing the selected solutions with their time complexities and associating each solution with its actual implementation."
   ]
  },
  {
   "cell_type": "code",
   "execution_count": null,
   "id": "0e058794",
   "metadata": {},
   "outputs": [
    {
     "data": {
      "text/html": [
       "<div>\n",
       "<style scoped>\n",
       "    .dataframe tbody tr th:only-of-type {\n",
       "        vertical-align: middle;\n",
       "    }\n",
       "\n",
       "    .dataframe tbody tr th {\n",
       "        vertical-align: top;\n",
       "    }\n",
       "\n",
       "    .dataframe thead th {\n",
       "        text-align: right;\n",
       "    }\n",
       "</style>\n",
       "<table border=\"1\" class=\"dataframe\">\n",
       "  <thead>\n",
       "    <tr style=\"text-align: right;\">\n",
       "      <th></th>\n",
       "      <th>problem_id</th>\n",
       "      <th>problem_name</th>\n",
       "      <th>solution_id</th>\n",
       "      <th>time_complexity_inferred</th>\n",
       "      <th>space_complexity_inferred</th>\n",
       "      <th>time_curve_coefficient</th>\n",
       "      <th>space_curve_coefficient</th>\n",
       "      <th>selected_tag</th>\n",
       "      <th>solution_code</th>\n",
       "    </tr>\n",
       "  </thead>\n",
       "  <tbody>\n",
       "    <tr>\n",
       "      <th>0</th>\n",
       "      <td>1950</td>\n",
       "      <td>697_B. Barnicle</td>\n",
       "      <td>1950_2</td>\n",
       "      <td>O(n)</td>\n",
       "      <td>O(n)</td>\n",
       "      <td>1.296628e-06</td>\n",
       "      <td>2.992037</td>\n",
       "      <td>O(n)</td>\n",
       "      <td>a,b=input().split('e')\\nb=int(b)\\n# print(a,b)...</td>\n",
       "    </tr>\n",
       "    <tr>\n",
       "      <th>1</th>\n",
       "      <td>1369</td>\n",
       "      <td>p02721 AtCoder Beginner Contest 161 - Yutori</td>\n",
       "      <td>1369_7</td>\n",
       "      <td>O(n)</td>\n",
       "      <td>O(n+m)</td>\n",
       "      <td>2.604247e-06</td>\n",
       "      <td>165.981206</td>\n",
       "      <td>O(n)</td>\n",
       "      <td>n,k,c=map(int,input().split())\\ns=list(input()...</td>\n",
       "    </tr>\n",
       "    <tr>\n",
       "      <th>2</th>\n",
       "      <td>1052</td>\n",
       "      <td>583_A. Asphalting Roads</td>\n",
       "      <td>1052_4</td>\n",
       "      <td>O(n)</td>\n",
       "      <td>O(n)</td>\n",
       "      <td>7.718780e-07</td>\n",
       "      <td>195.720170</td>\n",
       "      <td>O(n)</td>\n",
       "      <td>n = int(input())\\nA = [list(map(int, input().s...</td>\n",
       "    </tr>\n",
       "    <tr>\n",
       "      <th>3</th>\n",
       "      <td>528</td>\n",
       "      <td>1251_B. Binary Palindromes</td>\n",
       "      <td>528_0</td>\n",
       "      <td>O(n)</td>\n",
       "      <td>O(n)</td>\n",
       "      <td>4.052476e-05</td>\n",
       "      <td>267.012714</td>\n",
       "      <td>O(n)</td>\n",
       "      <td>Q = int(input())\\nfor q in range(Q):\\n    n = ...</td>\n",
       "    </tr>\n",
       "    <tr>\n",
       "      <th>4</th>\n",
       "      <td>1643</td>\n",
       "      <td>1301_B. Motarack's Birthday</td>\n",
       "      <td>1643_333</td>\n",
       "      <td>O(n)</td>\n",
       "      <td>O(n**2)</td>\n",
       "      <td>8.154746e-08</td>\n",
       "      <td>0.000190</td>\n",
       "      <td>O(n)</td>\n",
       "      <td># by the authority of GOD     author: manhar s...</td>\n",
       "    </tr>\n",
       "    <tr>\n",
       "      <th>...</th>\n",
       "      <td>...</td>\n",
       "      <td>...</td>\n",
       "      <td>...</td>\n",
       "      <td>...</td>\n",
       "      <td>...</td>\n",
       "      <td>...</td>\n",
       "      <td>...</td>\n",
       "      <td>...</td>\n",
       "      <td>...</td>\n",
       "    </tr>\n",
       "    <tr>\n",
       "      <th>75</th>\n",
       "      <td>1941</td>\n",
       "      <td>1473_A. Replacing Elements</td>\n",
       "      <td>1941_82</td>\n",
       "      <td>O(1)</td>\n",
       "      <td>O(1)</td>\n",
       "      <td>1.405000e-07</td>\n",
       "      <td>59.000000</td>\n",
       "      <td>O(1)</td>\n",
       "      <td>def main():\\n    t = int(input())\\n    for x i...</td>\n",
       "    </tr>\n",
       "    <tr>\n",
       "      <th>76</th>\n",
       "      <td>3000</td>\n",
       "      <td>p02753 AtCoder Beginner Contest 158 - Station ...</td>\n",
       "      <td>3000_1</td>\n",
       "      <td>O(1)</td>\n",
       "      <td>O(1)</td>\n",
       "      <td>1.049500e-06</td>\n",
       "      <td>54.000000</td>\n",
       "      <td>O(1)</td>\n",
       "      <td>s=input()\\nprint(\"No\" if s==\"AAA\" or s==\"BBB\" ...</td>\n",
       "    </tr>\n",
       "    <tr>\n",
       "      <th>77</th>\n",
       "      <td>1451</td>\n",
       "      <td>p00444 Change</td>\n",
       "      <td>1451_0</td>\n",
       "      <td>O(1)</td>\n",
       "      <td>O(1)</td>\n",
       "      <td>3.316500e-06</td>\n",
       "      <td>106.000000</td>\n",
       "      <td>O(1)</td>\n",
       "      <td>while True:\\n    x = int(input())\\n    if x ==...</td>\n",
       "    </tr>\n",
       "    <tr>\n",
       "      <th>78</th>\n",
       "      <td>1760</td>\n",
       "      <td>554_C. Kyoya and Colored Balls</td>\n",
       "      <td>1760_14</td>\n",
       "      <td>O(1)</td>\n",
       "      <td>O(n)</td>\n",
       "      <td>3.722313e-03</td>\n",
       "      <td>25.613269</td>\n",
       "      <td>O(1)</td>\n",
       "      <td>#!/usr/bin/python3\\n\\nimport sys\\nfrom functoo...</td>\n",
       "    </tr>\n",
       "    <tr>\n",
       "      <th>79</th>\n",
       "      <td>821</td>\n",
       "      <td>318_A. Even Odds</td>\n",
       "      <td>821_0</td>\n",
       "      <td>O(1)</td>\n",
       "      <td>O(logn)</td>\n",
       "      <td>1.873000e-06</td>\n",
       "      <td>0.539049</td>\n",
       "      <td>O(1)</td>\n",
       "      <td>\\nn, m = map(int, input().split())\\nprint((m *...</td>\n",
       "    </tr>\n",
       "  </tbody>\n",
       "</table>\n",
       "<p>80 rows × 9 columns</p>\n",
       "</div>"
      ],
      "text/plain": [
       "   problem_id                                       problem_name solution_id  \\\n",
       "0        1950                                    697_B. Barnicle      1950_2   \n",
       "1        1369       p02721 AtCoder Beginner Contest 161 - Yutori      1369_7   \n",
       "2        1052                            583_A. Asphalting Roads      1052_4   \n",
       "3         528                         1251_B. Binary Palindromes       528_0   \n",
       "4        1643                        1301_B. Motarack's Birthday    1643_333   \n",
       "..        ...                                                ...         ...   \n",
       "75       1941                         1473_A. Replacing Elements     1941_82   \n",
       "76       3000  p02753 AtCoder Beginner Contest 158 - Station ...      3000_1   \n",
       "77       1451                                      p00444 Change      1451_0   \n",
       "78       1760                     554_C. Kyoya and Colored Balls     1760_14   \n",
       "79        821                                   318_A. Even Odds       821_0   \n",
       "\n",
       "   time_complexity_inferred space_complexity_inferred  time_curve_coefficient  \\\n",
       "0                      O(n)                      O(n)            1.296628e-06   \n",
       "1                      O(n)                    O(n+m)            2.604247e-06   \n",
       "2                      O(n)                      O(n)            7.718780e-07   \n",
       "3                      O(n)                      O(n)            4.052476e-05   \n",
       "4                      O(n)                   O(n**2)            8.154746e-08   \n",
       "..                      ...                       ...                     ...   \n",
       "75                     O(1)                      O(1)            1.405000e-07   \n",
       "76                     O(1)                      O(1)            1.049500e-06   \n",
       "77                     O(1)                      O(1)            3.316500e-06   \n",
       "78                     O(1)                      O(n)            3.722313e-03   \n",
       "79                     O(1)                   O(logn)            1.873000e-06   \n",
       "\n",
       "    space_curve_coefficient selected_tag  \\\n",
       "0                  2.992037         O(n)   \n",
       "1                165.981206         O(n)   \n",
       "2                195.720170         O(n)   \n",
       "3                267.012714         O(n)   \n",
       "4                  0.000190         O(n)   \n",
       "..                      ...          ...   \n",
       "75                59.000000         O(1)   \n",
       "76                54.000000         O(1)   \n",
       "77               106.000000         O(1)   \n",
       "78                25.613269         O(1)   \n",
       "79                 0.539049         O(1)   \n",
       "\n",
       "                                        solution_code  \n",
       "0   a,b=input().split('e')\\nb=int(b)\\n# print(a,b)...  \n",
       "1   n,k,c=map(int,input().split())\\ns=list(input()...  \n",
       "2   n = int(input())\\nA = [list(map(int, input().s...  \n",
       "3   Q = int(input())\\nfor q in range(Q):\\n    n = ...  \n",
       "4   # by the authority of GOD     author: manhar s...  \n",
       "..                                                ...  \n",
       "75  def main():\\n    t = int(input())\\n    for x i...  \n",
       "76  s=input()\\nprint(\"No\" if s==\"AAA\" or s==\"BBB\" ...  \n",
       "77  while True:\\n    x = int(input())\\n    if x ==...  \n",
       "78  #!/usr/bin/python3\\n\\nimport sys\\nfrom functoo...  \n",
       "79  \\nn, m = map(int, input().split())\\nprint((m *...  \n",
       "\n",
       "[80 rows x 9 columns]"
      ]
     },
     "execution_count": 113,
     "metadata": {},
     "output_type": "execute_result"
    }
   ],
   "source": [
    "# Add the list of extracted solution codes as a new column in the DataFrame\n",
    "df_solution_selected[\"solution_code\"] = solutions_code\n",
    "# Just to see the new column introduced\n",
    "df_solution_selected"
   ]
  },
  {
   "cell_type": "markdown",
   "id": "9c81aebf",
   "metadata": {},
   "source": [
    "It loops over each code solution and converts it into a vector using the solution_to_vector function (previously seen) and the pre-trained FastText model ft_model_code (it's the one trained with comments).\n",
    "- solution_to_vector(...) tokenizes the code and retrieves embeddings for each token than aggregates them using the mean (use_sum=False) .\n"
   ]
  },
  {
   "cell_type": "code",
   "execution_count": null,
   "id": "6e6009a0",
   "metadata": {},
   "outputs": [
    {
     "name": "stdout",
     "output_type": "stream",
     "text": [
      "Vectors Shape: (80, 100)\n"
     ]
    }
   ],
   "source": [
    "vectors = []\n",
    "for solution in df_solution_selected[\"solution_code\"]:\n",
    "    vectors.append(solution_to_vector(solution, ft_model_code, use_sum=False))\n",
    "\n",
    "# Convert the list of vectors to a NumPy array\n",
    "vectors = np.array(vectors)\n",
    "# Check the shape of the array\n",
    "print(\"Vectors Shape:\",vectors.shape)  \n"
   ]
  },
  {
   "cell_type": "markdown",
   "id": "0722dbc2",
   "metadata": {},
   "source": [
    "##### Visualization of Solution Embeddings with t-SNE"
   ]
  },
  {
   "cell_type": "markdown",
   "id": "0751354d",
   "metadata": {},
   "source": [
    "Plot the 3D projection of the solution vectors with different colors based on the time_complexity in the dataset, to see if there are some patterns based on it."
   ]
  },
  {
   "cell_type": "code",
   "execution_count": 117,
   "id": "af8576be",
   "metadata": {},
   "outputs": [
    {
     "data": {
      "application/vnd.plotly.v1+json": {
       "config": {
        "plotlyServerURL": "https://plot.ly"
       },
       "data": [
        {
         "customdata": [
          [
           "697_B. Barnicle",
           "O(n)"
          ],
          [
           "p02721 AtCoder Beginner Contest 161 - Yutori",
           "O(n)"
          ],
          [
           "583_A. Asphalting Roads",
           "O(n)"
          ],
          [
           "1251_B. Binary Palindromes",
           "O(n)"
          ],
          [
           "1301_B. Motarack's Birthday",
           "O(n)"
          ],
          [
           "835_B. The number on the board",
           "O(n)"
          ],
          [
           "1101_A. Minimum Integer",
           "O(n)"
          ],
          [
           "305_A. Strange Addition",
           "O(n)"
          ],
          [
           "192_B. Walking in the Rain",
           "O(n)"
          ],
          [
           "414_B. Mashmokh and ACM",
           "O(n)"
          ],
          [
           "629_A. Far Relative’s Birthday Cake",
           "O(n)"
          ],
          [
           "1215_B. The Number of Products",
           "O(n)"
          ],
          [
           "1102_C. Doors Breaking and Repairing",
           "O(n)"
          ],
          [
           "1180_B. Nick and Array",
           "O(n)"
          ],
          [
           "1096_C. Polygon for the Angle",
           "O(n)"
          ],
          [
           "371_C. Hamburgers",
           "O(n)"
          ],
          [
           "1285_A. Mezo Playing Zoma",
           "O(n)"
          ],
          [
           "1440_A. Buy the String",
           "O(n)"
          ],
          [
           "p03033 AtCoder Beginner Contest 128 - Roadwork",
           "O(n)"
          ],
          [
           "734_B. Anton and Digits",
           "O(n)"
          ]
         ],
         "hovertemplate": "selected_tag=%{customdata[1]}<br>x=%{x}<br>y=%{y}<br>z=%{z}<br>problem_name=%{customdata[0]}<extra></extra>",
         "legendgroup": "O(n)",
         "marker": {
          "color": "#636efa",
          "opacity": 0.8,
          "size": 5,
          "symbol": "circle"
         },
         "mode": "markers",
         "name": "O(n)",
         "scene": "scene",
         "showlegend": true,
         "type": "scatter3d",
         "x": [
          -58.51791000366211,
          -31.468294143676758,
          28.195884704589844,
          -108.37659454345703,
          -44.0767822265625,
          -97.2141342163086,
          86.52039337158203,
          -82.52532958984375,
          -62.863014221191406,
          -16.437776565551758,
          -36.747230529785156,
          -18.609745025634766,
          80.57428741455078,
          -17.451311111450195,
          111.84781646728516,
          -67.54061126708984,
          -100.30826568603516,
          87.70984649658203,
          -27.197519302368164,
          -2.0162343978881836
         ],
         "y": [
          31.375680923461914,
          0.01893290877342224,
          30.992273330688477,
          -18.628700256347656,
          112.4056396484375,
          -34.751399993896484,
          -76.03164672851562,
          -19.596256256103516,
          -54.47881317138672,
          48.5495719909668,
          -16.691802978515625,
          -1.9176274538040161,
          -10.771737098693848,
          -126.95671844482422,
          -74.93665313720703,
          83.4552993774414,
          30.306589126586914,
          -38.126869201660156,
          27.01266098022461,
          -88.74185180664062
         ],
         "z": [
          53.751949310302734,
          63.977020263671875,
          -53.8066291809082,
          -14.641304969787598,
          -14.415911674499512,
          -80.4925537109375,
          -54.567176818847656,
          24.180757522583008,
          -97.90528869628906,
          -11.64311408996582,
          -71.39974975585938,
          8.846331596374512,
          -55.44918441772461,
          52.31325149536133,
          3.942073106765747,
          63.97541809082031,
          4.079031944274902,
          -22.07086181640625,
          -59.65275955200195,
          18.25337028503418
         ]
        },
        {
         "customdata": [
          [
           "1157_A. Reachable Numbers",
           "O(logn)"
          ],
          [
           "1331_C. ...And after happily lived ever they",
           "O(logn)"
          ],
          [
           "p03304 SoundHound Inc. Programming Contest 2018 -Masters Tournament- - Ordinary Beauty",
           "O(logn)"
          ],
          [
           "1459_B. Move and Turn",
           "O(logn)"
          ],
          [
           "45_A. Codecraft III",
           "O(logn)"
          ],
          [
           "1111_A. Superhero Transformation",
           "O(logn)"
          ],
          [
           "909_A. Generate Login",
           "O(logn)"
          ],
          [
           "678_D. Iterated Linear Function",
           "O(logn)"
          ],
          [
           "316_A1. Special Task",
           "O(logn)"
          ],
          [
           "p02471 Extended Euclid Algorithm",
           "O(logn)"
          ],
          [
           "365_B. The Fibonacci Segment",
           "O(logn)"
          ],
          [
           "p03059 AtCoder Beginner Contest 125 - Biscuit Generator",
           "O(logn)"
          ],
          [
           "876_C. Classroom Watch",
           "O(logn)"
          ],
          [
           "71_A. Way Too Long Words",
           "O(logn)"
          ],
          [
           "p03272 AtCoder Beginner Contest 107 - Train",
           "O(logn)"
          ],
          [
           "348_A. Mafia",
           "O(logn)"
          ],
          [
           "1186_A. Vus the Cossack and a Contest",
           "O(logn)"
          ],
          [
           "p03943 AtCoder Beginner Contest 047 - Fighting over Candies",
           "O(logn)"
          ],
          [
           "577_A. Multiplication Table",
           "O(logn)"
          ],
          [
           "1279_A. New Year Garland",
           "O(logn)"
          ]
         ],
         "hovertemplate": "selected_tag=%{customdata[1]}<br>x=%{x}<br>y=%{y}<br>z=%{z}<br>problem_name=%{customdata[0]}<extra></extra>",
         "legendgroup": "O(logn)",
         "marker": {
          "color": "#EF553B",
          "opacity": 0.8,
          "size": 5,
          "symbol": "circle"
         },
         "mode": "markers",
         "name": "O(logn)",
         "scene": "scene",
         "showlegend": true,
         "type": "scatter3d",
         "x": [
          63.079986572265625,
          -52.720542907714844,
          61.69004821777344,
          59.760704040527344,
          -95.83140563964844,
          15.964471817016602,
          -42.34437561035156,
          52.642024993896484,
          100.52825164794922,
          121.6075210571289,
          -49.28855895996094,
          85.04185485839844,
          -11.822892189025879,
          39.088279724121094,
          -143.05751037597656,
          42.97901153564453,
          -93.04410552978516,
          101.72415924072266,
          -30.680953979492188,
          81.32173156738281
         ],
         "y": [
          45.07456588745117,
          46.59446716308594,
          -44.69510269165039,
          -39.1591911315918,
          77.0860366821289,
          -72.20703125,
          20.372570037841797,
          78.90071105957031,
          79.0612564086914,
          -34.447139739990234,
          87.022216796875,
          12.709836959838867,
          29.60758399963379,
          -10.909448623657227,
          -11.589879035949707,
          10.401555061340332,
          -14.351901054382324,
          -3.354444980621338,
          -93.70426940917969,
          -22.82636070251465
         ],
         "z": [
          18.956342697143555,
          5.19238805770874,
          -65.52745056152344,
          94.47818756103516,
          -26.63927459716797,
          87.92710876464844,
          86.27212524414062,
          -52.94158172607422,
          -32.393096923828125,
          -33.247589111328125,
          -54.97548294067383,
          -25.70335578918457,
          50.9771614074707,
          5.287777900695801,
          14.901379585266113,
          55.93604278564453,
          72.59842681884766,
          32.846553802490234,
          -51.3073616027832,
          14.369366645812988
         ]
        },
        {
         "customdata": [
          [
           "1165_C. Good String",
           "O(n**2)"
          ],
          [
           "1373_E. Sum of Digits",
           "O(n**2)"
          ],
          [
           "p02745 Panasonic Programming Contest 2020 - Three Substrings",
           "O(n**2)"
          ],
          [
           "357_A. Group of Students",
           "O(n**2)"
          ],
          [
           "p02822 AtCoder Beginner Contest 149 - Surrounded Nodes",
           "O(n**2)"
          ],
          [
           "1409_F. Subsequences of Length Two",
           "O(n**2)"
          ],
          [
           "1157_C1. Increasing Subsequence (easy version)",
           "O(n**2)"
          ],
          [
           "558_B. Amr and The Large Array",
           "O(n**2)"
          ],
          [
           "p01314 Sum of Consecutive Integers",
           "O(n**2)"
          ],
          [
           "442_B. Andrey and Problem",
           "O(n**2)"
          ],
          [
           "1391_A. Suborrays",
           "O(n**2)"
          ],
          [
           "1143_A. The Doors",
           "O(n**2)"
          ],
          [
           "1157_C2. Increasing Subsequence (hard version)",
           "O(n**2)"
          ],
          [
           "520_B. Two Buttons",
           "O(n**2)"
          ],
          [
           "754_A. Lesha and array splitting",
           "O(n**2)"
          ],
          [
           "1352_F. Binary String Reconstruction",
           "O(n**2)"
          ],
          [
           "1426_A. Floor Number",
           "O(n**2)"
          ],
          [
           "408_D. Long Path",
           "O(n**2)"
          ],
          [
           "1444_B. Divide and Sum",
           "O(n**2)"
          ],
          [
           "p03964 AtCoder Beginner Contest 046 - AtCoDeer and Election Report",
           "O(n**2)"
          ]
         ],
         "hovertemplate": "selected_tag=%{customdata[1]}<br>x=%{x}<br>y=%{y}<br>z=%{z}<br>problem_name=%{customdata[0]}<extra></extra>",
         "legendgroup": "O(n**2)",
         "marker": {
          "color": "#00cc96",
          "opacity": 0.8,
          "size": 5,
          "symbol": "circle"
         },
         "mode": "markers",
         "name": "O(n**2)",
         "scene": "scene",
         "showlegend": true,
         "type": "scatter3d",
         "x": [
          18.078317642211914,
          -23.762605667114258,
          -19.174421310424805,
          93.90536499023438,
          24.737234115600586,
          5.892101287841797,
          -83.86267852783203,
          -14.628987312316895,
          -0.6914348006248474,
          -49.60227966308594,
          -16.43428611755371,
          63.17508316040039,
          -8.382365226745605,
          -63.97551727294922,
          11.8605318069458,
          56.879478454589844,
          -1.1490014791488647,
          -82.44047546386719,
          -65.37712097167969,
          16.622467041015625
         ],
         "y": [
          -15.002421379089355,
          -76.84429931640625,
          76.62358093261719,
          3.0077192783355713,
          87.5206298828125,
          77.53935241699219,
          -50.79742431640625,
          61.715545654296875,
          -15.380696296691895,
          -76.37654113769531,
          87.33648681640625,
          -84.79214477539062,
          -48.9785041809082,
          56.01359939575195,
          -12.37403678894043,
          -34.4646110534668,
          -78.8503189086914,
          6.048492431640625,
          42.69840621948242,
          47.727962493896484
         ],
         "z": [
          -97.34724426269531,
          48.31472396850586,
          32.141624450683594,
          85.82707214355469,
          3.4270780086517334,
          -29.501047134399414,
          56.15081787109375,
          80.56057739257812,
          81.81065368652344,
          -17.744794845581055,
          -90.24114990234375,
          -7.687775611877441,
          -9.142518997192383,
          -44.57097625732422,
          -66.42036437988281,
          -20.190465927124023,
          -89.29349517822266,
          -63.401493072509766,
          -96.54096984863281,
          -107.15216827392578
         ]
        },
        {
         "customdata": [
          [
           "334_A. Candy Bags",
           "O(1)"
          ],
          [
           "192_A. Funky Numbers",
           "O(1)"
          ],
          [
           "1406_D. Three Sequences",
           "O(1)"
          ],
          [
           "1101_B. Accordion",
           "O(1)"
          ],
          [
           "1337_C. Linova and Kingdom",
           "O(1)"
          ],
          [
           "1321_C. Remove Adjacent",
           "O(1)"
          ],
          [
           "p03861 AtCoder Beginner Contest 048 - Between a and b ...",
           "O(1)"
          ],
          [
           "584_A. Olesya and Rodion",
           "O(1)"
          ],
          [
           "p02475 Division of Big Integers",
           "O(1)"
          ],
          [
           "1462_C. Unique Number",
           "O(1)"
          ],
          [
           "1541_A. Pretty Permutations",
           "O(1)"
          ],
          [
           "131_A. cAPS lOCK",
           "O(1)"
          ],
          [
           "369_A. Valera and Plates",
           "O(1)"
          ],
          [
           "832_B. Petya and Exam",
           "O(1)"
          ],
          [
           "1536_B. Prinzessin der Verurteilung",
           "O(1)"
          ],
          [
           "1473_A. Replacing Elements",
           "O(1)"
          ],
          [
           "p02753 AtCoder Beginner Contest 158 - Station and Bus",
           "O(1)"
          ],
          [
           "p00444 Change",
           "O(1)"
          ],
          [
           "554_C. Kyoya and Colored Balls",
           "O(1)"
          ],
          [
           "318_A. Even Odds",
           "O(1)"
          ]
         ],
         "hovertemplate": "selected_tag=%{customdata[1]}<br>x=%{x}<br>y=%{y}<br>z=%{z}<br>problem_name=%{customdata[0]}<extra></extra>",
         "legendgroup": "O(1)",
         "marker": {
          "color": "#ab63fa",
          "opacity": 0.8,
          "size": 5,
          "symbol": "circle"
         },
         "mode": "markers",
         "name": "O(1)",
         "scene": "scene",
         "showlegend": true,
         "type": "scatter3d",
         "x": [
          25.801193237304688,
          -61.49151611328125,
          -35.30552673339844,
          32.079219818115234,
          1.2966618537902832,
          12.034626007080078,
          108.23753356933594,
          85.0485610961914,
          136.57765197753906,
          -78.92491912841797,
          -43.63956069946289,
          44.19591522216797,
          24.402620315551758,
          26.933069229125977,
          -52.048248291015625,
          27.16497039794922,
          50.733123779296875,
          83.84832763671875,
          -32.96385955810547,
          36.82390594482422
         ],
         "y": [
          28.973228454589844,
          -29.796173095703125,
          -44.63718032836914,
          62.36394119262695,
          42.73047637939453,
          -31.025373458862305,
          17.65468978881836,
          -61.75952911376953,
          3.3183493614196777,
          -62.68330764770508,
          5.6380228996276855,
          93.29280090332031,
          9.031832695007324,
          -60.57151794433594,
          -22.098060607910156,
          22.184404373168945,
          -90.2010498046875,
          45.73126983642578,
          17.859920501708984,
          -56.60641098022461
         ],
         "z": [
          -4.510848522186279,
          40.11233901977539,
          20.90400505065918,
          55.08181381225586,
          -42.27964782714844,
          37.28968048095703,
          -8.47840690612793,
          54.292198181152344,
          2.8402163982391357,
          -13.68552017211914,
          -28.92566680908203,
          66.76139831542969,
          31.9814453125,
          50.483741760253906,
          -27.664257049560547,
          97.12715911865234,
          43.063133239746094,
          -87.96782684326172,
          -110.6514892578125,
          -56.375885009765625
         ]
        }
       ],
       "layout": {
        "legend": {
         "title": {
          "text": "selected_tag"
         },
         "tracegroupgap": 0
        },
        "scene": {
         "domain": {
          "x": [
           0,
           1
          ],
          "y": [
           0,
           1
          ]
         },
         "xaxis": {
          "title": {
           "text": "x"
          }
         },
         "yaxis": {
          "title": {
           "text": "y"
          }
         },
         "zaxis": {
          "title": {
           "text": "z"
          }
         }
        },
        "template": {
         "data": {
          "bar": [
           {
            "error_x": {
             "color": "#2a3f5f"
            },
            "error_y": {
             "color": "#2a3f5f"
            },
            "marker": {
             "line": {
              "color": "#E5ECF6",
              "width": 0.5
             },
             "pattern": {
              "fillmode": "overlay",
              "size": 10,
              "solidity": 0.2
             }
            },
            "type": "bar"
           }
          ],
          "barpolar": [
           {
            "marker": {
             "line": {
              "color": "#E5ECF6",
              "width": 0.5
             },
             "pattern": {
              "fillmode": "overlay",
              "size": 10,
              "solidity": 0.2
             }
            },
            "type": "barpolar"
           }
          ],
          "carpet": [
           {
            "aaxis": {
             "endlinecolor": "#2a3f5f",
             "gridcolor": "white",
             "linecolor": "white",
             "minorgridcolor": "white",
             "startlinecolor": "#2a3f5f"
            },
            "baxis": {
             "endlinecolor": "#2a3f5f",
             "gridcolor": "white",
             "linecolor": "white",
             "minorgridcolor": "white",
             "startlinecolor": "#2a3f5f"
            },
            "type": "carpet"
           }
          ],
          "choropleth": [
           {
            "colorbar": {
             "outlinewidth": 0,
             "ticks": ""
            },
            "type": "choropleth"
           }
          ],
          "contour": [
           {
            "colorbar": {
             "outlinewidth": 0,
             "ticks": ""
            },
            "colorscale": [
             [
              0,
              "#0d0887"
             ],
             [
              0.1111111111111111,
              "#46039f"
             ],
             [
              0.2222222222222222,
              "#7201a8"
             ],
             [
              0.3333333333333333,
              "#9c179e"
             ],
             [
              0.4444444444444444,
              "#bd3786"
             ],
             [
              0.5555555555555556,
              "#d8576b"
             ],
             [
              0.6666666666666666,
              "#ed7953"
             ],
             [
              0.7777777777777778,
              "#fb9f3a"
             ],
             [
              0.8888888888888888,
              "#fdca26"
             ],
             [
              1,
              "#f0f921"
             ]
            ],
            "type": "contour"
           }
          ],
          "contourcarpet": [
           {
            "colorbar": {
             "outlinewidth": 0,
             "ticks": ""
            },
            "type": "contourcarpet"
           }
          ],
          "heatmap": [
           {
            "colorbar": {
             "outlinewidth": 0,
             "ticks": ""
            },
            "colorscale": [
             [
              0,
              "#0d0887"
             ],
             [
              0.1111111111111111,
              "#46039f"
             ],
             [
              0.2222222222222222,
              "#7201a8"
             ],
             [
              0.3333333333333333,
              "#9c179e"
             ],
             [
              0.4444444444444444,
              "#bd3786"
             ],
             [
              0.5555555555555556,
              "#d8576b"
             ],
             [
              0.6666666666666666,
              "#ed7953"
             ],
             [
              0.7777777777777778,
              "#fb9f3a"
             ],
             [
              0.8888888888888888,
              "#fdca26"
             ],
             [
              1,
              "#f0f921"
             ]
            ],
            "type": "heatmap"
           }
          ],
          "heatmapgl": [
           {
            "colorbar": {
             "outlinewidth": 0,
             "ticks": ""
            },
            "colorscale": [
             [
              0,
              "#0d0887"
             ],
             [
              0.1111111111111111,
              "#46039f"
             ],
             [
              0.2222222222222222,
              "#7201a8"
             ],
             [
              0.3333333333333333,
              "#9c179e"
             ],
             [
              0.4444444444444444,
              "#bd3786"
             ],
             [
              0.5555555555555556,
              "#d8576b"
             ],
             [
              0.6666666666666666,
              "#ed7953"
             ],
             [
              0.7777777777777778,
              "#fb9f3a"
             ],
             [
              0.8888888888888888,
              "#fdca26"
             ],
             [
              1,
              "#f0f921"
             ]
            ],
            "type": "heatmapgl"
           }
          ],
          "histogram": [
           {
            "marker": {
             "pattern": {
              "fillmode": "overlay",
              "size": 10,
              "solidity": 0.2
             }
            },
            "type": "histogram"
           }
          ],
          "histogram2d": [
           {
            "colorbar": {
             "outlinewidth": 0,
             "ticks": ""
            },
            "colorscale": [
             [
              0,
              "#0d0887"
             ],
             [
              0.1111111111111111,
              "#46039f"
             ],
             [
              0.2222222222222222,
              "#7201a8"
             ],
             [
              0.3333333333333333,
              "#9c179e"
             ],
             [
              0.4444444444444444,
              "#bd3786"
             ],
             [
              0.5555555555555556,
              "#d8576b"
             ],
             [
              0.6666666666666666,
              "#ed7953"
             ],
             [
              0.7777777777777778,
              "#fb9f3a"
             ],
             [
              0.8888888888888888,
              "#fdca26"
             ],
             [
              1,
              "#f0f921"
             ]
            ],
            "type": "histogram2d"
           }
          ],
          "histogram2dcontour": [
           {
            "colorbar": {
             "outlinewidth": 0,
             "ticks": ""
            },
            "colorscale": [
             [
              0,
              "#0d0887"
             ],
             [
              0.1111111111111111,
              "#46039f"
             ],
             [
              0.2222222222222222,
              "#7201a8"
             ],
             [
              0.3333333333333333,
              "#9c179e"
             ],
             [
              0.4444444444444444,
              "#bd3786"
             ],
             [
              0.5555555555555556,
              "#d8576b"
             ],
             [
              0.6666666666666666,
              "#ed7953"
             ],
             [
              0.7777777777777778,
              "#fb9f3a"
             ],
             [
              0.8888888888888888,
              "#fdca26"
             ],
             [
              1,
              "#f0f921"
             ]
            ],
            "type": "histogram2dcontour"
           }
          ],
          "mesh3d": [
           {
            "colorbar": {
             "outlinewidth": 0,
             "ticks": ""
            },
            "type": "mesh3d"
           }
          ],
          "parcoords": [
           {
            "line": {
             "colorbar": {
              "outlinewidth": 0,
              "ticks": ""
             }
            },
            "type": "parcoords"
           }
          ],
          "pie": [
           {
            "automargin": true,
            "type": "pie"
           }
          ],
          "scatter": [
           {
            "fillpattern": {
             "fillmode": "overlay",
             "size": 10,
             "solidity": 0.2
            },
            "type": "scatter"
           }
          ],
          "scatter3d": [
           {
            "line": {
             "colorbar": {
              "outlinewidth": 0,
              "ticks": ""
             }
            },
            "marker": {
             "colorbar": {
              "outlinewidth": 0,
              "ticks": ""
             }
            },
            "type": "scatter3d"
           }
          ],
          "scattercarpet": [
           {
            "marker": {
             "colorbar": {
              "outlinewidth": 0,
              "ticks": ""
             }
            },
            "type": "scattercarpet"
           }
          ],
          "scattergeo": [
           {
            "marker": {
             "colorbar": {
              "outlinewidth": 0,
              "ticks": ""
             }
            },
            "type": "scattergeo"
           }
          ],
          "scattergl": [
           {
            "marker": {
             "colorbar": {
              "outlinewidth": 0,
              "ticks": ""
             }
            },
            "type": "scattergl"
           }
          ],
          "scattermapbox": [
           {
            "marker": {
             "colorbar": {
              "outlinewidth": 0,
              "ticks": ""
             }
            },
            "type": "scattermapbox"
           }
          ],
          "scatterpolar": [
           {
            "marker": {
             "colorbar": {
              "outlinewidth": 0,
              "ticks": ""
             }
            },
            "type": "scatterpolar"
           }
          ],
          "scatterpolargl": [
           {
            "marker": {
             "colorbar": {
              "outlinewidth": 0,
              "ticks": ""
             }
            },
            "type": "scatterpolargl"
           }
          ],
          "scatterternary": [
           {
            "marker": {
             "colorbar": {
              "outlinewidth": 0,
              "ticks": ""
             }
            },
            "type": "scatterternary"
           }
          ],
          "surface": [
           {
            "colorbar": {
             "outlinewidth": 0,
             "ticks": ""
            },
            "colorscale": [
             [
              0,
              "#0d0887"
             ],
             [
              0.1111111111111111,
              "#46039f"
             ],
             [
              0.2222222222222222,
              "#7201a8"
             ],
             [
              0.3333333333333333,
              "#9c179e"
             ],
             [
              0.4444444444444444,
              "#bd3786"
             ],
             [
              0.5555555555555556,
              "#d8576b"
             ],
             [
              0.6666666666666666,
              "#ed7953"
             ],
             [
              0.7777777777777778,
              "#fb9f3a"
             ],
             [
              0.8888888888888888,
              "#fdca26"
             ],
             [
              1,
              "#f0f921"
             ]
            ],
            "type": "surface"
           }
          ],
          "table": [
           {
            "cells": {
             "fill": {
              "color": "#EBF0F8"
             },
             "line": {
              "color": "white"
             }
            },
            "header": {
             "fill": {
              "color": "#C8D4E3"
             },
             "line": {
              "color": "white"
             }
            },
            "type": "table"
           }
          ]
         },
         "layout": {
          "annotationdefaults": {
           "arrowcolor": "#2a3f5f",
           "arrowhead": 0,
           "arrowwidth": 1
          },
          "autotypenumbers": "strict",
          "coloraxis": {
           "colorbar": {
            "outlinewidth": 0,
            "ticks": ""
           }
          },
          "colorscale": {
           "diverging": [
            [
             0,
             "#8e0152"
            ],
            [
             0.1,
             "#c51b7d"
            ],
            [
             0.2,
             "#de77ae"
            ],
            [
             0.3,
             "#f1b6da"
            ],
            [
             0.4,
             "#fde0ef"
            ],
            [
             0.5,
             "#f7f7f7"
            ],
            [
             0.6,
             "#e6f5d0"
            ],
            [
             0.7,
             "#b8e186"
            ],
            [
             0.8,
             "#7fbc41"
            ],
            [
             0.9,
             "#4d9221"
            ],
            [
             1,
             "#276419"
            ]
           ],
           "sequential": [
            [
             0,
             "#0d0887"
            ],
            [
             0.1111111111111111,
             "#46039f"
            ],
            [
             0.2222222222222222,
             "#7201a8"
            ],
            [
             0.3333333333333333,
             "#9c179e"
            ],
            [
             0.4444444444444444,
             "#bd3786"
            ],
            [
             0.5555555555555556,
             "#d8576b"
            ],
            [
             0.6666666666666666,
             "#ed7953"
            ],
            [
             0.7777777777777778,
             "#fb9f3a"
            ],
            [
             0.8888888888888888,
             "#fdca26"
            ],
            [
             1,
             "#f0f921"
            ]
           ],
           "sequentialminus": [
            [
             0,
             "#0d0887"
            ],
            [
             0.1111111111111111,
             "#46039f"
            ],
            [
             0.2222222222222222,
             "#7201a8"
            ],
            [
             0.3333333333333333,
             "#9c179e"
            ],
            [
             0.4444444444444444,
             "#bd3786"
            ],
            [
             0.5555555555555556,
             "#d8576b"
            ],
            [
             0.6666666666666666,
             "#ed7953"
            ],
            [
             0.7777777777777778,
             "#fb9f3a"
            ],
            [
             0.8888888888888888,
             "#fdca26"
            ],
            [
             1,
             "#f0f921"
            ]
           ]
          },
          "colorway": [
           "#636efa",
           "#EF553B",
           "#00cc96",
           "#ab63fa",
           "#FFA15A",
           "#19d3f3",
           "#FF6692",
           "#B6E880",
           "#FF97FF",
           "#FECB52"
          ],
          "font": {
           "color": "#2a3f5f"
          },
          "geo": {
           "bgcolor": "white",
           "lakecolor": "white",
           "landcolor": "#E5ECF6",
           "showlakes": true,
           "showland": true,
           "subunitcolor": "white"
          },
          "hoverlabel": {
           "align": "left"
          },
          "hovermode": "closest",
          "mapbox": {
           "style": "light"
          },
          "paper_bgcolor": "white",
          "plot_bgcolor": "#E5ECF6",
          "polar": {
           "angularaxis": {
            "gridcolor": "white",
            "linecolor": "white",
            "ticks": ""
           },
           "bgcolor": "#E5ECF6",
           "radialaxis": {
            "gridcolor": "white",
            "linecolor": "white",
            "ticks": ""
           }
          },
          "scene": {
           "xaxis": {
            "backgroundcolor": "#E5ECF6",
            "gridcolor": "white",
            "gridwidth": 2,
            "linecolor": "white",
            "showbackground": true,
            "ticks": "",
            "zerolinecolor": "white"
           },
           "yaxis": {
            "backgroundcolor": "#E5ECF6",
            "gridcolor": "white",
            "gridwidth": 2,
            "linecolor": "white",
            "showbackground": true,
            "ticks": "",
            "zerolinecolor": "white"
           },
           "zaxis": {
            "backgroundcolor": "#E5ECF6",
            "gridcolor": "white",
            "gridwidth": 2,
            "linecolor": "white",
            "showbackground": true,
            "ticks": "",
            "zerolinecolor": "white"
           }
          },
          "shapedefaults": {
           "line": {
            "color": "#2a3f5f"
           }
          },
          "ternary": {
           "aaxis": {
            "gridcolor": "white",
            "linecolor": "white",
            "ticks": ""
           },
           "baxis": {
            "gridcolor": "white",
            "linecolor": "white",
            "ticks": ""
           },
           "bgcolor": "#E5ECF6",
           "caxis": {
            "gridcolor": "white",
            "linecolor": "white",
            "ticks": ""
           }
          },
          "title": {
           "x": 0.05
          },
          "xaxis": {
           "automargin": true,
           "gridcolor": "white",
           "linecolor": "white",
           "ticks": "",
           "title": {
            "standoff": 15
           },
           "zerolinecolor": "white",
           "zerolinewidth": 2
          },
          "yaxis": {
           "automargin": true,
           "gridcolor": "white",
           "linecolor": "white",
           "ticks": "",
           "title": {
            "standoff": 15
           },
           "zerolinecolor": "white",
           "zerolinewidth": 2
          }
         }
        },
        "title": {
         "text": "3D Projection of Solutions by Time Complexity Tag"
        }
       }
      }
     },
     "metadata": {},
     "output_type": "display_data"
    }
   ],
   "source": [
    "from sklearn.manifold import TSNE\n",
    "import numpy as np\n",
    "\n",
    "\n",
    "tsne = TSNE(n_components=3, random_state=42, perplexity=10)\n",
    "vectors_3d = tsne.fit_transform(vectors)\n",
    "\n",
    "df_solution_selected[[\"x\", \"y\", \"z\"]] = vectors_3d\n",
    "\n",
    "import plotly.express as px\n",
    "\n",
    "fig = px.scatter_3d(\n",
    "    df_solution_selected,\n",
    "    x=\"x\", y=\"y\", z=\"z\",\n",
    "    color=\"selected_tag\",\n",
    "    #text=\"problem_name\",\n",
    "    hover_data=[\"problem_name\", \"selected_tag\"],\n",
    "    title=\"3D Projection of Solutions by Time Complexity Tag\"\n",
    ")\n",
    "\n",
    "fig.update_traces(marker=dict(size=5, opacity=0.8))\n",
    "fig.show()"
   ]
  },
  {
   "cell_type": "markdown",
   "id": "dbcb349b",
   "metadata": {},
   "source": [
    "The resulting 3D scatter plot does not exhibit a clear separation among the time complexity groups. This suggests that:\n",
    "- The embedding model might not fully capture structural/time-complexity-related semantics.\n",
    "- Time complexity may not be linearly separable in the vector space."
   ]
  }
 ],
 "metadata": {
  "kernelspec": {
   "display_name": "Python 3",
   "language": "python",
   "name": "python3"
  },
  "language_info": {
   "codemirror_mode": {
    "name": "ipython",
    "version": 3
   },
   "file_extension": ".py",
   "mimetype": "text/x-python",
   "name": "python",
   "nbconvert_exporter": "python",
   "pygments_lexer": "ipython3",
   "version": "3.12.6"
  }
 },
 "nbformat": 4,
 "nbformat_minor": 5
}
