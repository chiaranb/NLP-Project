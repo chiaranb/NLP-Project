{
 "cells": [
  {
   "cell_type": "markdown",
   "metadata": {
    "_kg_hide-input": true,
    "id": "VrgFn_NIR0ny"
   },
   "source": [
    "# Prepare Data\n"
   ]
  },
  {
   "cell_type": "code",
   "execution_count": 1,
   "metadata": {
    "execution": {
     "iopub.execute_input": "2025-05-16T14:42:28.810880Z",
     "iopub.status.busy": "2025-05-16T14:42:28.810488Z",
     "iopub.status.idle": "2025-05-16T14:42:29.161192Z",
     "shell.execute_reply": "2025-05-16T14:42:29.160621Z",
     "shell.execute_reply.started": "2025-05-16T14:42:28.810851Z"
    },
    "id": "fTQdX3TjmSoQ",
    "trusted": true
   },
   "outputs": [],
   "source": [
    "import pandas as pd"
   ]
  },
  {
   "cell_type": "code",
   "execution_count": 2,
   "metadata": {
    "execution": {
     "iopub.execute_input": "2025-05-16T14:42:29.162889Z",
     "iopub.status.busy": "2025-05-16T14:42:29.162492Z",
     "iopub.status.idle": "2025-05-16T14:42:38.163195Z",
     "shell.execute_reply": "2025-05-16T14:42:38.162448Z",
     "shell.execute_reply.started": "2025-05-16T14:42:29.162863Z"
    },
    "id": "X-wm9xY77MFc",
    "outputId": "dc370ba3-f30e-47c1-9648-73fc1a72c5a0",
    "trusted": true
   },
   "outputs": [
    {
     "data": {
      "text/html": [
       "<div>\n",
       "<style scoped>\n",
       "    .dataframe tbody tr th:only-of-type {\n",
       "        vertical-align: middle;\n",
       "    }\n",
       "\n",
       "    .dataframe tbody tr th {\n",
       "        vertical-align: top;\n",
       "    }\n",
       "\n",
       "    .dataframe thead th {\n",
       "        text-align: right;\n",
       "    }\n",
       "</style>\n",
       "<table border=\"1\" class=\"dataframe\">\n",
       "  <thead>\n",
       "    <tr style=\"text-align: right;\">\n",
       "      <th></th>\n",
       "      <th>problem_id</th>\n",
       "      <th>problem_name</th>\n",
       "      <th>description</th>\n",
       "      <th>correct_solution_list</th>\n",
       "    </tr>\n",
       "  </thead>\n",
       "  <tbody>\n",
       "    <tr>\n",
       "      <th>0</th>\n",
       "      <td>0</td>\n",
       "      <td>339_C. Xenia and Weights</td>\n",
       "      <td>Xenia has a set of weights and pan scales. Eac...</td>\n",
       "      <td>[{'solution_id': '0_0', 'solution_code': '__au...</td>\n",
       "    </tr>\n",
       "    <tr>\n",
       "      <th>1</th>\n",
       "      <td>1</td>\n",
       "      <td>1547_E. Air Conditioners</td>\n",
       "      <td>On a strip of land of length n there are k air...</td>\n",
       "      <td>[{'solution_id': '1_0', 'solution_code': 'def ...</td>\n",
       "    </tr>\n",
       "    <tr>\n",
       "      <th>2</th>\n",
       "      <td>2</td>\n",
       "      <td>268_C. Beautiful Sets of Points</td>\n",
       "      <td>Manao has invented a new mathematical term — a...</td>\n",
       "      <td>[{'solution_id': '2_0', 'solution_code': 'if _...</td>\n",
       "    </tr>\n",
       "    <tr>\n",
       "      <th>3</th>\n",
       "      <td>3</td>\n",
       "      <td>478_C. Table Decorations</td>\n",
       "      <td>You have r red, g green and b blue balloons. T...</td>\n",
       "      <td>[{'solution_id': '3_0', 'solution_code': 'a = ...</td>\n",
       "    </tr>\n",
       "    <tr>\n",
       "      <th>4</th>\n",
       "      <td>4</td>\n",
       "      <td>5_C. Longest Regular Bracket Sequence</td>\n",
       "      <td>This is yet another problem dealing with regul...</td>\n",
       "      <td>[{'solution_id': '4_0', 'solution_code': 'stri...</td>\n",
       "    </tr>\n",
       "  </tbody>\n",
       "</table>\n",
       "</div>"
      ],
      "text/plain": [
       "   problem_id                           problem_name  \\\n",
       "0           0               339_C. Xenia and Weights   \n",
       "1           1               1547_E. Air Conditioners   \n",
       "2           2        268_C. Beautiful Sets of Points   \n",
       "3           3               478_C. Table Decorations   \n",
       "4           4  5_C. Longest Regular Bracket Sequence   \n",
       "\n",
       "                                         description  \\\n",
       "0  Xenia has a set of weights and pan scales. Eac...   \n",
       "1  On a strip of land of length n there are k air...   \n",
       "2  Manao has invented a new mathematical term — a...   \n",
       "3  You have r red, g green and b blue balloons. T...   \n",
       "4  This is yet another problem dealing with regul...   \n",
       "\n",
       "                               correct_solution_list  \n",
       "0  [{'solution_id': '0_0', 'solution_code': '__au...  \n",
       "1  [{'solution_id': '1_0', 'solution_code': 'def ...  \n",
       "2  [{'solution_id': '2_0', 'solution_code': 'if _...  \n",
       "3  [{'solution_id': '3_0', 'solution_code': 'a = ...  \n",
       "4  [{'solution_id': '4_0', 'solution_code': 'stri...  "
      ]
     },
     "execution_count": 2,
     "metadata": {},
     "output_type": "execute_result"
    }
   ],
   "source": [
    "path= \"/kaggle/input/nlp-project/problem_and_human_solutions_list_filtered_cleaned_with_complexities.jsonl\"\n",
    "# Load the JSONL file into a pandas DataFrame\n",
    "df_phsl_cleaned = pd.read_json(path, lines=True)\n",
    "df_phsl_cleaned.head()"
   ]
  },
  {
   "cell_type": "code",
   "execution_count": 3,
   "metadata": {
    "execution": {
     "iopub.execute_input": "2025-05-16T14:42:38.164026Z",
     "iopub.status.busy": "2025-05-16T14:42:38.163806Z",
     "iopub.status.idle": "2025-05-16T14:42:38.169203Z",
     "shell.execute_reply": "2025-05-16T14:42:38.168514Z",
     "shell.execute_reply.started": "2025-05-16T14:42:38.164011Z"
    },
    "id": "hc1-R8AA72Ne",
    "outputId": "af5a822f-ab2a-43a4-d715-f8e986ef3f94",
    "trusted": true
   },
   "outputs": [
    {
     "data": {
      "text/plain": [
       "(3014, 4)"
      ]
     },
     "execution_count": 3,
     "metadata": {},
     "output_type": "execute_result"
    }
   ],
   "source": [
    "df_phsl_cleaned.shape"
   ]
  },
  {
   "cell_type": "code",
   "execution_count": 4,
   "metadata": {
    "execution": {
     "iopub.execute_input": "2025-05-16T14:42:38.170113Z",
     "iopub.status.busy": "2025-05-16T14:42:38.169931Z",
     "iopub.status.idle": "2025-05-16T14:42:38.189235Z",
     "shell.execute_reply": "2025-05-16T14:42:38.188446Z",
     "shell.execute_reply.started": "2025-05-16T14:42:38.170098Z"
    },
    "id": "MlkNMZ6aqfLS",
    "outputId": "6710b815-0f91-45b3-a660-1a3cbc5812cf",
    "trusted": true
   },
   "outputs": [
    {
     "data": {
      "text/plain": [
       "[{'solution_id': '0_0',\n",
       "  'solution_code': '__author__ = \\'ratnesh.mishra\\'\\n\\nweights = map(int, input())\\n\\nweights = [cnt for cnt, x in enumerate(weights, 1) if x]\\n\\nm = int(input())\\n\\nstate = [(0, 0, 0, [])]\\n\\nres = \"NO\"\\nwhile state:\\n    w, b, k, l = state.pop()\\n\\n    if k == m:\\n        res = \\'YES\\\\n\\' + \\' \\'.join(map(str, l))\\n        break\\n\\n    for wt in weights:\\n        if wt != w and wt > b:\\n            state.append((wt, wt-b, k+1, l+[wt]))\\n\\nprint(res)\\n\\n',\n",
       "  'time_complexity': 'O(1)',\n",
       "  'space_complexity': 'O(n**2)'},\n",
       " {'solution_id': '0_2',\n",
       "  'solution_code': \"import sys\\nsys.setrecursionlimit (1000000)\\n\\ntmp = list (map (int,(list(input()))))\\nw = [i+1 for i in range (len (tmp)) if tmp[i] == 1]\\nm = int (input ())\\n\\ndef dfs (b,p,s):\\n  if s == m:\\n    return [p]\\n  for i in w:\\n    if i != p and i > b:\\n      ret = dfs (i-b,i,s+1)\\n      if ret:\\n        ret.append (p)\\n        return ret\\n  return None\\n\\nret = dfs (0,0,0)\\nif ret:\\n  print ('YES')\\n  ret.reverse ()\\n  print (' '.join ((list (map (str,ret[1:])))))\\nelse:\\n  print ('NO')\\n\",\n",
       "  'time_complexity': 'O(1)',\n",
       "  'space_complexity': 'O(1)'}]"
      ]
     },
     "execution_count": 4,
     "metadata": {},
     "output_type": "execute_result"
    }
   ],
   "source": [
    "df_phsl_cleaned[\"correct_solution_list\"][0][:2]"
   ]
  },
  {
   "cell_type": "code",
   "execution_count": 5,
   "metadata": {
    "execution": {
     "iopub.execute_input": "2025-05-16T14:42:38.191412Z",
     "iopub.status.busy": "2025-05-16T14:42:38.191203Z",
     "iopub.status.idle": "2025-05-16T14:42:38.201574Z",
     "shell.execute_reply": "2025-05-16T14:42:38.200871Z",
     "shell.execute_reply.started": "2025-05-16T14:42:38.191396Z"
    },
    "id": "wfzQF_mBxgcQ",
    "trusted": true
   },
   "outputs": [],
   "source": [
    "#!pip install transformers"
   ]
  },
  {
   "cell_type": "code",
   "execution_count": 6,
   "metadata": {
    "execution": {
     "iopub.execute_input": "2025-05-16T14:42:38.202855Z",
     "iopub.status.busy": "2025-05-16T14:42:38.202365Z",
     "iopub.status.idle": "2025-05-16T14:42:42.823661Z",
     "shell.execute_reply": "2025-05-16T14:42:42.822858Z",
     "shell.execute_reply.started": "2025-05-16T14:42:38.202814Z"
    },
    "id": "mHpyRlbuvYR6",
    "trusted": true
   },
   "outputs": [],
   "source": [
    "import torch\n",
    "import numpy as np"
   ]
  },
  {
   "cell_type": "code",
   "execution_count": 7,
   "metadata": {
    "execution": {
     "iopub.execute_input": "2025-05-16T14:42:42.824965Z",
     "iopub.status.busy": "2025-05-16T14:42:42.824598Z",
     "iopub.status.idle": "2025-05-16T14:42:45.189753Z",
     "shell.execute_reply": "2025-05-16T14:42:45.189117Z",
     "shell.execute_reply.started": "2025-05-16T14:42:42.824947Z"
    },
    "id": "6rsXrPWJ5TEL",
    "outputId": "fa5f72b7-a400-4060-dfeb-79cef70f5210",
    "trusted": true
   },
   "outputs": [
    {
     "data": {
      "text/html": [
       "<div>\n",
       "<style scoped>\n",
       "    .dataframe tbody tr th:only-of-type {\n",
       "        vertical-align: middle;\n",
       "    }\n",
       "\n",
       "    .dataframe tbody tr th {\n",
       "        vertical-align: top;\n",
       "    }\n",
       "\n",
       "    .dataframe thead th {\n",
       "        text-align: right;\n",
       "    }\n",
       "</style>\n",
       "<table border=\"1\" class=\"dataframe\">\n",
       "  <thead>\n",
       "    <tr style=\"text-align: right;\">\n",
       "      <th></th>\n",
       "      <th>problem_id</th>\n",
       "      <th>solution_id</th>\n",
       "      <th>solution_code</th>\n",
       "      <th>time_complexity</th>\n",
       "      <th>space_complexity</th>\n",
       "    </tr>\n",
       "  </thead>\n",
       "  <tbody>\n",
       "    <tr>\n",
       "      <th>0</th>\n",
       "      <td>0</td>\n",
       "      <td>0_0</td>\n",
       "      <td>__author__ = 'ratnesh.mishra'\\n\\nweights = map...</td>\n",
       "      <td>O(1)</td>\n",
       "      <td>O(n**2)</td>\n",
       "    </tr>\n",
       "    <tr>\n",
       "      <th>1</th>\n",
       "      <td>0</td>\n",
       "      <td>0_2</td>\n",
       "      <td>import sys\\nsys.setrecursionlimit (1000000)\\n\\...</td>\n",
       "      <td>O(1)</td>\n",
       "      <td>O(1)</td>\n",
       "    </tr>\n",
       "    <tr>\n",
       "      <th>2</th>\n",
       "      <td>0</td>\n",
       "      <td>0_4</td>\n",
       "      <td># Target - Expert on CF\\n# Be Humblefool\\n\\nim...</td>\n",
       "      <td>O(1)</td>\n",
       "      <td>O(1)</td>\n",
       "    </tr>\n",
       "    <tr>\n",
       "      <th>3</th>\n",
       "      <td>0</td>\n",
       "      <td>0_6</td>\n",
       "      <td># import sys\\n# sys.stdin = open(\"F:\\\\Scripts\\...</td>\n",
       "      <td>O(1)</td>\n",
       "      <td>O(1)</td>\n",
       "    </tr>\n",
       "    <tr>\n",
       "      <th>4</th>\n",
       "      <td>0</td>\n",
       "      <td>0_8</td>\n",
       "      <td>to_print = []\\ndef dfs(d, ini, s, depth, m):\\n...</td>\n",
       "      <td>O(1)</td>\n",
       "      <td>O(1)</td>\n",
       "    </tr>\n",
       "  </tbody>\n",
       "</table>\n",
       "</div>"
      ],
      "text/plain": [
       "   problem_id solution_id                                      solution_code  \\\n",
       "0           0         0_0  __author__ = 'ratnesh.mishra'\\n\\nweights = map...   \n",
       "1           0         0_2  import sys\\nsys.setrecursionlimit (1000000)\\n\\...   \n",
       "2           0         0_4  # Target - Expert on CF\\n# Be Humblefool\\n\\nim...   \n",
       "3           0         0_6  # import sys\\n# sys.stdin = open(\"F:\\\\Scripts\\...   \n",
       "4           0         0_8  to_print = []\\ndef dfs(d, ini, s, depth, m):\\n...   \n",
       "\n",
       "  time_complexity space_complexity  \n",
       "0            O(1)          O(n**2)  \n",
       "1            O(1)             O(1)  \n",
       "2            O(1)             O(1)  \n",
       "3            O(1)             O(1)  \n",
       "4            O(1)             O(1)  "
      ]
     },
     "execution_count": 7,
     "metadata": {},
     "output_type": "execute_result"
    }
   ],
   "source": [
    "# Prepare a list to collect the flattened rows\n",
    "flat_rows = []\n",
    "\n",
    "# Loop over each problem\n",
    "for _, row in df_phsl_cleaned.iterrows():\n",
    "    problem_id = row[\"problem_id\"]\n",
    "    solutions = row[\"correct_solution_list\"]\n",
    "\n",
    "    # Each solution in the list\n",
    "    for sol in solutions:\n",
    "        flat_rows.append({\n",
    "            \"problem_id\": problem_id,\n",
    "            \"solution_id\": sol[\"solution_id\"],\n",
    "            \"solution_code\": sol[\"solution_code\"],\n",
    "            \"time_complexity\": sol[\"time_complexity\"],\n",
    "            \"space_complexity\": sol[\"space_complexity\"]\n",
    "        })\n",
    "\n",
    "# Convert to a new DataFrame\n",
    "flat_df = pd.DataFrame(flat_rows)\n",
    "\n",
    "# Optional: drop rows with missing labels or code\n",
    "flat_df = flat_df.dropna(subset=[\"solution_code\", \"time_complexity\", \"space_complexity\"])\n",
    "\n",
    "# Check result\n",
    "flat_df.head()\n"
   ]
  },
  {
   "cell_type": "code",
   "execution_count": 8,
   "metadata": {
    "execution": {
     "iopub.execute_input": "2025-05-16T14:42:45.190845Z",
     "iopub.status.busy": "2025-05-16T14:42:45.190534Z",
     "iopub.status.idle": "2025-05-16T14:42:45.196053Z",
     "shell.execute_reply": "2025-05-16T14:42:45.195317Z",
     "shell.execute_reply.started": "2025-05-16T14:42:45.190796Z"
    },
    "id": "kmCGfvBh9C5u",
    "outputId": "fe42615b-17f7-44a8-e600-cbd8fd9c9370",
    "trusted": true
   },
   "outputs": [
    {
     "data": {
      "text/plain": [
       "(1041578, 5)"
      ]
     },
     "execution_count": 8,
     "metadata": {},
     "output_type": "execute_result"
    }
   ],
   "source": [
    "flat_df.shape"
   ]
  },
  {
   "cell_type": "code",
   "execution_count": 9,
   "metadata": {
    "execution": {
     "iopub.execute_input": "2025-05-16T14:42:45.197009Z",
     "iopub.status.busy": "2025-05-16T14:42:45.196723Z",
     "iopub.status.idle": "2025-05-16T14:42:50.198335Z",
     "shell.execute_reply": "2025-05-16T14:42:50.197636Z",
     "shell.execute_reply.started": "2025-05-16T14:42:45.196994Z"
    },
    "id": "vfK7lTFxQJDZ",
    "outputId": "24c7d339-4615-4159-e425-71b238f2a9d1",
    "trusted": true
   },
   "outputs": [
    {
     "name": "stdout",
     "output_type": "stream",
     "text": [
      "Requirement already satisfied: datasets in /usr/local/lib/python3.11/dist-packages (3.6.0)\n",
      "Requirement already satisfied: filelock in /usr/local/lib/python3.11/dist-packages (from datasets) (3.18.0)\n",
      "Requirement already satisfied: numpy>=1.17 in /usr/local/lib/python3.11/dist-packages (from datasets) (1.26.4)\n",
      "Requirement already satisfied: pyarrow>=15.0.0 in /usr/local/lib/python3.11/dist-packages (from datasets) (19.0.1)\n",
      "Requirement already satisfied: dill<0.3.9,>=0.3.0 in /usr/local/lib/python3.11/dist-packages (from datasets) (0.3.8)\n",
      "Requirement already satisfied: pandas in /usr/local/lib/python3.11/dist-packages (from datasets) (2.2.3)\n",
      "Requirement already satisfied: requests>=2.32.2 in /usr/local/lib/python3.11/dist-packages (from datasets) (2.32.3)\n",
      "Requirement already satisfied: tqdm>=4.66.3 in /usr/local/lib/python3.11/dist-packages (from datasets) (4.67.1)\n",
      "Requirement already satisfied: xxhash in /usr/local/lib/python3.11/dist-packages (from datasets) (3.5.0)\n",
      "Requirement already satisfied: multiprocess<0.70.17 in /usr/local/lib/python3.11/dist-packages (from datasets) (0.70.16)\n",
      "Collecting fsspec<=2025.3.0,>=2023.1.0 (from fsspec[http]<=2025.3.0,>=2023.1.0->datasets)\n",
      "  Downloading fsspec-2025.3.0-py3-none-any.whl.metadata (11 kB)\n",
      "Requirement already satisfied: huggingface-hub>=0.24.0 in /usr/local/lib/python3.11/dist-packages (from datasets) (0.31.1)\n",
      "Requirement already satisfied: packaging in /usr/local/lib/python3.11/dist-packages (from datasets) (25.0)\n",
      "Requirement already satisfied: pyyaml>=5.1 in /usr/local/lib/python3.11/dist-packages (from datasets) (6.0.2)\n",
      "Requirement already satisfied: aiohttp!=4.0.0a0,!=4.0.0a1 in /usr/local/lib/python3.11/dist-packages (from fsspec[http]<=2025.3.0,>=2023.1.0->datasets) (3.11.18)\n",
      "Requirement already satisfied: typing-extensions>=3.7.4.3 in /usr/local/lib/python3.11/dist-packages (from huggingface-hub>=0.24.0->datasets) (4.13.2)\n",
      "Requirement already satisfied: hf-xet<2.0.0,>=1.1.0 in /usr/local/lib/python3.11/dist-packages (from huggingface-hub>=0.24.0->datasets) (1.1.0)\n",
      "Requirement already satisfied: mkl_fft in /usr/local/lib/python3.11/dist-packages (from numpy>=1.17->datasets) (1.3.8)\n",
      "Requirement already satisfied: mkl_random in /usr/local/lib/python3.11/dist-packages (from numpy>=1.17->datasets) (1.2.4)\n",
      "Requirement already satisfied: mkl_umath in /usr/local/lib/python3.11/dist-packages (from numpy>=1.17->datasets) (0.1.1)\n",
      "Requirement already satisfied: mkl in /usr/local/lib/python3.11/dist-packages (from numpy>=1.17->datasets) (2025.1.0)\n",
      "Requirement already satisfied: tbb4py in /usr/local/lib/python3.11/dist-packages (from numpy>=1.17->datasets) (2022.1.0)\n",
      "Requirement already satisfied: mkl-service in /usr/local/lib/python3.11/dist-packages (from numpy>=1.17->datasets) (2.4.1)\n",
      "Requirement already satisfied: charset-normalizer<4,>=2 in /usr/local/lib/python3.11/dist-packages (from requests>=2.32.2->datasets) (3.4.2)\n",
      "Requirement already satisfied: idna<4,>=2.5 in /usr/local/lib/python3.11/dist-packages (from requests>=2.32.2->datasets) (3.10)\n",
      "Requirement already satisfied: urllib3<3,>=1.21.1 in /usr/local/lib/python3.11/dist-packages (from requests>=2.32.2->datasets) (2.4.0)\n",
      "Requirement already satisfied: certifi>=2017.4.17 in /usr/local/lib/python3.11/dist-packages (from requests>=2.32.2->datasets) (2025.4.26)\n",
      "Requirement already satisfied: python-dateutil>=2.8.2 in /usr/local/lib/python3.11/dist-packages (from pandas->datasets) (2.9.0.post0)\n",
      "Requirement already satisfied: pytz>=2020.1 in /usr/local/lib/python3.11/dist-packages (from pandas->datasets) (2025.2)\n",
      "Requirement already satisfied: tzdata>=2022.7 in /usr/local/lib/python3.11/dist-packages (from pandas->datasets) (2025.2)\n",
      "Requirement already satisfied: aiohappyeyeballs>=2.3.0 in /usr/local/lib/python3.11/dist-packages (from aiohttp!=4.0.0a0,!=4.0.0a1->fsspec[http]<=2025.3.0,>=2023.1.0->datasets) (2.6.1)\n",
      "Requirement already satisfied: aiosignal>=1.1.2 in /usr/local/lib/python3.11/dist-packages (from aiohttp!=4.0.0a0,!=4.0.0a1->fsspec[http]<=2025.3.0,>=2023.1.0->datasets) (1.3.2)\n",
      "Requirement already satisfied: attrs>=17.3.0 in /usr/local/lib/python3.11/dist-packages (from aiohttp!=4.0.0a0,!=4.0.0a1->fsspec[http]<=2025.3.0,>=2023.1.0->datasets) (25.3.0)\n",
      "Requirement already satisfied: frozenlist>=1.1.1 in /usr/local/lib/python3.11/dist-packages (from aiohttp!=4.0.0a0,!=4.0.0a1->fsspec[http]<=2025.3.0,>=2023.1.0->datasets) (1.6.0)\n",
      "Requirement already satisfied: multidict<7.0,>=4.5 in /usr/local/lib/python3.11/dist-packages (from aiohttp!=4.0.0a0,!=4.0.0a1->fsspec[http]<=2025.3.0,>=2023.1.0->datasets) (6.4.3)\n",
      "Requirement already satisfied: propcache>=0.2.0 in /usr/local/lib/python3.11/dist-packages (from aiohttp!=4.0.0a0,!=4.0.0a1->fsspec[http]<=2025.3.0,>=2023.1.0->datasets) (0.3.1)\n",
      "Requirement already satisfied: yarl<2.0,>=1.17.0 in /usr/local/lib/python3.11/dist-packages (from aiohttp!=4.0.0a0,!=4.0.0a1->fsspec[http]<=2025.3.0,>=2023.1.0->datasets) (1.20.0)\n",
      "Requirement already satisfied: six>=1.5 in /usr/local/lib/python3.11/dist-packages (from python-dateutil>=2.8.2->pandas->datasets) (1.17.0)\n",
      "Requirement already satisfied: intel-openmp<2026,>=2024 in /usr/local/lib/python3.11/dist-packages (from mkl->numpy>=1.17->datasets) (2024.2.0)\n",
      "Requirement already satisfied: tbb==2022.* in /usr/local/lib/python3.11/dist-packages (from mkl->numpy>=1.17->datasets) (2022.1.0)\n",
      "Requirement already satisfied: tcmlib==1.* in /usr/local/lib/python3.11/dist-packages (from tbb==2022.*->mkl->numpy>=1.17->datasets) (1.3.0)\n",
      "Requirement already satisfied: intel-cmplr-lib-rt in /usr/local/lib/python3.11/dist-packages (from mkl_umath->numpy>=1.17->datasets) (2024.2.0)\n",
      "Requirement already satisfied: intel-cmplr-lib-ur==2024.2.0 in /usr/local/lib/python3.11/dist-packages (from intel-openmp<2026,>=2024->mkl->numpy>=1.17->datasets) (2024.2.0)\n",
      "Downloading fsspec-2025.3.0-py3-none-any.whl (193 kB)\n",
      "\u001b[2K   \u001b[90m━━━━━━━━━━━━━━━━━━━━━━━━━━━━━━━━━━━━━━━━\u001b[0m \u001b[32m193.6/193.6 kB\u001b[0m \u001b[31m4.5 MB/s\u001b[0m eta \u001b[36m0:00:00\u001b[0ma \u001b[36m0:00:01\u001b[0m\n",
      "\u001b[?25hInstalling collected packages: fsspec\n",
      "  Attempting uninstall: fsspec\n",
      "    Found existing installation: fsspec 2025.3.2\n",
      "    Uninstalling fsspec-2025.3.2:\n",
      "      Successfully uninstalled fsspec-2025.3.2\n",
      "\u001b[31mERROR: pip's dependency resolver does not currently take into account all the packages that are installed. This behaviour is the source of the following dependency conflicts.\n",
      "cesium 0.12.4 requires numpy<3.0,>=2.0, but you have numpy 1.26.4 which is incompatible.\n",
      "bigframes 1.42.0 requires rich<14,>=12.4.4, but you have rich 14.0.0 which is incompatible.\n",
      "torch 2.6.0+cu124 requires nvidia-cublas-cu12==12.4.5.8; platform_system == \"Linux\" and platform_machine == \"x86_64\", but you have nvidia-cublas-cu12 12.9.0.13 which is incompatible.\n",
      "torch 2.6.0+cu124 requires nvidia-cudnn-cu12==9.1.0.70; platform_system == \"Linux\" and platform_machine == \"x86_64\", but you have nvidia-cudnn-cu12 9.3.0.75 which is incompatible.\n",
      "torch 2.6.0+cu124 requires nvidia-cufft-cu12==11.2.1.3; platform_system == \"Linux\" and platform_machine == \"x86_64\", but you have nvidia-cufft-cu12 11.4.0.6 which is incompatible.\n",
      "torch 2.6.0+cu124 requires nvidia-curand-cu12==10.3.5.147; platform_system == \"Linux\" and platform_machine == \"x86_64\", but you have nvidia-curand-cu12 10.3.10.19 which is incompatible.\n",
      "torch 2.6.0+cu124 requires nvidia-cusolver-cu12==11.6.1.9; platform_system == \"Linux\" and platform_machine == \"x86_64\", but you have nvidia-cusolver-cu12 11.7.4.40 which is incompatible.\n",
      "torch 2.6.0+cu124 requires nvidia-cusparse-cu12==12.3.1.170; platform_system == \"Linux\" and platform_machine == \"x86_64\", but you have nvidia-cusparse-cu12 12.5.9.5 which is incompatible.\n",
      "torch 2.6.0+cu124 requires nvidia-nvjitlink-cu12==12.4.127; platform_system == \"Linux\" and platform_machine == \"x86_64\", but you have nvidia-nvjitlink-cu12 12.9.41 which is incompatible.\n",
      "gcsfs 2025.3.2 requires fsspec==2025.3.2, but you have fsspec 2025.3.0 which is incompatible.\u001b[0m\u001b[31m\n",
      "\u001b[0mSuccessfully installed fsspec-2025.3.0\n"
     ]
    }
   ],
   "source": [
    "!pip install datasets\n",
    "#!pip install --upgrade transformers"
   ]
  },
  {
   "cell_type": "code",
   "execution_count": 10,
   "metadata": {
    "execution": {
     "iopub.execute_input": "2025-05-16T14:42:50.199560Z",
     "iopub.status.busy": "2025-05-16T14:42:50.199328Z",
     "iopub.status.idle": "2025-05-16T14:43:17.071515Z",
     "shell.execute_reply": "2025-05-16T14:43:17.070760Z",
     "shell.execute_reply.started": "2025-05-16T14:42:50.199524Z"
    },
    "id": "RRB7nlSo__Xc",
    "outputId": "48929a3b-e09e-4889-e047-2992ff60d84f",
    "trusted": true
   },
   "outputs": [
    {
     "name": "stderr",
     "output_type": "stream",
     "text": [
      "2025-05-16 14:43:01.327994: E external/local_xla/xla/stream_executor/cuda/cuda_fft.cc:477] Unable to register cuFFT factory: Attempting to register factory for plugin cuFFT when one has already been registered\n",
      "WARNING: All log messages before absl::InitializeLog() is called are written to STDERR\n",
      "E0000 00:00:1747406581.556454      99 cuda_dnn.cc:8310] Unable to register cuDNN factory: Attempting to register factory for plugin cuDNN when one has already been registered\n",
      "E0000 00:00:1747406581.626915      99 cuda_blas.cc:1418] Unable to register cuBLAS factory: Attempting to register factory for plugin cuBLAS when one has already been registered\n"
     ]
    }
   ],
   "source": [
    "from torch.utils.data import Dataset, DataLoader\n",
    "from transformers import AutoTokenizer, AutoModel, AutoModelForSequenceClassification\n",
    "from transformers import TrainingArguments, Trainer\n",
    "from sklearn.model_selection import train_test_split\n",
    "from sklearn.preprocessing import LabelEncoder\n",
    "from sklearn.utils.class_weight import compute_class_weight\n",
    "from datasets import Dataset, DatasetDict\n",
    "from sklearn.metrics import classification_report, confusion_matrix"
   ]
  },
  {
   "cell_type": "code",
   "execution_count": 11,
   "metadata": {
    "execution": {
     "iopub.execute_input": "2025-05-16T14:43:17.073378Z",
     "iopub.status.busy": "2025-05-16T14:43:17.072403Z",
     "iopub.status.idle": "2025-05-16T14:43:18.032403Z",
     "shell.execute_reply": "2025-05-16T14:43:18.031395Z",
     "shell.execute_reply.started": "2025-05-16T14:43:17.073358Z"
    },
    "id": "C1uu6CUKA0CP",
    "outputId": "17936555-a2c2-49ef-846d-1ac497ef39ab",
    "trusted": true
   },
   "outputs": [
    {
     "data": {
      "application/vnd.jupyter.widget-view+json": {
       "model_id": "76e45c38a1c24bb8bac8b62ba87fc68b",
       "version_major": 2,
       "version_minor": 0
      },
      "text/plain": [
       "tokenizer_config.json:   0%|          | 0.00/25.0 [00:00<?, ?B/s]"
      ]
     },
     "metadata": {},
     "output_type": "display_data"
    },
    {
     "data": {
      "application/vnd.jupyter.widget-view+json": {
       "model_id": "5e593a497f0b407bb5eb6984f8391def",
       "version_major": 2,
       "version_minor": 0
      },
      "text/plain": [
       "config.json:   0%|          | 0.00/498 [00:00<?, ?B/s]"
      ]
     },
     "metadata": {},
     "output_type": "display_data"
    },
    {
     "data": {
      "application/vnd.jupyter.widget-view+json": {
       "model_id": "7affa199406c4e619962f9b0e4303fbb",
       "version_major": 2,
       "version_minor": 0
      },
      "text/plain": [
       "vocab.json:   0%|          | 0.00/899k [00:00<?, ?B/s]"
      ]
     },
     "metadata": {},
     "output_type": "display_data"
    },
    {
     "data": {
      "application/vnd.jupyter.widget-view+json": {
       "model_id": "82df328127774df588acf7f57f2e0620",
       "version_major": 2,
       "version_minor": 0
      },
      "text/plain": [
       "merges.txt:   0%|          | 0.00/456k [00:00<?, ?B/s]"
      ]
     },
     "metadata": {},
     "output_type": "display_data"
    },
    {
     "data": {
      "application/vnd.jupyter.widget-view+json": {
       "model_id": "2bae20c67eb44967a2de8fe55efaa69c",
       "version_major": 2,
       "version_minor": 0
      },
      "text/plain": [
       "special_tokens_map.json:   0%|          | 0.00/150 [00:00<?, ?B/s]"
      ]
     },
     "metadata": {},
     "output_type": "display_data"
    }
   ],
   "source": [
    "# You can choose CodeBERT or a similar model\n",
    "MODEL_NAME = \"microsoft/codebert-base\"\n",
    "\n",
    "# Load the tokenizer\n",
    "tokenizer = AutoTokenizer.from_pretrained(MODEL_NAME)"
   ]
  },
  {
   "cell_type": "code",
   "execution_count": 12,
   "metadata": {
    "execution": {
     "iopub.execute_input": "2025-05-16T14:43:18.033649Z",
     "iopub.status.busy": "2025-05-16T14:43:18.033406Z",
     "iopub.status.idle": "2025-05-16T14:43:18.061518Z",
     "shell.execute_reply": "2025-05-16T14:43:18.060679Z",
     "shell.execute_reply.started": "2025-05-16T14:43:18.033631Z"
    },
    "id": "Ie9Xhqh_2xkC",
    "outputId": "1a78645d-1270-4e57-8212-d039a05b9cfc",
    "trusted": true
   },
   "outputs": [
    {
     "name": "stdout",
     "output_type": "stream",
     "text": [
      "vocabulary size:  50265\n"
     ]
    }
   ],
   "source": [
    "print(\"vocabulary size: \", len(tokenizer.vocab))"
   ]
  },
  {
   "cell_type": "code",
   "execution_count": 13,
   "metadata": {
    "execution": {
     "iopub.execute_input": "2025-05-16T14:43:18.062506Z",
     "iopub.status.busy": "2025-05-16T14:43:18.062295Z",
     "iopub.status.idle": "2025-05-16T14:43:18.077453Z",
     "shell.execute_reply": "2025-05-16T14:43:18.076682Z",
     "shell.execute_reply.started": "2025-05-16T14:43:18.062490Z"
    },
    "id": "KKM7W_8B261r",
    "outputId": "9f6221e5-9bdc-4fef-b61a-054ad59a36c7",
    "trusted": true
   },
   "outputs": [],
   "source": [
    "#print(tokenizer.vocab)"
   ]
  },
  {
   "cell_type": "code",
   "execution_count": 14,
   "metadata": {
    "execution": {
     "iopub.execute_input": "2025-05-16T14:43:18.081037Z",
     "iopub.status.busy": "2025-05-16T14:43:18.080763Z",
     "iopub.status.idle": "2025-05-16T14:43:18.098405Z",
     "shell.execute_reply": "2025-05-16T14:43:18.097633Z",
     "shell.execute_reply.started": "2025-05-16T14:43:18.081019Z"
    },
    "id": "VhOk7mj3x9Jn",
    "outputId": "480bc8b2-3f99-4104-ce46-88850fed9361",
    "trusted": true
   },
   "outputs": [],
   "source": [
    "code_sample = \"def binary_search(arr, x): return -1\"\n",
    "\n",
    "# Tokenizzazione (con padding e truncation per sicurezza)\n",
    "inputs = tokenizer(code_sample, return_tensors=\"pt\", padding=True, truncation=True)"
   ]
  },
  {
   "cell_type": "code",
   "execution_count": 15,
   "metadata": {
    "execution": {
     "iopub.execute_input": "2025-05-16T14:43:18.099698Z",
     "iopub.status.busy": "2025-05-16T14:43:18.099387Z",
     "iopub.status.idle": "2025-05-16T14:43:18.112258Z",
     "shell.execute_reply": "2025-05-16T14:43:18.111593Z",
     "shell.execute_reply.started": "2025-05-16T14:43:18.099669Z"
    },
    "id": "96s8Vv46zkds",
    "outputId": "3d9f71c2-f600-4408-d051-0a59d15ee753",
    "trusted": true
   },
   "outputs": [
    {
     "name": "stdout",
     "output_type": "stream",
     "text": [
      "input text: def binary_search(arr, x): return -1\n",
      "input tokenized ids: tensor([    0,  9232, 32771,  1215, 21061,  1640,  6166,     6,  3023,  3256,\n",
      "          671,   111,   134,     2])\n",
      "tokenized:  ['<s>', 'def', ' binary', '_', 'search', '(', 'arr', ',', ' x', '):', ' return', ' -', '1', '</s>']\n"
     ]
    }
   ],
   "source": [
    "print(\"input text: \"+ code_sample)\n",
    "print(\"input tokenized ids: \" + str(inputs.input_ids[0]))\n",
    "print(\"tokenized: \", [tokenizer.decode(id) for id in inputs.input_ids[0]])"
   ]
  },
  {
   "cell_type": "code",
   "execution_count": 16,
   "metadata": {
    "execution": {
     "iopub.execute_input": "2025-05-16T14:43:18.113291Z",
     "iopub.status.busy": "2025-05-16T14:43:18.113031Z",
     "iopub.status.idle": "2025-05-16T14:43:18.121474Z",
     "shell.execute_reply": "2025-05-16T14:43:18.120855Z",
     "shell.execute_reply.started": "2025-05-16T14:43:18.113276Z"
    },
    "id": "ng551smh0-SQ",
    "outputId": "4f792c83-ecd5-4b38-d316-c35c75bb07b5",
    "trusted": true
   },
   "outputs": [
    {
     "name": "stdout",
     "output_type": "stream",
     "text": [
      "cuda\n"
     ]
    }
   ],
   "source": [
    "device = torch.device('cuda' if torch.cuda.is_available() else 'cpu')\n",
    "print(device)"
   ]
  },
  {
   "cell_type": "code",
   "execution_count": 17,
   "metadata": {
    "execution": {
     "iopub.execute_input": "2025-05-16T14:43:18.122442Z",
     "iopub.status.busy": "2025-05-16T14:43:18.122235Z",
     "iopub.status.idle": "2025-05-16T14:43:18.605516Z",
     "shell.execute_reply": "2025-05-16T14:43:18.604740Z",
     "shell.execute_reply.started": "2025-05-16T14:43:18.122419Z"
    },
    "id": "NlD-PXhVgc1l",
    "trusted": true
   },
   "outputs": [],
   "source": [
    "time_classes= flat_df[\"time_complexity\"].unique()\n",
    "space_classes= flat_df[\"space_complexity\"].unique()"
   ]
  },
  {
   "cell_type": "code",
   "execution_count": 18,
   "metadata": {
    "execution": {
     "iopub.execute_input": "2025-05-16T14:43:18.606689Z",
     "iopub.status.busy": "2025-05-16T14:43:18.606412Z",
     "iopub.status.idle": "2025-05-16T14:43:18.612032Z",
     "shell.execute_reply": "2025-05-16T14:43:18.611184Z",
     "shell.execute_reply.started": "2025-05-16T14:43:18.606667Z"
    },
    "id": "Q8iKHT9hBzkO",
    "outputId": "85067841-1162-48a2-d906-a6dad600e405",
    "trusted": true
   },
   "outputs": [
    {
     "name": "stdout",
     "output_type": "stream",
     "text": [
      "Number of Time Classes labels:  439\n",
      "Number of Space Classes labels:  262\n",
      "Time Classes:  ['O(1)' 'O(n)' 'O(nlogn)' 'O(n**2)' 'O(n+m)' 'O(nlogn*m)' 'O(logn)'\n",
      " 'O(n*m)' 'O(nlogn**2)' 'O(n*mlogm)' 'O(n*logm)' 'O(n+m**2)'\n",
      " 'O(n+m)log(n+m)' 'O(nlogn+mlogm)+(k+l)' 'O(nlogn+m)' 'O(n+mlogm)'\n",
      " 'O(n+(m+k))' 'O(nlogn+mlogm)' 'O((n+m)+k)' 'O(nlogn+(m+k))']\n",
      "Space Classes:  ['O(n**2)' 'O(1)' 'O(n)' 'O(n+m)' 'O(n*m)' 'O(n*mlogm)' 'O(logn)'\n",
      " 'O(n*m**2)' 'O(n**2*m)' 'O(nlogn)' 'O(logn*logm)' 'O((n+m)+k)' 'O(n+m+k)'\n",
      " 'O((n**2)+m)' 'O(n+(m**2))' 'O(n+(m*k))' 'O(nlogn+m)' 'O(n**2+m)'\n",
      " 'O(nlogn*m)' 'O(n+m**2)']\n"
     ]
    }
   ],
   "source": [
    "print(\"Number of Time Classes labels: \", len(time_classes))\n",
    "print(\"Number of Space Classes labels: \", len(space_classes))\n",
    "print(\"Time Classes: \", time_classes[:20])#Only the first 20\n",
    "print(\"Space Classes: \",space_classes[:20])#Only the first 20"
   ]
  },
  {
   "cell_type": "code",
   "execution_count": 19,
   "metadata": {
    "execution": {
     "iopub.execute_input": "2025-05-16T14:43:18.612970Z",
     "iopub.status.busy": "2025-05-16T14:43:18.612750Z",
     "iopub.status.idle": "2025-05-16T14:43:18.634083Z",
     "shell.execute_reply": "2025-05-16T14:43:18.633398Z",
     "shell.execute_reply.started": "2025-05-16T14:43:18.612954Z"
    },
    "trusted": true
   },
   "outputs": [],
   "source": [
    "import collections\n",
    "import re\n",
    "import sympy # Importa sympy per sympy.srepr e sympy.default_sort_key\n",
    "from sympy import Symbol, Function, Add, Mul, Pow\n",
    "from sympy.parsing.sympy_parser import parse_expr, standard_transformations, implicit_multiplication_application\n",
    "\n",
    "# Trasformazioni per il parser di sympy\n",
    "sympy_transformations = standard_transformations + (implicit_multiplication_application,)\n",
    "\n",
    "log_func_sympy = Function('log_func_sympy')\n",
    "KNOWN_VARIABLE_NAMES = \"n m k l u v w p a b c x y z N M K L\".split()\n",
    "\n",
    "def _preprocess_expr_string(expr_str: str) -> str:\n",
    "    processed_str = expr_str.replace('log', 'log_func_sympy')\n",
    "\n",
    "    processed_str = re.sub(\n",
    "        r'([a-zA-Z0-9_]+)(log_func_sympy)\\1(?![a-zA-Z0-9_*(])',\n",
    "        r'\\1*\\2(\\1)',\n",
    "        processed_str\n",
    "    )\n",
    "    processed_str = re.sub(\n",
    "        r'(log_func_sympy)([a-zA-Z0-9_]+)(?!\\s*\\()',\n",
    "        r'\\1(\\2)',\n",
    "        processed_str\n",
    "    )\n",
    "    # Fase 4: var_name log_func_sympy( -> var_name * log_func_sympy(\n",
    "    processed_str = re.sub(\n",
    "        r'([a-zA-Z_][a-zA-Z0-9_]*|[0-9]+)(log_func_sympy\\()', \n",
    "        r'\\1*\\2',\n",
    "        processed_str\n",
    "    )\n",
    "    # Fase 5: )var_name -> )*var_name\n",
    "    processed_str = re.sub(\n",
    "        r'(\\))([a-zA-Z_][a-zA-Z0-9_]*|[0-9]+)', \n",
    "        r'\\1*\\2',\n",
    "        processed_str\n",
    "    )\n",
    "    # Fase 6: var_name( -> var_name*(  (escludendo log_func_sympy() che è già gestito)\n",
    "    # Questo aiuta per n(m+k) -> n*(m+k)\n",
    "    # Il lookahead (?!) assicura che non stiamo reinserendo * per log_func_sympy\n",
    "    processed_str = re.sub(\n",
    "        r'([a-zA-Z_][a-zA-Z0-9_]*|[0-9]+)(\\((?!log_func_sympy))',\n",
    "        r'\\1*\\2',\n",
    "        processed_str\n",
    "    )\n",
    "    return processed_str\n",
    "\n",
    "\n",
    "def _normalize_sympy_expression(sympy_expr, original_complexity_string_for_debug: str):\n",
    "    # print(f\"DEBUG: _normalize_sympy_expression per '{original_complexity_string_for_debug}'\")\n",
    "    # print(f\"  Input sympy_expr: {str(sympy_expr)}\")\n",
    "\n",
    "    if not hasattr(sympy_expr, 'free_symbols') or not sympy_expr.free_symbols:\n",
    "        # print(\"  Nessun simbolo libero o expr non ha free_symbols, restituendo così com'è.\")\n",
    "        return sympy_expr\n",
    "    \n",
    "    current_expr = sympy_expr \n",
    "    original_symbols = current_expr.free_symbols\n",
    "    # print(f\"  free_symbols: {original_symbols}\")\n",
    "\n",
    "    sorted_original_vars_str = sorted([str(s) for s in original_symbols])\n",
    "    # print(f\"  sorted_original_vars_str: {sorted_original_vars_str}\")\n",
    "\n",
    "    canonical_var_map = {\n",
    "        Symbol(original_name_str): Symbol(f\"v{i:02d}\")\n",
    "        for i, original_name_str in enumerate(sorted_original_vars_str)\n",
    "    }\n",
    "    # print(f\"  canonical_var_map: {canonical_var_map}\")\n",
    "\n",
    "    expr_with_canonical_vars = current_expr.subs(canonical_var_map)\n",
    "    # print(f\"  expr_with_canonical_vars: {str(expr_with_canonical_vars)}\")\n",
    "    \n",
    "    def sort_commutative_args_recursive(expr_to_sort):\n",
    "        if not hasattr(expr_to_sort, 'args') or not expr_to_sort.args:\n",
    "            return expr_to_sort\n",
    "        \n",
    "        # Applica ricorsivamente prima di ordinare\n",
    "        normalized_args = [sort_commutative_args_recursive(arg) for arg in expr_to_sort.args]\n",
    "        \n",
    "        rebuilt_expr = expr_to_sort\n",
    "        if hasattr(expr_to_sort, 'func'):\n",
    "            rebuilt_expr = expr_to_sort.func(*normalized_args) # Ricostruisci con argomenti normalizzati\n",
    "\n",
    "        if isinstance(rebuilt_expr, (Add, Mul)):\n",
    "            # Ora ordina gli argomenti dell'espressione ricostruita\n",
    "            # (che sono già stati normalizzati ricorsivamente)\n",
    "            final_args = sorted(rebuilt_expr.args, key=sympy.default_sort_key)\n",
    "            return rebuilt_expr.func(*final_args)\n",
    "        \n",
    "        return rebuilt_expr # Se non Add o Mul, restituisci l'espressione con argomenti normalizzati\n",
    "\n",
    "    fully_normalized_expr = sort_commutative_args_recursive(expr_with_canonical_vars)\n",
    "    # print(f\"  fully_normalized_expr: {str(fully_normalized_expr)}\")\n",
    "    return fully_normalized_expr\n",
    "\n",
    "\n",
    "def get_canonical_form_with_commutativity(complexity_string: str) -> str:\n",
    "    # print(f\"\\nDEBUG: get_canonical_form per '{complexity_string}'\")\n",
    "    if not (complexity_string.startswith(\"O(\") and complexity_string.endswith(\")\")):\n",
    "        # print(f\"  Non è una notazione O-grande valida. Restituendo: {complexity_string}\")\n",
    "        return complexity_string\n",
    "\n",
    "    expression_str = complexity_string[2:-1]\n",
    "\n",
    "    if expression_str == \"1\":\n",
    "        # print(\"  Caso speciale '1'. Restituendo: 1\")\n",
    "        return \"1\"\n",
    "\n",
    "    preprocessed_expr_str = _preprocess_expr_string(expression_str)\n",
    "    # print(f\"  Stringa preprocessata: '{preprocessed_expr_str}' (da '{expression_str}')\")\n",
    "\n",
    "    local_symbols_for_parser = {'log_func_sympy': log_func_sympy}\n",
    "    for var_name in KNOWN_VARIABLE_NAMES:\n",
    "        local_symbols_for_parser[var_name] = Symbol(var_name)\n",
    "    \n",
    "    sympy_expr = None\n",
    "    try:\n",
    "        sympy_expr = parse_expr(\n",
    "            preprocessed_expr_str,\n",
    "            local_dict=local_symbols_for_parser,\n",
    "            transformations=sympy_transformations,\n",
    "            evaluate=False \n",
    "        )\n",
    "        # print(f\"  Espressione Sympy parsata: {str(sympy_expr)}\")\n",
    "    except Exception as e:\n",
    "        # print(f\"  Errore parsing Sympy: '{complexity_string}' (preproc: '{preprocessed_expr_str}') | Errore: {e}\")\n",
    "        return f\"ERROR_PARSING_FOR_{complexity_string}\"\n",
    "\n",
    "    if sympy_expr is None:\n",
    "        return f\"ERROR_PARSING_FOR_{complexity_string}_UNKNOWN\"\n",
    "\n",
    "    normalized_sympy_expr = _normalize_sympy_expression(sympy_expr, complexity_string)\n",
    "    final_key = str(normalized_sympy_expr)\n",
    "    # print(f\"  Chiave canonica finale generata: '{final_key}'\")\n",
    "    return final_key\n",
    "\n",
    "\n",
    "def group_structurally_similar(space_classes_list: list[str]) -> list[list[str]]:\n",
    "    groups = collections.defaultdict(list)\n",
    "    # print(\"\\n--- Generazione Chiavi (con codice corretto) ---\")\n",
    "    for sc_string in space_classes_list:\n",
    "        canonical_key = get_canonical_form_with_commutativity(sc_string)\n",
    "        # print(f\"Originale: {sc_string:<30} | Chiave: {canonical_key}\")\n",
    "        groups[canonical_key].append(sc_string)\n",
    "    # print(\"--- Fine Generazione Chiavi ---\\n\")\n",
    "    return list(groups.values())"
   ]
  },
  {
   "cell_type": "code",
   "execution_count": 20,
   "metadata": {
    "execution": {
     "iopub.execute_input": "2025-05-16T14:43:18.634999Z",
     "iopub.status.busy": "2025-05-16T14:43:18.634736Z",
     "iopub.status.idle": "2025-05-16T14:43:19.382719Z",
     "shell.execute_reply": "2025-05-16T14:43:19.381787Z",
     "shell.execute_reply.started": "2025-05-16T14:43:18.634979Z"
    },
    "trusted": true
   },
   "outputs": [],
   "source": [
    "\n",
    "space_classes = group_structurally_similar(space_classes)\n",
    "time_classes = group_structurally_similar(time_classes)\n",
    "#Print the group\n",
    "#for i, group in enumerate(grouped_general_results):\n",
    "#    print(f\"Gruppo Generale {i+1}: {group}\")"
   ]
  },
  {
   "cell_type": "code",
   "execution_count": 21,
   "metadata": {
    "execution": {
     "iopub.execute_input": "2025-05-16T14:43:19.384337Z",
     "iopub.status.busy": "2025-05-16T14:43:19.383704Z",
     "iopub.status.idle": "2025-05-16T14:43:19.389974Z",
     "shell.execute_reply": "2025-05-16T14:43:19.388760Z",
     "shell.execute_reply.started": "2025-05-16T14:43:19.384305Z"
    },
    "trusted": true
   },
   "outputs": [
    {
     "name": "stdout",
     "output_type": "stream",
     "text": [
      "Number of Time Classes labels:  406\n",
      "Number of Space Classes labels:  219\n",
      "Time Classes:  [['O(1)'], ['O(n)'], ['O(nlogn)'], ['O(n**2)'], ['O(n+m)'], ['O(nlogn*m)'], ['O(logn)'], ['O(n*m)'], ['O(nlogn**2)'], ['O(n*mlogm)'], ['O(n*logm)'], ['O(n+m**2)', 'O(n+(m**2))'], ['O(n+m)log(n+m)'], ['O(nlogn+mlogm)+(k+l)'], ['O(nlogn+m)'], ['O(n+mlogm)'], ['O(n+(m+k))', 'O((n+m)+k)', 'O(n+m+k)'], ['O(nlogn+mlogm)'], ['O(nlogn+(m+k))'], ['O(n+m)+(klogk+llogl)']]\n",
      "Space Classes:  [['O(n**2)'], ['O(1)'], ['O(n)'], ['O(n+m)'], ['O(n*m)'], ['O(n*mlogm)'], ['O(logn)'], ['O(n*m**2)', 'O(n*(m**2))'], ['O(n**2*m)', 'O((n**2)*m)'], ['O(nlogn)'], ['O(logn*logm)'], ['O((n+m)+k)', 'O(n+m+k)', 'O(n+(m+k))'], ['O((n**2)+m)', 'O(n**2+m)'], ['O(n+(m**2))', 'O(n+m**2)'], ['O(n+(m*k))'], ['O(nlogn+m)'], ['O(nlogn*m)'], ['O(n+mlogm)'], ['O(n*m**2*k)', 'O(n*(m**2)*k)'], ['O(n*m*k**2)', 'O(n*m*(k**2))']]\n"
     ]
    }
   ],
   "source": [
    "print(\"Number of Time Classes labels: \", len(time_classes))\n",
    "print(\"Number of Space Classes labels: \", len(space_classes))\n",
    "print(\"Time Classes: \", time_classes[:20])#Only the first 20\n",
    "print(\"Space Classes: \",space_classes[:20])#Only the first 20"
   ]
  },
  {
   "cell_type": "code",
   "execution_count": 22,
   "metadata": {
    "execution": {
     "iopub.execute_input": "2025-05-16T14:43:19.391119Z",
     "iopub.status.busy": "2025-05-16T14:43:19.390887Z",
     "iopub.status.idle": "2025-05-16T14:43:19.647144Z",
     "shell.execute_reply": "2025-05-16T14:43:19.646270Z",
     "shell.execute_reply.started": "2025-05-16T14:43:19.391098Z"
    },
    "trusted": true
   },
   "outputs": [],
   "source": [
    "complexity_map = {}\n",
    "for group in time_classes:\n",
    "    canonical_form = group[0]  # La prima complessità del gruppo è quella canonica\n",
    "    for variant in group:\n",
    "        complexity_map[variant] = canonical_form\n",
    "\n",
    "\n",
    "flat_df['time_complexity'] = flat_df['time_complexity'].apply(lambda x: complexity_map.get(x, x))"
   ]
  },
  {
   "cell_type": "code",
   "execution_count": 23,
   "metadata": {
    "execution": {
     "iopub.execute_input": "2025-05-16T14:43:19.648421Z",
     "iopub.status.busy": "2025-05-16T14:43:19.648109Z",
     "iopub.status.idle": "2025-05-16T14:43:19.882094Z",
     "shell.execute_reply": "2025-05-16T14:43:19.881399Z",
     "shell.execute_reply.started": "2025-05-16T14:43:19.648395Z"
    },
    "trusted": true
   },
   "outputs": [],
   "source": [
    "complexity_map = {}\n",
    "for group in space_classes:\n",
    "    canonical_form = group[0]  # La prima complessità del gruppo è quella canonica\n",
    "    for variant in group:\n",
    "        complexity_map[variant] = canonical_form\n",
    "\n",
    "\n",
    "flat_df['space_complexity'] = flat_df['space_complexity'].apply(lambda x: complexity_map.get(x, x))"
   ]
  },
  {
   "cell_type": "code",
   "execution_count": 24,
   "metadata": {
    "execution": {
     "iopub.execute_input": "2025-05-16T14:43:19.883253Z",
     "iopub.status.busy": "2025-05-16T14:43:19.883037Z",
     "iopub.status.idle": "2025-05-16T14:43:19.987755Z",
     "shell.execute_reply": "2025-05-16T14:43:19.986961Z",
     "shell.execute_reply.started": "2025-05-16T14:43:19.883237Z"
    },
    "trusted": true
   },
   "outputs": [
    {
     "name": "stdout",
     "output_type": "stream",
     "text": [
      "406\n",
      "219\n"
     ]
    }
   ],
   "source": [
    "time_classes_ex= flat_df[\"time_complexity\"].unique()\n",
    "space_classes_ex= flat_df[\"space_complexity\"].unique()\n",
    "\n",
    "print(len(time_classes_ex))\n",
    "print(len(space_classes_ex))"
   ]
  },
  {
   "cell_type": "code",
   "execution_count": 25,
   "metadata": {
    "execution": {
     "iopub.execute_input": "2025-05-16T14:43:19.988932Z",
     "iopub.status.busy": "2025-05-16T14:43:19.988640Z",
     "iopub.status.idle": "2025-05-16T14:43:20.105763Z",
     "shell.execute_reply": "2025-05-16T14:43:20.105043Z",
     "shell.execute_reply.started": "2025-05-16T14:43:19.988906Z"
    },
    "id": "ddD52azbDPMc",
    "outputId": "1f3e58fb-6864-491e-cb37-72fc17890a71",
    "trusted": true
   },
   "outputs": [
    {
     "name": "stdout",
     "output_type": "stream",
     "text": [
      "Top 10 Time Complexities:\n",
      "O(n): 432454\n",
      "O(1): 231839\n",
      "O(nlogn): 105453\n",
      "O(n**2): 83171\n",
      "O(n*m): 56610\n",
      "O(n+m): 37593\n",
      "O(logn): 19463\n"
     ]
    }
   ],
   "source": [
    "top_time_classes_labels = flat_df[\"time_complexity\"].value_counts().nlargest(7).index.tolist()\n",
    "top_time_classes_occurences = flat_df[\"time_complexity\"].value_counts().nlargest(7).tolist()\n",
    "print(\"Top 10 Time Complexities:\")\n",
    "for label, occ in zip(top_time_classes_labels, top_time_classes_occurences):\n",
    "    print(f\"{label}: {occ}\")\n"
   ]
  },
  {
   "cell_type": "code",
   "execution_count": 26,
   "metadata": {
    "execution": {
     "iopub.execute_input": "2025-05-16T14:43:20.107083Z",
     "iopub.status.busy": "2025-05-16T14:43:20.106705Z",
     "iopub.status.idle": "2025-05-16T14:43:20.219932Z",
     "shell.execute_reply": "2025-05-16T14:43:20.219106Z",
     "shell.execute_reply.started": "2025-05-16T14:43:20.107064Z"
    },
    "id": "hLXVhCd-K4y2",
    "outputId": "3231b5ea-cd5c-443d-aa4e-98005ae59687",
    "trusted": true
   },
   "outputs": [
    {
     "name": "stdout",
     "output_type": "stream",
     "text": [
      "Top 10 Space Complexities:\n",
      "O(n): 537972\n",
      "O(1): 294934\n",
      "O(n*m): 55585\n",
      "O(n**2): 37183\n",
      "O(n+m): 34146\n",
      "O(logn): 26314\n",
      "O(nlogn): 14298\n"
     ]
    }
   ],
   "source": [
    "top_space_classes_labels = flat_df[\"space_complexity\"].value_counts().nlargest(7).index.tolist()\n",
    "top_space_classes_occurences = flat_df[\"space_complexity\"].value_counts().nlargest(7).tolist()\n",
    "print(\"Top 10 Space Complexities:\")\n",
    "for label, occ in zip(top_space_classes_labels, top_space_classes_occurences):\n",
    "    print(f\"{label}: {occ}\")"
   ]
  },
  {
   "cell_type": "code",
   "execution_count": 27,
   "metadata": {
    "execution": {
     "iopub.execute_input": "2025-05-16T14:43:20.221109Z",
     "iopub.status.busy": "2025-05-16T14:43:20.220811Z",
     "iopub.status.idle": "2025-05-16T14:43:21.085110Z",
     "shell.execute_reply": "2025-05-16T14:43:21.084252Z",
     "shell.execute_reply.started": "2025-05-16T14:43:20.221071Z"
    },
    "id": "zGxFpo15LXk8",
    "trusted": true
   },
   "outputs": [],
   "source": [
    "# Create a copy of flat_df to avoid modifying the original DataFrame\n",
    "filtered_df = flat_df.copy()\n",
    "\n",
    "# Apply the transformations as before\n",
    "filtered_df[\"time_complexity\"] = flat_df[\"time_complexity\"].apply(\n",
    "    lambda l: l if l in top_time_classes_labels else \"Other\"\n",
    ")\n",
    "\n",
    "filtered_df[\"space_complexity\"] = flat_df[\"space_complexity\"].apply(\n",
    "    lambda l: l if l in top_space_classes_labels else \"Other\"\n",
    ")\n",
    "\n",
    "# Riassegna gli indici\n",
    "filtered_df.reset_index(drop=True, inplace=True)"
   ]
  },
  {
   "cell_type": "code",
   "execution_count": 28,
   "metadata": {
    "execution": {
     "iopub.execute_input": "2025-05-16T14:43:21.086670Z",
     "iopub.status.busy": "2025-05-16T14:43:21.086086Z",
     "iopub.status.idle": "2025-05-16T14:43:21.399484Z",
     "shell.execute_reply": "2025-05-16T14:43:21.398622Z",
     "shell.execute_reply.started": "2025-05-16T14:43:21.086645Z"
    },
    "id": "i7KtrMKuDDoL",
    "trusted": true
   },
   "outputs": [],
   "source": [
    "# Codifica per time_complexity\n",
    "time_encoder = LabelEncoder()\n",
    "filtered_df[\"time_label\"] = time_encoder.fit_transform(filtered_df[\"time_complexity\"])\n",
    "\n",
    "# Codifica per space_complexity\n",
    "space_encoder = LabelEncoder()\n",
    "filtered_df[\"space_label\"] = space_encoder.fit_transform(filtered_df[\"space_complexity\"])\n"
   ]
  },
  {
   "cell_type": "code",
   "execution_count": 29,
   "metadata": {
    "execution": {
     "iopub.execute_input": "2025-05-16T14:44:55.012046Z",
     "iopub.status.busy": "2025-05-16T14:44:55.011248Z",
     "iopub.status.idle": "2025-05-16T14:44:55.106561Z",
     "shell.execute_reply": "2025-05-16T14:44:55.105593Z",
     "shell.execute_reply.started": "2025-05-16T14:44:55.012019Z"
    },
    "id": "mXWy7N9gDGMI",
    "outputId": "3e051cb2-c979-4162-a932-62d4bb6685f9",
    "trusted": true
   },
   "outputs": [
    {
     "data": {
      "text/html": [
       "<div>\n",
       "<style scoped>\n",
       "    .dataframe tbody tr th:only-of-type {\n",
       "        vertical-align: middle;\n",
       "    }\n",
       "\n",
       "    .dataframe tbody tr th {\n",
       "        vertical-align: top;\n",
       "    }\n",
       "\n",
       "    .dataframe thead th {\n",
       "        text-align: right;\n",
       "    }\n",
       "</style>\n",
       "<table border=\"1\" class=\"dataframe\">\n",
       "  <thead>\n",
       "    <tr style=\"text-align: right;\">\n",
       "      <th></th>\n",
       "      <th>problem_id</th>\n",
       "      <th>solution_id</th>\n",
       "      <th>solution_code</th>\n",
       "      <th>time_complexity</th>\n",
       "      <th>space_complexity</th>\n",
       "      <th>time_label</th>\n",
       "      <th>space_label</th>\n",
       "    </tr>\n",
       "  </thead>\n",
       "  <tbody>\n",
       "    <tr>\n",
       "      <th>292</th>\n",
       "      <td>2</td>\n",
       "      <td>2_127</td>\n",
       "      <td>n,m=list(map(int,input().split()))\\nc=[]\\ng=[]...</td>\n",
       "      <td>Other</td>\n",
       "      <td>Other</td>\n",
       "      <td>7</td>\n",
       "      <td>7</td>\n",
       "    </tr>\n",
       "    <tr>\n",
       "      <th>1059</th>\n",
       "      <td>8</td>\n",
       "      <td>8_77</td>\n",
       "      <td>n = int(input())\\na = list(map(int, input().sp...</td>\n",
       "      <td>O(nlogn)</td>\n",
       "      <td>Other</td>\n",
       "      <td>6</td>\n",
       "      <td>7</td>\n",
       "    </tr>\n",
       "    <tr>\n",
       "      <th>1077</th>\n",
       "      <td>8</td>\n",
       "      <td>8_105</td>\n",
       "      <td>#_____________________________________________...</td>\n",
       "      <td>O(nlogn)</td>\n",
       "      <td>Other</td>\n",
       "      <td>6</td>\n",
       "      <td>7</td>\n",
       "    </tr>\n",
       "    <tr>\n",
       "      <th>1164</th>\n",
       "      <td>8</td>\n",
       "      <td>8_247</td>\n",
       "      <td>def f(x):\\n    i = 0\\n    z = x\\n    while z %...</td>\n",
       "      <td>O(nlogn)</td>\n",
       "      <td>Other</td>\n",
       "      <td>6</td>\n",
       "      <td>7</td>\n",
       "    </tr>\n",
       "    <tr>\n",
       "      <th>1191</th>\n",
       "      <td>8</td>\n",
       "      <td>8_295</td>\n",
       "      <td>n = int(input())\\na = list(map(int, input().sp...</td>\n",
       "      <td>O(nlogn)</td>\n",
       "      <td>Other</td>\n",
       "      <td>6</td>\n",
       "      <td>7</td>\n",
       "    </tr>\n",
       "  </tbody>\n",
       "</table>\n",
       "</div>"
      ],
      "text/plain": [
       "      problem_id solution_id  \\\n",
       "292            2       2_127   \n",
       "1059           8        8_77   \n",
       "1077           8       8_105   \n",
       "1164           8       8_247   \n",
       "1191           8       8_295   \n",
       "\n",
       "                                          solution_code time_complexity  \\\n",
       "292   n,m=list(map(int,input().split()))\\nc=[]\\ng=[]...           Other   \n",
       "1059  n = int(input())\\na = list(map(int, input().sp...        O(nlogn)   \n",
       "1077  #_____________________________________________...        O(nlogn)   \n",
       "1164  def f(x):\\n    i = 0\\n    z = x\\n    while z %...        O(nlogn)   \n",
       "1191  n = int(input())\\na = list(map(int, input().sp...        O(nlogn)   \n",
       "\n",
       "     space_complexity  time_label  space_label  \n",
       "292             Other           7            7  \n",
       "1059            Other           6            7  \n",
       "1077            Other           6            7  \n",
       "1164            Other           6            7  \n",
       "1191            Other           6            7  "
      ]
     },
     "execution_count": 29,
     "metadata": {},
     "output_type": "execute_result"
    }
   ],
   "source": [
    "filtered_df[filtered_df[\"space_complexity\"]==\"Other\"].head()"
   ]
  },
  {
   "cell_type": "markdown",
   "metadata": {
    "id": "SdnrtfOIaITO"
   },
   "source": [
    "# Space Complexity Classifier"
   ]
  },
  {
   "cell_type": "code",
   "execution_count": 30,
   "metadata": {
    "execution": {
     "iopub.execute_input": "2025-05-16T14:45:00.416414Z",
     "iopub.status.busy": "2025-05-16T14:45:00.416120Z",
     "iopub.status.idle": "2025-05-16T14:45:00.771330Z",
     "shell.execute_reply": "2025-05-16T14:45:00.770665Z",
     "shell.execute_reply.started": "2025-05-16T14:45:00.416393Z"
    },
    "id": "NAEhC9G7bXWO",
    "trusted": true
   },
   "outputs": [],
   "source": [
    "full_unbalanced_df=filtered_df.copy()"
   ]
  },
  {
   "cell_type": "code",
   "execution_count": 31,
   "metadata": {
    "execution": {
     "iopub.execute_input": "2025-05-16T14:45:03.448225Z",
     "iopub.status.busy": "2025-05-16T14:45:03.447957Z",
     "iopub.status.idle": "2025-05-16T14:45:03.787901Z",
     "shell.execute_reply": "2025-05-16T14:45:03.787276Z",
     "shell.execute_reply.started": "2025-05-16T14:45:03.448207Z"
    },
    "id": "hSCy9Y6eXr1Y",
    "trusted": true
   },
   "outputs": [],
   "source": [
    "# Imposta massimo per classe\n",
    "max_per_class = 10000\n",
    "# Prendi max_per_class esempi per ogni classe\n",
    "filtered_df = (\n",
    "    filtered_df\n",
    "    .groupby(\"space_label\", group_keys=False)  # eviti indici multi-livello\n",
    "    .sample(n=max_per_class, random_state=42)           # riproducibilità con seed\n",
    "    .reset_index(drop=True)\n",
    "    .copy()# <-- Questo rende tutto indipendente\n",
    ")\n"
   ]
  },
  {
   "cell_type": "code",
   "execution_count": 32,
   "metadata": {
    "execution": {
     "iopub.execute_input": "2025-05-16T14:45:05.577704Z",
     "iopub.status.busy": "2025-05-16T14:45:05.577181Z",
     "iopub.status.idle": "2025-05-16T14:45:05.582476Z",
     "shell.execute_reply": "2025-05-16T14:45:05.581791Z",
     "shell.execute_reply.started": "2025-05-16T14:45:05.577682Z"
    },
    "id": "ght2iFqRZAv6",
    "outputId": "bfbe347d-2355-4ef9-af20-d1d7017b33a7",
    "trusted": true
   },
   "outputs": [
    {
     "data": {
      "text/plain": [
       "(80000, 7)"
      ]
     },
     "execution_count": 32,
     "metadata": {},
     "output_type": "execute_result"
    }
   ],
   "source": [
    "filtered_df.shape"
   ]
  },
  {
   "cell_type": "code",
   "execution_count": 33,
   "metadata": {
    "execution": {
     "iopub.execute_input": "2025-05-16T14:45:07.737614Z",
     "iopub.status.busy": "2025-05-16T14:45:07.737365Z",
     "iopub.status.idle": "2025-05-16T14:45:07.745957Z",
     "shell.execute_reply": "2025-05-16T14:45:07.745220Z",
     "shell.execute_reply.started": "2025-05-16T14:45:07.737596Z"
    },
    "id": "6rDd7NypZ_qC",
    "outputId": "bd05fc29-5183-4e15-e3f8-2054b1b49a46",
    "trusted": true
   },
   "outputs": [
    {
     "data": {
      "text/plain": [
       "space_label\n",
       "0    10000\n",
       "1    10000\n",
       "2    10000\n",
       "3    10000\n",
       "4    10000\n",
       "5    10000\n",
       "6    10000\n",
       "7    10000\n",
       "Name: count, dtype: int64"
      ]
     },
     "execution_count": 33,
     "metadata": {},
     "output_type": "execute_result"
    }
   ],
   "source": [
    "filtered_df[\"space_label\"].value_counts()"
   ]
  },
  {
   "cell_type": "code",
   "execution_count": 34,
   "metadata": {
    "execution": {
     "iopub.execute_input": "2025-05-16T14:45:10.969325Z",
     "iopub.status.busy": "2025-05-16T14:45:10.968656Z",
     "iopub.status.idle": "2025-05-16T14:45:10.975290Z",
     "shell.execute_reply": "2025-05-16T14:45:10.974465Z",
     "shell.execute_reply.started": "2025-05-16T14:45:10.969304Z"
    },
    "id": "0Atvmlh6H-ik",
    "outputId": "5793bdc3-a9bd-4580-a8a0-a4fc3cf036a3",
    "trusted": true
   },
   "outputs": [
    {
     "name": "stdout",
     "output_type": "stream",
     "text": [
      "space_label\n",
      "0    10000\n",
      "1    10000\n",
      "2    10000\n",
      "3    10000\n",
      "4    10000\n",
      "5    10000\n",
      "6    10000\n",
      "7    10000\n",
      "Name: count, dtype: int64\n",
      "{0: 'O(1)', 1: 'O(logn)', 2: 'O(n)', 3: 'O(n**2)', 4: 'O(n*m)', 5: 'O(n+m)', 6: 'O(nlogn)', 7: 'Other'}\n",
      "{'O(1)': 0, 'O(logn)': 1, 'O(n)': 2, 'O(n**2)': 3, 'O(n*m)': 4, 'O(n+m)': 5, 'O(nlogn)': 6, 'Other': 7}\n"
     ]
    }
   ],
   "source": [
    "space_encoded_labels = filtered_df[\"space_label\"]\n",
    "print(space_encoded_labels.value_counts())\n",
    "\n",
    "id2label_space = {idx: label for idx, label in enumerate(space_encoder.classes_)}\n",
    "label2id_space = {label: idx for idx, label in id2label_space.items()}\n",
    "print(id2label_space)\n",
    "print(label2id_space)"
   ]
  },
  {
   "cell_type": "code",
   "execution_count": 37,
   "metadata": {
    "execution": {
     "iopub.execute_input": "2025-05-16T14:45:16.302645Z",
     "iopub.status.busy": "2025-05-16T14:45:16.301700Z",
     "iopub.status.idle": "2025-05-16T14:45:16.350161Z",
     "shell.execute_reply": "2025-05-16T14:45:16.349335Z",
     "shell.execute_reply.started": "2025-05-16T14:45:16.302615Z"
    },
    "id": "f20q1ytgNNid",
    "outputId": "2d6ebdd6-819b-4233-ef75-94c140fda50a",
    "trusted": true
   },
   "outputs": [],
   "source": [
    "from sklearn.model_selection import train_test_split\n",
    "\n",
    "# Suddivisione per space complexity\n",
    "train_df_space, test_df_space = train_test_split(\n",
    "    filtered_df,\n",
    "    test_size=0.2,\n",
    "    stratify=filtered_df[\"space_label\"],\n",
    "    random_state=42\n",
    ")"
   ]
  },
  {
   "cell_type": "code",
   "execution_count": 38,
   "metadata": {
    "execution": {
     "iopub.execute_input": "2025-05-16T14:45:20.556991Z",
     "iopub.status.busy": "2025-05-16T14:45:20.556650Z",
     "iopub.status.idle": "2025-05-16T14:45:20.601270Z",
     "shell.execute_reply": "2025-05-16T14:45:20.600620Z",
     "shell.execute_reply.started": "2025-05-16T14:45:20.556969Z"
    },
    "id": "ZYRLWWCrNZ54",
    "outputId": "4e7e6e6b-e863-4ace-d3c7-668ab7fd0043",
    "trusted": true
   },
   "outputs": [],
   "source": [
    "train_df_space, valid_df_space = train_test_split(\n",
    "    train_df_space,\n",
    "    test_size=0.2,\n",
    "    stratify=train_df_space[\"space_label\"],\n",
    "    random_state=42\n",
    ")"
   ]
  },
  {
   "cell_type": "code",
   "execution_count": 39,
   "metadata": {
    "execution": {
     "iopub.execute_input": "2025-05-16T14:45:49.683630Z",
     "iopub.status.busy": "2025-05-16T14:45:49.683336Z",
     "iopub.status.idle": "2025-05-16T14:45:49.752191Z",
     "shell.execute_reply": "2025-05-16T14:45:49.751572Z",
     "shell.execute_reply.started": "2025-05-16T14:45:49.683610Z"
    },
    "id": "oxrdiLzqPG6l",
    "trusted": true
   },
   "outputs": [],
   "source": [
    "# Rimuove righe con codice sorgente mancante\n",
    "train_df_space = train_df_space.dropna(subset=[\"solution_code\"])\n",
    "valid_df_space = valid_df_space.dropna(subset=[\"solution_code\"])\n",
    "\n",
    "# Normalizza il testo del codice sorgente\n",
    "train_df_space[\"solution_code\"] = train_df_space[\"solution_code\"].apply(lambda x: x.strip())\n",
    "valid_df_space[\"solution_code\"] = valid_df_space[\"solution_code\"].apply(lambda x: x.strip())\n"
   ]
  },
  {
   "cell_type": "code",
   "execution_count": 40,
   "metadata": {
    "execution": {
     "iopub.execute_input": "2025-05-16T14:46:02.682684Z",
     "iopub.status.busy": "2025-05-16T14:46:02.682320Z",
     "iopub.status.idle": "2025-05-16T14:46:02.687853Z",
     "shell.execute_reply": "2025-05-16T14:46:02.687030Z",
     "shell.execute_reply.started": "2025-05-16T14:46:02.682656Z"
    },
    "id": "FoZNZJfCNvKi",
    "outputId": "d2071d17-08b5-4a7d-8a68-2c9e93ff5edf",
    "trusted": true
   },
   "outputs": [
    {
     "name": "stdout",
     "output_type": "stream",
     "text": [
      "Train Shape:  (51200, 7)\n",
      "Valid Shape:  (12800, 7)\n",
      "Test Shape:  (16000, 7)\n"
     ]
    }
   ],
   "source": [
    "print(\"Train Shape: \", train_df_space.shape)\n",
    "print(\"Valid Shape: \", valid_df_space.shape)\n",
    "print(\"Test Shape: \", test_df_space.shape)"
   ]
  },
  {
   "cell_type": "code",
   "execution_count": 41,
   "metadata": {
    "execution": {
     "iopub.execute_input": "2025-05-16T14:46:34.887621Z",
     "iopub.status.busy": "2025-05-16T14:46:34.887337Z",
     "iopub.status.idle": "2025-05-16T14:46:35.091460Z",
     "shell.execute_reply": "2025-05-16T14:46:35.090648Z",
     "shell.execute_reply.started": "2025-05-16T14:46:34.887597Z"
    },
    "id": "200xoiTwOkl2",
    "trusted": true
   },
   "outputs": [],
   "source": [
    "# Crea i dataset per time complexity\n",
    "train_dataset_space = Dataset.from_pandas(train_df_space[[\"solution_code\", \"space_label\"]])\n",
    "val_dataset_space = Dataset.from_pandas(valid_df_space[[\"solution_code\", \"space_label\"]])\n",
    "test_dataset_space = Dataset.from_pandas(test_df_space[[\"solution_code\", \"space_label\"]])\n"
   ]
  },
  {
   "cell_type": "code",
   "execution_count": 43,
   "metadata": {
    "execution": {
     "iopub.execute_input": "2025-05-16T14:46:44.670939Z",
     "iopub.status.busy": "2025-05-16T14:46:44.670369Z",
     "iopub.status.idle": "2025-05-16T14:46:44.674793Z",
     "shell.execute_reply": "2025-05-16T14:46:44.673837Z",
     "shell.execute_reply.started": "2025-05-16T14:46:44.670916Z"
    },
    "id": "-3UZZ1FEQXHC",
    "trusted": true
   },
   "outputs": [],
   "source": [
    "data = DatasetDict()\n",
    "data['train'] = train_dataset_space\n",
    "data['validation'] = val_dataset_space\n",
    "data['test'] = test_dataset_space"
   ]
  },
  {
   "cell_type": "code",
   "execution_count": 44,
   "metadata": {
    "execution": {
     "iopub.execute_input": "2025-05-16T14:46:47.098676Z",
     "iopub.status.busy": "2025-05-16T14:46:47.098340Z",
     "iopub.status.idle": "2025-05-16T14:46:47.102862Z",
     "shell.execute_reply": "2025-05-16T14:46:47.102097Z",
     "shell.execute_reply.started": "2025-05-16T14:46:47.098655Z"
    },
    "id": "CaFBPUZeRPiO",
    "outputId": "7ae327c1-e5ba-4e35-8f5c-72fdb5761063",
    "trusted": true
   },
   "outputs": [
    {
     "name": "stdout",
     "output_type": "stream",
     "text": [
      "DatasetDict({\n",
      "    train: Dataset({\n",
      "        features: ['solution_code', 'space_label', '__index_level_0__'],\n",
      "        num_rows: 51200\n",
      "    })\n",
      "    validation: Dataset({\n",
      "        features: ['solution_code', 'space_label', '__index_level_0__'],\n",
      "        num_rows: 12800\n",
      "    })\n",
      "    test: Dataset({\n",
      "        features: ['solution_code', 'space_label', '__index_level_0__'],\n",
      "        num_rows: 16000\n",
      "    })\n",
      "})\n"
     ]
    }
   ],
   "source": [
    "print(data)"
   ]
  },
  {
   "cell_type": "code",
   "execution_count": 45,
   "metadata": {
    "execution": {
     "iopub.execute_input": "2025-05-16T14:46:51.573375Z",
     "iopub.status.busy": "2025-05-16T14:46:51.573089Z",
     "iopub.status.idle": "2025-05-16T14:46:51.577971Z",
     "shell.execute_reply": "2025-05-16T14:46:51.576875Z",
     "shell.execute_reply.started": "2025-05-16T14:46:51.573355Z"
    },
    "id": "N-uOhzCRRdbR",
    "trusted": true
   },
   "outputs": [],
   "source": [
    "def tokenize_function(examples):\n",
    "    return tokenizer(examples[\"solution_code\"], padding=True, truncation=True)\n"
   ]
  },
  {
   "cell_type": "code",
   "execution_count": 47,
   "metadata": {
    "execution": {
     "iopub.execute_input": "2025-05-16T14:47:28.229204Z",
     "iopub.status.busy": "2025-05-16T14:47:28.228745Z",
     "iopub.status.idle": "2025-05-16T14:47:59.683648Z",
     "shell.execute_reply": "2025-05-16T14:47:59.682971Z",
     "shell.execute_reply.started": "2025-05-16T14:47:28.229183Z"
    },
    "id": "I7BWZlaPTXaL",
    "outputId": "5e892b5b-0fbf-4aa6-b5aa-a9cdaf0586ba",
    "trusted": true
   },
   "outputs": [
    {
     "data": {
      "application/vnd.jupyter.widget-view+json": {
       "model_id": "4b52035671cf4be59d9433f461b48afa",
       "version_major": 2,
       "version_minor": 0
      },
      "text/plain": [
       "Map:   0%|          | 0/51200 [00:00<?, ? examples/s]"
      ]
     },
     "metadata": {},
     "output_type": "display_data"
    },
    {
     "data": {
      "application/vnd.jupyter.widget-view+json": {
       "model_id": "e359aaefa6ee4804b42973ef5e229be6",
       "version_major": 2,
       "version_minor": 0
      },
      "text/plain": [
       "Map:   0%|          | 0/12800 [00:00<?, ? examples/s]"
      ]
     },
     "metadata": {},
     "output_type": "display_data"
    },
    {
     "data": {
      "application/vnd.jupyter.widget-view+json": {
       "model_id": "4e8d8eb5f295406a817d797ef7f1e593",
       "version_major": 2,
       "version_minor": 0
      },
      "text/plain": [
       "Map:   0%|          | 0/16000 [00:00<?, ? examples/s]"
      ]
     },
     "metadata": {},
     "output_type": "display_data"
    }
   ],
   "source": [
    "tokenized_data = data.map(tokenize_function, batched=True)"
   ]
  },
  {
   "cell_type": "code",
   "execution_count": 48,
   "metadata": {
    "execution": {
     "iopub.execute_input": "2025-05-16T14:47:59.685612Z",
     "iopub.status.busy": "2025-05-16T14:47:59.685053Z",
     "iopub.status.idle": "2025-05-16T14:47:59.690606Z",
     "shell.execute_reply": "2025-05-16T14:47:59.689719Z",
     "shell.execute_reply.started": "2025-05-16T14:47:59.685590Z"
    },
    "id": "-EmkZPUKTekz",
    "outputId": "e359a611-0797-47d2-86c0-e4d31c079cd7",
    "trusted": true
   },
   "outputs": [
    {
     "data": {
      "text/plain": [
       "Dataset({\n",
       "    features: ['solution_code', 'space_label', '__index_level_0__', 'input_ids', 'attention_mask'],\n",
       "    num_rows: 51200\n",
       "})"
      ]
     },
     "execution_count": 48,
     "metadata": {},
     "output_type": "execute_result"
    }
   ],
   "source": [
    "tokenized_data[\"train\"]"
   ]
  },
  {
   "cell_type": "code",
   "execution_count": 49,
   "metadata": {
    "execution": {
     "iopub.execute_input": "2025-05-16T14:47:59.691583Z",
     "iopub.status.busy": "2025-05-16T14:47:59.691353Z",
     "iopub.status.idle": "2025-05-16T14:47:59.709773Z",
     "shell.execute_reply": "2025-05-16T14:47:59.708885Z",
     "shell.execute_reply.started": "2025-05-16T14:47:59.691558Z"
    },
    "id": "T-ijbt5_bVvf",
    "trusted": true
   },
   "outputs": [],
   "source": [
    "tokenized_data=tokenized_data.remove_columns(\"__index_level_0__\")#present because of the pandas conversion"
   ]
  },
  {
   "cell_type": "code",
   "execution_count": 50,
   "metadata": {
    "execution": {
     "iopub.execute_input": "2025-05-16T14:47:59.712276Z",
     "iopub.status.busy": "2025-05-16T14:47:59.711993Z",
     "iopub.status.idle": "2025-05-16T14:48:05.066886Z",
     "shell.execute_reply": "2025-05-16T14:48:05.066187Z",
     "shell.execute_reply.started": "2025-05-16T14:47:59.712246Z"
    },
    "id": "MeuWKJNKBnbR",
    "outputId": "8c0c009e-a943-40f0-b162-5971b2a96848",
    "trusted": true
   },
   "outputs": [
    {
     "data": {
      "application/vnd.jupyter.widget-view+json": {
       "model_id": "d39c860d5ec64e7aa578e9c2718b20a2",
       "version_major": 2,
       "version_minor": 0
      },
      "text/plain": [
       "Map:   0%|          | 0/51200 [00:00<?, ? examples/s]"
      ]
     },
     "metadata": {},
     "output_type": "display_data"
    },
    {
     "data": {
      "application/vnd.jupyter.widget-view+json": {
       "model_id": "8043ff13c9b743138b88828b6daa07d5",
       "version_major": 2,
       "version_minor": 0
      },
      "text/plain": [
       "Map:   0%|          | 0/12800 [00:00<?, ? examples/s]"
      ]
     },
     "metadata": {},
     "output_type": "display_data"
    },
    {
     "data": {
      "application/vnd.jupyter.widget-view+json": {
       "model_id": "7a75474a2b4a4372bb666837a078c38f",
       "version_major": 2,
       "version_minor": 0
      },
      "text/plain": [
       "Map:   0%|          | 0/16000 [00:00<?, ? examples/s]"
      ]
     },
     "metadata": {},
     "output_type": "display_data"
    }
   ],
   "source": [
    "tokenized_data = tokenized_data.map(lambda x: {\"label\": x[\"space_label\"]}, remove_columns=[\"space_label\"])#rename the column"
   ]
  },
  {
   "cell_type": "code",
   "execution_count": 51,
   "metadata": {
    "execution": {
     "iopub.execute_input": "2025-05-16T14:48:05.067904Z",
     "iopub.status.busy": "2025-05-16T14:48:05.067650Z",
     "iopub.status.idle": "2025-05-16T14:48:05.075312Z",
     "shell.execute_reply": "2025-05-16T14:48:05.074589Z",
     "shell.execute_reply.started": "2025-05-16T14:48:05.067875Z"
    },
    "id": "RE0QX5HrCSb9",
    "outputId": "b22a5604-01a7-49f6-8a60-43c8678e0ce0",
    "trusted": true
   },
   "outputs": [
    {
     "data": {
      "text/plain": [
       "dict_keys(['solution_code', 'input_ids', 'attention_mask', 'label'])"
      ]
     },
     "execution_count": 51,
     "metadata": {},
     "output_type": "execute_result"
    }
   ],
   "source": [
    "tokenized_data[\"train\"][0].keys()"
   ]
  },
  {
   "cell_type": "code",
   "execution_count": 53,
   "metadata": {
    "execution": {
     "iopub.execute_input": "2025-05-16T14:48:05.095647Z",
     "iopub.status.busy": "2025-05-16T14:48:05.095439Z",
     "iopub.status.idle": "2025-05-16T14:48:05.113201Z",
     "shell.execute_reply": "2025-05-16T14:48:05.112511Z",
     "shell.execute_reply.started": "2025-05-16T14:48:05.095631Z"
    },
    "id": "E5Y7ApGFUZEQ",
    "outputId": "a2cff0ab-4aa4-4af4-d15e-8827c5254835",
    "trusted": true
   },
   "outputs": [
    {
     "name": "stdout",
     "output_type": "stream",
     "text": [
      "Max len:  512\n",
      "Time label:  6\n",
      "Tokenized data:  [0, 506, 5457, 48081, 50118, 1990, 939, 11, 1186, 1640, 245, 3256, 50118, 1437, 1437, 1437, 3023, 5457, 8135, 49123, 44154, 45803, 128, 43, 50118, 1437, 1437, 1437, 114, 128, 134, 108, 11, 3023, 35, 50118, 1437, 1437, 1437, 1437, 1437, 1437, 1437, 856, 5457, 646, 118, 6, 3023, 4, 18480, 45803, 134, 27645, 742, 50118, 1437, 1437, 1437, 1437, 1437, 1437, 1437, 1108, 50118, 17265, 1640, 10155, 1640, 176, 12, 506, 10975, 288, 45587, 2055, 15428, 1640, 176, 12, 506, 10975, 134, 742, 35122, 2, 1, 1, 1, 1, 1, 1, 1, 1, 1, 1, 1, 1, 1, 1, 1, 1, 1, 1, 1, 1, 1, 1, 1, 1, 1, 1, 1, 1, 1, 1, 1, 1, 1, 1, 1, 1, 1, 1, 1, 1, 1, 1, 1, 1, 1, 1, 1, 1, 1, 1, 1, 1, 1, 1, 1, 1, 1, 1, 1, 1, 1, 1, 1, 1, 1, 1, 1, 1, 1, 1, 1, 1, 1, 1, 1, 1, 1, 1, 1, 1, 1, 1, 1, 1, 1, 1, 1, 1, 1, 1, 1, 1, 1, 1, 1, 1, 1, 1, 1, 1, 1, 1, 1, 1, 1, 1, 1, 1, 1, 1, 1, 1, 1, 1, 1, 1, 1, 1, 1, 1, 1, 1, 1, 1, 1, 1, 1, 1, 1, 1, 1, 1, 1, 1, 1, 1, 1, 1, 1, 1, 1, 1, 1, 1, 1, 1, 1, 1, 1, 1, 1, 1, 1, 1, 1, 1, 1, 1, 1, 1, 1, 1, 1, 1, 1, 1, 1, 1, 1, 1, 1, 1, 1, 1, 1, 1, 1, 1, 1, 1, 1, 1, 1, 1, 1, 1, 1, 1, 1, 1, 1, 1, 1, 1, 1, 1, 1, 1, 1, 1, 1, 1, 1, 1, 1, 1, 1, 1, 1, 1, 1, 1, 1, 1, 1, 1, 1, 1, 1, 1, 1, 1, 1, 1, 1, 1, 1, 1, 1, 1, 1, 1, 1, 1, 1, 1, 1, 1, 1, 1, 1, 1, 1, 1, 1, 1, 1, 1, 1, 1, 1, 1, 1, 1, 1, 1, 1, 1, 1, 1, 1, 1, 1, 1, 1, 1, 1, 1, 1, 1, 1, 1, 1, 1, 1, 1, 1, 1, 1, 1, 1, 1, 1, 1, 1, 1, 1, 1, 1, 1, 1, 1, 1, 1, 1, 1, 1, 1, 1, 1, 1, 1, 1, 1, 1, 1, 1, 1, 1, 1, 1, 1, 1, 1, 1, 1, 1, 1, 1, 1, 1, 1, 1, 1, 1, 1, 1, 1, 1, 1, 1, 1, 1, 1, 1, 1, 1, 1, 1, 1, 1, 1, 1, 1, 1, 1, 1, 1, 1, 1, 1, 1, 1, 1, 1, 1, 1, 1, 1, 1, 1, 1, 1, 1, 1, 1, 1, 1, 1, 1, 1, 1, 1, 1, 1, 1, 1, 1, 1, 1, 1, 1, 1, 1, 1, 1, 1, 1, 1, 1, 1, 1, 1, 1, 1, 1, 1, 1, 1, 1, 1, 1, 1, 1, 1, 1, 1, 1, 1, 1, 1, 1, 1, 1, 1, 1, 1, 1, 1, 1, 1, 1, 1, 1, 1, 1]\n"
     ]
    }
   ],
   "source": [
    "\n",
    "print(\"Max len: \",len(tokenized_data[\"train\"][0][\"input_ids\"]))\n",
    "print(\"Time label: \", tokenized_data[\"train\"][0][\"label\"])\n",
    "print(\"Tokenized data: \",tokenized_data[\"train\"][0][\"input_ids\"])"
   ]
  },
  {
   "cell_type": "code",
   "execution_count": 54,
   "metadata": {
    "execution": {
     "iopub.execute_input": "2025-05-16T14:48:05.114923Z",
     "iopub.status.busy": "2025-05-16T14:48:05.114698Z",
     "iopub.status.idle": "2025-05-16T14:48:05.130581Z",
     "shell.execute_reply": "2025-05-16T14:48:05.129738Z",
     "shell.execute_reply.started": "2025-05-16T14:48:05.114907Z"
    },
    "id": "axTgNPT3VagV",
    "outputId": "e5ecd129-a810-4d06-97be-b13601d4bfed",
    "trusted": true
   },
   "outputs": [
    {
     "name": "stdout",
     "output_type": "stream",
     "text": [
      "<s>f = []\n",
      "for i in range(5):\n",
      "    x = input().split(' ')\n",
      "    if '1' in x:\n",
      "        f = [i, x.index('1')]\n",
      "        break\n",
      "print(abs(2-f[0]) + abs(2-f[1]))</s><pad><pad><pad><pad><pad><pad><pad><pad><pad><pad><pad><pad><pad><pad><pad><pad><pad><pad><pad><pad><pad><pad><pad><pad><pad><pad><pad><pad><pad><pad><pad><pad><pad><pad><pad><pad><pad><pad><pad><pad><pad><pad><pad><pad><pad><pad><pad><pad><pad><pad><pad><pad><pad><pad><pad><pad><pad><pad><pad><pad><pad><pad><pad><pad><pad><pad><pad><pad><pad><pad><pad><pad><pad><pad><pad><pad><pad><pad><pad><pad><pad><pad><pad><pad><pad><pad><pad><pad><pad><pad><pad><pad><pad><pad><pad><pad><pad><pad><pad><pad><pad><pad><pad><pad><pad><pad><pad><pad><pad><pad><pad><pad><pad><pad><pad><pad><pad><pad><pad><pad><pad><pad><pad><pad><pad><pad><pad><pad><pad><pad><pad><pad><pad><pad><pad><pad><pad><pad><pad><pad><pad><pad><pad><pad><pad><pad><pad><pad><pad><pad><pad><pad><pad><pad><pad><pad><pad><pad><pad><pad><pad><pad><pad><pad><pad><pad><pad><pad><pad><pad><pad><pad><pad><pad><pad><pad><pad><pad><pad><pad><pad><pad><pad><pad><pad><pad><pad><pad><pad><pad><pad><pad><pad><pad><pad><pad><pad><pad><pad><pad><pad><pad><pad><pad><pad><pad><pad><pad><pad><pad><pad><pad><pad><pad><pad><pad><pad><pad><pad><pad><pad><pad><pad><pad><pad><pad><pad><pad><pad><pad><pad><pad><pad><pad><pad><pad><pad><pad><pad><pad><pad><pad><pad><pad><pad><pad><pad><pad><pad><pad><pad><pad><pad><pad><pad><pad><pad><pad><pad><pad><pad><pad><pad><pad><pad><pad><pad><pad><pad><pad><pad><pad><pad><pad><pad><pad><pad><pad><pad><pad><pad><pad><pad><pad><pad><pad><pad><pad><pad><pad><pad><pad><pad><pad><pad><pad><pad><pad><pad><pad><pad><pad><pad><pad><pad><pad><pad><pad><pad><pad><pad><pad><pad><pad><pad><pad><pad><pad><pad><pad><pad><pad><pad><pad><pad><pad><pad><pad><pad><pad><pad><pad><pad><pad><pad><pad><pad><pad><pad><pad><pad><pad><pad><pad><pad><pad><pad><pad><pad><pad><pad><pad><pad><pad><pad><pad><pad><pad><pad><pad><pad><pad><pad><pad><pad><pad><pad><pad><pad><pad><pad><pad><pad><pad><pad><pad><pad><pad><pad><pad><pad><pad><pad><pad><pad><pad><pad><pad><pad><pad><pad><pad><pad><pad><pad><pad><pad><pad><pad><pad><pad><pad><pad><pad><pad><pad><pad><pad><pad><pad><pad><pad><pad><pad><pad><pad><pad><pad><pad><pad><pad><pad><pad><pad><pad><pad>\n"
     ]
    }
   ],
   "source": [
    "print(tokenizer.decode(tokenized_data[\"train\"][0][\"input_ids\"])) #just have a look to the decoded soluton from input_ids"
   ]
  },
  {
   "cell_type": "markdown",
   "metadata": {
    "id": "yhXKpWfOjamB"
   },
   "source": [
    "### Training CodeBert Model"
   ]
  },
  {
   "cell_type": "code",
   "execution_count": 55,
   "metadata": {
    "execution": {
     "iopub.execute_input": "2025-05-16T14:48:18.238894Z",
     "iopub.status.busy": "2025-05-16T14:48:18.238214Z",
     "iopub.status.idle": "2025-05-16T14:48:18.268655Z",
     "shell.execute_reply": "2025-05-16T14:48:18.267967Z",
     "shell.execute_reply.started": "2025-05-16T14:48:18.238870Z"
    },
    "id": "l8zIBr8Sgyc0",
    "trusted": true
   },
   "outputs": [],
   "source": [
    "from transformers import RobertaModel, RobertaPreTrainedModel, RobertaConfig\n",
    "from transformers.modeling_outputs import SequenceClassifierOutput\n",
    "import torch.nn as nn\n",
    "import torch"
   ]
  },
  {
   "cell_type": "code",
   "execution_count": 56,
   "metadata": {
    "execution": {
     "iopub.execute_input": "2025-05-16T14:48:35.399027Z",
     "iopub.status.busy": "2025-05-16T14:48:35.398340Z",
     "iopub.status.idle": "2025-05-16T14:48:38.984084Z",
     "shell.execute_reply": "2025-05-16T14:48:38.983441Z",
     "shell.execute_reply.started": "2025-05-16T14:48:35.399000Z"
    },
    "trusted": true
   },
   "outputs": [
    {
     "name": "stdout",
     "output_type": "stream",
     "text": [
      "Number of Classes:  8\n"
     ]
    },
    {
     "data": {
      "application/vnd.jupyter.widget-view+json": {
       "model_id": "df5a78f70ddb483c8638177be15fdaaa",
       "version_major": 2,
       "version_minor": 0
      },
      "text/plain": [
       "pytorch_model.bin:   0%|          | 0.00/499M [00:00<?, ?B/s]"
      ]
     },
     "metadata": {},
     "output_type": "display_data"
    },
    {
     "name": "stderr",
     "output_type": "stream",
     "text": [
      "Some weights of RobertaForSequenceClassification were not initialized from the model checkpoint at microsoft/codebert-base and are newly initialized: ['classifier.dense.bias', 'classifier.dense.weight', 'classifier.out_proj.bias', 'classifier.out_proj.weight']\n",
      "You should probably TRAIN this model on a down-stream task to be able to use it for predictions and inference.\n"
     ]
    },
    {
     "name": "stdout",
     "output_type": "stream",
     "text": [
      "RobertaForSequenceClassification(\n",
      "  (roberta): RobertaModel(\n",
      "    (embeddings): RobertaEmbeddings(\n",
      "      (word_embeddings): Embedding(50265, 768, padding_idx=1)\n",
      "      (position_embeddings): Embedding(514, 768, padding_idx=1)\n",
      "      (token_type_embeddings): Embedding(1, 768)\n",
      "      (LayerNorm): LayerNorm((768,), eps=1e-05, elementwise_affine=True)\n",
      "      (dropout): Dropout(p=0.1, inplace=False)\n",
      "    )\n",
      "    (encoder): RobertaEncoder(\n",
      "      (layer): ModuleList(\n",
      "        (0-11): 12 x RobertaLayer(\n",
      "          (attention): RobertaAttention(\n",
      "            (self): RobertaSdpaSelfAttention(\n",
      "              (query): Linear(in_features=768, out_features=768, bias=True)\n",
      "              (key): Linear(in_features=768, out_features=768, bias=True)\n",
      "              (value): Linear(in_features=768, out_features=768, bias=True)\n",
      "              (dropout): Dropout(p=0.1, inplace=False)\n",
      "            )\n",
      "            (output): RobertaSelfOutput(\n",
      "              (dense): Linear(in_features=768, out_features=768, bias=True)\n",
      "              (LayerNorm): LayerNorm((768,), eps=1e-05, elementwise_affine=True)\n",
      "              (dropout): Dropout(p=0.1, inplace=False)\n",
      "            )\n",
      "          )\n",
      "          (intermediate): RobertaIntermediate(\n",
      "            (dense): Linear(in_features=768, out_features=3072, bias=True)\n",
      "            (intermediate_act_fn): GELUActivation()\n",
      "          )\n",
      "          (output): RobertaOutput(\n",
      "            (dense): Linear(in_features=3072, out_features=768, bias=True)\n",
      "            (LayerNorm): LayerNorm((768,), eps=1e-05, elementwise_affine=True)\n",
      "            (dropout): Dropout(p=0.1, inplace=False)\n",
      "          )\n",
      "        )\n",
      "      )\n",
      "    )\n",
      "  )\n",
      "  (classifier): RobertaClassificationHead(\n",
      "    (dense): Linear(in_features=768, out_features=768, bias=True)\n",
      "    (dropout): Dropout(p=0.1, inplace=False)\n",
      "    (out_proj): Linear(in_features=768, out_features=8, bias=True)\n",
      "  )\n",
      ")\n"
     ]
    },
    {
     "data": {
      "application/vnd.jupyter.widget-view+json": {
       "model_id": "d2c002ae51e9416b8ac5685240ed70af",
       "version_major": 2,
       "version_minor": 0
      },
      "text/plain": [
       "model.safetensors:   0%|          | 0.00/499M [00:00<?, ?B/s]"
      ]
     },
     "metadata": {},
     "output_type": "display_data"
    }
   ],
   "source": [
    "from transformers import AutoTokenizer, AutoModelForSequenceClassification\n",
    "\n",
    "# Numero di classi\n",
    "num_labels = len(time_encoder.classes_)\n",
    "print(\"Number of Classes: \", num_labels)\n",
    "\n",
    "# Nome del modello preaddestrato\n",
    "model_name = \"microsoft/codebert-base\"\n",
    "\n",
    "# Modello con classificazione (es. n classi)\n",
    "space_model = AutoModelForSequenceClassification.from_pretrained(model_name, num_labels=num_labels)\n",
    "print(space_model)"
   ]
  },
  {
   "cell_type": "code",
   "execution_count": 57,
   "metadata": {
    "execution": {
     "iopub.execute_input": "2025-05-16T14:48:53.803227Z",
     "iopub.status.busy": "2025-05-16T14:48:53.802933Z",
     "iopub.status.idle": "2025-05-16T14:48:53.812122Z",
     "shell.execute_reply": "2025-05-16T14:48:53.811123Z",
     "shell.execute_reply.started": "2025-05-16T14:48:53.803210Z"
    },
    "id": "jYVR8PxqVR6R",
    "outputId": "8a705c8b-d199-40ba-b044-3cc506dffed8",
    "trusted": true
   },
   "outputs": [
    {
     "name": "stdout",
     "output_type": "stream",
     "text": [
      "Total parameters: 124,651,784\n",
      "Trainable parameters: 124,651,784\n"
     ]
    },
    {
     "data": {
      "text/plain": [
       "(124651784, 124651784)"
      ]
     },
     "execution_count": 57,
     "metadata": {},
     "output_type": "execute_result"
    }
   ],
   "source": [
    "def count_trainable_parameters(model):\n",
    "    total_params = sum(p.numel() for p in model.parameters())\n",
    "    trainable_params = sum(p.numel() for p in model.parameters() if p.requires_grad)\n",
    "    print(f\"Total parameters: {total_params:,}\")\n",
    "    print(f\"Trainable parameters: {trainable_params:,}\")\n",
    "    return total_params, trainable_params\n",
    "\n",
    "# Esegui la funzione sul tuo modello\n",
    "count_trainable_parameters(space_model)"
   ]
  },
  {
   "cell_type": "code",
   "execution_count": null,
   "metadata": {
    "id": "PgW3GHQAVZjX",
    "trusted": true
   },
   "outputs": [],
   "source": [
    "'''for name, param in time_model.roberta.named_parameters():\n",
    "    if \"layer\" in name:\n",
    "        # Sblocca gli ultimi 2-4 layer (ad esempio)\n",
    "        layer_number = int(name.split('.')[2])  # Estrai il numero del layer\n",
    "        if layer_number >= 7:  # Sblocca layer da 10 in poi\n",
    "            param.requires_grad = True\n",
    "        else:\n",
    "            param.requires_grad = False\n",
    "    elif \"pooler\" in name:\n",
    "        param.requires_grad = True\n",
    "    else:\n",
    "        param.requires_grad = False  # Congela altri parametri'''"
   ]
  },
  {
   "cell_type": "code",
   "execution_count": 58,
   "metadata": {
    "execution": {
     "iopub.execute_input": "2025-05-16T14:49:03.687981Z",
     "iopub.status.busy": "2025-05-16T14:49:03.687653Z",
     "iopub.status.idle": "2025-05-16T14:49:03.695031Z",
     "shell.execute_reply": "2025-05-16T14:49:03.694204Z",
     "shell.execute_reply.started": "2025-05-16T14:49:03.687961Z"
    },
    "id": "C6XL04tWWJHK",
    "outputId": "83329f1f-fbad-4d2f-c9c1-f2bb9ef35e90",
    "trusted": true
   },
   "outputs": [
    {
     "name": "stdout",
     "output_type": "stream",
     "text": [
      "Total parameters: 124,651,784\n",
      "Trainable parameters: 124,651,784\n"
     ]
    },
    {
     "data": {
      "text/plain": [
       "(124651784, 124651784)"
      ]
     },
     "execution_count": 58,
     "metadata": {},
     "output_type": "execute_result"
    }
   ],
   "source": [
    "count_trainable_parameters(space_model)"
   ]
  },
  {
   "cell_type": "code",
   "execution_count": 59,
   "metadata": {
    "execution": {
     "iopub.execute_input": "2025-05-16T14:49:06.052569Z",
     "iopub.status.busy": "2025-05-16T14:49:06.051895Z",
     "iopub.status.idle": "2025-05-16T14:49:06.056108Z",
     "shell.execute_reply": "2025-05-16T14:49:06.055187Z",
     "shell.execute_reply.started": "2025-05-16T14:49:06.052545Z"
    },
    "id": "OwJX9AUnU1RG",
    "trusted": true
   },
   "outputs": [],
   "source": [
    "import os\n",
    "os.environ[\"WANDB_DISABLED\"] = \"true\""
   ]
  },
  {
   "cell_type": "code",
   "execution_count": 60,
   "metadata": {
    "execution": {
     "iopub.execute_input": "2025-05-16T14:49:08.732571Z",
     "iopub.status.busy": "2025-05-16T14:49:08.732309Z",
     "iopub.status.idle": "2025-05-16T14:49:08.737140Z",
     "shell.execute_reply": "2025-05-16T14:49:08.736356Z",
     "shell.execute_reply.started": "2025-05-16T14:49:08.732553Z"
    },
    "trusted": true
   },
   "outputs": [
    {
     "name": "stdout",
     "output_type": "stream",
     "text": [
      "4.51.3\n"
     ]
    }
   ],
   "source": [
    "import transformers\n",
    "print(transformers.__version__)"
   ]
  },
  {
   "cell_type": "code",
   "execution_count": 61,
   "metadata": {
    "execution": {
     "iopub.execute_input": "2025-05-16T14:49:11.294401Z",
     "iopub.status.busy": "2025-05-16T14:49:11.293662Z",
     "iopub.status.idle": "2025-05-16T14:49:21.947086Z",
     "shell.execute_reply": "2025-05-16T14:49:21.946039Z",
     "shell.execute_reply.started": "2025-05-16T14:49:11.294378Z"
    },
    "trusted": true
   },
   "outputs": [
    {
     "name": "stderr",
     "output_type": "stream",
     "text": [
      "huggingface/tokenizers: The current process just got forked, after parallelism has already been used. Disabling parallelism to avoid deadlocks...\n",
      "To disable this warning, you can either:\n",
      "\t- Avoid using `tokenizers` before the fork if possible\n",
      "\t- Explicitly set the environment variable TOKENIZERS_PARALLELISM=(true | false)\n"
     ]
    },
    {
     "name": "stdout",
     "output_type": "stream",
     "text": [
      "Collecting transformers==4.28.0\n",
      "  Downloading transformers-4.28.0-py3-none-any.whl.metadata (109 kB)\n",
      "\u001b[2K     \u001b[90m━━━━━━━━━━━━━━━━━━━━━━━━━━━━━━━━━━━━━━━━\u001b[0m \u001b[32m110.0/110.0 kB\u001b[0m \u001b[31m2.8 MB/s\u001b[0m eta \u001b[36m0:00:00\u001b[0ma \u001b[36m0:00:01\u001b[0m\n",
      "\u001b[?25hRequirement already satisfied: filelock in /usr/local/lib/python3.11/dist-packages (from transformers==4.28.0) (3.18.0)\n",
      "Requirement already satisfied: huggingface-hub<1.0,>=0.11.0 in /usr/local/lib/python3.11/dist-packages (from transformers==4.28.0) (0.31.1)\n",
      "Requirement already satisfied: numpy>=1.17 in /usr/local/lib/python3.11/dist-packages (from transformers==4.28.0) (1.26.4)\n",
      "Requirement already satisfied: packaging>=20.0 in /usr/local/lib/python3.11/dist-packages (from transformers==4.28.0) (25.0)\n",
      "Requirement already satisfied: pyyaml>=5.1 in /usr/local/lib/python3.11/dist-packages (from transformers==4.28.0) (6.0.2)\n",
      "Requirement already satisfied: regex!=2019.12.17 in /usr/local/lib/python3.11/dist-packages (from transformers==4.28.0) (2024.11.6)\n",
      "Requirement already satisfied: requests in /usr/local/lib/python3.11/dist-packages (from transformers==4.28.0) (2.32.3)\n",
      "Collecting tokenizers!=0.11.3,<0.14,>=0.11.1 (from transformers==4.28.0)\n",
      "  Downloading tokenizers-0.13.3-cp311-cp311-manylinux_2_17_x86_64.manylinux2014_x86_64.whl.metadata (6.7 kB)\n",
      "Requirement already satisfied: tqdm>=4.27 in /usr/local/lib/python3.11/dist-packages (from transformers==4.28.0) (4.67.1)\n",
      "Requirement already satisfied: fsspec>=2023.5.0 in /usr/local/lib/python3.11/dist-packages (from huggingface-hub<1.0,>=0.11.0->transformers==4.28.0) (2025.3.0)\n",
      "Requirement already satisfied: typing-extensions>=3.7.4.3 in /usr/local/lib/python3.11/dist-packages (from huggingface-hub<1.0,>=0.11.0->transformers==4.28.0) (4.13.2)\n",
      "Requirement already satisfied: hf-xet<2.0.0,>=1.1.0 in /usr/local/lib/python3.11/dist-packages (from huggingface-hub<1.0,>=0.11.0->transformers==4.28.0) (1.1.0)\n",
      "Requirement already satisfied: mkl_fft in /usr/local/lib/python3.11/dist-packages (from numpy>=1.17->transformers==4.28.0) (1.3.8)\n",
      "Requirement already satisfied: mkl_random in /usr/local/lib/python3.11/dist-packages (from numpy>=1.17->transformers==4.28.0) (1.2.4)\n",
      "Requirement already satisfied: mkl_umath in /usr/local/lib/python3.11/dist-packages (from numpy>=1.17->transformers==4.28.0) (0.1.1)\n",
      "Requirement already satisfied: mkl in /usr/local/lib/python3.11/dist-packages (from numpy>=1.17->transformers==4.28.0) (2025.1.0)\n",
      "Requirement already satisfied: tbb4py in /usr/local/lib/python3.11/dist-packages (from numpy>=1.17->transformers==4.28.0) (2022.1.0)\n",
      "Requirement already satisfied: mkl-service in /usr/local/lib/python3.11/dist-packages (from numpy>=1.17->transformers==4.28.0) (2.4.1)\n",
      "Requirement already satisfied: charset-normalizer<4,>=2 in /usr/local/lib/python3.11/dist-packages (from requests->transformers==4.28.0) (3.4.2)\n",
      "Requirement already satisfied: idna<4,>=2.5 in /usr/local/lib/python3.11/dist-packages (from requests->transformers==4.28.0) (3.10)\n",
      "Requirement already satisfied: urllib3<3,>=1.21.1 in /usr/local/lib/python3.11/dist-packages (from requests->transformers==4.28.0) (2.4.0)\n",
      "Requirement already satisfied: certifi>=2017.4.17 in /usr/local/lib/python3.11/dist-packages (from requests->transformers==4.28.0) (2025.4.26)\n",
      "Requirement already satisfied: intel-openmp<2026,>=2024 in /usr/local/lib/python3.11/dist-packages (from mkl->numpy>=1.17->transformers==4.28.0) (2024.2.0)\n",
      "Requirement already satisfied: tbb==2022.* in /usr/local/lib/python3.11/dist-packages (from mkl->numpy>=1.17->transformers==4.28.0) (2022.1.0)\n",
      "Requirement already satisfied: tcmlib==1.* in /usr/local/lib/python3.11/dist-packages (from tbb==2022.*->mkl->numpy>=1.17->transformers==4.28.0) (1.3.0)\n",
      "Requirement already satisfied: intel-cmplr-lib-rt in /usr/local/lib/python3.11/dist-packages (from mkl_umath->numpy>=1.17->transformers==4.28.0) (2024.2.0)\n",
      "Requirement already satisfied: intel-cmplr-lib-ur==2024.2.0 in /usr/local/lib/python3.11/dist-packages (from intel-openmp<2026,>=2024->mkl->numpy>=1.17->transformers==4.28.0) (2024.2.0)\n",
      "Downloading transformers-4.28.0-py3-none-any.whl (7.0 MB)\n",
      "\u001b[2K   \u001b[90m━━━━━━━━━━━━━━━━━━━━━━━━━━━━━━━━━━━━━━━━\u001b[0m \u001b[32m7.0/7.0 MB\u001b[0m \u001b[31m68.7 MB/s\u001b[0m eta \u001b[36m0:00:00\u001b[0m:00:01\u001b[0m0:01\u001b[0m\n",
      "\u001b[?25hDownloading tokenizers-0.13.3-cp311-cp311-manylinux_2_17_x86_64.manylinux2014_x86_64.whl (7.8 MB)\n",
      "\u001b[2K   \u001b[90m━━━━━━━━━━━━━━━━━━━━━━━━━━━━━━━━━━━━━━━━\u001b[0m \u001b[32m7.8/7.8 MB\u001b[0m \u001b[31m97.0 MB/s\u001b[0m eta \u001b[36m0:00:00\u001b[0m:00:01\u001b[0m00:01\u001b[0m\n",
      "\u001b[?25hInstalling collected packages: tokenizers, transformers\n",
      "  Attempting uninstall: tokenizers\n",
      "    Found existing installation: tokenizers 0.21.1\n",
      "    Uninstalling tokenizers-0.21.1:\n",
      "      Successfully uninstalled tokenizers-0.21.1\n",
      "  Attempting uninstall: transformers\n",
      "    Found existing installation: transformers 4.51.3\n",
      "    Uninstalling transformers-4.51.3:\n",
      "      Successfully uninstalled transformers-4.51.3\n",
      "\u001b[31mERROR: pip's dependency resolver does not currently take into account all the packages that are installed. This behaviour is the source of the following dependency conflicts.\n",
      "kaggle-environments 1.16.11 requires transformers>=4.33.1, but you have transformers 4.28.0 which is incompatible.\n",
      "sentence-transformers 3.4.1 requires transformers<5.0.0,>=4.41.0, but you have transformers 4.28.0 which is incompatible.\u001b[0m\u001b[31m\n",
      "\u001b[0mSuccessfully installed tokenizers-0.13.3 transformers-4.28.0\n"
     ]
    }
   ],
   "source": [
    "#!pip uninstall transformers -y\n",
    "!pip install transformers==4.28.0\n",
    "from transformers import TrainingArguments"
   ]
  },
  {
   "cell_type": "code",
   "execution_count": 63,
   "metadata": {
    "execution": {
     "iopub.execute_input": "2025-05-16T14:49:43.726258Z",
     "iopub.status.busy": "2025-05-16T14:49:43.725987Z",
     "iopub.status.idle": "2025-05-16T14:49:43.766489Z",
     "shell.execute_reply": "2025-05-16T14:49:43.765934Z",
     "shell.execute_reply.started": "2025-05-16T14:49:43.726239Z"
    },
    "id": "hSrvKOGbiUkD",
    "outputId": "22584abf-c6f5-423d-cae1-befd243f8360",
    "trusted": true
   },
   "outputs": [],
   "source": [
    "from transformers import TrainingArguments, EarlyStoppingCallback\n",
    "\n",
    "training_args = TrainingArguments(\n",
    "    output_dir=\"/kaggle/working/results\",\n",
    "    eval_strategy=\"steps\",      # Valuta ogni X step\n",
    "    save_strategy=\"steps\",            # Salva ogni X step\n",
    "    eval_steps=500,\n",
    "    save_steps=500,\n",
    "    load_best_model_at_end=True,\n",
    "    metric_for_best_model=\"eval_loss\",\n",
    "    greater_is_better=False,          # Eval loss → più basso è meglio\n",
    "    per_device_train_batch_size=16,\n",
    "    per_device_eval_batch_size=16,\n",
    "    num_train_epochs=5,\n",
    "    learning_rate=1e-4,\n",
    "    weight_decay=0.01,\n",
    "    logging_dir=\"./logs\",\n",
    "    logging_steps=50,\n",
    "    save_total_limit=2,\n",
    "    fp16=True,\n",
    "    report_to=\"none\"\n",
    ")\n"
   ]
  },
  {
   "cell_type": "code",
   "execution_count": 64,
   "metadata": {
    "execution": {
     "iopub.execute_input": "2025-05-16T14:49:55.260102Z",
     "iopub.status.busy": "2025-05-16T14:49:55.259327Z",
     "iopub.status.idle": "2025-05-16T14:49:55.264529Z",
     "shell.execute_reply": "2025-05-16T14:49:55.263759Z",
     "shell.execute_reply.started": "2025-05-16T14:49:55.260079Z"
    },
    "id": "UQHDGfmK90il",
    "trusted": true
   },
   "outputs": [],
   "source": [
    "from sklearn.metrics import precision_recall_fscore_support, accuracy_score\n",
    "\n",
    "def compute_metrics(pred):\n",
    "    labels = pred.label_ids\n",
    "    preds = pred.predictions.argmax(-1)\n",
    "    precision, recall, f1, _ = precision_recall_fscore_support(labels, preds, average='weighted')\n",
    "    acc = accuracy_score(labels, preds)\n",
    "    return {\n",
    "        'accuracy': acc,\n",
    "        'precision': precision,\n",
    "        'recall': recall,\n",
    "        'f1': f1,\n",
    "    }\n"
   ]
  },
  {
   "cell_type": "code",
   "execution_count": 65,
   "metadata": {
    "execution": {
     "iopub.execute_input": "2025-05-16T14:50:06.593290Z",
     "iopub.status.busy": "2025-05-16T14:50:06.592662Z",
     "iopub.status.idle": "2025-05-16T14:50:06.943364Z",
     "shell.execute_reply": "2025-05-16T14:50:06.942826Z",
     "shell.execute_reply.started": "2025-05-16T14:50:06.593267Z"
    },
    "id": "itWQYyQAlpq0",
    "outputId": "f937698b-74ed-4910-db4a-b970791aaea9",
    "trusted": true
   },
   "outputs": [
    {
     "name": "stderr",
     "output_type": "stream",
     "text": [
      "/tmp/ipykernel_99/737934255.py:1: FutureWarning: `tokenizer` is deprecated and will be removed in version 5.0.0 for `Trainer.__init__`. Use `processing_class` instead.\n",
      "  trainer = Trainer(\n"
     ]
    }
   ],
   "source": [
    "trainer = Trainer(\n",
    "    model=space_model,\n",
    "    args=training_args,\n",
    "    train_dataset=tokenized_data['train'],\n",
    "    eval_dataset=tokenized_data['validation'],\n",
    "    compute_metrics=compute_metrics,\n",
    "    tokenizer=tokenizer,\n",
    "    callbacks=[EarlyStoppingCallback(early_stopping_patience=3)]\n",
    "  )"
   ]
  },
  {
   "cell_type": "code",
   "execution_count": null,
   "metadata": {
    "execution": {
     "iopub.execute_input": "2025-05-16T14:50:14.965799Z",
     "iopub.status.busy": "2025-05-16T14:50:14.965042Z"
    },
    "id": "hQITatKEAkK3",
    "outputId": "ead48120-139e-4cce-9d17-6af528942dcb",
    "trusted": true
   },
   "outputs": [
    {
     "name": "stderr",
     "output_type": "stream",
     "text": [
      "/usr/local/lib/python3.11/dist-packages/torch/nn/parallel/_functions.py:70: UserWarning: Was asked to gather along dimension 0, but all input tensors were scalars; will instead unsqueeze and return a vector.\n",
      "  warnings.warn(\n"
     ]
    },
    {
     "data": {
      "text/html": [
       "\n",
       "    <div>\n",
       "      \n",
       "      <progress value='2193' max='8000' style='width:300px; height:20px; vertical-align: middle;'></progress>\n",
       "      [2193/8000 1:17:40 < 3:25:51, 0.47 it/s, Epoch 1.37/5]\n",
       "    </div>\n",
       "    <table border=\"1\" class=\"dataframe\">\n",
       "  <thead>\n",
       " <tr style=\"text-align: left;\">\n",
       "      <th>Step</th>\n",
       "      <th>Training Loss</th>\n",
       "      <th>Validation Loss</th>\n",
       "      <th>Accuracy</th>\n",
       "      <th>Precision</th>\n",
       "      <th>Recall</th>\n",
       "      <th>F1</th>\n",
       "    </tr>\n",
       "  </thead>\n",
       "  <tbody>\n",
       "    <tr>\n",
       "      <td>500</td>\n",
       "      <td>1.346600</td>\n",
       "      <td>1.297510</td>\n",
       "      <td>0.531328</td>\n",
       "      <td>0.611211</td>\n",
       "      <td>0.531328</td>\n",
       "      <td>0.537957</td>\n",
       "    </tr>\n",
       "    <tr>\n",
       "      <td>1000</td>\n",
       "      <td>1.201000</td>\n",
       "      <td>1.134157</td>\n",
       "      <td>0.592187</td>\n",
       "      <td>0.619910</td>\n",
       "      <td>0.592187</td>\n",
       "      <td>0.591714</td>\n",
       "    </tr>\n",
       "    <tr>\n",
       "      <td>1500</td>\n",
       "      <td>1.114000</td>\n",
       "      <td>1.014635</td>\n",
       "      <td>0.645312</td>\n",
       "      <td>0.656778</td>\n",
       "      <td>0.645312</td>\n",
       "      <td>0.644715</td>\n",
       "    </tr>\n",
       "    <tr>\n",
       "      <td>2000</td>\n",
       "      <td>0.994500</td>\n",
       "      <td>0.986840</td>\n",
       "      <td>0.659219</td>\n",
       "      <td>0.671868</td>\n",
       "      <td>0.659219</td>\n",
       "      <td>0.660267</td>\n",
       "    </tr>\n",
       "  </tbody>\n",
       "</table><p>"
      ],
      "text/plain": [
       "<IPython.core.display.HTML object>"
      ]
     },
     "metadata": {},
     "output_type": "display_data"
    },
    {
     "name": "stderr",
     "output_type": "stream",
     "text": [
      "/usr/local/lib/python3.11/dist-packages/torch/nn/parallel/_functions.py:70: UserWarning: Was asked to gather along dimension 0, but all input tensors were scalars; will instead unsqueeze and return a vector.\n",
      "  warnings.warn(\n",
      "/usr/local/lib/python3.11/dist-packages/torch/nn/parallel/_functions.py:70: UserWarning: Was asked to gather along dimension 0, but all input tensors were scalars; will instead unsqueeze and return a vector.\n",
      "  warnings.warn(\n",
      "/usr/local/lib/python3.11/dist-packages/torch/nn/parallel/_functions.py:70: UserWarning: Was asked to gather along dimension 0, but all input tensors were scalars; will instead unsqueeze and return a vector.\n",
      "  warnings.warn(\n",
      "/usr/local/lib/python3.11/dist-packages/torch/nn/parallel/_functions.py:70: UserWarning: Was asked to gather along dimension 0, but all input tensors were scalars; will instead unsqueeze and return a vector.\n",
      "  warnings.warn(\n"
     ]
    }
   ],
   "source": [
    "trainer.train()"
   ]
  },
  {
   "cell_type": "code",
   "execution_count": null,
   "metadata": {
    "id": "o0sxqSKcd6oH",
    "trusted": true
   },
   "outputs": [],
   "source": [
    "# Salva il modello\n",
    "model_path = '/kaggle/working/codebert_large_finetuned'  # Percorso dove salvare il modello\n",
    "space_model.save_pretrained(model_path)\n",
    "# Salva anche il tokenizer (per usarlo successivamente)\n",
    "tokenizer.save_pretrained(model_path)\n"
   ]
  },
  {
   "cell_type": "code",
   "execution_count": null,
   "metadata": {
    "trusted": true
   },
   "outputs": [],
   "source": [
    "!zip -r codbert_large_finetuned.zip /kaggle/working/codebert_large_finetuned"
   ]
  },
  {
   "cell_type": "code",
   "execution_count": null,
   "metadata": {
    "trusted": true
   },
   "outputs": [],
   "source": [
    "import shutil\n",
    "shutil.make_archive(\"/kaggle/working/results_archive\", 'zip', \"/kaggle/working/results\")"
   ]
  },
  {
   "cell_type": "code",
   "execution_count": null,
   "metadata": {
    "trusted": true
   },
   "outputs": [],
   "source": [
    "import shutil\n",
    "shutil.make_archive(\"/kaggle/working/codebert_large_finetuned\", 'zip', \"/kaggle/working/codebert_large_finetuned\")"
   ]
  },
  {
   "cell_type": "markdown",
   "metadata": {
    "id": "ZvV61YT7kkoY"
   },
   "source": [
    "### CodeBert Model Evaluation"
   ]
  },
  {
   "cell_type": "code",
   "execution_count": 110,
   "metadata": {
    "execution": {
     "iopub.execute_input": "2025-05-17T15:49:49.660441Z",
     "iopub.status.busy": "2025-05-17T15:49:49.659962Z",
     "iopub.status.idle": "2025-05-17T15:49:49.667026Z",
     "shell.execute_reply": "2025-05-17T15:49:49.666247Z",
     "shell.execute_reply.started": "2025-05-17T15:49:49.660421Z"
    },
    "id": "AKpXCV24V_3c",
    "trusted": true
   },
   "outputs": [
    {
     "data": {
      "text/plain": [
       "RobertaForSequenceClassification(\n",
       "  (roberta): RobertaModel(\n",
       "    (embeddings): RobertaEmbeddings(\n",
       "      (word_embeddings): Embedding(50265, 768, padding_idx=1)\n",
       "      (position_embeddings): Embedding(514, 768, padding_idx=1)\n",
       "      (token_type_embeddings): Embedding(1, 768)\n",
       "      (LayerNorm): LayerNorm((768,), eps=1e-05, elementwise_affine=True)\n",
       "      (dropout): Dropout(p=0.1, inplace=False)\n",
       "    )\n",
       "    (encoder): RobertaEncoder(\n",
       "      (layer): ModuleList(\n",
       "        (0-11): 12 x RobertaLayer(\n",
       "          (attention): RobertaAttention(\n",
       "            (self): RobertaSdpaSelfAttention(\n",
       "              (query): Linear(in_features=768, out_features=768, bias=True)\n",
       "              (key): Linear(in_features=768, out_features=768, bias=True)\n",
       "              (value): Linear(in_features=768, out_features=768, bias=True)\n",
       "              (dropout): Dropout(p=0.1, inplace=False)\n",
       "            )\n",
       "            (output): RobertaSelfOutput(\n",
       "              (dense): Linear(in_features=768, out_features=768, bias=True)\n",
       "              (LayerNorm): LayerNorm((768,), eps=1e-05, elementwise_affine=True)\n",
       "              (dropout): Dropout(p=0.1, inplace=False)\n",
       "            )\n",
       "          )\n",
       "          (intermediate): RobertaIntermediate(\n",
       "            (dense): Linear(in_features=768, out_features=3072, bias=True)\n",
       "            (intermediate_act_fn): GELUActivation()\n",
       "          )\n",
       "          (output): RobertaOutput(\n",
       "            (dense): Linear(in_features=3072, out_features=768, bias=True)\n",
       "            (LayerNorm): LayerNorm((768,), eps=1e-05, elementwise_affine=True)\n",
       "            (dropout): Dropout(p=0.1, inplace=False)\n",
       "          )\n",
       "        )\n",
       "      )\n",
       "    )\n",
       "  )\n",
       "  (classifier): RobertaClassificationHead(\n",
       "    (dense): Linear(in_features=768, out_features=768, bias=True)\n",
       "    (dropout): Dropout(p=0.1, inplace=False)\n",
       "    (out_proj): Linear(in_features=768, out_features=8, bias=True)\n",
       "  )\n",
       ")"
      ]
     },
     "execution_count": 110,
     "metadata": {},
     "output_type": "execute_result"
    }
   ],
   "source": [
    "space_model.eval()"
   ]
  },
  {
   "cell_type": "code",
   "execution_count": 111,
   "metadata": {
    "execution": {
     "iopub.execute_input": "2025-05-17T15:49:49.668508Z",
     "iopub.status.busy": "2025-05-17T15:49:49.668315Z",
     "iopub.status.idle": "2025-05-17T15:54:48.157724Z",
     "shell.execute_reply": "2025-05-17T15:54:48.157035Z",
     "shell.execute_reply.started": "2025-05-17T15:49:49.668493Z"
    },
    "id": "ge2MAGw1MwZp",
    "trusted": true
   },
   "outputs": [
    {
     "name": "stderr",
     "output_type": "stream",
     "text": [
      "/usr/local/lib/python3.11/dist-packages/torch/nn/parallel/_functions.py:70: UserWarning: Was asked to gather along dimension 0, but all input tensors were scalars; will instead unsqueeze and return a vector.\n",
      "  warnings.warn(\n"
     ]
    },
    {
     "data": {
      "text/html": [],
      "text/plain": [
       "<IPython.core.display.HTML object>"
      ]
     },
     "metadata": {},
     "output_type": "display_data"
    },
    {
     "data": {
      "text/plain": [
       "PredictionOutput(predictions=array([[-1.9675996 , -3.060194  ,  2.486605  , ...,  4.9283695 ,\n",
       "        -1.9422324 ,  1.0200603 ],\n",
       "       [ 6.731412  , -0.4681141 ,  1.87253   , ..., -1.0490054 ,\n",
       "        -2.439162  , -2.8099666 ],\n",
       "       [ 2.381304  ,  6.3755016 ,  0.19779426, ..., -1.1229632 ,\n",
       "        -3.4231484 ,  0.20222175],\n",
       "       ...,\n",
       "       [-0.7640035 , -2.4134798 ,  1.7981637 , ..., -3.0724578 ,\n",
       "         6.00479   , -0.3545704 ],\n",
       "       [-1.7189455 , -2.5621057 ,  0.893293  , ...,  0.11041799,\n",
       "        -2.5000093 ,  4.4036713 ],\n",
       "       [-2.2855422 , -3.7347875 , -1.4683686 , ...,  2.4804294 ,\n",
       "        -1.528127  ,  2.8515415 ]], dtype=float32), label_ids=array([5, 0, 1, ..., 6, 7, 5]), metrics={'test_loss': 0.7989030480384827, 'test_accuracy': 0.7491875, 'test_precision': 0.7540628060232237, 'test_recall': 0.7491875, 'test_f1': 0.746205900668681, 'test_runtime': 298.4693, 'test_samples_per_second': 53.607, 'test_steps_per_second': 1.675})"
      ]
     },
     "execution_count": 111,
     "metadata": {},
     "output_type": "execute_result"
    }
   ],
   "source": [
    "preds = trainer.predict(tokenized_data['test'])\n",
    "preds"
   ]
  },
  {
   "cell_type": "code",
   "execution_count": 112,
   "metadata": {
    "execution": {
     "iopub.execute_input": "2025-05-17T15:54:48.158735Z",
     "iopub.status.busy": "2025-05-17T15:54:48.158451Z",
     "iopub.status.idle": "2025-05-17T15:54:48.164706Z",
     "shell.execute_reply": "2025-05-17T15:54:48.163871Z",
     "shell.execute_reply.started": "2025-05-17T15:54:48.158718Z"
    },
    "id": "pamrGiEGM4IY",
    "trusted": true
   },
   "outputs": [
    {
     "data": {
      "text/plain": [
       "(16000,)"
      ]
     },
     "execution_count": 112,
     "metadata": {},
     "output_type": "execute_result"
    }
   ],
   "source": [
    "y_pred = torch.argmax(torch.tensor(preds.predictions), dim=1).numpy()\n",
    "y_pred.shape"
   ]
  },
  {
   "cell_type": "code",
   "execution_count": 113,
   "metadata": {
    "execution": {
     "iopub.execute_input": "2025-05-17T15:54:48.165664Z",
     "iopub.status.busy": "2025-05-17T15:54:48.165441Z",
     "iopub.status.idle": "2025-05-17T15:54:48.185209Z",
     "shell.execute_reply": "2025-05-17T15:54:48.184578Z",
     "shell.execute_reply.started": "2025-05-17T15:54:48.165648Z"
    },
    "id": "DUdNri0YM-ks",
    "trusted": true
   },
   "outputs": [
    {
     "name": "stdout",
     "output_type": "stream",
     "text": [
      "['O(1)' 'O(logn)' 'O(n)' 'O(n**2)' 'O(n*m)' 'O(n+m)' 'O(nlogn)' 'Other']\n",
      "(16000,)\n"
     ]
    }
   ],
   "source": [
    "label_names = space_encoder.classes_\n",
    "print(label_names)\n",
    "test_target= tokenized_data[\"test\"][\"label\"]\n",
    "test_target= np.array(test_target)\n",
    "print(test_target.shape)"
   ]
  },
  {
   "cell_type": "code",
   "execution_count": 114,
   "metadata": {
    "execution": {
     "iopub.execute_input": "2025-05-17T15:54:48.186838Z",
     "iopub.status.busy": "2025-05-17T15:54:48.186637Z",
     "iopub.status.idle": "2025-05-17T15:54:48.210683Z",
     "shell.execute_reply": "2025-05-17T15:54:48.209947Z",
     "shell.execute_reply.started": "2025-05-17T15:54:48.186824Z"
    },
    "id": "hYeBwcV3NFvY",
    "trusted": true
   },
   "outputs": [
    {
     "name": "stdout",
     "output_type": "stream",
     "text": [
      "              precision    recall  f1-score   support\n",
      "\n",
      "        O(1)       0.80      0.57      0.67      2000\n",
      "     O(logn)       0.78      0.90      0.84      2000\n",
      "        O(n)       0.75      0.60      0.67      2000\n",
      "     O(n**2)       0.70      0.70      0.70      2000\n",
      "      O(n*m)       0.82      0.88      0.85      2000\n",
      "      O(n+m)       0.79      0.77      0.78      2000\n",
      "    O(nlogn)       0.76      0.78      0.77      2000\n",
      "       Other       0.63      0.79      0.70      2000\n",
      "\n",
      "    accuracy                           0.75     16000\n",
      "   macro avg       0.75      0.75      0.75     16000\n",
      "weighted avg       0.75      0.75      0.75     16000\n",
      "\n"
     ]
    }
   ],
   "source": [
    "print(classification_report(test_target, y_pred, target_names=label_names))"
   ]
  },
  {
   "cell_type": "code",
   "execution_count": 115,
   "metadata": {
    "execution": {
     "iopub.execute_input": "2025-05-17T15:54:48.211612Z",
     "iopub.status.busy": "2025-05-17T15:54:48.211352Z",
     "iopub.status.idle": "2025-05-17T15:54:48.933750Z",
     "shell.execute_reply": "2025-05-17T15:54:48.933037Z",
     "shell.execute_reply.started": "2025-05-17T15:54:48.211593Z"
    },
    "id": "3znSsHLmEYRk",
    "trusted": true
   },
   "outputs": [
    {
     "data": {
      "image/png": "[encoded data removed]",
      "text/plain": [
       "<Figure size 800x600 with 2 Axes>"
      ]
     },
     "metadata": {},
     "output_type": "display_data"
    }
   ],
   "source": [
    "from sklearn.metrics import confusion_matrix, classification_report\n",
    "import matplotlib.pyplot as plt\n",
    "import seaborn as sns\n",
    "\n",
    "# Confusion matrix\n",
    "cm = confusion_matrix(test_target, y_pred)\n",
    "plt.figure(figsize=(8, 6))\n",
    "sns.heatmap(cm, annot=True, fmt=\"d\", cmap=\"Blues\", xticklabels=space_encoder.classes_, yticklabels=space_encoder.classes_)\n",
    "plt.xlabel(\"Predicted\")\n",
    "plt.ylabel(\"True\")\n",
    "plt.title(\"Confusion Matrix\")\n",
    "plt.show()"
   ]
  },
  {
   "cell_type": "markdown",
   "metadata": {
    "id": "sZee3Twojb2F"
   },
   "source": [
    "## Refine FineTuning"
   ]
  },
  {
   "cell_type": "code",
   "execution_count": 116,
   "metadata": {
    "execution": {
     "iopub.execute_input": "2025-05-17T15:54:48.934810Z",
     "iopub.status.busy": "2025-05-17T15:54:48.934576Z",
     "iopub.status.idle": "2025-05-17T15:54:49.030075Z",
     "shell.execute_reply": "2025-05-17T15:54:49.029544Z",
     "shell.execute_reply.started": "2025-05-17T15:54:48.934793Z"
    },
    "trusted": true
   },
   "outputs": [],
   "source": [
    "#Load the model already finetuned for further processing \n",
    "model_path=\"/kaggle/working/results/checkpoint-6000\"\n",
    "space_model=AutoModelForSequenceClassification.from_pretrained(model_path)"
   ]
  }
 ],
 "metadata": {
  "accelerator": "GPU",
  "colab": {
   "collapsed_sections": [
    "VrgFn_NIR0ny",
    "JUVPdu4sj-zy",
    "ZvV61YT7kkoY"
   ],
   "gpuType": "T4",
   "provenance": []
  },
  "kaggle": {
   "accelerator": "nvidiaTeslaT4",
   "dataSources": [
    {
     "datasetId": 7425107,
     "sourceId": 11820787,
     "sourceType": "datasetVersion"
    }
   ],
   "dockerImageVersionId": 31041,
   "isGpuEnabled": true,
   "isInternetEnabled": true,
   "language": "python",
   "sourceType": "notebook"
  },
  "kernelspec": {
   "display_name": "Python 3",
   "language": "python",
   "name": "python3"
  },
  "language_info": {
   "codemirror_mode": {
    "name": "ipython",
    "version": 3
   },
   "file_extension": ".py",
   "mimetype": "text/x-python",
   "name": "python",
   "nbconvert_exporter": "python",
   "pygments_lexer": "ipython3",
   "version": "3.11.11"
  },
  "widgets": {
   "application/vnd.jupyter.widget-state+json": {
    "00596f63af044857bdb6fe0bb9d2e990": {
     "model_module": "@jupyter-widgets/base",
     "model_module_version": "1.2.0",
     "model_name": "LayoutModel",
     "state": {
      "_model_module": "@jupyter-widgets/base",
      "_model_module_version": "1.2.0",
      "_model_name": "LayoutModel",
      "_view_count": null,
      "_view_module": "@jupyter-widgets/base",
      "_view_module_version": "1.2.0",
      "_view_name": "LayoutView",
      "align_content": null,
      "align_items": null,
      "align_self": null,
      "border": null,
      "bottom": null,
      "display": null,
      "flex": null,
      "flex_flow": null,
      "grid_area": null,
      "grid_auto_columns": null,
      "grid_auto_flow": null,
      "grid_auto_rows": null,
      "grid_column": null,
      "grid_gap": null,
      "grid_row": null,
      "grid_template_areas": null,
      "grid_template_columns": null,
      "grid_template_rows": null,
      "height": null,
      "justify_content": null,
      "justify_items": null,
      "left": null,
      "margin": null,
      "max_height": null,
      "max_width": null,
      "min_height": null,
      "min_width": null,
      "object_fit": null,
      "object_position": null,
      "order": null,
      "overflow": null,
      "overflow_x": null,
      "overflow_y": null,
      "padding": null,
      "right": null,
      "top": null,
      "visibility": null,
      "width": null
     }
    },
    "0223ee9dc6e645619eab598d4eb26f81": {
     "model_module": "@jupyter-widgets/base",
     "model_module_version": "1.2.0",
     "model_name": "LayoutModel",
     "state": {
      "_model_module": "@jupyter-widgets/base",
      "_model_module_version": "1.2.0",
      "_model_name": "LayoutModel",
      "_view_count": null,
      "_view_module": "@jupyter-widgets/base",
      "_view_module_version": "1.2.0",
      "_view_name": "LayoutView",
      "align_content": null,
      "align_items": null,
      "align_self": null,
      "border": null,
      "bottom": null,
      "display": null,
      "flex": null,
      "flex_flow": null,
      "grid_area": null,
      "grid_auto_columns": null,
      "grid_auto_flow": null,
      "grid_auto_rows": null,
      "grid_column": null,
      "grid_gap": null,
      "grid_row": null,
      "grid_template_areas": null,
      "grid_template_columns": null,
      "grid_template_rows": null,
      "height": null,
      "justify_content": null,
      "justify_items": null,
      "left": null,
      "margin": null,
      "max_height": null,
      "max_width": null,
      "min_height": null,
      "min_width": null,
      "object_fit": null,
      "object_position": null,
      "order": null,
      "overflow": null,
      "overflow_x": null,
      "overflow_y": null,
      "padding": null,
      "right": null,
      "top": null,
      "visibility": null,
      "width": null
     }
    },
    "036d48134eaa42b2b1831006d220279d": {
     "model_module": "@jupyter-widgets/controls",
     "model_module_version": "1.5.0",
     "model_name": "DescriptionStyleModel",
     "state": {
      "_model_module": "@jupyter-widgets/controls",
      "_model_module_version": "1.5.0",
      "_model_name": "DescriptionStyleModel",
      "_view_count": null,
      "_view_module": "@jupyter-widgets/base",
      "_view_module_version": "1.2.0",
      "_view_name": "StyleView",
      "description_width": ""
     }
    },
    "03fc97296ebd48cdb37501a606c8b4d6": {
     "model_module": "@jupyter-widgets/base",
     "model_module_version": "1.2.0",
     "model_name": "LayoutModel",
     "state": {
      "_model_module": "@jupyter-widgets/base",
      "_model_module_version": "1.2.0",
      "_model_name": "LayoutModel",
      "_view_count": null,
      "_view_module": "@jupyter-widgets/base",
      "_view_module_version": "1.2.0",
      "_view_name": "LayoutView",
      "align_content": null,
      "align_items": null,
      "align_self": null,
      "border": null,
      "bottom": null,
      "display": null,
      "flex": null,
      "flex_flow": null,
      "grid_area": null,
      "grid_auto_columns": null,
      "grid_auto_flow": null,
      "grid_auto_rows": null,
      "grid_column": null,
      "grid_gap": null,
      "grid_row": null,
      "grid_template_areas": null,
      "grid_template_columns": null,
      "grid_template_rows": null,
      "height": null,
      "justify_content": null,
      "justify_items": null,
      "left": null,
      "margin": null,
      "max_height": null,
      "max_width": null,
      "min_height": null,
      "min_width": null,
      "object_fit": null,
      "object_position": null,
      "order": null,
      "overflow": null,
      "overflow_x": null,
      "overflow_y": null,
      "padding": null,
      "right": null,
      "top": null,
      "visibility": null,
      "width": null
     }
    },
    "05b5a1548a9d4e5c890a7b3ef5c51226": {
     "model_module": "@jupyter-widgets/controls",
     "model_module_version": "1.5.0",
     "model_name": "ProgressStyleModel",
     "state": {
      "_model_module": "@jupyter-widgets/controls",
      "_model_module_version": "1.5.0",
      "_model_name": "ProgressStyleModel",
      "_view_count": null,
      "_view_module": "@jupyter-widgets/base",
      "_view_module_version": "1.2.0",
      "_view_name": "StyleView",
      "bar_color": null,
      "description_width": ""
     }
    },
    "0a13c60f49bd4ed9afa62d252c7f890c": {
     "model_module": "@jupyter-widgets/controls",
     "model_module_version": "1.5.0",
     "model_name": "FloatProgressModel",
     "state": {
      "_dom_classes": [],
      "_model_module": "@jupyter-widgets/controls",
      "_model_module_version": "1.5.0",
      "_model_name": "FloatProgressModel",
      "_view_count": null,
      "_view_module": "@jupyter-widgets/controls",
      "_view_module_version": "1.5.0",
      "_view_name": "ProgressView",
      "bar_style": "success",
      "description": "",
      "description_tooltip": null,
      "layout": "IPY_MODEL_7f43eef406464a079fde8713da5cfb90",
      "max": 2200,
      "min": 0,
      "orientation": "horizontal",
      "style": "IPY_MODEL_7492b6e9569546b193a5ecdd49b5dd36",
      "value": 2200
     }
    },
    "0a305d3259d84ec3964a261f782161eb": {
     "model_module": "@jupyter-widgets/base",
     "model_module_version": "1.2.0",
     "model_name": "LayoutModel",
     "state": {
      "_model_module": "@jupyter-widgets/base",
      "_model_module_version": "1.2.0",
      "_model_name": "LayoutModel",
      "_view_count": null,
      "_view_module": "@jupyter-widgets/base",
      "_view_module_version": "1.2.0",
      "_view_name": "LayoutView",
      "align_content": null,
      "align_items": null,
      "align_self": null,
      "border": null,
      "bottom": null,
      "display": null,
      "flex": null,
      "flex_flow": null,
      "grid_area": null,
      "grid_auto_columns": null,
      "grid_auto_flow": null,
      "grid_auto_rows": null,
      "grid_column": null,
      "grid_gap": null,
      "grid_row": null,
      "grid_template_areas": null,
      "grid_template_columns": null,
      "grid_template_rows": null,
      "height": null,
      "justify_content": null,
      "justify_items": null,
      "left": null,
      "margin": null,
      "max_height": null,
      "max_width": null,
      "min_height": null,
      "min_width": null,
      "object_fit": null,
      "object_position": null,
      "order": null,
      "overflow": null,
      "overflow_x": null,
      "overflow_y": null,
      "padding": null,
      "right": null,
      "top": null,
      "visibility": null,
      "width": null
     }
    },
    "0db53340ec7f4289aac21c1cb6cbe2b1": {
     "model_module": "@jupyter-widgets/base",
     "model_module_version": "1.2.0",
     "model_name": "LayoutModel",
     "state": {
      "_model_module": "@jupyter-widgets/base",
      "_model_module_version": "1.2.0",
      "_model_name": "LayoutModel",
      "_view_count": null,
      "_view_module": "@jupyter-widgets/base",
      "_view_module_version": "1.2.0",
      "_view_name": "LayoutView",
      "align_content": null,
      "align_items": null,
      "align_self": null,
      "border": null,
      "bottom": null,
      "display": null,
      "flex": null,
      "flex_flow": null,
      "grid_area": null,
      "grid_auto_columns": null,
      "grid_auto_flow": null,
      "grid_auto_rows": null,
      "grid_column": null,
      "grid_gap": null,
      "grid_row": null,
      "grid_template_areas": null,
      "grid_template_columns": null,
      "grid_template_rows": null,
      "height": null,
      "justify_content": null,
      "justify_items": null,
      "left": null,
      "margin": null,
      "max_height": null,
      "max_width": null,
      "min_height": null,
      "min_width": null,
      "object_fit": null,
      "object_position": null,
      "order": null,
      "overflow": null,
      "overflow_x": null,
      "overflow_y": null,
      "padding": null,
      "right": null,
      "top": null,
      "visibility": null,
      "width": null
     }
    },
    "0e4f1336c1dc4ff4a7fa93a3b92cb08c": {
     "model_module": "@jupyter-widgets/base",
     "model_module_version": "1.2.0",
     "model_name": "LayoutModel",
     "state": {
      "_model_module": "@jupyter-widgets/base",
      "_model_module_version": "1.2.0",
      "_model_name": "LayoutModel",
      "_view_count": null,
      "_view_module": "@jupyter-widgets/base",
      "_view_module_version": "1.2.0",
      "_view_name": "LayoutView",
      "align_content": null,
      "align_items": null,
      "align_self": null,
      "border": null,
      "bottom": null,
      "display": null,
      "flex": null,
      "flex_flow": null,
      "grid_area": null,
      "grid_auto_columns": null,
      "grid_auto_flow": null,
      "grid_auto_rows": null,
      "grid_column": null,
      "grid_gap": null,
      "grid_row": null,
      "grid_template_areas": null,
      "grid_template_columns": null,
      "grid_template_rows": null,
      "height": null,
      "justify_content": null,
      "justify_items": null,
      "left": null,
      "margin": null,
      "max_height": null,
      "max_width": null,
      "min_height": null,
      "min_width": null,
      "object_fit": null,
      "object_position": null,
      "order": null,
      "overflow": null,
      "overflow_x": null,
      "overflow_y": null,
      "padding": null,
      "right": null,
      "top": null,
      "visibility": null,
      "width": null
     }
    },
    "0f17a8f2678a4f9685e78f3f8f4ae9b4": {
     "model_module": "@jupyter-widgets/controls",
     "model_module_version": "1.5.0",
     "model_name": "DescriptionStyleModel",
     "state": {
      "_model_module": "@jupyter-widgets/controls",
      "_model_module_version": "1.5.0",
      "_model_name": "DescriptionStyleModel",
      "_view_count": null,
      "_view_module": "@jupyter-widgets/base",
      "_view_module_version": "1.2.0",
      "_view_name": "StyleView",
      "description_width": ""
     }
    },
    "11b3164b748e4ae48cde4aec792010dc": {
     "model_module": "@jupyter-widgets/controls",
     "model_module_version": "1.5.0",
     "model_name": "HBoxModel",
     "state": {
      "_dom_classes": [],
      "_model_module": "@jupyter-widgets/controls",
      "_model_module_version": "1.5.0",
      "_model_name": "HBoxModel",
      "_view_count": null,
      "_view_module": "@jupyter-widgets/controls",
      "_view_module_version": "1.5.0",
      "_view_name": "HBoxView",
      "box_style": "",
      "children": [
       "IPY_MODEL_b9e59a4336934e49aa0bc21d72e72a35",
       "IPY_MODEL_5e99a561093c46028c3d98c4ae93f213",
       "IPY_MODEL_d891dc29d6fd418288b2dab9153a8a19"
      ],
      "layout": "IPY_MODEL_721683384ba6402c88cd04d8aa3245b0"
     }
    },
    "170f0b8caed0484f814f3d4351340961": {
     "model_module": "@jupyter-widgets/controls",
     "model_module_version": "1.5.0",
     "model_name": "DescriptionStyleModel",
     "state": {
      "_model_module": "@jupyter-widgets/controls",
      "_model_module_version": "1.5.0",
      "_model_name": "DescriptionStyleModel",
      "_view_count": null,
      "_view_module": "@jupyter-widgets/base",
      "_view_module_version": "1.2.0",
      "_view_name": "StyleView",
      "description_width": ""
     }
    },
    "17457f63437a4eb7847562c205c56092": {
     "model_module": "@jupyter-widgets/base",
     "model_module_version": "1.2.0",
     "model_name": "LayoutModel",
     "state": {
      "_model_module": "@jupyter-widgets/base",
      "_model_module_version": "1.2.0",
      "_model_name": "LayoutModel",
      "_view_count": null,
      "_view_module": "@jupyter-widgets/base",
      "_view_module_version": "1.2.0",
      "_view_name": "LayoutView",
      "align_content": null,
      "align_items": null,
      "align_self": null,
      "border": null,
      "bottom": null,
      "display": null,
      "flex": null,
      "flex_flow": null,
      "grid_area": null,
      "grid_auto_columns": null,
      "grid_auto_flow": null,
      "grid_auto_rows": null,
      "grid_column": null,
      "grid_gap": null,
      "grid_row": null,
      "grid_template_areas": null,
      "grid_template_columns": null,
      "grid_template_rows": null,
      "height": null,
      "justify_content": null,
      "justify_items": null,
      "left": null,
      "margin": null,
      "max_height": null,
      "max_width": null,
      "min_height": null,
      "min_width": null,
      "object_fit": null,
      "object_position": null,
      "order": null,
      "overflow": null,
      "overflow_x": null,
      "overflow_y": null,
      "padding": null,
      "right": null,
      "top": null,
      "visibility": null,
      "width": null
     }
    },
    "1883d2daf9c145ee856c35911ce2d735": {
     "model_module": "@jupyter-widgets/base",
     "model_module_version": "1.2.0",
     "model_name": "LayoutModel",
     "state": {
      "_model_module": "@jupyter-widgets/base",
      "_model_module_version": "1.2.0",
      "_model_name": "LayoutModel",
      "_view_count": null,
      "_view_module": "@jupyter-widgets/base",
      "_view_module_version": "1.2.0",
      "_view_name": "LayoutView",
      "align_content": null,
      "align_items": null,
      "align_self": null,
      "border": null,
      "bottom": null,
      "display": null,
      "flex": null,
      "flex_flow": null,
      "grid_area": null,
      "grid_auto_columns": null,
      "grid_auto_flow": null,
      "grid_auto_rows": null,
      "grid_column": null,
      "grid_gap": null,
      "grid_row": null,
      "grid_template_areas": null,
      "grid_template_columns": null,
      "grid_template_rows": null,
      "height": null,
      "justify_content": null,
      "justify_items": null,
      "left": null,
      "margin": null,
      "max_height": null,
      "max_width": null,
      "min_height": null,
      "min_width": null,
      "object_fit": null,
      "object_position": null,
      "order": null,
      "overflow": null,
      "overflow_x": null,
      "overflow_y": null,
      "padding": null,
      "right": null,
      "top": null,
      "visibility": null,
      "width": null
     }
    },
    "1902c6c560014c54864414e28aa63b2f": {
     "model_module": "@jupyter-widgets/controls",
     "model_module_version": "1.5.0",
     "model_name": "DescriptionStyleModel",
     "state": {
      "_model_module": "@jupyter-widgets/controls",
      "_model_module_version": "1.5.0",
      "_model_name": "DescriptionStyleModel",
      "_view_count": null,
      "_view_module": "@jupyter-widgets/base",
      "_view_module_version": "1.2.0",
      "_view_name": "StyleView",
      "description_width": ""
     }
    },
    "1ac5bf485515475595cd6ff1c24f7e5f": {
     "model_module": "@jupyter-widgets/controls",
     "model_module_version": "1.5.0",
     "model_name": "HTMLModel",
     "state": {
      "_dom_classes": [],
      "_model_module": "@jupyter-widgets/controls",
      "_model_module_version": "1.5.0",
      "_model_name": "HTMLModel",
      "_view_count": null,
      "_view_module": "@jupyter-widgets/controls",
      "_view_module_version": "1.5.0",
      "_view_name": "HTMLView",
      "description": "",
      "description_tooltip": null,
      "layout": "IPY_MODEL_3f8e87ed24d9467284d835baf018161b",
      "placeholder": "​",
      "style": "IPY_MODEL_3115a2a554f646c6b170cf12edf411e4",
      "value": "Map: 100%"
     }
    },
    "1b188bb77d4b4d67bab7551661628b51": {
     "model_module": "@jupyter-widgets/base",
     "model_module_version": "1.2.0",
     "model_name": "LayoutModel",
     "state": {
      "_model_module": "@jupyter-widgets/base",
      "_model_module_version": "1.2.0",
      "_model_name": "LayoutModel",
      "_view_count": null,
      "_view_module": "@jupyter-widgets/base",
      "_view_module_version": "1.2.0",
      "_view_name": "LayoutView",
      "align_content": null,
      "align_items": null,
      "align_self": null,
      "border": null,
      "bottom": null,
      "display": null,
      "flex": null,
      "flex_flow": null,
      "grid_area": null,
      "grid_auto_columns": null,
      "grid_auto_flow": null,
      "grid_auto_rows": null,
      "grid_column": null,
      "grid_gap": null,
      "grid_row": null,
      "grid_template_areas": null,
      "grid_template_columns": null,
      "grid_template_rows": null,
      "height": null,
      "justify_content": null,
      "justify_items": null,
      "left": null,
      "margin": null,
      "max_height": null,
      "max_width": null,
      "min_height": null,
      "min_width": null,
      "object_fit": null,
      "object_position": null,
      "order": null,
      "overflow": null,
      "overflow_x": null,
      "overflow_y": null,
      "padding": null,
      "right": null,
      "top": null,
      "visibility": null,
      "width": null
     }
    },
    "1d3ab97cba2642bfb92dad18e5d4afbc": {
     "model_module": "@jupyter-widgets/controls",
     "model_module_version": "1.5.0",
     "model_name": "ProgressStyleModel",
     "state": {
      "_model_module": "@jupyter-widgets/controls",
      "_model_module_version": "1.5.0",
      "_model_name": "ProgressStyleModel",
      "_view_count": null,
      "_view_module": "@jupyter-widgets/base",
      "_view_module_version": "1.2.0",
      "_view_name": "StyleView",
      "bar_color": null,
      "description_width": ""
     }
    },
    "21145e38fbaa4ad38aee74378cc14e48": {
     "model_module": "@jupyter-widgets/base",
     "model_module_version": "1.2.0",
     "model_name": "LayoutModel",
     "state": {
      "_model_module": "@jupyter-widgets/base",
      "_model_module_version": "1.2.0",
      "_model_name": "LayoutModel",
      "_view_count": null,
      "_view_module": "@jupyter-widgets/base",
      "_view_module_version": "1.2.0",
      "_view_name": "LayoutView",
      "align_content": null,
      "align_items": null,
      "align_self": null,
      "border": null,
      "bottom": null,
      "display": null,
      "flex": null,
      "flex_flow": null,
      "grid_area": null,
      "grid_auto_columns": null,
      "grid_auto_flow": null,
      "grid_auto_rows": null,
      "grid_column": null,
      "grid_gap": null,
      "grid_row": null,
      "grid_template_areas": null,
      "grid_template_columns": null,
      "grid_template_rows": null,
      "height": null,
      "justify_content": null,
      "justify_items": null,
      "left": null,
      "margin": null,
      "max_height": null,
      "max_width": null,
      "min_height": null,
      "min_width": null,
      "object_fit": null,
      "object_position": null,
      "order": null,
      "overflow": null,
      "overflow_x": null,
      "overflow_y": null,
      "padding": null,
      "right": null,
      "top": null,
      "visibility": null,
      "width": null
     }
    },
    "22299e2d0d144f94b20c6d4f1f66453b": {
     "model_module": "@jupyter-widgets/controls",
     "model_module_version": "1.5.0",
     "model_name": "FloatProgressModel",
     "state": {
      "_dom_classes": [],
      "_model_module": "@jupyter-widgets/controls",
      "_model_module_version": "1.5.0",
      "_model_name": "FloatProgressModel",
      "_view_count": null,
      "_view_module": "@jupyter-widgets/controls",
      "_view_module_version": "1.5.0",
      "_view_name": "ProgressView",
      "bar_style": "success",
      "description": "",
      "description_tooltip": null,
      "layout": "IPY_MODEL_66c88f29ce544a6897950e7fe4c40ecd",
      "max": 1760,
      "min": 0,
      "orientation": "horizontal",
      "style": "IPY_MODEL_2706f8c90355451fb2b33e998d9a5cd3",
      "value": 1760
     }
    },
    "22addfa7c581408286f66b2367ea43d4": {
     "model_module": "@jupyter-widgets/controls",
     "model_module_version": "1.5.0",
     "model_name": "DescriptionStyleModel",
     "state": {
      "_model_module": "@jupyter-widgets/controls",
      "_model_module_version": "1.5.0",
      "_model_name": "DescriptionStyleModel",
      "_view_count": null,
      "_view_module": "@jupyter-widgets/base",
      "_view_module_version": "1.2.0",
      "_view_name": "StyleView",
      "description_width": ""
     }
    },
    "24a5cff351dc4a40846e3f7a9b2f0490": {
     "model_module": "@jupyter-widgets/base",
     "model_module_version": "1.2.0",
     "model_name": "LayoutModel",
     "state": {
      "_model_module": "@jupyter-widgets/base",
      "_model_module_version": "1.2.0",
      "_model_name": "LayoutModel",
      "_view_count": null,
      "_view_module": "@jupyter-widgets/base",
      "_view_module_version": "1.2.0",
      "_view_name": "LayoutView",
      "align_content": null,
      "align_items": null,
      "align_self": null,
      "border": null,
      "bottom": null,
      "display": null,
      "flex": null,
      "flex_flow": null,
      "grid_area": null,
      "grid_auto_columns": null,
      "grid_auto_flow": null,
      "grid_auto_rows": null,
      "grid_column": null,
      "grid_gap": null,
      "grid_row": null,
      "grid_template_areas": null,
      "grid_template_columns": null,
      "grid_template_rows": null,
      "height": null,
      "justify_content": null,
      "justify_items": null,
      "left": null,
      "margin": null,
      "max_height": null,
      "max_width": null,
      "min_height": null,
      "min_width": null,
      "object_fit": null,
      "object_position": null,
      "order": null,
      "overflow": null,
      "overflow_x": null,
      "overflow_y": null,
      "padding": null,
      "right": null,
      "top": null,
      "visibility": null,
      "width": "20px"
     }
    },
    "26231ca96ce842069aac52dcacea14a3": {
     "model_module": "@jupyter-widgets/controls",
     "model_module_version": "1.5.0",
     "model_name": "DescriptionStyleModel",
     "state": {
      "_model_module": "@jupyter-widgets/controls",
      "_model_module_version": "1.5.0",
      "_model_name": "DescriptionStyleModel",
      "_view_count": null,
      "_view_module": "@jupyter-widgets/base",
      "_view_module_version": "1.2.0",
      "_view_name": "StyleView",
      "description_width": ""
     }
    },
    "26ff1cef65aa4f79a6e4c49a54e090df": {
     "model_module": "@jupyter-widgets/controls",
     "model_module_version": "1.5.0",
     "model_name": "HBoxModel",
     "state": {
      "_dom_classes": [],
      "_model_module": "@jupyter-widgets/controls",
      "_model_module_version": "1.5.0",
      "_model_name": "HBoxModel",
      "_view_count": null,
      "_view_module": "@jupyter-widgets/controls",
      "_view_module_version": "1.5.0",
      "_view_name": "HBoxView",
      "box_style": "",
      "children": [
       "IPY_MODEL_1ac5bf485515475595cd6ff1c24f7e5f",
       "IPY_MODEL_7673951bf60a480eab90b877ab406ae8",
       "IPY_MODEL_9a3a46e2efdb445491b21520da684463"
      ],
      "layout": "IPY_MODEL_fd60ed30ceec4593898edf7c776ac7af"
     }
    },
    "2706f8c90355451fb2b33e998d9a5cd3": {
     "model_module": "@jupyter-widgets/controls",
     "model_module_version": "1.5.0",
     "model_name": "ProgressStyleModel",
     "state": {
      "_model_module": "@jupyter-widgets/controls",
      "_model_module_version": "1.5.0",
      "_model_name": "ProgressStyleModel",
      "_view_count": null,
      "_view_module": "@jupyter-widgets/base",
      "_view_module_version": "1.2.0",
      "_view_name": "StyleView",
      "bar_color": null,
      "description_width": ""
     }
    },
    "2787ed14dae34bd9a2d8ba66aaf426d1": {
     "model_module": "@jupyter-widgets/base",
     "model_module_version": "1.2.0",
     "model_name": "LayoutModel",
     "state": {
      "_model_module": "@jupyter-widgets/base",
      "_model_module_version": "1.2.0",
      "_model_name": "LayoutModel",
      "_view_count": null,
      "_view_module": "@jupyter-widgets/base",
      "_view_module_version": "1.2.0",
      "_view_name": "LayoutView",
      "align_content": null,
      "align_items": null,
      "align_self": null,
      "border": null,
      "bottom": null,
      "display": null,
      "flex": null,
      "flex_flow": null,
      "grid_area": null,
      "grid_auto_columns": null,
      "grid_auto_flow": null,
      "grid_auto_rows": null,
      "grid_column": null,
      "grid_gap": null,
      "grid_row": null,
      "grid_template_areas": null,
      "grid_template_columns": null,
      "grid_template_rows": null,
      "height": null,
      "justify_content": null,
      "justify_items": null,
      "left": null,
      "margin": null,
      "max_height": null,
      "max_width": null,
      "min_height": null,
      "min_width": null,
      "object_fit": null,
      "object_position": null,
      "order": null,
      "overflow": null,
      "overflow_x": null,
      "overflow_y": null,
      "padding": null,
      "right": null,
      "top": null,
      "visibility": null,
      "width": null
     }
    },
    "27ac313abb0143b085a489fa1922d4d6": {
     "model_module": "@jupyter-widgets/controls",
     "model_module_version": "1.5.0",
     "model_name": "DescriptionStyleModel",
     "state": {
      "_model_module": "@jupyter-widgets/controls",
      "_model_module_version": "1.5.0",
      "_model_name": "DescriptionStyleModel",
      "_view_count": null,
      "_view_module": "@jupyter-widgets/base",
      "_view_module_version": "1.2.0",
      "_view_name": "StyleView",
      "description_width": ""
     }
    },
    "2a4b327b998541d0af6ed735f69400a6": {
     "model_module": "@jupyter-widgets/controls",
     "model_module_version": "1.5.0",
     "model_name": "HTMLModel",
     "state": {
      "_dom_classes": [],
      "_model_module": "@jupyter-widgets/controls",
      "_model_module_version": "1.5.0",
      "_model_name": "HTMLModel",
      "_view_count": null,
      "_view_module": "@jupyter-widgets/controls",
      "_view_module_version": "1.5.0",
      "_view_name": "HTMLView",
      "description": "",
      "description_tooltip": null,
      "layout": "IPY_MODEL_b6692d79bdca4daea99bd390e539f7c3",
      "placeholder": "​",
      "style": "IPY_MODEL_5dbb26bf77fe4f76ac88a050ddc7bc95",
      "value": "Map: 100%"
     }
    },
    "2b63bdd4e0ff42c49a23a741180bd8a7": {
     "model_module": "@jupyter-widgets/controls",
     "model_module_version": "1.5.0",
     "model_name": "HTMLModel",
     "state": {
      "_dom_classes": [],
      "_model_module": "@jupyter-widgets/controls",
      "_model_module_version": "1.5.0",
      "_model_name": "HTMLModel",
      "_view_count": null,
      "_view_module": "@jupyter-widgets/controls",
      "_view_module_version": "1.5.0",
      "_view_name": "HTMLView",
      "description": "",
      "description_tooltip": null,
      "layout": "IPY_MODEL_38015415ee8242f58871ceb1af61fc41",
      "placeholder": "​",
      "style": "IPY_MODEL_3f8929fc73e4455ab9fac16b04418b04",
      "value": "Map: 100%"
     }
    },
    "2cb01368820f4606858af86cc01dc5b3": {
     "model_module": "@jupyter-widgets/base",
     "model_module_version": "1.2.0",
     "model_name": "LayoutModel",
     "state": {
      "_model_module": "@jupyter-widgets/base",
      "_model_module_version": "1.2.0",
      "_model_name": "LayoutModel",
      "_view_count": null,
      "_view_module": "@jupyter-widgets/base",
      "_view_module_version": "1.2.0",
      "_view_name": "LayoutView",
      "align_content": null,
      "align_items": null,
      "align_self": null,
      "border": null,
      "bottom": null,
      "display": null,
      "flex": null,
      "flex_flow": null,
      "grid_area": null,
      "grid_auto_columns": null,
      "grid_auto_flow": null,
      "grid_auto_rows": null,
      "grid_column": null,
      "grid_gap": null,
      "grid_row": null,
      "grid_template_areas": null,
      "grid_template_columns": null,
      "grid_template_rows": null,
      "height": null,
      "justify_content": null,
      "justify_items": null,
      "left": null,
      "margin": null,
      "max_height": null,
      "max_width": null,
      "min_height": null,
      "min_width": null,
      "object_fit": null,
      "object_position": null,
      "order": null,
      "overflow": null,
      "overflow_x": null,
      "overflow_y": null,
      "padding": null,
      "right": null,
      "top": null,
      "visibility": null,
      "width": null
     }
    },
    "3115a2a554f646c6b170cf12edf411e4": {
     "model_module": "@jupyter-widgets/controls",
     "model_module_version": "1.5.0",
     "model_name": "DescriptionStyleModel",
     "state": {
      "_model_module": "@jupyter-widgets/controls",
      "_model_module_version": "1.5.0",
      "_model_name": "DescriptionStyleModel",
      "_view_count": null,
      "_view_module": "@jupyter-widgets/base",
      "_view_module_version": "1.2.0",
      "_view_name": "StyleView",
      "description_width": ""
     }
    },
    "34a676d9e44146998ac89ef63fe50e04": {
     "model_module": "@jupyter-widgets/base",
     "model_module_version": "1.2.0",
     "model_name": "LayoutModel",
     "state": {
      "_model_module": "@jupyter-widgets/base",
      "_model_module_version": "1.2.0",
      "_model_name": "LayoutModel",
      "_view_count": null,
      "_view_module": "@jupyter-widgets/base",
      "_view_module_version": "1.2.0",
      "_view_name": "LayoutView",
      "align_content": null,
      "align_items": null,
      "align_self": null,
      "border": null,
      "bottom": null,
      "display": null,
      "flex": null,
      "flex_flow": null,
      "grid_area": null,
      "grid_auto_columns": null,
      "grid_auto_flow": null,
      "grid_auto_rows": null,
      "grid_column": null,
      "grid_gap": null,
      "grid_row": null,
      "grid_template_areas": null,
      "grid_template_columns": null,
      "grid_template_rows": null,
      "height": null,
      "justify_content": null,
      "justify_items": null,
      "left": null,
      "margin": null,
      "max_height": null,
      "max_width": null,
      "min_height": null,
      "min_width": null,
      "object_fit": null,
      "object_position": null,
      "order": null,
      "overflow": null,
      "overflow_x": null,
      "overflow_y": null,
      "padding": null,
      "right": null,
      "top": null,
      "visibility": null,
      "width": null
     }
    },
    "34ce4c96300a439886d23cff345cb534": {
     "model_module": "@jupyter-widgets/controls",
     "model_module_version": "1.5.0",
     "model_name": "HTMLModel",
     "state": {
      "_dom_classes": [],
      "_model_module": "@jupyter-widgets/controls",
      "_model_module_version": "1.5.0",
      "_model_name": "HTMLModel",
      "_view_count": null,
      "_view_module": "@jupyter-widgets/controls",
      "_view_module_version": "1.5.0",
      "_view_name": "HTMLView",
      "description": "",
      "description_tooltip": null,
      "layout": "IPY_MODEL_829d7b2b28b94cf499f89cea17867f48",
      "placeholder": "​",
      "style": "IPY_MODEL_8c6d51891f934606b3c2b6c6acffc3cd",
      "value": "Map: 100%"
     }
    },
    "35511c9f10884f229b0320768e338253": {
     "model_module": "@jupyter-widgets/base",
     "model_module_version": "1.2.0",
     "model_name": "LayoutModel",
     "state": {
      "_model_module": "@jupyter-widgets/base",
      "_model_module_version": "1.2.0",
      "_model_name": "LayoutModel",
      "_view_count": null,
      "_view_module": "@jupyter-widgets/base",
      "_view_module_version": "1.2.0",
      "_view_name": "LayoutView",
      "align_content": null,
      "align_items": null,
      "align_self": null,
      "border": null,
      "bottom": null,
      "display": null,
      "flex": null,
      "flex_flow": null,
      "grid_area": null,
      "grid_auto_columns": null,
      "grid_auto_flow": null,
      "grid_auto_rows": null,
      "grid_column": null,
      "grid_gap": null,
      "grid_row": null,
      "grid_template_areas": null,
      "grid_template_columns": null,
      "grid_template_rows": null,
      "height": null,
      "justify_content": null,
      "justify_items": null,
      "left": null,
      "margin": null,
      "max_height": null,
      "max_width": null,
      "min_height": null,
      "min_width": null,
      "object_fit": null,
      "object_position": null,
      "order": null,
      "overflow": null,
      "overflow_x": null,
      "overflow_y": null,
      "padding": null,
      "right": null,
      "top": null,
      "visibility": null,
      "width": null
     }
    },
    "35eb0b0562ef4a549bcea298404bcb9d": {
     "model_module": "@jupyter-widgets/controls",
     "model_module_version": "1.5.0",
     "model_name": "DescriptionStyleModel",
     "state": {
      "_model_module": "@jupyter-widgets/controls",
      "_model_module_version": "1.5.0",
      "_model_name": "DescriptionStyleModel",
      "_view_count": null,
      "_view_module": "@jupyter-widgets/base",
      "_view_module_version": "1.2.0",
      "_view_name": "StyleView",
      "description_width": ""
     }
    },
    "37d9322e9d3c4ca698701985e21dad4d": {
     "model_module": "@jupyter-widgets/controls",
     "model_module_version": "1.5.0",
     "model_name": "DescriptionStyleModel",
     "state": {
      "_model_module": "@jupyter-widgets/controls",
      "_model_module_version": "1.5.0",
      "_model_name": "DescriptionStyleModel",
      "_view_count": null,
      "_view_module": "@jupyter-widgets/base",
      "_view_module_version": "1.2.0",
      "_view_name": "StyleView",
      "description_width": ""
     }
    },
    "38015415ee8242f58871ceb1af61fc41": {
     "model_module": "@jupyter-widgets/base",
     "model_module_version": "1.2.0",
     "model_name": "LayoutModel",
     "state": {
      "_model_module": "@jupyter-widgets/base",
      "_model_module_version": "1.2.0",
      "_model_name": "LayoutModel",
      "_view_count": null,
      "_view_module": "@jupyter-widgets/base",
      "_view_module_version": "1.2.0",
      "_view_name": "LayoutView",
      "align_content": null,
      "align_items": null,
      "align_self": null,
      "border": null,
      "bottom": null,
      "display": null,
      "flex": null,
      "flex_flow": null,
      "grid_area": null,
      "grid_auto_columns": null,
      "grid_auto_flow": null,
      "grid_auto_rows": null,
      "grid_column": null,
      "grid_gap": null,
      "grid_row": null,
      "grid_template_areas": null,
      "grid_template_columns": null,
      "grid_template_rows": null,
      "height": null,
      "justify_content": null,
      "justify_items": null,
      "left": null,
      "margin": null,
      "max_height": null,
      "max_width": null,
      "min_height": null,
      "min_width": null,
      "object_fit": null,
      "object_position": null,
      "order": null,
      "overflow": null,
      "overflow_x": null,
      "overflow_y": null,
      "padding": null,
      "right": null,
      "top": null,
      "visibility": null,
      "width": null
     }
    },
    "3e6b081a868743a2b68f9f1f1ed0dc6d": {
     "model_module": "@jupyter-widgets/controls",
     "model_module_version": "1.5.0",
     "model_name": "ProgressStyleModel",
     "state": {
      "_model_module": "@jupyter-widgets/controls",
      "_model_module_version": "1.5.0",
      "_model_name": "ProgressStyleModel",
      "_view_count": null,
      "_view_module": "@jupyter-widgets/base",
      "_view_module_version": "1.2.0",
      "_view_name": "StyleView",
      "bar_color": null,
      "description_width": ""
     }
    },
    "3e7c3448156540c783565bded387cec2": {
     "model_module": "@jupyter-widgets/controls",
     "model_module_version": "1.5.0",
     "model_name": "FloatProgressModel",
     "state": {
      "_dom_classes": [],
      "_model_module": "@jupyter-widgets/controls",
      "_model_module_version": "1.5.0",
      "_model_name": "FloatProgressModel",
      "_view_count": null,
      "_view_module": "@jupyter-widgets/controls",
      "_view_module_version": "1.5.0",
      "_view_name": "ProgressView",
      "bar_style": "success",
      "description": "",
      "description_tooltip": null,
      "layout": "IPY_MODEL_c84a94e953d141f0a93cc2b652bde4eb",
      "max": 21021,
      "min": 0,
      "orientation": "horizontal",
      "style": "IPY_MODEL_7f68fc382c0b439ebb659e8d09b16311",
      "value": 21021
     }
    },
    "3f8929fc73e4455ab9fac16b04418b04": {
     "model_module": "@jupyter-widgets/controls",
     "model_module_version": "1.5.0",
     "model_name": "DescriptionStyleModel",
     "state": {
      "_model_module": "@jupyter-widgets/controls",
      "_model_module_version": "1.5.0",
      "_model_name": "DescriptionStyleModel",
      "_view_count": null,
      "_view_module": "@jupyter-widgets/base",
      "_view_module_version": "1.2.0",
      "_view_name": "StyleView",
      "description_width": ""
     }
    },
    "3f8e87ed24d9467284d835baf018161b": {
     "model_module": "@jupyter-widgets/base",
     "model_module_version": "1.2.0",
     "model_name": "LayoutModel",
     "state": {
      "_model_module": "@jupyter-widgets/base",
      "_model_module_version": "1.2.0",
      "_model_name": "LayoutModel",
      "_view_count": null,
      "_view_module": "@jupyter-widgets/base",
      "_view_module_version": "1.2.0",
      "_view_name": "LayoutView",
      "align_content": null,
      "align_items": null,
      "align_self": null,
      "border": null,
      "bottom": null,
      "display": null,
      "flex": null,
      "flex_flow": null,
      "grid_area": null,
      "grid_auto_columns": null,
      "grid_auto_flow": null,
      "grid_auto_rows": null,
      "grid_column": null,
      "grid_gap": null,
      "grid_row": null,
      "grid_template_areas": null,
      "grid_template_columns": null,
      "grid_template_rows": null,
      "height": null,
      "justify_content": null,
      "justify_items": null,
      "left": null,
      "margin": null,
      "max_height": null,
      "max_width": null,
      "min_height": null,
      "min_width": null,
      "object_fit": null,
      "object_position": null,
      "order": null,
      "overflow": null,
      "overflow_x": null,
      "overflow_y": null,
      "padding": null,
      "right": null,
      "top": null,
      "visibility": null,
      "width": null
     }
    },
    "40fedfeafc3a4c419e7b71e365b322b3": {
     "model_module": "@jupyter-widgets/controls",
     "model_module_version": "1.5.0",
     "model_name": "DescriptionStyleModel",
     "state": {
      "_model_module": "@jupyter-widgets/controls",
      "_model_module_version": "1.5.0",
      "_model_name": "DescriptionStyleModel",
      "_view_count": null,
      "_view_module": "@jupyter-widgets/base",
      "_view_module_version": "1.2.0",
      "_view_name": "StyleView",
      "description_width": ""
     }
    },
    "42262b0a845a4db8909342c002c5bb13": {
     "model_module": "@jupyter-widgets/controls",
     "model_module_version": "1.5.0",
     "model_name": "DescriptionStyleModel",
     "state": {
      "_model_module": "@jupyter-widgets/controls",
      "_model_module_version": "1.5.0",
      "_model_name": "DescriptionStyleModel",
      "_view_count": null,
      "_view_module": "@jupyter-widgets/base",
      "_view_module_version": "1.2.0",
      "_view_name": "StyleView",
      "description_width": ""
     }
    },
    "44ee08baf8444d55923723ed3bddb4bc": {
     "model_module": "@jupyter-widgets/controls",
     "model_module_version": "1.5.0",
     "model_name": "HBoxModel",
     "state": {
      "_dom_classes": [],
      "_model_module": "@jupyter-widgets/controls",
      "_model_module_version": "1.5.0",
      "_model_name": "HBoxModel",
      "_view_count": null,
      "_view_module": "@jupyter-widgets/controls",
      "_view_module_version": "1.5.0",
      "_view_name": "HBoxView",
      "box_style": "",
      "children": [
       "IPY_MODEL_4e3fdfd5f68f466aaa94568c6b0b9b94",
       "IPY_MODEL_fc06a5f1c8d340d1acf2f65f2e246332",
       "IPY_MODEL_ef86860172e34ee99b037083719d6096"
      ],
      "layout": "IPY_MODEL_65b45649350f4f29b94a51efe28ae310"
     }
    },
    "4cfbde355df249e0abb923d2bcfe6612": {
     "model_module": "@jupyter-widgets/controls",
     "model_module_version": "1.5.0",
     "model_name": "FloatProgressModel",
     "state": {
      "_dom_classes": [],
      "_model_module": "@jupyter-widgets/controls",
      "_model_module_version": "1.5.0",
      "_model_name": "FloatProgressModel",
      "_view_count": null,
      "_view_module": "@jupyter-widgets/controls",
      "_view_module_version": "1.5.0",
      "_view_name": "ProgressView",
      "bar_style": "success",
      "description": "",
      "description_tooltip": null,
      "layout": "IPY_MODEL_2787ed14dae34bd9a2d8ba66aaf426d1",
      "max": 67267,
      "min": 0,
      "orientation": "horizontal",
      "style": "IPY_MODEL_7e28ced37b72465287f38fec6cffc121",
      "value": 67267
     }
    },
    "4d437378d9a8407d8b1b03ea6e7fe0cc": {
     "model_module": "@jupyter-widgets/base",
     "model_module_version": "1.2.0",
     "model_name": "LayoutModel",
     "state": {
      "_model_module": "@jupyter-widgets/base",
      "_model_module_version": "1.2.0",
      "_model_name": "LayoutModel",
      "_view_count": null,
      "_view_module": "@jupyter-widgets/base",
      "_view_module_version": "1.2.0",
      "_view_name": "LayoutView",
      "align_content": null,
      "align_items": null,
      "align_self": null,
      "border": null,
      "bottom": null,
      "display": null,
      "flex": null,
      "flex_flow": null,
      "grid_area": null,
      "grid_auto_columns": null,
      "grid_auto_flow": null,
      "grid_auto_rows": null,
      "grid_column": null,
      "grid_gap": null,
      "grid_row": null,
      "grid_template_areas": null,
      "grid_template_columns": null,
      "grid_template_rows": null,
      "height": null,
      "justify_content": null,
      "justify_items": null,
      "left": null,
      "margin": null,
      "max_height": null,
      "max_width": null,
      "min_height": null,
      "min_width": null,
      "object_fit": null,
      "object_position": null,
      "order": null,
      "overflow": null,
      "overflow_x": null,
      "overflow_y": null,
      "padding": null,
      "right": null,
      "top": null,
      "visibility": null,
      "width": null
     }
    },
    "4d91e0703ab9436da938d3f0ec0fb360": {
     "model_module": "@jupyter-widgets/controls",
     "model_module_version": "1.5.0",
     "model_name": "HTMLModel",
     "state": {
      "_dom_classes": [],
      "_model_module": "@jupyter-widgets/controls",
      "_model_module_version": "1.5.0",
      "_model_name": "HTMLModel",
      "_view_count": null,
      "_view_module": "@jupyter-widgets/controls",
      "_view_module_version": "1.5.0",
      "_view_name": "HTMLView",
      "description": "",
      "description_tooltip": null,
      "layout": "IPY_MODEL_0e4f1336c1dc4ff4a7fa93a3b92cb08c",
      "placeholder": "​",
      "style": "IPY_MODEL_f07ba0af2cf545e1a1faed0582217189",
      "value": "Map: 100%"
     }
    },
    "4e3fdfd5f68f466aaa94568c6b0b9b94": {
     "model_module": "@jupyter-widgets/controls",
     "model_module_version": "1.5.0",
     "model_name": "HTMLModel",
     "state": {
      "_dom_classes": [],
      "_model_module": "@jupyter-widgets/controls",
      "_model_module_version": "1.5.0",
      "_model_name": "HTMLModel",
      "_view_count": null,
      "_view_module": "@jupyter-widgets/controls",
      "_view_module_version": "1.5.0",
      "_view_name": "HTMLView",
      "description": "",
      "description_tooltip": null,
      "layout": "IPY_MODEL_a151ad288d134fac91dcd73a5b599823",
      "placeholder": "​",
      "style": "IPY_MODEL_42262b0a845a4db8909342c002c5bb13",
      "value": "Map: 100%"
     }
    },
    "4ef859c32e844d50a07dade135f031c2": {
     "model_module": "@jupyter-widgets/controls",
     "model_module_version": "1.5.0",
     "model_name": "FloatProgressModel",
     "state": {
      "_dom_classes": [],
      "_model_module": "@jupyter-widgets/controls",
      "_model_module_version": "1.5.0",
      "_model_name": "FloatProgressModel",
      "_view_count": null,
      "_view_module": "@jupyter-widgets/controls",
      "_view_module_version": "1.5.0",
      "_view_name": "ProgressView",
      "bar_style": "success",
      "description": "",
      "description_tooltip": null,
      "layout": "IPY_MODEL_d0bf1dbdd68148da8d51daf050cf54a3",
      "max": 67267,
      "min": 0,
      "orientation": "horizontal",
      "style": "IPY_MODEL_3e6b081a868743a2b68f9f1f1ed0dc6d",
      "value": 67267
     }
    },
    "514c2e88a70c4a229423b3edd7d3035b": {
     "model_module": "@jupyter-widgets/controls",
     "model_module_version": "1.5.0",
     "model_name": "ProgressStyleModel",
     "state": {
      "_model_module": "@jupyter-widgets/controls",
      "_model_module_version": "1.5.0",
      "_model_name": "ProgressStyleModel",
      "_view_count": null,
      "_view_module": "@jupyter-widgets/base",
      "_view_module_version": "1.2.0",
      "_view_name": "StyleView",
      "bar_color": null,
      "description_width": ""
     }
    },
    "51b798a23f1248e4821b5b69606353d3": {
     "model_module": "@jupyter-widgets/controls",
     "model_module_version": "1.5.0",
     "model_name": "DescriptionStyleModel",
     "state": {
      "_model_module": "@jupyter-widgets/controls",
      "_model_module_version": "1.5.0",
      "_model_name": "DescriptionStyleModel",
      "_view_count": null,
      "_view_module": "@jupyter-widgets/base",
      "_view_module_version": "1.2.0",
      "_view_name": "StyleView",
      "description_width": ""
     }
    },
    "56fa7cf1b2094ac5bfe3606fb94d3e9a": {
     "model_module": "@jupyter-widgets/controls",
     "model_module_version": "1.5.0",
     "model_name": "ProgressStyleModel",
     "state": {
      "_model_module": "@jupyter-widgets/controls",
      "_model_module_version": "1.5.0",
      "_model_name": "ProgressStyleModel",
      "_view_count": null,
      "_view_module": "@jupyter-widgets/base",
      "_view_module_version": "1.2.0",
      "_view_name": "StyleView",
      "bar_color": null,
      "description_width": ""
     }
    },
    "58950ca7bb1943ed89666fab6cd1c7d3": {
     "model_module": "@jupyter-widgets/controls",
     "model_module_version": "1.5.0",
     "model_name": "HTMLModel",
     "state": {
      "_dom_classes": [],
      "_model_module": "@jupyter-widgets/controls",
      "_model_module_version": "1.5.0",
      "_model_name": "HTMLModel",
      "_view_count": null,
      "_view_module": "@jupyter-widgets/controls",
      "_view_module_version": "1.5.0",
      "_view_name": "HTMLView",
      "description": "",
      "description_tooltip": null,
      "layout": "IPY_MODEL_35511c9f10884f229b0320768e338253",
      "placeholder": "​",
      "style": "IPY_MODEL_d46b3728563246f3b321a8c3b6fd5ce5",
      "value": " 67267/67267 [00:56&lt;00:00, 1958.10 examples/s]"
     }
    },
    "5a2dc825a32f44f9a02bfaf94bc773e4": {
     "model_module": "@jupyter-widgets/controls",
     "model_module_version": "1.5.0",
     "model_name": "HTMLModel",
     "state": {
      "_dom_classes": [],
      "_model_module": "@jupyter-widgets/controls",
      "_model_module_version": "1.5.0",
      "_model_name": "HTMLModel",
      "_view_count": null,
      "_view_module": "@jupyter-widgets/controls",
      "_view_module_version": "1.5.0",
      "_view_name": "HTMLView",
      "description": "",
      "description_tooltip": null,
      "layout": "IPY_MODEL_fa3489c12c5646eea4fffa1ab2e7f225",
      "placeholder": "​",
      "style": "IPY_MODEL_b1cb68971b5e4845a8c49bbd52f86a7c",
      "value": " 16817/16817 [00:01&lt;00:00, 11534.78 examples/s]"
     }
    },
    "5c990ce4348b4e93be1e0b0a60bc3f20": {
     "model_module": "@jupyter-widgets/controls",
     "model_module_version": "1.5.0",
     "model_name": "HTMLModel",
     "state": {
      "_dom_classes": [],
      "_model_module": "@jupyter-widgets/controls",
      "_model_module_version": "1.5.0",
      "_model_name": "HTMLModel",
      "_view_count": null,
      "_view_module": "@jupyter-widgets/controls",
      "_view_module_version": "1.5.0",
      "_view_name": "HTMLView",
      "description": "",
      "description_tooltip": null,
      "layout": "IPY_MODEL_7e10d58bbf0240aea9711fa6f15c88e5",
      "placeholder": "​",
      "style": "IPY_MODEL_eb7aee477ecd46f9af4155e15d2416e9",
      "value": "Map: 100%"
     }
    },
    "5cad2d9fcfc34c8e9a153441e1b428df": {
     "model_module": "@jupyter-widgets/controls",
     "model_module_version": "1.5.0",
     "model_name": "FloatProgressModel",
     "state": {
      "_dom_classes": [],
      "_model_module": "@jupyter-widgets/controls",
      "_model_module_version": "1.5.0",
      "_model_name": "FloatProgressModel",
      "_view_count": null,
      "_view_module": "@jupyter-widgets/controls",
      "_view_module_version": "1.5.0",
      "_view_name": "ProgressView",
      "bar_style": "success",
      "description": "",
      "description_tooltip": null,
      "layout": "IPY_MODEL_868cc17442a1451786c9d802d84146bb",
      "max": 16817,
      "min": 0,
      "orientation": "horizontal",
      "style": "IPY_MODEL_56fa7cf1b2094ac5bfe3606fb94d3e9a",
      "value": 16817
     }
    },
    "5dbb26bf77fe4f76ac88a050ddc7bc95": {
     "model_module": "@jupyter-widgets/controls",
     "model_module_version": "1.5.0",
     "model_name": "DescriptionStyleModel",
     "state": {
      "_model_module": "@jupyter-widgets/controls",
      "_model_module_version": "1.5.0",
      "_model_name": "DescriptionStyleModel",
      "_view_count": null,
      "_view_module": "@jupyter-widgets/base",
      "_view_module_version": "1.2.0",
      "_view_name": "StyleView",
      "description_width": ""
     }
    },
    "5e99a561093c46028c3d98c4ae93f213": {
     "model_module": "@jupyter-widgets/controls",
     "model_module_version": "1.5.0",
     "model_name": "FloatProgressModel",
     "state": {
      "_dom_classes": [],
      "_model_module": "@jupyter-widgets/controls",
      "_model_module_version": "1.5.0",
      "_model_name": "FloatProgressModel",
      "_view_count": null,
      "_view_module": "@jupyter-widgets/controls",
      "_view_module_version": "1.5.0",
      "_view_name": "ProgressView",
      "bar_style": "success",
      "description": "",
      "description_tooltip": null,
      "layout": "IPY_MODEL_24a5cff351dc4a40846e3f7a9b2f0490",
      "max": 1,
      "min": 0,
      "orientation": "horizontal",
      "style": "IPY_MODEL_f8c030e2351c4c8dac217f1ab255a701",
      "value": 0
     }
    },
    "640ae5a4f3aa4b2e83add8a3dc9cc68c": {
     "model_module": "@jupyter-widgets/base",
     "model_module_version": "1.2.0",
     "model_name": "LayoutModel",
     "state": {
      "_model_module": "@jupyter-widgets/base",
      "_model_module_version": "1.2.0",
      "_model_name": "LayoutModel",
      "_view_count": null,
      "_view_module": "@jupyter-widgets/base",
      "_view_module_version": "1.2.0",
      "_view_name": "LayoutView",
      "align_content": null,
      "align_items": null,
      "align_self": null,
      "border": null,
      "bottom": null,
      "display": null,
      "flex": null,
      "flex_flow": null,
      "grid_area": null,
      "grid_auto_columns": null,
      "grid_auto_flow": null,
      "grid_auto_rows": null,
      "grid_column": null,
      "grid_gap": null,
      "grid_row": null,
      "grid_template_areas": null,
      "grid_template_columns": null,
      "grid_template_rows": null,
      "height": null,
      "justify_content": null,
      "justify_items": null,
      "left": null,
      "margin": null,
      "max_height": null,
      "max_width": null,
      "min_height": null,
      "min_width": null,
      "object_fit": null,
      "object_position": null,
      "order": null,
      "overflow": null,
      "overflow_x": null,
      "overflow_y": null,
      "padding": null,
      "right": null,
      "top": null,
      "visibility": null,
      "width": null
     }
    },
    "6427602706804be0a0ee3814d0a224c3": {
     "model_module": "@jupyter-widgets/controls",
     "model_module_version": "1.5.0",
     "model_name": "DescriptionStyleModel",
     "state": {
      "_model_module": "@jupyter-widgets/controls",
      "_model_module_version": "1.5.0",
      "_model_name": "DescriptionStyleModel",
      "_view_count": null,
      "_view_module": "@jupyter-widgets/base",
      "_view_module_version": "1.2.0",
      "_view_name": "StyleView",
      "description_width": ""
     }
    },
    "65b45649350f4f29b94a51efe28ae310": {
     "model_module": "@jupyter-widgets/base",
     "model_module_version": "1.2.0",
     "model_name": "LayoutModel",
     "state": {
      "_model_module": "@jupyter-widgets/base",
      "_model_module_version": "1.2.0",
      "_model_name": "LayoutModel",
      "_view_count": null,
      "_view_module": "@jupyter-widgets/base",
      "_view_module_version": "1.2.0",
      "_view_name": "LayoutView",
      "align_content": null,
      "align_items": null,
      "align_self": null,
      "border": null,
      "bottom": null,
      "display": null,
      "flex": null,
      "flex_flow": null,
      "grid_area": null,
      "grid_auto_columns": null,
      "grid_auto_flow": null,
      "grid_auto_rows": null,
      "grid_column": null,
      "grid_gap": null,
      "grid_row": null,
      "grid_template_areas": null,
      "grid_template_columns": null,
      "grid_template_rows": null,
      "height": null,
      "justify_content": null,
      "justify_items": null,
      "left": null,
      "margin": null,
      "max_height": null,
      "max_width": null,
      "min_height": null,
      "min_width": null,
      "object_fit": null,
      "object_position": null,
      "order": null,
      "overflow": null,
      "overflow_x": null,
      "overflow_y": null,
      "padding": null,
      "right": null,
      "top": null,
      "visibility": null,
      "width": null
     }
    },
    "66c88f29ce544a6897950e7fe4c40ecd": {
     "model_module": "@jupyter-widgets/base",
     "model_module_version": "1.2.0",
     "model_name": "LayoutModel",
     "state": {
      "_model_module": "@jupyter-widgets/base",
      "_model_module_version": "1.2.0",
      "_model_name": "LayoutModel",
      "_view_count": null,
      "_view_module": "@jupyter-widgets/base",
      "_view_module_version": "1.2.0",
      "_view_name": "LayoutView",
      "align_content": null,
      "align_items": null,
      "align_self": null,
      "border": null,
      "bottom": null,
      "display": null,
      "flex": null,
      "flex_flow": null,
      "grid_area": null,
      "grid_auto_columns": null,
      "grid_auto_flow": null,
      "grid_auto_rows": null,
      "grid_column": null,
      "grid_gap": null,
      "grid_row": null,
      "grid_template_areas": null,
      "grid_template_columns": null,
      "grid_template_rows": null,
      "height": null,
      "justify_content": null,
      "justify_items": null,
      "left": null,
      "margin": null,
      "max_height": null,
      "max_width": null,
      "min_height": null,
      "min_width": null,
      "object_fit": null,
      "object_position": null,
      "order": null,
      "overflow": null,
      "overflow_x": null,
      "overflow_y": null,
      "padding": null,
      "right": null,
      "top": null,
      "visibility": null,
      "width": null
     }
    },
    "67b4c9f41169430ca7b35d33d6c4007c": {
     "model_module": "@jupyter-widgets/base",
     "model_module_version": "1.2.0",
     "model_name": "LayoutModel",
     "state": {
      "_model_module": "@jupyter-widgets/base",
      "_model_module_version": "1.2.0",
      "_model_name": "LayoutModel",
      "_view_count": null,
      "_view_module": "@jupyter-widgets/base",
      "_view_module_version": "1.2.0",
      "_view_name": "LayoutView",
      "align_content": null,
      "align_items": null,
      "align_self": null,
      "border": null,
      "bottom": null,
      "display": null,
      "flex": null,
      "flex_flow": null,
      "grid_area": null,
      "grid_auto_columns": null,
      "grid_auto_flow": null,
      "grid_auto_rows": null,
      "grid_column": null,
      "grid_gap": null,
      "grid_row": null,
      "grid_template_areas": null,
      "grid_template_columns": null,
      "grid_template_rows": null,
      "height": null,
      "justify_content": null,
      "justify_items": null,
      "left": null,
      "margin": null,
      "max_height": null,
      "max_width": null,
      "min_height": null,
      "min_width": null,
      "object_fit": null,
      "object_position": null,
      "order": null,
      "overflow": null,
      "overflow_x": null,
      "overflow_y": null,
      "padding": null,
      "right": null,
      "top": null,
      "visibility": null,
      "width": null
     }
    },
    "6c52c07cd95e45539604338ed542b3e9": {
     "model_module": "@jupyter-widgets/controls",
     "model_module_version": "1.5.0",
     "model_name": "ProgressStyleModel",
     "state": {
      "_model_module": "@jupyter-widgets/controls",
      "_model_module_version": "1.5.0",
      "_model_name": "ProgressStyleModel",
      "_view_count": null,
      "_view_module": "@jupyter-widgets/base",
      "_view_module_version": "1.2.0",
      "_view_name": "StyleView",
      "bar_color": null,
      "description_width": ""
     }
    },
    "6d2b824f733a4f19aff1451fca667585": {
     "model_module": "@jupyter-widgets/controls",
     "model_module_version": "1.5.0",
     "model_name": "DescriptionStyleModel",
     "state": {
      "_model_module": "@jupyter-widgets/controls",
      "_model_module_version": "1.5.0",
      "_model_name": "DescriptionStyleModel",
      "_view_count": null,
      "_view_module": "@jupyter-widgets/base",
      "_view_module_version": "1.2.0",
      "_view_name": "StyleView",
      "description_width": ""
     }
    },
    "6dfe3b26e1ae4e74823c788a7dabc75d": {
     "model_module": "@jupyter-widgets/base",
     "model_module_version": "1.2.0",
     "model_name": "LayoutModel",
     "state": {
      "_model_module": "@jupyter-widgets/base",
      "_model_module_version": "1.2.0",
      "_model_name": "LayoutModel",
      "_view_count": null,
      "_view_module": "@jupyter-widgets/base",
      "_view_module_version": "1.2.0",
      "_view_name": "LayoutView",
      "align_content": null,
      "align_items": null,
      "align_self": null,
      "border": null,
      "bottom": null,
      "display": null,
      "flex": null,
      "flex_flow": null,
      "grid_area": null,
      "grid_auto_columns": null,
      "grid_auto_flow": null,
      "grid_auto_rows": null,
      "grid_column": null,
      "grid_gap": null,
      "grid_row": null,
      "grid_template_areas": null,
      "grid_template_columns": null,
      "grid_template_rows": null,
      "height": null,
      "justify_content": null,
      "justify_items": null,
      "left": null,
      "margin": null,
      "max_height": null,
      "max_width": null,
      "min_height": null,
      "min_width": null,
      "object_fit": null,
      "object_position": null,
      "order": null,
      "overflow": null,
      "overflow_x": null,
      "overflow_y": null,
      "padding": null,
      "right": null,
      "top": null,
      "visibility": null,
      "width": null
     }
    },
    "6e838101e6de4154806a70f07e09f226": {
     "model_module": "@jupyter-widgets/controls",
     "model_module_version": "1.5.0",
     "model_name": "ProgressStyleModel",
     "state": {
      "_model_module": "@jupyter-widgets/controls",
      "_model_module_version": "1.5.0",
      "_model_name": "ProgressStyleModel",
      "_view_count": null,
      "_view_module": "@jupyter-widgets/base",
      "_view_module_version": "1.2.0",
      "_view_name": "StyleView",
      "bar_color": null,
      "description_width": ""
     }
    },
    "6fe661a3fa2541a89889cad10c16e8af": {
     "model_module": "@jupyter-widgets/controls",
     "model_module_version": "1.5.0",
     "model_name": "HBoxModel",
     "state": {
      "_dom_classes": [],
      "_model_module": "@jupyter-widgets/controls",
      "_model_module_version": "1.5.0",
      "_model_name": "HBoxModel",
      "_view_count": null,
      "_view_module": "@jupyter-widgets/controls",
      "_view_module_version": "1.5.0",
      "_view_name": "HBoxView",
      "box_style": "",
      "children": [
       "IPY_MODEL_8d3dccb267c84fcca38b0faf2d478bf7",
       "IPY_MODEL_98e844f68f7845a8bceaef43cf2b1e28",
       "IPY_MODEL_f09a681c9538467caa6f8485ab2a721c"
      ],
      "layout": "IPY_MODEL_794f44e03fc94e9c83decdcda3eecb12"
     }
    },
    "721683384ba6402c88cd04d8aa3245b0": {
     "model_module": "@jupyter-widgets/base",
     "model_module_version": "1.2.0",
     "model_name": "LayoutModel",
     "state": {
      "_model_module": "@jupyter-widgets/base",
      "_model_module_version": "1.2.0",
      "_model_name": "LayoutModel",
      "_view_count": null,
      "_view_module": "@jupyter-widgets/base",
      "_view_module_version": "1.2.0",
      "_view_name": "LayoutView",
      "align_content": null,
      "align_items": null,
      "align_self": null,
      "border": null,
      "bottom": null,
      "display": null,
      "flex": null,
      "flex_flow": null,
      "grid_area": null,
      "grid_auto_columns": null,
      "grid_auto_flow": null,
      "grid_auto_rows": null,
      "grid_column": null,
      "grid_gap": null,
      "grid_row": null,
      "grid_template_areas": null,
      "grid_template_columns": null,
      "grid_template_rows": null,
      "height": null,
      "justify_content": null,
      "justify_items": null,
      "left": null,
      "margin": null,
      "max_height": null,
      "max_width": null,
      "min_height": null,
      "min_width": null,
      "object_fit": null,
      "object_position": null,
      "order": null,
      "overflow": null,
      "overflow_x": null,
      "overflow_y": null,
      "padding": null,
      "right": null,
      "top": null,
      "visibility": null,
      "width": null
     }
    },
    "735cbd0104d4412491fbd8e62af1327b": {
     "model_module": "@jupyter-widgets/controls",
     "model_module_version": "1.5.0",
     "model_name": "HBoxModel",
     "state": {
      "_dom_classes": [],
      "_model_module": "@jupyter-widgets/controls",
      "_model_module_version": "1.5.0",
      "_model_name": "HBoxModel",
      "_view_count": null,
      "_view_module": "@jupyter-widgets/controls",
      "_view_module_version": "1.5.0",
      "_view_name": "HBoxView",
      "box_style": "",
      "children": [
       "IPY_MODEL_4d91e0703ab9436da938d3f0ec0fb360",
       "IPY_MODEL_4ef859c32e844d50a07dade135f031c2",
       "IPY_MODEL_bd6777a9263b4c939d3bb1835129c9cd"
      ],
      "layout": "IPY_MODEL_0a305d3259d84ec3964a261f782161eb"
     }
    },
    "7492b6e9569546b193a5ecdd49b5dd36": {
     "model_module": "@jupyter-widgets/controls",
     "model_module_version": "1.5.0",
     "model_name": "ProgressStyleModel",
     "state": {
      "_model_module": "@jupyter-widgets/controls",
      "_model_module_version": "1.5.0",
      "_model_name": "ProgressStyleModel",
      "_view_count": null,
      "_view_module": "@jupyter-widgets/base",
      "_view_module_version": "1.2.0",
      "_view_name": "StyleView",
      "bar_color": null,
      "description_width": ""
     }
    },
    "7673951bf60a480eab90b877ab406ae8": {
     "model_module": "@jupyter-widgets/controls",
     "model_module_version": "1.5.0",
     "model_name": "FloatProgressModel",
     "state": {
      "_dom_classes": [],
      "_model_module": "@jupyter-widgets/controls",
      "_model_module_version": "1.5.0",
      "_model_name": "FloatProgressModel",
      "_view_count": null,
      "_view_module": "@jupyter-widgets/controls",
      "_view_module_version": "1.5.0",
      "_view_name": "ProgressView",
      "bar_style": "success",
      "description": "",
      "description_tooltip": null,
      "layout": "IPY_MODEL_e80d0481c2594714b339070e9d547304",
      "max": 16817,
      "min": 0,
      "orientation": "horizontal",
      "style": "IPY_MODEL_b765f01ba9cf45089b0b4688d0386d98",
      "value": 16817
     }
    },
    "78f2441afabe41bd808e3fd17024bfaa": {
     "model_module": "@jupyter-widgets/base",
     "model_module_version": "1.2.0",
     "model_name": "LayoutModel",
     "state": {
      "_model_module": "@jupyter-widgets/base",
      "_model_module_version": "1.2.0",
      "_model_name": "LayoutModel",
      "_view_count": null,
      "_view_module": "@jupyter-widgets/base",
      "_view_module_version": "1.2.0",
      "_view_name": "LayoutView",
      "align_content": null,
      "align_items": null,
      "align_self": null,
      "border": null,
      "bottom": null,
      "display": null,
      "flex": null,
      "flex_flow": null,
      "grid_area": null,
      "grid_auto_columns": null,
      "grid_auto_flow": null,
      "grid_auto_rows": null,
      "grid_column": null,
      "grid_gap": null,
      "grid_row": null,
      "grid_template_areas": null,
      "grid_template_columns": null,
      "grid_template_rows": null,
      "height": null,
      "justify_content": null,
      "justify_items": null,
      "left": null,
      "margin": null,
      "max_height": null,
      "max_width": null,
      "min_height": null,
      "min_width": null,
      "object_fit": null,
      "object_position": null,
      "order": null,
      "overflow": null,
      "overflow_x": null,
      "overflow_y": null,
      "padding": null,
      "right": null,
      "top": null,
      "visibility": null,
      "width": null
     }
    },
    "794f44e03fc94e9c83decdcda3eecb12": {
     "model_module": "@jupyter-widgets/base",
     "model_module_version": "1.2.0",
     "model_name": "LayoutModel",
     "state": {
      "_model_module": "@jupyter-widgets/base",
      "_model_module_version": "1.2.0",
      "_model_name": "LayoutModel",
      "_view_count": null,
      "_view_module": "@jupyter-widgets/base",
      "_view_module_version": "1.2.0",
      "_view_name": "LayoutView",
      "align_content": null,
      "align_items": null,
      "align_self": null,
      "border": null,
      "bottom": null,
      "display": null,
      "flex": null,
      "flex_flow": null,
      "grid_area": null,
      "grid_auto_columns": null,
      "grid_auto_flow": null,
      "grid_auto_rows": null,
      "grid_column": null,
      "grid_gap": null,
      "grid_row": null,
      "grid_template_areas": null,
      "grid_template_columns": null,
      "grid_template_rows": null,
      "height": null,
      "justify_content": null,
      "justify_items": null,
      "left": null,
      "margin": null,
      "max_height": null,
      "max_width": null,
      "min_height": null,
      "min_width": null,
      "object_fit": null,
      "object_position": null,
      "order": null,
      "overflow": null,
      "overflow_x": null,
      "overflow_y": null,
      "padding": null,
      "right": null,
      "top": null,
      "visibility": null,
      "width": null
     }
    },
    "7acf668dbd3c431c9619f37a0d2fbf79": {
     "model_module": "@jupyter-widgets/base",
     "model_module_version": "1.2.0",
     "model_name": "LayoutModel",
     "state": {
      "_model_module": "@jupyter-widgets/base",
      "_model_module_version": "1.2.0",
      "_model_name": "LayoutModel",
      "_view_count": null,
      "_view_module": "@jupyter-widgets/base",
      "_view_module_version": "1.2.0",
      "_view_name": "LayoutView",
      "align_content": null,
      "align_items": null,
      "align_self": null,
      "border": null,
      "bottom": null,
      "display": null,
      "flex": null,
      "flex_flow": null,
      "grid_area": null,
      "grid_auto_columns": null,
      "grid_auto_flow": null,
      "grid_auto_rows": null,
      "grid_column": null,
      "grid_gap": null,
      "grid_row": null,
      "grid_template_areas": null,
      "grid_template_columns": null,
      "grid_template_rows": null,
      "height": null,
      "justify_content": null,
      "justify_items": null,
      "left": null,
      "margin": null,
      "max_height": null,
      "max_width": null,
      "min_height": null,
      "min_width": null,
      "object_fit": null,
      "object_position": null,
      "order": null,
      "overflow": null,
      "overflow_x": null,
      "overflow_y": null,
      "padding": null,
      "right": null,
      "top": null,
      "visibility": null,
      "width": null
     }
    },
    "7db98f2ca76d4dab85dda9b2a91f8c67": {
     "model_module": "@jupyter-widgets/controls",
     "model_module_version": "1.5.0",
     "model_name": "HBoxModel",
     "state": {
      "_dom_classes": [],
      "_model_module": "@jupyter-widgets/controls",
      "_model_module_version": "1.5.0",
      "_model_name": "HBoxModel",
      "_view_count": null,
      "_view_module": "@jupyter-widgets/controls",
      "_view_module_version": "1.5.0",
      "_view_name": "HBoxView",
      "box_style": "",
      "children": [
       "IPY_MODEL_e6c63b389009478a9bdac4a0449bd9c6",
       "IPY_MODEL_5cad2d9fcfc34c8e9a153441e1b428df",
       "IPY_MODEL_5a2dc825a32f44f9a02bfaf94bc773e4"
      ],
      "layout": "IPY_MODEL_bd059b33cdce4b3eb72ae261c59e3760"
     }
    },
    "7e10d58bbf0240aea9711fa6f15c88e5": {
     "model_module": "@jupyter-widgets/base",
     "model_module_version": "1.2.0",
     "model_name": "LayoutModel",
     "state": {
      "_model_module": "@jupyter-widgets/base",
      "_model_module_version": "1.2.0",
      "_model_name": "LayoutModel",
      "_view_count": null,
      "_view_module": "@jupyter-widgets/base",
      "_view_module_version": "1.2.0",
      "_view_name": "LayoutView",
      "align_content": null,
      "align_items": null,
      "align_self": null,
      "border": null,
      "bottom": null,
      "display": null,
      "flex": null,
      "flex_flow": null,
      "grid_area": null,
      "grid_auto_columns": null,
      "grid_auto_flow": null,
      "grid_auto_rows": null,
      "grid_column": null,
      "grid_gap": null,
      "grid_row": null,
      "grid_template_areas": null,
      "grid_template_columns": null,
      "grid_template_rows": null,
      "height": null,
      "justify_content": null,
      "justify_items": null,
      "left": null,
      "margin": null,
      "max_height": null,
      "max_width": null,
      "min_height": null,
      "min_width": null,
      "object_fit": null,
      "object_position": null,
      "order": null,
      "overflow": null,
      "overflow_x": null,
      "overflow_y": null,
      "padding": null,
      "right": null,
      "top": null,
      "visibility": null,
      "width": null
     }
    },
    "7e28ced37b72465287f38fec6cffc121": {
     "model_module": "@jupyter-widgets/controls",
     "model_module_version": "1.5.0",
     "model_name": "ProgressStyleModel",
     "state": {
      "_model_module": "@jupyter-widgets/controls",
      "_model_module_version": "1.5.0",
      "_model_name": "ProgressStyleModel",
      "_view_count": null,
      "_view_module": "@jupyter-widgets/base",
      "_view_module_version": "1.2.0",
      "_view_name": "StyleView",
      "bar_color": null,
      "description_width": ""
     }
    },
    "7f43eef406464a079fde8713da5cfb90": {
     "model_module": "@jupyter-widgets/base",
     "model_module_version": "1.2.0",
     "model_name": "LayoutModel",
     "state": {
      "_model_module": "@jupyter-widgets/base",
      "_model_module_version": "1.2.0",
      "_model_name": "LayoutModel",
      "_view_count": null,
      "_view_module": "@jupyter-widgets/base",
      "_view_module_version": "1.2.0",
      "_view_name": "LayoutView",
      "align_content": null,
      "align_items": null,
      "align_self": null,
      "border": null,
      "bottom": null,
      "display": null,
      "flex": null,
      "flex_flow": null,
      "grid_area": null,
      "grid_auto_columns": null,
      "grid_auto_flow": null,
      "grid_auto_rows": null,
      "grid_column": null,
      "grid_gap": null,
      "grid_row": null,
      "grid_template_areas": null,
      "grid_template_columns": null,
      "grid_template_rows": null,
      "height": null,
      "justify_content": null,
      "justify_items": null,
      "left": null,
      "margin": null,
      "max_height": null,
      "max_width": null,
      "min_height": null,
      "min_width": null,
      "object_fit": null,
      "object_position": null,
      "order": null,
      "overflow": null,
      "overflow_x": null,
      "overflow_y": null,
      "padding": null,
      "right": null,
      "top": null,
      "visibility": null,
      "width": null
     }
    },
    "7f68fc382c0b439ebb659e8d09b16311": {
     "model_module": "@jupyter-widgets/controls",
     "model_module_version": "1.5.0",
     "model_name": "ProgressStyleModel",
     "state": {
      "_model_module": "@jupyter-widgets/controls",
      "_model_module_version": "1.5.0",
      "_model_name": "ProgressStyleModel",
      "_view_count": null,
      "_view_module": "@jupyter-widgets/base",
      "_view_module_version": "1.2.0",
      "_view_name": "StyleView",
      "bar_color": null,
      "description_width": ""
     }
    },
    "8231012ba5474354a909258b96547847": {
     "model_module": "@jupyter-widgets/controls",
     "model_module_version": "1.5.0",
     "model_name": "HBoxModel",
     "state": {
      "_dom_classes": [],
      "_model_module": "@jupyter-widgets/controls",
      "_model_module_version": "1.5.0",
      "_model_name": "HBoxModel",
      "_view_count": null,
      "_view_module": "@jupyter-widgets/controls",
      "_view_module_version": "1.5.0",
      "_view_name": "HBoxView",
      "box_style": "",
      "children": [
       "IPY_MODEL_be884fe134c04a2abe47ea203453c1bc",
       "IPY_MODEL_9022a4c0d7db4ef886a0884b8cae29bf",
       "IPY_MODEL_c9719e4451604b8e87db90d735f9e5a3"
      ],
      "layout": "IPY_MODEL_ea3cd844fbfa4fd68de60988d1a21901"
     }
    },
    "829d7b2b28b94cf499f89cea17867f48": {
     "model_module": "@jupyter-widgets/base",
     "model_module_version": "1.2.0",
     "model_name": "LayoutModel",
     "state": {
      "_model_module": "@jupyter-widgets/base",
      "_model_module_version": "1.2.0",
      "_model_name": "LayoutModel",
      "_view_count": null,
      "_view_module": "@jupyter-widgets/base",
      "_view_module_version": "1.2.0",
      "_view_name": "LayoutView",
      "align_content": null,
      "align_items": null,
      "align_self": null,
      "border": null,
      "bottom": null,
      "display": null,
      "flex": null,
      "flex_flow": null,
      "grid_area": null,
      "grid_auto_columns": null,
      "grid_auto_flow": null,
      "grid_auto_rows": null,
      "grid_column": null,
      "grid_gap": null,
      "grid_row": null,
      "grid_template_areas": null,
      "grid_template_columns": null,
      "grid_template_rows": null,
      "height": null,
      "justify_content": null,
      "justify_items": null,
      "left": null,
      "margin": null,
      "max_height": null,
      "max_width": null,
      "min_height": null,
      "min_width": null,
      "object_fit": null,
      "object_position": null,
      "order": null,
      "overflow": null,
      "overflow_x": null,
      "overflow_y": null,
      "padding": null,
      "right": null,
      "top": null,
      "visibility": null,
      "width": null
     }
    },
    "82b1ff3e1c434549b396779fbe2d6293": {
     "model_module": "@jupyter-widgets/controls",
     "model_module_version": "1.5.0",
     "model_name": "HBoxModel",
     "state": {
      "_dom_classes": [],
      "_model_module": "@jupyter-widgets/controls",
      "_model_module_version": "1.5.0",
      "_model_name": "HBoxModel",
      "_view_count": null,
      "_view_module": "@jupyter-widgets/controls",
      "_view_module_version": "1.5.0",
      "_view_name": "HBoxView",
      "box_style": "",
      "children": [
       "IPY_MODEL_cd14f3bbe7cf4e6698c83c06574582b8",
       "IPY_MODEL_4cfbde355df249e0abb923d2bcfe6612",
       "IPY_MODEL_58950ca7bb1943ed89666fab6cd1c7d3"
      ],
      "layout": "IPY_MODEL_640ae5a4f3aa4b2e83add8a3dc9cc68c"
     }
    },
    "832204ed91234310837cf81c0e478141": {
     "model_module": "@jupyter-widgets/controls",
     "model_module_version": "1.5.0",
     "model_name": "ProgressStyleModel",
     "state": {
      "_model_module": "@jupyter-widgets/controls",
      "_model_module_version": "1.5.0",
      "_model_name": "ProgressStyleModel",
      "_view_count": null,
      "_view_module": "@jupyter-widgets/base",
      "_view_module_version": "1.2.0",
      "_view_name": "StyleView",
      "bar_color": null,
      "description_width": ""
     }
    },
    "8327450d4e64474bbe5651e66e63fbf7": {
     "model_module": "@jupyter-widgets/controls",
     "model_module_version": "1.5.0",
     "model_name": "FloatProgressModel",
     "state": {
      "_dom_classes": [],
      "_model_module": "@jupyter-widgets/controls",
      "_model_module_version": "1.5.0",
      "_model_name": "FloatProgressModel",
      "_view_count": null,
      "_view_module": "@jupyter-widgets/controls",
      "_view_module_version": "1.5.0",
      "_view_name": "ProgressView",
      "bar_style": "success",
      "description": "",
      "description_tooltip": null,
      "layout": "IPY_MODEL_1b188bb77d4b4d67bab7551661628b51",
      "max": 21021,
      "min": 0,
      "orientation": "horizontal",
      "style": "IPY_MODEL_1d3ab97cba2642bfb92dad18e5d4afbc",
      "value": 21021
     }
    },
    "838887f7b38d4a46b8f547ea5d95201f": {
     "model_module": "@jupyter-widgets/controls",
     "model_module_version": "1.5.0",
     "model_name": "HBoxModel",
     "state": {
      "_dom_classes": [],
      "_model_module": "@jupyter-widgets/controls",
      "_model_module_version": "1.5.0",
      "_model_name": "HBoxModel",
      "_view_count": null,
      "_view_module": "@jupyter-widgets/controls",
      "_view_module_version": "1.5.0",
      "_view_name": "HBoxView",
      "box_style": "",
      "children": [
       "IPY_MODEL_2a4b327b998541d0af6ed735f69400a6",
       "IPY_MODEL_8327450d4e64474bbe5651e66e63fbf7",
       "IPY_MODEL_f3b63f3d798246ceaf7c691f9011b3d3"
      ],
      "layout": "IPY_MODEL_b9fe8325f83e47c793df859bed7e2c70"
     }
    },
    "868cc17442a1451786c9d802d84146bb": {
     "model_module": "@jupyter-widgets/base",
     "model_module_version": "1.2.0",
     "model_name": "LayoutModel",
     "state": {
      "_model_module": "@jupyter-widgets/base",
      "_model_module_version": "1.2.0",
      "_model_name": "LayoutModel",
      "_view_count": null,
      "_view_module": "@jupyter-widgets/base",
      "_view_module_version": "1.2.0",
      "_view_name": "LayoutView",
      "align_content": null,
      "align_items": null,
      "align_self": null,
      "border": null,
      "bottom": null,
      "display": null,
      "flex": null,
      "flex_flow": null,
      "grid_area": null,
      "grid_auto_columns": null,
      "grid_auto_flow": null,
      "grid_auto_rows": null,
      "grid_column": null,
      "grid_gap": null,
      "grid_row": null,
      "grid_template_areas": null,
      "grid_template_columns": null,
      "grid_template_rows": null,
      "height": null,
      "justify_content": null,
      "justify_items": null,
      "left": null,
      "margin": null,
      "max_height": null,
      "max_width": null,
      "min_height": null,
      "min_width": null,
      "object_fit": null,
      "object_position": null,
      "order": null,
      "overflow": null,
      "overflow_x": null,
      "overflow_y": null,
      "padding": null,
      "right": null,
      "top": null,
      "visibility": null,
      "width": null
     }
    },
    "8c6d51891f934606b3c2b6c6acffc3cd": {
     "model_module": "@jupyter-widgets/controls",
     "model_module_version": "1.5.0",
     "model_name": "DescriptionStyleModel",
     "state": {
      "_model_module": "@jupyter-widgets/controls",
      "_model_module_version": "1.5.0",
      "_model_name": "DescriptionStyleModel",
      "_view_count": null,
      "_view_module": "@jupyter-widgets/base",
      "_view_module_version": "1.2.0",
      "_view_name": "StyleView",
      "description_width": ""
     }
    },
    "8d3dccb267c84fcca38b0faf2d478bf7": {
     "model_module": "@jupyter-widgets/controls",
     "model_module_version": "1.5.0",
     "model_name": "HTMLModel",
     "state": {
      "_dom_classes": [],
      "_model_module": "@jupyter-widgets/controls",
      "_model_module_version": "1.5.0",
      "_model_name": "HTMLModel",
      "_view_count": null,
      "_view_module": "@jupyter-widgets/controls",
      "_view_module_version": "1.5.0",
      "_view_name": "HTMLView",
      "description": "",
      "description_tooltip": null,
      "layout": "IPY_MODEL_21145e38fbaa4ad38aee74378cc14e48",
      "placeholder": "​",
      "style": "IPY_MODEL_6427602706804be0a0ee3814d0a224c3",
      "value": "Map: 100%"
     }
    },
    "900897ae718a4ce7993ddc52eeaeb925": {
     "model_module": "@jupyter-widgets/controls",
     "model_module_version": "1.5.0",
     "model_name": "FloatProgressModel",
     "state": {
      "_dom_classes": [],
      "_model_module": "@jupyter-widgets/controls",
      "_model_module_version": "1.5.0",
      "_model_name": "FloatProgressModel",
      "_view_count": null,
      "_view_module": "@jupyter-widgets/controls",
      "_view_module_version": "1.5.0",
      "_view_name": "ProgressView",
      "bar_style": "success",
      "description": "",
      "description_tooltip": null,
      "layout": "IPY_MODEL_efd5e5ca39c04ae6827fe1956bfe9f10",
      "max": 7040,
      "min": 0,
      "orientation": "horizontal",
      "style": "IPY_MODEL_6e838101e6de4154806a70f07e09f226",
      "value": 7040
     }
    },
    "9022a4c0d7db4ef886a0884b8cae29bf": {
     "model_module": "@jupyter-widgets/controls",
     "model_module_version": "1.5.0",
     "model_name": "FloatProgressModel",
     "state": {
      "_dom_classes": [],
      "_model_module": "@jupyter-widgets/controls",
      "_model_module_version": "1.5.0",
      "_model_name": "FloatProgressModel",
      "_view_count": null,
      "_view_module": "@jupyter-widgets/controls",
      "_view_module_version": "1.5.0",
      "_view_name": "ProgressView",
      "bar_style": "success",
      "description": "",
      "description_tooltip": null,
      "layout": "IPY_MODEL_9ce805273cf4492b92fefc7cbfe1ba97",
      "max": 481,
      "min": 0,
      "orientation": "horizontal",
      "style": "IPY_MODEL_514c2e88a70c4a229423b3edd7d3035b",
      "value": 481
     }
    },
    "9098e4cb48504d4eb5bd56f6b160a0e7": {
     "model_module": "@jupyter-widgets/controls",
     "model_module_version": "1.5.0",
     "model_name": "HTMLModel",
     "state": {
      "_dom_classes": [],
      "_model_module": "@jupyter-widgets/controls",
      "_model_module_version": "1.5.0",
      "_model_name": "HTMLModel",
      "_view_count": null,
      "_view_module": "@jupyter-widgets/controls",
      "_view_module_version": "1.5.0",
      "_view_name": "HTMLView",
      "description": "",
      "description_tooltip": null,
      "layout": "IPY_MODEL_7acf668dbd3c431c9619f37a0d2fbf79",
      "placeholder": "​",
      "style": "IPY_MODEL_a8ae0bb28c0b4cd98611c483b0bb7b27",
      "value": "Map: 100%"
     }
    },
    "98e844f68f7845a8bceaef43cf2b1e28": {
     "model_module": "@jupyter-widgets/controls",
     "model_module_version": "1.5.0",
     "model_name": "FloatProgressModel",
     "state": {
      "_dom_classes": [],
      "_model_module": "@jupyter-widgets/controls",
      "_model_module_version": "1.5.0",
      "_model_name": "FloatProgressModel",
      "_view_count": null,
      "_view_module": "@jupyter-widgets/controls",
      "_view_module_version": "1.5.0",
      "_view_name": "ProgressView",
      "bar_style": "success",
      "description": "",
      "description_tooltip": null,
      "layout": "IPY_MODEL_d3626f334ed4426f888eccda32acc0df",
      "max": 7040,
      "min": 0,
      "orientation": "horizontal",
      "style": "IPY_MODEL_05b5a1548a9d4e5c890a7b3ef5c51226",
      "value": 7040
     }
    },
    "9a3a46e2efdb445491b21520da684463": {
     "model_module": "@jupyter-widgets/controls",
     "model_module_version": "1.5.0",
     "model_name": "HTMLModel",
     "state": {
      "_dom_classes": [],
      "_model_module": "@jupyter-widgets/controls",
      "_model_module_version": "1.5.0",
      "_model_name": "HTMLModel",
      "_view_count": null,
      "_view_module": "@jupyter-widgets/controls",
      "_view_module_version": "1.5.0",
      "_view_name": "HTMLView",
      "description": "",
      "description_tooltip": null,
      "layout": "IPY_MODEL_0223ee9dc6e645619eab598d4eb26f81",
      "placeholder": "​",
      "style": "IPY_MODEL_26231ca96ce842069aac52dcacea14a3",
      "value": " 16817/16817 [00:08&lt;00:00, 1714.48 examples/s]"
     }
    },
    "9c9c3fa7f1f44767af6550a937dc7127": {
     "model_module": "@jupyter-widgets/base",
     "model_module_version": "1.2.0",
     "model_name": "LayoutModel",
     "state": {
      "_model_module": "@jupyter-widgets/base",
      "_model_module_version": "1.2.0",
      "_model_name": "LayoutModel",
      "_view_count": null,
      "_view_module": "@jupyter-widgets/base",
      "_view_module_version": "1.2.0",
      "_view_name": "LayoutView",
      "align_content": null,
      "align_items": null,
      "align_self": null,
      "border": null,
      "bottom": null,
      "display": null,
      "flex": null,
      "flex_flow": null,
      "grid_area": null,
      "grid_auto_columns": null,
      "grid_auto_flow": null,
      "grid_auto_rows": null,
      "grid_column": null,
      "grid_gap": null,
      "grid_row": null,
      "grid_template_areas": null,
      "grid_template_columns": null,
      "grid_template_rows": null,
      "height": null,
      "justify_content": null,
      "justify_items": null,
      "left": null,
      "margin": null,
      "max_height": null,
      "max_width": null,
      "min_height": null,
      "min_width": null,
      "object_fit": null,
      "object_position": null,
      "order": null,
      "overflow": null,
      "overflow_x": null,
      "overflow_y": null,
      "padding": null,
      "right": null,
      "top": null,
      "visibility": null,
      "width": null
     }
    },
    "9ce805273cf4492b92fefc7cbfe1ba97": {
     "model_module": "@jupyter-widgets/base",
     "model_module_version": "1.2.0",
     "model_name": "LayoutModel",
     "state": {
      "_model_module": "@jupyter-widgets/base",
      "_model_module_version": "1.2.0",
      "_model_name": "LayoutModel",
      "_view_count": null,
      "_view_module": "@jupyter-widgets/base",
      "_view_module_version": "1.2.0",
      "_view_name": "LayoutView",
      "align_content": null,
      "align_items": null,
      "align_self": null,
      "border": null,
      "bottom": null,
      "display": null,
      "flex": null,
      "flex_flow": null,
      "grid_area": null,
      "grid_auto_columns": null,
      "grid_auto_flow": null,
      "grid_auto_rows": null,
      "grid_column": null,
      "grid_gap": null,
      "grid_row": null,
      "grid_template_areas": null,
      "grid_template_columns": null,
      "grid_template_rows": null,
      "height": null,
      "justify_content": null,
      "justify_items": null,
      "left": null,
      "margin": null,
      "max_height": null,
      "max_width": null,
      "min_height": null,
      "min_width": null,
      "object_fit": null,
      "object_position": null,
      "order": null,
      "overflow": null,
      "overflow_x": null,
      "overflow_y": null,
      "padding": null,
      "right": null,
      "top": null,
      "visibility": null,
      "width": null
     }
    },
    "9d776c04e38540969c27d792ec7e2e39": {
     "model_module": "@jupyter-widgets/controls",
     "model_module_version": "1.5.0",
     "model_name": "DescriptionStyleModel",
     "state": {
      "_model_module": "@jupyter-widgets/controls",
      "_model_module_version": "1.5.0",
      "_model_name": "DescriptionStyleModel",
      "_view_count": null,
      "_view_module": "@jupyter-widgets/base",
      "_view_module_version": "1.2.0",
      "_view_name": "StyleView",
      "description_width": ""
     }
    },
    "a151ad288d134fac91dcd73a5b599823": {
     "model_module": "@jupyter-widgets/base",
     "model_module_version": "1.2.0",
     "model_name": "LayoutModel",
     "state": {
      "_model_module": "@jupyter-widgets/base",
      "_model_module_version": "1.2.0",
      "_model_name": "LayoutModel",
      "_view_count": null,
      "_view_module": "@jupyter-widgets/base",
      "_view_module_version": "1.2.0",
      "_view_name": "LayoutView",
      "align_content": null,
      "align_items": null,
      "align_self": null,
      "border": null,
      "bottom": null,
      "display": null,
      "flex": null,
      "flex_flow": null,
      "grid_area": null,
      "grid_auto_columns": null,
      "grid_auto_flow": null,
      "grid_auto_rows": null,
      "grid_column": null,
      "grid_gap": null,
      "grid_row": null,
      "grid_template_areas": null,
      "grid_template_columns": null,
      "grid_template_rows": null,
      "height": null,
      "justify_content": null,
      "justify_items": null,
      "left": null,
      "margin": null,
      "max_height": null,
      "max_width": null,
      "min_height": null,
      "min_width": null,
      "object_fit": null,
      "object_position": null,
      "order": null,
      "overflow": null,
      "overflow_x": null,
      "overflow_y": null,
      "padding": null,
      "right": null,
      "top": null,
      "visibility": null,
      "width": null
     }
    },
    "a8ae0bb28c0b4cd98611c483b0bb7b27": {
     "model_module": "@jupyter-widgets/controls",
     "model_module_version": "1.5.0",
     "model_name": "DescriptionStyleModel",
     "state": {
      "_model_module": "@jupyter-widgets/controls",
      "_model_module_version": "1.5.0",
      "_model_name": "DescriptionStyleModel",
      "_view_count": null,
      "_view_module": "@jupyter-widgets/base",
      "_view_module_version": "1.2.0",
      "_view_name": "StyleView",
      "description_width": ""
     }
    },
    "ad6351e72f0c4179ab97e4cd589ce5ee": {
     "model_module": "@jupyter-widgets/base",
     "model_module_version": "1.2.0",
     "model_name": "LayoutModel",
     "state": {
      "_model_module": "@jupyter-widgets/base",
      "_model_module_version": "1.2.0",
      "_model_name": "LayoutModel",
      "_view_count": null,
      "_view_module": "@jupyter-widgets/base",
      "_view_module_version": "1.2.0",
      "_view_name": "LayoutView",
      "align_content": null,
      "align_items": null,
      "align_self": null,
      "border": null,
      "bottom": null,
      "display": null,
      "flex": null,
      "flex_flow": null,
      "grid_area": null,
      "grid_auto_columns": null,
      "grid_auto_flow": null,
      "grid_auto_rows": null,
      "grid_column": null,
      "grid_gap": null,
      "grid_row": null,
      "grid_template_areas": null,
      "grid_template_columns": null,
      "grid_template_rows": null,
      "height": null,
      "justify_content": null,
      "justify_items": null,
      "left": null,
      "margin": null,
      "max_height": null,
      "max_width": null,
      "min_height": null,
      "min_width": null,
      "object_fit": null,
      "object_position": null,
      "order": null,
      "overflow": null,
      "overflow_x": null,
      "overflow_y": null,
      "padding": null,
      "right": null,
      "top": null,
      "visibility": null,
      "width": null
     }
    },
    "ae08a6f514a74f599f7ee4fc4fd5fa74": {
     "model_module": "@jupyter-widgets/base",
     "model_module_version": "1.2.0",
     "model_name": "LayoutModel",
     "state": {
      "_model_module": "@jupyter-widgets/base",
      "_model_module_version": "1.2.0",
      "_model_name": "LayoutModel",
      "_view_count": null,
      "_view_module": "@jupyter-widgets/base",
      "_view_module_version": "1.2.0",
      "_view_name": "LayoutView",
      "align_content": null,
      "align_items": null,
      "align_self": null,
      "border": null,
      "bottom": null,
      "display": null,
      "flex": null,
      "flex_flow": null,
      "grid_area": null,
      "grid_auto_columns": null,
      "grid_auto_flow": null,
      "grid_auto_rows": null,
      "grid_column": null,
      "grid_gap": null,
      "grid_row": null,
      "grid_template_areas": null,
      "grid_template_columns": null,
      "grid_template_rows": null,
      "height": null,
      "justify_content": null,
      "justify_items": null,
      "left": null,
      "margin": null,
      "max_height": null,
      "max_width": null,
      "min_height": null,
      "min_width": null,
      "object_fit": null,
      "object_position": null,
      "order": null,
      "overflow": null,
      "overflow_x": null,
      "overflow_y": null,
      "padding": null,
      "right": null,
      "top": null,
      "visibility": null,
      "width": null
     }
    },
    "ae4fbb18b9e14c47a183802c37fcd743": {
     "model_module": "@jupyter-widgets/controls",
     "model_module_version": "1.5.0",
     "model_name": "HTMLModel",
     "state": {
      "_dom_classes": [],
      "_model_module": "@jupyter-widgets/controls",
      "_model_module_version": "1.5.0",
      "_model_name": "HTMLModel",
      "_view_count": null,
      "_view_module": "@jupyter-widgets/controls",
      "_view_module_version": "1.5.0",
      "_view_name": "HTMLView",
      "description": "",
      "description_tooltip": null,
      "layout": "IPY_MODEL_c6fe28b0b0a24f85b38c9b7708f0837e",
      "placeholder": "​",
      "style": "IPY_MODEL_1902c6c560014c54864414e28aa63b2f",
      "value": " 7040/7040 [00:07&lt;00:00, 833.39 examples/s]"
     }
    },
    "ae909aa5bb5b49f2a0541954ff2fa3e9": {
     "model_module": "@jupyter-widgets/controls",
     "model_module_version": "1.5.0",
     "model_name": "HBoxModel",
     "state": {
      "_dom_classes": [],
      "_model_module": "@jupyter-widgets/controls",
      "_model_module_version": "1.5.0",
      "_model_name": "HBoxModel",
      "_view_count": null,
      "_view_module": "@jupyter-widgets/controls",
      "_view_module_version": "1.5.0",
      "_view_name": "HBoxView",
      "box_style": "",
      "children": [
       "IPY_MODEL_9098e4cb48504d4eb5bd56f6b160a0e7",
       "IPY_MODEL_0a13c60f49bd4ed9afa62d252c7f890c",
       "IPY_MODEL_b6be8eb63a0340898ce887c44c55dc39"
      ],
      "layout": "IPY_MODEL_e8e713d9ed3d43a7973a46298224b536"
     }
    },
    "b1cb68971b5e4845a8c49bbd52f86a7c": {
     "model_module": "@jupyter-widgets/controls",
     "model_module_version": "1.5.0",
     "model_name": "DescriptionStyleModel",
     "state": {
      "_model_module": "@jupyter-widgets/controls",
      "_model_module_version": "1.5.0",
      "_model_name": "DescriptionStyleModel",
      "_view_count": null,
      "_view_module": "@jupyter-widgets/base",
      "_view_module_version": "1.2.0",
      "_view_name": "StyleView",
      "description_width": ""
     }
    },
    "b6692d79bdca4daea99bd390e539f7c3": {
     "model_module": "@jupyter-widgets/base",
     "model_module_version": "1.2.0",
     "model_name": "LayoutModel",
     "state": {
      "_model_module": "@jupyter-widgets/base",
      "_model_module_version": "1.2.0",
      "_model_name": "LayoutModel",
      "_view_count": null,
      "_view_module": "@jupyter-widgets/base",
      "_view_module_version": "1.2.0",
      "_view_name": "LayoutView",
      "align_content": null,
      "align_items": null,
      "align_self": null,
      "border": null,
      "bottom": null,
      "display": null,
      "flex": null,
      "flex_flow": null,
      "grid_area": null,
      "grid_auto_columns": null,
      "grid_auto_flow": null,
      "grid_auto_rows": null,
      "grid_column": null,
      "grid_gap": null,
      "grid_row": null,
      "grid_template_areas": null,
      "grid_template_columns": null,
      "grid_template_rows": null,
      "height": null,
      "justify_content": null,
      "justify_items": null,
      "left": null,
      "margin": null,
      "max_height": null,
      "max_width": null,
      "min_height": null,
      "min_width": null,
      "object_fit": null,
      "object_position": null,
      "order": null,
      "overflow": null,
      "overflow_x": null,
      "overflow_y": null,
      "padding": null,
      "right": null,
      "top": null,
      "visibility": null,
      "width": null
     }
    },
    "b6be8eb63a0340898ce887c44c55dc39": {
     "model_module": "@jupyter-widgets/controls",
     "model_module_version": "1.5.0",
     "model_name": "HTMLModel",
     "state": {
      "_dom_classes": [],
      "_model_module": "@jupyter-widgets/controls",
      "_model_module_version": "1.5.0",
      "_model_name": "HTMLModel",
      "_view_count": null,
      "_view_module": "@jupyter-widgets/controls",
      "_view_module_version": "1.5.0",
      "_view_name": "HTMLView",
      "description": "",
      "description_tooltip": null,
      "layout": "IPY_MODEL_ad6351e72f0c4179ab97e4cd589ce5ee",
      "placeholder": "​",
      "style": "IPY_MODEL_35eb0b0562ef4a549bcea298404bcb9d",
      "value": " 2200/2200 [00:00&lt;00:00, 5954.66 examples/s]"
     }
    },
    "b765f01ba9cf45089b0b4688d0386d98": {
     "model_module": "@jupyter-widgets/controls",
     "model_module_version": "1.5.0",
     "model_name": "ProgressStyleModel",
     "state": {
      "_model_module": "@jupyter-widgets/controls",
      "_model_module_version": "1.5.0",
      "_model_name": "ProgressStyleModel",
      "_view_count": null,
      "_view_module": "@jupyter-widgets/base",
      "_view_module_version": "1.2.0",
      "_view_name": "StyleView",
      "bar_color": null,
      "description_width": ""
     }
    },
    "b84a30216e0c46c59acdd7da13544f11": {
     "model_module": "@jupyter-widgets/controls",
     "model_module_version": "1.5.0",
     "model_name": "HBoxModel",
     "state": {
      "_dom_classes": [],
      "_model_module": "@jupyter-widgets/controls",
      "_model_module_version": "1.5.0",
      "_model_name": "HBoxModel",
      "_view_count": null,
      "_view_module": "@jupyter-widgets/controls",
      "_view_module_version": "1.5.0",
      "_view_name": "HBoxView",
      "box_style": "",
      "children": [
       "IPY_MODEL_2b63bdd4e0ff42c49a23a741180bd8a7",
       "IPY_MODEL_3e7c3448156540c783565bded387cec2",
       "IPY_MODEL_b934f875bcc745fda08c288b92aa92e4"
      ],
      "layout": "IPY_MODEL_03fc97296ebd48cdb37501a606c8b4d6"
     }
    },
    "b900c44565664c54a65457b2f4cb2ba1": {
     "model_module": "@jupyter-widgets/controls",
     "model_module_version": "1.5.0",
     "model_name": "DescriptionStyleModel",
     "state": {
      "_model_module": "@jupyter-widgets/controls",
      "_model_module_version": "1.5.0",
      "_model_name": "DescriptionStyleModel",
      "_view_count": null,
      "_view_module": "@jupyter-widgets/base",
      "_view_module_version": "1.2.0",
      "_view_name": "StyleView",
      "description_width": ""
     }
    },
    "b934f875bcc745fda08c288b92aa92e4": {
     "model_module": "@jupyter-widgets/controls",
     "model_module_version": "1.5.0",
     "model_name": "HTMLModel",
     "state": {
      "_dom_classes": [],
      "_model_module": "@jupyter-widgets/controls",
      "_model_module_version": "1.5.0",
      "_model_name": "HTMLModel",
      "_view_count": null,
      "_view_module": "@jupyter-widgets/controls",
      "_view_module_version": "1.5.0",
      "_view_name": "HTMLView",
      "description": "",
      "description_tooltip": null,
      "layout": "IPY_MODEL_ae08a6f514a74f599f7ee4fc4fd5fa74",
      "placeholder": "​",
      "style": "IPY_MODEL_036d48134eaa42b2b1831006d220279d",
      "value": " 21021/21021 [00:11&lt;00:00, 2150.01 examples/s]"
     }
    },
    "b94ca2b58b1840fc959c9848cf5969c5": {
     "model_module": "@jupyter-widgets/controls",
     "model_module_version": "1.5.0",
     "model_name": "DescriptionStyleModel",
     "state": {
      "_model_module": "@jupyter-widgets/controls",
      "_model_module_version": "1.5.0",
      "_model_name": "DescriptionStyleModel",
      "_view_count": null,
      "_view_module": "@jupyter-widgets/base",
      "_view_module_version": "1.2.0",
      "_view_name": "StyleView",
      "description_width": ""
     }
    },
    "b9e59a4336934e49aa0bc21d72e72a35": {
     "model_module": "@jupyter-widgets/controls",
     "model_module_version": "1.5.0",
     "model_name": "HTMLModel",
     "state": {
      "_dom_classes": [],
      "_model_module": "@jupyter-widgets/controls",
      "_model_module_version": "1.5.0",
      "_model_name": "HTMLModel",
      "_view_count": null,
      "_view_module": "@jupyter-widgets/controls",
      "_view_module_version": "1.5.0",
      "_view_name": "HTMLView",
      "description": "",
      "description_tooltip": null,
      "layout": "IPY_MODEL_67b4c9f41169430ca7b35d33d6c4007c",
      "placeholder": "​",
      "style": "IPY_MODEL_6d2b824f733a4f19aff1451fca667585",
      "value": ""
     }
    },
    "b9fe8325f83e47c793df859bed7e2c70": {
     "model_module": "@jupyter-widgets/base",
     "model_module_version": "1.2.0",
     "model_name": "LayoutModel",
     "state": {
      "_model_module": "@jupyter-widgets/base",
      "_model_module_version": "1.2.0",
      "_model_name": "LayoutModel",
      "_view_count": null,
      "_view_module": "@jupyter-widgets/base",
      "_view_module_version": "1.2.0",
      "_view_name": "LayoutView",
      "align_content": null,
      "align_items": null,
      "align_self": null,
      "border": null,
      "bottom": null,
      "display": null,
      "flex": null,
      "flex_flow": null,
      "grid_area": null,
      "grid_auto_columns": null,
      "grid_auto_flow": null,
      "grid_auto_rows": null,
      "grid_column": null,
      "grid_gap": null,
      "grid_row": null,
      "grid_template_areas": null,
      "grid_template_columns": null,
      "grid_template_rows": null,
      "height": null,
      "justify_content": null,
      "justify_items": null,
      "left": null,
      "margin": null,
      "max_height": null,
      "max_width": null,
      "min_height": null,
      "min_width": null,
      "object_fit": null,
      "object_position": null,
      "order": null,
      "overflow": null,
      "overflow_x": null,
      "overflow_y": null,
      "padding": null,
      "right": null,
      "top": null,
      "visibility": null,
      "width": null
     }
    },
    "bd059b33cdce4b3eb72ae261c59e3760": {
     "model_module": "@jupyter-widgets/base",
     "model_module_version": "1.2.0",
     "model_name": "LayoutModel",
     "state": {
      "_model_module": "@jupyter-widgets/base",
      "_model_module_version": "1.2.0",
      "_model_name": "LayoutModel",
      "_view_count": null,
      "_view_module": "@jupyter-widgets/base",
      "_view_module_version": "1.2.0",
      "_view_name": "LayoutView",
      "align_content": null,
      "align_items": null,
      "align_self": null,
      "border": null,
      "bottom": null,
      "display": null,
      "flex": null,
      "flex_flow": null,
      "grid_area": null,
      "grid_auto_columns": null,
      "grid_auto_flow": null,
      "grid_auto_rows": null,
      "grid_column": null,
      "grid_gap": null,
      "grid_row": null,
      "grid_template_areas": null,
      "grid_template_columns": null,
      "grid_template_rows": null,
      "height": null,
      "justify_content": null,
      "justify_items": null,
      "left": null,
      "margin": null,
      "max_height": null,
      "max_width": null,
      "min_height": null,
      "min_width": null,
      "object_fit": null,
      "object_position": null,
      "order": null,
      "overflow": null,
      "overflow_x": null,
      "overflow_y": null,
      "padding": null,
      "right": null,
      "top": null,
      "visibility": null,
      "width": null
     }
    },
    "bd6777a9263b4c939d3bb1835129c9cd": {
     "model_module": "@jupyter-widgets/controls",
     "model_module_version": "1.5.0",
     "model_name": "HTMLModel",
     "state": {
      "_dom_classes": [],
      "_model_module": "@jupyter-widgets/controls",
      "_model_module_version": "1.5.0",
      "_model_name": "HTMLModel",
      "_view_count": null,
      "_view_module": "@jupyter-widgets/controls",
      "_view_module_version": "1.5.0",
      "_view_name": "HTMLView",
      "description": "",
      "description_tooltip": null,
      "layout": "IPY_MODEL_00596f63af044857bdb6fe0bb9d2e990",
      "placeholder": "​",
      "style": "IPY_MODEL_b900c44565664c54a65457b2f4cb2ba1",
      "value": " 67267/67267 [00:05&lt;00:00, 12259.48 examples/s]"
     }
    },
    "be884fe134c04a2abe47ea203453c1bc": {
     "model_module": "@jupyter-widgets/controls",
     "model_module_version": "1.5.0",
     "model_name": "HTMLModel",
     "state": {
      "_dom_classes": [],
      "_model_module": "@jupyter-widgets/controls",
      "_model_module_version": "1.5.0",
      "_model_name": "HTMLModel",
      "_view_count": null,
      "_view_module": "@jupyter-widgets/controls",
      "_view_module_version": "1.5.0",
      "_view_name": "HTMLView",
      "description": "",
      "description_tooltip": null,
      "layout": "IPY_MODEL_ff85030715ae4ed7b6891f2a7bcb510a",
      "placeholder": "​",
      "style": "IPY_MODEL_22addfa7c581408286f66b2367ea43d4",
      "value": "config.json: 100%"
     }
    },
    "c17a38ae5d254932937b6ded7fee4b5f": {
     "model_module": "@jupyter-widgets/base",
     "model_module_version": "1.2.0",
     "model_name": "LayoutModel",
     "state": {
      "_model_module": "@jupyter-widgets/base",
      "_model_module_version": "1.2.0",
      "_model_name": "LayoutModel",
      "_view_count": null,
      "_view_module": "@jupyter-widgets/base",
      "_view_module_version": "1.2.0",
      "_view_name": "LayoutView",
      "align_content": null,
      "align_items": null,
      "align_self": null,
      "border": null,
      "bottom": null,
      "display": null,
      "flex": null,
      "flex_flow": null,
      "grid_area": null,
      "grid_auto_columns": null,
      "grid_auto_flow": null,
      "grid_auto_rows": null,
      "grid_column": null,
      "grid_gap": null,
      "grid_row": null,
      "grid_template_areas": null,
      "grid_template_columns": null,
      "grid_template_rows": null,
      "height": null,
      "justify_content": null,
      "justify_items": null,
      "left": null,
      "margin": null,
      "max_height": null,
      "max_width": null,
      "min_height": null,
      "min_width": null,
      "object_fit": null,
      "object_position": null,
      "order": null,
      "overflow": null,
      "overflow_x": null,
      "overflow_y": null,
      "padding": null,
      "right": null,
      "top": null,
      "visibility": null,
      "width": null
     }
    },
    "c57b8af561e04a969ac30f4531db6fe7": {
     "model_module": "@jupyter-widgets/controls",
     "model_module_version": "1.5.0",
     "model_name": "HTMLModel",
     "state": {
      "_dom_classes": [],
      "_model_module": "@jupyter-widgets/controls",
      "_model_module_version": "1.5.0",
      "_model_name": "HTMLModel",
      "_view_count": null,
      "_view_module": "@jupyter-widgets/controls",
      "_view_module_version": "1.5.0",
      "_view_name": "HTMLView",
      "description": "",
      "description_tooltip": null,
      "layout": "IPY_MODEL_ce599f1455654f67950e2c2ef1fafb02",
      "placeholder": "​",
      "style": "IPY_MODEL_0f17a8f2678a4f9685e78f3f8f4ae9b4",
      "value": "Map: 100%"
     }
    },
    "c6fe28b0b0a24f85b38c9b7708f0837e": {
     "model_module": "@jupyter-widgets/base",
     "model_module_version": "1.2.0",
     "model_name": "LayoutModel",
     "state": {
      "_model_module": "@jupyter-widgets/base",
      "_model_module_version": "1.2.0",
      "_model_name": "LayoutModel",
      "_view_count": null,
      "_view_module": "@jupyter-widgets/base",
      "_view_module_version": "1.2.0",
      "_view_name": "LayoutView",
      "align_content": null,
      "align_items": null,
      "align_self": null,
      "border": null,
      "bottom": null,
      "display": null,
      "flex": null,
      "flex_flow": null,
      "grid_area": null,
      "grid_auto_columns": null,
      "grid_auto_flow": null,
      "grid_auto_rows": null,
      "grid_column": null,
      "grid_gap": null,
      "grid_row": null,
      "grid_template_areas": null,
      "grid_template_columns": null,
      "grid_template_rows": null,
      "height": null,
      "justify_content": null,
      "justify_items": null,
      "left": null,
      "margin": null,
      "max_height": null,
      "max_width": null,
      "min_height": null,
      "min_width": null,
      "object_fit": null,
      "object_position": null,
      "order": null,
      "overflow": null,
      "overflow_x": null,
      "overflow_y": null,
      "padding": null,
      "right": null,
      "top": null,
      "visibility": null,
      "width": null
     }
    },
    "c72c3963948a4a6eb035fb66f7fb2188": {
     "model_module": "@jupyter-widgets/controls",
     "model_module_version": "1.5.0",
     "model_name": "DescriptionStyleModel",
     "state": {
      "_model_module": "@jupyter-widgets/controls",
      "_model_module_version": "1.5.0",
      "_model_name": "DescriptionStyleModel",
      "_view_count": null,
      "_view_module": "@jupyter-widgets/base",
      "_view_module_version": "1.2.0",
      "_view_name": "StyleView",
      "description_width": ""
     }
    },
    "c84a94e953d141f0a93cc2b652bde4eb": {
     "model_module": "@jupyter-widgets/base",
     "model_module_version": "1.2.0",
     "model_name": "LayoutModel",
     "state": {
      "_model_module": "@jupyter-widgets/base",
      "_model_module_version": "1.2.0",
      "_model_name": "LayoutModel",
      "_view_count": null,
      "_view_module": "@jupyter-widgets/base",
      "_view_module_version": "1.2.0",
      "_view_name": "LayoutView",
      "align_content": null,
      "align_items": null,
      "align_self": null,
      "border": null,
      "bottom": null,
      "display": null,
      "flex": null,
      "flex_flow": null,
      "grid_area": null,
      "grid_auto_columns": null,
      "grid_auto_flow": null,
      "grid_auto_rows": null,
      "grid_column": null,
      "grid_gap": null,
      "grid_row": null,
      "grid_template_areas": null,
      "grid_template_columns": null,
      "grid_template_rows": null,
      "height": null,
      "justify_content": null,
      "justify_items": null,
      "left": null,
      "margin": null,
      "max_height": null,
      "max_width": null,
      "min_height": null,
      "min_width": null,
      "object_fit": null,
      "object_position": null,
      "order": null,
      "overflow": null,
      "overflow_x": null,
      "overflow_y": null,
      "padding": null,
      "right": null,
      "top": null,
      "visibility": null,
      "width": null
     }
    },
    "c9719e4451604b8e87db90d735f9e5a3": {
     "model_module": "@jupyter-widgets/controls",
     "model_module_version": "1.5.0",
     "model_name": "HTMLModel",
     "state": {
      "_dom_classes": [],
      "_model_module": "@jupyter-widgets/controls",
      "_model_module_version": "1.5.0",
      "_model_name": "HTMLModel",
      "_view_count": null,
      "_view_module": "@jupyter-widgets/controls",
      "_view_module_version": "1.5.0",
      "_view_name": "HTMLView",
      "description": "",
      "description_tooltip": null,
      "layout": "IPY_MODEL_c17a38ae5d254932937b6ded7fee4b5f",
      "placeholder": "​",
      "style": "IPY_MODEL_c72c3963948a4a6eb035fb66f7fb2188",
      "value": " 481/481 [00:00&lt;00:00, 11.5kB/s]"
     }
    },
    "ca782a9823314c74ab7ed4ec3ec78ac2": {
     "model_module": "@jupyter-widgets/controls",
     "model_module_version": "1.5.0",
     "model_name": "HTMLModel",
     "state": {
      "_dom_classes": [],
      "_model_module": "@jupyter-widgets/controls",
      "_model_module_version": "1.5.0",
      "_model_name": "HTMLModel",
      "_view_count": null,
      "_view_module": "@jupyter-widgets/controls",
      "_view_module_version": "1.5.0",
      "_view_name": "HTMLView",
      "description": "",
      "description_tooltip": null,
      "layout": "IPY_MODEL_d908b910c51647728ec0b0da9d10daca",
      "placeholder": "​",
      "style": "IPY_MODEL_b94ca2b58b1840fc959c9848cf5969c5",
      "value": " 1760/1760 [00:01&lt;00:00, 1034.86 examples/s]"
     }
    },
    "ccd376190e7847bdb8ee37b6f2f1c87e": {
     "model_module": "@jupyter-widgets/controls",
     "model_module_version": "1.5.0",
     "model_name": "DescriptionStyleModel",
     "state": {
      "_model_module": "@jupyter-widgets/controls",
      "_model_module_version": "1.5.0",
      "_model_name": "DescriptionStyleModel",
      "_view_count": null,
      "_view_module": "@jupyter-widgets/base",
      "_view_module_version": "1.2.0",
      "_view_name": "StyleView",
      "description_width": ""
     }
    },
    "cd14f3bbe7cf4e6698c83c06574582b8": {
     "model_module": "@jupyter-widgets/controls",
     "model_module_version": "1.5.0",
     "model_name": "HTMLModel",
     "state": {
      "_dom_classes": [],
      "_model_module": "@jupyter-widgets/controls",
      "_model_module_version": "1.5.0",
      "_model_name": "HTMLModel",
      "_view_count": null,
      "_view_module": "@jupyter-widgets/controls",
      "_view_module_version": "1.5.0",
      "_view_name": "HTMLView",
      "description": "",
      "description_tooltip": null,
      "layout": "IPY_MODEL_d6094903e9004942ba61d6d22a7214d5",
      "placeholder": "​",
      "style": "IPY_MODEL_37d9322e9d3c4ca698701985e21dad4d",
      "value": "Map: 100%"
     }
    },
    "ce599f1455654f67950e2c2ef1fafb02": {
     "model_module": "@jupyter-widgets/base",
     "model_module_version": "1.2.0",
     "model_name": "LayoutModel",
     "state": {
      "_model_module": "@jupyter-widgets/base",
      "_model_module_version": "1.2.0",
      "_model_name": "LayoutModel",
      "_view_count": null,
      "_view_module": "@jupyter-widgets/base",
      "_view_module_version": "1.2.0",
      "_view_name": "LayoutView",
      "align_content": null,
      "align_items": null,
      "align_self": null,
      "border": null,
      "bottom": null,
      "display": null,
      "flex": null,
      "flex_flow": null,
      "grid_area": null,
      "grid_auto_columns": null,
      "grid_auto_flow": null,
      "grid_auto_rows": null,
      "grid_column": null,
      "grid_gap": null,
      "grid_row": null,
      "grid_template_areas": null,
      "grid_template_columns": null,
      "grid_template_rows": null,
      "height": null,
      "justify_content": null,
      "justify_items": null,
      "left": null,
      "margin": null,
      "max_height": null,
      "max_width": null,
      "min_height": null,
      "min_width": null,
      "object_fit": null,
      "object_position": null,
      "order": null,
      "overflow": null,
      "overflow_x": null,
      "overflow_y": null,
      "padding": null,
      "right": null,
      "top": null,
      "visibility": null,
      "width": null
     }
    },
    "d0bf1dbdd68148da8d51daf050cf54a3": {
     "model_module": "@jupyter-widgets/base",
     "model_module_version": "1.2.0",
     "model_name": "LayoutModel",
     "state": {
      "_model_module": "@jupyter-widgets/base",
      "_model_module_version": "1.2.0",
      "_model_name": "LayoutModel",
      "_view_count": null,
      "_view_module": "@jupyter-widgets/base",
      "_view_module_version": "1.2.0",
      "_view_name": "LayoutView",
      "align_content": null,
      "align_items": null,
      "align_self": null,
      "border": null,
      "bottom": null,
      "display": null,
      "flex": null,
      "flex_flow": null,
      "grid_area": null,
      "grid_auto_columns": null,
      "grid_auto_flow": null,
      "grid_auto_rows": null,
      "grid_column": null,
      "grid_gap": null,
      "grid_row": null,
      "grid_template_areas": null,
      "grid_template_columns": null,
      "grid_template_rows": null,
      "height": null,
      "justify_content": null,
      "justify_items": null,
      "left": null,
      "margin": null,
      "max_height": null,
      "max_width": null,
      "min_height": null,
      "min_width": null,
      "object_fit": null,
      "object_position": null,
      "order": null,
      "overflow": null,
      "overflow_x": null,
      "overflow_y": null,
      "padding": null,
      "right": null,
      "top": null,
      "visibility": null,
      "width": null
     }
    },
    "d266c0e418a04fc2b4b99443786a66e8": {
     "model_module": "@jupyter-widgets/base",
     "model_module_version": "1.2.0",
     "model_name": "LayoutModel",
     "state": {
      "_model_module": "@jupyter-widgets/base",
      "_model_module_version": "1.2.0",
      "_model_name": "LayoutModel",
      "_view_count": null,
      "_view_module": "@jupyter-widgets/base",
      "_view_module_version": "1.2.0",
      "_view_name": "LayoutView",
      "align_content": null,
      "align_items": null,
      "align_self": null,
      "border": null,
      "bottom": null,
      "display": null,
      "flex": null,
      "flex_flow": null,
      "grid_area": null,
      "grid_auto_columns": null,
      "grid_auto_flow": null,
      "grid_auto_rows": null,
      "grid_column": null,
      "grid_gap": null,
      "grid_row": null,
      "grid_template_areas": null,
      "grid_template_columns": null,
      "grid_template_rows": null,
      "height": null,
      "justify_content": null,
      "justify_items": null,
      "left": null,
      "margin": null,
      "max_height": null,
      "max_width": null,
      "min_height": null,
      "min_width": null,
      "object_fit": null,
      "object_position": null,
      "order": null,
      "overflow": null,
      "overflow_x": null,
      "overflow_y": null,
      "padding": null,
      "right": null,
      "top": null,
      "visibility": null,
      "width": null
     }
    },
    "d3626f334ed4426f888eccda32acc0df": {
     "model_module": "@jupyter-widgets/base",
     "model_module_version": "1.2.0",
     "model_name": "LayoutModel",
     "state": {
      "_model_module": "@jupyter-widgets/base",
      "_model_module_version": "1.2.0",
      "_model_name": "LayoutModel",
      "_view_count": null,
      "_view_module": "@jupyter-widgets/base",
      "_view_module_version": "1.2.0",
      "_view_name": "LayoutView",
      "align_content": null,
      "align_items": null,
      "align_self": null,
      "border": null,
      "bottom": null,
      "display": null,
      "flex": null,
      "flex_flow": null,
      "grid_area": null,
      "grid_auto_columns": null,
      "grid_auto_flow": null,
      "grid_auto_rows": null,
      "grid_column": null,
      "grid_gap": null,
      "grid_row": null,
      "grid_template_areas": null,
      "grid_template_columns": null,
      "grid_template_rows": null,
      "height": null,
      "justify_content": null,
      "justify_items": null,
      "left": null,
      "margin": null,
      "max_height": null,
      "max_width": null,
      "min_height": null,
      "min_width": null,
      "object_fit": null,
      "object_position": null,
      "order": null,
      "overflow": null,
      "overflow_x": null,
      "overflow_y": null,
      "padding": null,
      "right": null,
      "top": null,
      "visibility": null,
      "width": null
     }
    },
    "d46b3728563246f3b321a8c3b6fd5ce5": {
     "model_module": "@jupyter-widgets/controls",
     "model_module_version": "1.5.0",
     "model_name": "DescriptionStyleModel",
     "state": {
      "_model_module": "@jupyter-widgets/controls",
      "_model_module_version": "1.5.0",
      "_model_name": "DescriptionStyleModel",
      "_view_count": null,
      "_view_module": "@jupyter-widgets/base",
      "_view_module_version": "1.2.0",
      "_view_name": "StyleView",
      "description_width": ""
     }
    },
    "d6094903e9004942ba61d6d22a7214d5": {
     "model_module": "@jupyter-widgets/base",
     "model_module_version": "1.2.0",
     "model_name": "LayoutModel",
     "state": {
      "_model_module": "@jupyter-widgets/base",
      "_model_module_version": "1.2.0",
      "_model_name": "LayoutModel",
      "_view_count": null,
      "_view_module": "@jupyter-widgets/base",
      "_view_module_version": "1.2.0",
      "_view_name": "LayoutView",
      "align_content": null,
      "align_items": null,
      "align_self": null,
      "border": null,
      "bottom": null,
      "display": null,
      "flex": null,
      "flex_flow": null,
      "grid_area": null,
      "grid_auto_columns": null,
      "grid_auto_flow": null,
      "grid_auto_rows": null,
      "grid_column": null,
      "grid_gap": null,
      "grid_row": null,
      "grid_template_areas": null,
      "grid_template_columns": null,
      "grid_template_rows": null,
      "height": null,
      "justify_content": null,
      "justify_items": null,
      "left": null,
      "margin": null,
      "max_height": null,
      "max_width": null,
      "min_height": null,
      "min_width": null,
      "object_fit": null,
      "object_position": null,
      "order": null,
      "overflow": null,
      "overflow_x": null,
      "overflow_y": null,
      "padding": null,
      "right": null,
      "top": null,
      "visibility": null,
      "width": null
     }
    },
    "d891dc29d6fd418288b2dab9153a8a19": {
     "model_module": "@jupyter-widgets/controls",
     "model_module_version": "1.5.0",
     "model_name": "HTMLModel",
     "state": {
      "_dom_classes": [],
      "_model_module": "@jupyter-widgets/controls",
      "_model_module_version": "1.5.0",
      "_model_name": "HTMLModel",
      "_view_count": null,
      "_view_module": "@jupyter-widgets/controls",
      "_view_module_version": "1.5.0",
      "_view_name": "HTMLView",
      "description": "",
      "description_tooltip": null,
      "layout": "IPY_MODEL_17457f63437a4eb7847562c205c56092",
      "placeholder": "​",
      "style": "IPY_MODEL_51b798a23f1248e4821b5b69606353d3",
      "value": " 0/0 [00:00&lt;?, ?it/s]"
     }
    },
    "d908b910c51647728ec0b0da9d10daca": {
     "model_module": "@jupyter-widgets/base",
     "model_module_version": "1.2.0",
     "model_name": "LayoutModel",
     "state": {
      "_model_module": "@jupyter-widgets/base",
      "_model_module_version": "1.2.0",
      "_model_name": "LayoutModel",
      "_view_count": null,
      "_view_module": "@jupyter-widgets/base",
      "_view_module_version": "1.2.0",
      "_view_name": "LayoutView",
      "align_content": null,
      "align_items": null,
      "align_self": null,
      "border": null,
      "bottom": null,
      "display": null,
      "flex": null,
      "flex_flow": null,
      "grid_area": null,
      "grid_auto_columns": null,
      "grid_auto_flow": null,
      "grid_auto_rows": null,
      "grid_column": null,
      "grid_gap": null,
      "grid_row": null,
      "grid_template_areas": null,
      "grid_template_columns": null,
      "grid_template_rows": null,
      "height": null,
      "justify_content": null,
      "justify_items": null,
      "left": null,
      "margin": null,
      "max_height": null,
      "max_width": null,
      "min_height": null,
      "min_width": null,
      "object_fit": null,
      "object_position": null,
      "order": null,
      "overflow": null,
      "overflow_x": null,
      "overflow_y": null,
      "padding": null,
      "right": null,
      "top": null,
      "visibility": null,
      "width": null
     }
    },
    "e6c63b389009478a9bdac4a0449bd9c6": {
     "model_module": "@jupyter-widgets/controls",
     "model_module_version": "1.5.0",
     "model_name": "HTMLModel",
     "state": {
      "_dom_classes": [],
      "_model_module": "@jupyter-widgets/controls",
      "_model_module_version": "1.5.0",
      "_model_name": "HTMLModel",
      "_view_count": null,
      "_view_module": "@jupyter-widgets/controls",
      "_view_module_version": "1.5.0",
      "_view_name": "HTMLView",
      "description": "",
      "description_tooltip": null,
      "layout": "IPY_MODEL_9c9c3fa7f1f44767af6550a937dc7127",
      "placeholder": "​",
      "style": "IPY_MODEL_40fedfeafc3a4c419e7b71e365b322b3",
      "value": "Map: 100%"
     }
    },
    "e756d72c090d414f969a4090cf402d63": {
     "model_module": "@jupyter-widgets/controls",
     "model_module_version": "1.5.0",
     "model_name": "HBoxModel",
     "state": {
      "_dom_classes": [],
      "_model_module": "@jupyter-widgets/controls",
      "_model_module_version": "1.5.0",
      "_model_name": "HBoxModel",
      "_view_count": null,
      "_view_module": "@jupyter-widgets/controls",
      "_view_module_version": "1.5.0",
      "_view_name": "HBoxView",
      "box_style": "",
      "children": [
       "IPY_MODEL_5c990ce4348b4e93be1e0b0a60bc3f20",
       "IPY_MODEL_e9f1ba8f35884e858b962af98952456b",
       "IPY_MODEL_f38ffec6608949a0b72ef98a53953d90"
      ],
      "layout": "IPY_MODEL_34a676d9e44146998ac89ef63fe50e04"
     }
    },
    "e80d0481c2594714b339070e9d547304": {
     "model_module": "@jupyter-widgets/base",
     "model_module_version": "1.2.0",
     "model_name": "LayoutModel",
     "state": {
      "_model_module": "@jupyter-widgets/base",
      "_model_module_version": "1.2.0",
      "_model_name": "LayoutModel",
      "_view_count": null,
      "_view_module": "@jupyter-widgets/base",
      "_view_module_version": "1.2.0",
      "_view_name": "LayoutView",
      "align_content": null,
      "align_items": null,
      "align_self": null,
      "border": null,
      "bottom": null,
      "display": null,
      "flex": null,
      "flex_flow": null,
      "grid_area": null,
      "grid_auto_columns": null,
      "grid_auto_flow": null,
      "grid_auto_rows": null,
      "grid_column": null,
      "grid_gap": null,
      "grid_row": null,
      "grid_template_areas": null,
      "grid_template_columns": null,
      "grid_template_rows": null,
      "height": null,
      "justify_content": null,
      "justify_items": null,
      "left": null,
      "margin": null,
      "max_height": null,
      "max_width": null,
      "min_height": null,
      "min_width": null,
      "object_fit": null,
      "object_position": null,
      "order": null,
      "overflow": null,
      "overflow_x": null,
      "overflow_y": null,
      "padding": null,
      "right": null,
      "top": null,
      "visibility": null,
      "width": null
     }
    },
    "e8e713d9ed3d43a7973a46298224b536": {
     "model_module": "@jupyter-widgets/base",
     "model_module_version": "1.2.0",
     "model_name": "LayoutModel",
     "state": {
      "_model_module": "@jupyter-widgets/base",
      "_model_module_version": "1.2.0",
      "_model_name": "LayoutModel",
      "_view_count": null,
      "_view_module": "@jupyter-widgets/base",
      "_view_module_version": "1.2.0",
      "_view_name": "LayoutView",
      "align_content": null,
      "align_items": null,
      "align_self": null,
      "border": null,
      "bottom": null,
      "display": null,
      "flex": null,
      "flex_flow": null,
      "grid_area": null,
      "grid_auto_columns": null,
      "grid_auto_flow": null,
      "grid_auto_rows": null,
      "grid_column": null,
      "grid_gap": null,
      "grid_row": null,
      "grid_template_areas": null,
      "grid_template_columns": null,
      "grid_template_rows": null,
      "height": null,
      "justify_content": null,
      "justify_items": null,
      "left": null,
      "margin": null,
      "max_height": null,
      "max_width": null,
      "min_height": null,
      "min_width": null,
      "object_fit": null,
      "object_position": null,
      "order": null,
      "overflow": null,
      "overflow_x": null,
      "overflow_y": null,
      "padding": null,
      "right": null,
      "top": null,
      "visibility": null,
      "width": null
     }
    },
    "e95277cef23c4c068a269b92104a6b5a": {
     "model_module": "@jupyter-widgets/controls",
     "model_module_version": "1.5.0",
     "model_name": "HBoxModel",
     "state": {
      "_dom_classes": [],
      "_model_module": "@jupyter-widgets/controls",
      "_model_module_version": "1.5.0",
      "_model_name": "HBoxModel",
      "_view_count": null,
      "_view_module": "@jupyter-widgets/controls",
      "_view_module_version": "1.5.0",
      "_view_name": "HBoxView",
      "box_style": "",
      "children": [
       "IPY_MODEL_34ce4c96300a439886d23cff345cb534",
       "IPY_MODEL_22299e2d0d144f94b20c6d4f1f66453b",
       "IPY_MODEL_ca782a9823314c74ab7ed4ec3ec78ac2"
      ],
      "layout": "IPY_MODEL_78f2441afabe41bd808e3fd17024bfaa"
     }
    },
    "e9f1ba8f35884e858b962af98952456b": {
     "model_module": "@jupyter-widgets/controls",
     "model_module_version": "1.5.0",
     "model_name": "FloatProgressModel",
     "state": {
      "_dom_classes": [],
      "_model_module": "@jupyter-widgets/controls",
      "_model_module_version": "1.5.0",
      "_model_name": "FloatProgressModel",
      "_view_count": null,
      "_view_module": "@jupyter-widgets/controls",
      "_view_module_version": "1.5.0",
      "_view_name": "ProgressView",
      "bar_style": "success",
      "description": "",
      "description_tooltip": null,
      "layout": "IPY_MODEL_1883d2daf9c145ee856c35911ce2d735",
      "max": 2200,
      "min": 0,
      "orientation": "horizontal",
      "style": "IPY_MODEL_832204ed91234310837cf81c0e478141",
      "value": 2200
     }
    },
    "ea3cd844fbfa4fd68de60988d1a21901": {
     "model_module": "@jupyter-widgets/base",
     "model_module_version": "1.2.0",
     "model_name": "LayoutModel",
     "state": {
      "_model_module": "@jupyter-widgets/base",
      "_model_module_version": "1.2.0",
      "_model_name": "LayoutModel",
      "_view_count": null,
      "_view_module": "@jupyter-widgets/base",
      "_view_module_version": "1.2.0",
      "_view_name": "LayoutView",
      "align_content": null,
      "align_items": null,
      "align_self": null,
      "border": null,
      "bottom": null,
      "display": null,
      "flex": null,
      "flex_flow": null,
      "grid_area": null,
      "grid_auto_columns": null,
      "grid_auto_flow": null,
      "grid_auto_rows": null,
      "grid_column": null,
      "grid_gap": null,
      "grid_row": null,
      "grid_template_areas": null,
      "grid_template_columns": null,
      "grid_template_rows": null,
      "height": null,
      "justify_content": null,
      "justify_items": null,
      "left": null,
      "margin": null,
      "max_height": null,
      "max_width": null,
      "min_height": null,
      "min_width": null,
      "object_fit": null,
      "object_position": null,
      "order": null,
      "overflow": null,
      "overflow_x": null,
      "overflow_y": null,
      "padding": null,
      "right": null,
      "top": null,
      "visibility": null,
      "width": null
     }
    },
    "eb7aee477ecd46f9af4155e15d2416e9": {
     "model_module": "@jupyter-widgets/controls",
     "model_module_version": "1.5.0",
     "model_name": "DescriptionStyleModel",
     "state": {
      "_model_module": "@jupyter-widgets/controls",
      "_model_module_version": "1.5.0",
      "_model_name": "DescriptionStyleModel",
      "_view_count": null,
      "_view_module": "@jupyter-widgets/base",
      "_view_module_version": "1.2.0",
      "_view_name": "StyleView",
      "description_width": ""
     }
    },
    "ed1bf991cf9b40d38bc76b042ce7491b": {
     "model_module": "@jupyter-widgets/base",
     "model_module_version": "1.2.0",
     "model_name": "LayoutModel",
     "state": {
      "_model_module": "@jupyter-widgets/base",
      "_model_module_version": "1.2.0",
      "_model_name": "LayoutModel",
      "_view_count": null,
      "_view_module": "@jupyter-widgets/base",
      "_view_module_version": "1.2.0",
      "_view_name": "LayoutView",
      "align_content": null,
      "align_items": null,
      "align_self": null,
      "border": null,
      "bottom": null,
      "display": null,
      "flex": null,
      "flex_flow": null,
      "grid_area": null,
      "grid_auto_columns": null,
      "grid_auto_flow": null,
      "grid_auto_rows": null,
      "grid_column": null,
      "grid_gap": null,
      "grid_row": null,
      "grid_template_areas": null,
      "grid_template_columns": null,
      "grid_template_rows": null,
      "height": null,
      "justify_content": null,
      "justify_items": null,
      "left": null,
      "margin": null,
      "max_height": null,
      "max_width": null,
      "min_height": null,
      "min_width": null,
      "object_fit": null,
      "object_position": null,
      "order": null,
      "overflow": null,
      "overflow_x": null,
      "overflow_y": null,
      "padding": null,
      "right": null,
      "top": null,
      "visibility": null,
      "width": null
     }
    },
    "ee23be45810742709596c7b58557a6e6": {
     "model_module": "@jupyter-widgets/controls",
     "model_module_version": "1.5.0",
     "model_name": "HBoxModel",
     "state": {
      "_dom_classes": [],
      "_model_module": "@jupyter-widgets/controls",
      "_model_module_version": "1.5.0",
      "_model_name": "HBoxModel",
      "_view_count": null,
      "_view_module": "@jupyter-widgets/controls",
      "_view_module_version": "1.5.0",
      "_view_name": "HBoxView",
      "box_style": "",
      "children": [
       "IPY_MODEL_c57b8af561e04a969ac30f4531db6fe7",
       "IPY_MODEL_900897ae718a4ce7993ddc52eeaeb925",
       "IPY_MODEL_ae4fbb18b9e14c47a183802c37fcd743"
      ],
      "layout": "IPY_MODEL_0db53340ec7f4289aac21c1cb6cbe2b1"
     }
    },
    "ef86860172e34ee99b037083719d6096": {
     "model_module": "@jupyter-widgets/controls",
     "model_module_version": "1.5.0",
     "model_name": "HTMLModel",
     "state": {
      "_dom_classes": [],
      "_model_module": "@jupyter-widgets/controls",
      "_model_module_version": "1.5.0",
      "_model_name": "HTMLModel",
      "_view_count": null,
      "_view_module": "@jupyter-widgets/controls",
      "_view_module_version": "1.5.0",
      "_view_name": "HTMLView",
      "description": "",
      "description_tooltip": null,
      "layout": "IPY_MODEL_4d437378d9a8407d8b1b03ea6e7fe0cc",
      "placeholder": "​",
      "style": "IPY_MODEL_27ac313abb0143b085a489fa1922d4d6",
      "value": " 1760/1760 [00:00&lt;00:00, 5531.70 examples/s]"
     }
    },
    "efd5e5ca39c04ae6827fe1956bfe9f10": {
     "model_module": "@jupyter-widgets/base",
     "model_module_version": "1.2.0",
     "model_name": "LayoutModel",
     "state": {
      "_model_module": "@jupyter-widgets/base",
      "_model_module_version": "1.2.0",
      "_model_name": "LayoutModel",
      "_view_count": null,
      "_view_module": "@jupyter-widgets/base",
      "_view_module_version": "1.2.0",
      "_view_name": "LayoutView",
      "align_content": null,
      "align_items": null,
      "align_self": null,
      "border": null,
      "bottom": null,
      "display": null,
      "flex": null,
      "flex_flow": null,
      "grid_area": null,
      "grid_auto_columns": null,
      "grid_auto_flow": null,
      "grid_auto_rows": null,
      "grid_column": null,
      "grid_gap": null,
      "grid_row": null,
      "grid_template_areas": null,
      "grid_template_columns": null,
      "grid_template_rows": null,
      "height": null,
      "justify_content": null,
      "justify_items": null,
      "left": null,
      "margin": null,
      "max_height": null,
      "max_width": null,
      "min_height": null,
      "min_width": null,
      "object_fit": null,
      "object_position": null,
      "order": null,
      "overflow": null,
      "overflow_x": null,
      "overflow_y": null,
      "padding": null,
      "right": null,
      "top": null,
      "visibility": null,
      "width": null
     }
    },
    "f07ba0af2cf545e1a1faed0582217189": {
     "model_module": "@jupyter-widgets/controls",
     "model_module_version": "1.5.0",
     "model_name": "DescriptionStyleModel",
     "state": {
      "_model_module": "@jupyter-widgets/controls",
      "_model_module_version": "1.5.0",
      "_model_name": "DescriptionStyleModel",
      "_view_count": null,
      "_view_module": "@jupyter-widgets/base",
      "_view_module_version": "1.2.0",
      "_view_name": "StyleView",
      "description_width": ""
     }
    },
    "f09a681c9538467caa6f8485ab2a721c": {
     "model_module": "@jupyter-widgets/controls",
     "model_module_version": "1.5.0",
     "model_name": "HTMLModel",
     "state": {
      "_dom_classes": [],
      "_model_module": "@jupyter-widgets/controls",
      "_model_module_version": "1.5.0",
      "_model_name": "HTMLModel",
      "_view_count": null,
      "_view_module": "@jupyter-widgets/controls",
      "_view_module_version": "1.5.0",
      "_view_name": "HTMLView",
      "description": "",
      "description_tooltip": null,
      "layout": "IPY_MODEL_d266c0e418a04fc2b4b99443786a66e8",
      "placeholder": "​",
      "style": "IPY_MODEL_170f0b8caed0484f814f3d4351340961",
      "value": " 7040/7040 [00:00&lt;00:00, 7777.20 examples/s]"
     }
    },
    "f38ffec6608949a0b72ef98a53953d90": {
     "model_module": "@jupyter-widgets/controls",
     "model_module_version": "1.5.0",
     "model_name": "HTMLModel",
     "state": {
      "_dom_classes": [],
      "_model_module": "@jupyter-widgets/controls",
      "_model_module_version": "1.5.0",
      "_model_name": "HTMLModel",
      "_view_count": null,
      "_view_module": "@jupyter-widgets/controls",
      "_view_module_version": "1.5.0",
      "_view_name": "HTMLView",
      "description": "",
      "description_tooltip": null,
      "layout": "IPY_MODEL_6dfe3b26e1ae4e74823c788a7dabc75d",
      "placeholder": "​",
      "style": "IPY_MODEL_ccd376190e7847bdb8ee37b6f2f1c87e",
      "value": " 2200/2200 [00:03&lt;00:00, 705.67 examples/s]"
     }
    },
    "f3b63f3d798246ceaf7c691f9011b3d3": {
     "model_module": "@jupyter-widgets/controls",
     "model_module_version": "1.5.0",
     "model_name": "HTMLModel",
     "state": {
      "_dom_classes": [],
      "_model_module": "@jupyter-widgets/controls",
      "_model_module_version": "1.5.0",
      "_model_name": "HTMLModel",
      "_view_count": null,
      "_view_module": "@jupyter-widgets/controls",
      "_view_module_version": "1.5.0",
      "_view_name": "HTMLView",
      "description": "",
      "description_tooltip": null,
      "layout": "IPY_MODEL_2cb01368820f4606858af86cc01dc5b3",
      "placeholder": "​",
      "style": "IPY_MODEL_9d776c04e38540969c27d792ec7e2e39",
      "value": " 21021/21021 [00:02&lt;00:00, 6890.26 examples/s]"
     }
    },
    "f8c030e2351c4c8dac217f1ab255a701": {
     "model_module": "@jupyter-widgets/controls",
     "model_module_version": "1.5.0",
     "model_name": "ProgressStyleModel",
     "state": {
      "_model_module": "@jupyter-widgets/controls",
      "_model_module_version": "1.5.0",
      "_model_name": "ProgressStyleModel",
      "_view_count": null,
      "_view_module": "@jupyter-widgets/base",
      "_view_module_version": "1.2.0",
      "_view_name": "StyleView",
      "bar_color": null,
      "description_width": ""
     }
    },
    "fa3489c12c5646eea4fffa1ab2e7f225": {
     "model_module": "@jupyter-widgets/base",
     "model_module_version": "1.2.0",
     "model_name": "LayoutModel",
     "state": {
      "_model_module": "@jupyter-widgets/base",
      "_model_module_version": "1.2.0",
      "_model_name": "LayoutModel",
      "_view_count": null,
      "_view_module": "@jupyter-widgets/base",
      "_view_module_version": "1.2.0",
      "_view_name": "LayoutView",
      "align_content": null,
      "align_items": null,
      "align_self": null,
      "border": null,
      "bottom": null,
      "display": null,
      "flex": null,
      "flex_flow": null,
      "grid_area": null,
      "grid_auto_columns": null,
      "grid_auto_flow": null,
      "grid_auto_rows": null,
      "grid_column": null,
      "grid_gap": null,
      "grid_row": null,
      "grid_template_areas": null,
      "grid_template_columns": null,
      "grid_template_rows": null,
      "height": null,
      "justify_content": null,
      "justify_items": null,
      "left": null,
      "margin": null,
      "max_height": null,
      "max_width": null,
      "min_height": null,
      "min_width": null,
      "object_fit": null,
      "object_position": null,
      "order": null,
      "overflow": null,
      "overflow_x": null,
      "overflow_y": null,
      "padding": null,
      "right": null,
      "top": null,
      "visibility": null,
      "width": null
     }
    },
    "fc06a5f1c8d340d1acf2f65f2e246332": {
     "model_module": "@jupyter-widgets/controls",
     "model_module_version": "1.5.0",
     "model_name": "FloatProgressModel",
     "state": {
      "_dom_classes": [],
      "_model_module": "@jupyter-widgets/controls",
      "_model_module_version": "1.5.0",
      "_model_name": "FloatProgressModel",
      "_view_count": null,
      "_view_module": "@jupyter-widgets/controls",
      "_view_module_version": "1.5.0",
      "_view_name": "ProgressView",
      "bar_style": "success",
      "description": "",
      "description_tooltip": null,
      "layout": "IPY_MODEL_ed1bf991cf9b40d38bc76b042ce7491b",
      "max": 1760,
      "min": 0,
      "orientation": "horizontal",
      "style": "IPY_MODEL_6c52c07cd95e45539604338ed542b3e9",
      "value": 1760
     }
    },
    "fd60ed30ceec4593898edf7c776ac7af": {
     "model_module": "@jupyter-widgets/base",
     "model_module_version": "1.2.0",
     "model_name": "LayoutModel",
     "state": {
      "_model_module": "@jupyter-widgets/base",
      "_model_module_version": "1.2.0",
      "_model_name": "LayoutModel",
      "_view_count": null,
      "_view_module": "@jupyter-widgets/base",
      "_view_module_version": "1.2.0",
      "_view_name": "LayoutView",
      "align_content": null,
      "align_items": null,
      "align_self": null,
      "border": null,
      "bottom": null,
      "display": null,
      "flex": null,
      "flex_flow": null,
      "grid_area": null,
      "grid_auto_columns": null,
      "grid_auto_flow": null,
      "grid_auto_rows": null,
      "grid_column": null,
      "grid_gap": null,
      "grid_row": null,
      "grid_template_areas": null,
      "grid_template_columns": null,
      "grid_template_rows": null,
      "height": null,
      "justify_content": null,
      "justify_items": null,
      "left": null,
      "margin": null,
      "max_height": null,
      "max_width": null,
      "min_height": null,
      "min_width": null,
      "object_fit": null,
      "object_position": null,
      "order": null,
      "overflow": null,
      "overflow_x": null,
      "overflow_y": null,
      "padding": null,
      "right": null,
      "top": null,
      "visibility": null,
      "width": null
     }
    },
    "ff85030715ae4ed7b6891f2a7bcb510a": {
     "model_module": "@jupyter-widgets/base",
     "model_module_version": "1.2.0",
     "model_name": "LayoutModel",
     "state": {
      "_model_module": "@jupyter-widgets/base",
      "_model_module_version": "1.2.0",
      "_model_name": "LayoutModel",
      "_view_count": null,
      "_view_module": "@jupyter-widgets/base",
      "_view_module_version": "1.2.0",
      "_view_name": "LayoutView",
      "align_content": null,
      "align_items": null,
      "align_self": null,
      "border": null,
      "bottom": null,
      "display": null,
      "flex": null,
      "flex_flow": null,
      "grid_area": null,
      "grid_auto_columns": null,
      "grid_auto_flow": null,
      "grid_auto_rows": null,
      "grid_column": null,
      "grid_gap": null,
      "grid_row": null,
      "grid_template_areas": null,
      "grid_template_columns": null,
      "grid_template_rows": null,
      "height": null,
      "justify_content": null,
      "justify_items": null,
      "left": null,
      "margin": null,
      "max_height": null,
      "max_width": null,
      "min_height": null,
      "min_width": null,
      "object_fit": null,
      "object_position": null,
      "order": null,
      "overflow": null,
      "overflow_x": null,
      "overflow_y": null,
      "padding": null,
      "right": null,
      "top": null,
      "visibility": null,
      "width": null
     }
    }
   }
  }
 },
 "nbformat": 4,
 "nbformat_minor": 4
}
