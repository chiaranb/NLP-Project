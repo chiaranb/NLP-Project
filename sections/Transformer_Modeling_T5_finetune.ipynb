{
  "cells": [
    {
      "cell_type": "markdown",
      "metadata": {
        "id": "FVDQoiiuRRkU"
      },
      "source": [
        "### Fine-tuning T5-small"
      ]
    },
    {
      "cell_type": "markdown",
      "metadata": {
        "id": "vUg_oCz20or9"
      },
      "source": [
        "The T5-small model has 60M parameters, and is part of the family of the T5 text-to-text models. It was trained on Common Crawl."
      ]
    },
    {
      "cell_type": "markdown",
      "metadata": {
        "id": "CjgU--5xSdlv"
      },
      "source": [
        "Import libraries that are going to be used in the following subsections"
      ]
    },
    {
      "cell_type": "code",
      "execution_count": 6,
      "metadata": {
        "colab": {
          "base_uri": "https://localhost:8080/"
        },
        "id": "emxuWGOu1KDK",
        "outputId": "2d364a1f-bcde-4c56-9b25-e3776fa05949"
      },
      "outputs": [
        {
          "name": "stdout",
          "output_type": "stream",
          "text": [
            "Drive already mounted at /content/drive; to attempt to forcibly remount, call drive.mount(\"/content/drive\", force_remount=True).\n"
          ]
        }
      ],
      "source": [
        "try:\n",
        "  from google.colab import drive\n",
        "  drive.mount('/content/drive')\n",
        "  import sys\n",
        "  path_to_project = '/content/drive/MyDrive/NLP_Project'\n",
        "  sys.path.append(path_to_project)\n",
        "  IN_COLAB = True\n",
        "except:\n",
        "  IN_COLAB = False"
      ]
    },
    {
      "cell_type": "code",
      "execution_count": 7,
      "metadata": {
        "id": "YufdMEbq1P85"
      },
      "outputs": [],
      "source": [
        "import pandas as pd\n",
        "import torch\n",
        "import numpy as np"
      ]
    },
    {
      "cell_type": "code",
      "execution_count": 8,
      "metadata": {
        "id": "BaQGV0-a1Mu5"
      },
      "outputs": [],
      "source": [
        "dataset_path = path_to_project + '/final_ds.csv' if IN_COLAB else './final_ds.csv'\n",
        "df = pd.read_csv(dataset_path)"
      ]
    },
    {
      "cell_type": "code",
      "execution_count": null,
      "metadata": {
        "colab": {
          "base_uri": "https://localhost:8080/"
        },
        "collapsed": true,
        "id": "keIxx4ttSVfQ",
        "outputId": "2595af97-829c-4bf3-b06a-04981159fdc4"
      },
      "outputs": [],
      "source": [
        "!pip install -q transformers\n",
        "!pip install datasets"
      ]
    },
    {
      "cell_type": "code",
      "execution_count": 10,
      "metadata": {
        "id": "waL97wHiSW0P"
      },
      "outputs": [],
      "source": [
        "from datasets import Dataset, DatasetDict"
      ]
    },
    {
      "cell_type": "markdown",
      "metadata": {
        "id": "HKgSqU2D7nfk"
      },
      "source": [
        "#### Dataset Pre-processing\n",
        "\n"
      ]
    },
    {
      "cell_type": "markdown",
      "metadata": {
        "id": "C_2EFiKG0osB"
      },
      "source": [
        "For the fine-tuning of T5-small we decided to keep 5000 samples. The model is relatively small, with only 60M parameters and already trained: a higher amount of samples led to worse performance because it caused the training to overwrite parameters unecessarily"
      ]
    },
    {
      "cell_type": "code",
      "execution_count": null,
      "metadata": {
        "colab": {
          "base_uri": "https://localhost:8080/"
        },
        "id": "17rHYL5W0osC",
        "outputId": "ed22dd2f-6174-40f8-b465-d7012cf5f3b3"
      },
      "outputs": [
        {
          "data": {
            "text/plain": [
              "(5000, 6)"
            ]
          },
          "execution_count": 11,
          "metadata": {},
          "output_type": "execute_result"
        }
      ],
      "source": [
        "df = df.head(5000).copy()\n",
        "df.shape"
      ]
    },
    {
      "cell_type": "markdown",
      "metadata": {
        "id": "FwrT2cVJT9lm"
      },
      "source": [
        "Subset the data into training dataset, validation dataset and test dataset. We decided to use 10% of the dataset for tesing, and the remaining for train and validation."
      ]
    },
    {
      "cell_type": "code",
      "execution_count": 12,
      "metadata": {
        "id": "teD1cn2TULv7"
      },
      "outputs": [],
      "source": [
        "from sklearn.model_selection import train_test_split\n",
        "\n",
        "train_val, test = train_test_split(df, test_size=0.1)\n",
        "train, val = train_test_split(train_val, test_size=0.2)"
      ]
    },
    {
      "cell_type": "code",
      "execution_count": 13,
      "metadata": {
        "colab": {
          "base_uri": "https://localhost:8080/"
        },
        "id": "oMwO1BfEVEg3",
        "outputId": "97661a0d-7c61-4346-ffc8-58994dae07ac"
      },
      "outputs": [
        {
          "name": "stdout",
          "output_type": "stream",
          "text": [
            "# train instances:  3600\n",
            "# test instances:   500\n",
            "# val instances:    900\n"
          ]
        }
      ],
      "source": [
        "print('# train instances: ', train.shape[0])\n",
        "print('# test instances:  ', test.shape[0])\n",
        "print('# val instances:   ', val.shape[0])"
      ]
    },
    {
      "cell_type": "markdown",
      "metadata": {
        "id": "IjIFdM6SU7KS"
      },
      "source": [
        "Now we check the device"
      ]
    },
    {
      "cell_type": "code",
      "execution_count": 14,
      "metadata": {
        "colab": {
          "base_uri": "https://localhost:8080/"
        },
        "id": "JHuEr8EJU9fl",
        "outputId": "cd2a50ce-056e-4cd9-b77c-6b2462627fc4"
      },
      "outputs": [
        {
          "name": "stdout",
          "output_type": "stream",
          "text": [
            "cuda\n"
          ]
        }
      ],
      "source": [
        "device = torch.device('cuda' if torch.cuda.is_available() else 'cpu')\n",
        "print(device)"
      ]
    },
    {
      "cell_type": "markdown",
      "metadata": {
        "id": "95syZdS27cCH"
      },
      "source": [
        "#### Model and Tokenizer"
      ]
    },
    {
      "cell_type": "markdown",
      "metadata": {
        "id": "FwzII_j2cqQc"
      },
      "source": [
        "Retrieve the model and tokenizer"
      ]
    },
    {
      "cell_type": "code",
      "execution_count": 15,
      "metadata": {
        "id": "OAMh60VbRa2h"
      },
      "outputs": [],
      "source": [
        "from transformers import T5Tokenizer, T5ForConditionalGeneration, T5Model"
      ]
    },
    {
      "cell_type": "code",
      "execution_count": 16,
      "metadata": {
        "id": "L8b6zbvxhsp1"
      },
      "outputs": [],
      "source": [
        "model_name = 'google-t5/t5-small'"
      ]
    },
    {
      "cell_type": "markdown",
      "metadata": {
        "id": "65PBw2lWdoo0"
      },
      "source": [
        "Upload the Tokenizer"
      ]
    },
    {
      "cell_type": "code",
      "execution_count": 17,
      "metadata": {
        "colab": {
          "base_uri": "https://localhost:8080/",
          "height": 255,
          "referenced_widgets": [
            "84ac14146d2642fba5c2e5cb2a815caf",
            "35d94d2249f14cddb6fea36bdd6bd234",
            "30c2dc0ebe984b6188d7f757bfa160ba",
            "6cb531eddd2f4d4d8e7add9dd1fe5edf",
            "e9115d819a964908a0db6cbd4e3a5388",
            "9824daa9526e496c8c726e848a906545",
            "c1483d5a4b74420ea288fc09075c5064",
            "fc31ac124ad441b58027e583ff5d44f6",
            "8bddcf3ad6784274a1189278c97a0424",
            "5ec8dc1cadb1484c8222fa800578e69c",
            "f8e8501c68a24dee8564f8c368f28de8",
            "58c81648f36f44b088194190ddf8e428",
            "2bf07b9136f247fc8262652737853c38",
            "0b158a4e723447ddb383e9d7065522f8",
            "fa54aed80f8a4f7dad3615ad003b4967",
            "e5393e49828948bdbd0d635250c35511",
            "58a4012e49134cc68fb5c0d13c2bfa7f",
            "ddcbc8af555b4ebf81b519b2b28367f4",
            "1aac6231d7e642e2895177916570351e",
            "5fd54842e5f849c3a5a1c154584ccae2",
            "42b3a497ff364839a50bf40599af734c",
            "54267cb75b7444788ed526eddd5d3c27",
            "593dc97b085d415e82f8695676687a2c",
            "149c35ebc9694ff180cc807f5e039d0c",
            "a42151ba03e94b30b2be04cdbc4f8c94",
            "77b7285c92244655a8c0c9e52ba52480",
            "4aab2afd2e8048189cb841cea96c025c",
            "647cb8bb77d84c0ab1d5bad39b49f821",
            "790c811af81742e8986114cd73856928",
            "aa1655ce6e204a679dca4b39d31c3763",
            "eddd612ddbcc49c7ba76d952325df4f0",
            "00561bbc04a84a02b8c22feeb97dcb53",
            "ad80ddcfc66241d89a29afbdfe7a5555"
          ]
        },
        "id": "M08EGkzWdrin",
        "outputId": "a8acafda-b7d7-4c4c-88d8-e0e38f86263a"
      },
      "outputs": [
        {
          "name": "stderr",
          "output_type": "stream",
          "text": [
            "/usr/local/lib/python3.11/dist-packages/huggingface_hub/utils/_auth.py:94: UserWarning: \n",
            "The secret `HF_TOKEN` does not exist in your Colab secrets.\n",
            "To authenticate with the Hugging Face Hub, create a token in your settings tab (https://huggingface.co/settings/tokens), set it as secret in your Google Colab and restart your session.\n",
            "You will be able to reuse this secret in all of your notebooks.\n",
            "Please note that authentication is recommended but still optional to access public models or datasets.\n",
            "  warnings.warn(\n"
          ]
        },
        {
          "data": {
            "application/vnd.jupyter.widget-view+json": {
              "model_id": "84ac14146d2642fba5c2e5cb2a815caf",
              "version_major": 2,
              "version_minor": 0
            },
            "text/plain": [
              "tokenizer_config.json:   0%|          | 0.00/2.32k [00:00<?, ?B/s]"
            ]
          },
          "metadata": {},
          "output_type": "display_data"
        },
        {
          "data": {
            "application/vnd.jupyter.widget-view+json": {
              "model_id": "58c81648f36f44b088194190ddf8e428",
              "version_major": 2,
              "version_minor": 0
            },
            "text/plain": [
              "spiece.model:   0%|          | 0.00/792k [00:00<?, ?B/s]"
            ]
          },
          "metadata": {},
          "output_type": "display_data"
        },
        {
          "data": {
            "application/vnd.jupyter.widget-view+json": {
              "model_id": "593dc97b085d415e82f8695676687a2c",
              "version_major": 2,
              "version_minor": 0
            },
            "text/plain": [
              "tokenizer.json:   0%|          | 0.00/1.39M [00:00<?, ?B/s]"
            ]
          },
          "metadata": {},
          "output_type": "display_data"
        },
        {
          "name": "stderr",
          "output_type": "stream",
          "text": [
            "You are using the default legacy behaviour of the <class 'transformers.models.t5.tokenization_t5.T5Tokenizer'>. This is expected, and simply means that the `legacy` (previous) behavior will be used so nothing changes for you. If you want to use the new behaviour, set `legacy=False`. This should only be set if you understand what it means, and thoroughly read the reason why this was added as explained in https://github.com/huggingface/transformers/pull/24565\n"
          ]
        }
      ],
      "source": [
        "tokenizer = T5Tokenizer.from_pretrained(model_name)"
      ]
    },
    {
      "cell_type": "code",
      "execution_count": 18,
      "metadata": {
        "id": "zpE1fZfCCwVj"
      },
      "outputs": [],
      "source": [
        "tokenizer.pad_token = tokenizer.eos_token"
      ]
    },
    {
      "cell_type": "code",
      "execution_count": 19,
      "metadata": {
        "colab": {
          "base_uri": "https://localhost:8080/"
        },
        "id": "bCRPCf-aeF6R",
        "outputId": "a015e317-8fb1-4dcc-9ac6-8562094fb1c4"
      },
      "outputs": [
        {
          "name": "stdout",
          "output_type": "stream",
          "text": [
            "vocabulary size:  32000\n"
          ]
        }
      ],
      "source": [
        "print(\"vocabulary size: \", tokenizer.vocab_size)"
      ]
    },
    {
      "cell_type": "code",
      "execution_count": 20,
      "metadata": {
        "colab": {
          "base_uri": "https://localhost:8080/"
        },
        "id": "YOsy7VnElkJX",
        "outputId": "2b879ede-0d7c-4ceb-dc46-bd37c4ac646e"
      },
      "outputs": [
        {
          "data": {
            "text/plain": [
              "[('▁big', 600),\n",
              " ('▁God', 601),\n",
              " ('▁dass', 602),\n",
              " ('im', 603),\n",
              " ('▁30', 604),\n",
              " ('▁event', 605),\n",
              " ('▁development', 606),\n",
              " ('▁form', 607),\n",
              " ('▁read', 608),\n",
              " ('▁hand', 609)]"
            ]
          },
          "execution_count": 20,
          "metadata": {},
          "output_type": "execute_result"
        }
      ],
      "source": [
        "list(tokenizer.get_vocab().items())[600:610]"
      ]
    },
    {
      "cell_type": "code",
      "execution_count": 21,
      "metadata": {
        "colab": {
          "base_uri": "https://localhost:8080/"
        },
        "id": "RPT32oq1lBq8",
        "outputId": "ba3c2a35-8e4f-4231-fed3-bdef3c51c3b9"
      },
      "outputs": [
        {
          "name": "stdout",
          "output_type": "stream",
          "text": [
            "['▁You', '▁have', '▁an', '▁array', '▁in', '▁input', ',', '▁order', '▁the', '▁elements', '▁in', '▁it', '▁in', '▁O', '(', 'n', ')', '▁time', '▁complexity', '.', '▁Add', '▁', 'a', '▁wrong', '▁word', 'd']\n"
          ]
        }
      ],
      "source": [
        "text = \"You have an array in input, order the elements in it in O(n) time complexity. Add a wrong wordd\"\n",
        "encoded_input = tokenizer._tokenize(text)\n",
        "print(encoded_input)"
      ]
    },
    {
      "cell_type": "code",
      "execution_count": 22,
      "metadata": {
        "colab": {
          "base_uri": "https://localhost:8080/"
        },
        "id": "3p1Cp10roJ9T",
        "outputId": "64be7af0-fb68-4725-8a95-8e65494147a5"
      },
      "outputs": [
        {
          "name": "stdout",
          "output_type": "stream",
          "text": [
            "[148, 43, 46, 5590, 16, 3785, 6, 455, 8, 2479, 16, 34, 16, 411, 599, 29, 61, 97, 11641, 5, 2334, 3, 9, 1786, 1448, 26, 1]\n"
          ]
        }
      ],
      "source": [
        "encoded_ids = tokenizer(text)['input_ids']\n",
        "print(encoded_ids)"
      ]
    },
    {
      "cell_type": "markdown",
      "metadata": {
        "id": "4KKzcqm9hYME"
      },
      "source": [
        "The model is uploaded and connected to the device"
      ]
    },
    {
      "cell_type": "code",
      "execution_count": 23,
      "metadata": {
        "colab": {
          "base_uri": "https://localhost:8080/",
          "height": 185,
          "referenced_widgets": [
            "3b646753724640f7bc734376016da4db",
            "73933de7f3cf4e38a85d36be0a32d3dd",
            "a823d2e1a1d64d798fea2a9b5b6df2a5",
            "a9a9e54312624a5096a9e9c11aa0a13e",
            "11219827f60e4c46a40ab692fc5f7a78",
            "9d5040f3c117418b8cbc24c30563e98b",
            "986a723138304abeb6302686d8111901",
            "9d4d9630c4c14ba180836387b4d1dab2",
            "9b0f9c680fd7467dae97b1be5104ba54",
            "e28b5b0975a944c58e447ccad09c6af0",
            "a3bc3df5ee374373ac89a5d521a0479e",
            "fbff42bad7d14a1482bace3887551b29",
            "021c2918b010474cbc6b8b801e24c363",
            "3406b0305b1d4e20a83bbe34efbf03fa",
            "bde89f9a6da84b9ba09004d03b1716cd",
            "f51bc25c9b1142ab8f54eb82b4e8d8ea",
            "3d8452eba75b4539bad934742fabd31b",
            "0e102b851ec842a6b0ea054a98d4061e",
            "3ae75a07518b4526baf504e60dfacfcc",
            "4efa05f9c9bf4f7292e30c6e78826edf",
            "110d268bb5d34a6e89d8565e9531bded",
            "047cf629797a49de849f6e43aece7dfa",
            "561f0690a14c4ef1b13965c76ca1d97e",
            "41a5e98c8f114606ba1486b943c4c93b",
            "3d0cfc10e4b941158a308b0d509eea95",
            "f90ea902669d4f4e86802b55f47530e4",
            "620f27f606364782ba2cc3908bcb791f",
            "4711fa4d250c446190154c3c82cfec56",
            "669682eedc0b48abbd925396040ef928",
            "529f2fdfda914f4680007d778d6e857f",
            "23ddfe27a287473aa124682540f4fdda",
            "26940a64ecb046bba60aa9af43bd77e6",
            "6eec33089a224a3ba1aa371c590e8c0a"
          ]
        },
        "id": "AqXCuI6iWXOd",
        "outputId": "febd3740-0eb4-4edb-8e5d-83de3d977771"
      },
      "outputs": [
        {
          "data": {
            "application/vnd.jupyter.widget-view+json": {
              "model_id": "3b646753724640f7bc734376016da4db",
              "version_major": 2,
              "version_minor": 0
            },
            "text/plain": [
              "config.json:   0%|          | 0.00/1.21k [00:00<?, ?B/s]"
            ]
          },
          "metadata": {},
          "output_type": "display_data"
        },
        {
          "name": "stderr",
          "output_type": "stream",
          "text": [
            "Xet Storage is enabled for this repo, but the 'hf_xet' package is not installed. Falling back to regular HTTP download. For better performance, install the package with: `pip install huggingface_hub[hf_xet]` or `pip install hf_xet`\n",
            "WARNING:huggingface_hub.file_download:Xet Storage is enabled for this repo, but the 'hf_xet' package is not installed. Falling back to regular HTTP download. For better performance, install the package with: `pip install huggingface_hub[hf_xet]` or `pip install hf_xet`\n"
          ]
        },
        {
          "data": {
            "application/vnd.jupyter.widget-view+json": {
              "model_id": "fbff42bad7d14a1482bace3887551b29",
              "version_major": 2,
              "version_minor": 0
            },
            "text/plain": [
              "model.safetensors:   0%|          | 0.00/242M [00:00<?, ?B/s]"
            ]
          },
          "metadata": {},
          "output_type": "display_data"
        },
        {
          "data": {
            "application/vnd.jupyter.widget-view+json": {
              "model_id": "561f0690a14c4ef1b13965c76ca1d97e",
              "version_major": 2,
              "version_minor": 0
            },
            "text/plain": [
              "generation_config.json:   0%|          | 0.00/147 [00:00<?, ?B/s]"
            ]
          },
          "metadata": {},
          "output_type": "display_data"
        },
        {
          "data": {
            "text/plain": [
              "Embedding(32100, 512)"
            ]
          },
          "execution_count": 23,
          "metadata": {},
          "output_type": "execute_result"
        }
      ],
      "source": [
        "t5 = T5ForConditionalGeneration.from_pretrained(model_name, device_map=device)\n",
        "t5.resize_token_embeddings(len(tokenizer))"
      ]
    },
    {
      "cell_type": "code",
      "execution_count": 24,
      "metadata": {
        "colab": {
          "base_uri": "https://localhost:8080/"
        },
        "id": "VxsOOXdSceIo",
        "outputId": "fe84016d-9cd2-499a-ac25-8238c059d922"
      },
      "outputs": [
        {
          "name": "stdout",
          "output_type": "stream",
          "text": [
            "T5ForConditionalGeneration(\n",
            "  (shared): Embedding(32100, 512)\n",
            "  (encoder): T5Stack(\n",
            "    (embed_tokens): Embedding(32100, 512)\n",
            "    (block): ModuleList(\n",
            "      (0): T5Block(\n",
            "        (layer): ModuleList(\n",
            "          (0): T5LayerSelfAttention(\n",
            "            (SelfAttention): T5Attention(\n",
            "              (q): Linear(in_features=512, out_features=512, bias=False)\n",
            "              (k): Linear(in_features=512, out_features=512, bias=False)\n",
            "              (v): Linear(in_features=512, out_features=512, bias=False)\n",
            "              (o): Linear(in_features=512, out_features=512, bias=False)\n",
            "              (relative_attention_bias): Embedding(32, 8)\n",
            "            )\n",
            "            (layer_norm): T5LayerNorm()\n",
            "            (dropout): Dropout(p=0.1, inplace=False)\n",
            "          )\n",
            "          (1): T5LayerFF(\n",
            "            (DenseReluDense): T5DenseActDense(\n",
            "              (wi): Linear(in_features=512, out_features=2048, bias=False)\n",
            "              (wo): Linear(in_features=2048, out_features=512, bias=False)\n",
            "              (dropout): Dropout(p=0.1, inplace=False)\n",
            "              (act): ReLU()\n",
            "            )\n",
            "            (layer_norm): T5LayerNorm()\n",
            "            (dropout): Dropout(p=0.1, inplace=False)\n",
            "          )\n",
            "        )\n",
            "      )\n",
            "      (1-5): 5 x T5Block(\n",
            "        (layer): ModuleList(\n",
            "          (0): T5LayerSelfAttention(\n",
            "            (SelfAttention): T5Attention(\n",
            "              (q): Linear(in_features=512, out_features=512, bias=False)\n",
            "              (k): Linear(in_features=512, out_features=512, bias=False)\n",
            "              (v): Linear(in_features=512, out_features=512, bias=False)\n",
            "              (o): Linear(in_features=512, out_features=512, bias=False)\n",
            "            )\n",
            "            (layer_norm): T5LayerNorm()\n",
            "            (dropout): Dropout(p=0.1, inplace=False)\n",
            "          )\n",
            "          (1): T5LayerFF(\n",
            "            (DenseReluDense): T5DenseActDense(\n",
            "              (wi): Linear(in_features=512, out_features=2048, bias=False)\n",
            "              (wo): Linear(in_features=2048, out_features=512, bias=False)\n",
            "              (dropout): Dropout(p=0.1, inplace=False)\n",
            "              (act): ReLU()\n",
            "            )\n",
            "            (layer_norm): T5LayerNorm()\n",
            "            (dropout): Dropout(p=0.1, inplace=False)\n",
            "          )\n",
            "        )\n",
            "      )\n",
            "    )\n",
            "    (final_layer_norm): T5LayerNorm()\n",
            "    (dropout): Dropout(p=0.1, inplace=False)\n",
            "  )\n",
            "  (decoder): T5Stack(\n",
            "    (embed_tokens): Embedding(32100, 512)\n",
            "    (block): ModuleList(\n",
            "      (0): T5Block(\n",
            "        (layer): ModuleList(\n",
            "          (0): T5LayerSelfAttention(\n",
            "            (SelfAttention): T5Attention(\n",
            "              (q): Linear(in_features=512, out_features=512, bias=False)\n",
            "              (k): Linear(in_features=512, out_features=512, bias=False)\n",
            "              (v): Linear(in_features=512, out_features=512, bias=False)\n",
            "              (o): Linear(in_features=512, out_features=512, bias=False)\n",
            "              (relative_attention_bias): Embedding(32, 8)\n",
            "            )\n",
            "            (layer_norm): T5LayerNorm()\n",
            "            (dropout): Dropout(p=0.1, inplace=False)\n",
            "          )\n",
            "          (1): T5LayerCrossAttention(\n",
            "            (EncDecAttention): T5Attention(\n",
            "              (q): Linear(in_features=512, out_features=512, bias=False)\n",
            "              (k): Linear(in_features=512, out_features=512, bias=False)\n",
            "              (v): Linear(in_features=512, out_features=512, bias=False)\n",
            "              (o): Linear(in_features=512, out_features=512, bias=False)\n",
            "            )\n",
            "            (layer_norm): T5LayerNorm()\n",
            "            (dropout): Dropout(p=0.1, inplace=False)\n",
            "          )\n",
            "          (2): T5LayerFF(\n",
            "            (DenseReluDense): T5DenseActDense(\n",
            "              (wi): Linear(in_features=512, out_features=2048, bias=False)\n",
            "              (wo): Linear(in_features=2048, out_features=512, bias=False)\n",
            "              (dropout): Dropout(p=0.1, inplace=False)\n",
            "              (act): ReLU()\n",
            "            )\n",
            "            (layer_norm): T5LayerNorm()\n",
            "            (dropout): Dropout(p=0.1, inplace=False)\n",
            "          )\n",
            "        )\n",
            "      )\n",
            "      (1-5): 5 x T5Block(\n",
            "        (layer): ModuleList(\n",
            "          (0): T5LayerSelfAttention(\n",
            "            (SelfAttention): T5Attention(\n",
            "              (q): Linear(in_features=512, out_features=512, bias=False)\n",
            "              (k): Linear(in_features=512, out_features=512, bias=False)\n",
            "              (v): Linear(in_features=512, out_features=512, bias=False)\n",
            "              (o): Linear(in_features=512, out_features=512, bias=False)\n",
            "            )\n",
            "            (layer_norm): T5LayerNorm()\n",
            "            (dropout): Dropout(p=0.1, inplace=False)\n",
            "          )\n",
            "          (1): T5LayerCrossAttention(\n",
            "            (EncDecAttention): T5Attention(\n",
            "              (q): Linear(in_features=512, out_features=512, bias=False)\n",
            "              (k): Linear(in_features=512, out_features=512, bias=False)\n",
            "              (v): Linear(in_features=512, out_features=512, bias=False)\n",
            "              (o): Linear(in_features=512, out_features=512, bias=False)\n",
            "            )\n",
            "            (layer_norm): T5LayerNorm()\n",
            "            (dropout): Dropout(p=0.1, inplace=False)\n",
            "          )\n",
            "          (2): T5LayerFF(\n",
            "            (DenseReluDense): T5DenseActDense(\n",
            "              (wi): Linear(in_features=512, out_features=2048, bias=False)\n",
            "              (wo): Linear(in_features=2048, out_features=512, bias=False)\n",
            "              (dropout): Dropout(p=0.1, inplace=False)\n",
            "              (act): ReLU()\n",
            "            )\n",
            "            (layer_norm): T5LayerNorm()\n",
            "            (dropout): Dropout(p=0.1, inplace=False)\n",
            "          )\n",
            "        )\n",
            "      )\n",
            "    )\n",
            "    (final_layer_norm): T5LayerNorm()\n",
            "    (dropout): Dropout(p=0.1, inplace=False)\n",
            "  )\n",
            "  (lm_head): Linear(in_features=512, out_features=32100, bias=False)\n",
            ")\n"
          ]
        }
      ],
      "source": [
        "print(t5)"
      ]
    },
    {
      "cell_type": "markdown",
      "metadata": {
        "id": "HK4aMqLHc9u9"
      },
      "source": [
        "Consider now the number of parameters of the model"
      ]
    },
    {
      "cell_type": "code",
      "execution_count": 25,
      "metadata": {
        "colab": {
          "base_uri": "https://localhost:8080/"
        },
        "id": "qJvbIT3Iclht",
        "outputId": "1fd384cd-eea7-49aa-96a8-a24c1cf6a33f"
      },
      "outputs": [
        {
          "data": {
            "text/plain": [
              "60492288"
            ]
          },
          "execution_count": 25,
          "metadata": {},
          "output_type": "execute_result"
        }
      ],
      "source": [
        "n_params = sum(param.numel() for param in t5.parameters())\n",
        "n_params"
      ]
    },
    {
      "cell_type": "code",
      "execution_count": 26,
      "metadata": {
        "colab": {
          "base_uri": "https://localhost:8080/"
        },
        "collapsed": true,
        "id": "Trm3yzwNhClP",
        "outputId": "8254f094-a9cb-44ba-dd95-88efcb097ded"
      },
      "outputs": [
        {
          "name": "stdout",
          "output_type": "stream",
          "text": [
            "Parameter name: shared.weight\n",
            "Parameter shape: torch.Size([32100, 512])\n",
            "Is trainable: True\n",
            "\n",
            "Parameter name: encoder.block.0.layer.0.SelfAttention.q.weight\n",
            "Parameter shape: torch.Size([512, 512])\n",
            "Is trainable: True\n",
            "\n",
            "Parameter name: encoder.block.0.layer.0.SelfAttention.k.weight\n",
            "Parameter shape: torch.Size([512, 512])\n",
            "Is trainable: True\n",
            "\n",
            "Parameter name: encoder.block.0.layer.0.SelfAttention.v.weight\n",
            "Parameter shape: torch.Size([512, 512])\n",
            "Is trainable: True\n",
            "\n",
            "Parameter name: encoder.block.0.layer.0.SelfAttention.o.weight\n",
            "Parameter shape: torch.Size([512, 512])\n",
            "Is trainable: True\n",
            "\n",
            "Parameter name: encoder.block.0.layer.0.SelfAttention.relative_attention_bias.weight\n",
            "Parameter shape: torch.Size([32, 8])\n",
            "Is trainable: True\n",
            "\n",
            "Parameter name: encoder.block.0.layer.0.layer_norm.weight\n",
            "Parameter shape: torch.Size([512])\n",
            "Is trainable: True\n",
            "\n",
            "Parameter name: encoder.block.0.layer.1.DenseReluDense.wi.weight\n",
            "Parameter shape: torch.Size([2048, 512])\n",
            "Is trainable: True\n",
            "\n",
            "Parameter name: encoder.block.0.layer.1.DenseReluDense.wo.weight\n",
            "Parameter shape: torch.Size([512, 2048])\n",
            "Is trainable: True\n",
            "\n",
            "Parameter name: encoder.block.0.layer.1.layer_norm.weight\n",
            "Parameter shape: torch.Size([512])\n",
            "Is trainable: True\n",
            "\n",
            "Parameter name: encoder.block.1.layer.0.SelfAttention.q.weight\n",
            "Parameter shape: torch.Size([512, 512])\n",
            "Is trainable: True\n",
            "\n",
            "Parameter name: encoder.block.1.layer.0.SelfAttention.k.weight\n",
            "Parameter shape: torch.Size([512, 512])\n",
            "Is trainable: True\n",
            "\n",
            "Parameter name: encoder.block.1.layer.0.SelfAttention.v.weight\n",
            "Parameter shape: torch.Size([512, 512])\n",
            "Is trainable: True\n",
            "\n",
            "Parameter name: encoder.block.1.layer.0.SelfAttention.o.weight\n",
            "Parameter shape: torch.Size([512, 512])\n",
            "Is trainable: True\n",
            "\n",
            "Parameter name: encoder.block.1.layer.0.layer_norm.weight\n",
            "Parameter shape: torch.Size([512])\n",
            "Is trainable: True\n",
            "\n",
            "Parameter name: encoder.block.1.layer.1.DenseReluDense.wi.weight\n",
            "Parameter shape: torch.Size([2048, 512])\n",
            "Is trainable: True\n",
            "\n",
            "Parameter name: encoder.block.1.layer.1.DenseReluDense.wo.weight\n",
            "Parameter shape: torch.Size([512, 2048])\n",
            "Is trainable: True\n",
            "\n",
            "Parameter name: encoder.block.1.layer.1.layer_norm.weight\n",
            "Parameter shape: torch.Size([512])\n",
            "Is trainable: True\n",
            "\n",
            "Parameter name: encoder.block.2.layer.0.SelfAttention.q.weight\n",
            "Parameter shape: torch.Size([512, 512])\n",
            "Is trainable: True\n",
            "\n",
            "Parameter name: encoder.block.2.layer.0.SelfAttention.k.weight\n",
            "Parameter shape: torch.Size([512, 512])\n",
            "Is trainable: True\n",
            "\n",
            "Parameter name: encoder.block.2.layer.0.SelfAttention.v.weight\n",
            "Parameter shape: torch.Size([512, 512])\n",
            "Is trainable: True\n",
            "\n",
            "Parameter name: encoder.block.2.layer.0.SelfAttention.o.weight\n",
            "Parameter shape: torch.Size([512, 512])\n",
            "Is trainable: True\n",
            "\n",
            "Parameter name: encoder.block.2.layer.0.layer_norm.weight\n",
            "Parameter shape: torch.Size([512])\n",
            "Is trainable: True\n",
            "\n",
            "Parameter name: encoder.block.2.layer.1.DenseReluDense.wi.weight\n",
            "Parameter shape: torch.Size([2048, 512])\n",
            "Is trainable: True\n",
            "\n",
            "Parameter name: encoder.block.2.layer.1.DenseReluDense.wo.weight\n",
            "Parameter shape: torch.Size([512, 2048])\n",
            "Is trainable: True\n",
            "\n",
            "Parameter name: encoder.block.2.layer.1.layer_norm.weight\n",
            "Parameter shape: torch.Size([512])\n",
            "Is trainable: True\n",
            "\n",
            "Parameter name: encoder.block.3.layer.0.SelfAttention.q.weight\n",
            "Parameter shape: torch.Size([512, 512])\n",
            "Is trainable: True\n",
            "\n",
            "Parameter name: encoder.block.3.layer.0.SelfAttention.k.weight\n",
            "Parameter shape: torch.Size([512, 512])\n",
            "Is trainable: True\n",
            "\n",
            "Parameter name: encoder.block.3.layer.0.SelfAttention.v.weight\n",
            "Parameter shape: torch.Size([512, 512])\n",
            "Is trainable: True\n",
            "\n",
            "Parameter name: encoder.block.3.layer.0.SelfAttention.o.weight\n",
            "Parameter shape: torch.Size([512, 512])\n",
            "Is trainable: True\n",
            "\n",
            "Parameter name: encoder.block.3.layer.0.layer_norm.weight\n",
            "Parameter shape: torch.Size([512])\n",
            "Is trainable: True\n",
            "\n",
            "Parameter name: encoder.block.3.layer.1.DenseReluDense.wi.weight\n",
            "Parameter shape: torch.Size([2048, 512])\n",
            "Is trainable: True\n",
            "\n",
            "Parameter name: encoder.block.3.layer.1.DenseReluDense.wo.weight\n",
            "Parameter shape: torch.Size([512, 2048])\n",
            "Is trainable: True\n",
            "\n",
            "Parameter name: encoder.block.3.layer.1.layer_norm.weight\n",
            "Parameter shape: torch.Size([512])\n",
            "Is trainable: True\n",
            "\n",
            "Parameter name: encoder.block.4.layer.0.SelfAttention.q.weight\n",
            "Parameter shape: torch.Size([512, 512])\n",
            "Is trainable: True\n",
            "\n",
            "Parameter name: encoder.block.4.layer.0.SelfAttention.k.weight\n",
            "Parameter shape: torch.Size([512, 512])\n",
            "Is trainable: True\n",
            "\n",
            "Parameter name: encoder.block.4.layer.0.SelfAttention.v.weight\n",
            "Parameter shape: torch.Size([512, 512])\n",
            "Is trainable: True\n",
            "\n",
            "Parameter name: encoder.block.4.layer.0.SelfAttention.o.weight\n",
            "Parameter shape: torch.Size([512, 512])\n",
            "Is trainable: True\n",
            "\n",
            "Parameter name: encoder.block.4.layer.0.layer_norm.weight\n",
            "Parameter shape: torch.Size([512])\n",
            "Is trainable: True\n",
            "\n",
            "Parameter name: encoder.block.4.layer.1.DenseReluDense.wi.weight\n",
            "Parameter shape: torch.Size([2048, 512])\n",
            "Is trainable: True\n",
            "\n",
            "Parameter name: encoder.block.4.layer.1.DenseReluDense.wo.weight\n",
            "Parameter shape: torch.Size([512, 2048])\n",
            "Is trainable: True\n",
            "\n",
            "Parameter name: encoder.block.4.layer.1.layer_norm.weight\n",
            "Parameter shape: torch.Size([512])\n",
            "Is trainable: True\n",
            "\n",
            "Parameter name: encoder.block.5.layer.0.SelfAttention.q.weight\n",
            "Parameter shape: torch.Size([512, 512])\n",
            "Is trainable: True\n",
            "\n",
            "Parameter name: encoder.block.5.layer.0.SelfAttention.k.weight\n",
            "Parameter shape: torch.Size([512, 512])\n",
            "Is trainable: True\n",
            "\n",
            "Parameter name: encoder.block.5.layer.0.SelfAttention.v.weight\n",
            "Parameter shape: torch.Size([512, 512])\n",
            "Is trainable: True\n",
            "\n",
            "Parameter name: encoder.block.5.layer.0.SelfAttention.o.weight\n",
            "Parameter shape: torch.Size([512, 512])\n",
            "Is trainable: True\n",
            "\n",
            "Parameter name: encoder.block.5.layer.0.layer_norm.weight\n",
            "Parameter shape: torch.Size([512])\n",
            "Is trainable: True\n",
            "\n",
            "Parameter name: encoder.block.5.layer.1.DenseReluDense.wi.weight\n",
            "Parameter shape: torch.Size([2048, 512])\n",
            "Is trainable: True\n",
            "\n",
            "Parameter name: encoder.block.5.layer.1.DenseReluDense.wo.weight\n",
            "Parameter shape: torch.Size([512, 2048])\n",
            "Is trainable: True\n",
            "\n",
            "Parameter name: encoder.block.5.layer.1.layer_norm.weight\n",
            "Parameter shape: torch.Size([512])\n",
            "Is trainable: True\n",
            "\n",
            "Parameter name: encoder.final_layer_norm.weight\n",
            "Parameter shape: torch.Size([512])\n",
            "Is trainable: True\n",
            "\n",
            "Parameter name: decoder.block.0.layer.0.SelfAttention.q.weight\n",
            "Parameter shape: torch.Size([512, 512])\n",
            "Is trainable: True\n",
            "\n",
            "Parameter name: decoder.block.0.layer.0.SelfAttention.k.weight\n",
            "Parameter shape: torch.Size([512, 512])\n",
            "Is trainable: True\n",
            "\n",
            "Parameter name: decoder.block.0.layer.0.SelfAttention.v.weight\n",
            "Parameter shape: torch.Size([512, 512])\n",
            "Is trainable: True\n",
            "\n",
            "Parameter name: decoder.block.0.layer.0.SelfAttention.o.weight\n",
            "Parameter shape: torch.Size([512, 512])\n",
            "Is trainable: True\n",
            "\n",
            "Parameter name: decoder.block.0.layer.0.SelfAttention.relative_attention_bias.weight\n",
            "Parameter shape: torch.Size([32, 8])\n",
            "Is trainable: True\n",
            "\n",
            "Parameter name: decoder.block.0.layer.0.layer_norm.weight\n",
            "Parameter shape: torch.Size([512])\n",
            "Is trainable: True\n",
            "\n",
            "Parameter name: decoder.block.0.layer.1.EncDecAttention.q.weight\n",
            "Parameter shape: torch.Size([512, 512])\n",
            "Is trainable: True\n",
            "\n",
            "Parameter name: decoder.block.0.layer.1.EncDecAttention.k.weight\n",
            "Parameter shape: torch.Size([512, 512])\n",
            "Is trainable: True\n",
            "\n",
            "Parameter name: decoder.block.0.layer.1.EncDecAttention.v.weight\n",
            "Parameter shape: torch.Size([512, 512])\n",
            "Is trainable: True\n",
            "\n",
            "Parameter name: decoder.block.0.layer.1.EncDecAttention.o.weight\n",
            "Parameter shape: torch.Size([512, 512])\n",
            "Is trainable: True\n",
            "\n",
            "Parameter name: decoder.block.0.layer.1.layer_norm.weight\n",
            "Parameter shape: torch.Size([512])\n",
            "Is trainable: True\n",
            "\n",
            "Parameter name: decoder.block.0.layer.2.DenseReluDense.wi.weight\n",
            "Parameter shape: torch.Size([2048, 512])\n",
            "Is trainable: True\n",
            "\n",
            "Parameter name: decoder.block.0.layer.2.DenseReluDense.wo.weight\n",
            "Parameter shape: torch.Size([512, 2048])\n",
            "Is trainable: True\n",
            "\n",
            "Parameter name: decoder.block.0.layer.2.layer_norm.weight\n",
            "Parameter shape: torch.Size([512])\n",
            "Is trainable: True\n",
            "\n",
            "Parameter name: decoder.block.1.layer.0.SelfAttention.q.weight\n",
            "Parameter shape: torch.Size([512, 512])\n",
            "Is trainable: True\n",
            "\n",
            "Parameter name: decoder.block.1.layer.0.SelfAttention.k.weight\n",
            "Parameter shape: torch.Size([512, 512])\n",
            "Is trainable: True\n",
            "\n",
            "Parameter name: decoder.block.1.layer.0.SelfAttention.v.weight\n",
            "Parameter shape: torch.Size([512, 512])\n",
            "Is trainable: True\n",
            "\n",
            "Parameter name: decoder.block.1.layer.0.SelfAttention.o.weight\n",
            "Parameter shape: torch.Size([512, 512])\n",
            "Is trainable: True\n",
            "\n",
            "Parameter name: decoder.block.1.layer.0.layer_norm.weight\n",
            "Parameter shape: torch.Size([512])\n",
            "Is trainable: True\n",
            "\n",
            "Parameter name: decoder.block.1.layer.1.EncDecAttention.q.weight\n",
            "Parameter shape: torch.Size([512, 512])\n",
            "Is trainable: True\n",
            "\n",
            "Parameter name: decoder.block.1.layer.1.EncDecAttention.k.weight\n",
            "Parameter shape: torch.Size([512, 512])\n",
            "Is trainable: True\n",
            "\n",
            "Parameter name: decoder.block.1.layer.1.EncDecAttention.v.weight\n",
            "Parameter shape: torch.Size([512, 512])\n",
            "Is trainable: True\n",
            "\n",
            "Parameter name: decoder.block.1.layer.1.EncDecAttention.o.weight\n",
            "Parameter shape: torch.Size([512, 512])\n",
            "Is trainable: True\n",
            "\n",
            "Parameter name: decoder.block.1.layer.1.layer_norm.weight\n",
            "Parameter shape: torch.Size([512])\n",
            "Is trainable: True\n",
            "\n",
            "Parameter name: decoder.block.1.layer.2.DenseReluDense.wi.weight\n",
            "Parameter shape: torch.Size([2048, 512])\n",
            "Is trainable: True\n",
            "\n",
            "Parameter name: decoder.block.1.layer.2.DenseReluDense.wo.weight\n",
            "Parameter shape: torch.Size([512, 2048])\n",
            "Is trainable: True\n",
            "\n",
            "Parameter name: decoder.block.1.layer.2.layer_norm.weight\n",
            "Parameter shape: torch.Size([512])\n",
            "Is trainable: True\n",
            "\n",
            "Parameter name: decoder.block.2.layer.0.SelfAttention.q.weight\n",
            "Parameter shape: torch.Size([512, 512])\n",
            "Is trainable: True\n",
            "\n",
            "Parameter name: decoder.block.2.layer.0.SelfAttention.k.weight\n",
            "Parameter shape: torch.Size([512, 512])\n",
            "Is trainable: True\n",
            "\n",
            "Parameter name: decoder.block.2.layer.0.SelfAttention.v.weight\n",
            "Parameter shape: torch.Size([512, 512])\n",
            "Is trainable: True\n",
            "\n",
            "Parameter name: decoder.block.2.layer.0.SelfAttention.o.weight\n",
            "Parameter shape: torch.Size([512, 512])\n",
            "Is trainable: True\n",
            "\n",
            "Parameter name: decoder.block.2.layer.0.layer_norm.weight\n",
            "Parameter shape: torch.Size([512])\n",
            "Is trainable: True\n",
            "\n",
            "Parameter name: decoder.block.2.layer.1.EncDecAttention.q.weight\n",
            "Parameter shape: torch.Size([512, 512])\n",
            "Is trainable: True\n",
            "\n",
            "Parameter name: decoder.block.2.layer.1.EncDecAttention.k.weight\n",
            "Parameter shape: torch.Size([512, 512])\n",
            "Is trainable: True\n",
            "\n",
            "Parameter name: decoder.block.2.layer.1.EncDecAttention.v.weight\n",
            "Parameter shape: torch.Size([512, 512])\n",
            "Is trainable: True\n",
            "\n",
            "Parameter name: decoder.block.2.layer.1.EncDecAttention.o.weight\n",
            "Parameter shape: torch.Size([512, 512])\n",
            "Is trainable: True\n",
            "\n",
            "Parameter name: decoder.block.2.layer.1.layer_norm.weight\n",
            "Parameter shape: torch.Size([512])\n",
            "Is trainable: True\n",
            "\n",
            "Parameter name: decoder.block.2.layer.2.DenseReluDense.wi.weight\n",
            "Parameter shape: torch.Size([2048, 512])\n",
            "Is trainable: True\n",
            "\n",
            "Parameter name: decoder.block.2.layer.2.DenseReluDense.wo.weight\n",
            "Parameter shape: torch.Size([512, 2048])\n",
            "Is trainable: True\n",
            "\n",
            "Parameter name: decoder.block.2.layer.2.layer_norm.weight\n",
            "Parameter shape: torch.Size([512])\n",
            "Is trainable: True\n",
            "\n",
            "Parameter name: decoder.block.3.layer.0.SelfAttention.q.weight\n",
            "Parameter shape: torch.Size([512, 512])\n",
            "Is trainable: True\n",
            "\n",
            "Parameter name: decoder.block.3.layer.0.SelfAttention.k.weight\n",
            "Parameter shape: torch.Size([512, 512])\n",
            "Is trainable: True\n",
            "\n",
            "Parameter name: decoder.block.3.layer.0.SelfAttention.v.weight\n",
            "Parameter shape: torch.Size([512, 512])\n",
            "Is trainable: True\n",
            "\n",
            "Parameter name: decoder.block.3.layer.0.SelfAttention.o.weight\n",
            "Parameter shape: torch.Size([512, 512])\n",
            "Is trainable: True\n",
            "\n",
            "Parameter name: decoder.block.3.layer.0.layer_norm.weight\n",
            "Parameter shape: torch.Size([512])\n",
            "Is trainable: True\n",
            "\n",
            "Parameter name: decoder.block.3.layer.1.EncDecAttention.q.weight\n",
            "Parameter shape: torch.Size([512, 512])\n",
            "Is trainable: True\n",
            "\n",
            "Parameter name: decoder.block.3.layer.1.EncDecAttention.k.weight\n",
            "Parameter shape: torch.Size([512, 512])\n",
            "Is trainable: True\n",
            "\n",
            "Parameter name: decoder.block.3.layer.1.EncDecAttention.v.weight\n",
            "Parameter shape: torch.Size([512, 512])\n",
            "Is trainable: True\n",
            "\n",
            "Parameter name: decoder.block.3.layer.1.EncDecAttention.o.weight\n",
            "Parameter shape: torch.Size([512, 512])\n",
            "Is trainable: True\n",
            "\n",
            "Parameter name: decoder.block.3.layer.1.layer_norm.weight\n",
            "Parameter shape: torch.Size([512])\n",
            "Is trainable: True\n",
            "\n",
            "Parameter name: decoder.block.3.layer.2.DenseReluDense.wi.weight\n",
            "Parameter shape: torch.Size([2048, 512])\n",
            "Is trainable: True\n",
            "\n",
            "Parameter name: decoder.block.3.layer.2.DenseReluDense.wo.weight\n",
            "Parameter shape: torch.Size([512, 2048])\n",
            "Is trainable: True\n",
            "\n",
            "Parameter name: decoder.block.3.layer.2.layer_norm.weight\n",
            "Parameter shape: torch.Size([512])\n",
            "Is trainable: True\n",
            "\n",
            "Parameter name: decoder.block.4.layer.0.SelfAttention.q.weight\n",
            "Parameter shape: torch.Size([512, 512])\n",
            "Is trainable: True\n",
            "\n",
            "Parameter name: decoder.block.4.layer.0.SelfAttention.k.weight\n",
            "Parameter shape: torch.Size([512, 512])\n",
            "Is trainable: True\n",
            "\n",
            "Parameter name: decoder.block.4.layer.0.SelfAttention.v.weight\n",
            "Parameter shape: torch.Size([512, 512])\n",
            "Is trainable: True\n",
            "\n",
            "Parameter name: decoder.block.4.layer.0.SelfAttention.o.weight\n",
            "Parameter shape: torch.Size([512, 512])\n",
            "Is trainable: True\n",
            "\n",
            "Parameter name: decoder.block.4.layer.0.layer_norm.weight\n",
            "Parameter shape: torch.Size([512])\n",
            "Is trainable: True\n",
            "\n",
            "Parameter name: decoder.block.4.layer.1.EncDecAttention.q.weight\n",
            "Parameter shape: torch.Size([512, 512])\n",
            "Is trainable: True\n",
            "\n",
            "Parameter name: decoder.block.4.layer.1.EncDecAttention.k.weight\n",
            "Parameter shape: torch.Size([512, 512])\n",
            "Is trainable: True\n",
            "\n",
            "Parameter name: decoder.block.4.layer.1.EncDecAttention.v.weight\n",
            "Parameter shape: torch.Size([512, 512])\n",
            "Is trainable: True\n",
            "\n",
            "Parameter name: decoder.block.4.layer.1.EncDecAttention.o.weight\n",
            "Parameter shape: torch.Size([512, 512])\n",
            "Is trainable: True\n",
            "\n",
            "Parameter name: decoder.block.4.layer.1.layer_norm.weight\n",
            "Parameter shape: torch.Size([512])\n",
            "Is trainable: True\n",
            "\n",
            "Parameter name: decoder.block.4.layer.2.DenseReluDense.wi.weight\n",
            "Parameter shape: torch.Size([2048, 512])\n",
            "Is trainable: True\n",
            "\n",
            "Parameter name: decoder.block.4.layer.2.DenseReluDense.wo.weight\n",
            "Parameter shape: torch.Size([512, 2048])\n",
            "Is trainable: True\n",
            "\n",
            "Parameter name: decoder.block.4.layer.2.layer_norm.weight\n",
            "Parameter shape: torch.Size([512])\n",
            "Is trainable: True\n",
            "\n",
            "Parameter name: decoder.block.5.layer.0.SelfAttention.q.weight\n",
            "Parameter shape: torch.Size([512, 512])\n",
            "Is trainable: True\n",
            "\n",
            "Parameter name: decoder.block.5.layer.0.SelfAttention.k.weight\n",
            "Parameter shape: torch.Size([512, 512])\n",
            "Is trainable: True\n",
            "\n",
            "Parameter name: decoder.block.5.layer.0.SelfAttention.v.weight\n",
            "Parameter shape: torch.Size([512, 512])\n",
            "Is trainable: True\n",
            "\n",
            "Parameter name: decoder.block.5.layer.0.SelfAttention.o.weight\n",
            "Parameter shape: torch.Size([512, 512])\n",
            "Is trainable: True\n",
            "\n",
            "Parameter name: decoder.block.5.layer.0.layer_norm.weight\n",
            "Parameter shape: torch.Size([512])\n",
            "Is trainable: True\n",
            "\n",
            "Parameter name: decoder.block.5.layer.1.EncDecAttention.q.weight\n",
            "Parameter shape: torch.Size([512, 512])\n",
            "Is trainable: True\n",
            "\n",
            "Parameter name: decoder.block.5.layer.1.EncDecAttention.k.weight\n",
            "Parameter shape: torch.Size([512, 512])\n",
            "Is trainable: True\n",
            "\n",
            "Parameter name: decoder.block.5.layer.1.EncDecAttention.v.weight\n",
            "Parameter shape: torch.Size([512, 512])\n",
            "Is trainable: True\n",
            "\n",
            "Parameter name: decoder.block.5.layer.1.EncDecAttention.o.weight\n",
            "Parameter shape: torch.Size([512, 512])\n",
            "Is trainable: True\n",
            "\n",
            "Parameter name: decoder.block.5.layer.1.layer_norm.weight\n",
            "Parameter shape: torch.Size([512])\n",
            "Is trainable: True\n",
            "\n",
            "Parameter name: decoder.block.5.layer.2.DenseReluDense.wi.weight\n",
            "Parameter shape: torch.Size([2048, 512])\n",
            "Is trainable: True\n",
            "\n",
            "Parameter name: decoder.block.5.layer.2.DenseReluDense.wo.weight\n",
            "Parameter shape: torch.Size([512, 2048])\n",
            "Is trainable: True\n",
            "\n",
            "Parameter name: decoder.block.5.layer.2.layer_norm.weight\n",
            "Parameter shape: torch.Size([512])\n",
            "Is trainable: True\n",
            "\n",
            "Parameter name: decoder.final_layer_norm.weight\n",
            "Parameter shape: torch.Size([512])\n",
            "Is trainable: True\n",
            "\n"
          ]
        }
      ],
      "source": [
        "for name, param in t5.named_parameters():\n",
        "    print(f\"Parameter name: {name}\")\n",
        "    print(f\"Parameter shape: {param.size()}\")\n",
        "    print(f\"Is trainable: {param.requires_grad}\")\n",
        "    print()"
      ]
    },
    {
      "cell_type": "markdown",
      "metadata": {
        "id": "TJfqs9Go-11F"
      },
      "source": [
        "#### Training\n"
      ]
    },
    {
      "cell_type": "markdown",
      "metadata": {
        "id": "IFw3g5tOnNs7"
      },
      "source": [
        "Now that we have both Tokenizer and Model we can tokenize the dataset and train the model"
      ]
    },
    {
      "cell_type": "code",
      "execution_count": 27,
      "metadata": {
        "collapsed": true,
        "id": "p4WS-6pk0Tft"
      },
      "outputs": [],
      "source": [
        "def apply_eos_token(idx, df, eos_token):\n",
        "    # build the user input including the problem description, the time complexity and the space complexity\n",
        "    chat_string = 'User:' + df.loc[idx, 'problem_description'] + ' Time complexity: ' + df.loc[idx, 'time_complexity_inferred'] + '; Space complexity: ' + df.loc[idx, 'space_complexity_inferred']\n",
        "    # now add the eos token and the response from the assistant, the code solution for the problem\n",
        "    chat_string = chat_string + eos_token + 'Assistant: ' + df.loc[idx, 'solution_code'] + eos_token\n",
        "    return chat_string"
      ]
    },
    {
      "cell_type": "code",
      "execution_count": 28,
      "metadata": {
        "id": "hPnI_9XJ4N_B"
      },
      "outputs": [],
      "source": [
        "train_str = [apply_eos_token(idx, train, tokenizer.eos_token) for idx in train.index]\n",
        "test_str = [apply_eos_token(idx, test, tokenizer.eos_token) for idx in test.index]\n",
        "val_str = [apply_eos_token(idx, val, tokenizer.eos_token) for idx in val.index]"
      ]
    },
    {
      "cell_type": "code",
      "execution_count": 29,
      "metadata": {
        "colab": {
          "base_uri": "https://localhost:8080/",
          "height": 122
        },
        "id": "7Yqz6kyt4o_I",
        "outputId": "b99cdcca-6fe2-4239-a62d-778e3a7724d8"
      },
      "outputs": [
        {
          "data": {
            "application/vnd.google.colaboratory.intrinsic+json": {
              "type": "string"
            },
            "text/plain": [
              "'User:You are given a sequence a_1, a_2, ..., a_n consisting of n integers.\\n\\nYou can choose any non-negative integer D (i.e. D ≥ 0), and for each a_i you can:\\n\\n  * add D (only once), i. e. perform a_i := a_i + D, or \\n  * subtract D (only once), i. e. perform a_i := a_i - D, or \\n  * leave the value of a_i unchanged. \\n\\n\\n\\nIt is possible that after an operation the value a_i becomes negative.\\n\\nYour goal is to choose such minimum non-negative integer D and perform changes in such a way, that all a_i are equal (i.e. a_1=a_2=...=a_n).\\n\\nPrint the required D or, if it is impossible to choose such value D, print -1.\\n\\nFor example, for array [2, 8] the value D=3 is minimum possible because you can obtain the array [5, 5] if you will add D to 2 and subtract D from 8. And for array [1, 4, 7, 7] the value D=3 is also minimum possible. You can add it to 1 and subtract it from 7 and obtain the array [4, 4, 4, 4].\\n\\nInput\\n\\nThe first line of the input contains one integer n (1 ≤ n ≤ 100) — the number of elements in a.\\n\\nThe second line of the input contains n integers a_1, a_2, ..., a_n (1 ≤ a_i ≤ 100) — the sequence a.\\n\\nOutput\\n\\nPrint one integer — the minimum non-negative integer value D such that if you add this value to some a_i, subtract this value from some a_i and leave some a_i without changes, all obtained values become equal.\\n\\nIf it is impossible to choose such value D, print -1.\\n\\nExamples\\n\\nInput\\n\\n\\n6\\n1 4 4 7 4 1\\n\\n\\nOutput\\n\\n\\n3\\n\\n\\nInput\\n\\n\\n5\\n2 2 5 2 5\\n\\n\\nOutput\\n\\n\\n3\\n\\n\\nInput\\n\\n\\n4\\n1 3 3 7\\n\\n\\nOutput\\n\\n\\n-1\\n\\n\\nInput\\n\\n\\n2\\n2 8\\n\\n\\nOutput\\n\\n\\n3 Time complexity: O(n); Space complexity: O(n)</s>Assistant: n = int(input())\\n\\na = map(int, input().split())\\n\\ns = set(a)\\n\\nif len(s) > 3:\\n    print(-1)\\nelif len(s) == 3:\\n\\n    if abs(min(s) - max(s)) % 2 == 0 and abs(min(s) - max(s)) // 2 + min(s) in s:\\n        print(abs(min(s) - max(s)) // 2)\\n    else:\\n        print(-1)\\n\\nelif len(s) == 2:\\n    r = [abs(min(s) - max(s))]\\n    if abs(min(s) - max(s)) % 2 == 0:\\n        r.append(abs(min(s) - max(s)) // 2)\\n    t = filter(lambda x: x>0, r)\\n    print(min(t))\\nelif len(s) == 1:\\n    print(0)</s>'"
            ]
          },
          "execution_count": 29,
          "metadata": {},
          "output_type": "execute_result"
        }
      ],
      "source": [
        "train_str[0]"
      ]
    },
    {
      "cell_type": "markdown",
      "metadata": {
        "id": "dXitUUyxzwIK"
      },
      "source": [
        "The strings where the eos token was applied, are now put in a dictionary structure"
      ]
    },
    {
      "cell_type": "code",
      "execution_count": 30,
      "metadata": {
        "id": "W_HqGM3q_BhJ"
      },
      "outputs": [],
      "source": [
        "train_data = Dataset.from_dict({'chat': train_str})\n",
        "test_data = Dataset.from_dict({'chat': test_str})\n",
        "val_data = Dataset.from_dict({'chat': val_str})"
      ]
    },
    {
      "cell_type": "code",
      "execution_count": 31,
      "metadata": {
        "id": "fM_JmGVp_fYe"
      },
      "outputs": [],
      "source": [
        "data = DatasetDict()\n",
        "data['train'] = train_data\n",
        "data['val'] = val_data\n",
        "data['test'] = test_data"
      ]
    },
    {
      "cell_type": "markdown",
      "metadata": {
        "id": "8Ea6Leje_xgE"
      },
      "source": [
        "Tokenize the data"
      ]
    },
    {
      "cell_type": "code",
      "execution_count": 32,
      "metadata": {
        "colab": {
          "base_uri": "https://localhost:8080/",
          "height": 168,
          "referenced_widgets": [
            "ed3234eeffeb4babb8c51b9f13b572db",
            "a4819109569842b89d85655601b774da",
            "17eed62e0f9941fba0c6790ed4deed31",
            "0c747e152ae5450dbd0c8e5b7eee3be8",
            "e4ed71454ef9407b85c2988190695ce6",
            "64560f1ad55d4d53a8b9f49afe140203",
            "599b1c697e8645e3832bb50c7fd4146a",
            "52d4611f2a404e3682556d37c63f898f",
            "7784f83384a847848b34a9f765bddd8f",
            "a2540f6eea184b72aa1fcf5687808582",
            "4fc6306b72e34a70a51ac617da659f27",
            "e3f9b722eb51401184be3ff560fc59cc",
            "5fa1b9b0ba794dadaa8d19caa4e2fc37",
            "f1435461a0d2443490944c071f5286a7",
            "eade005381c0480998eba843bb9ab9ed",
            "c3b60433f9614c3894ce452bf6ee10c9",
            "1be6860d88b4482e86486ab48cd527ec",
            "3c784008b1674354a27d7ef3127a8e01",
            "67ddece93d2f40a7a1a1bf558faed2ac",
            "6b5be2a3a52844fabc3b5b558eb76cd1",
            "99d7edfb3ab145d48c6241f4354e0e3f",
            "db9fc6583ea547ef91696c0404aa7e6b",
            "3a35cbd508374f2f830a9b0be4448fd7",
            "b2e990c67e924a64adf626e609d9d19b",
            "cab2e9cd81a245559b912b59ec44a70c",
            "73f7654d698a4daeafd064894d89dce4",
            "c25394b284394cda8b17bbe2ef476e74",
            "b509543cc9f94c2c95a0a4f5106d594d",
            "f20ca68e8a95427f9e15972e5977476a",
            "4b21a58ef5504baf96a84031ad1fa2b9",
            "6bb4d42d72de4914b963626b4b27c655",
            "bbe1591d44504229aca723bea86c18c3",
            "4275330bdf7b4889adaa1f513b6a72e3"
          ]
        },
        "id": "jdmti2i3PNhp",
        "outputId": "261cf6e0-d921-4c97-bbe2-501ca112d19b"
      },
      "outputs": [
        {
          "data": {
            "application/vnd.jupyter.widget-view+json": {
              "model_id": "ed3234eeffeb4babb8c51b9f13b572db",
              "version_major": 2,
              "version_minor": 0
            },
            "text/plain": [
              "Map:   0%|          | 0/3600 [00:00<?, ? examples/s]"
            ]
          },
          "metadata": {},
          "output_type": "display_data"
        },
        {
          "name": "stderr",
          "output_type": "stream",
          "text": [
            "/usr/local/lib/python3.11/dist-packages/transformers/models/t5/tokenization_t5.py:289: UserWarning: This sequence already has </s>. In future versions this behavior may lead to duplicated eos tokens being added.\n",
            "  warnings.warn(\n"
          ]
        },
        {
          "data": {
            "application/vnd.jupyter.widget-view+json": {
              "model_id": "e3f9b722eb51401184be3ff560fc59cc",
              "version_major": 2,
              "version_minor": 0
            },
            "text/plain": [
              "Map:   0%|          | 0/900 [00:00<?, ? examples/s]"
            ]
          },
          "metadata": {},
          "output_type": "display_data"
        },
        {
          "data": {
            "application/vnd.jupyter.widget-view+json": {
              "model_id": "3a35cbd508374f2f830a9b0be4448fd7",
              "version_major": 2,
              "version_minor": 0
            },
            "text/plain": [
              "Map:   0%|          | 0/500 [00:00<?, ? examples/s]"
            ]
          },
          "metadata": {},
          "output_type": "display_data"
        }
      ],
      "source": [
        "def tokenize_function(examples):\n",
        "    input_encodings = tokenizer(examples[\"chat\"],\n",
        "        truncation=True,\n",
        "        padding=\"max_length\",\n",
        "        max_length=512)\n",
        "    sample = {\n",
        "        'input_ids': input_encodings.input_ids,\n",
        "        'attention_mask': input_encodings.attention_mask,\n",
        "        #'labels': input_encodings.input_ids.copy()\n",
        "    }\n",
        "    return sample\n",
        "\n",
        "tokenized_data = data.map(tokenize_function, batched=True)"
      ]
    },
    {
      "cell_type": "code",
      "execution_count": 33,
      "metadata": {
        "id": "rWBZu3FUB4Qp"
      },
      "outputs": [],
      "source": [
        "# get all sequences in same batch\n",
        "from transformers import DataCollatorForLanguageModeling\n",
        "data_collator = DataCollatorForLanguageModeling(tokenizer, mlm=False)"
      ]
    },
    {
      "cell_type": "markdown",
      "metadata": {
        "id": "ZGqEoTuzCEE2"
      },
      "source": [
        "Now the training starts"
      ]
    },
    {
      "cell_type": "markdown",
      "metadata": {
        "id": "LMf--zLJ9Fgh"
      },
      "source": [
        "##### Calculate Perplexity before Fine-tuning"
      ]
    },
    {
      "cell_type": "markdown",
      "metadata": {
        "id": "t94nMPIX0osR"
      },
      "source": [
        "We decided to calculate the perplexity before the fine-tuning to observe if the fine-tuning process improves the performance of the model"
      ]
    },
    {
      "cell_type": "code",
      "execution_count": 34,
      "metadata": {
        "id": "O2ETkxm29JQQ"
      },
      "outputs": [],
      "source": [
        "# get inputs from test_data\n",
        "test_input = [dialogue.split('</s>')[0] + tokenizer.eos_token + 'Assistant: ' for dialogue in test_data['chat'][:3]]\n",
        "\n",
        "# get outputs from test data\n",
        "test_output = [dialogue.split('</s>')[1] + tokenizer.eos_token for dialogue in test_data['chat'][:3]]"
      ]
    },
    {
      "cell_type": "code",
      "execution_count": null,
      "metadata": {
        "colab": {
          "base_uri": "https://localhost:8080/",
          "height": 1000
        },
        "collapsed": true,
        "id": "nkLjryhY9JQR",
        "outputId": "24871f6f-2938-4e52-e9cc-9a4473c0379d"
      },
      "outputs": [],
      "source": [
        "!pip install lmppl"
      ]
    },
    {
      "cell_type": "code",
      "execution_count": 36,
      "metadata": {
        "colab": {
          "base_uri": "https://localhost:8080/"
        },
        "id": "F9-uDZpb9JQS",
        "outputId": "cf7440ed-00da-4ad4-eede-0757f7d386f0"
      },
      "outputs": [
        {
          "name": "stderr",
          "output_type": "stream",
          "text": [
            "/usr/local/lib/python3.11/dist-packages/transformers/models/auto/tokenization_auto.py:898: FutureWarning: The `use_auth_token` argument is deprecated and will be removed in v5 of Transformers. Please use `token` instead.\n",
            "  warnings.warn(\n",
            "/usr/local/lib/python3.11/dist-packages/transformers/models/auto/configuration_auto.py:1099: FutureWarning: The `use_auth_token` argument is deprecated and will be removed in v5 of Transformers. Please use `token` instead.\n",
            "  warnings.warn(\n",
            "/usr/local/lib/python3.11/dist-packages/transformers/modeling_utils.py:4056: FutureWarning: The `use_auth_token` argument is deprecated and will be removed in v5 of Transformers. Please use `token` instead.\n",
            "  warnings.warn(\n",
            "  0%|          | 0/1 [00:00<?, ?it/s]Passing a tuple of `past_key_values` is deprecated and will be removed in Transformers v4.48.0. You should pass an instance of `EncoderDecoderCache` instead, e.g. `past_key_values=EncoderDecoderCache.from_legacy_cache(past_key_values)`.\n",
            "100%|██████████| 1/1 [00:01<00:00,  1.32s/it]"
          ]
        },
        {
          "name": "stdout",
          "output_type": "stream",
          "text": [
            "[66.54613901709006, 105.79112153990572, 35432.329456935135]\n",
            "average perplexity: 11868.222239164044\n"
          ]
        },
        {
          "name": "stderr",
          "output_type": "stream",
          "text": [
            "\n"
          ]
        }
      ],
      "source": [
        "import lmppl\n",
        "\n",
        "scorer = lmppl.EncoderDecoderLM(model_name)\n",
        "\n",
        "ppl = scorer.get_perplexity(input_texts= test_input, output_texts=test_output)\n",
        "print(list( ppl))\n",
        "print(f\"average perplexity: {sum(ppl)/len(ppl)}\")"
      ]
    },
    {
      "cell_type": "code",
      "execution_count": 37,
      "metadata": {
        "colab": {
          "base_uri": "https://localhost:8080/"
        },
        "id": "BxgxSGeD9JQS",
        "outputId": "eafc7ea7-b2c4-424b-f6dc-3d6d97d490ff"
      },
      "outputs": [
        {
          "name": "stdout",
          "output_type": "stream",
          "text": [
            "user input: \n",
            "User:Write a program which prints $n$-th fibonacci number for a given integer $n$. The $n$-th fibonacci number is defined by the following recursive formula:\n",
            "\n",
            "\\begin{equation*} fib(n)= \\left \\\\{ \\begin{array}{ll} 1 & (n = 0) \\\\\\ 1 & (n = 1) \\\\\\ fib(n - 1) + fib(n - 2) & \\\\\\ \\end{array} \\right. \\end{equation*}\n",
            "\n",
            "Constraints\n",
            "\n",
            "* $0 \\leq n \\leq 44$\n",
            "\n",
            "Input\n",
            "\n",
            "An integer $n$ is given.\n",
            "\n",
            "Example\n",
            "\n",
            "Input\n",
            "\n",
            "3\n",
            "\n",
            "\n",
            "Output\n",
            "\n",
            "3 Time complexity: O(nlogn); Space complexity: O(n**2)</s>Assistant: \n",
            "#################\n",
            "prediction: \n",
            "Assistant: N = int(input())\n",
            "\n",
            "dp = [1] * (N + 1)\n",
            "\n",
            "for n in range(2, N + 1):\n",
            "    dp[n] = dp[n - 1] + dp[n - 2]\n",
            "\n",
            "print(dp[N])</s>\n"
          ]
        }
      ],
      "source": [
        "print(f\"user input: \\n{test_input[ppl.index(min(ppl))]}\")\n",
        "print('#################')\n",
        "print(f\"prediction: \\n{test_output[ppl.index(min(ppl))]}\")"
      ]
    },
    {
      "cell_type": "markdown",
      "metadata": {
        "id": "KBuP5hggzUjI"
      },
      "source": [
        "#### Fine-Tuning\n",
        "Now we can start the training"
      ]
    },
    {
      "cell_type": "code",
      "execution_count": 38,
      "metadata": {
        "id": "rv9z3afSEqA7"
      },
      "outputs": [],
      "source": [
        "from transformers import TrainingArguments, Trainer\n",
        "import os"
      ]
    },
    {
      "cell_type": "code",
      "execution_count": 39,
      "metadata": {
        "id": "HjjWMJHKCHQs"
      },
      "outputs": [],
      "source": [
        "os.environ[\"WANDB_DISABLED\"] = \"true\""
      ]
    },
    {
      "cell_type": "code",
      "execution_count": 40,
      "metadata": {
        "colab": {
          "base_uri": "https://localhost:8080/"
        },
        "id": "-t6ngMTDCRtV",
        "outputId": "41ef2fe3-57b4-4301-8a74-7ce63db82a1e"
      },
      "outputs": [
        {
          "name": "stderr",
          "output_type": "stream",
          "text": [
            "Using the `WANDB_DISABLED` environment variable is deprecated and will be removed in v5. Use the --report_to flag to control the integrations used for logging result (for instance --report_to none).\n"
          ]
        }
      ],
      "source": [
        "training_args = TrainingArguments(\n",
        "    \"t5_fine-tune\",\n",
        "    per_device_train_batch_size=2,\n",
        "    per_device_eval_batch_size=2,\n",
        "    gradient_accumulation_steps=8,\n",
        "    num_train_epochs=3,\n",
        "    save_steps=500,\n",
        "    eval_steps=500,\n",
        "    learning_rate=1e-4,\n",
        "    lr_scheduler_type=\"linear\",\n",
        "    bf16=True,\n",
        "    report_to=None,\n",
        ")"
      ]
    },
    {
      "cell_type": "code",
      "execution_count": 41,
      "metadata": {
        "id": "qBJv3CDXEkmc"
      },
      "outputs": [],
      "source": [
        "trainer = Trainer(\n",
        "    model= t5,\n",
        "    args= training_args,\n",
        "    train_dataset= tokenized_data['train'],\n",
        "    eval_dataset= tokenized_data['val'],\n",
        "    data_collator= data_collator\n",
        ")"
      ]
    },
    {
      "cell_type": "markdown",
      "metadata": {
        "id": "zl4jh3CC0WFr"
      },
      "source": [
        "Measure the time taken by the model to finish training"
      ]
    },
    {
      "cell_type": "code",
      "execution_count": 42,
      "metadata": {
        "id": "AnIrJn9imtfj"
      },
      "outputs": [],
      "source": [
        "import time\n",
        "begin = time.time()"
      ]
    },
    {
      "cell_type": "code",
      "execution_count": 43,
      "metadata": {
        "colab": {
          "base_uri": "https://localhost:8080/",
          "height": 143
        },
        "id": "otT3i7SOE9tN",
        "outputId": "1c12d33e-4f4f-4a5e-9768-b7b2d08e4e97"
      },
      "outputs": [
        {
          "data": {
            "text/html": [
              "\n",
              "    <div>\n",
              "      \n",
              "      <progress value='675' max='675' style='width:300px; height:20px; vertical-align: middle;'></progress>\n",
              "      [675/675 21:50, Epoch 3/3]\n",
              "    </div>\n",
              "    <table border=\"1\" class=\"dataframe\">\n",
              "  <thead>\n",
              " <tr style=\"text-align: left;\">\n",
              "      <th>Step</th>\n",
              "      <th>Training Loss</th>\n",
              "    </tr>\n",
              "  </thead>\n",
              "  <tbody>\n",
              "    <tr>\n",
              "      <td>500</td>\n",
              "      <td>0.262400</td>\n",
              "    </tr>\n",
              "  </tbody>\n",
              "</table><p>"
            ],
            "text/plain": [
              "<IPython.core.display.HTML object>"
            ]
          },
          "metadata": {},
          "output_type": "display_data"
        },
        {
          "data": {
            "text/plain": [
              "TrainOutput(global_step=675, training_loss=0.20890251300953053, metrics={'train_runtime': 1313.4505, 'train_samples_per_second': 8.223, 'train_steps_per_second': 0.514, 'total_flos': 1461691455897600.0, 'train_loss': 0.20890251300953053, 'epoch': 3.0})"
            ]
          },
          "execution_count": 43,
          "metadata": {},
          "output_type": "execute_result"
        }
      ],
      "source": [
        "trainer.train()"
      ]
    },
    {
      "cell_type": "code",
      "execution_count": 44,
      "metadata": {
        "colab": {
          "base_uri": "https://localhost:8080/"
        },
        "id": "5X69-4uMmyfF",
        "outputId": "53380891-9c5a-45ae-e8ba-a9c837e61078"
      },
      "outputs": [
        {
          "name": "stdout",
          "output_type": "stream",
          "text": [
            "Training time:  1314.5914108753204\n"
          ]
        }
      ],
      "source": [
        "end = time.time()\n",
        "print(\"Training time: \", end - begin)"
      ]
    },
    {
      "cell_type": "code",
      "execution_count": 45,
      "metadata": {
        "colab": {
          "base_uri": "https://localhost:8080/"
        },
        "id": "M7KnxX-Wkvsa",
        "outputId": "8e92b855-e4ad-49e0-e717-87c2689c9405"
      },
      "outputs": [
        {
          "name": "stdout",
          "output_type": "stream",
          "text": [
            "The T5 model has 131 different named parameters.\n",
            "\n",
            "==== Embedding Layer ====\n",
            "\n",
            "shared.weight                                           (32100, 512)\n",
            "encoder.block.0.layer.0.SelfAttention.q.weight            (512, 512)\n",
            "\n",
            "==== First Transformer ====\n",
            "\n",
            "encoder.block.0.layer.0.SelfAttention.k.weight            (512, 512)\n",
            "encoder.block.0.layer.0.SelfAttention.v.weight            (512, 512)\n",
            "encoder.block.0.layer.0.SelfAttention.o.weight            (512, 512)\n",
            "encoder.block.0.layer.0.SelfAttention.relative_attention_bias.weight      (32, 8)\n",
            "encoder.block.0.layer.0.layer_norm.weight                     (512,)\n",
            "encoder.block.0.layer.1.DenseReluDense.wi.weight         (2048, 512)\n",
            "encoder.block.0.layer.1.DenseReluDense.wo.weight         (512, 2048)\n",
            "encoder.block.0.layer.1.layer_norm.weight                     (512,)\n",
            "encoder.block.1.layer.0.SelfAttention.q.weight            (512, 512)\n",
            "encoder.block.1.layer.0.SelfAttention.k.weight            (512, 512)\n",
            "encoder.block.1.layer.0.SelfAttention.v.weight            (512, 512)\n",
            "encoder.block.1.layer.0.SelfAttention.o.weight            (512, 512)\n",
            "\n",
            "==== Output Layer ====\n",
            "\n",
            "decoder.block.5.layer.2.layer_norm.weight                     (512,)\n",
            "decoder.final_layer_norm.weight                               (512,)\n"
          ]
        }
      ],
      "source": [
        "# Get all of the model's parameters as a list of tuples.\n",
        "params = list(t5.named_parameters())\n",
        "\n",
        "print('The T5 model has {:} different named parameters.\\n'.format(len(params)))\n",
        "\n",
        "print('==== Embedding Layer ====\\n')\n",
        "\n",
        "for p in params[0:2]:\n",
        "    print(\"{:<55} {:>12}\".format(p[0], str(tuple(p[1].size()))))\n",
        "\n",
        "print('\\n==== First Transformer ====\\n')\n",
        "\n",
        "for p in params[2:14]:\n",
        "    print(\"{:<55} {:>12}\".format(p[0], str(tuple(p[1].size()))))\n",
        "\n",
        "print('\\n==== Output Layer ====\\n')\n",
        "\n",
        "for p in params[-2:]:\n",
        "    print(\"{:<55} {:>12}\".format(p[0], str(tuple(p[1].size()))))"
      ]
    },
    {
      "cell_type": "code",
      "execution_count": 46,
      "metadata": {
        "colab": {
          "base_uri": "https://localhost:8080/"
        },
        "id": "UpjCxoWiB-h-",
        "outputId": "1cd6b7cb-1b54-4a41-feac-46c3d22b02e4"
      },
      "outputs": [
        {
          "data": {
            "text/plain": [
              "T5ForConditionalGeneration(\n",
              "  (shared): Embedding(32100, 512)\n",
              "  (encoder): T5Stack(\n",
              "    (embed_tokens): Embedding(32100, 512)\n",
              "    (block): ModuleList(\n",
              "      (0): T5Block(\n",
              "        (layer): ModuleList(\n",
              "          (0): T5LayerSelfAttention(\n",
              "            (SelfAttention): T5Attention(\n",
              "              (q): Linear(in_features=512, out_features=512, bias=False)\n",
              "              (k): Linear(in_features=512, out_features=512, bias=False)\n",
              "              (v): Linear(in_features=512, out_features=512, bias=False)\n",
              "              (o): Linear(in_features=512, out_features=512, bias=False)\n",
              "              (relative_attention_bias): Embedding(32, 8)\n",
              "            )\n",
              "            (layer_norm): T5LayerNorm()\n",
              "            (dropout): Dropout(p=0.1, inplace=False)\n",
              "          )\n",
              "          (1): T5LayerFF(\n",
              "            (DenseReluDense): T5DenseActDense(\n",
              "              (wi): Linear(in_features=512, out_features=2048, bias=False)\n",
              "              (wo): Linear(in_features=2048, out_features=512, bias=False)\n",
              "              (dropout): Dropout(p=0.1, inplace=False)\n",
              "              (act): ReLU()\n",
              "            )\n",
              "            (layer_norm): T5LayerNorm()\n",
              "            (dropout): Dropout(p=0.1, inplace=False)\n",
              "          )\n",
              "        )\n",
              "      )\n",
              "      (1-5): 5 x T5Block(\n",
              "        (layer): ModuleList(\n",
              "          (0): T5LayerSelfAttention(\n",
              "            (SelfAttention): T5Attention(\n",
              "              (q): Linear(in_features=512, out_features=512, bias=False)\n",
              "              (k): Linear(in_features=512, out_features=512, bias=False)\n",
              "              (v): Linear(in_features=512, out_features=512, bias=False)\n",
              "              (o): Linear(in_features=512, out_features=512, bias=False)\n",
              "            )\n",
              "            (layer_norm): T5LayerNorm()\n",
              "            (dropout): Dropout(p=0.1, inplace=False)\n",
              "          )\n",
              "          (1): T5LayerFF(\n",
              "            (DenseReluDense): T5DenseActDense(\n",
              "              (wi): Linear(in_features=512, out_features=2048, bias=False)\n",
              "              (wo): Linear(in_features=2048, out_features=512, bias=False)\n",
              "              (dropout): Dropout(p=0.1, inplace=False)\n",
              "              (act): ReLU()\n",
              "            )\n",
              "            (layer_norm): T5LayerNorm()\n",
              "            (dropout): Dropout(p=0.1, inplace=False)\n",
              "          )\n",
              "        )\n",
              "      )\n",
              "    )\n",
              "    (final_layer_norm): T5LayerNorm()\n",
              "    (dropout): Dropout(p=0.1, inplace=False)\n",
              "  )\n",
              "  (decoder): T5Stack(\n",
              "    (embed_tokens): Embedding(32100, 512)\n",
              "    (block): ModuleList(\n",
              "      (0): T5Block(\n",
              "        (layer): ModuleList(\n",
              "          (0): T5LayerSelfAttention(\n",
              "            (SelfAttention): T5Attention(\n",
              "              (q): Linear(in_features=512, out_features=512, bias=False)\n",
              "              (k): Linear(in_features=512, out_features=512, bias=False)\n",
              "              (v): Linear(in_features=512, out_features=512, bias=False)\n",
              "              (o): Linear(in_features=512, out_features=512, bias=False)\n",
              "              (relative_attention_bias): Embedding(32, 8)\n",
              "            )\n",
              "            (layer_norm): T5LayerNorm()\n",
              "            (dropout): Dropout(p=0.1, inplace=False)\n",
              "          )\n",
              "          (1): T5LayerCrossAttention(\n",
              "            (EncDecAttention): T5Attention(\n",
              "              (q): Linear(in_features=512, out_features=512, bias=False)\n",
              "              (k): Linear(in_features=512, out_features=512, bias=False)\n",
              "              (v): Linear(in_features=512, out_features=512, bias=False)\n",
              "              (o): Linear(in_features=512, out_features=512, bias=False)\n",
              "            )\n",
              "            (layer_norm): T5LayerNorm()\n",
              "            (dropout): Dropout(p=0.1, inplace=False)\n",
              "          )\n",
              "          (2): T5LayerFF(\n",
              "            (DenseReluDense): T5DenseActDense(\n",
              "              (wi): Linear(in_features=512, out_features=2048, bias=False)\n",
              "              (wo): Linear(in_features=2048, out_features=512, bias=False)\n",
              "              (dropout): Dropout(p=0.1, inplace=False)\n",
              "              (act): ReLU()\n",
              "            )\n",
              "            (layer_norm): T5LayerNorm()\n",
              "            (dropout): Dropout(p=0.1, inplace=False)\n",
              "          )\n",
              "        )\n",
              "      )\n",
              "      (1-5): 5 x T5Block(\n",
              "        (layer): ModuleList(\n",
              "          (0): T5LayerSelfAttention(\n",
              "            (SelfAttention): T5Attention(\n",
              "              (q): Linear(in_features=512, out_features=512, bias=False)\n",
              "              (k): Linear(in_features=512, out_features=512, bias=False)\n",
              "              (v): Linear(in_features=512, out_features=512, bias=False)\n",
              "              (o): Linear(in_features=512, out_features=512, bias=False)\n",
              "            )\n",
              "            (layer_norm): T5LayerNorm()\n",
              "            (dropout): Dropout(p=0.1, inplace=False)\n",
              "          )\n",
              "          (1): T5LayerCrossAttention(\n",
              "            (EncDecAttention): T5Attention(\n",
              "              (q): Linear(in_features=512, out_features=512, bias=False)\n",
              "              (k): Linear(in_features=512, out_features=512, bias=False)\n",
              "              (v): Linear(in_features=512, out_features=512, bias=False)\n",
              "              (o): Linear(in_features=512, out_features=512, bias=False)\n",
              "            )\n",
              "            (layer_norm): T5LayerNorm()\n",
              "            (dropout): Dropout(p=0.1, inplace=False)\n",
              "          )\n",
              "          (2): T5LayerFF(\n",
              "            (DenseReluDense): T5DenseActDense(\n",
              "              (wi): Linear(in_features=512, out_features=2048, bias=False)\n",
              "              (wo): Linear(in_features=2048, out_features=512, bias=False)\n",
              "              (dropout): Dropout(p=0.1, inplace=False)\n",
              "              (act): ReLU()\n",
              "            )\n",
              "            (layer_norm): T5LayerNorm()\n",
              "            (dropout): Dropout(p=0.1, inplace=False)\n",
              "          )\n",
              "        )\n",
              "      )\n",
              "    )\n",
              "    (final_layer_norm): T5LayerNorm()\n",
              "    (dropout): Dropout(p=0.1, inplace=False)\n",
              "  )\n",
              "  (lm_head): Linear(in_features=512, out_features=32100, bias=False)\n",
              ")"
            ]
          },
          "execution_count": 46,
          "metadata": {},
          "output_type": "execute_result"
        }
      ],
      "source": [
        "t5.eval()"
      ]
    },
    {
      "cell_type": "markdown",
      "metadata": {
        "id": "kX00sLuMo2Vf"
      },
      "source": [
        "Save model's parameters"
      ]
    },
    {
      "cell_type": "code",
      "execution_count": 47,
      "metadata": {
        "colab": {
          "base_uri": "https://localhost:8080/"
        },
        "id": "b2JNhzlDo4T9",
        "outputId": "b6c7301f-1a14-47a0-ecec-3d198c48743e"
      },
      "outputs": [
        {
          "name": "stdout",
          "output_type": "stream",
          "text": [
            "Checkpoint saved at: '/content/drive/MyDrive/NLP_Project/Transformer-trained-models/t5_finetune_2025_05_20_18_19_41'\n"
          ]
        }
      ],
      "source": [
        "from datetime import datetime\n",
        "t5_training_path = path_to_project + '/Transformer-trained-models/' + f\"t5_finetune_{datetime.now().strftime('%Y_%m_%d_%H_%M_%S')}\"\n",
        "tokenizer.save_pretrained(t5_training_path)\n",
        "t5.save_pretrained(t5_training_path)\n",
        "print(f\"Checkpoint saved at: \\'{t5_training_path}\\'\")"
      ]
    },
    {
      "cell_type": "markdown",
      "metadata": {
        "id": "85Zi-Kw8nOv3"
      },
      "source": [
        "#### Testing"
      ]
    },
    {
      "cell_type": "markdown",
      "metadata": {
        "id": "iYLxft6j0jhp"
      },
      "source": [
        "Retrieve the trained model"
      ]
    },
    {
      "cell_type": "code",
      "execution_count": 48,
      "metadata": {
        "id": "bAJxbGImpSpU"
      },
      "outputs": [],
      "source": [
        "device = 'cuda'\n",
        "\n",
        "#t5_training_path = '/content/drive/MyDrive/NLP_Project/Transformer-trained-models/t5_finetune_2025_05_18_20_03_51'\n",
        "tokenizer = T5Tokenizer.from_pretrained(t5_training_path)\n",
        "t5 = T5ForConditionalGeneration.from_pretrained(t5_training_path, device_map=device)"
      ]
    },
    {
      "cell_type": "markdown",
      "metadata": {
        "id": "jGzbwIvG0n4Q"
      },
      "source": [
        "To test the model, we first extract one chat from the test data randomly, give it as input to the model, and we see the response"
      ]
    },
    {
      "cell_type": "code",
      "execution_count": 49,
      "metadata": {
        "colab": {
          "base_uri": "https://localhost:8080/"
        },
        "collapsed": true,
        "id": "rSVt6AftnQfc",
        "outputId": "39132b79-ea0d-49da-ad15-745bd067287b"
      },
      "outputs": [
        {
          "name": "stdout",
          "output_type": "stream",
          "text": [
            "19\n",
            "User:Lunar New Year is approaching, and Bob decides to take a wander in a nearby park.\n",
            "\n",
            "The park can be represented as a connected graph with n nodes and m bidirectional edges. Initially Bob is at the node 1 and he records 1 on his notebook. He can wander from one node to another through those bidirectional edges. Whenever he visits a node not recorded on his notebook, he records it. After he visits all nodes at least once, he stops wandering, thus finally a permutation of nodes a_1, a_2, …, a_n is recorded.\n",
            "\n",
            "Wandering is a boring thing, but solving problems is fascinating. Bob wants to know the lexicographically smallest sequence of nodes he can record while wandering. Bob thinks this problem is trivial, and he wants you to solve it.\n",
            "\n",
            "A sequence x is lexicographically smaller than a sequence y if and only if one of the following holds: \n",
            "\n",
            "  * x is a prefix of y, but x ≠ y (this is impossible in this problem as all considered sequences have the same length); \n",
            "  * in the first position where x and y differ, the sequence x has a smaller element than the corresponding element in y. \n",
            "\n",
            "Input\n",
            "\n",
            "The first line contains two positive integers n and m (1 ≤ n, m ≤ 10^5), denoting the number of nodes and edges, respectively.\n",
            "\n",
            "The following m lines describe the bidirectional edges in the graph. The i-th of these lines contains two integers u_i and v_i (1 ≤ u_i, v_i ≤ n), representing the nodes the i-th edge connects.\n",
            "\n",
            "Note that the graph can have multiple edges connecting the same two nodes and self-loops. It is guaranteed that the graph is connected.\n",
            "\n",
            "Output\n",
            "\n",
            "Output a line containing the lexicographically smallest sequence a_1, a_2, …, a_n Bob can record.\n",
            "\n",
            "Examples\n",
            "\n",
            "Input\n",
            "\n",
            "\n",
            "3 2\n",
            "1 2\n",
            "1 3\n",
            "\n",
            "\n",
            "Output\n",
            "\n",
            "\n",
            "1 2 3 \n",
            "\n",
            "\n",
            "Input\n",
            "\n",
            "\n",
            "5 5\n",
            "1 4\n",
            "3 4\n",
            "5 4\n",
            "3 2\n",
            "1 5\n",
            "\n",
            "\n",
            "Output\n",
            "\n",
            "\n",
            "1 4 3 2 5 \n",
            "\n",
            "\n",
            "Input\n",
            "\n",
            "\n",
            "10 10\n",
            "1 4\n",
            "6 8\n",
            "2 5\n",
            "3 7\n",
            "9 4\n",
            "5 6\n",
            "3 4\n",
            "8 10\n",
            "8 9\n",
            "1 10\n",
            "\n",
            "\n",
            "Output\n",
            "\n",
            "\n",
            "1 4 3 7 9 8 6 5 2 10 \n",
            "\n",
            "Note\n",
            "\n",
            "In the first sample, Bob's optimal wandering path could be 1 → 2 → 1 → 3. Therefore, Bob will obtain the sequence \\{1, 2, 3\\}, which is the lexicographically smallest one.\n",
            "\n",
            "In the second sample, Bob's optimal wandering path could be 1 → 4 → 3 → 2 → 3 → 4 → 1 → 5. Therefore, Bob will obtain the sequence \\{1, 4, 3, 2, 5\\}, which is the lexicographically smallest one. Time complexity: O(n); Space complexity: O(n)</s>Assistant: from heapq import heapify, heappush, heappop\n",
            "\n",
            "\n",
            "def solve():\n",
            "    n, m = [int(x) for x in input().split()]\n",
            "\n",
            "    adjs = [[] for _ in range(n)]\n",
            "    for _ in range(m):\n",
            "        a, b = [int(x) for x in input().split()]\n",
            "        a -= 1\n",
            "        b -= 1\n",
            "        adjs[a].append(b)\n",
            "        adjs[b].append(a)\n",
            "\n",
            "    seq = [1]\n",
            "    visited = set([0])\n",
            "    frontier = adjs[0].copy()\n",
            "    heapify(frontier)\n",
            "\n",
            "    while frontier:\n",
            "        node = heappop(frontier)\n",
            "        if node in visited:\n",
            "            continue\n",
            "\n",
            "        seq.append(node+1)\n",
            "        visited.add(node)\n",
            "        for neighbor in adjs[node]:\n",
            "            if neighbor not in visited:\n",
            "                heappush(frontier, neighbor)\n",
            "\n",
            "    print(*seq)\n",
            "\n",
            "\n",
            "solve()</s>\n"
          ]
        }
      ],
      "source": [
        "import random\n",
        "\n",
        "random.seed(43)\n",
        "\n",
        "idx = random.choice(range(len(test_data))) # select a random conversation\n",
        "print(idx)\n",
        "dialogue = test_data['chat'][idx]\n",
        "print(dialogue)"
      ]
    },
    {
      "cell_type": "code",
      "execution_count": 50,
      "metadata": {
        "colab": {
          "base_uri": "https://localhost:8080/"
        },
        "collapsed": true,
        "id": "RbqgWq8bq88u",
        "outputId": "af02bdfa-ab91-4d38-e0fa-273bbf81e37c"
      },
      "outputs": [
        {
          "name": "stdout",
          "output_type": "stream",
          "text": [
            "User input: \n",
            " User:Lunar New Year is approaching, and Bob decides to take a wander in a nearby park.\n",
            "\n",
            "The park can be represented as a connected graph with n nodes and m bidirectional edges. Initially Bob is at the node 1 and he records 1 on his notebook. He can wander from one node to another through those bidirectional edges. Whenever he visits a node not recorded on his notebook, he records it. After he visits all nodes at least once, he stops wandering, thus finally a permutation of nodes a_1, a_2, …, a_n is recorded.\n",
            "\n",
            "Wandering is a boring thing, but solving problems is fascinating. Bob wants to know the lexicographically smallest sequence of nodes he can record while wandering. Bob thinks this problem is trivial, and he wants you to solve it.\n",
            "\n",
            "A sequence x is lexicographically smaller than a sequence y if and only if one of the following holds: \n",
            "\n",
            "  * x is a prefix of y, but x ≠ y (this is impossible in this problem as all considered sequences have the same length); \n",
            "  * in the first position where x and y differ, the sequence x has a smaller element than the corresponding element in y. \n",
            "\n",
            "Input\n",
            "\n",
            "The first line contains two positive integers n and m (1 ≤ n, m ≤ 10^5), denoting the number of nodes and edges, respectively.\n",
            "\n",
            "The following m lines describe the bidirectional edges in the graph. The i-th of these lines contains two integers u_i and v_i (1 ≤ u_i, v_i ≤ n), representing the nodes the i-th edge connects.\n",
            "\n",
            "Note that the graph can have multiple edges connecting the same two nodes and self-loops. It is guaranteed that the graph is connected.\n",
            "\n",
            "Output\n",
            "\n",
            "Output a line containing the lexicographically smallest sequence a_1, a_2, …, a_n Bob can record.\n",
            "\n",
            "Examples\n",
            "\n",
            "Input\n",
            "\n",
            "\n",
            "3 2\n",
            "1 2\n",
            "1 3\n",
            "\n",
            "\n",
            "Output\n",
            "\n",
            "\n",
            "1 2 3 \n",
            "\n",
            "\n",
            "Input\n",
            "\n",
            "\n",
            "5 5\n",
            "1 4\n",
            "3 4\n",
            "5 4\n",
            "3 2\n",
            "1 5\n",
            "\n",
            "\n",
            "Output\n",
            "\n",
            "\n",
            "1 4 3 2 5 \n",
            "\n",
            "\n",
            "Input\n",
            "\n",
            "\n",
            "10 10\n",
            "1 4\n",
            "6 8\n",
            "2 5\n",
            "3 7\n",
            "9 4\n",
            "5 6\n",
            "3 4\n",
            "8 10\n",
            "8 9\n",
            "1 10\n",
            "\n",
            "\n",
            "Output\n",
            "\n",
            "\n",
            "1 4 3 7 9 8 6 5 2 10 \n",
            "\n",
            "Note\n",
            "\n",
            "In the first sample, Bob's optimal wandering path could be 1 → 2 → 1 → 3. Therefore, Bob will obtain the sequence \\{1, 2, 3\\}, which is the lexicographically smallest one.\n",
            "\n",
            "In the second sample, Bob's optimal wandering path could be 1 → 4 → 3 → 2 → 3 → 4 → 1 → 5. Therefore, Bob will obtain the sequence \\{1, 4, 3, 2, 5\\}, which is the lexicographically smallest one. Time complexity: O(n); Space complexity: O(n)</s> Assistant: \n",
            "User input lenght:  2302\n",
            "####\n",
            "Correct solution output: \n",
            " Assistant: from heapq import heapify, heappush, heappop\n",
            "\n",
            "\n",
            "def solve():\n",
            "    n, m = [int(x) for x in input().split()]\n",
            "\n",
            "    adjs = [[] for _ in range(n)]\n",
            "    for _ in range(m):\n",
            "        a, b = [int(x) for x in input().split()]\n",
            "        a -= 1\n",
            "        b -= 1\n",
            "        adjs[a].append(b)\n",
            "        adjs[b].append(a)\n",
            "\n",
            "    seq = [1]\n",
            "    visited = set([0])\n",
            "    frontier = adjs[0].copy()\n",
            "    heapify(frontier)\n",
            "\n",
            "    while frontier:\n",
            "        node = heappop(frontier)\n",
            "        if node in visited:\n",
            "            continue\n",
            "\n",
            "        seq.append(node+1)\n",
            "        visited.add(node)\n",
            "        for neighbor in adjs[node]:\n",
            "            if neighbor not in visited:\n",
            "                heappush(frontier, neighbor)\n",
            "\n",
            "    print(*seq)\n",
            "\n",
            "\n",
            "solve()</s>\n"
          ]
        }
      ],
      "source": [
        "# now take only the 'input part' and the 'output part'\n",
        "# parse string\n",
        "test_input, test_output, en = dialogue.split('</s>')\n",
        "\n",
        "# add eos token at the end of test_input and test_output\n",
        "test_input = test_input + tokenizer.eos_token + ' Assistant: '\n",
        "test_output = test_output + tokenizer.eos_token\n",
        "\n",
        "print('User input: \\n', test_input)\n",
        "print('User input lenght: ', len(test_input))\n",
        "print('####')\n",
        "print('Correct solution output: \\n', test_output)"
      ]
    },
    {
      "cell_type": "code",
      "execution_count": 51,
      "metadata": {
        "colab": {
          "base_uri": "https://localhost:8080/"
        },
        "id": "2hnbCwFO0XSL",
        "outputId": "eb6419c3-16b7-42f2-9b3e-40d421ceb257"
      },
      "outputs": [
        {
          "name": "stderr",
          "output_type": "stream",
          "text": [
            "Truncation was not explicitly activated but `max_length` is provided a specific value, please use `truncation=True` to explicitly truncate examples to max length. Defaulting to 'longest_first' truncation strategy. If you encode pairs of sequences (GLUE-style) with the tokenizer you can select this strategy more precisely by providing a specific strategy to `truncation`.\n"
          ]
        },
        {
          "name": "stdout",
          "output_type": "stream",
          "text": [
            "<pad> User:Lunar New Year is approaching, and Bob decides to take a wander in a nearby park. The park can be represented as a connected graph with n nodes and m bidirectional edges. Initially Bob is at the node 1 and he records 1 on his notebook. He can wander from one node to another through those bidirectional edges. Whenever he visits a node not recorded on his notebook, he records it. After he visits all nodes at least once, he stops wandering, thus finally a permutation of nodes a_1, a_2,..., a_n is recorded. Wandering is a boring thing, but solving problems is fascinating. Bob wants to know the lexicographically smallest sequence of nodes he can record while wandering. Bob thinks this problem is trivial, and he wants you to solve it. A sequence x is lexicographically smaller than a sequence y if and only if one of the following holds: * x is a prefix of y, but x <unk> y (this is impossible in this problem as all considered sequences have the same length); * in the first position where x and y differ, the sequence x has a smaller element than the corresponding element in y. Input The first line contains two positive integers n and m (1 <unk> n, m <unk> 10<unk> 5), denoting the number of nodes and edges, respectively. The following m lines describe the bidirectional edges in the graph. The i-th of these lines contains two integers u_i and v_i (1 <unk> u_i, v_i <unk> n), representing the nodes the i-th edge connects. Note that the graph can have multiple edges connecting the same two nodes and self-loops. It is guaranteed that the graph is connected. Output Output a line containing the lexicographically smallest sequence a_1, a_2,..., a_n Bob can record. Examples Input 3 2 1 2 1 3 Output 1 2 3 Input 5 5 1 4 3 4 5 4 3 2 1 5 Output 1 4 3 2 5 Input 10 10 1 4 6 8 2 5 3 7 9 4 5 6 3 4 8 9 1 10 Output 1 4 3 7 9 8 6 5 2 10 Note In the first sample, Bob's optimal wandering path could be 1 <unk> 2 <unk> 3 <unk> 4 <unk> 1 <unk> 3. Therefore, Bob will obtain the sequence <unk> 1, 4, 3, 2, 5<unk>, which is the lexicographically smallest one. In the second sample, Bob's optimal wandering path could be 1 <unk> 4 <unk> 3 <unk> 4 <unk> 1 <unk> 5. Therefore, Bob will obtain the sequence <unk> 1, 4, 3, 2, 5<unk>, which is the lexicographically smallest one. In the second sample, Bob's optimal wandering path could be 1 <unk> 2 <unk> 3 <unk> 4 <unk> 1 <unk> 5. Therefore, Bob will obtain the sequence <unk> 1, 4, 3, 2, 5<unk>, which is the lexicographically smallest one. In the second sample, Bob's optimal wandering path could be 1 <unk> 4 <unk> 3 <unk> 4 <unk> 1 <unk> 5. Therefore, Bob will obtain the sequence <unk> 1, 4, 3, 2, 5<unk>, which is the lexicographically smallest one. In the second sample, Bob's optimal wandering path could be 1 <unk> 4 <unk> 3 <unk> 4 <unk> 1 <unk>5. Therefore, Bob will\n",
            "<pad> User:Lunar New Year is approaching, and Bob decides to take a wander in a nearby park. The park can be represented as a connected graph with n nodes and m bidirectional edges. Initially Bob is at the node 1 and he records 1 on his notebook. He can wander from one node to another through those bidirectional edges. Whenever he visits a node not recorded on his notebook, he records it. After he visits all nodes at least once, he stops wandering, thus finally a permutation of nodes a_1, a_2,..., a_n is recorded. Wandering is a boring thing, but solving problems is fascinating. Bob wants to know the lexicographically smallest sequence of nodes he can record while wandering. Bob thinks this problem is trivial, and he wants you to solve it. A sequence x is lexicographically smaller than a sequence y if and only if one of the following holds: * x is a prefix of y, but x <unk> y (this is impossible in this problem as all considered sequences have the same length); * in the first position where x and y differ, the sequence x has a smaller element than the corresponding element in y. Input The first line contains two positive integers n and m (1 <unk> n, m <unk> 10<unk> 5), denoting the number of nodes and edges, respectively. The following m lines describe the bidirectional edges in the graph. The i-th of these lines contains two integers u_i and v_i (1 <unk> u_i, v_i <unk> n), representing the nodes the i-th edge connects. Note that the graph can have multiple edges connecting the same two nodes and self-loops. It is guaranteed that the graph is connected. Output Output a line containing the lexicographically smallest sequence a_1, a_2,..., a_n Bob can record. Examples Input 3 2 1 2 1 3 Output 1 2 3 Input 5 5 1 4 3 4 5 4 3 2 1 5 Output 1 4 3 2 5 Input 10 10 1 4 6 8 2 5 3 7 9 4 5 6 3 4 8 9 1 10 Output 1 4 3 7 9 8 6 5 2 10 Note In the first sample, Bob's optimal wandering path could be 1 <unk> 2 <unk> 3 <unk> 4 <unk> 1 <unk> 3. Therefore, Bob will obtain the sequence <unk> 1, 4, 3, 2, 5<unk>, which is the lexicographically smallest one. In the second sample, Bob's optimal wandering path could be 1 <unk> 4 <unk> 3 <unk> 4 <unk> 1 <unk> 5. Therefore, Bob will obtain the sequence <unk> 1, 4, 3, 2, 5<unk>, which is the lexicographically smallest one. In the second sample, Bob's optimal wandering path could be 1 <unk> 2 <unk> 3 <unk> 4 <unk> 1 <unk> 5. Therefore, Bob will obtain the sequence <unk> 1, 4, 3, 2, 5<unk>, which is the lexicographically smallest one. In the second sample, Bob's optimal wandering path could be 1 <unk> 4 <unk> 3 <unk> 4 <unk> 1 <unk> 5. Therefore, Bob will obtain the sequence <unk> 1, 4, 3, 2, 5<unk>, which is the lexicographically smallest one. In the second sample, Bob's optimal wandering path could be 1 <unk> 4 <unk> 3 <unk> 4 <unk> 1 <unk>5. Therefore, Bob will\n"
          ]
        }
      ],
      "source": [
        "input_ids = tokenizer(test_input, return_tensors=\"pt\", max_length = 2000).to(device)\n",
        "output = t5.generate(**input_ids, max_new_tokens=800)\n",
        "gen_text = tokenizer.decode(output[0])\n",
        "\n",
        "print(gen_text)\n",
        "print(gen_text.split('Assistant:')[-1])"
      ]
    },
    {
      "cell_type": "markdown",
      "metadata": {
        "id": "mdh5C9c24eSM"
      },
      "source": [
        "Also in this case, the model does not perform well: it doesn't generate the code, mainly copies the input, and struggles to keep the separation between 'User' and 'Assistant'. Overall the generated text from T5-small is less clear than the text generated by the training of T5-base: the bigger amount of parameters of T5-base guarantees better text quality."
      ]
    },
    {
      "cell_type": "markdown",
      "metadata": {
        "id": "TliwIMwVp_SY"
      },
      "source": [
        "#### Evaluation Metrics"
      ]
    },
    {
      "cell_type": "markdown",
      "metadata": {
        "id": "DP4G5_TIqCp-"
      },
      "source": [
        "It was decided to consider the metrics Perplexity, BLEU and F1."
      ]
    },
    {
      "cell_type": "markdown",
      "metadata": {
        "id": "hGBneyDuqSAo"
      },
      "source": [
        "**Perplexity**"
      ]
    },
    {
      "cell_type": "code",
      "execution_count": 52,
      "metadata": {
        "id": "HrBPapUI36Ys"
      },
      "outputs": [],
      "source": [
        "# get inputs from test_data\n",
        "test_input = [dialogue.split('</s>')[0] + tokenizer.eos_token + 'Assistant: ' for dialogue in test_data['chat'][:3]]\n",
        "\n",
        "# get outputs from test data\n",
        "test_output = [dialogue.split('</s>')[1] + tokenizer.eos_token for dialogue in test_data['chat'][:3]]"
      ]
    },
    {
      "cell_type": "code",
      "execution_count": null,
      "metadata": {
        "colab": {
          "base_uri": "https://localhost:8080/"
        },
        "collapsed": true,
        "id": "Y6alFByvoT1x",
        "outputId": "ed245c9f-c096-4074-f50e-daec79b49bb6"
      },
      "outputs": [],
      "source": [
        "!pip install lmppl"
      ]
    },
    {
      "cell_type": "code",
      "execution_count": 54,
      "metadata": {
        "colab": {
          "base_uri": "https://localhost:8080/"
        },
        "id": "pWiORygooCJf",
        "outputId": "36aeffd8-1285-4d5a-bbe6-09d81e58fdb8"
      },
      "outputs": [
        {
          "name": "stderr",
          "output_type": "stream",
          "text": [
            "/usr/local/lib/python3.11/dist-packages/transformers/models/auto/tokenization_auto.py:898: FutureWarning: The `use_auth_token` argument is deprecated and will be removed in v5 of Transformers. Please use `token` instead.\n",
            "  warnings.warn(\n",
            "You set `add_prefix_space`. The tokenizer needs to be converted from the slow tokenizers\n",
            "/usr/local/lib/python3.11/dist-packages/transformers/models/auto/configuration_auto.py:1099: FutureWarning: The `use_auth_token` argument is deprecated and will be removed in v5 of Transformers. Please use `token` instead.\n",
            "  warnings.warn(\n",
            "/usr/local/lib/python3.11/dist-packages/transformers/modeling_utils.py:4056: FutureWarning: The `use_auth_token` argument is deprecated and will be removed in v5 of Transformers. Please use `token` instead.\n",
            "  warnings.warn(\n",
            "100%|██████████| 1/1 [00:00<00:00,  8.32it/s]"
          ]
        },
        {
          "name": "stdout",
          "output_type": "stream",
          "text": [
            "[439.4691293912123, 720.7729464902942, 1981.2242516858746]\n",
            "average perplexity: 1047.1554425224604\n"
          ]
        },
        {
          "name": "stderr",
          "output_type": "stream",
          "text": [
            "\n"
          ]
        }
      ],
      "source": [
        "import lmppl\n",
        "\n",
        "scorer = lmppl.EncoderDecoderLM(t5_training_path)\n",
        "\n",
        "ppl = scorer.get_perplexity(input_texts= test_input, output_texts=test_output)\n",
        "print(list( ppl))\n",
        "print(f\"average perplexity: {sum(ppl)/len(ppl)}\")"
      ]
    },
    {
      "cell_type": "markdown",
      "metadata": {
        "id": "VNssGG-u0osZ"
      },
      "source": [
        "The perplexity values before the fine-tuning were: [66.54613901709006, 105.79112153990572, 35432.329456935135] with\n",
        "average perplexity: 11868.222239164044\n",
        "\n",
        "We can see that the fine-tuning did not increase considerably the performance of the model. The average of the perplexity decreased though, indicating a better understanding of the new functionality with respect to the model prior the fine-tuning."
      ]
    },
    {
      "cell_type": "code",
      "execution_count": 55,
      "metadata": {
        "colab": {
          "base_uri": "https://localhost:8080/"
        },
        "id": "nQpq1XWAoq21",
        "outputId": "dac4dd0c-923f-4fab-ce23-809d6fe6ede1"
      },
      "outputs": [
        {
          "name": "stdout",
          "output_type": "stream",
          "text": [
            "user input: \n",
            "User:Write a program which prints $n$-th fibonacci number for a given integer $n$. The $n$-th fibonacci number is defined by the following recursive formula:\n",
            "\n",
            "\\begin{equation*} fib(n)= \\left \\\\{ \\begin{array}{ll} 1 & (n = 0) \\\\\\ 1 & (n = 1) \\\\\\ fib(n - 1) + fib(n - 2) & \\\\\\ \\end{array} \\right. \\end{equation*}\n",
            "\n",
            "Constraints\n",
            "\n",
            "* $0 \\leq n \\leq 44$\n",
            "\n",
            "Input\n",
            "\n",
            "An integer $n$ is given.\n",
            "\n",
            "Example\n",
            "\n",
            "Input\n",
            "\n",
            "3\n",
            "\n",
            "\n",
            "Output\n",
            "\n",
            "3 Time complexity: O(nlogn); Space complexity: O(n**2)</s>Assistant: \n",
            "#################\n",
            "prediction: \n",
            "Assistant: N = int(input())\n",
            "\n",
            "dp = [1] * (N + 1)\n",
            "\n",
            "for n in range(2, N + 1):\n",
            "    dp[n] = dp[n - 1] + dp[n - 2]\n",
            "\n",
            "print(dp[N])</s>\n"
          ]
        }
      ],
      "source": [
        "print(f\"user input: \\n{test_input[ppl.index(min(ppl))]}\")\n",
        "print('#################')\n",
        "print(f\"prediction: \\n{test_output[ppl.index(min(ppl))]}\")"
      ]
    },
    {
      "cell_type": "markdown",
      "metadata": {
        "id": "djfXfUusxCOT"
      },
      "source": [
        "BLEU\n",
        "\n",
        "BLEU focuses on precision by counting matching n-grams."
      ]
    },
    {
      "cell_type": "code",
      "execution_count": null,
      "metadata": {
        "colab": {
          "base_uri": "https://localhost:8080/"
        },
        "collapsed": true,
        "id": "2RRt6v1z555x",
        "outputId": "32194069-9e33-4f18-eead-051abc18c284"
      },
      "outputs": [],
      "source": [
        "!pip -q install parlai"
      ]
    },
    {
      "cell_type": "code",
      "execution_count": 57,
      "metadata": {
        "colab": {
          "base_uri": "https://localhost:8080/"
        },
        "id": "C-jmTrF56I4R",
        "outputId": "b4c82d00-22a0-4d48-9e9b-9301c9db4aae"
      },
      "outputs": [
        {
          "name": "stdout",
          "output_type": "stream",
          "text": [
            "BLEU: 7.417e-06\n"
          ]
        }
      ],
      "source": [
        "from parlai.core.metrics import BleuMetric\n",
        "\n",
        "input_ids = tokenizer(test_input[0], return_tensors=\"pt\", max_length = 2000).to(device)\n",
        "output = t5.generate(**input_ids, max_new_tokens=800)\n",
        "gen_text = tokenizer.decode(output[0])\n",
        "\n",
        "bleu = BleuMetric.compute(gen_text, [test_output[0]])\n",
        "print(f\"BLEU: {bleu}\")"
      ]
    },
    {
      "cell_type": "markdown",
      "metadata": {
        "id": "0bwifxDJ7T4d"
      },
      "source": [
        "F1 Score"
      ]
    },
    {
      "cell_type": "code",
      "execution_count": 58,
      "metadata": {
        "colab": {
          "base_uri": "https://localhost:8080/"
        },
        "id": "nuZni2ef7KJv",
        "outputId": "e5c82e8c-e8e1-407c-e051-11a608b109d3"
      },
      "outputs": [
        {
          "name": "stdout",
          "output_type": "stream",
          "text": [
            "F1: 0.0744\n"
          ]
        }
      ],
      "source": [
        "from parlai.core.metrics import F1Metric\n",
        "\n",
        "f1_score = F1Metric.compute(gen_text, [test_output[0]])\n",
        "print(f\"F1: {f1_score}\")"
      ]
    }
  ],
  "metadata": {
    "accelerator": "GPU",
    "colab": {
      "collapsed_sections": [
        "HKgSqU2D7nfk"
      ],
      "gpuType": "T4",
      "provenance": []
    },
    "kernelspec": {
      "display_name": "Python 3",
      "name": "python3"
    },
    "language_info": {
      "name": "python"
    },
    "widgets": {
      "application/vnd.jupyter.widget-state+json": {
        "00561bbc04a84a02b8c22feeb97dcb53": {
          "model_module": "@jupyter-widgets/base",
          "model_module_version": "1.2.0",
          "model_name": "LayoutModel",
          "state": {
            "_model_module": "@jupyter-widgets/base",
            "_model_module_version": "1.2.0",
            "_model_name": "LayoutModel",
            "_view_count": null,
            "_view_module": "@jupyter-widgets/base",
            "_view_module_version": "1.2.0",
            "_view_name": "LayoutView",
            "align_content": null,
            "align_items": null,
            "align_self": null,
            "border": null,
            "bottom": null,
            "display": null,
            "flex": null,
            "flex_flow": null,
            "grid_area": null,
            "grid_auto_columns": null,
            "grid_auto_flow": null,
            "grid_auto_rows": null,
            "grid_column": null,
            "grid_gap": null,
            "grid_row": null,
            "grid_template_areas": null,
            "grid_template_columns": null,
            "grid_template_rows": null,
            "height": null,
            "justify_content": null,
            "justify_items": null,
            "left": null,
            "margin": null,
            "max_height": null,
            "max_width": null,
            "min_height": null,
            "min_width": null,
            "object_fit": null,
            "object_position": null,
            "order": null,
            "overflow": null,
            "overflow_x": null,
            "overflow_y": null,
            "padding": null,
            "right": null,
            "top": null,
            "visibility": null,
            "width": null
          }
        },
        "021c2918b010474cbc6b8b801e24c363": {
          "model_module": "@jupyter-widgets/controls",
          "model_module_version": "1.5.0",
          "model_name": "HTMLModel",
          "state": {
            "_dom_classes": [],
            "_model_module": "@jupyter-widgets/controls",
            "_model_module_version": "1.5.0",
            "_model_name": "HTMLModel",
            "_view_count": null,
            "_view_module": "@jupyter-widgets/controls",
            "_view_module_version": "1.5.0",
            "_view_name": "HTMLView",
            "description": "",
            "description_tooltip": null,
            "layout": "IPY_MODEL_3d8452eba75b4539bad934742fabd31b",
            "placeholder": "​",
            "style": "IPY_MODEL_0e102b851ec842a6b0ea054a98d4061e",
            "value": "model.safetensors: 100%"
          }
        },
        "047cf629797a49de849f6e43aece7dfa": {
          "model_module": "@jupyter-widgets/controls",
          "model_module_version": "1.5.0",
          "model_name": "DescriptionStyleModel",
          "state": {
            "_model_module": "@jupyter-widgets/controls",
            "_model_module_version": "1.5.0",
            "_model_name": "DescriptionStyleModel",
            "_view_count": null,
            "_view_module": "@jupyter-widgets/base",
            "_view_module_version": "1.2.0",
            "_view_name": "StyleView",
            "description_width": ""
          }
        },
        "0b158a4e723447ddb383e9d7065522f8": {
          "model_module": "@jupyter-widgets/controls",
          "model_module_version": "1.5.0",
          "model_name": "FloatProgressModel",
          "state": {
            "_dom_classes": [],
            "_model_module": "@jupyter-widgets/controls",
            "_model_module_version": "1.5.0",
            "_model_name": "FloatProgressModel",
            "_view_count": null,
            "_view_module": "@jupyter-widgets/controls",
            "_view_module_version": "1.5.0",
            "_view_name": "ProgressView",
            "bar_style": "success",
            "description": "",
            "description_tooltip": null,
            "layout": "IPY_MODEL_1aac6231d7e642e2895177916570351e",
            "max": 791656,
            "min": 0,
            "orientation": "horizontal",
            "style": "IPY_MODEL_5fd54842e5f849c3a5a1c154584ccae2",
            "value": 791656
          }
        },
        "0c747e152ae5450dbd0c8e5b7eee3be8": {
          "model_module": "@jupyter-widgets/controls",
          "model_module_version": "1.5.0",
          "model_name": "HTMLModel",
          "state": {
            "_dom_classes": [],
            "_model_module": "@jupyter-widgets/controls",
            "_model_module_version": "1.5.0",
            "_model_name": "HTMLModel",
            "_view_count": null,
            "_view_module": "@jupyter-widgets/controls",
            "_view_module_version": "1.5.0",
            "_view_name": "HTMLView",
            "description": "",
            "description_tooltip": null,
            "layout": "IPY_MODEL_a2540f6eea184b72aa1fcf5687808582",
            "placeholder": "​",
            "style": "IPY_MODEL_4fc6306b72e34a70a51ac617da659f27",
            "value": " 3600/3600 [00:07&lt;00:00, 472.62 examples/s]"
          }
        },
        "0e102b851ec842a6b0ea054a98d4061e": {
          "model_module": "@jupyter-widgets/controls",
          "model_module_version": "1.5.0",
          "model_name": "DescriptionStyleModel",
          "state": {
            "_model_module": "@jupyter-widgets/controls",
            "_model_module_version": "1.5.0",
            "_model_name": "DescriptionStyleModel",
            "_view_count": null,
            "_view_module": "@jupyter-widgets/base",
            "_view_module_version": "1.2.0",
            "_view_name": "StyleView",
            "description_width": ""
          }
        },
        "110d268bb5d34a6e89d8565e9531bded": {
          "model_module": "@jupyter-widgets/base",
          "model_module_version": "1.2.0",
          "model_name": "LayoutModel",
          "state": {
            "_model_module": "@jupyter-widgets/base",
            "_model_module_version": "1.2.0",
            "_model_name": "LayoutModel",
            "_view_count": null,
            "_view_module": "@jupyter-widgets/base",
            "_view_module_version": "1.2.0",
            "_view_name": "LayoutView",
            "align_content": null,
            "align_items": null,
            "align_self": null,
            "border": null,
            "bottom": null,
            "display": null,
            "flex": null,
            "flex_flow": null,
            "grid_area": null,
            "grid_auto_columns": null,
            "grid_auto_flow": null,
            "grid_auto_rows": null,
            "grid_column": null,
            "grid_gap": null,
            "grid_row": null,
            "grid_template_areas": null,
            "grid_template_columns": null,
            "grid_template_rows": null,
            "height": null,
            "justify_content": null,
            "justify_items": null,
            "left": null,
            "margin": null,
            "max_height": null,
            "max_width": null,
            "min_height": null,
            "min_width": null,
            "object_fit": null,
            "object_position": null,
            "order": null,
            "overflow": null,
            "overflow_x": null,
            "overflow_y": null,
            "padding": null,
            "right": null,
            "top": null,
            "visibility": null,
            "width": null
          }
        },
        "11219827f60e4c46a40ab692fc5f7a78": {
          "model_module": "@jupyter-widgets/base",
          "model_module_version": "1.2.0",
          "model_name": "LayoutModel",
          "state": {
            "_model_module": "@jupyter-widgets/base",
            "_model_module_version": "1.2.0",
            "_model_name": "LayoutModel",
            "_view_count": null,
            "_view_module": "@jupyter-widgets/base",
            "_view_module_version": "1.2.0",
            "_view_name": "LayoutView",
            "align_content": null,
            "align_items": null,
            "align_self": null,
            "border": null,
            "bottom": null,
            "display": null,
            "flex": null,
            "flex_flow": null,
            "grid_area": null,
            "grid_auto_columns": null,
            "grid_auto_flow": null,
            "grid_auto_rows": null,
            "grid_column": null,
            "grid_gap": null,
            "grid_row": null,
            "grid_template_areas": null,
            "grid_template_columns": null,
            "grid_template_rows": null,
            "height": null,
            "justify_content": null,
            "justify_items": null,
            "left": null,
            "margin": null,
            "max_height": null,
            "max_width": null,
            "min_height": null,
            "min_width": null,
            "object_fit": null,
            "object_position": null,
            "order": null,
            "overflow": null,
            "overflow_x": null,
            "overflow_y": null,
            "padding": null,
            "right": null,
            "top": null,
            "visibility": null,
            "width": null
          }
        },
        "149c35ebc9694ff180cc807f5e039d0c": {
          "model_module": "@jupyter-widgets/controls",
          "model_module_version": "1.5.0",
          "model_name": "HTMLModel",
          "state": {
            "_dom_classes": [],
            "_model_module": "@jupyter-widgets/controls",
            "_model_module_version": "1.5.0",
            "_model_name": "HTMLModel",
            "_view_count": null,
            "_view_module": "@jupyter-widgets/controls",
            "_view_module_version": "1.5.0",
            "_view_name": "HTMLView",
            "description": "",
            "description_tooltip": null,
            "layout": "IPY_MODEL_647cb8bb77d84c0ab1d5bad39b49f821",
            "placeholder": "​",
            "style": "IPY_MODEL_790c811af81742e8986114cd73856928",
            "value": "tokenizer.json: 100%"
          }
        },
        "17eed62e0f9941fba0c6790ed4deed31": {
          "model_module": "@jupyter-widgets/controls",
          "model_module_version": "1.5.0",
          "model_name": "FloatProgressModel",
          "state": {
            "_dom_classes": [],
            "_model_module": "@jupyter-widgets/controls",
            "_model_module_version": "1.5.0",
            "_model_name": "FloatProgressModel",
            "_view_count": null,
            "_view_module": "@jupyter-widgets/controls",
            "_view_module_version": "1.5.0",
            "_view_name": "ProgressView",
            "bar_style": "success",
            "description": "",
            "description_tooltip": null,
            "layout": "IPY_MODEL_52d4611f2a404e3682556d37c63f898f",
            "max": 3600,
            "min": 0,
            "orientation": "horizontal",
            "style": "IPY_MODEL_7784f83384a847848b34a9f765bddd8f",
            "value": 3600
          }
        },
        "1aac6231d7e642e2895177916570351e": {
          "model_module": "@jupyter-widgets/base",
          "model_module_version": "1.2.0",
          "model_name": "LayoutModel",
          "state": {
            "_model_module": "@jupyter-widgets/base",
            "_model_module_version": "1.2.0",
            "_model_name": "LayoutModel",
            "_view_count": null,
            "_view_module": "@jupyter-widgets/base",
            "_view_module_version": "1.2.0",
            "_view_name": "LayoutView",
            "align_content": null,
            "align_items": null,
            "align_self": null,
            "border": null,
            "bottom": null,
            "display": null,
            "flex": null,
            "flex_flow": null,
            "grid_area": null,
            "grid_auto_columns": null,
            "grid_auto_flow": null,
            "grid_auto_rows": null,
            "grid_column": null,
            "grid_gap": null,
            "grid_row": null,
            "grid_template_areas": null,
            "grid_template_columns": null,
            "grid_template_rows": null,
            "height": null,
            "justify_content": null,
            "justify_items": null,
            "left": null,
            "margin": null,
            "max_height": null,
            "max_width": null,
            "min_height": null,
            "min_width": null,
            "object_fit": null,
            "object_position": null,
            "order": null,
            "overflow": null,
            "overflow_x": null,
            "overflow_y": null,
            "padding": null,
            "right": null,
            "top": null,
            "visibility": null,
            "width": null
          }
        },
        "1be6860d88b4482e86486ab48cd527ec": {
          "model_module": "@jupyter-widgets/base",
          "model_module_version": "1.2.0",
          "model_name": "LayoutModel",
          "state": {
            "_model_module": "@jupyter-widgets/base",
            "_model_module_version": "1.2.0",
            "_model_name": "LayoutModel",
            "_view_count": null,
            "_view_module": "@jupyter-widgets/base",
            "_view_module_version": "1.2.0",
            "_view_name": "LayoutView",
            "align_content": null,
            "align_items": null,
            "align_self": null,
            "border": null,
            "bottom": null,
            "display": null,
            "flex": null,
            "flex_flow": null,
            "grid_area": null,
            "grid_auto_columns": null,
            "grid_auto_flow": null,
            "grid_auto_rows": null,
            "grid_column": null,
            "grid_gap": null,
            "grid_row": null,
            "grid_template_areas": null,
            "grid_template_columns": null,
            "grid_template_rows": null,
            "height": null,
            "justify_content": null,
            "justify_items": null,
            "left": null,
            "margin": null,
            "max_height": null,
            "max_width": null,
            "min_height": null,
            "min_width": null,
            "object_fit": null,
            "object_position": null,
            "order": null,
            "overflow": null,
            "overflow_x": null,
            "overflow_y": null,
            "padding": null,
            "right": null,
            "top": null,
            "visibility": null,
            "width": null
          }
        },
        "23ddfe27a287473aa124682540f4fdda": {
          "model_module": "@jupyter-widgets/controls",
          "model_module_version": "1.5.0",
          "model_name": "ProgressStyleModel",
          "state": {
            "_model_module": "@jupyter-widgets/controls",
            "_model_module_version": "1.5.0",
            "_model_name": "ProgressStyleModel",
            "_view_count": null,
            "_view_module": "@jupyter-widgets/base",
            "_view_module_version": "1.2.0",
            "_view_name": "StyleView",
            "bar_color": null,
            "description_width": ""
          }
        },
        "26940a64ecb046bba60aa9af43bd77e6": {
          "model_module": "@jupyter-widgets/base",
          "model_module_version": "1.2.0",
          "model_name": "LayoutModel",
          "state": {
            "_model_module": "@jupyter-widgets/base",
            "_model_module_version": "1.2.0",
            "_model_name": "LayoutModel",
            "_view_count": null,
            "_view_module": "@jupyter-widgets/base",
            "_view_module_version": "1.2.0",
            "_view_name": "LayoutView",
            "align_content": null,
            "align_items": null,
            "align_self": null,
            "border": null,
            "bottom": null,
            "display": null,
            "flex": null,
            "flex_flow": null,
            "grid_area": null,
            "grid_auto_columns": null,
            "grid_auto_flow": null,
            "grid_auto_rows": null,
            "grid_column": null,
            "grid_gap": null,
            "grid_row": null,
            "grid_template_areas": null,
            "grid_template_columns": null,
            "grid_template_rows": null,
            "height": null,
            "justify_content": null,
            "justify_items": null,
            "left": null,
            "margin": null,
            "max_height": null,
            "max_width": null,
            "min_height": null,
            "min_width": null,
            "object_fit": null,
            "object_position": null,
            "order": null,
            "overflow": null,
            "overflow_x": null,
            "overflow_y": null,
            "padding": null,
            "right": null,
            "top": null,
            "visibility": null,
            "width": null
          }
        },
        "2bf07b9136f247fc8262652737853c38": {
          "model_module": "@jupyter-widgets/controls",
          "model_module_version": "1.5.0",
          "model_name": "HTMLModel",
          "state": {
            "_dom_classes": [],
            "_model_module": "@jupyter-widgets/controls",
            "_model_module_version": "1.5.0",
            "_model_name": "HTMLModel",
            "_view_count": null,
            "_view_module": "@jupyter-widgets/controls",
            "_view_module_version": "1.5.0",
            "_view_name": "HTMLView",
            "description": "",
            "description_tooltip": null,
            "layout": "IPY_MODEL_58a4012e49134cc68fb5c0d13c2bfa7f",
            "placeholder": "​",
            "style": "IPY_MODEL_ddcbc8af555b4ebf81b519b2b28367f4",
            "value": "spiece.model: 100%"
          }
        },
        "30c2dc0ebe984b6188d7f757bfa160ba": {
          "model_module": "@jupyter-widgets/controls",
          "model_module_version": "1.5.0",
          "model_name": "FloatProgressModel",
          "state": {
            "_dom_classes": [],
            "_model_module": "@jupyter-widgets/controls",
            "_model_module_version": "1.5.0",
            "_model_name": "FloatProgressModel",
            "_view_count": null,
            "_view_module": "@jupyter-widgets/controls",
            "_view_module_version": "1.5.0",
            "_view_name": "ProgressView",
            "bar_style": "success",
            "description": "",
            "description_tooltip": null,
            "layout": "IPY_MODEL_fc31ac124ad441b58027e583ff5d44f6",
            "max": 2324,
            "min": 0,
            "orientation": "horizontal",
            "style": "IPY_MODEL_8bddcf3ad6784274a1189278c97a0424",
            "value": 2324
          }
        },
        "3406b0305b1d4e20a83bbe34efbf03fa": {
          "model_module": "@jupyter-widgets/controls",
          "model_module_version": "1.5.0",
          "model_name": "FloatProgressModel",
          "state": {
            "_dom_classes": [],
            "_model_module": "@jupyter-widgets/controls",
            "_model_module_version": "1.5.0",
            "_model_name": "FloatProgressModel",
            "_view_count": null,
            "_view_module": "@jupyter-widgets/controls",
            "_view_module_version": "1.5.0",
            "_view_name": "ProgressView",
            "bar_style": "success",
            "description": "",
            "description_tooltip": null,
            "layout": "IPY_MODEL_3ae75a07518b4526baf504e60dfacfcc",
            "max": 242043056,
            "min": 0,
            "orientation": "horizontal",
            "style": "IPY_MODEL_4efa05f9c9bf4f7292e30c6e78826edf",
            "value": 242043056
          }
        },
        "35d94d2249f14cddb6fea36bdd6bd234": {
          "model_module": "@jupyter-widgets/controls",
          "model_module_version": "1.5.0",
          "model_name": "HTMLModel",
          "state": {
            "_dom_classes": [],
            "_model_module": "@jupyter-widgets/controls",
            "_model_module_version": "1.5.0",
            "_model_name": "HTMLModel",
            "_view_count": null,
            "_view_module": "@jupyter-widgets/controls",
            "_view_module_version": "1.5.0",
            "_view_name": "HTMLView",
            "description": "",
            "description_tooltip": null,
            "layout": "IPY_MODEL_9824daa9526e496c8c726e848a906545",
            "placeholder": "​",
            "style": "IPY_MODEL_c1483d5a4b74420ea288fc09075c5064",
            "value": "tokenizer_config.json: 100%"
          }
        },
        "3a35cbd508374f2f830a9b0be4448fd7": {
          "model_module": "@jupyter-widgets/controls",
          "model_module_version": "1.5.0",
          "model_name": "HBoxModel",
          "state": {
            "_dom_classes": [],
            "_model_module": "@jupyter-widgets/controls",
            "_model_module_version": "1.5.0",
            "_model_name": "HBoxModel",
            "_view_count": null,
            "_view_module": "@jupyter-widgets/controls",
            "_view_module_version": "1.5.0",
            "_view_name": "HBoxView",
            "box_style": "",
            "children": [
              "IPY_MODEL_b2e990c67e924a64adf626e609d9d19b",
              "IPY_MODEL_cab2e9cd81a245559b912b59ec44a70c",
              "IPY_MODEL_73f7654d698a4daeafd064894d89dce4"
            ],
            "layout": "IPY_MODEL_c25394b284394cda8b17bbe2ef476e74"
          }
        },
        "3ae75a07518b4526baf504e60dfacfcc": {
          "model_module": "@jupyter-widgets/base",
          "model_module_version": "1.2.0",
          "model_name": "LayoutModel",
          "state": {
            "_model_module": "@jupyter-widgets/base",
            "_model_module_version": "1.2.0",
            "_model_name": "LayoutModel",
            "_view_count": null,
            "_view_module": "@jupyter-widgets/base",
            "_view_module_version": "1.2.0",
            "_view_name": "LayoutView",
            "align_content": null,
            "align_items": null,
            "align_self": null,
            "border": null,
            "bottom": null,
            "display": null,
            "flex": null,
            "flex_flow": null,
            "grid_area": null,
            "grid_auto_columns": null,
            "grid_auto_flow": null,
            "grid_auto_rows": null,
            "grid_column": null,
            "grid_gap": null,
            "grid_row": null,
            "grid_template_areas": null,
            "grid_template_columns": null,
            "grid_template_rows": null,
            "height": null,
            "justify_content": null,
            "justify_items": null,
            "left": null,
            "margin": null,
            "max_height": null,
            "max_width": null,
            "min_height": null,
            "min_width": null,
            "object_fit": null,
            "object_position": null,
            "order": null,
            "overflow": null,
            "overflow_x": null,
            "overflow_y": null,
            "padding": null,
            "right": null,
            "top": null,
            "visibility": null,
            "width": null
          }
        },
        "3b646753724640f7bc734376016da4db": {
          "model_module": "@jupyter-widgets/controls",
          "model_module_version": "1.5.0",
          "model_name": "HBoxModel",
          "state": {
            "_dom_classes": [],
            "_model_module": "@jupyter-widgets/controls",
            "_model_module_version": "1.5.0",
            "_model_name": "HBoxModel",
            "_view_count": null,
            "_view_module": "@jupyter-widgets/controls",
            "_view_module_version": "1.5.0",
            "_view_name": "HBoxView",
            "box_style": "",
            "children": [
              "IPY_MODEL_73933de7f3cf4e38a85d36be0a32d3dd",
              "IPY_MODEL_a823d2e1a1d64d798fea2a9b5b6df2a5",
              "IPY_MODEL_a9a9e54312624a5096a9e9c11aa0a13e"
            ],
            "layout": "IPY_MODEL_11219827f60e4c46a40ab692fc5f7a78"
          }
        },
        "3c784008b1674354a27d7ef3127a8e01": {
          "model_module": "@jupyter-widgets/controls",
          "model_module_version": "1.5.0",
          "model_name": "DescriptionStyleModel",
          "state": {
            "_model_module": "@jupyter-widgets/controls",
            "_model_module_version": "1.5.0",
            "_model_name": "DescriptionStyleModel",
            "_view_count": null,
            "_view_module": "@jupyter-widgets/base",
            "_view_module_version": "1.2.0",
            "_view_name": "StyleView",
            "description_width": ""
          }
        },
        "3d0cfc10e4b941158a308b0d509eea95": {
          "model_module": "@jupyter-widgets/controls",
          "model_module_version": "1.5.0",
          "model_name": "FloatProgressModel",
          "state": {
            "_dom_classes": [],
            "_model_module": "@jupyter-widgets/controls",
            "_model_module_version": "1.5.0",
            "_model_name": "FloatProgressModel",
            "_view_count": null,
            "_view_module": "@jupyter-widgets/controls",
            "_view_module_version": "1.5.0",
            "_view_name": "ProgressView",
            "bar_style": "success",
            "description": "",
            "description_tooltip": null,
            "layout": "IPY_MODEL_529f2fdfda914f4680007d778d6e857f",
            "max": 147,
            "min": 0,
            "orientation": "horizontal",
            "style": "IPY_MODEL_23ddfe27a287473aa124682540f4fdda",
            "value": 147
          }
        },
        "3d8452eba75b4539bad934742fabd31b": {
          "model_module": "@jupyter-widgets/base",
          "model_module_version": "1.2.0",
          "model_name": "LayoutModel",
          "state": {
            "_model_module": "@jupyter-widgets/base",
            "_model_module_version": "1.2.0",
            "_model_name": "LayoutModel",
            "_view_count": null,
            "_view_module": "@jupyter-widgets/base",
            "_view_module_version": "1.2.0",
            "_view_name": "LayoutView",
            "align_content": null,
            "align_items": null,
            "align_self": null,
            "border": null,
            "bottom": null,
            "display": null,
            "flex": null,
            "flex_flow": null,
            "grid_area": null,
            "grid_auto_columns": null,
            "grid_auto_flow": null,
            "grid_auto_rows": null,
            "grid_column": null,
            "grid_gap": null,
            "grid_row": null,
            "grid_template_areas": null,
            "grid_template_columns": null,
            "grid_template_rows": null,
            "height": null,
            "justify_content": null,
            "justify_items": null,
            "left": null,
            "margin": null,
            "max_height": null,
            "max_width": null,
            "min_height": null,
            "min_width": null,
            "object_fit": null,
            "object_position": null,
            "order": null,
            "overflow": null,
            "overflow_x": null,
            "overflow_y": null,
            "padding": null,
            "right": null,
            "top": null,
            "visibility": null,
            "width": null
          }
        },
        "41a5e98c8f114606ba1486b943c4c93b": {
          "model_module": "@jupyter-widgets/controls",
          "model_module_version": "1.5.0",
          "model_name": "HTMLModel",
          "state": {
            "_dom_classes": [],
            "_model_module": "@jupyter-widgets/controls",
            "_model_module_version": "1.5.0",
            "_model_name": "HTMLModel",
            "_view_count": null,
            "_view_module": "@jupyter-widgets/controls",
            "_view_module_version": "1.5.0",
            "_view_name": "HTMLView",
            "description": "",
            "description_tooltip": null,
            "layout": "IPY_MODEL_4711fa4d250c446190154c3c82cfec56",
            "placeholder": "​",
            "style": "IPY_MODEL_669682eedc0b48abbd925396040ef928",
            "value": "generation_config.json: 100%"
          }
        },
        "4275330bdf7b4889adaa1f513b6a72e3": {
          "model_module": "@jupyter-widgets/controls",
          "model_module_version": "1.5.0",
          "model_name": "DescriptionStyleModel",
          "state": {
            "_model_module": "@jupyter-widgets/controls",
            "_model_module_version": "1.5.0",
            "_model_name": "DescriptionStyleModel",
            "_view_count": null,
            "_view_module": "@jupyter-widgets/base",
            "_view_module_version": "1.2.0",
            "_view_name": "StyleView",
            "description_width": ""
          }
        },
        "42b3a497ff364839a50bf40599af734c": {
          "model_module": "@jupyter-widgets/base",
          "model_module_version": "1.2.0",
          "model_name": "LayoutModel",
          "state": {
            "_model_module": "@jupyter-widgets/base",
            "_model_module_version": "1.2.0",
            "_model_name": "LayoutModel",
            "_view_count": null,
            "_view_module": "@jupyter-widgets/base",
            "_view_module_version": "1.2.0",
            "_view_name": "LayoutView",
            "align_content": null,
            "align_items": null,
            "align_self": null,
            "border": null,
            "bottom": null,
            "display": null,
            "flex": null,
            "flex_flow": null,
            "grid_area": null,
            "grid_auto_columns": null,
            "grid_auto_flow": null,
            "grid_auto_rows": null,
            "grid_column": null,
            "grid_gap": null,
            "grid_row": null,
            "grid_template_areas": null,
            "grid_template_columns": null,
            "grid_template_rows": null,
            "height": null,
            "justify_content": null,
            "justify_items": null,
            "left": null,
            "margin": null,
            "max_height": null,
            "max_width": null,
            "min_height": null,
            "min_width": null,
            "object_fit": null,
            "object_position": null,
            "order": null,
            "overflow": null,
            "overflow_x": null,
            "overflow_y": null,
            "padding": null,
            "right": null,
            "top": null,
            "visibility": null,
            "width": null
          }
        },
        "4711fa4d250c446190154c3c82cfec56": {
          "model_module": "@jupyter-widgets/base",
          "model_module_version": "1.2.0",
          "model_name": "LayoutModel",
          "state": {
            "_model_module": "@jupyter-widgets/base",
            "_model_module_version": "1.2.0",
            "_model_name": "LayoutModel",
            "_view_count": null,
            "_view_module": "@jupyter-widgets/base",
            "_view_module_version": "1.2.0",
            "_view_name": "LayoutView",
            "align_content": null,
            "align_items": null,
            "align_self": null,
            "border": null,
            "bottom": null,
            "display": null,
            "flex": null,
            "flex_flow": null,
            "grid_area": null,
            "grid_auto_columns": null,
            "grid_auto_flow": null,
            "grid_auto_rows": null,
            "grid_column": null,
            "grid_gap": null,
            "grid_row": null,
            "grid_template_areas": null,
            "grid_template_columns": null,
            "grid_template_rows": null,
            "height": null,
            "justify_content": null,
            "justify_items": null,
            "left": null,
            "margin": null,
            "max_height": null,
            "max_width": null,
            "min_height": null,
            "min_width": null,
            "object_fit": null,
            "object_position": null,
            "order": null,
            "overflow": null,
            "overflow_x": null,
            "overflow_y": null,
            "padding": null,
            "right": null,
            "top": null,
            "visibility": null,
            "width": null
          }
        },
        "4aab2afd2e8048189cb841cea96c025c": {
          "model_module": "@jupyter-widgets/base",
          "model_module_version": "1.2.0",
          "model_name": "LayoutModel",
          "state": {
            "_model_module": "@jupyter-widgets/base",
            "_model_module_version": "1.2.0",
            "_model_name": "LayoutModel",
            "_view_count": null,
            "_view_module": "@jupyter-widgets/base",
            "_view_module_version": "1.2.0",
            "_view_name": "LayoutView",
            "align_content": null,
            "align_items": null,
            "align_self": null,
            "border": null,
            "bottom": null,
            "display": null,
            "flex": null,
            "flex_flow": null,
            "grid_area": null,
            "grid_auto_columns": null,
            "grid_auto_flow": null,
            "grid_auto_rows": null,
            "grid_column": null,
            "grid_gap": null,
            "grid_row": null,
            "grid_template_areas": null,
            "grid_template_columns": null,
            "grid_template_rows": null,
            "height": null,
            "justify_content": null,
            "justify_items": null,
            "left": null,
            "margin": null,
            "max_height": null,
            "max_width": null,
            "min_height": null,
            "min_width": null,
            "object_fit": null,
            "object_position": null,
            "order": null,
            "overflow": null,
            "overflow_x": null,
            "overflow_y": null,
            "padding": null,
            "right": null,
            "top": null,
            "visibility": null,
            "width": null
          }
        },
        "4b21a58ef5504baf96a84031ad1fa2b9": {
          "model_module": "@jupyter-widgets/base",
          "model_module_version": "1.2.0",
          "model_name": "LayoutModel",
          "state": {
            "_model_module": "@jupyter-widgets/base",
            "_model_module_version": "1.2.0",
            "_model_name": "LayoutModel",
            "_view_count": null,
            "_view_module": "@jupyter-widgets/base",
            "_view_module_version": "1.2.0",
            "_view_name": "LayoutView",
            "align_content": null,
            "align_items": null,
            "align_self": null,
            "border": null,
            "bottom": null,
            "display": null,
            "flex": null,
            "flex_flow": null,
            "grid_area": null,
            "grid_auto_columns": null,
            "grid_auto_flow": null,
            "grid_auto_rows": null,
            "grid_column": null,
            "grid_gap": null,
            "grid_row": null,
            "grid_template_areas": null,
            "grid_template_columns": null,
            "grid_template_rows": null,
            "height": null,
            "justify_content": null,
            "justify_items": null,
            "left": null,
            "margin": null,
            "max_height": null,
            "max_width": null,
            "min_height": null,
            "min_width": null,
            "object_fit": null,
            "object_position": null,
            "order": null,
            "overflow": null,
            "overflow_x": null,
            "overflow_y": null,
            "padding": null,
            "right": null,
            "top": null,
            "visibility": null,
            "width": null
          }
        },
        "4efa05f9c9bf4f7292e30c6e78826edf": {
          "model_module": "@jupyter-widgets/controls",
          "model_module_version": "1.5.0",
          "model_name": "ProgressStyleModel",
          "state": {
            "_model_module": "@jupyter-widgets/controls",
            "_model_module_version": "1.5.0",
            "_model_name": "ProgressStyleModel",
            "_view_count": null,
            "_view_module": "@jupyter-widgets/base",
            "_view_module_version": "1.2.0",
            "_view_name": "StyleView",
            "bar_color": null,
            "description_width": ""
          }
        },
        "4fc6306b72e34a70a51ac617da659f27": {
          "model_module": "@jupyter-widgets/controls",
          "model_module_version": "1.5.0",
          "model_name": "DescriptionStyleModel",
          "state": {
            "_model_module": "@jupyter-widgets/controls",
            "_model_module_version": "1.5.0",
            "_model_name": "DescriptionStyleModel",
            "_view_count": null,
            "_view_module": "@jupyter-widgets/base",
            "_view_module_version": "1.2.0",
            "_view_name": "StyleView",
            "description_width": ""
          }
        },
        "529f2fdfda914f4680007d778d6e857f": {
          "model_module": "@jupyter-widgets/base",
          "model_module_version": "1.2.0",
          "model_name": "LayoutModel",
          "state": {
            "_model_module": "@jupyter-widgets/base",
            "_model_module_version": "1.2.0",
            "_model_name": "LayoutModel",
            "_view_count": null,
            "_view_module": "@jupyter-widgets/base",
            "_view_module_version": "1.2.0",
            "_view_name": "LayoutView",
            "align_content": null,
            "align_items": null,
            "align_self": null,
            "border": null,
            "bottom": null,
            "display": null,
            "flex": null,
            "flex_flow": null,
            "grid_area": null,
            "grid_auto_columns": null,
            "grid_auto_flow": null,
            "grid_auto_rows": null,
            "grid_column": null,
            "grid_gap": null,
            "grid_row": null,
            "grid_template_areas": null,
            "grid_template_columns": null,
            "grid_template_rows": null,
            "height": null,
            "justify_content": null,
            "justify_items": null,
            "left": null,
            "margin": null,
            "max_height": null,
            "max_width": null,
            "min_height": null,
            "min_width": null,
            "object_fit": null,
            "object_position": null,
            "order": null,
            "overflow": null,
            "overflow_x": null,
            "overflow_y": null,
            "padding": null,
            "right": null,
            "top": null,
            "visibility": null,
            "width": null
          }
        },
        "52d4611f2a404e3682556d37c63f898f": {
          "model_module": "@jupyter-widgets/base",
          "model_module_version": "1.2.0",
          "model_name": "LayoutModel",
          "state": {
            "_model_module": "@jupyter-widgets/base",
            "_model_module_version": "1.2.0",
            "_model_name": "LayoutModel",
            "_view_count": null,
            "_view_module": "@jupyter-widgets/base",
            "_view_module_version": "1.2.0",
            "_view_name": "LayoutView",
            "align_content": null,
            "align_items": null,
            "align_self": null,
            "border": null,
            "bottom": null,
            "display": null,
            "flex": null,
            "flex_flow": null,
            "grid_area": null,
            "grid_auto_columns": null,
            "grid_auto_flow": null,
            "grid_auto_rows": null,
            "grid_column": null,
            "grid_gap": null,
            "grid_row": null,
            "grid_template_areas": null,
            "grid_template_columns": null,
            "grid_template_rows": null,
            "height": null,
            "justify_content": null,
            "justify_items": null,
            "left": null,
            "margin": null,
            "max_height": null,
            "max_width": null,
            "min_height": null,
            "min_width": null,
            "object_fit": null,
            "object_position": null,
            "order": null,
            "overflow": null,
            "overflow_x": null,
            "overflow_y": null,
            "padding": null,
            "right": null,
            "top": null,
            "visibility": null,
            "width": null
          }
        },
        "54267cb75b7444788ed526eddd5d3c27": {
          "model_module": "@jupyter-widgets/controls",
          "model_module_version": "1.5.0",
          "model_name": "DescriptionStyleModel",
          "state": {
            "_model_module": "@jupyter-widgets/controls",
            "_model_module_version": "1.5.0",
            "_model_name": "DescriptionStyleModel",
            "_view_count": null,
            "_view_module": "@jupyter-widgets/base",
            "_view_module_version": "1.2.0",
            "_view_name": "StyleView",
            "description_width": ""
          }
        },
        "561f0690a14c4ef1b13965c76ca1d97e": {
          "model_module": "@jupyter-widgets/controls",
          "model_module_version": "1.5.0",
          "model_name": "HBoxModel",
          "state": {
            "_dom_classes": [],
            "_model_module": "@jupyter-widgets/controls",
            "_model_module_version": "1.5.0",
            "_model_name": "HBoxModel",
            "_view_count": null,
            "_view_module": "@jupyter-widgets/controls",
            "_view_module_version": "1.5.0",
            "_view_name": "HBoxView",
            "box_style": "",
            "children": [
              "IPY_MODEL_41a5e98c8f114606ba1486b943c4c93b",
              "IPY_MODEL_3d0cfc10e4b941158a308b0d509eea95",
              "IPY_MODEL_f90ea902669d4f4e86802b55f47530e4"
            ],
            "layout": "IPY_MODEL_620f27f606364782ba2cc3908bcb791f"
          }
        },
        "58a4012e49134cc68fb5c0d13c2bfa7f": {
          "model_module": "@jupyter-widgets/base",
          "model_module_version": "1.2.0",
          "model_name": "LayoutModel",
          "state": {
            "_model_module": "@jupyter-widgets/base",
            "_model_module_version": "1.2.0",
            "_model_name": "LayoutModel",
            "_view_count": null,
            "_view_module": "@jupyter-widgets/base",
            "_view_module_version": "1.2.0",
            "_view_name": "LayoutView",
            "align_content": null,
            "align_items": null,
            "align_self": null,
            "border": null,
            "bottom": null,
            "display": null,
            "flex": null,
            "flex_flow": null,
            "grid_area": null,
            "grid_auto_columns": null,
            "grid_auto_flow": null,
            "grid_auto_rows": null,
            "grid_column": null,
            "grid_gap": null,
            "grid_row": null,
            "grid_template_areas": null,
            "grid_template_columns": null,
            "grid_template_rows": null,
            "height": null,
            "justify_content": null,
            "justify_items": null,
            "left": null,
            "margin": null,
            "max_height": null,
            "max_width": null,
            "min_height": null,
            "min_width": null,
            "object_fit": null,
            "object_position": null,
            "order": null,
            "overflow": null,
            "overflow_x": null,
            "overflow_y": null,
            "padding": null,
            "right": null,
            "top": null,
            "visibility": null,
            "width": null
          }
        },
        "58c81648f36f44b088194190ddf8e428": {
          "model_module": "@jupyter-widgets/controls",
          "model_module_version": "1.5.0",
          "model_name": "HBoxModel",
          "state": {
            "_dom_classes": [],
            "_model_module": "@jupyter-widgets/controls",
            "_model_module_version": "1.5.0",
            "_model_name": "HBoxModel",
            "_view_count": null,
            "_view_module": "@jupyter-widgets/controls",
            "_view_module_version": "1.5.0",
            "_view_name": "HBoxView",
            "box_style": "",
            "children": [
              "IPY_MODEL_2bf07b9136f247fc8262652737853c38",
              "IPY_MODEL_0b158a4e723447ddb383e9d7065522f8",
              "IPY_MODEL_fa54aed80f8a4f7dad3615ad003b4967"
            ],
            "layout": "IPY_MODEL_e5393e49828948bdbd0d635250c35511"
          }
        },
        "593dc97b085d415e82f8695676687a2c": {
          "model_module": "@jupyter-widgets/controls",
          "model_module_version": "1.5.0",
          "model_name": "HBoxModel",
          "state": {
            "_dom_classes": [],
            "_model_module": "@jupyter-widgets/controls",
            "_model_module_version": "1.5.0",
            "_model_name": "HBoxModel",
            "_view_count": null,
            "_view_module": "@jupyter-widgets/controls",
            "_view_module_version": "1.5.0",
            "_view_name": "HBoxView",
            "box_style": "",
            "children": [
              "IPY_MODEL_149c35ebc9694ff180cc807f5e039d0c",
              "IPY_MODEL_a42151ba03e94b30b2be04cdbc4f8c94",
              "IPY_MODEL_77b7285c92244655a8c0c9e52ba52480"
            ],
            "layout": "IPY_MODEL_4aab2afd2e8048189cb841cea96c025c"
          }
        },
        "599b1c697e8645e3832bb50c7fd4146a": {
          "model_module": "@jupyter-widgets/controls",
          "model_module_version": "1.5.0",
          "model_name": "DescriptionStyleModel",
          "state": {
            "_model_module": "@jupyter-widgets/controls",
            "_model_module_version": "1.5.0",
            "_model_name": "DescriptionStyleModel",
            "_view_count": null,
            "_view_module": "@jupyter-widgets/base",
            "_view_module_version": "1.2.0",
            "_view_name": "StyleView",
            "description_width": ""
          }
        },
        "5ec8dc1cadb1484c8222fa800578e69c": {
          "model_module": "@jupyter-widgets/base",
          "model_module_version": "1.2.0",
          "model_name": "LayoutModel",
          "state": {
            "_model_module": "@jupyter-widgets/base",
            "_model_module_version": "1.2.0",
            "_model_name": "LayoutModel",
            "_view_count": null,
            "_view_module": "@jupyter-widgets/base",
            "_view_module_version": "1.2.0",
            "_view_name": "LayoutView",
            "align_content": null,
            "align_items": null,
            "align_self": null,
            "border": null,
            "bottom": null,
            "display": null,
            "flex": null,
            "flex_flow": null,
            "grid_area": null,
            "grid_auto_columns": null,
            "grid_auto_flow": null,
            "grid_auto_rows": null,
            "grid_column": null,
            "grid_gap": null,
            "grid_row": null,
            "grid_template_areas": null,
            "grid_template_columns": null,
            "grid_template_rows": null,
            "height": null,
            "justify_content": null,
            "justify_items": null,
            "left": null,
            "margin": null,
            "max_height": null,
            "max_width": null,
            "min_height": null,
            "min_width": null,
            "object_fit": null,
            "object_position": null,
            "order": null,
            "overflow": null,
            "overflow_x": null,
            "overflow_y": null,
            "padding": null,
            "right": null,
            "top": null,
            "visibility": null,
            "width": null
          }
        },
        "5fa1b9b0ba794dadaa8d19caa4e2fc37": {
          "model_module": "@jupyter-widgets/controls",
          "model_module_version": "1.5.0",
          "model_name": "HTMLModel",
          "state": {
            "_dom_classes": [],
            "_model_module": "@jupyter-widgets/controls",
            "_model_module_version": "1.5.0",
            "_model_name": "HTMLModel",
            "_view_count": null,
            "_view_module": "@jupyter-widgets/controls",
            "_view_module_version": "1.5.0",
            "_view_name": "HTMLView",
            "description": "",
            "description_tooltip": null,
            "layout": "IPY_MODEL_1be6860d88b4482e86486ab48cd527ec",
            "placeholder": "​",
            "style": "IPY_MODEL_3c784008b1674354a27d7ef3127a8e01",
            "value": "Map: 100%"
          }
        },
        "5fd54842e5f849c3a5a1c154584ccae2": {
          "model_module": "@jupyter-widgets/controls",
          "model_module_version": "1.5.0",
          "model_name": "ProgressStyleModel",
          "state": {
            "_model_module": "@jupyter-widgets/controls",
            "_model_module_version": "1.5.0",
            "_model_name": "ProgressStyleModel",
            "_view_count": null,
            "_view_module": "@jupyter-widgets/base",
            "_view_module_version": "1.2.0",
            "_view_name": "StyleView",
            "bar_color": null,
            "description_width": ""
          }
        },
        "620f27f606364782ba2cc3908bcb791f": {
          "model_module": "@jupyter-widgets/base",
          "model_module_version": "1.2.0",
          "model_name": "LayoutModel",
          "state": {
            "_model_module": "@jupyter-widgets/base",
            "_model_module_version": "1.2.0",
            "_model_name": "LayoutModel",
            "_view_count": null,
            "_view_module": "@jupyter-widgets/base",
            "_view_module_version": "1.2.0",
            "_view_name": "LayoutView",
            "align_content": null,
            "align_items": null,
            "align_self": null,
            "border": null,
            "bottom": null,
            "display": null,
            "flex": null,
            "flex_flow": null,
            "grid_area": null,
            "grid_auto_columns": null,
            "grid_auto_flow": null,
            "grid_auto_rows": null,
            "grid_column": null,
            "grid_gap": null,
            "grid_row": null,
            "grid_template_areas": null,
            "grid_template_columns": null,
            "grid_template_rows": null,
            "height": null,
            "justify_content": null,
            "justify_items": null,
            "left": null,
            "margin": null,
            "max_height": null,
            "max_width": null,
            "min_height": null,
            "min_width": null,
            "object_fit": null,
            "object_position": null,
            "order": null,
            "overflow": null,
            "overflow_x": null,
            "overflow_y": null,
            "padding": null,
            "right": null,
            "top": null,
            "visibility": null,
            "width": null
          }
        },
        "64560f1ad55d4d53a8b9f49afe140203": {
          "model_module": "@jupyter-widgets/base",
          "model_module_version": "1.2.0",
          "model_name": "LayoutModel",
          "state": {
            "_model_module": "@jupyter-widgets/base",
            "_model_module_version": "1.2.0",
            "_model_name": "LayoutModel",
            "_view_count": null,
            "_view_module": "@jupyter-widgets/base",
            "_view_module_version": "1.2.0",
            "_view_name": "LayoutView",
            "align_content": null,
            "align_items": null,
            "align_self": null,
            "border": null,
            "bottom": null,
            "display": null,
            "flex": null,
            "flex_flow": null,
            "grid_area": null,
            "grid_auto_columns": null,
            "grid_auto_flow": null,
            "grid_auto_rows": null,
            "grid_column": null,
            "grid_gap": null,
            "grid_row": null,
            "grid_template_areas": null,
            "grid_template_columns": null,
            "grid_template_rows": null,
            "height": null,
            "justify_content": null,
            "justify_items": null,
            "left": null,
            "margin": null,
            "max_height": null,
            "max_width": null,
            "min_height": null,
            "min_width": null,
            "object_fit": null,
            "object_position": null,
            "order": null,
            "overflow": null,
            "overflow_x": null,
            "overflow_y": null,
            "padding": null,
            "right": null,
            "top": null,
            "visibility": null,
            "width": null
          }
        },
        "647cb8bb77d84c0ab1d5bad39b49f821": {
          "model_module": "@jupyter-widgets/base",
          "model_module_version": "1.2.0",
          "model_name": "LayoutModel",
          "state": {
            "_model_module": "@jupyter-widgets/base",
            "_model_module_version": "1.2.0",
            "_model_name": "LayoutModel",
            "_view_count": null,
            "_view_module": "@jupyter-widgets/base",
            "_view_module_version": "1.2.0",
            "_view_name": "LayoutView",
            "align_content": null,
            "align_items": null,
            "align_self": null,
            "border": null,
            "bottom": null,
            "display": null,
            "flex": null,
            "flex_flow": null,
            "grid_area": null,
            "grid_auto_columns": null,
            "grid_auto_flow": null,
            "grid_auto_rows": null,
            "grid_column": null,
            "grid_gap": null,
            "grid_row": null,
            "grid_template_areas": null,
            "grid_template_columns": null,
            "grid_template_rows": null,
            "height": null,
            "justify_content": null,
            "justify_items": null,
            "left": null,
            "margin": null,
            "max_height": null,
            "max_width": null,
            "min_height": null,
            "min_width": null,
            "object_fit": null,
            "object_position": null,
            "order": null,
            "overflow": null,
            "overflow_x": null,
            "overflow_y": null,
            "padding": null,
            "right": null,
            "top": null,
            "visibility": null,
            "width": null
          }
        },
        "669682eedc0b48abbd925396040ef928": {
          "model_module": "@jupyter-widgets/controls",
          "model_module_version": "1.5.0",
          "model_name": "DescriptionStyleModel",
          "state": {
            "_model_module": "@jupyter-widgets/controls",
            "_model_module_version": "1.5.0",
            "_model_name": "DescriptionStyleModel",
            "_view_count": null,
            "_view_module": "@jupyter-widgets/base",
            "_view_module_version": "1.2.0",
            "_view_name": "StyleView",
            "description_width": ""
          }
        },
        "67ddece93d2f40a7a1a1bf558faed2ac": {
          "model_module": "@jupyter-widgets/base",
          "model_module_version": "1.2.0",
          "model_name": "LayoutModel",
          "state": {
            "_model_module": "@jupyter-widgets/base",
            "_model_module_version": "1.2.0",
            "_model_name": "LayoutModel",
            "_view_count": null,
            "_view_module": "@jupyter-widgets/base",
            "_view_module_version": "1.2.0",
            "_view_name": "LayoutView",
            "align_content": null,
            "align_items": null,
            "align_self": null,
            "border": null,
            "bottom": null,
            "display": null,
            "flex": null,
            "flex_flow": null,
            "grid_area": null,
            "grid_auto_columns": null,
            "grid_auto_flow": null,
            "grid_auto_rows": null,
            "grid_column": null,
            "grid_gap": null,
            "grid_row": null,
            "grid_template_areas": null,
            "grid_template_columns": null,
            "grid_template_rows": null,
            "height": null,
            "justify_content": null,
            "justify_items": null,
            "left": null,
            "margin": null,
            "max_height": null,
            "max_width": null,
            "min_height": null,
            "min_width": null,
            "object_fit": null,
            "object_position": null,
            "order": null,
            "overflow": null,
            "overflow_x": null,
            "overflow_y": null,
            "padding": null,
            "right": null,
            "top": null,
            "visibility": null,
            "width": null
          }
        },
        "6b5be2a3a52844fabc3b5b558eb76cd1": {
          "model_module": "@jupyter-widgets/controls",
          "model_module_version": "1.5.0",
          "model_name": "ProgressStyleModel",
          "state": {
            "_model_module": "@jupyter-widgets/controls",
            "_model_module_version": "1.5.0",
            "_model_name": "ProgressStyleModel",
            "_view_count": null,
            "_view_module": "@jupyter-widgets/base",
            "_view_module_version": "1.2.0",
            "_view_name": "StyleView",
            "bar_color": null,
            "description_width": ""
          }
        },
        "6bb4d42d72de4914b963626b4b27c655": {
          "model_module": "@jupyter-widgets/controls",
          "model_module_version": "1.5.0",
          "model_name": "ProgressStyleModel",
          "state": {
            "_model_module": "@jupyter-widgets/controls",
            "_model_module_version": "1.5.0",
            "_model_name": "ProgressStyleModel",
            "_view_count": null,
            "_view_module": "@jupyter-widgets/base",
            "_view_module_version": "1.2.0",
            "_view_name": "StyleView",
            "bar_color": null,
            "description_width": ""
          }
        },
        "6cb531eddd2f4d4d8e7add9dd1fe5edf": {
          "model_module": "@jupyter-widgets/controls",
          "model_module_version": "1.5.0",
          "model_name": "HTMLModel",
          "state": {
            "_dom_classes": [],
            "_model_module": "@jupyter-widgets/controls",
            "_model_module_version": "1.5.0",
            "_model_name": "HTMLModel",
            "_view_count": null,
            "_view_module": "@jupyter-widgets/controls",
            "_view_module_version": "1.5.0",
            "_view_name": "HTMLView",
            "description": "",
            "description_tooltip": null,
            "layout": "IPY_MODEL_5ec8dc1cadb1484c8222fa800578e69c",
            "placeholder": "​",
            "style": "IPY_MODEL_f8e8501c68a24dee8564f8c368f28de8",
            "value": " 2.32k/2.32k [00:00&lt;00:00, 229kB/s]"
          }
        },
        "6eec33089a224a3ba1aa371c590e8c0a": {
          "model_module": "@jupyter-widgets/controls",
          "model_module_version": "1.5.0",
          "model_name": "DescriptionStyleModel",
          "state": {
            "_model_module": "@jupyter-widgets/controls",
            "_model_module_version": "1.5.0",
            "_model_name": "DescriptionStyleModel",
            "_view_count": null,
            "_view_module": "@jupyter-widgets/base",
            "_view_module_version": "1.2.0",
            "_view_name": "StyleView",
            "description_width": ""
          }
        },
        "73933de7f3cf4e38a85d36be0a32d3dd": {
          "model_module": "@jupyter-widgets/controls",
          "model_module_version": "1.5.0",
          "model_name": "HTMLModel",
          "state": {
            "_dom_classes": [],
            "_model_module": "@jupyter-widgets/controls",
            "_model_module_version": "1.5.0",
            "_model_name": "HTMLModel",
            "_view_count": null,
            "_view_module": "@jupyter-widgets/controls",
            "_view_module_version": "1.5.0",
            "_view_name": "HTMLView",
            "description": "",
            "description_tooltip": null,
            "layout": "IPY_MODEL_9d5040f3c117418b8cbc24c30563e98b",
            "placeholder": "​",
            "style": "IPY_MODEL_986a723138304abeb6302686d8111901",
            "value": "config.json: 100%"
          }
        },
        "73f7654d698a4daeafd064894d89dce4": {
          "model_module": "@jupyter-widgets/controls",
          "model_module_version": "1.5.0",
          "model_name": "HTMLModel",
          "state": {
            "_dom_classes": [],
            "_model_module": "@jupyter-widgets/controls",
            "_model_module_version": "1.5.0",
            "_model_name": "HTMLModel",
            "_view_count": null,
            "_view_module": "@jupyter-widgets/controls",
            "_view_module_version": "1.5.0",
            "_view_name": "HTMLView",
            "description": "",
            "description_tooltip": null,
            "layout": "IPY_MODEL_bbe1591d44504229aca723bea86c18c3",
            "placeholder": "​",
            "style": "IPY_MODEL_4275330bdf7b4889adaa1f513b6a72e3",
            "value": " 500/500 [00:01&lt;00:00, 484.57 examples/s]"
          }
        },
        "7784f83384a847848b34a9f765bddd8f": {
          "model_module": "@jupyter-widgets/controls",
          "model_module_version": "1.5.0",
          "model_name": "ProgressStyleModel",
          "state": {
            "_model_module": "@jupyter-widgets/controls",
            "_model_module_version": "1.5.0",
            "_model_name": "ProgressStyleModel",
            "_view_count": null,
            "_view_module": "@jupyter-widgets/base",
            "_view_module_version": "1.2.0",
            "_view_name": "StyleView",
            "bar_color": null,
            "description_width": ""
          }
        },
        "77b7285c92244655a8c0c9e52ba52480": {
          "model_module": "@jupyter-widgets/controls",
          "model_module_version": "1.5.0",
          "model_name": "HTMLModel",
          "state": {
            "_dom_classes": [],
            "_model_module": "@jupyter-widgets/controls",
            "_model_module_version": "1.5.0",
            "_model_name": "HTMLModel",
            "_view_count": null,
            "_view_module": "@jupyter-widgets/controls",
            "_view_module_version": "1.5.0",
            "_view_name": "HTMLView",
            "description": "",
            "description_tooltip": null,
            "layout": "IPY_MODEL_00561bbc04a84a02b8c22feeb97dcb53",
            "placeholder": "​",
            "style": "IPY_MODEL_ad80ddcfc66241d89a29afbdfe7a5555",
            "value": " 1.39M/1.39M [00:00&lt;00:00, 4.73MB/s]"
          }
        },
        "790c811af81742e8986114cd73856928": {
          "model_module": "@jupyter-widgets/controls",
          "model_module_version": "1.5.0",
          "model_name": "DescriptionStyleModel",
          "state": {
            "_model_module": "@jupyter-widgets/controls",
            "_model_module_version": "1.5.0",
            "_model_name": "DescriptionStyleModel",
            "_view_count": null,
            "_view_module": "@jupyter-widgets/base",
            "_view_module_version": "1.2.0",
            "_view_name": "StyleView",
            "description_width": ""
          }
        },
        "84ac14146d2642fba5c2e5cb2a815caf": {
          "model_module": "@jupyter-widgets/controls",
          "model_module_version": "1.5.0",
          "model_name": "HBoxModel",
          "state": {
            "_dom_classes": [],
            "_model_module": "@jupyter-widgets/controls",
            "_model_module_version": "1.5.0",
            "_model_name": "HBoxModel",
            "_view_count": null,
            "_view_module": "@jupyter-widgets/controls",
            "_view_module_version": "1.5.0",
            "_view_name": "HBoxView",
            "box_style": "",
            "children": [
              "IPY_MODEL_35d94d2249f14cddb6fea36bdd6bd234",
              "IPY_MODEL_30c2dc0ebe984b6188d7f757bfa160ba",
              "IPY_MODEL_6cb531eddd2f4d4d8e7add9dd1fe5edf"
            ],
            "layout": "IPY_MODEL_e9115d819a964908a0db6cbd4e3a5388"
          }
        },
        "8bddcf3ad6784274a1189278c97a0424": {
          "model_module": "@jupyter-widgets/controls",
          "model_module_version": "1.5.0",
          "model_name": "ProgressStyleModel",
          "state": {
            "_model_module": "@jupyter-widgets/controls",
            "_model_module_version": "1.5.0",
            "_model_name": "ProgressStyleModel",
            "_view_count": null,
            "_view_module": "@jupyter-widgets/base",
            "_view_module_version": "1.2.0",
            "_view_name": "StyleView",
            "bar_color": null,
            "description_width": ""
          }
        },
        "9824daa9526e496c8c726e848a906545": {
          "model_module": "@jupyter-widgets/base",
          "model_module_version": "1.2.0",
          "model_name": "LayoutModel",
          "state": {
            "_model_module": "@jupyter-widgets/base",
            "_model_module_version": "1.2.0",
            "_model_name": "LayoutModel",
            "_view_count": null,
            "_view_module": "@jupyter-widgets/base",
            "_view_module_version": "1.2.0",
            "_view_name": "LayoutView",
            "align_content": null,
            "align_items": null,
            "align_self": null,
            "border": null,
            "bottom": null,
            "display": null,
            "flex": null,
            "flex_flow": null,
            "grid_area": null,
            "grid_auto_columns": null,
            "grid_auto_flow": null,
            "grid_auto_rows": null,
            "grid_column": null,
            "grid_gap": null,
            "grid_row": null,
            "grid_template_areas": null,
            "grid_template_columns": null,
            "grid_template_rows": null,
            "height": null,
            "justify_content": null,
            "justify_items": null,
            "left": null,
            "margin": null,
            "max_height": null,
            "max_width": null,
            "min_height": null,
            "min_width": null,
            "object_fit": null,
            "object_position": null,
            "order": null,
            "overflow": null,
            "overflow_x": null,
            "overflow_y": null,
            "padding": null,
            "right": null,
            "top": null,
            "visibility": null,
            "width": null
          }
        },
        "986a723138304abeb6302686d8111901": {
          "model_module": "@jupyter-widgets/controls",
          "model_module_version": "1.5.0",
          "model_name": "DescriptionStyleModel",
          "state": {
            "_model_module": "@jupyter-widgets/controls",
            "_model_module_version": "1.5.0",
            "_model_name": "DescriptionStyleModel",
            "_view_count": null,
            "_view_module": "@jupyter-widgets/base",
            "_view_module_version": "1.2.0",
            "_view_name": "StyleView",
            "description_width": ""
          }
        },
        "99d7edfb3ab145d48c6241f4354e0e3f": {
          "model_module": "@jupyter-widgets/base",
          "model_module_version": "1.2.0",
          "model_name": "LayoutModel",
          "state": {
            "_model_module": "@jupyter-widgets/base",
            "_model_module_version": "1.2.0",
            "_model_name": "LayoutModel",
            "_view_count": null,
            "_view_module": "@jupyter-widgets/base",
            "_view_module_version": "1.2.0",
            "_view_name": "LayoutView",
            "align_content": null,
            "align_items": null,
            "align_self": null,
            "border": null,
            "bottom": null,
            "display": null,
            "flex": null,
            "flex_flow": null,
            "grid_area": null,
            "grid_auto_columns": null,
            "grid_auto_flow": null,
            "grid_auto_rows": null,
            "grid_column": null,
            "grid_gap": null,
            "grid_row": null,
            "grid_template_areas": null,
            "grid_template_columns": null,
            "grid_template_rows": null,
            "height": null,
            "justify_content": null,
            "justify_items": null,
            "left": null,
            "margin": null,
            "max_height": null,
            "max_width": null,
            "min_height": null,
            "min_width": null,
            "object_fit": null,
            "object_position": null,
            "order": null,
            "overflow": null,
            "overflow_x": null,
            "overflow_y": null,
            "padding": null,
            "right": null,
            "top": null,
            "visibility": null,
            "width": null
          }
        },
        "9b0f9c680fd7467dae97b1be5104ba54": {
          "model_module": "@jupyter-widgets/controls",
          "model_module_version": "1.5.0",
          "model_name": "ProgressStyleModel",
          "state": {
            "_model_module": "@jupyter-widgets/controls",
            "_model_module_version": "1.5.0",
            "_model_name": "ProgressStyleModel",
            "_view_count": null,
            "_view_module": "@jupyter-widgets/base",
            "_view_module_version": "1.2.0",
            "_view_name": "StyleView",
            "bar_color": null,
            "description_width": ""
          }
        },
        "9d4d9630c4c14ba180836387b4d1dab2": {
          "model_module": "@jupyter-widgets/base",
          "model_module_version": "1.2.0",
          "model_name": "LayoutModel",
          "state": {
            "_model_module": "@jupyter-widgets/base",
            "_model_module_version": "1.2.0",
            "_model_name": "LayoutModel",
            "_view_count": null,
            "_view_module": "@jupyter-widgets/base",
            "_view_module_version": "1.2.0",
            "_view_name": "LayoutView",
            "align_content": null,
            "align_items": null,
            "align_self": null,
            "border": null,
            "bottom": null,
            "display": null,
            "flex": null,
            "flex_flow": null,
            "grid_area": null,
            "grid_auto_columns": null,
            "grid_auto_flow": null,
            "grid_auto_rows": null,
            "grid_column": null,
            "grid_gap": null,
            "grid_row": null,
            "grid_template_areas": null,
            "grid_template_columns": null,
            "grid_template_rows": null,
            "height": null,
            "justify_content": null,
            "justify_items": null,
            "left": null,
            "margin": null,
            "max_height": null,
            "max_width": null,
            "min_height": null,
            "min_width": null,
            "object_fit": null,
            "object_position": null,
            "order": null,
            "overflow": null,
            "overflow_x": null,
            "overflow_y": null,
            "padding": null,
            "right": null,
            "top": null,
            "visibility": null,
            "width": null
          }
        },
        "9d5040f3c117418b8cbc24c30563e98b": {
          "model_module": "@jupyter-widgets/base",
          "model_module_version": "1.2.0",
          "model_name": "LayoutModel",
          "state": {
            "_model_module": "@jupyter-widgets/base",
            "_model_module_version": "1.2.0",
            "_model_name": "LayoutModel",
            "_view_count": null,
            "_view_module": "@jupyter-widgets/base",
            "_view_module_version": "1.2.0",
            "_view_name": "LayoutView",
            "align_content": null,
            "align_items": null,
            "align_self": null,
            "border": null,
            "bottom": null,
            "display": null,
            "flex": null,
            "flex_flow": null,
            "grid_area": null,
            "grid_auto_columns": null,
            "grid_auto_flow": null,
            "grid_auto_rows": null,
            "grid_column": null,
            "grid_gap": null,
            "grid_row": null,
            "grid_template_areas": null,
            "grid_template_columns": null,
            "grid_template_rows": null,
            "height": null,
            "justify_content": null,
            "justify_items": null,
            "left": null,
            "margin": null,
            "max_height": null,
            "max_width": null,
            "min_height": null,
            "min_width": null,
            "object_fit": null,
            "object_position": null,
            "order": null,
            "overflow": null,
            "overflow_x": null,
            "overflow_y": null,
            "padding": null,
            "right": null,
            "top": null,
            "visibility": null,
            "width": null
          }
        },
        "a2540f6eea184b72aa1fcf5687808582": {
          "model_module": "@jupyter-widgets/base",
          "model_module_version": "1.2.0",
          "model_name": "LayoutModel",
          "state": {
            "_model_module": "@jupyter-widgets/base",
            "_model_module_version": "1.2.0",
            "_model_name": "LayoutModel",
            "_view_count": null,
            "_view_module": "@jupyter-widgets/base",
            "_view_module_version": "1.2.0",
            "_view_name": "LayoutView",
            "align_content": null,
            "align_items": null,
            "align_self": null,
            "border": null,
            "bottom": null,
            "display": null,
            "flex": null,
            "flex_flow": null,
            "grid_area": null,
            "grid_auto_columns": null,
            "grid_auto_flow": null,
            "grid_auto_rows": null,
            "grid_column": null,
            "grid_gap": null,
            "grid_row": null,
            "grid_template_areas": null,
            "grid_template_columns": null,
            "grid_template_rows": null,
            "height": null,
            "justify_content": null,
            "justify_items": null,
            "left": null,
            "margin": null,
            "max_height": null,
            "max_width": null,
            "min_height": null,
            "min_width": null,
            "object_fit": null,
            "object_position": null,
            "order": null,
            "overflow": null,
            "overflow_x": null,
            "overflow_y": null,
            "padding": null,
            "right": null,
            "top": null,
            "visibility": null,
            "width": null
          }
        },
        "a3bc3df5ee374373ac89a5d521a0479e": {
          "model_module": "@jupyter-widgets/controls",
          "model_module_version": "1.5.0",
          "model_name": "DescriptionStyleModel",
          "state": {
            "_model_module": "@jupyter-widgets/controls",
            "_model_module_version": "1.5.0",
            "_model_name": "DescriptionStyleModel",
            "_view_count": null,
            "_view_module": "@jupyter-widgets/base",
            "_view_module_version": "1.2.0",
            "_view_name": "StyleView",
            "description_width": ""
          }
        },
        "a42151ba03e94b30b2be04cdbc4f8c94": {
          "model_module": "@jupyter-widgets/controls",
          "model_module_version": "1.5.0",
          "model_name": "FloatProgressModel",
          "state": {
            "_dom_classes": [],
            "_model_module": "@jupyter-widgets/controls",
            "_model_module_version": "1.5.0",
            "_model_name": "FloatProgressModel",
            "_view_count": null,
            "_view_module": "@jupyter-widgets/controls",
            "_view_module_version": "1.5.0",
            "_view_name": "ProgressView",
            "bar_style": "success",
            "description": "",
            "description_tooltip": null,
            "layout": "IPY_MODEL_aa1655ce6e204a679dca4b39d31c3763",
            "max": 1389353,
            "min": 0,
            "orientation": "horizontal",
            "style": "IPY_MODEL_eddd612ddbcc49c7ba76d952325df4f0",
            "value": 1389353
          }
        },
        "a4819109569842b89d85655601b774da": {
          "model_module": "@jupyter-widgets/controls",
          "model_module_version": "1.5.0",
          "model_name": "HTMLModel",
          "state": {
            "_dom_classes": [],
            "_model_module": "@jupyter-widgets/controls",
            "_model_module_version": "1.5.0",
            "_model_name": "HTMLModel",
            "_view_count": null,
            "_view_module": "@jupyter-widgets/controls",
            "_view_module_version": "1.5.0",
            "_view_name": "HTMLView",
            "description": "",
            "description_tooltip": null,
            "layout": "IPY_MODEL_64560f1ad55d4d53a8b9f49afe140203",
            "placeholder": "​",
            "style": "IPY_MODEL_599b1c697e8645e3832bb50c7fd4146a",
            "value": "Map: 100%"
          }
        },
        "a823d2e1a1d64d798fea2a9b5b6df2a5": {
          "model_module": "@jupyter-widgets/controls",
          "model_module_version": "1.5.0",
          "model_name": "FloatProgressModel",
          "state": {
            "_dom_classes": [],
            "_model_module": "@jupyter-widgets/controls",
            "_model_module_version": "1.5.0",
            "_model_name": "FloatProgressModel",
            "_view_count": null,
            "_view_module": "@jupyter-widgets/controls",
            "_view_module_version": "1.5.0",
            "_view_name": "ProgressView",
            "bar_style": "success",
            "description": "",
            "description_tooltip": null,
            "layout": "IPY_MODEL_9d4d9630c4c14ba180836387b4d1dab2",
            "max": 1206,
            "min": 0,
            "orientation": "horizontal",
            "style": "IPY_MODEL_9b0f9c680fd7467dae97b1be5104ba54",
            "value": 1206
          }
        },
        "a9a9e54312624a5096a9e9c11aa0a13e": {
          "model_module": "@jupyter-widgets/controls",
          "model_module_version": "1.5.0",
          "model_name": "HTMLModel",
          "state": {
            "_dom_classes": [],
            "_model_module": "@jupyter-widgets/controls",
            "_model_module_version": "1.5.0",
            "_model_name": "HTMLModel",
            "_view_count": null,
            "_view_module": "@jupyter-widgets/controls",
            "_view_module_version": "1.5.0",
            "_view_name": "HTMLView",
            "description": "",
            "description_tooltip": null,
            "layout": "IPY_MODEL_e28b5b0975a944c58e447ccad09c6af0",
            "placeholder": "​",
            "style": "IPY_MODEL_a3bc3df5ee374373ac89a5d521a0479e",
            "value": " 1.21k/1.21k [00:00&lt;00:00, 103kB/s]"
          }
        },
        "aa1655ce6e204a679dca4b39d31c3763": {
          "model_module": "@jupyter-widgets/base",
          "model_module_version": "1.2.0",
          "model_name": "LayoutModel",
          "state": {
            "_model_module": "@jupyter-widgets/base",
            "_model_module_version": "1.2.0",
            "_model_name": "LayoutModel",
            "_view_count": null,
            "_view_module": "@jupyter-widgets/base",
            "_view_module_version": "1.2.0",
            "_view_name": "LayoutView",
            "align_content": null,
            "align_items": null,
            "align_self": null,
            "border": null,
            "bottom": null,
            "display": null,
            "flex": null,
            "flex_flow": null,
            "grid_area": null,
            "grid_auto_columns": null,
            "grid_auto_flow": null,
            "grid_auto_rows": null,
            "grid_column": null,
            "grid_gap": null,
            "grid_row": null,
            "grid_template_areas": null,
            "grid_template_columns": null,
            "grid_template_rows": null,
            "height": null,
            "justify_content": null,
            "justify_items": null,
            "left": null,
            "margin": null,
            "max_height": null,
            "max_width": null,
            "min_height": null,
            "min_width": null,
            "object_fit": null,
            "object_position": null,
            "order": null,
            "overflow": null,
            "overflow_x": null,
            "overflow_y": null,
            "padding": null,
            "right": null,
            "top": null,
            "visibility": null,
            "width": null
          }
        },
        "ad80ddcfc66241d89a29afbdfe7a5555": {
          "model_module": "@jupyter-widgets/controls",
          "model_module_version": "1.5.0",
          "model_name": "DescriptionStyleModel",
          "state": {
            "_model_module": "@jupyter-widgets/controls",
            "_model_module_version": "1.5.0",
            "_model_name": "DescriptionStyleModel",
            "_view_count": null,
            "_view_module": "@jupyter-widgets/base",
            "_view_module_version": "1.2.0",
            "_view_name": "StyleView",
            "description_width": ""
          }
        },
        "b2e990c67e924a64adf626e609d9d19b": {
          "model_module": "@jupyter-widgets/controls",
          "model_module_version": "1.5.0",
          "model_name": "HTMLModel",
          "state": {
            "_dom_classes": [],
            "_model_module": "@jupyter-widgets/controls",
            "_model_module_version": "1.5.0",
            "_model_name": "HTMLModel",
            "_view_count": null,
            "_view_module": "@jupyter-widgets/controls",
            "_view_module_version": "1.5.0",
            "_view_name": "HTMLView",
            "description": "",
            "description_tooltip": null,
            "layout": "IPY_MODEL_b509543cc9f94c2c95a0a4f5106d594d",
            "placeholder": "​",
            "style": "IPY_MODEL_f20ca68e8a95427f9e15972e5977476a",
            "value": "Map: 100%"
          }
        },
        "b509543cc9f94c2c95a0a4f5106d594d": {
          "model_module": "@jupyter-widgets/base",
          "model_module_version": "1.2.0",
          "model_name": "LayoutModel",
          "state": {
            "_model_module": "@jupyter-widgets/base",
            "_model_module_version": "1.2.0",
            "_model_name": "LayoutModel",
            "_view_count": null,
            "_view_module": "@jupyter-widgets/base",
            "_view_module_version": "1.2.0",
            "_view_name": "LayoutView",
            "align_content": null,
            "align_items": null,
            "align_self": null,
            "border": null,
            "bottom": null,
            "display": null,
            "flex": null,
            "flex_flow": null,
            "grid_area": null,
            "grid_auto_columns": null,
            "grid_auto_flow": null,
            "grid_auto_rows": null,
            "grid_column": null,
            "grid_gap": null,
            "grid_row": null,
            "grid_template_areas": null,
            "grid_template_columns": null,
            "grid_template_rows": null,
            "height": null,
            "justify_content": null,
            "justify_items": null,
            "left": null,
            "margin": null,
            "max_height": null,
            "max_width": null,
            "min_height": null,
            "min_width": null,
            "object_fit": null,
            "object_position": null,
            "order": null,
            "overflow": null,
            "overflow_x": null,
            "overflow_y": null,
            "padding": null,
            "right": null,
            "top": null,
            "visibility": null,
            "width": null
          }
        },
        "bbe1591d44504229aca723bea86c18c3": {
          "model_module": "@jupyter-widgets/base",
          "model_module_version": "1.2.0",
          "model_name": "LayoutModel",
          "state": {
            "_model_module": "@jupyter-widgets/base",
            "_model_module_version": "1.2.0",
            "_model_name": "LayoutModel",
            "_view_count": null,
            "_view_module": "@jupyter-widgets/base",
            "_view_module_version": "1.2.0",
            "_view_name": "LayoutView",
            "align_content": null,
            "align_items": null,
            "align_self": null,
            "border": null,
            "bottom": null,
            "display": null,
            "flex": null,
            "flex_flow": null,
            "grid_area": null,
            "grid_auto_columns": null,
            "grid_auto_flow": null,
            "grid_auto_rows": null,
            "grid_column": null,
            "grid_gap": null,
            "grid_row": null,
            "grid_template_areas": null,
            "grid_template_columns": null,
            "grid_template_rows": null,
            "height": null,
            "justify_content": null,
            "justify_items": null,
            "left": null,
            "margin": null,
            "max_height": null,
            "max_width": null,
            "min_height": null,
            "min_width": null,
            "object_fit": null,
            "object_position": null,
            "order": null,
            "overflow": null,
            "overflow_x": null,
            "overflow_y": null,
            "padding": null,
            "right": null,
            "top": null,
            "visibility": null,
            "width": null
          }
        },
        "bde89f9a6da84b9ba09004d03b1716cd": {
          "model_module": "@jupyter-widgets/controls",
          "model_module_version": "1.5.0",
          "model_name": "HTMLModel",
          "state": {
            "_dom_classes": [],
            "_model_module": "@jupyter-widgets/controls",
            "_model_module_version": "1.5.0",
            "_model_name": "HTMLModel",
            "_view_count": null,
            "_view_module": "@jupyter-widgets/controls",
            "_view_module_version": "1.5.0",
            "_view_name": "HTMLView",
            "description": "",
            "description_tooltip": null,
            "layout": "IPY_MODEL_110d268bb5d34a6e89d8565e9531bded",
            "placeholder": "​",
            "style": "IPY_MODEL_047cf629797a49de849f6e43aece7dfa",
            "value": " 242M/242M [00:01&lt;00:00, 227MB/s]"
          }
        },
        "c1483d5a4b74420ea288fc09075c5064": {
          "model_module": "@jupyter-widgets/controls",
          "model_module_version": "1.5.0",
          "model_name": "DescriptionStyleModel",
          "state": {
            "_model_module": "@jupyter-widgets/controls",
            "_model_module_version": "1.5.0",
            "_model_name": "DescriptionStyleModel",
            "_view_count": null,
            "_view_module": "@jupyter-widgets/base",
            "_view_module_version": "1.2.0",
            "_view_name": "StyleView",
            "description_width": ""
          }
        },
        "c25394b284394cda8b17bbe2ef476e74": {
          "model_module": "@jupyter-widgets/base",
          "model_module_version": "1.2.0",
          "model_name": "LayoutModel",
          "state": {
            "_model_module": "@jupyter-widgets/base",
            "_model_module_version": "1.2.0",
            "_model_name": "LayoutModel",
            "_view_count": null,
            "_view_module": "@jupyter-widgets/base",
            "_view_module_version": "1.2.0",
            "_view_name": "LayoutView",
            "align_content": null,
            "align_items": null,
            "align_self": null,
            "border": null,
            "bottom": null,
            "display": null,
            "flex": null,
            "flex_flow": null,
            "grid_area": null,
            "grid_auto_columns": null,
            "grid_auto_flow": null,
            "grid_auto_rows": null,
            "grid_column": null,
            "grid_gap": null,
            "grid_row": null,
            "grid_template_areas": null,
            "grid_template_columns": null,
            "grid_template_rows": null,
            "height": null,
            "justify_content": null,
            "justify_items": null,
            "left": null,
            "margin": null,
            "max_height": null,
            "max_width": null,
            "min_height": null,
            "min_width": null,
            "object_fit": null,
            "object_position": null,
            "order": null,
            "overflow": null,
            "overflow_x": null,
            "overflow_y": null,
            "padding": null,
            "right": null,
            "top": null,
            "visibility": null,
            "width": null
          }
        },
        "c3b60433f9614c3894ce452bf6ee10c9": {
          "model_module": "@jupyter-widgets/base",
          "model_module_version": "1.2.0",
          "model_name": "LayoutModel",
          "state": {
            "_model_module": "@jupyter-widgets/base",
            "_model_module_version": "1.2.0",
            "_model_name": "LayoutModel",
            "_view_count": null,
            "_view_module": "@jupyter-widgets/base",
            "_view_module_version": "1.2.0",
            "_view_name": "LayoutView",
            "align_content": null,
            "align_items": null,
            "align_self": null,
            "border": null,
            "bottom": null,
            "display": null,
            "flex": null,
            "flex_flow": null,
            "grid_area": null,
            "grid_auto_columns": null,
            "grid_auto_flow": null,
            "grid_auto_rows": null,
            "grid_column": null,
            "grid_gap": null,
            "grid_row": null,
            "grid_template_areas": null,
            "grid_template_columns": null,
            "grid_template_rows": null,
            "height": null,
            "justify_content": null,
            "justify_items": null,
            "left": null,
            "margin": null,
            "max_height": null,
            "max_width": null,
            "min_height": null,
            "min_width": null,
            "object_fit": null,
            "object_position": null,
            "order": null,
            "overflow": null,
            "overflow_x": null,
            "overflow_y": null,
            "padding": null,
            "right": null,
            "top": null,
            "visibility": null,
            "width": null
          }
        },
        "cab2e9cd81a245559b912b59ec44a70c": {
          "model_module": "@jupyter-widgets/controls",
          "model_module_version": "1.5.0",
          "model_name": "FloatProgressModel",
          "state": {
            "_dom_classes": [],
            "_model_module": "@jupyter-widgets/controls",
            "_model_module_version": "1.5.0",
            "_model_name": "FloatProgressModel",
            "_view_count": null,
            "_view_module": "@jupyter-widgets/controls",
            "_view_module_version": "1.5.0",
            "_view_name": "ProgressView",
            "bar_style": "success",
            "description": "",
            "description_tooltip": null,
            "layout": "IPY_MODEL_4b21a58ef5504baf96a84031ad1fa2b9",
            "max": 500,
            "min": 0,
            "orientation": "horizontal",
            "style": "IPY_MODEL_6bb4d42d72de4914b963626b4b27c655",
            "value": 500
          }
        },
        "db9fc6583ea547ef91696c0404aa7e6b": {
          "model_module": "@jupyter-widgets/controls",
          "model_module_version": "1.5.0",
          "model_name": "DescriptionStyleModel",
          "state": {
            "_model_module": "@jupyter-widgets/controls",
            "_model_module_version": "1.5.0",
            "_model_name": "DescriptionStyleModel",
            "_view_count": null,
            "_view_module": "@jupyter-widgets/base",
            "_view_module_version": "1.2.0",
            "_view_name": "StyleView",
            "description_width": ""
          }
        },
        "ddcbc8af555b4ebf81b519b2b28367f4": {
          "model_module": "@jupyter-widgets/controls",
          "model_module_version": "1.5.0",
          "model_name": "DescriptionStyleModel",
          "state": {
            "_model_module": "@jupyter-widgets/controls",
            "_model_module_version": "1.5.0",
            "_model_name": "DescriptionStyleModel",
            "_view_count": null,
            "_view_module": "@jupyter-widgets/base",
            "_view_module_version": "1.2.0",
            "_view_name": "StyleView",
            "description_width": ""
          }
        },
        "e28b5b0975a944c58e447ccad09c6af0": {
          "model_module": "@jupyter-widgets/base",
          "model_module_version": "1.2.0",
          "model_name": "LayoutModel",
          "state": {
            "_model_module": "@jupyter-widgets/base",
            "_model_module_version": "1.2.0",
            "_model_name": "LayoutModel",
            "_view_count": null,
            "_view_module": "@jupyter-widgets/base",
            "_view_module_version": "1.2.0",
            "_view_name": "LayoutView",
            "align_content": null,
            "align_items": null,
            "align_self": null,
            "border": null,
            "bottom": null,
            "display": null,
            "flex": null,
            "flex_flow": null,
            "grid_area": null,
            "grid_auto_columns": null,
            "grid_auto_flow": null,
            "grid_auto_rows": null,
            "grid_column": null,
            "grid_gap": null,
            "grid_row": null,
            "grid_template_areas": null,
            "grid_template_columns": null,
            "grid_template_rows": null,
            "height": null,
            "justify_content": null,
            "justify_items": null,
            "left": null,
            "margin": null,
            "max_height": null,
            "max_width": null,
            "min_height": null,
            "min_width": null,
            "object_fit": null,
            "object_position": null,
            "order": null,
            "overflow": null,
            "overflow_x": null,
            "overflow_y": null,
            "padding": null,
            "right": null,
            "top": null,
            "visibility": null,
            "width": null
          }
        },
        "e3f9b722eb51401184be3ff560fc59cc": {
          "model_module": "@jupyter-widgets/controls",
          "model_module_version": "1.5.0",
          "model_name": "HBoxModel",
          "state": {
            "_dom_classes": [],
            "_model_module": "@jupyter-widgets/controls",
            "_model_module_version": "1.5.0",
            "_model_name": "HBoxModel",
            "_view_count": null,
            "_view_module": "@jupyter-widgets/controls",
            "_view_module_version": "1.5.0",
            "_view_name": "HBoxView",
            "box_style": "",
            "children": [
              "IPY_MODEL_5fa1b9b0ba794dadaa8d19caa4e2fc37",
              "IPY_MODEL_f1435461a0d2443490944c071f5286a7",
              "IPY_MODEL_eade005381c0480998eba843bb9ab9ed"
            ],
            "layout": "IPY_MODEL_c3b60433f9614c3894ce452bf6ee10c9"
          }
        },
        "e4ed71454ef9407b85c2988190695ce6": {
          "model_module": "@jupyter-widgets/base",
          "model_module_version": "1.2.0",
          "model_name": "LayoutModel",
          "state": {
            "_model_module": "@jupyter-widgets/base",
            "_model_module_version": "1.2.0",
            "_model_name": "LayoutModel",
            "_view_count": null,
            "_view_module": "@jupyter-widgets/base",
            "_view_module_version": "1.2.0",
            "_view_name": "LayoutView",
            "align_content": null,
            "align_items": null,
            "align_self": null,
            "border": null,
            "bottom": null,
            "display": null,
            "flex": null,
            "flex_flow": null,
            "grid_area": null,
            "grid_auto_columns": null,
            "grid_auto_flow": null,
            "grid_auto_rows": null,
            "grid_column": null,
            "grid_gap": null,
            "grid_row": null,
            "grid_template_areas": null,
            "grid_template_columns": null,
            "grid_template_rows": null,
            "height": null,
            "justify_content": null,
            "justify_items": null,
            "left": null,
            "margin": null,
            "max_height": null,
            "max_width": null,
            "min_height": null,
            "min_width": null,
            "object_fit": null,
            "object_position": null,
            "order": null,
            "overflow": null,
            "overflow_x": null,
            "overflow_y": null,
            "padding": null,
            "right": null,
            "top": null,
            "visibility": null,
            "width": null
          }
        },
        "e5393e49828948bdbd0d635250c35511": {
          "model_module": "@jupyter-widgets/base",
          "model_module_version": "1.2.0",
          "model_name": "LayoutModel",
          "state": {
            "_model_module": "@jupyter-widgets/base",
            "_model_module_version": "1.2.0",
            "_model_name": "LayoutModel",
            "_view_count": null,
            "_view_module": "@jupyter-widgets/base",
            "_view_module_version": "1.2.0",
            "_view_name": "LayoutView",
            "align_content": null,
            "align_items": null,
            "align_self": null,
            "border": null,
            "bottom": null,
            "display": null,
            "flex": null,
            "flex_flow": null,
            "grid_area": null,
            "grid_auto_columns": null,
            "grid_auto_flow": null,
            "grid_auto_rows": null,
            "grid_column": null,
            "grid_gap": null,
            "grid_row": null,
            "grid_template_areas": null,
            "grid_template_columns": null,
            "grid_template_rows": null,
            "height": null,
            "justify_content": null,
            "justify_items": null,
            "left": null,
            "margin": null,
            "max_height": null,
            "max_width": null,
            "min_height": null,
            "min_width": null,
            "object_fit": null,
            "object_position": null,
            "order": null,
            "overflow": null,
            "overflow_x": null,
            "overflow_y": null,
            "padding": null,
            "right": null,
            "top": null,
            "visibility": null,
            "width": null
          }
        },
        "e9115d819a964908a0db6cbd4e3a5388": {
          "model_module": "@jupyter-widgets/base",
          "model_module_version": "1.2.0",
          "model_name": "LayoutModel",
          "state": {
            "_model_module": "@jupyter-widgets/base",
            "_model_module_version": "1.2.0",
            "_model_name": "LayoutModel",
            "_view_count": null,
            "_view_module": "@jupyter-widgets/base",
            "_view_module_version": "1.2.0",
            "_view_name": "LayoutView",
            "align_content": null,
            "align_items": null,
            "align_self": null,
            "border": null,
            "bottom": null,
            "display": null,
            "flex": null,
            "flex_flow": null,
            "grid_area": null,
            "grid_auto_columns": null,
            "grid_auto_flow": null,
            "grid_auto_rows": null,
            "grid_column": null,
            "grid_gap": null,
            "grid_row": null,
            "grid_template_areas": null,
            "grid_template_columns": null,
            "grid_template_rows": null,
            "height": null,
            "justify_content": null,
            "justify_items": null,
            "left": null,
            "margin": null,
            "max_height": null,
            "max_width": null,
            "min_height": null,
            "min_width": null,
            "object_fit": null,
            "object_position": null,
            "order": null,
            "overflow": null,
            "overflow_x": null,
            "overflow_y": null,
            "padding": null,
            "right": null,
            "top": null,
            "visibility": null,
            "width": null
          }
        },
        "eade005381c0480998eba843bb9ab9ed": {
          "model_module": "@jupyter-widgets/controls",
          "model_module_version": "1.5.0",
          "model_name": "HTMLModel",
          "state": {
            "_dom_classes": [],
            "_model_module": "@jupyter-widgets/controls",
            "_model_module_version": "1.5.0",
            "_model_name": "HTMLModel",
            "_view_count": null,
            "_view_module": "@jupyter-widgets/controls",
            "_view_module_version": "1.5.0",
            "_view_name": "HTMLView",
            "description": "",
            "description_tooltip": null,
            "layout": "IPY_MODEL_99d7edfb3ab145d48c6241f4354e0e3f",
            "placeholder": "​",
            "style": "IPY_MODEL_db9fc6583ea547ef91696c0404aa7e6b",
            "value": " 900/900 [00:01&lt;00:00, 497.61 examples/s]"
          }
        },
        "ed3234eeffeb4babb8c51b9f13b572db": {
          "model_module": "@jupyter-widgets/controls",
          "model_module_version": "1.5.0",
          "model_name": "HBoxModel",
          "state": {
            "_dom_classes": [],
            "_model_module": "@jupyter-widgets/controls",
            "_model_module_version": "1.5.0",
            "_model_name": "HBoxModel",
            "_view_count": null,
            "_view_module": "@jupyter-widgets/controls",
            "_view_module_version": "1.5.0",
            "_view_name": "HBoxView",
            "box_style": "",
            "children": [
              "IPY_MODEL_a4819109569842b89d85655601b774da",
              "IPY_MODEL_17eed62e0f9941fba0c6790ed4deed31",
              "IPY_MODEL_0c747e152ae5450dbd0c8e5b7eee3be8"
            ],
            "layout": "IPY_MODEL_e4ed71454ef9407b85c2988190695ce6"
          }
        },
        "eddd612ddbcc49c7ba76d952325df4f0": {
          "model_module": "@jupyter-widgets/controls",
          "model_module_version": "1.5.0",
          "model_name": "ProgressStyleModel",
          "state": {
            "_model_module": "@jupyter-widgets/controls",
            "_model_module_version": "1.5.0",
            "_model_name": "ProgressStyleModel",
            "_view_count": null,
            "_view_module": "@jupyter-widgets/base",
            "_view_module_version": "1.2.0",
            "_view_name": "StyleView",
            "bar_color": null,
            "description_width": ""
          }
        },
        "f1435461a0d2443490944c071f5286a7": {
          "model_module": "@jupyter-widgets/controls",
          "model_module_version": "1.5.0",
          "model_name": "FloatProgressModel",
          "state": {
            "_dom_classes": [],
            "_model_module": "@jupyter-widgets/controls",
            "_model_module_version": "1.5.0",
            "_model_name": "FloatProgressModel",
            "_view_count": null,
            "_view_module": "@jupyter-widgets/controls",
            "_view_module_version": "1.5.0",
            "_view_name": "ProgressView",
            "bar_style": "success",
            "description": "",
            "description_tooltip": null,
            "layout": "IPY_MODEL_67ddece93d2f40a7a1a1bf558faed2ac",
            "max": 900,
            "min": 0,
            "orientation": "horizontal",
            "style": "IPY_MODEL_6b5be2a3a52844fabc3b5b558eb76cd1",
            "value": 900
          }
        },
        "f20ca68e8a95427f9e15972e5977476a": {
          "model_module": "@jupyter-widgets/controls",
          "model_module_version": "1.5.0",
          "model_name": "DescriptionStyleModel",
          "state": {
            "_model_module": "@jupyter-widgets/controls",
            "_model_module_version": "1.5.0",
            "_model_name": "DescriptionStyleModel",
            "_view_count": null,
            "_view_module": "@jupyter-widgets/base",
            "_view_module_version": "1.2.0",
            "_view_name": "StyleView",
            "description_width": ""
          }
        },
        "f51bc25c9b1142ab8f54eb82b4e8d8ea": {
          "model_module": "@jupyter-widgets/base",
          "model_module_version": "1.2.0",
          "model_name": "LayoutModel",
          "state": {
            "_model_module": "@jupyter-widgets/base",
            "_model_module_version": "1.2.0",
            "_model_name": "LayoutModel",
            "_view_count": null,
            "_view_module": "@jupyter-widgets/base",
            "_view_module_version": "1.2.0",
            "_view_name": "LayoutView",
            "align_content": null,
            "align_items": null,
            "align_self": null,
            "border": null,
            "bottom": null,
            "display": null,
            "flex": null,
            "flex_flow": null,
            "grid_area": null,
            "grid_auto_columns": null,
            "grid_auto_flow": null,
            "grid_auto_rows": null,
            "grid_column": null,
            "grid_gap": null,
            "grid_row": null,
            "grid_template_areas": null,
            "grid_template_columns": null,
            "grid_template_rows": null,
            "height": null,
            "justify_content": null,
            "justify_items": null,
            "left": null,
            "margin": null,
            "max_height": null,
            "max_width": null,
            "min_height": null,
            "min_width": null,
            "object_fit": null,
            "object_position": null,
            "order": null,
            "overflow": null,
            "overflow_x": null,
            "overflow_y": null,
            "padding": null,
            "right": null,
            "top": null,
            "visibility": null,
            "width": null
          }
        },
        "f8e8501c68a24dee8564f8c368f28de8": {
          "model_module": "@jupyter-widgets/controls",
          "model_module_version": "1.5.0",
          "model_name": "DescriptionStyleModel",
          "state": {
            "_model_module": "@jupyter-widgets/controls",
            "_model_module_version": "1.5.0",
            "_model_name": "DescriptionStyleModel",
            "_view_count": null,
            "_view_module": "@jupyter-widgets/base",
            "_view_module_version": "1.2.0",
            "_view_name": "StyleView",
            "description_width": ""
          }
        },
        "f90ea902669d4f4e86802b55f47530e4": {
          "model_module": "@jupyter-widgets/controls",
          "model_module_version": "1.5.0",
          "model_name": "HTMLModel",
          "state": {
            "_dom_classes": [],
            "_model_module": "@jupyter-widgets/controls",
            "_model_module_version": "1.5.0",
            "_model_name": "HTMLModel",
            "_view_count": null,
            "_view_module": "@jupyter-widgets/controls",
            "_view_module_version": "1.5.0",
            "_view_name": "HTMLView",
            "description": "",
            "description_tooltip": null,
            "layout": "IPY_MODEL_26940a64ecb046bba60aa9af43bd77e6",
            "placeholder": "​",
            "style": "IPY_MODEL_6eec33089a224a3ba1aa371c590e8c0a",
            "value": " 147/147 [00:00&lt;00:00, 10.9kB/s]"
          }
        },
        "fa54aed80f8a4f7dad3615ad003b4967": {
          "model_module": "@jupyter-widgets/controls",
          "model_module_version": "1.5.0",
          "model_name": "HTMLModel",
          "state": {
            "_dom_classes": [],
            "_model_module": "@jupyter-widgets/controls",
            "_model_module_version": "1.5.0",
            "_model_name": "HTMLModel",
            "_view_count": null,
            "_view_module": "@jupyter-widgets/controls",
            "_view_module_version": "1.5.0",
            "_view_name": "HTMLView",
            "description": "",
            "description_tooltip": null,
            "layout": "IPY_MODEL_42b3a497ff364839a50bf40599af734c",
            "placeholder": "​",
            "style": "IPY_MODEL_54267cb75b7444788ed526eddd5d3c27",
            "value": " 792k/792k [00:00&lt;00:00, 9.28MB/s]"
          }
        },
        "fbff42bad7d14a1482bace3887551b29": {
          "model_module": "@jupyter-widgets/controls",
          "model_module_version": "1.5.0",
          "model_name": "HBoxModel",
          "state": {
            "_dom_classes": [],
            "_model_module": "@jupyter-widgets/controls",
            "_model_module_version": "1.5.0",
            "_model_name": "HBoxModel",
            "_view_count": null,
            "_view_module": "@jupyter-widgets/controls",
            "_view_module_version": "1.5.0",
            "_view_name": "HBoxView",
            "box_style": "",
            "children": [
              "IPY_MODEL_021c2918b010474cbc6b8b801e24c363",
              "IPY_MODEL_3406b0305b1d4e20a83bbe34efbf03fa",
              "IPY_MODEL_bde89f9a6da84b9ba09004d03b1716cd"
            ],
            "layout": "IPY_MODEL_f51bc25c9b1142ab8f54eb82b4e8d8ea"
          }
        },
        "fc31ac124ad441b58027e583ff5d44f6": {
          "model_module": "@jupyter-widgets/base",
          "model_module_version": "1.2.0",
          "model_name": "LayoutModel",
          "state": {
            "_model_module": "@jupyter-widgets/base",
            "_model_module_version": "1.2.0",
            "_model_name": "LayoutModel",
            "_view_count": null,
            "_view_module": "@jupyter-widgets/base",
            "_view_module_version": "1.2.0",
            "_view_name": "LayoutView",
            "align_content": null,
            "align_items": null,
            "align_self": null,
            "border": null,
            "bottom": null,
            "display": null,
            "flex": null,
            "flex_flow": null,
            "grid_area": null,
            "grid_auto_columns": null,
            "grid_auto_flow": null,
            "grid_auto_rows": null,
            "grid_column": null,
            "grid_gap": null,
            "grid_row": null,
            "grid_template_areas": null,
            "grid_template_columns": null,
            "grid_template_rows": null,
            "height": null,
            "justify_content": null,
            "justify_items": null,
            "left": null,
            "margin": null,
            "max_height": null,
            "max_width": null,
            "min_height": null,
            "min_width": null,
            "object_fit": null,
            "object_position": null,
            "order": null,
            "overflow": null,
            "overflow_x": null,
            "overflow_y": null,
            "padding": null,
            "right": null,
            "top": null,
            "visibility": null,
            "width": null
          }
        }
      }
    }
  },
  "nbformat": 4,
  "nbformat_minor": 0
}
